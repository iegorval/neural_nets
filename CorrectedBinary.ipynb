{
  "nbformat": 4,
  "nbformat_minor": 0,
  "metadata": {
    "colab": {
      "name": "Untitled0.ipynb",
      "version": "0.3.2",
      "provenance": [],
      "collapsed_sections": [],
      "toc_visible": true
    },
    "kernelspec": {
      "name": "python3",
      "display_name": "Python 3"
    }
  },
  "cells": [
    {
      "cell_type": "markdown",
      "metadata": {
        "id": "view-in-github",
        "colab_type": "text"
      },
      "source": [
        "[View in Colaboratory](https://colab.research.google.com/github/iegorval/neural_nets/blob/master/CorrectedBinary.ipynb)"
      ]
    },
    {
      "metadata": {
        "id": "oV2qqlq5QmNd",
        "colab_type": "text"
      },
      "cell_type": "markdown",
      "source": [
        "# Getting Ready\n",
        "Prepare the files and the libraries for the experiment."
      ]
    },
    {
      "metadata": {
        "id": "aWQrp_kPQop9",
        "colab_type": "code",
        "colab": {
          "base_uri": "https://localhost:8080/",
          "height": 17
        },
        "outputId": "28e7905c-4888-4b41-abdd-fd4f62a6bb70"
      },
      "cell_type": "code",
      "source": [
        "# Installs\n",
        "!pip install -U -q PyDrive"
      ],
      "execution_count": 37,
      "outputs": []
    },
    {
      "metadata": {
        "id": "FAQQdDA9UBDj",
        "colab_type": "code",
        "colab": {
          "base_uri": "https://localhost:8080/",
          "height": 17
        },
        "outputId": "7ec920ff-0ff3-4942-9361-f41fa58a6969"
      },
      "cell_type": "code",
      "source": [
        "# Imports\n",
        "from pydrive.auth import GoogleAuth\n",
        "from pydrive.drive import GoogleDrive\n",
        "from google.colab import auth\n",
        "from oauth2client.client import GoogleCredentials\n",
        "import numpy as np \n",
        "import pandas as pd\n",
        "import matplotlib.pyplot as plt\n",
        "from keras.layers import LSTM, Input, Activation, Dense, TimeDistributed, Dropout, BatchNormalization\n",
        "from keras.models import Sequential\n",
        "from keras import optimizers\n",
        "from keras.callbacks import Callback, LearningRateScheduler\n",
        "import keras.backend as K\n",
        "import keras.utils as utils\n",
        "from sklearn.metrics import confusion_matrix, f1_score, precision_score, recall_score\n",
        "import re\n",
        "from io import StringIO\n",
        "from math import exp"
      ],
      "execution_count": 38,
      "outputs": []
    },
    {
      "metadata": {
        "id": "3hcA5ujlQsX7",
        "colab_type": "code",
        "colab": {
          "base_uri": "https://localhost:8080/",
          "height": 17
        },
        "outputId": "4dc293fd-e96e-4eaf-de1e-7821620bc7db"
      },
      "cell_type": "code",
      "source": [
        "# PyDrive client\n",
        "auth.authenticate_user()\n",
        "gauth = GoogleAuth()\n",
        "gauth.credentials = GoogleCredentials.get_application_default()\n",
        "drive = GoogleDrive(gauth)\n",
        "# Get all files from the root folder\n",
        "file_list = drive.ListFile({'q': \"'root' in parents and trashed=false\"}).GetList()"
      ],
      "execution_count": 39,
      "outputs": []
    },
    {
      "metadata": {
        "id": "g6sjBvHZcFKB",
        "colab_type": "code",
        "colab": {
          "base_uri": "https://localhost:8080/",
          "height": 17
        },
        "outputId": "d98e8a1a-4b1f-4b2a-8f94-7c40df697415"
      },
      "cell_type": "code",
      "source": [
        "# Get the .pow files \n",
        "pow_files = [(file['title'], file['id'], re.sub(r'_[0-9]+|.pow', '', file['title'])) \n",
        "             for file in file_list if file['title'].find('.pow')>0]\n",
        "num_examples = len(pow_files)\n",
        "# Get the categories\n",
        "categories = list(set([file_info[2] for file_info in pow_files]))\n",
        "# Get the dictionary of the categories\n",
        "num_cat = len(categories)\n",
        "categories_dict = {categories[i] : i for i in range(num_cat)}"
      ],
      "execution_count": 40,
      "outputs": []
    },
    {
      "metadata": {
        "id": "_086i_ixmHis",
        "colab_type": "code",
        "colab": {
          "base_uri": "https://localhost:8080/",
          "height": 34
        },
        "outputId": "d8b199e8-32bf-4ae3-bba9-675030c17e22"
      },
      "cell_type": "code",
      "source": [
        "print(categories_dict)"
      ],
      "execution_count": 41,
      "outputs": [
        {
          "output_type": "stream",
          "text": [
            "{'flat': 0, 'black_rough': 1, 'grass_flat': 2, 'grass_rough': 3, 'black_flat': 4, 'cubes': 5}\n"
          ],
          "name": "stdout"
        }
      ]
    },
    {
      "metadata": {
        "id": "gAXuechYyXpq",
        "colab_type": "text"
      },
      "cell_type": "markdown",
      "source": [
        "# Utils\n",
        "Helper functions."
      ]
    },
    {
      "metadata": {
        "id": "wJwNdX5UyT1a",
        "colab_type": "code",
        "colab": {
          "base_uri": "https://localhost:8080/",
          "height": 17
        },
        "outputId": "e247d827-1fe1-406b-e307-52d196e716e8"
      },
      "cell_type": "code",
      "source": [
        "def to_one_hot(category):\n",
        "  assert category < num_cat\n",
        "  one_hot = np.zeros((num_cat))\n",
        "  one_hot[category] = 1\n",
        "  return one_hot"
      ],
      "execution_count": 42,
      "outputs": []
    },
    {
      "metadata": {
        "id": "TVWW1kVnMNxP",
        "colab_type": "code",
        "colab": {
          "base_uri": "https://localhost:8080/",
          "height": 17
        },
        "outputId": "b427d5f3-c4c9-47a7-f2b5-e250e865ffa3"
      },
      "cell_type": "code",
      "source": [
        "def from_one_hot(one_hot):\n",
        "  for i in range(len(one_hot)):\n",
        "    if one_hot[i]==1:\n",
        "      return i"
      ],
      "execution_count": 43,
      "outputs": []
    },
    {
      "metadata": {
        "id": "0bfZo4MevEmv",
        "colab_type": "text"
      },
      "cell_type": "markdown",
      "source": [
        "# Model\n",
        "Recurrent Neural Network model in Keras."
      ]
    },
    {
      "metadata": {
        "id": "HAbg2Knco78O",
        "colab_type": "code",
        "colab": {
          "base_uri": "https://localhost:8080/",
          "height": 17
        },
        "outputId": "1a08795c-6cc6-4163-9249-4591d6f021c1"
      },
      "cell_type": "code",
      "source": [
        "def get_model1():\n",
        "  model = Sequential()\n",
        "  model.add(LSTM(32, return_sequences=False, input_shape=(max_length//skip,1)))\n",
        "  model.add(Dense(1))\n",
        "  model.add(Activation(\"sigmoid\"))\n",
        "  return model"
      ],
      "execution_count": 44,
      "outputs": []
    },
    {
      "metadata": {
        "id": "ETEc6ZwlugeT",
        "colab_type": "code",
        "colab": {
          "base_uri": "https://localhost:8080/",
          "height": 17
        },
        "outputId": "e0bf639b-860c-4c9d-8ae5-321df5f9ccf5"
      },
      "cell_type": "code",
      "source": [
        "def get_model2():\n",
        "  model = Sequential()\n",
        "  model.add(LSTM(64, return_sequences=False, input_shape=(max_length//skip,1)))\n",
        "  model.add(Dense(1))\n",
        "  model.add(Activation(\"sigmoid\"))\n",
        "  return model"
      ],
      "execution_count": 45,
      "outputs": []
    },
    {
      "metadata": {
        "id": "TX8OhAfWuglM",
        "colab_type": "code",
        "colab": {
          "base_uri": "https://localhost:8080/",
          "height": 17
        },
        "outputId": "5938bc4f-6e53-49de-b9c4-d5eb200f6d8a"
      },
      "cell_type": "code",
      "source": [
        "def get_model3():\n",
        "  model = Sequential()\n",
        "  model.add(LSTM(32, return_sequences=True, input_shape=(max_length//skip,1)))\n",
        "  model.add(LSTM(32))\n",
        "  model.add(Dense(1))\n",
        "  model.add(Activation(\"sigmoid\"))\n",
        "  return model"
      ],
      "execution_count": 46,
      "outputs": []
    },
    {
      "metadata": {
        "id": "ZO6Ro7NEugv2",
        "colab_type": "code",
        "colab": {
          "base_uri": "https://localhost:8080/",
          "height": 17
        },
        "outputId": "ff40666e-25af-4d92-da45-679189ca4342"
      },
      "cell_type": "code",
      "source": [
        "def get_model4():\n",
        "  model = Sequential()\n",
        "  model.add(LSTM(64, return_sequences=True, input_shape=(max_length//skip,1)))\n",
        "  model.add(LSTM(64))\n",
        "  model.add(Dense(1))\n",
        "  model.add(Activation(\"sigmoid\"))\n",
        "  return model"
      ],
      "execution_count": 47,
      "outputs": []
    },
    {
      "metadata": {
        "id": "JGeRV_NguhES",
        "colab_type": "code",
        "colab": {
          "base_uri": "https://localhost:8080/",
          "height": 17
        },
        "outputId": "31fc8082-2937-41d3-fd31-d4c16e285985"
      },
      "cell_type": "code",
      "source": [
        "def get_model5():\n",
        "  model = Sequential()\n",
        "  model.add(LSTM(32, return_sequences=True, input_shape=(max_length//skip,1)))\n",
        "  model.add(Dropout(0.4))\n",
        "  model.add(LSTM(32))\n",
        "  model.add(Dropout(0.4))\n",
        "  model.add(Dense(1))\n",
        "  model.add(Activation(\"sigmoid\"))\n",
        "  return model"
      ],
      "execution_count": 48,
      "outputs": []
    },
    {
      "metadata": {
        "id": "w_uNZHWduhJL",
        "colab_type": "code",
        "colab": {
          "base_uri": "https://localhost:8080/",
          "height": 17
        },
        "outputId": "48280ca3-a0f3-4449-84b8-19d9243264f5"
      },
      "cell_type": "code",
      "source": [
        "def get_model6():\n",
        "  model = Sequential()\n",
        "  model.add(LSTM(64, return_sequences=True, input_shape=(max_length//skip,1)))\n",
        "  model.add(Dropout(0.4))\n",
        "  model.add(LSTM(64))\n",
        "  model.add(Dropout(0.4))\n",
        "  model.add(Dense(1))\n",
        "  model.add(Activation(\"sigmoid\"))\n",
        "  return model"
      ],
      "execution_count": 49,
      "outputs": []
    },
    {
      "metadata": {
        "id": "xzVxrl55U4dR",
        "colab_type": "text"
      },
      "cell_type": "markdown",
      "source": [
        "# Data\n",
        "Preprocess the data: combine all the examples together and introduce padding where necessary. Split the longest time series in the several smaller ones."
      ]
    },
    {
      "metadata": {
        "id": "p9cw30IWh8yK",
        "colab_type": "code",
        "colab": {}
      },
      "cell_type": "code",
      "source": [
        "# Make a list of dataframes along with their corresponding classes\n",
        "list_df = list()\n",
        "for pow_file in pow_files:\n",
        "  if pow_file[0].find('cubes')==0 or pow_file[0].find('flat')==0:\n",
        "    f = drive.CreateFile({'id': pow_file[1]})\n",
        "    content = f.GetContentString()\n",
        "    dataIO = StringIO(content)\n",
        "    df = pd.read_csv(dataIO, header=None, sep=' ')\n",
        "    list_df.append((df, to_one_hot(categories_dict[pow_file[2]])))"
      ],
      "execution_count": 0,
      "outputs": []
    },
    {
      "metadata": {
        "id": "Zu3byejeB032",
        "colab_type": "code",
        "colab": {
          "base_uri": "https://localhost:8080/",
          "height": 17
        },
        "outputId": "7e2dc9c6-5d0d-4379-9f75-3ee3f48ae6db"
      },
      "cell_type": "code",
      "source": [
        "# Make a list of dataframes along with their corresponding classes\n",
        "list_df = list()\n",
        "for pow_file in pow_files:\n",
        "  if pow_file[0].find('black_rough')==0 or pow_file[0].find('grass_rough')==0 \\\n",
        "     or pow_file[0].find('black_flat')==0 or pow_file[0].find('grass_flat')==0:\n",
        "    f = drive.CreateFile({'id': pow_file[1]})\n",
        "    content = f.GetContentString()\n",
        "    dataIO = StringIO(content)\n",
        "    df = pd.read_csv(dataIO, header=None, sep=' ')\n",
        "    list_df.append((df, to_one_hot(categories_dict[pow_file[2]])))"
      ],
      "execution_count": 50,
      "outputs": []
    },
    {
      "metadata": {
        "id": "0JxLBoY_i4li",
        "colab_type": "code",
        "colab": {
          "base_uri": "https://localhost:8080/",
          "height": 17
        },
        "outputId": "6fc26b42-c88f-4a3a-f0db-f904c3ab8622"
      },
      "cell_type": "code",
      "source": [
        "# Split the biggest examples into separate sequences\n",
        "max_length = 100\n",
        "long_dfs = [i for i in range(len(list_df)) if list_df[i][0].shape[0] > max_length]\n",
        "list_df_cut = list(list_df)\n",
        "max_examples = 3000\n",
        "examples_categories = {0: 0, 1: 0, 2: 0, 3: 0, 4: 0, 5: 0}\n",
        "for i in reversed(long_dfs):\n",
        "  df = list_df_cut[i][0]\n",
        "  category = from_one_hot(list_df_cut[i][1])\n",
        "  for g, split_df in df.groupby(np.arange(len(df)) // max_length):\n",
        "    if examples_categories[category] < max_examples:\n",
        "      list_df_cut.append((split_df, list_df[i][1]))\n",
        "      examples_categories[category] += 1\n",
        "  del list_df_cut[i]"
      ],
      "execution_count": 51,
      "outputs": []
    },
    {
      "metadata": {
        "id": "bYxHpRWoJ7eU",
        "colab_type": "code",
        "colab": {
          "base_uri": "https://localhost:8080/",
          "height": 51
        },
        "outputId": "ea774143-e7d6-44d5-9c17-21ebeae32ac1"
      },
      "cell_type": "code",
      "source": [
        "print(examples_categories)\n",
        "print(categories_dict)"
      ],
      "execution_count": 52,
      "outputs": [
        {
          "output_type": "stream",
          "text": [
            "{0: 0, 1: 215, 2: 179, 3: 161, 4: 112, 5: 0}\n",
            "{'flat': 0, 'black_rough': 1, 'grass_flat': 2, 'grass_rough': 3, 'black_flat': 4, 'cubes': 5}\n"
          ],
          "name": "stdout"
        }
      ]
    },
    {
      "metadata": {
        "id": "y1T3HWkIm1lw",
        "colab_type": "code",
        "colab": {
          "base_uri": "https://localhost:8080/",
          "height": 17
        },
        "outputId": "69fda688-fc5e-46d9-a4d8-48d8c0e6f6d9"
      },
      "cell_type": "code",
      "source": [
        "# Get only the measurements for current\n",
        "currents_list = [(np.transpose(np.array(df_cut[0][[2]])), df_cut[1]) for df_cut in list_df_cut]\n",
        "currents_long = [(np.transpose(currents[0]), currents[1]) for currents in currents_list if currents[0].shape[1]>=max_length]\n",
        "currents_no_labels = [currents[0] for currents in currents_long]"
      ],
      "execution_count": 53,
      "outputs": []
    },
    {
      "metadata": {
        "id": "l1tC1WDSjQw8",
        "colab_type": "code",
        "colab": {
          "base_uri": "https://localhost:8080/",
          "height": 367
        },
        "outputId": "9915a51e-5459-432c-d005-51c2a7296a68"
      },
      "cell_type": "code",
      "source": [
        "plt.plot(currents_no_labels[0])"
      ],
      "execution_count": 54,
      "outputs": [
        {
          "output_type": "execute_result",
          "data": {
            "text/plain": [
              "[<matplotlib.lines.Line2D at 0x7fa4db3404e0>]"
            ]
          },
          "metadata": {
            "tags": []
          },
          "execution_count": 54
        },
        {
          "output_type": "display_data",
          "data": {
            "image/png": "[encoded data removed]",
            "text/plain": [
              "<matplotlib.figure.Figure at 0x7fa4db4e4198>"
            ]
          },
          "metadata": {
            "tags": []
          }
        }
      ]
    },
    {
      "metadata": {
        "id": "fDc3SUp6BPE8",
        "colab_type": "code",
        "colab": {
          "base_uri": "https://localhost:8080/",
          "height": 17
        },
        "outputId": "e21d6aac-b026-47d5-d591-932b1d8607ec"
      },
      "cell_type": "code",
      "source": [
        "# Skip some timesteps\n",
        "skip = 1\n",
        "currents_skip = list()\n",
        "for currents in currents_no_labels:\n",
        "  currents_skip.append(list())\n",
        "  i = 0\n",
        "  while True:\n",
        "    currents_skip[-1].append(currents[i])\n",
        "    i += skip\n",
        "    if i >= len(currents):\n",
        "      break"
      ],
      "execution_count": 55,
      "outputs": []
    },
    {
      "metadata": {
        "id": "b2pEzVQUESSD",
        "colab_type": "code",
        "colab": {
          "base_uri": "https://localhost:8080/",
          "height": 17
        },
        "outputId": "5b775e6d-0b90-4e07-a79e-9cf35d7b0131"
      },
      "cell_type": "code",
      "source": [
        "# Get training data into a numpy matrix\n",
        "full_x = np.stack(currents_skip, axis=0)\n",
        "# Get training labels\n",
        "full_y = np.array([currents[1] for currents in currents_long])"
      ],
      "execution_count": 56,
      "outputs": []
    },
    {
      "metadata": {
        "id": "z9wkogVMkNAC",
        "colab_type": "code",
        "colab": {
          "base_uri": "https://localhost:8080/",
          "height": 17
        },
        "outputId": "e04f6f9e-dc64-4945-be2f-dc6754ef2a5f"
      },
      "cell_type": "code",
      "source": [
        "def unison_shuffled_copies(a, b):\n",
        "    assert len(a) == len(b)\n",
        "    p = np.random.permutation(len(a))\n",
        "    return a[p], b[p]"
      ],
      "execution_count": 57,
      "outputs": []
    },
    {
      "metadata": {
        "id": "LtScJnfC9ZSc",
        "colab_type": "code",
        "colab": {
          "base_uri": "https://localhost:8080/",
          "height": 17
        },
        "outputId": "11335531-d730-4ac9-c82d-8a760f46a87a"
      },
      "cell_type": "code",
      "source": [
        "#full_x_norm = utils.normalize(full_x, axis=0, order=2)\n",
        "x_shuffled, y_shuffled = unison_shuffled_copies(full_x, full_y)"
      ],
      "execution_count": 59,
      "outputs": []
    },
    {
      "metadata": {
        "id": "RmBb4NRqkoXq",
        "colab_type": "code",
        "colab": {
          "base_uri": "https://localhost:8080/",
          "height": 17
        },
        "outputId": "1f678da1-36a4-4107-ed2b-b83371bffd41"
      },
      "cell_type": "code",
      "source": [
        "full_y_labels = [from_one_hot(one_hot) for one_hot in y_shuffled]\n",
        "full_y_binary = [0 if label==categories_dict['black_flat'] or label==categories_dict['black_rough'] else 1 for label in full_y_labels]"
      ],
      "execution_count": 60,
      "outputs": []
    },
    {
      "metadata": {
        "id": "fMtv_wL5k7aw",
        "colab_type": "code",
        "colab": {
          "base_uri": "https://localhost:8080/",
          "height": 54
        },
        "outputId": "9d6ec250-85a8-42d1-957b-34037d39ef97"
      },
      "cell_type": "code",
      "source": [
        "print(full_y_binary)"
      ],
      "execution_count": 61,
      "outputs": [
        {
          "output_type": "stream",
          "text": [
            "[0, 0, 0, 1, 1, 0, 0, 0, 1, 1, 0, 0, 0, 0, 0, 1, 0, 0, 1, 1, 1, 1, 0, 1, 1, 1, 0, 0, 0, 1, 0, 0, 1, 1, 1, 1, 0, 1, 0, 1, 0, 0, 0, 0, 1, 1, 0, 0, 1, 1, 0, 0, 0, 0, 0, 0, 1, 1, 1, 1, 1, 1, 1, 0, 1, 1, 1, 1, 0, 0, 0, 0, 1, 1, 0, 1, 1, 0, 0, 1, 1, 1, 1, 1, 1, 0, 1, 0, 1, 1, 0, 1, 1, 0, 0, 1, 0, 0, 0, 0, 0, 0, 1, 1, 0, 1, 1, 1, 1, 1, 1, 0, 0, 1, 0, 1, 0, 1, 0, 1, 0, 1, 0, 0, 0, 1, 1, 1, 1, 1, 0, 0, 1, 0, 0, 1, 1, 1, 0, 0, 0, 0, 0, 1, 1, 0, 1, 0, 1, 0, 0, 0, 1, 0, 0, 0, 1, 0, 1, 0, 0, 1, 0, 0, 1, 1, 0, 1, 1, 1, 1, 1, 1, 1, 1, 0, 0, 0, 1, 1, 0, 0, 1, 0, 1, 1, 0, 1, 0, 1, 1, 1, 0, 0, 1, 0, 1, 0, 1, 0, 0, 0, 1, 1, 0, 0, 0, 0, 1, 1, 1, 0, 0, 0, 0, 1, 1, 1, 1, 0, 1, 1, 0, 0, 0, 1, 1, 1, 1, 0, 0, 0, 1, 0, 1, 0, 0, 0, 0, 1, 0, 1, 1, 1, 1, 0, 0, 0, 0, 1, 0, 1, 0, 0, 0, 0, 0, 1, 0, 1, 1, 1, 1, 0, 1, 1, 1, 1, 0, 1, 0, 1, 1, 0, 1, 1, 0, 0, 1, 0, 1, 1, 0, 0, 0, 1, 0, 1, 0, 1, 0, 1, 0, 0, 0, 1, 0, 0, 1, 1, 1, 1, 0, 1, 0, 0, 0, 1, 1, 1, 1, 1, 0, 1, 1, 0, 0, 1, 1, 0, 1, 0, 0, 1, 0, 1, 1, 1, 0, 1, 0, 1, 1, 0, 0, 0, 1, 1, 1, 0, 1, 1, 0, 0, 0, 1, 0, 0, 1, 0, 1, 0, 1, 1, 1, 1, 1, 1, 0, 0, 0, 0, 1, 0, 0, 1, 0, 1, 1, 0, 0, 0, 1, 0, 1, 1, 0, 0, 1, 0, 1, 1, 1, 0, 1, 1, 1, 0, 1, 1, 1, 0, 1, 0, 0, 0, 1, 1, 0, 1, 0, 1, 1, 1, 0, 1, 1, 1, 0, 0, 0, 1, 0, 0, 1, 0, 1, 1, 1, 1, 1, 0, 0, 0, 1, 1, 1, 1, 1, 0, 0, 1, 1, 0, 0, 1, 0, 1, 0, 1, 0, 0, 1, 0, 0, 1, 0, 1, 0, 0, 1, 0, 0, 0, 0, 0, 0, 0, 1, 1, 1, 0, 0, 1, 0, 0, 1, 0, 1, 0, 0, 0, 0, 0, 0, 1, 1, 1, 0, 1, 0, 0, 0, 1, 0, 1, 1, 1, 0, 0, 1, 0, 1, 1, 0, 1, 0, 1, 1, 1, 1, 0, 0, 0, 0, 0, 1, 1, 1, 1, 1, 0, 1, 1, 1, 0, 1, 0, 1, 0, 1, 0, 1, 0, 1, 0, 1, 0, 1, 1, 0, 1, 1, 0, 0, 0, 0, 1, 1, 1, 0, 1, 0, 1, 1, 0, 1, 0, 0, 1, 0, 0, 1, 1, 0, 0, 0, 1, 0, 1, 1, 1, 0, 1, 0, 0, 1, 1, 0, 1, 1, 1, 1, 0, 1, 1, 0, 0, 1, 1, 1, 1, 0, 1, 0, 1, 0, 1, 1, 1, 0, 1, 1, 0, 0, 0, 1, 0, 0, 0, 0, 0, 0, 1, 0, 1, 0, 0, 0, 0, 0, 1, 1, 1, 1, 0, 0, 0, 0, 0, 0, 1, 1, 1, 1, 1, 0, 0, 1, 1, 1, 1, 0, 1, 0, 0, 0, 0, 1, 1, 1, 0, 0, 1, 0, 0, 1, 1, 1, 1, 0, 1, 1, 0, 0]\n"
          ],
          "name": "stdout"
        }
      ]
    },
    {
      "metadata": {
        "id": "fin_NKQqvZNc",
        "colab_type": "code",
        "colab": {
          "base_uri": "https://localhost:8080/",
          "height": 364
        },
        "outputId": "e6ed0b71-3785-41dc-84b0-cf78d324f329"
      },
      "cell_type": "code",
      "source": [
        "# Training set\n",
        "train_x = x_shuffled[100:]\n",
        "train_y = full_y_binary[100:]\n",
        "# Test set\n",
        "test_x = x_shuffled[:100]\n",
        "test_y = full_y_binary[:100]\n",
        "\n",
        "plt.plot(x_shuffled[1])\n",
        "print(full_y[1])"
      ],
      "execution_count": 63,
      "outputs": [
        {
          "output_type": "stream",
          "text": [
            "[0. 0. 0. 0. 1. 0.]\n"
          ],
          "name": "stdout"
        },
        {
          "output_type": "display_data",
          "data": {
            "image/png": "[encoded data removed]",
            "text/plain": [
              "<matplotlib.figure.Figure at 0x7fa4db2af908>"
            ]
          },
          "metadata": {
            "tags": []
          }
        }
      ]
    },
    {
      "metadata": {
        "id": "K9kyzpWhMrSc",
        "colab_type": "text"
      },
      "cell_type": "markdown",
      "source": [
        "# Experiment"
      ]
    },
    {
      "metadata": {
        "id": "18uzH69xywMu",
        "colab_type": "code",
        "colab": {
          "base_uri": "https://localhost:8080/",
          "height": 238
        },
        "outputId": "14eb7d66-3594-4a10-f769-7e6698359169"
      },
      "cell_type": "code",
      "source": [
        "model = get_model1()\n",
        "model.summary()"
      ],
      "execution_count": 64,
      "outputs": [
        {
          "output_type": "stream",
          "text": [
            "_________________________________________________________________\n",
            "Layer (type)                 Output Shape              Param #   \n",
            "=================================================================\n",
            "lstm_4 (LSTM)                (None, 32)                4352      \n",
            "_________________________________________________________________\n",
            "dense_3 (Dense)              (None, 1)                 33        \n",
            "_________________________________________________________________\n",
            "activation_3 (Activation)    (None, 1)                 0         \n",
            "=================================================================\n",
            "Total params: 4,385\n",
            "Trainable params: 4,385\n",
            "Non-trainable params: 0\n",
            "_________________________________________________________________\n"
          ],
          "name": "stdout"
        }
      ]
    },
    {
      "metadata": {
        "id": "TKD8VQKCGjZl",
        "colab_type": "code",
        "colab": {
          "base_uri": "https://localhost:8080/",
          "height": 17
        },
        "outputId": "7f842507-6c34-4eb6-eacf-1046c1969070"
      },
      "cell_type": "code",
      "source": [
        "adam = optimizers.Adam(lr=0.001, beta_1=0.9, beta_2=0.999, epsilon=None, decay=0.0, amsgrad=False)\n",
        "rmsprop = optimizers.RMSprop(lr=0.001, rho=0.9, epsilon=None, decay=0.0)"
      ],
      "execution_count": 65,
      "outputs": []
    },
    {
      "metadata": {
        "id": "15eOf5H9MH79",
        "colab_type": "code",
        "colab": {
          "base_uri": "https://localhost:8080/",
          "height": 17
        },
        "outputId": "eda532c1-f353-49d8-d844-f30de9ab1832"
      },
      "cell_type": "code",
      "source": [
        "def exp_decay(epoch):\n",
        "    initial_lrate = 0.01\n",
        "    k = 0.1\n",
        "    lrate = initial_lrate * exp(-k*epoch)\n",
        "    return lrate\n",
        "lrate = LearningRateScheduler(exp_decay)\n",
        "callbacks_list = [lrate]"
      ],
      "execution_count": 66,
      "outputs": []
    },
    {
      "metadata": {
        "id": "XqQqwuwKuDzs",
        "colab_type": "code",
        "colab": {
          "base_uri": "https://localhost:8080/",
          "height": 17
        },
        "outputId": "702ad132-5492-4069-a928-ea9cbf8e2078"
      },
      "cell_type": "code",
      "source": [
        "model.compile(loss='binary_crossentropy', optimizer=rmsprop, metrics=['accuracy'])"
      ],
      "execution_count": 67,
      "outputs": []
    },
    {
      "metadata": {
        "id": "cKnrvOYa8h8G",
        "colab_type": "code",
        "colab": {
          "base_uri": "https://localhost:8080/",
          "height": 1771
        },
        "outputId": "0e797530-788d-4f9f-b65e-5fef3ad038a1"
      },
      "cell_type": "code",
      "source": [
        "history = model.fit(train_x, train_y, epochs=500, batch_size=16, shuffle=True)"
      ],
      "execution_count": 0,
      "outputs": [
        {
          "output_type": "stream",
          "text": [
            "Epoch 1/500\n",
            "555/555 [==============================] - 2s 4ms/step - loss: 0.6959 - acc: 0.4955\n",
            "Epoch 2/500\n",
            "555/555 [==============================] - 2s 4ms/step - loss: 0.6941 - acc: 0.4901\n",
            "Epoch 3/500\n",
            "555/555 [==============================] - 2s 3ms/step - loss: 0.6919 - acc: 0.5261\n",
            "Epoch 4/500\n",
            "555/555 [==============================] - 2s 3ms/step - loss: 0.6916 - acc: 0.5081\n",
            "Epoch 5/500\n",
            "555/555 [==============================] - 2s 3ms/step - loss: 0.6903 - acc: 0.5351\n",
            "Epoch 6/500\n",
            "555/555 [==============================] - 2s 3ms/step - loss: 0.6892 - acc: 0.5369\n",
            "Epoch 7/500\n",
            "555/555 [==============================] - 2s 3ms/step - loss: 0.6864 - acc: 0.5676\n",
            "Epoch 8/500\n",
            "128/555 [=====>........................] - ETA: 1s - loss: 0.6847 - acc: 0.5547"
          ],
          "name": "stdout"
        },
        {
          "output_type": "stream",
          "text": [
            "555/555 [==============================] - 2s 3ms/step - loss: 0.6715 - acc: 0.6036\n",
            "Epoch 9/500\n",
            "555/555 [==============================] - 2s 3ms/step - loss: 0.6651 - acc: 0.6090\n",
            "Epoch 10/500\n",
            "555/555 [==============================] - 2s 3ms/step - loss: 0.6547 - acc: 0.6450\n",
            "Epoch 11/500\n",
            "555/555 [==============================] - 2s 3ms/step - loss: 0.6544 - acc: 0.6342\n",
            "Epoch 12/500\n",
            "555/555 [==============================] - 2s 3ms/step - loss: 0.6574 - acc: 0.6126\n",
            "Epoch 13/500\n",
            "555/555 [==============================] - 2s 4ms/step - loss: 0.6589 - acc: 0.6198\n",
            "Epoch 14/500\n",
            "555/555 [==============================] - 2s 4ms/step - loss: 0.6536 - acc: 0.6306\n",
            "Epoch 15/500\n",
            "192/555 [=========>....................] - ETA: 1s - loss: 0.6527 - acc: 0.6198"
          ],
          "name": "stdout"
        },
        {
          "output_type": "stream",
          "text": [
            "555/555 [==============================] - 2s 3ms/step - loss: 0.6515 - acc: 0.6270\n",
            "Epoch 16/500\n",
            "555/555 [==============================] - 2s 4ms/step - loss: 0.6563 - acc: 0.6324\n",
            "Epoch 17/500\n",
            "555/555 [==============================] - 2s 3ms/step - loss: 0.6514 - acc: 0.6396\n",
            "Epoch 18/500\n",
            "555/555 [==============================] - 2s 3ms/step - loss: 0.6502 - acc: 0.6414\n",
            "Epoch 19/500\n",
            "555/555 [==============================] - 2s 4ms/step - loss: 0.6488 - acc: 0.6414\n",
            "Epoch 20/500\n",
            "555/555 [==============================] - 2s 3ms/step - loss: 0.6483 - acc: 0.6577\n",
            "Epoch 21/500\n",
            "555/555 [==============================] - 2s 3ms/step - loss: 0.6475 - acc: 0.6432\n",
            "Epoch 22/500\n",
            "224/555 [===========>..................] - ETA: 1s - loss: 0.6125 - acc: 0.6920"
          ],
          "name": "stdout"
        },
        {
          "output_type": "stream",
          "text": [
            "555/555 [==============================] - 2s 3ms/step - loss: 0.6420 - acc: 0.6468\n",
            "Epoch 23/500\n",
            "555/555 [==============================] - 2s 3ms/step - loss: 0.6413 - acc: 0.6450\n",
            "Epoch 24/500\n",
            "555/555 [==============================] - 2s 3ms/step - loss: 0.6514 - acc: 0.6378\n",
            "Epoch 25/500\n",
            "555/555 [==============================] - 2s 3ms/step - loss: 0.6350 - acc: 0.6595\n",
            "Epoch 26/500\n",
            "555/555 [==============================] - 2s 3ms/step - loss: 0.6415 - acc: 0.6523\n",
            "Epoch 27/500\n",
            "555/555 [==============================] - 2s 3ms/step - loss: 0.6414 - acc: 0.6631\n",
            "Epoch 28/500\n",
            "555/555 [==============================] - 2s 3ms/step - loss: 0.6459 - acc: 0.6306\n",
            "Epoch 29/500\n",
            "192/555 [=========>....................] - ETA: 1s - loss: 0.6424 - acc: 0.6510"
          ],
          "name": "stdout"
        },
        {
          "output_type": "stream",
          "text": [
            "555/555 [==============================] - 2s 3ms/step - loss: 0.6396 - acc: 0.6541\n",
            "Epoch 30/500\n",
            "555/555 [==============================] - 2s 3ms/step - loss: 0.6359 - acc: 0.6685\n",
            "Epoch 31/500\n",
            "555/555 [==============================] - 2s 3ms/step - loss: 0.6402 - acc: 0.6450\n",
            "Epoch 32/500\n",
            "555/555 [==============================] - 2s 3ms/step - loss: 0.6306 - acc: 0.6703\n",
            "Epoch 33/500\n",
            "555/555 [==============================] - 2s 3ms/step - loss: 0.6444 - acc: 0.6486\n",
            "Epoch 34/500\n",
            "555/555 [==============================] - 2s 3ms/step - loss: 0.6265 - acc: 0.6685\n",
            "Epoch 35/500\n",
            "555/555 [==============================] - 2s 3ms/step - loss: 0.6477 - acc: 0.6414\n",
            "Epoch 36/500\n",
            "192/555 [=========>....................] - ETA: 1s - loss: 0.6305 - acc: 0.6458"
          ],
          "name": "stdout"
        },
        {
          "output_type": "stream",
          "text": [
            "555/555 [==============================] - 2s 3ms/step - loss: 0.6300 - acc: 0.6649\n",
            "Epoch 37/500\n",
            "555/555 [==============================] - 2s 3ms/step - loss: 0.6320 - acc: 0.6541\n",
            "Epoch 38/500\n",
            "555/555 [==============================] - 2s 3ms/step - loss: 0.6340 - acc: 0.6559\n",
            "Epoch 39/500\n",
            "555/555 [==============================] - 2s 3ms/step - loss: 0.6284 - acc: 0.6667\n",
            "Epoch 40/500\n",
            "555/555 [==============================] - 2s 4ms/step - loss: 0.6318 - acc: 0.6703\n",
            "Epoch 41/500\n",
            "555/555 [==============================] - 2s 3ms/step - loss: 0.6473 - acc: 0.6468\n",
            "Epoch 42/500\n",
            "555/555 [==============================] - 2s 3ms/step - loss: 0.6599 - acc: 0.6505\n",
            "Epoch 43/500\n",
            "160/555 [=======>......................] - ETA: 1s - loss: 0.6280 - acc: 0.6500"
          ],
          "name": "stdout"
        },
        {
          "output_type": "stream",
          "text": [
            "555/555 [==============================] - 2s 3ms/step - loss: 0.6281 - acc: 0.6649\n",
            "Epoch 44/500\n",
            "555/555 [==============================] - 2s 4ms/step - loss: 0.6445 - acc: 0.6685\n",
            "Epoch 45/500\n",
            "555/555 [==============================] - 2s 3ms/step - loss: 0.6382 - acc: 0.6468\n",
            "Epoch 46/500\n",
            "555/555 [==============================] - 2s 3ms/step - loss: 0.6391 - acc: 0.6559\n",
            "Epoch 47/500\n",
            "555/555 [==============================] - 2s 3ms/step - loss: 0.6537 - acc: 0.6090\n",
            "Epoch 48/500\n",
            "555/555 [==============================] - 2s 3ms/step - loss: 0.6682 - acc: 0.6036\n",
            "Epoch 49/500\n",
            "555/555 [==============================] - 2s 3ms/step - loss: 0.6426 - acc: 0.6523\n",
            "Epoch 50/500\n",
            "256/555 [============>.................] - ETA: 1s - loss: 0.6017 - acc: 0.7148"
          ],
          "name": "stdout"
        },
        {
          "output_type": "stream",
          "text": [
            "555/555 [==============================] - 2s 3ms/step - loss: 0.6347 - acc: 0.6685\n",
            "Epoch 51/500\n",
            "555/555 [==============================] - 2s 3ms/step - loss: 0.6452 - acc: 0.6414\n",
            "Epoch 52/500\n",
            " 48/555 [=>............................] - ETA: 1s - loss: 0.5889 - acc: 0.7708"
          ],
          "name": "stdout"
        }
      ]
    },
    {
      "metadata": {
        "id": "Lq241ZvXmBgs",
        "colab_type": "code",
        "colab": {
          "base_uri": "https://localhost:8080/",
          "height": 395
        },
        "outputId": "eb6c46c2-bf39-45eb-be15-cbd5c4eb4fc8"
      },
      "cell_type": "code",
      "source": [
        "# Plot the accuracy during training\n",
        "plt.plot(history.history['acc'])\n",
        "plt.title(\"Accuracy during training\")\n",
        "plt.ylabel(\"accuracy\")\n",
        "plt.xlabel(\"epoch\")"
      ],
      "execution_count": 0,
      "outputs": [
        {
          "output_type": "execute_result",
          "data": {
            "text/plain": [
              "Text(0.5,0,'epoch')"
            ]
          },
          "metadata": {
            "tags": []
          },
          "execution_count": 51
        },
        {
          "output_type": "display_data",
          "data": {
            "image/png": "[encoded data removed]",
            "text/plain": [
              "<matplotlib.figure.Figure at 0x7fcae95dc908>"
            ]
          },
          "metadata": {
            "tags": []
          }
        }
      ]
    },
    {
      "metadata": {
        "id": "XDhfH6d52GUw",
        "colab_type": "code",
        "colab": {
          "base_uri": "https://localhost:8080/",
          "height": 395
        },
        "outputId": "2e299870-a20a-4537-c4dc-678cd0333137"
      },
      "cell_type": "code",
      "source": [
        "plt.plot(history.history['loss'])\n",
        "plt.title(\"Loss during training\")\n",
        "plt.ylabel(\"loss\")\n",
        "plt.xlabel(\"epoch\")"
      ],
      "execution_count": 0,
      "outputs": [
        {
          "output_type": "execute_result",
          "data": {
            "text/plain": [
              "Text(0.5,0,'epoch')"
            ]
          },
          "metadata": {
            "tags": []
          },
          "execution_count": 52
        },
        {
          "output_type": "display_data",
          "data": {
            "image/png": "[encoded data removed]",
            "text/plain": [
              "<matplotlib.figure.Figure at 0x7fcaea692588>"
            ]
          },
          "metadata": {
            "tags": []
          }
        }
      ]
    },
    {
      "metadata": {
        "id": "MMhv-sFQCz7h",
        "colab_type": "code",
        "colab": {
          "base_uri": "https://localhost:8080/",
          "height": 55
        },
        "outputId": "4a4192e4-c958-41d3-8e3c-f6282b8d5515"
      },
      "cell_type": "code",
      "source": [
        "# Evalute the same model\n",
        "model.evaluate(x=test_x, y=test_y)\n"
      ],
      "execution_count": 0,
      "outputs": [
        {
          "output_type": "stream",
          "text": [
            "120/120 [==============================] - 7s 58ms/step\n"
          ],
          "name": "stdout"
        },
        {
          "output_type": "execute_result",
          "data": {
            "text/plain": [
              "[0.6689239184061686, 0.55]"
            ]
          },
          "metadata": {
            "tags": []
          },
          "execution_count": 53
        }
      ]
    },
    {
      "metadata": {
        "id": "PYF5kaNOMPj8",
        "colab_type": "code",
        "colab": {}
      },
      "cell_type": "code",
      "source": [
        ""
      ],
      "execution_count": 0,
      "outputs": []
    }
  ]
}