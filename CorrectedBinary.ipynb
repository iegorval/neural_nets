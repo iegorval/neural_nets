{
  "nbformat": 4,
  "nbformat_minor": 0,
  "metadata": {
    "colab": {
      "name": "Untitled0.ipynb",
      "version": "0.3.2",
      "provenance": [],
      "collapsed_sections": [],
      "toc_visible": true
    },
    "kernelspec": {
      "name": "python3",
      "display_name": "Python 3"
    }
  },
  "cells": [
    {
      "cell_type": "markdown",
      "metadata": {
        "id": "view-in-github",
        "colab_type": "text"
      },
      "source": [
        "[View in Colaboratory](https://colab.research.google.com/github/iegorval/neural_nets/blob/master/CorrectedBinary.ipynb)"
      ]
    },
    {
      "metadata": {
        "id": "oV2qqlq5QmNd",
        "colab_type": "text"
      },
      "cell_type": "markdown",
      "source": [
        "# Getting Ready\n",
        "Prepare the files and the libraries for the experiment."
      ]
    },
    {
      "metadata": {
        "id": "aWQrp_kPQop9",
        "colab_type": "code",
        "colab": {
          "base_uri": "https://localhost:8080/",
          "height": 17
        },
        "outputId": "f16e86b2-58f5-4b0e-a721-bd3d113cbc4f"
      },
      "cell_type": "code",
      "source": [
        "# Installs\n",
        "!pip install -U -q PyDrive"
      ],
      "execution_count": 1,
      "outputs": []
    },
    {
      "metadata": {
        "id": "FAQQdDA9UBDj",
        "colab_type": "code",
        "colab": {
          "base_uri": "https://localhost:8080/",
          "height": 36
        },
        "outputId": "afa9332a-0f55-4be7-c9dc-1e5b903347b1"
      },
      "cell_type": "code",
      "source": [
        "# Imports\n",
        "from pydrive.auth import GoogleAuth\n",
        "from pydrive.drive import GoogleDrive\n",
        "from google.colab import auth\n",
        "from oauth2client.client import GoogleCredentials\n",
        "import numpy as np \n",
        "import pandas as pd\n",
        "import matplotlib.pyplot as plt\n",
        "from keras.layers import LSTM, Input, Activation, Dense, TimeDistributed, Dropout, BatchNormalization\n",
        "from keras.models import Sequential\n",
        "from keras import optimizers\n",
        "from keras.callbacks import Callback, LearningRateScheduler\n",
        "import keras.backend as K\n",
        "import keras.utils as utils\n",
        "from sklearn.metrics import confusion_matrix, f1_score, precision_score, recall_score\n",
        "import re\n",
        "from io import StringIO\n",
        "from math import exp"
      ],
      "execution_count": 2,
      "outputs": [
        {
          "output_type": "stream",
          "text": [
            "Using TensorFlow backend.\n"
          ],
          "name": "stderr"
        }
      ]
    },
    {
      "metadata": {
        "id": "3hcA5ujlQsX7",
        "colab_type": "code",
        "colab": {
          "base_uri": "https://localhost:8080/",
          "height": 17
        },
        "outputId": "0d8cf75b-00da-44b9-d203-314d91de18c4"
      },
      "cell_type": "code",
      "source": [
        "# PyDrive client\n",
        "auth.authenticate_user()\n",
        "gauth = GoogleAuth()\n",
        "gauth.credentials = GoogleCredentials.get_application_default()\n",
        "drive = GoogleDrive(gauth)\n",
        "# Get all files from the root folder\n",
        "file_list = drive.ListFile({'q': \"'root' in parents and trashed=false\"}).GetList()"
      ],
      "execution_count": 3,
      "outputs": []
    },
    {
      "metadata": {
        "id": "g6sjBvHZcFKB",
        "colab_type": "code",
        "colab": {
          "base_uri": "https://localhost:8080/",
          "height": 17
        },
        "outputId": "8ef76cf7-1091-424d-fc62-f79e9eab9d72"
      },
      "cell_type": "code",
      "source": [
        "# Get the .pow files \n",
        "pow_files = [(file['title'], file['id'], re.sub(r'_[0-9]+|.pow', '', file['title'])) \n",
        "             for file in file_list if file['title'].find('.pow')>0]\n",
        "num_examples = len(pow_files)\n",
        "# Get the categories\n",
        "categories = list(set([file_info[2] for file_info in pow_files]))\n",
        "# Get the dictionary of the categories\n",
        "num_cat = len(categories)\n",
        "categories_dict = {categories[i] : i for i in range(num_cat)}"
      ],
      "execution_count": 4,
      "outputs": []
    },
    {
      "metadata": {
        "id": "_086i_ixmHis",
        "colab_type": "code",
        "colab": {
          "base_uri": "https://localhost:8080/",
          "height": 36
        },
        "outputId": "059477d6-1f40-4133-e6a3-c68c5a048f47"
      },
      "cell_type": "code",
      "source": [
        "print(categories_dict)"
      ],
      "execution_count": 5,
      "outputs": [
        {
          "output_type": "stream",
          "text": [
            "{'grass_flat': 0, 'flat': 1, 'black_flat': 2, 'black_rough': 3, 'cubes': 4, 'grass_rough': 5}\n"
          ],
          "name": "stdout"
        }
      ]
    },
    {
      "metadata": {
        "id": "gAXuechYyXpq",
        "colab_type": "text"
      },
      "cell_type": "markdown",
      "source": [
        "# Utils\n",
        "Helper functions."
      ]
    },
    {
      "metadata": {
        "id": "wJwNdX5UyT1a",
        "colab_type": "code",
        "colab": {
          "base_uri": "https://localhost:8080/",
          "height": 17
        },
        "outputId": "7cfdd187-5900-4631-d7ad-fee3259a6d31"
      },
      "cell_type": "code",
      "source": [
        "def to_one_hot(category):\n",
        "  assert category < num_cat\n",
        "  one_hot = np.zeros((num_cat))\n",
        "  one_hot[category] = 1\n",
        "  return one_hot"
      ],
      "execution_count": 6,
      "outputs": []
    },
    {
      "metadata": {
        "id": "TVWW1kVnMNxP",
        "colab_type": "code",
        "colab": {
          "base_uri": "https://localhost:8080/",
          "height": 17
        },
        "outputId": "03e6aa6c-8eab-4cdc-beda-2b90c25ab3bd"
      },
      "cell_type": "code",
      "source": [
        "def from_one_hot(one_hot):\n",
        "  for i in range(len(one_hot)):\n",
        "    if one_hot[i]==1:\n",
        "      return i"
      ],
      "execution_count": 7,
      "outputs": []
    },
    {
      "metadata": {
        "id": "0bfZo4MevEmv",
        "colab_type": "text"
      },
      "cell_type": "markdown",
      "source": [
        "# Model\n",
        "Recurrent Neural Network model in Keras."
      ]
    },
    {
      "metadata": {
        "id": "HAbg2Knco78O",
        "colab_type": "code",
        "colab": {
          "base_uri": "https://localhost:8080/",
          "height": 17
        },
        "outputId": "65a3bafb-21a9-4f4d-cc50-f8c2e13cee45"
      },
      "cell_type": "code",
      "source": [
        "def get_model1():\n",
        "  model = Sequential()\n",
        "  model.add(LSTM(32, return_sequences=False, input_shape=(max_length//skip,1)))\n",
        "  model.add(Dense(1))\n",
        "  model.add(Activation(\"sigmoid\"))\n",
        "  return model"
      ],
      "execution_count": 8,
      "outputs": []
    },
    {
      "metadata": {
        "id": "ETEc6ZwlugeT",
        "colab_type": "code",
        "colab": {
          "base_uri": "https://localhost:8080/",
          "height": 17
        },
        "outputId": "db719b83-6ad8-4c4b-adaa-8a9c1ecaa898"
      },
      "cell_type": "code",
      "source": [
        "def get_model2():\n",
        "  model = Sequential()\n",
        "  model.add(LSTM(64, return_sequences=False, input_shape=(max_length//skip,1)))\n",
        "  model.add(Dense(1))\n",
        "  model.add(Activation(\"sigmoid\"))\n",
        "  return model"
      ],
      "execution_count": 9,
      "outputs": []
    },
    {
      "metadata": {
        "id": "TX8OhAfWuglM",
        "colab_type": "code",
        "colab": {
          "base_uri": "https://localhost:8080/",
          "height": 17
        },
        "outputId": "73195d23-c828-4d4e-8210-4995487f3b47"
      },
      "cell_type": "code",
      "source": [
        "def get_model3():\n",
        "  model = Sequential()\n",
        "  model.add(LSTM(32, return_sequences=True, input_shape=(max_length//skip,1)))\n",
        "  model.add(LSTM(32))\n",
        "  model.add(Dense(1))\n",
        "  model.add(Activation(\"sigmoid\"))\n",
        "  return model"
      ],
      "execution_count": 10,
      "outputs": []
    },
    {
      "metadata": {
        "id": "ZO6Ro7NEugv2",
        "colab_type": "code",
        "colab": {
          "base_uri": "https://localhost:8080/",
          "height": 17
        },
        "outputId": "b30e5348-ffc8-4e8c-a051-6e860e4e199a"
      },
      "cell_type": "code",
      "source": [
        "def get_model4():\n",
        "  model = Sequential()\n",
        "  model.add(LSTM(64, return_sequences=True, input_shape=(max_length//skip,1)))\n",
        "  model.add(LSTM(64))\n",
        "  model.add(Dense(1))\n",
        "  model.add(Activation(\"sigmoid\"))\n",
        "  return model"
      ],
      "execution_count": 11,
      "outputs": []
    },
    {
      "metadata": {
        "id": "JGeRV_NguhES",
        "colab_type": "code",
        "colab": {
          "base_uri": "https://localhost:8080/",
          "height": 17
        },
        "outputId": "720fa473-1c5b-485a-fd0b-cf7e602b2bc6"
      },
      "cell_type": "code",
      "source": [
        "def get_model5():\n",
        "  model = Sequential()\n",
        "  model.add(LSTM(32, return_sequences=True, input_shape=(max_length//skip,1)))\n",
        "  model.add(Dropout(0.4))\n",
        "  model.add(LSTM(32))\n",
        "  model.add(Dropout(0.4))\n",
        "  model.add(Dense(1))\n",
        "  model.add(Activation(\"sigmoid\"))\n",
        "  return model"
      ],
      "execution_count": 13,
      "outputs": []
    },
    {
      "metadata": {
        "id": "w_uNZHWduhJL",
        "colab_type": "code",
        "colab": {
          "base_uri": "https://localhost:8080/",
          "height": 17
        },
        "outputId": "aa60f0b5-439d-441f-b5d0-c6bc8efdf5ee"
      },
      "cell_type": "code",
      "source": [
        "def get_model6():\n",
        "  model = Sequential()\n",
        "  model.add(LSTM(64, return_sequences=True, input_shape=(max_length//skip,1)))\n",
        "  model.add(Dropout(0.4))\n",
        "  model.add(LSTM(64))\n",
        "  model.add(Dropout(0.4))\n",
        "  model.add(Dense(1))\n",
        "  model.add(Activation(\"sigmoid\"))\n",
        "  return model"
      ],
      "execution_count": 14,
      "outputs": []
    },
    {
      "metadata": {
        "id": "xzVxrl55U4dR",
        "colab_type": "text"
      },
      "cell_type": "markdown",
      "source": [
        "# Data\n",
        "Preprocess the data: combine all the examples together and introduce padding where necessary. Split the longest time series in the several smaller ones."
      ]
    },
    {
      "metadata": {
        "id": "p9cw30IWh8yK",
        "colab_type": "code",
        "colab": {
          "base_uri": "https://localhost:8080/",
          "height": 17
        },
        "outputId": "83e138c1-401b-4a6a-d26a-e0da5311584b"
      },
      "cell_type": "code",
      "source": [
        "# Make a list of dataframes along with their corresponding classes\n",
        "list_df = list()\n",
        "for pow_file in pow_files:\n",
        "  if pow_file[0].find('cubes')==0 or pow_file[0].find('flat')==0:\n",
        "    f = drive.CreateFile({'id': pow_file[1]})\n",
        "    content = f.GetContentString()\n",
        "    dataIO = StringIO(content)\n",
        "    df = pd.read_csv(dataIO, header=None, sep=' ')\n",
        "    list_df.append((df, to_one_hot(categories_dict[pow_file[2]])))"
      ],
      "execution_count": 15,
      "outputs": []
    },
    {
      "metadata": {
        "id": "Zu3byejeB032",
        "colab_type": "code",
        "colab": {
          "base_uri": "https://localhost:8080/",
          "height": 17
        },
        "outputId": "7083e488-93ef-4da0-d294-785c4261b27f"
      },
      "cell_type": "code",
      "source": [
        "# Make a list of dataframes along with their corresponding classes\n",
        "list_df = list()\n",
        "for pow_file in pow_files:\n",
        "  if pow_file[0].find('black_rough')==0 or pow_file[0].find('grass_rough')==0 \\\n",
        "     or pow_file[0].find('black_flat')==0 or pow_file[0].find('grass_flat')==0:\n",
        "    f = drive.CreateFile({'id': pow_file[1]})\n",
        "    content = f.GetContentString()\n",
        "    dataIO = StringIO(content)\n",
        "    df = pd.read_csv(dataIO, header=None, sep=' ')\n",
        "    list_df.append((df, to_one_hot(categories_dict[pow_file[2]])))"
      ],
      "execution_count": 16,
      "outputs": []
    },
    {
      "metadata": {
        "id": "0JxLBoY_i4li",
        "colab_type": "code",
        "colab": {
          "base_uri": "https://localhost:8080/",
          "height": 17
        },
        "outputId": "61802c59-7fbb-4f24-cbaa-2c36052cdcb1"
      },
      "cell_type": "code",
      "source": [
        "# Split the biggest examples into separate sequences\n",
        "max_length = 100\n",
        "long_dfs = [i for i in range(len(list_df)) if list_df[i][0].shape[0] > max_length]\n",
        "list_df_cut = list(list_df)\n",
        "max_examples = 3000\n",
        "examples_categories = {0: 0, 1: 0, 2: 0, 3: 0, 4: 0, 5: 0}\n",
        "for i in reversed(long_dfs):\n",
        "  df = list_df_cut[i][0]\n",
        "  category = from_one_hot(list_df_cut[i][1])\n",
        "  for g, split_df in df.groupby(np.arange(len(df)) // max_length):\n",
        "    if examples_categories[category] < max_examples:\n",
        "      list_df_cut.append((split_df, list_df[i][1]))\n",
        "      examples_categories[category] += 1\n",
        "  del list_df_cut[i]"
      ],
      "execution_count": 17,
      "outputs": []
    },
    {
      "metadata": {
        "id": "bYxHpRWoJ7eU",
        "colab_type": "code",
        "colab": {
          "base_uri": "https://localhost:8080/",
          "height": 55
        },
        "outputId": "b62b19ea-3d6c-4685-ae1c-b2927f908c93"
      },
      "cell_type": "code",
      "source": [
        "print(examples_categories)\n",
        "print(categories_dict)"
      ],
      "execution_count": 18,
      "outputs": [
        {
          "output_type": "stream",
          "text": [
            "{0: 179, 1: 0, 2: 112, 3: 215, 4: 0, 5: 161}\n",
            "{'grass_flat': 0, 'flat': 1, 'black_flat': 2, 'black_rough': 3, 'cubes': 4, 'grass_rough': 5}\n"
          ],
          "name": "stdout"
        }
      ]
    },
    {
      "metadata": {
        "id": "y1T3HWkIm1lw",
        "colab_type": "code",
        "colab": {
          "base_uri": "https://localhost:8080/",
          "height": 17
        },
        "outputId": "83f3477d-e52f-473a-ea96-1eb8a5c74380"
      },
      "cell_type": "code",
      "source": [
        "# Get only the measurements for current\n",
        "currents_list = [(np.transpose(np.array(df_cut[0][[2]])), df_cut[1]) for df_cut in list_df_cut]\n",
        "currents_long = [(np.transpose(currents[0]), currents[1]) for currents in currents_list if currents[0].shape[1]>=max_length]\n",
        "currents_no_labels = [currents[0] for currents in currents_long]"
      ],
      "execution_count": 19,
      "outputs": []
    },
    {
      "metadata": {
        "id": "l1tC1WDSjQw8",
        "colab_type": "code",
        "colab": {
          "base_uri": "https://localhost:8080/",
          "height": 369
        },
        "outputId": "58f98bea-6c5e-4ee9-b31e-cc549252c3ce"
      },
      "cell_type": "code",
      "source": [
        "plt.plot(currents_no_labels[0])"
      ],
      "execution_count": 20,
      "outputs": [
        {
          "output_type": "execute_result",
          "data": {
            "text/plain": [
              "[<matplotlib.lines.Line2D at 0x7fcaf191b588>]"
            ]
          },
          "metadata": {
            "tags": []
          },
          "execution_count": 20
        },
        {
          "output_type": "display_data",
          "data": {
            "image/png": "[encoded data removed]",
            "text/plain": [
              "<matplotlib.figure.Figure at 0x7fcaf1b439b0>"
            ]
          },
          "metadata": {
            "tags": []
          }
        }
      ]
    },
    {
      "metadata": {
        "id": "fDc3SUp6BPE8",
        "colab_type": "code",
        "colab": {
          "base_uri": "https://localhost:8080/",
          "height": 17
        },
        "outputId": "cfc4e7c8-2155-4567-aada-ab710235bf0f"
      },
      "cell_type": "code",
      "source": [
        "# Skip some timesteps\n",
        "skip = 1\n",
        "currents_skip = list()\n",
        "for currents in currents_no_labels:\n",
        "  currents_skip.append(list())\n",
        "  i = 0\n",
        "  while True:\n",
        "    currents_skip[-1].append(currents[i])\n",
        "    i += skip\n",
        "    if i >= len(currents):\n",
        "      break"
      ],
      "execution_count": 38,
      "outputs": []
    },
    {
      "metadata": {
        "id": "b2pEzVQUESSD",
        "colab_type": "code",
        "colab": {
          "base_uri": "https://localhost:8080/",
          "height": 17
        },
        "outputId": "09e4a027-a200-436d-eb29-7239552da55d"
      },
      "cell_type": "code",
      "source": [
        "# Get training data into a numpy matrix\n",
        "full_x = np.stack(currents_skip, axis=0)\n",
        "# Get training labels\n",
        "full_y = np.array([currents[1] for currents in currents_long])"
      ],
      "execution_count": 64,
      "outputs": []
    },
    {
      "metadata": {
        "id": "z9wkogVMkNAC",
        "colab_type": "code",
        "colab": {
          "base_uri": "https://localhost:8080/",
          "height": 17
        },
        "outputId": "4d71e0f6-5d5b-4adb-e1ba-44c18aa6fd29"
      },
      "cell_type": "code",
      "source": [
        "def unison_shuffled_copies(a, b):\n",
        "    assert len(a) == len(b)\n",
        "    p = np.random.permutation(len(a))\n",
        "    return a[p], b[p]"
      ],
      "execution_count": 60,
      "outputs": []
    },
    {
      "metadata": {
        "id": "LtScJnfC9ZSc",
        "colab_type": "code",
        "colab": {
          "base_uri": "https://localhost:8080/",
          "height": 17
        },
        "outputId": "6820bc18-37da-4bf3-d63c-d335c1aa717b"
      },
      "cell_type": "code",
      "source": [
        "full_x_norm = utils.normalize(full_x, axis=0, order=2)\n",
        "x_shuffled, y_shuffled = unison_shuffled_copies(full_x_norm, full_y)"
      ],
      "execution_count": 65,
      "outputs": []
    },
    {
      "metadata": {
        "id": "RmBb4NRqkoXq",
        "colab_type": "code",
        "colab": {
          "base_uri": "https://localhost:8080/",
          "height": 17
        },
        "outputId": "df776a16-4380-4431-e3bf-335436ad0a44"
      },
      "cell_type": "code",
      "source": [
        "full_y_labels = [from_one_hot(one_hot) for one_hot in y_shuffled]\n",
        "full_y_binary = [0 if label==categories_dict['black_flat'] or label==categories_dict['black_rough'] else 1 for label in full_y_labels]"
      ],
      "execution_count": 66,
      "outputs": []
    },
    {
      "metadata": {
        "id": "fMtv_wL5k7aw",
        "colab_type": "code",
        "colab": {
          "base_uri": "https://localhost:8080/",
          "height": 74
        },
        "outputId": "5b38ac11-921f-48a4-d50c-d890557b40c0"
      },
      "cell_type": "code",
      "source": [
        "print(full_x_norm.shape, x_shuffled.shape)\n",
        "print(full_y.shape, y_shuffled.shape)\n",
        "print(len(full_y_binary))"
      ],
      "execution_count": 74,
      "outputs": [
        {
          "output_type": "stream",
          "text": [
            "(655, 100, 1) (655, 100, 1)\n",
            "(655, 6) (655, 6)\n",
            "655\n"
          ],
          "name": "stdout"
        }
      ]
    },
    {
      "metadata": {
        "id": "fin_NKQqvZNc",
        "colab_type": "code",
        "colab": {
          "base_uri": "https://localhost:8080/",
          "height": 369
        },
        "outputId": "90c672a1-ad7f-495e-ec83-cd39c13dc183"
      },
      "cell_type": "code",
      "source": [
        "# Training set\n",
        "train_x = x_shuffled[130:]\n",
        "train_y = full_y_binary[130:]\n",
        "# Test set\n",
        "test_x = x_shuffled[:130]\n",
        "test_y = full_y_binary[:130]\n",
        "\n",
        "\n",
        "plt.plot(full_x[1])\n",
        "print(full_y[1])"
      ],
      "execution_count": 75,
      "outputs": [
        {
          "output_type": "stream",
          "text": [
            "[0. 0. 1. 0. 0. 0.]\n"
          ],
          "name": "stdout"
        },
        {
          "output_type": "display_data",
          "data": {
            "image/png": "[encoded data removed]",
            "text/plain": [
              "<matplotlib.figure.Figure at 0x7fcae91a62b0>"
            ]
          },
          "metadata": {
            "tags": []
          }
        }
      ]
    },
    {
      "metadata": {
        "id": "K9kyzpWhMrSc",
        "colab_type": "text"
      },
      "cell_type": "markdown",
      "source": [
        "# Experiment"
      ]
    },
    {
      "metadata": {
        "id": "18uzH69xywMu",
        "colab_type": "code",
        "colab": {
          "base_uri": "https://localhost:8080/",
          "height": 262
        },
        "outputId": "9dbf4b37-9f82-4c03-9009-eaa18ce23231"
      },
      "cell_type": "code",
      "source": [
        "model = get_model1()\n",
        "model.summary()"
      ],
      "execution_count": 69,
      "outputs": [
        {
          "output_type": "stream",
          "text": [
            "_________________________________________________________________\n",
            "Layer (type)                 Output Shape              Param #   \n",
            "=================================================================\n",
            "lstm_7 (LSTM)                (None, 32)                4352      \n",
            "_________________________________________________________________\n",
            "dense_5 (Dense)              (None, 1)                 33        \n",
            "_________________________________________________________________\n",
            "activation_5 (Activation)    (None, 1)                 0         \n",
            "=================================================================\n",
            "Total params: 4,385\n",
            "Trainable params: 4,385\n",
            "Non-trainable params: 0\n",
            "_________________________________________________________________\n"
          ],
          "name": "stdout"
        }
      ]
    },
    {
      "metadata": {
        "id": "TKD8VQKCGjZl",
        "colab_type": "code",
        "colab": {
          "base_uri": "https://localhost:8080/",
          "height": 17
        },
        "outputId": "09cae2d5-b80d-4848-f221-9bbc9464ef23"
      },
      "cell_type": "code",
      "source": [
        "adam = optimizers.Adam(lr=0.001, beta_1=0.9, beta_2=0.999, epsilon=None, decay=0.0, amsgrad=False)\n",
        "rmsprop = optimizers.RMSprop(lr=0.001, rho=0.9, epsilon=None, decay=0.0)"
      ],
      "execution_count": 70,
      "outputs": []
    },
    {
      "metadata": {
        "id": "15eOf5H9MH79",
        "colab_type": "code",
        "colab": {
          "base_uri": "https://localhost:8080/",
          "height": 17
        },
        "outputId": "920cbee4-7512-4ae5-c0d2-8bde9e4699fb"
      },
      "cell_type": "code",
      "source": [
        "def exp_decay(epoch):\n",
        "    initial_lrate = 0.01\n",
        "    k = 0.1\n",
        "    lrate = initial_lrate * exp(-k*epoch)\n",
        "    return lrate\n",
        "lrate = LearningRateScheduler(exp_decay)\n",
        "callbacks_list = [lrate]"
      ],
      "execution_count": 71,
      "outputs": []
    },
    {
      "metadata": {
        "id": "XqQqwuwKuDzs",
        "colab_type": "code",
        "colab": {
          "base_uri": "https://localhost:8080/",
          "height": 17
        },
        "outputId": "4c0403b1-cef5-4453-c23d-8db360b4aa24"
      },
      "cell_type": "code",
      "source": [
        "model.compile(loss='binary_crossentropy', optimizer=rmsprop, metrics=['accuracy'])"
      ],
      "execution_count": 72,
      "outputs": []
    },
    {
      "metadata": {
        "id": "cKnrvOYa8h8G",
        "colab_type": "code",
        "colab": {
          "base_uri": "https://localhost:8080/",
          "height": 724
        },
        "outputId": "097be3bc-87dd-4c36-a2cd-e5a1fe0b1591"
      },
      "cell_type": "code",
      "source": [
        "history = model.fit(train_x, train_y, epochs=200, batch_size=16, shuffle=True, callbacks=callbacks_list, verbose=2)"
      ],
      "execution_count": 73,
      "outputs": [
        {
          "output_type": "error",
          "ename": "ValueError",
          "evalue": "ignored",
          "traceback": [
            "\u001b[0;31m---------------------------------------------------------------------------\u001b[0m",
            "\u001b[0;31mValueError\u001b[0m                                Traceback (most recent call last)",
            "\u001b[0;32m<ipython-input-73-ea3f4401af9b>\u001b[0m in \u001b[0;36m<module>\u001b[0;34m()\u001b[0m\n\u001b[0;32m----> 1\u001b[0;31m \u001b[0mhistory\u001b[0m \u001b[0;34m=\u001b[0m \u001b[0mmodel\u001b[0m\u001b[0;34m.\u001b[0m\u001b[0mfit\u001b[0m\u001b[0;34m(\u001b[0m\u001b[0mtrain_x\u001b[0m\u001b[0;34m,\u001b[0m \u001b[0mtrain_y\u001b[0m\u001b[0;34m,\u001b[0m \u001b[0mepochs\u001b[0m\u001b[0;34m=\u001b[0m\u001b[0;36m200\u001b[0m\u001b[0;34m,\u001b[0m \u001b[0mbatch_size\u001b[0m\u001b[0;34m=\u001b[0m\u001b[0;36m16\u001b[0m\u001b[0;34m,\u001b[0m \u001b[0mshuffle\u001b[0m\u001b[0;34m=\u001b[0m\u001b[0;32mTrue\u001b[0m\u001b[0;34m,\u001b[0m \u001b[0mcallbacks\u001b[0m\u001b[0;34m=\u001b[0m\u001b[0mcallbacks_list\u001b[0m\u001b[0;34m,\u001b[0m \u001b[0mverbose\u001b[0m\u001b[0;34m=\u001b[0m\u001b[0;36m2\u001b[0m\u001b[0;34m)\u001b[0m\u001b[0;34m\u001b[0m\u001b[0m\n\u001b[0m",
            "\u001b[0;32m/usr/local/lib/python3.6/dist-packages/keras/models.py\u001b[0m in \u001b[0;36mfit\u001b[0;34m(self, x, y, batch_size, epochs, verbose, callbacks, validation_split, validation_data, shuffle, class_weight, sample_weight, initial_epoch, steps_per_epoch, validation_steps, **kwargs)\u001b[0m\n\u001b[1;32m   1000\u001b[0m                               \u001b[0minitial_epoch\u001b[0m\u001b[0;34m=\u001b[0m\u001b[0minitial_epoch\u001b[0m\u001b[0;34m,\u001b[0m\u001b[0;34m\u001b[0m\u001b[0m\n\u001b[1;32m   1001\u001b[0m                               \u001b[0msteps_per_epoch\u001b[0m\u001b[0;34m=\u001b[0m\u001b[0msteps_per_epoch\u001b[0m\u001b[0;34m,\u001b[0m\u001b[0;34m\u001b[0m\u001b[0m\n\u001b[0;32m-> 1002\u001b[0;31m                               validation_steps=validation_steps)\n\u001b[0m\u001b[1;32m   1003\u001b[0m \u001b[0;34m\u001b[0m\u001b[0m\n\u001b[1;32m   1004\u001b[0m     def evaluate(self, x=None, y=None,\n",
            "\u001b[0;32m/usr/local/lib/python3.6/dist-packages/keras/engine/training.py\u001b[0m in \u001b[0;36mfit\u001b[0;34m(self, x, y, batch_size, epochs, verbose, callbacks, validation_split, validation_data, shuffle, class_weight, sample_weight, initial_epoch, steps_per_epoch, validation_steps, **kwargs)\u001b[0m\n\u001b[1;32m   1628\u001b[0m             \u001b[0msample_weight\u001b[0m\u001b[0;34m=\u001b[0m\u001b[0msample_weight\u001b[0m\u001b[0;34m,\u001b[0m\u001b[0;34m\u001b[0m\u001b[0m\n\u001b[1;32m   1629\u001b[0m             \u001b[0mclass_weight\u001b[0m\u001b[0;34m=\u001b[0m\u001b[0mclass_weight\u001b[0m\u001b[0;34m,\u001b[0m\u001b[0;34m\u001b[0m\u001b[0m\n\u001b[0;32m-> 1630\u001b[0;31m             batch_size=batch_size)\n\u001b[0m\u001b[1;32m   1631\u001b[0m         \u001b[0;31m# Prepare validation data.\u001b[0m\u001b[0;34m\u001b[0m\u001b[0;34m\u001b[0m\u001b[0m\n\u001b[1;32m   1632\u001b[0m         \u001b[0mdo_validation\u001b[0m \u001b[0;34m=\u001b[0m \u001b[0;32mFalse\u001b[0m\u001b[0;34m\u001b[0m\u001b[0m\n",
            "\u001b[0;32m/usr/local/lib/python3.6/dist-packages/keras/engine/training.py\u001b[0m in \u001b[0;36m_standardize_user_data\u001b[0;34m(self, x, y, sample_weight, class_weight, check_array_lengths, batch_size)\u001b[0m\n\u001b[1;32m   1478\u001b[0m                                     \u001b[0moutput_shapes\u001b[0m\u001b[0;34m,\u001b[0m\u001b[0;34m\u001b[0m\u001b[0m\n\u001b[1;32m   1479\u001b[0m                                     \u001b[0mcheck_batch_axis\u001b[0m\u001b[0;34m=\u001b[0m\u001b[0;32mFalse\u001b[0m\u001b[0;34m,\u001b[0m\u001b[0;34m\u001b[0m\u001b[0m\n\u001b[0;32m-> 1480\u001b[0;31m                                     exception_prefix='target')\n\u001b[0m\u001b[1;32m   1481\u001b[0m         sample_weights = _standardize_sample_weights(sample_weight,\n\u001b[1;32m   1482\u001b[0m                                                      self._feed_output_names)\n",
            "\u001b[0;32m/usr/local/lib/python3.6/dist-packages/keras/engine/training.py\u001b[0m in \u001b[0;36m_standardize_input_data\u001b[0;34m(data, names, shapes, check_batch_axis, exception_prefix)\u001b[0m\n\u001b[1;32m    121\u001b[0m                             \u001b[0;34m': expected '\u001b[0m \u001b[0;34m+\u001b[0m \u001b[0mnames\u001b[0m\u001b[0;34m[\u001b[0m\u001b[0mi\u001b[0m\u001b[0;34m]\u001b[0m \u001b[0;34m+\u001b[0m \u001b[0;34m' to have shape '\u001b[0m \u001b[0;34m+\u001b[0m\u001b[0;34m\u001b[0m\u001b[0m\n\u001b[1;32m    122\u001b[0m                             \u001b[0mstr\u001b[0m\u001b[0;34m(\u001b[0m\u001b[0mshape\u001b[0m\u001b[0;34m)\u001b[0m \u001b[0;34m+\u001b[0m \u001b[0;34m' but got array with shape '\u001b[0m \u001b[0;34m+\u001b[0m\u001b[0;34m\u001b[0m\u001b[0m\n\u001b[0;32m--> 123\u001b[0;31m                             str(data_shape))\n\u001b[0m\u001b[1;32m    124\u001b[0m     \u001b[0;32mreturn\u001b[0m \u001b[0mdata\u001b[0m\u001b[0;34m\u001b[0m\u001b[0m\n\u001b[1;32m    125\u001b[0m \u001b[0;34m\u001b[0m\u001b[0m\n",
            "\u001b[0;31mValueError\u001b[0m: Error when checking target: expected activation_5 to have shape (1,) but got array with shape (6,)"
          ]
        }
      ]
    },
    {
      "metadata": {
        "id": "Lq241ZvXmBgs",
        "colab_type": "code",
        "colab": {
          "base_uri": "https://localhost:8080/",
          "height": 395
        },
        "outputId": "eb6c46c2-bf39-45eb-be15-cbd5c4eb4fc8"
      },
      "cell_type": "code",
      "source": [
        "# Plot the accuracy during training\n",
        "plt.plot(history.history['acc'])\n",
        "plt.title(\"Accuracy during training\")\n",
        "plt.ylabel(\"accuracy\")\n",
        "plt.xlabel(\"epoch\")"
      ],
      "execution_count": 51,
      "outputs": [
        {
          "output_type": "execute_result",
          "data": {
            "text/plain": [
              "Text(0.5,0,'epoch')"
            ]
          },
          "metadata": {
            "tags": []
          },
          "execution_count": 51
        },
        {
          "output_type": "display_data",
          "data": {
            "image/png": "[encoded data removed]",
            "text/plain": [
              "<matplotlib.figure.Figure at 0x7fcae95dc908>"
            ]
          },
          "metadata": {
            "tags": []
          }
        }
      ]
    },
    {
      "metadata": {
        "id": "XDhfH6d52GUw",
        "colab_type": "code",
        "colab": {
          "base_uri": "https://localhost:8080/",
          "height": 395
        },
        "outputId": "2e299870-a20a-4537-c4dc-678cd0333137"
      },
      "cell_type": "code",
      "source": [
        "plt.plot(history.history['loss'])\n",
        "plt.title(\"Loss during training\")\n",
        "plt.ylabel(\"loss\")\n",
        "plt.xlabel(\"epoch\")"
      ],
      "execution_count": 52,
      "outputs": [
        {
          "output_type": "execute_result",
          "data": {
            "text/plain": [
              "Text(0.5,0,'epoch')"
            ]
          },
          "metadata": {
            "tags": []
          },
          "execution_count": 52
        },
        {
          "output_type": "display_data",
          "data": {
            "image/png": "[encoded data removed]",
            "text/plain": [
              "<matplotlib.figure.Figure at 0x7fcaea692588>"
            ]
          },
          "metadata": {
            "tags": []
          }
        }
      ]
    },
    {
      "metadata": {
        "id": "MMhv-sFQCz7h",
        "colab_type": "code",
        "colab": {
          "base_uri": "https://localhost:8080/",
          "height": 55
        },
        "outputId": "4a4192e4-c958-41d3-8e3c-f6282b8d5515"
      },
      "cell_type": "code",
      "source": [
        "# Evalute the same model\n",
        "model.evaluate(x=test_x, y=test_y)\n"
      ],
      "execution_count": 53,
      "outputs": [
        {
          "output_type": "stream",
          "text": [
            "120/120 [==============================] - 7s 58ms/step\n"
          ],
          "name": "stdout"
        },
        {
          "output_type": "execute_result",
          "data": {
            "text/plain": [
              "[0.6689239184061686, 0.55]"
            ]
          },
          "metadata": {
            "tags": []
          },
          "execution_count": 53
        }
      ]
    },
    {
      "metadata": {
        "id": "PYF5kaNOMPj8",
        "colab_type": "code",
        "colab": {}
      },
      "cell_type": "code",
      "source": [
        ""
      ],
      "execution_count": 0,
      "outputs": []
    }
  ]
}