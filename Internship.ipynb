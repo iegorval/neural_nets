{
  "nbformat": 4,
  "nbformat_minor": 0,
  "metadata": {
    "colab": {
      "name": "Untitled0.ipynb",
      "version": "0.3.2",
      "provenance": [],
      "collapsed_sections": [],
      "toc_visible": true
    },
    "kernelspec": {
      "name": "python3",
      "display_name": "Python 3"
    },
    "accelerator": "GPU"
  },
  "cells": [
    {
      "cell_type": "markdown",
      "metadata": {
        "id": "view-in-github",
        "colab_type": "text"
      },
      "source": [
        "[View in Colaboratory](https://colab.research.google.com/github/iegorval/neural_nets/blob/master/Internship.ipynb)"
      ]
    },
    {
      "metadata": {
        "id": "oV2qqlq5QmNd",
        "colab_type": "text"
      },
      "cell_type": "markdown",
      "source": [
        "# Getting Ready\n",
        "Prepare the files and the libraries for the experiment."
      ]
    },
    {
      "metadata": {
        "id": "aWQrp_kPQop9",
        "colab_type": "code",
        "colab": {
          "base_uri": "https://localhost:8080/",
          "height": 17
        },
        "outputId": "f4f43d6c-9bf7-406a-de19-c4d7ea544543"
      },
      "cell_type": "code",
      "source": [
        "# Installs\n",
        "!pip install -U -q PyDrive"
      ],
      "execution_count": 1,
      "outputs": []
    },
    {
      "metadata": {
        "id": "FAQQdDA9UBDj",
        "colab_type": "code",
        "colab": {
          "base_uri": "https://localhost:8080/",
          "height": 34
        },
        "outputId": "d8e1409a-a158-4db0-8fa4-686f6ec01834"
      },
      "cell_type": "code",
      "source": [
        "# Imports\n",
        "from pydrive.auth import GoogleAuth\n",
        "from pydrive.drive import GoogleDrive\n",
        "from google.colab import auth\n",
        "from oauth2client.client import GoogleCredentials\n",
        "import numpy as np \n",
        "import pandas as pd\n",
        "import matplotlib.pyplot as plt\n",
        "from keras.layers import LSTM, Input, Activation, Dense, TimeDistributed, Dropout, BatchNormalization\n",
        "from keras.models import Sequential\n",
        "from keras import optimizers\n",
        "from keras.callbacks import Callback\n",
        "import keras.backend as K\n",
        "import keras.utils as utils\n",
        "from sklearn.metrics import confusion_matrix, f1_score, precision_score, recall_score\n",
        "import re\n",
        "from io import StringIO"
      ],
      "execution_count": 2,
      "outputs": [
        {
          "output_type": "stream",
          "text": [
            "Using TensorFlow backend.\n"
          ],
          "name": "stderr"
        }
      ]
    },
    {
      "metadata": {
        "id": "3hcA5ujlQsX7",
        "colab_type": "code",
        "colab": {
          "base_uri": "https://localhost:8080/",
          "height": 17
        },
        "outputId": "5418ccf9-b691-4458-a4d8-174d096a8210"
      },
      "cell_type": "code",
      "source": [
        "# PyDrive client\n",
        "auth.authenticate_user()\n",
        "gauth = GoogleAuth()\n",
        "gauth.credentials = GoogleCredentials.get_application_default()\n",
        "drive = GoogleDrive(gauth)\n",
        "# Get all files from the root folder\n",
        "file_list = drive.ListFile({'q': \"'root' in parents and trashed=false\"}).GetList()"
      ],
      "execution_count": 3,
      "outputs": []
    },
    {
      "metadata": {
        "id": "g6sjBvHZcFKB",
        "colab_type": "code",
        "colab": {
          "base_uri": "https://localhost:8080/",
          "height": 17
        },
        "outputId": "7eeb3b5c-6fb3-4692-985a-4cb2096dd101"
      },
      "cell_type": "code",
      "source": [
        "# Get the .pow files \n",
        "pow_files = [(file['title'], file['id'], re.sub(r'_[0-9]+|.pow', '', file['title'])) \n",
        "             for file in file_list if file['title'].find('.pow')>0]\n",
        "num_examples = len(pow_files)\n",
        "# Get the categories\n",
        "categories = list(set([file_info[2] for file_info in pow_files]))\n",
        "# Get the dictionary of the categories\n",
        "num_cat = len(categories)\n",
        "categories_dict = {categories[i] : i for i in range(num_cat)}"
      ],
      "execution_count": 4,
      "outputs": []
    },
    {
      "metadata": {
        "id": "_086i_ixmHis",
        "colab_type": "code",
        "colab": {
          "base_uri": "https://localhost:8080/",
          "height": 34
        },
        "outputId": "7d195c9d-27ec-451e-828b-5983197f7aae"
      },
      "cell_type": "code",
      "source": [
        "print(categories_dict)"
      ],
      "execution_count": 0,
      "outputs": [
        {
          "output_type": "stream",
          "text": [
            "{'grass_rough': 0, 'grass_flat': 1, 'cubes': 2, 'flat': 3, 'black_flat': 4, 'black_rough': 5}\n"
          ],
          "name": "stdout"
        }
      ]
    },
    {
      "metadata": {
        "id": "gAXuechYyXpq",
        "colab_type": "text"
      },
      "cell_type": "markdown",
      "source": [
        "# Utils\n",
        "Helper functions."
      ]
    },
    {
      "metadata": {
        "id": "wJwNdX5UyT1a",
        "colab_type": "code",
        "colab": {
          "base_uri": "https://localhost:8080/",
          "height": 17
        },
        "outputId": "6c5cb393-6123-41be-cc34-3d8f30d54a82"
      },
      "cell_type": "code",
      "source": [
        "def to_one_hot(category):\n",
        "  assert category < num_cat\n",
        "  one_hot = np.zeros((num_cat))\n",
        "  one_hot[category] = 1\n",
        "  return one_hot"
      ],
      "execution_count": 5,
      "outputs": []
    },
    {
      "metadata": {
        "id": "TVWW1kVnMNxP",
        "colab_type": "code",
        "colab": {
          "base_uri": "https://localhost:8080/",
          "height": 17
        },
        "outputId": "4022a695-315f-4ba2-f792-2c372bb679d2"
      },
      "cell_type": "code",
      "source": [
        "def from_one_hot(one_hot):\n",
        "  for i in range(len(one_hot)):\n",
        "    if one_hot[i]==1:\n",
        "      return i"
      ],
      "execution_count": 6,
      "outputs": []
    },
    {
      "metadata": {
        "id": "0bfZo4MevEmv",
        "colab_type": "text"
      },
      "cell_type": "markdown",
      "source": [
        "# Model\n",
        "Recurrent Neural Network model in Keras."
      ]
    },
    {
      "metadata": {
        "id": "HAbg2Knco78O",
        "colab_type": "code",
        "colab": {
          "base_uri": "https://localhost:8080/",
          "height": 17
        },
        "outputId": "12fa5056-099b-423b-b53e-a36a43963ee6"
      },
      "cell_type": "code",
      "source": [
        "def get_model1():\n",
        "  model = Sequential()\n",
        "  model.add(LSTM(32, return_sequences=False, input_shape=(max_length//skip,1)))\n",
        "  model.add(Dense(1))\n",
        "  model.add(Activation(\"sigmoid\"))\n",
        "  return model"
      ],
      "execution_count": 40,
      "outputs": []
    },
    {
      "metadata": {
        "id": "ETEc6ZwlugeT",
        "colab_type": "code",
        "colab": {
          "base_uri": "https://localhost:8080/",
          "height": 17
        },
        "outputId": "2c168946-ea79-4676-dda9-a200ca6a867d"
      },
      "cell_type": "code",
      "source": [
        "def get_model2():\n",
        "  model = Sequential()\n",
        "  model.add(LSTM(64, return_sequences=False, input_shape=(max_length//skip,1)))\n",
        "  model.add(Dense(1))\n",
        "  model.add(Activation(\"sigmoid\"))\n",
        "  return model"
      ],
      "execution_count": 41,
      "outputs": []
    },
    {
      "metadata": {
        "id": "TX8OhAfWuglM",
        "colab_type": "code",
        "colab": {
          "base_uri": "https://localhost:8080/",
          "height": 17
        },
        "outputId": "3c3dfa22-c572-4c54-dab6-18fb96a0abf1"
      },
      "cell_type": "code",
      "source": [
        "def get_model3():\n",
        "  model = Sequential()\n",
        "  model.add(LSTM(32, return_sequences=True, input_shape=(max_length//skip,1)))\n",
        "  model.add(LSTM(32))\n",
        "  model.add(Dense(1))\n",
        "  model.add(Activation(\"sigmoid\"))\n",
        "  return model"
      ],
      "execution_count": 42,
      "outputs": []
    },
    {
      "metadata": {
        "id": "ZO6Ro7NEugv2",
        "colab_type": "code",
        "colab": {
          "base_uri": "https://localhost:8080/",
          "height": 17
        },
        "outputId": "68c1aa6e-c697-4222-fa9e-fe57c465f022"
      },
      "cell_type": "code",
      "source": [
        "def get_model4():\n",
        "  model = Sequential()\n",
        "  model.add(LSTM(64, return_sequences=True, input_shape=(max_length//skip,1)))\n",
        "  model.add(LSTM(64))\n",
        "  model.add(Dense(1))\n",
        "  model.add(Activation(\"sigmoid\"))\n",
        "  return model"
      ],
      "execution_count": 43,
      "outputs": []
    },
    {
      "metadata": {
        "id": "JGeRV_NguhES",
        "colab_type": "code",
        "colab": {
          "base_uri": "https://localhost:8080/",
          "height": 17
        },
        "outputId": "d84cb89b-c305-4509-abd1-7836426e0439"
      },
      "cell_type": "code",
      "source": [
        "def get_model5():\n",
        "  model = Sequential()\n",
        "  model.add(LSTM(32, return_sequences=True, input_shape=(max_length//skip,1)))\n",
        "  model.add(Dropout(0.4))\n",
        "  model.add(LSTM(32))\n",
        "  model.add(Dropout(0.4))\n",
        "  model.add(Dense(1))\n",
        "  model.add(Activation(\"sigmoid\"))\n",
        "  return model"
      ],
      "execution_count": 44,
      "outputs": []
    },
    {
      "metadata": {
        "id": "w_uNZHWduhJL",
        "colab_type": "code",
        "colab": {
          "base_uri": "https://localhost:8080/",
          "height": 17
        },
        "outputId": "bce2a4e3-7813-41d5-c5a0-ab6725b8683d"
      },
      "cell_type": "code",
      "source": [
        "def get_model6():\n",
        "  model = Sequential()\n",
        "  model.add(LSTM(64, return_sequences=True, input_shape=(max_length//skip,1)))\n",
        "  model.add(Dropout(0.4))\n",
        "  model.add(LSTM(64))\n",
        "  model.add(Dropout(0.4))\n",
        "  model.add(Dense(1))\n",
        "  model.add(Activation(\"sigmoid\"))\n",
        "  return model"
      ],
      "execution_count": 45,
      "outputs": []
    },
    {
      "metadata": {
        "id": "xzVxrl55U4dR",
        "colab_type": "text"
      },
      "cell_type": "markdown",
      "source": [
        "# Data\n",
        "Preprocess the data: combine all the examples together and introduce padding where necessary. Split the longest time series in the several smaller ones."
      ]
    },
    {
      "metadata": {
        "id": "p9cw30IWh8yK",
        "colab_type": "code",
        "colab": {
          "base_uri": "https://localhost:8080/",
          "height": 17
        },
        "outputId": "bf414f76-ade0-4a26-ada6-1c5df593e993"
      },
      "cell_type": "code",
      "source": [
        "# Make a list of dataframes along with their corresponding classes\n",
        "list_df = list()\n",
        "for pow_file in pow_files:\n",
        "  if pow_file[0].find('cubes')==0 or pow_file[0].find('flat')==0:\n",
        "    f = drive.CreateFile({'id': pow_file[1]})\n",
        "    content = f.GetContentString()\n",
        "    dataIO = StringIO(content)\n",
        "    df = pd.read_csv(dataIO, header=None, sep=' ')\n",
        "    list_df.append((df, to_one_hot(categories_dict[pow_file[2]])))"
      ],
      "execution_count": 22,
      "outputs": []
    },
    {
      "metadata": {
        "id": "0JxLBoY_i4li",
        "colab_type": "code",
        "colab": {
          "base_uri": "https://localhost:8080/",
          "height": 17
        },
        "outputId": "dd6c178d-b813-4aaf-bad3-a446c4036fab"
      },
      "cell_type": "code",
      "source": [
        "# Split the biggest examples into separate sequences\n",
        "max_length = 1000\n",
        "long_dfs = [i for i in range(len(list_df)) if list_df[i][0].shape[0] > max_length]\n",
        "list_df_cut = list(list_df)\n",
        "max_examples = 30\n",
        "examples_categories = {0: 0, 1: 0, 2: 0, 3: 0, 4: 0, 5: 0}\n",
        "for i in reversed(long_dfs):\n",
        "  df = list_df_cut[i][0]\n",
        "  category = from_one_hot(list_df_cut[i][1])\n",
        "  for g, split_df in df.groupby(np.arange(len(df)) // max_length):\n",
        "    if examples_categories[category] < max_examples:\n",
        "      list_df_cut.append((split_df, list_df[i][1]))\n",
        "      examples_categories[category] += 1\n",
        "  del list_df_cut[i]"
      ],
      "execution_count": 25,
      "outputs": []
    },
    {
      "metadata": {
        "id": "y1T3HWkIm1lw",
        "colab_type": "code",
        "colab": {
          "base_uri": "https://localhost:8080/",
          "height": 17
        },
        "outputId": "3b527d3e-4701-4625-af77-83c031120712"
      },
      "cell_type": "code",
      "source": [
        "# Get only the measurements for current\n",
        "currents_list = [(np.transpose(np.array(df_cut[0][[2]])), df_cut[1]) for df_cut in list_df_cut]\n",
        "currents_long = [(np.transpose(currents[0]), currents[1]) for currents in currents_list if currents[0].shape[1]>=max_length]\n",
        "currents_no_labels = [currents[0] for currents in currents_long]"
      ],
      "execution_count": 26,
      "outputs": []
    },
    {
      "metadata": {
        "id": "l1tC1WDSjQw8",
        "colab_type": "code",
        "colab": {
          "base_uri": "https://localhost:8080/",
          "height": 364
        },
        "outputId": "7f01f219-1c96-4cf0-c4f7-97b1844543e4"
      },
      "cell_type": "code",
      "source": [
        "plt.plot(currents_no_labels[0])"
      ],
      "execution_count": 27,
      "outputs": [
        {
          "output_type": "execute_result",
          "data": {
            "text/plain": [
              "[<matplotlib.lines.Line2D at 0x7f9b11861860>]"
            ]
          },
          "metadata": {
            "tags": []
          },
          "execution_count": 27
        },
        {
          "output_type": "display_data",
          "data": {
            "image/png": "[encoded data removed]",
            "text/plain": [
              "<matplotlib.figure.Figure at 0x7f9b1182cf98>"
            ]
          },
          "metadata": {
            "tags": []
          }
        }
      ]
    },
    {
      "metadata": {
        "id": "fDc3SUp6BPE8",
        "colab_type": "code",
        "colab": {
          "base_uri": "https://localhost:8080/",
          "height": 17
        },
        "outputId": "c94729b5-2550-4dd8-83d1-410a859fcc1b"
      },
      "cell_type": "code",
      "source": [
        "# Skip some timesteps\n",
        "skip = 1\n",
        "currents_skip = list()\n",
        "for currents in currents_no_labels:\n",
        "  currents_skip.append(list())\n",
        "  i = 0\n",
        "  while True:\n",
        "    currents_skip[-1].append(currents[i])\n",
        "    i += skip\n",
        "    if i >= len(currents):\n",
        "      break"
      ],
      "execution_count": 28,
      "outputs": []
    },
    {
      "metadata": {
        "id": "b2pEzVQUESSD",
        "colab_type": "code",
        "colab": {
          "base_uri": "https://localhost:8080/",
          "height": 17
        },
        "outputId": "4048b786-22ed-454c-f709-cd85fc89523c"
      },
      "cell_type": "code",
      "source": [
        "# Get training data into a numpy matrix\n",
        "full_x = np.stack(currents_skip, axis=0)\n",
        "# Get training labels\n",
        "full_y = np.array([currents[1] for currents in currents_long])\n",
        "full_y_labels = [from_one_hot(one_hot) for one_hot in full_y]"
      ],
      "execution_count": 29,
      "outputs": []
    },
    {
      "metadata": {
        "id": "LtScJnfC9ZSc",
        "colab_type": "code",
        "colab": {
          "base_uri": "https://localhost:8080/",
          "height": 17
        },
        "outputId": "388a6b77-e3bb-46db-ef34-36f7b08e6e95"
      },
      "cell_type": "code",
      "source": [
        "full_y_binary = [0 if label==categories_dict['cubes'] else 1 for label in full_y_labels]\n",
        "full_x_norm = utils.normalize(full_x, axis=0, order=2)"
      ],
      "execution_count": 30,
      "outputs": []
    },
    {
      "metadata": {
        "id": "fin_NKQqvZNc",
        "colab_type": "code",
        "colab": {
          "base_uri": "https://localhost:8080/",
          "height": 364
        },
        "outputId": "b32f0f02-a8fe-4f6d-ea7b-08d36a33ab62"
      },
      "cell_type": "code",
      "source": [
        "# Training set\n",
        "#train_x = full_x_norm[10:89]\n",
        "train_x = full_x[5:-5]\n",
        "train_y = full_y_binary[5:-5]\n",
        "# Test set\n",
        "test_x = np.concatenate((full_x[:5], full_x[-5:]), axis=0)\n",
        "test_y = full_y_binary[:5] + full_y_binary[-5:]\n",
        "\n",
        "plt.plot(full_x[1])\n",
        "print(full_y[1])"
      ],
      "execution_count": 36,
      "outputs": [
        {
          "output_type": "stream",
          "text": [
            "[0. 0. 0. 0. 0. 1.]\n"
          ],
          "name": "stdout"
        },
        {
          "output_type": "display_data",
          "data": {
            "image/png": "[encoded data removed]",
            "text/plain": [
              "<matplotlib.figure.Figure at 0x7f9b1184ec88>"
            ]
          },
          "metadata": {
            "tags": []
          }
        }
      ]
    },
    {
      "metadata": {
        "id": "85G-gt5j2Qe1",
        "colab_type": "code",
        "colab": {
          "base_uri": "https://localhost:8080/",
          "height": 71
        },
        "outputId": "f8852d6d-1d5f-4f60-a1b5-cdb3fb4b99d9"
      },
      "cell_type": "code",
      "source": [
        "print(full_y_binary)\n",
        "print(test_y)"
      ],
      "execution_count": 37,
      "outputs": [
        {
          "output_type": "stream",
          "text": [
            "[1, 1, 1, 1, 1, 1, 1, 1, 1, 1, 1, 1, 1, 0, 0, 0, 0, 0, 0, 0, 0, 0, 0, 0, 0, 0, 0, 0, 0, 0, 0, 0, 0, 0, 0, 0, 0, 0, 0, 0, 0, 0, 0]\n",
            "[1, 1, 1, 1, 1, 0, 0, 0, 0, 0]\n"
          ],
          "name": "stdout"
        }
      ]
    },
    {
      "metadata": {
        "id": "K9kyzpWhMrSc",
        "colab_type": "text"
      },
      "cell_type": "markdown",
      "source": [
        "# Experiment"
      ]
    },
    {
      "metadata": {
        "id": "18uzH69xywMu",
        "colab_type": "code",
        "colab": {
          "base_uri": "https://localhost:8080/",
          "height": 340
        },
        "outputId": "482c3ea9-71a0-44a4-db60-7fd90b6fb67b"
      },
      "cell_type": "code",
      "source": [
        "model = get_model()\n",
        "model.summary()"
      ],
      "execution_count": 39,
      "outputs": [
        {
          "output_type": "stream",
          "text": [
            "_________________________________________________________________\n",
            "Layer (type)                 Output Shape              Param #   \n",
            "=================================================================\n",
            "lstm_3 (LSTM)                (None, 1000, 64)          16896     \n",
            "_________________________________________________________________\n",
            "dropout_3 (Dropout)          (None, 1000, 64)          0         \n",
            "_________________________________________________________________\n",
            "lstm_4 (LSTM)                (None, 64)                33024     \n",
            "_________________________________________________________________\n",
            "dropout_4 (Dropout)          (None, 64)                0         \n",
            "_________________________________________________________________\n",
            "dense_2 (Dense)              (None, 1)                 65        \n",
            "_________________________________________________________________\n",
            "activation_2 (Activation)    (None, 1)                 0         \n",
            "=================================================================\n",
            "Total params: 49,985\n",
            "Trainable params: 49,985\n",
            "Non-trainable params: 0\n",
            "_________________________________________________________________\n"
          ],
          "name": "stdout"
        }
      ]
    },
    {
      "metadata": {
        "id": "XqQqwuwKuDzs",
        "colab_type": "code",
        "colab": {}
      },
      "cell_type": "code",
      "source": [
        "adam = optimizers.Adam(lr=0.001, beta_1=0.9, beta_2=0.999, epsilon=None, decay=0.0, amsgrad=False)\n",
        "model.compile(loss='binary_crossentropy', optimizer=adam, metrics=['accuracy', 'mse'])"
      ],
      "execution_count": 0,
      "outputs": []
    },
    {
      "metadata": {
        "id": "cKnrvOYa8h8G",
        "colab_type": "code",
        "colab": {
          "base_uri": "https://localhost:8080/",
          "height": 3417
        },
        "outputId": "bc6e7ceb-c1c7-4c3e-f633-52463c05979a"
      },
      "cell_type": "code",
      "source": [
        "history = model.fit(train_x, train_y, epochs = 100, batch_size=17, shuffle=True)"
      ],
      "execution_count": 0,
      "outputs": [
        {
          "output_type": "stream",
          "text": [
            "Epoch 1/100\n",
            "33/33 [==============================] - 11s 330ms/step - loss: 0.6903 - acc: 0.4242\n",
            "Epoch 2/100\n",
            "33/33 [==============================] - 9s 261ms/step - loss: 0.6006 - acc: 0.7576\n",
            "Epoch 3/100\n",
            "33/33 [==============================] - 9s 268ms/step - loss: 0.5672 - acc: 0.7576\n",
            "Epoch 4/100\n",
            "33/33 [==============================] - 9s 264ms/step - loss: 0.5638 - acc: 0.7576\n",
            "Epoch 5/100\n",
            "33/33 [==============================] - 9s 264ms/step - loss: 0.5753 - acc: 0.7576\n",
            "Epoch 6/100\n",
            "33/33 [==============================] - 9s 263ms/step - loss: 0.5726 - acc: 0.7576\n",
            "Epoch 7/100\n",
            "33/33 [==============================] - 9s 263ms/step - loss: 0.5749 - acc: 0.7576\n",
            "Epoch 8/100\n",
            "33/33 [==============================] - 9s 264ms/step - loss: 0.5457 - acc: 0.7576\n",
            "Epoch 9/100\n",
            "33/33 [==============================] - 9s 265ms/step - loss: 0.5751 - acc: 0.7576\n",
            "Epoch 10/100\n",
            "33/33 [==============================] - 9s 264ms/step - loss: 0.5894 - acc: 0.7576\n",
            "Epoch 11/100\n",
            "33/33 [==============================] - 9s 265ms/step - loss: 0.5978 - acc: 0.7576\n",
            "Epoch 12/100\n",
            "33/33 [==============================] - 9s 265ms/step - loss: 0.5741 - acc: 0.7576\n",
            "Epoch 13/100\n",
            "33/33 [==============================] - 9s 265ms/step - loss: 0.5573 - acc: 0.7576\n",
            "Epoch 14/100\n",
            "33/33 [==============================] - 9s 265ms/step - loss: 0.5713 - acc: 0.7576\n",
            "Epoch 15/100\n",
            "33/33 [==============================] - 9s 266ms/step - loss: 0.5507 - acc: 0.7576\n",
            "Epoch 16/100\n",
            "33/33 [==============================] - 9s 264ms/step - loss: 0.5589 - acc: 0.7576\n",
            "Epoch 17/100\n",
            "33/33 [==============================] - 9s 263ms/step - loss: 0.6072 - acc: 0.7576\n",
            "Epoch 18/100\n",
            "33/33 [==============================] - 9s 265ms/step - loss: 0.5361 - acc: 0.7879\n",
            "Epoch 19/100\n",
            "33/33 [==============================] - 9s 264ms/step - loss: 0.5241 - acc: 0.7576\n",
            "Epoch 20/100\n",
            "33/33 [==============================] - 9s 265ms/step - loss: 0.5869 - acc: 0.7879\n",
            "Epoch 21/100\n",
            "33/33 [==============================] - 9s 265ms/step - loss: 0.5269 - acc: 0.7879\n",
            "Epoch 22/100\n",
            "33/33 [==============================] - 9s 264ms/step - loss: 0.5317 - acc: 0.7879\n",
            "Epoch 23/100\n",
            "33/33 [==============================] - 9s 264ms/step - loss: 0.5241 - acc: 0.7576\n",
            "Epoch 24/100\n",
            "33/33 [==============================] - 9s 265ms/step - loss: 0.5520 - acc: 0.7576\n",
            "Epoch 25/100\n",
            "33/33 [==============================] - 9s 264ms/step - loss: 0.5542 - acc: 0.7879\n",
            "Epoch 26/100\n",
            "33/33 [==============================] - 9s 270ms/step - loss: 0.5500 - acc: 0.7879\n"
          ],
          "name": "stdout"
        },
        {
          "output_type": "stream",
          "text": [
            "Epoch 27/100\n",
            "33/33 [==============================] - 9s 265ms/step - loss: 0.5434 - acc: 0.7879\n",
            "Epoch 28/100\n",
            "33/33 [==============================] - 9s 267ms/step - loss: 0.5349 - acc: 0.7879\n",
            "Epoch 29/100\n",
            "33/33 [==============================] - 9s 264ms/step - loss: 0.5234 - acc: 0.7879\n",
            "Epoch 30/100\n",
            "33/33 [==============================] - 9s 264ms/step - loss: 0.5401 - acc: 0.7879\n",
            "Epoch 31/100\n",
            "33/33 [==============================] - 9s 263ms/step - loss: 0.5199 - acc: 0.7879\n",
            "Epoch 32/100\n",
            "33/33 [==============================] - 9s 265ms/step - loss: 0.5004 - acc: 0.7879\n",
            "Epoch 33/100\n",
            "33/33 [==============================] - 9s 266ms/step - loss: 0.5372 - acc: 0.7879\n",
            "Epoch 34/100\n",
            "33/33 [==============================] - 9s 267ms/step - loss: 0.5643 - acc: 0.7879\n",
            "Epoch 35/100\n",
            "33/33 [==============================] - 9s 265ms/step - loss: 0.5191 - acc: 0.7879\n",
            "Epoch 36/100\n",
            "33/33 [==============================] - 9s 264ms/step - loss: 0.5265 - acc: 0.7879\n",
            "Epoch 37/100\n",
            "33/33 [==============================] - 9s 263ms/step - loss: 0.5151 - acc: 0.7879\n",
            "Epoch 38/100\n",
            "33/33 [==============================] - 9s 263ms/step - loss: 0.5490 - acc: 0.7879\n",
            "Epoch 39/100\n",
            "33/33 [==============================] - 9s 262ms/step - loss: 0.5899 - acc: 0.7879\n",
            "Epoch 40/100\n",
            "33/33 [==============================] - 9s 260ms/step - loss: 0.5536 - acc: 0.7879\n",
            "Epoch 41/100\n",
            "33/33 [==============================] - 9s 261ms/step - loss: 0.5440 - acc: 0.7879\n",
            "Epoch 42/100\n",
            "33/33 [==============================] - 9s 264ms/step - loss: 0.5320 - acc: 0.7879\n",
            "Epoch 43/100\n",
            "33/33 [==============================] - 9s 265ms/step - loss: 0.5426 - acc: 0.7879\n",
            "Epoch 44/100\n",
            "33/33 [==============================] - 9s 265ms/step - loss: 0.5270 - acc: 0.7879\n",
            "Epoch 45/100\n",
            "33/33 [==============================] - 9s 263ms/step - loss: 0.4758 - acc: 0.7879\n",
            "Epoch 46/100\n",
            "33/33 [==============================] - 9s 265ms/step - loss: 0.4988 - acc: 0.7879\n",
            "Epoch 47/100\n",
            "33/33 [==============================] - 9s 265ms/step - loss: 0.5550 - acc: 0.7879\n",
            "Epoch 48/100\n",
            "33/33 [==============================] - 9s 263ms/step - loss: 0.5241 - acc: 0.7879\n",
            "Epoch 49/100\n",
            "33/33 [==============================] - 9s 265ms/step - loss: 0.5068 - acc: 0.7879\n",
            "Epoch 50/100\n",
            "33/33 [==============================] - 9s 265ms/step - loss: 0.5094 - acc: 0.7879\n",
            "Epoch 51/100\n",
            "33/33 [==============================] - 9s 264ms/step - loss: 0.5449 - acc: 0.7879\n",
            "Epoch 52/100\n",
            "33/33 [==============================] - 9s 266ms/step - loss: 0.5318 - acc: 0.7879\n"
          ],
          "name": "stdout"
        },
        {
          "output_type": "stream",
          "text": [
            "Epoch 53/100\n",
            "33/33 [==============================] - 9s 269ms/step - loss: 0.5767 - acc: 0.7879\n",
            "Epoch 54/100\n",
            "33/33 [==============================] - 9s 264ms/step - loss: 0.5266 - acc: 0.7879\n",
            "Epoch 55/100\n",
            "33/33 [==============================] - 9s 264ms/step - loss: 0.5395 - acc: 0.7879\n",
            "Epoch 56/100\n",
            "33/33 [==============================] - 9s 263ms/step - loss: 0.5195 - acc: 0.7879\n",
            "Epoch 57/100\n",
            "33/33 [==============================] - 9s 262ms/step - loss: 0.5264 - acc: 0.7879\n",
            "Epoch 58/100\n",
            "33/33 [==============================] - 9s 265ms/step - loss: 0.5245 - acc: 0.7879\n",
            "Epoch 59/100\n",
            "33/33 [==============================] - 9s 267ms/step - loss: 0.5744 - acc: 0.7879\n",
            "Epoch 60/100\n",
            "33/33 [==============================] - 9s 271ms/step - loss: 0.5256 - acc: 0.7879\n",
            "Epoch 61/100\n",
            "33/33 [==============================] - 9s 272ms/step - loss: 0.5086 - acc: 0.7879\n",
            "Epoch 62/100\n",
            "33/33 [==============================] - 9s 269ms/step - loss: 0.5337 - acc: 0.7879\n",
            "Epoch 63/100\n",
            "33/33 [==============================] - 9s 264ms/step - loss: 0.5232 - acc: 0.7879\n",
            "Epoch 64/100\n",
            "33/33 [==============================] - 9s 262ms/step - loss: 0.5109 - acc: 0.7879\n",
            "Epoch 65/100\n",
            "33/33 [==============================] - 9s 264ms/step - loss: 0.5177 - acc: 0.7879\n",
            "Epoch 66/100\n",
            "33/33 [==============================] - 9s 266ms/step - loss: 0.4967 - acc: 0.7879\n",
            "Epoch 67/100\n",
            "33/33 [==============================] - 9s 264ms/step - loss: 0.5235 - acc: 0.7879\n",
            "Epoch 68/100\n",
            "33/33 [==============================] - 9s 266ms/step - loss: 0.5284 - acc: 0.7879\n",
            "Epoch 69/100\n",
            "33/33 [==============================] - 9s 264ms/step - loss: 0.5038 - acc: 0.7879\n",
            "Epoch 70/100\n",
            "33/33 [==============================] - 9s 263ms/step - loss: 0.5347 - acc: 0.7879\n",
            "Epoch 71/100\n",
            "33/33 [==============================] - 9s 265ms/step - loss: 0.5272 - acc: 0.7879\n",
            "Epoch 72/100\n",
            "33/33 [==============================] - 9s 264ms/step - loss: 0.5133 - acc: 0.7879\n",
            "Epoch 73/100\n",
            "33/33 [==============================] - 9s 266ms/step - loss: 0.5369 - acc: 0.7879\n",
            "Epoch 74/100\n",
            "33/33 [==============================] - 9s 266ms/step - loss: 0.4662 - acc: 0.8182\n",
            "Epoch 75/100\n",
            "33/33 [==============================] - 9s 266ms/step - loss: 0.2678 - acc: 0.9394\n",
            "Epoch 76/100\n",
            "33/33 [==============================] - 9s 267ms/step - loss: 0.2630 - acc: 0.9394\n",
            "Epoch 77/100\n",
            "33/33 [==============================] - 9s 264ms/step - loss: 0.2354 - acc: 0.9394\n",
            "Epoch 78/100\n",
            "33/33 [==============================] - 9s 264ms/step - loss: 0.2298 - acc: 0.9394\n"
          ],
          "name": "stdout"
        },
        {
          "output_type": "stream",
          "text": [
            "Epoch 79/100\n",
            "33/33 [==============================] - 9s 265ms/step - loss: 0.2277 - acc: 0.9394\n",
            "Epoch 80/100\n",
            "33/33 [==============================] - 9s 265ms/step - loss: 0.2315 - acc: 0.9394\n",
            "Epoch 81/100\n",
            "33/33 [==============================] - 9s 266ms/step - loss: 0.2266 - acc: 0.9394\n",
            "Epoch 82/100\n",
            "33/33 [==============================] - 9s 269ms/step - loss: 0.2214 - acc: 0.9394\n",
            "Epoch 83/100\n",
            "33/33 [==============================] - 9s 258ms/step - loss: 0.2000 - acc: 0.9394\n",
            "Epoch 84/100\n",
            "33/33 [==============================] - 8s 254ms/step - loss: 0.2304 - acc: 0.9394\n",
            "Epoch 85/100\n",
            "33/33 [==============================] - 9s 258ms/step - loss: 0.2073 - acc: 0.9394\n",
            "Epoch 86/100\n",
            "33/33 [==============================] - 9s 258ms/step - loss: 0.2384 - acc: 0.9394\n",
            "Epoch 87/100\n",
            "33/33 [==============================] - 9s 266ms/step - loss: 0.1843 - acc: 0.9394\n",
            "Epoch 88/100\n",
            "33/33 [==============================] - 9s 265ms/step - loss: 0.2226 - acc: 0.9394\n",
            "Epoch 89/100\n",
            "33/33 [==============================] - 9s 268ms/step - loss: 0.2085 - acc: 0.9394\n",
            "Epoch 90/100\n",
            "33/33 [==============================] - 9s 264ms/step - loss: 0.2313 - acc: 0.9394\n",
            "Epoch 91/100\n",
            "33/33 [==============================] - 9s 264ms/step - loss: 0.2018 - acc: 0.9394\n",
            "Epoch 92/100\n",
            "33/33 [==============================] - 9s 264ms/step - loss: 0.2133 - acc: 0.9394\n",
            "Epoch 93/100\n",
            "33/33 [==============================] - 9s 265ms/step - loss: 0.2068 - acc: 0.9394\n",
            "Epoch 94/100\n",
            "33/33 [==============================] - 9s 267ms/step - loss: 0.2228 - acc: 0.9394\n",
            "Epoch 95/100\n",
            "33/33 [==============================] - 9s 263ms/step - loss: 0.2369 - acc: 0.9394\n",
            "Epoch 96/100\n",
            "33/33 [==============================] - 9s 262ms/step - loss: 0.2034 - acc: 0.9394\n",
            "Epoch 97/100\n",
            "33/33 [==============================] - 9s 267ms/step - loss: 0.2519 - acc: 0.9394\n",
            "Epoch 98/100\n",
            "33/33 [==============================] - 9s 269ms/step - loss: 0.2170 - acc: 0.9394\n",
            "Epoch 99/100\n",
            "33/33 [==============================] - 9s 264ms/step - loss: 0.2242 - acc: 0.9394\n",
            "Epoch 100/100\n",
            "33/33 [==============================] - 9s 264ms/step - loss: 0.2617 - acc: 0.9394\n"
          ],
          "name": "stdout"
        }
      ]
    },
    {
      "metadata": {
        "id": "Lq241ZvXmBgs",
        "colab_type": "code",
        "colab": {
          "base_uri": "https://localhost:8080/",
          "height": 393
        },
        "outputId": "9c848705-b1ef-47ad-c286-98e6dcdbf806"
      },
      "cell_type": "code",
      "source": [
        "# Plot the accuracy during training\n",
        "plt.plot(history.history['acc'])\n",
        "plt.title(\"Accuracy during training\")\n",
        "plt.ylabel(\"accuracy\")\n",
        "plt.xlabel(\"epoch\")"
      ],
      "execution_count": 0,
      "outputs": [
        {
          "output_type": "execute_result",
          "data": {
            "text/plain": [
              "Text(0.5,0,'epoch')"
            ]
          },
          "metadata": {
            "tags": []
          },
          "execution_count": 247
        },
        {
          "output_type": "display_data",
          "data": {
            "image/png": "[encoded data removed]",
            "text/plain": [
              "<matplotlib.figure.Figure at 0x7fd0b93f0320>"
            ]
          },
          "metadata": {
            "tags": []
          }
        }
      ]
    },
    {
      "metadata": {
        "id": "XDhfH6d52GUw",
        "colab_type": "code",
        "colab": {
          "base_uri": "https://localhost:8080/",
          "height": 393
        },
        "outputId": "9dfdca18-6bf3-4615-bde8-0a4ba3019726"
      },
      "cell_type": "code",
      "source": [
        "plt.plot(history.history['loss'])\n",
        "plt.title(\"Loss during training\")\n",
        "plt.ylabel(\"loss\")\n",
        "plt.xlabel(\"epoch\")"
      ],
      "execution_count": 0,
      "outputs": [
        {
          "output_type": "execute_result",
          "data": {
            "text/plain": [
              "Text(0.5,0,'epoch')"
            ]
          },
          "metadata": {
            "tags": []
          },
          "execution_count": 248
        },
        {
          "output_type": "display_data",
          "data": {
            "image/png": "[encoded data removed]",
            "text/plain": [
              "<matplotlib.figure.Figure at 0x7fd0bbdd3da0>"
            ]
          },
          "metadata": {
            "tags": []
          }
        }
      ]
    },
    {
      "metadata": {
        "id": "MMhv-sFQCz7h",
        "colab_type": "code",
        "colab": {
          "base_uri": "https://localhost:8080/",
          "height": 51
        },
        "outputId": "73398fe2-27d2-4726-f962-8a8dfb7d265e"
      },
      "cell_type": "code",
      "source": [
        "# Evalute the same model\n",
        "model.evaluate(x=test_x, y=test_y)\n"
      ],
      "execution_count": 0,
      "outputs": [
        {
          "output_type": "stream",
          "text": [
            "\r10/10 [==============================] - 1s 100ms/step\n"
          ],
          "name": "stdout"
        },
        {
          "output_type": "execute_result",
          "data": {
            "text/plain": [
              "[0.03714872524142265, 1.0]"
            ]
          },
          "metadata": {
            "tags": []
          },
          "execution_count": 259
        }
      ]
    }
  ]
}