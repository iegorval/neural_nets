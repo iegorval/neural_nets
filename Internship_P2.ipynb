{
  "nbformat": 4,
  "nbformat_minor": 0,
  "metadata": {
    "colab": {
      "name": "Untitled0.ipynb",
      "version": "0.3.2",
      "provenance": [],
      "collapsed_sections": [],
      "toc_visible": true
    },
    "kernelspec": {
      "name": "python3",
      "display_name": "Python 3"
    }
  },
  "cells": [
    {
      "cell_type": "markdown",
      "metadata": {
        "id": "view-in-github",
        "colab_type": "text"
      },
      "source": [
        "[View in Colaboratory](https://colab.research.google.com/github/iegorval/neural_nets/blob/internship/Internship_P2.ipynb)"
      ]
    },
    {
      "metadata": {
        "id": "oV2qqlq5QmNd",
        "colab_type": "text"
      },
      "cell_type": "markdown",
      "source": [
        "# Getting Ready\n",
        "Prepare the files and the libraries for the experiment."
      ]
    },
    {
      "metadata": {
        "id": "aWQrp_kPQop9",
        "colab_type": "code",
        "colab": {
          "base_uri": "https://localhost:8080/",
          "height": 17
        },
        "outputId": "2fa5e180-dcf4-4f05-c05c-36e3ef23b393"
      },
      "cell_type": "code",
      "source": [
        "# Installs\n",
        "!pip install -U -q PyDrive"
      ],
      "execution_count": 1,
      "outputs": []
    },
    {
      "metadata": {
        "id": "FAQQdDA9UBDj",
        "colab_type": "code",
        "colab": {
          "base_uri": "https://localhost:8080/",
          "height": 34
        },
        "outputId": "2799d255-6f6d-4dee-eec1-d60dbb650464"
      },
      "cell_type": "code",
      "source": [
        "# Imports\n",
        "from pydrive.auth import GoogleAuth\n",
        "from pydrive.drive import GoogleDrive\n",
        "from google.colab import auth\n",
        "from oauth2client.client import GoogleCredentials\n",
        "import numpy as np \n",
        "import pandas as pd\n",
        "import matplotlib.pyplot as plt\n",
        "from keras.layers import LSTM, Input, Activation, Dense, TimeDistributed, Dropout, BatchNormalization\n",
        "from keras.models import Sequential\n",
        "from keras import optimizers\n",
        "from keras.callbacks import Callback\n",
        "import keras.backend as K\n",
        "import keras.utils as utils\n",
        "from sklearn.metrics import confusion_matrix, f1_score, precision_score, recall_score\n",
        "import re\n",
        "from io import StringIO"
      ],
      "execution_count": 2,
      "outputs": [
        {
          "output_type": "stream",
          "text": [
            "Using TensorFlow backend.\n"
          ],
          "name": "stderr"
        }
      ]
    },
    {
      "metadata": {
        "id": "3hcA5ujlQsX7",
        "colab_type": "code",
        "colab": {
          "base_uri": "https://localhost:8080/",
          "height": 17
        },
        "outputId": "622ef46f-e576-471b-e33f-09e00d7faac7"
      },
      "cell_type": "code",
      "source": [
        "# PyDrive client\n",
        "auth.authenticate_user()\n",
        "gauth = GoogleAuth()\n",
        "gauth.credentials = GoogleCredentials.get_application_default()\n",
        "drive = GoogleDrive(gauth)\n",
        "# Get all files from the root folder\n",
        "file_list = drive.ListFile({'q': \"'root' in parents and trashed=false\"}).GetList()"
      ],
      "execution_count": 3,
      "outputs": []
    },
    {
      "metadata": {
        "id": "g6sjBvHZcFKB",
        "colab_type": "code",
        "colab": {
          "base_uri": "https://localhost:8080/",
          "height": 17
        },
        "outputId": "52fa7293-88c7-4d2e-e011-60f2ca8bc2d1"
      },
      "cell_type": "code",
      "source": [
        "# Get the .pow files \n",
        "pow_files = [(file['title'], file['id'], re.sub(r'_[0-9]+|.pow', '', file['title'])) \n",
        "             for file in file_list if file['title'].find('.pow')>0]\n",
        "num_examples = len(pow_files)\n",
        "# Get the categories\n",
        "categories = list(set([file_info[2] for file_info in pow_files]))\n",
        "# Get the dictionary of the categories\n",
        "num_cat = len(categories)\n",
        "categories_dict = {categories[i] : i for i in range(num_cat)}"
      ],
      "execution_count": 4,
      "outputs": []
    },
    {
      "metadata": {
        "id": "_086i_ixmHis",
        "colab_type": "code",
        "colab": {
          "base_uri": "https://localhost:8080/",
          "height": 34
        },
        "outputId": "798e31fa-6c38-403c-9d98-0566d85b11f2"
      },
      "cell_type": "code",
      "source": [
        "print(categories_dict)"
      ],
      "execution_count": 5,
      "outputs": [
        {
          "output_type": "stream",
          "text": [
            "{'black_rough': 0, 'black_flat': 1, 'grass_flat': 2, 'cubes': 3, 'flat': 4, 'grass_rough': 5}\n"
          ],
          "name": "stdout"
        }
      ]
    },
    {
      "metadata": {
        "id": "gAXuechYyXpq",
        "colab_type": "text"
      },
      "cell_type": "markdown",
      "source": [
        "# Utils\n",
        "Helper functions."
      ]
    },
    {
      "metadata": {
        "id": "wJwNdX5UyT1a",
        "colab_type": "code",
        "colab": {
          "base_uri": "https://localhost:8080/",
          "height": 17
        },
        "outputId": "ee150fff-909f-4329-c530-012ee1bec28e"
      },
      "cell_type": "code",
      "source": [
        "def to_one_hot(category):\n",
        "  assert category < num_cat\n",
        "  one_hot = np.zeros((num_cat))\n",
        "  one_hot[category] = 1\n",
        "  return one_hot"
      ],
      "execution_count": 6,
      "outputs": []
    },
    {
      "metadata": {
        "id": "TVWW1kVnMNxP",
        "colab_type": "code",
        "colab": {
          "base_uri": "https://localhost:8080/",
          "height": 17
        },
        "outputId": "693a8d1d-2b6f-49e3-f0c5-566a45c39ea5"
      },
      "cell_type": "code",
      "source": [
        "def from_one_hot(one_hot):\n",
        "  for i in range(len(one_hot)):\n",
        "    if one_hot[i]==1:\n",
        "      return i"
      ],
      "execution_count": 7,
      "outputs": []
    },
    {
      "metadata": {
        "id": "0bfZo4MevEmv",
        "colab_type": "text"
      },
      "cell_type": "markdown",
      "source": [
        "# Model\n",
        "Recurrent Neural Network model in Keras."
      ]
    },
    {
      "metadata": {
        "id": "HAbg2Knco78O",
        "colab_type": "code",
        "colab": {
          "base_uri": "https://localhost:8080/",
          "height": 17
        },
        "outputId": "fa40fe8f-723a-4c2f-8030-df40949c731a"
      },
      "cell_type": "code",
      "source": [
        "def get_model1():\n",
        "  model = Sequential()\n",
        "  model.add(LSTM(32, return_sequences=False, input_shape=(max_length//skip,1)))\n",
        "  model.add(Dense(1))\n",
        "  model.add(Activation(\"sigmoid\"))\n",
        "  return model"
      ],
      "execution_count": 8,
      "outputs": []
    },
    {
      "metadata": {
        "id": "ETEc6ZwlugeT",
        "colab_type": "code",
        "colab": {
          "base_uri": "https://localhost:8080/",
          "height": 17
        },
        "outputId": "3ce6df32-8e15-47e2-b48d-28c337074e23"
      },
      "cell_type": "code",
      "source": [
        "def get_model2():\n",
        "  model = Sequential()\n",
        "  model.add(LSTM(64, return_sequences=False, input_shape=(max_length//skip,1)))\n",
        "  model.add(Dense(1))\n",
        "  model.add(Activation(\"sigmoid\"))\n",
        "  return model"
      ],
      "execution_count": 9,
      "outputs": []
    },
    {
      "metadata": {
        "id": "TX8OhAfWuglM",
        "colab_type": "code",
        "colab": {}
      },
      "cell_type": "code",
      "source": [
        "def get_model3():\n",
        "  model = Sequential()\n",
        "  model.add(LSTM(32, return_sequences=True, input_shape=(max_length//skip,1)))\n",
        "  model.add(LSTM(32))\n",
        "  model.add(Dense(1))\n",
        "  model.add(Activation(\"sigmoid\"))\n",
        "  return model"
      ],
      "execution_count": 0,
      "outputs": []
    },
    {
      "metadata": {
        "id": "ZO6Ro7NEugv2",
        "colab_type": "code",
        "colab": {}
      },
      "cell_type": "code",
      "source": [
        "def get_model4():\n",
        "  model = Sequential()\n",
        "  model.add(LSTM(64, return_sequences=True, input_shape=(max_length//skip,1)))\n",
        "  model.add(LSTM(64))\n",
        "  model.add(Dense(1))\n",
        "  model.add(Activation(\"sigmoid\"))\n",
        "  return model"
      ],
      "execution_count": 0,
      "outputs": []
    },
    {
      "metadata": {
        "id": "JGeRV_NguhES",
        "colab_type": "code",
        "colab": {}
      },
      "cell_type": "code",
      "source": [
        "def get_model5():\n",
        "  model = Sequential()\n",
        "  model.add(LSTM(32, return_sequences=True, input_shape=(max_length//skip,1)))\n",
        "  model.add(Dropout(0.4))\n",
        "  model.add(LSTM(32))\n",
        "  model.add(Dropout(0.4))\n",
        "  model.add(Dense(1))\n",
        "  model.add(Activation(\"sigmoid\"))\n",
        "  return model"
      ],
      "execution_count": 0,
      "outputs": []
    },
    {
      "metadata": {
        "id": "w_uNZHWduhJL",
        "colab_type": "code",
        "colab": {}
      },
      "cell_type": "code",
      "source": [
        "def get_model6():\n",
        "  model = Sequential()\n",
        "  model.add(LSTM(64, return_sequences=True, input_shape=(max_length//skip,1)))\n",
        "  model.add(Dropout(0.4))\n",
        "  model.add(LSTM(64))\n",
        "  model.add(Dropout(0.4))\n",
        "  model.add(Dense(1))\n",
        "  model.add(Activation(\"sigmoid\"))\n",
        "  return model"
      ],
      "execution_count": 0,
      "outputs": []
    },
    {
      "metadata": {
        "id": "xzVxrl55U4dR",
        "colab_type": "text"
      },
      "cell_type": "markdown",
      "source": [
        "# Data\n",
        "Preprocess the data: combine all the examples together and introduce padding where necessary. Split the longest time series in the several smaller ones."
      ]
    },
    {
      "metadata": {
        "id": "p9cw30IWh8yK",
        "colab_type": "code",
        "colab": {
          "base_uri": "https://localhost:8080/",
          "height": 17
        },
        "outputId": "f7e7242b-46aa-4eb3-9057-a3580b42456b"
      },
      "cell_type": "code",
      "source": [
        "# Make a list of dataframes along with their corresponding classes\n",
        "list_df = list()\n",
        "for pow_file in pow_files:\n",
        "  if pow_file[0].find('cubes')==0 or pow_file[0].find('flat')==0:\n",
        "    f = drive.CreateFile({'id': pow_file[1]})\n",
        "    content = f.GetContentString()\n",
        "    dataIO = StringIO(content)\n",
        "    df = pd.read_csv(dataIO, header=None, sep=' ')\n",
        "    list_df.append((df, to_one_hot(categories_dict[pow_file[2]])))"
      ],
      "execution_count": 9,
      "outputs": []
    },
    {
      "metadata": {
        "id": "Zu3byejeB032",
        "colab_type": "code",
        "colab": {
          "base_uri": "https://localhost:8080/",
          "height": 17
        },
        "outputId": "5972ee06-569e-4221-f3be-b61b004311bb"
      },
      "cell_type": "code",
      "source": [
        "# Make a list of dataframes along with their corresponding classes\n",
        "list_df = list()\n",
        "for pow_file in pow_files:\n",
        "  if pow_file[0].find('black_rough')==0 or pow_file[0].find('grass_rough')==0 \\\n",
        "     or pow_file[0].find('black_flat')==0 or pow_file[0].find('grass_flat')==0:\n",
        "    f = drive.CreateFile({'id': pow_file[1]})\n",
        "    content = f.GetContentString()\n",
        "    dataIO = StringIO(content)\n",
        "    df = pd.read_csv(dataIO, header=None, sep=' ')\n",
        "    list_df.append((df, to_one_hot(categories_dict[pow_file[2]])))"
      ],
      "execution_count": 10,
      "outputs": []
    },
    {
      "metadata": {
        "id": "0JxLBoY_i4li",
        "colab_type": "code",
        "colab": {
          "base_uri": "https://localhost:8080/",
          "height": 17
        },
        "outputId": "0c7980d1-bcf5-4cfc-fef6-4dd1a8301a17"
      },
      "cell_type": "code",
      "source": [
        "# Split the biggest examples into separate sequences\n",
        "max_length = 100\n",
        "long_dfs = [i for i in range(len(list_df)) if list_df[i][0].shape[0] > max_length]\n",
        "list_df_cut = list(list_df)\n",
        "max_examples = 3000\n",
        "examples_categories = {0: 0, 1: 0, 2: 0, 3: 0, 4: 0, 5: 0}\n",
        "for i in reversed(long_dfs):\n",
        "  df = list_df_cut[i][0]\n",
        "  category = from_one_hot(list_df_cut[i][1])\n",
        "  for g, split_df in df.groupby(np.arange(len(df)) // max_length):\n",
        "    if examples_categories[category] < max_examples:\n",
        "      list_df_cut.append((split_df, list_df[i][1]))\n",
        "      examples_categories[category] += 1\n",
        "  del list_df_cut[i]"
      ],
      "execution_count": 11,
      "outputs": []
    },
    {
      "metadata": {
        "id": "y1T3HWkIm1lw",
        "colab_type": "code",
        "colab": {
          "base_uri": "https://localhost:8080/",
          "height": 17
        },
        "outputId": "a4e77652-9259-4d6a-ff86-dbfa0011f249"
      },
      "cell_type": "code",
      "source": [
        "# Get only the measurements for current\n",
        "currents_list = [(np.transpose(np.array(df_cut[0][[2]])), df_cut[1]) for df_cut in list_df_cut]\n",
        "currents_long = [(np.transpose(currents[0]), currents[1]) for currents in currents_list if currents[0].shape[1]>=max_length]\n",
        "currents_no_labels = [currents[0] for currents in currents_long]"
      ],
      "execution_count": 12,
      "outputs": []
    },
    {
      "metadata": {
        "id": "l1tC1WDSjQw8",
        "colab_type": "code",
        "colab": {
          "base_uri": "https://localhost:8080/",
          "height": 367
        },
        "outputId": "0ef27d49-0950-461d-f890-15b6d2c0ba00"
      },
      "cell_type": "code",
      "source": [
        "plt.plot(currents_no_labels[0])"
      ],
      "execution_count": 13,
      "outputs": [
        {
          "output_type": "execute_result",
          "data": {
            "text/plain": [
              "[<matplotlib.lines.Line2D at 0x7f4f5c155eb8>]"
            ]
          },
          "metadata": {
            "tags": []
          },
          "execution_count": 13
        },
        {
          "output_type": "display_data",
          "data": {
            "image/png": "[encoded data removed]",
            "text/plain": [
              "<matplotlib.figure.Figure at 0x7f4f5c3f5588>"
            ]
          },
          "metadata": {
            "tags": []
          }
        }
      ]
    },
    {
      "metadata": {
        "id": "fDc3SUp6BPE8",
        "colab_type": "code",
        "colab": {
          "base_uri": "https://localhost:8080/",
          "height": 17
        },
        "outputId": "f37d1b07-ba10-458a-aad3-03b7fbdf3552"
      },
      "cell_type": "code",
      "source": [
        "# Skip some timesteps\n",
        "skip = 1\n",
        "currents_skip = list()\n",
        "for currents in currents_no_labels:\n",
        "  currents_skip.append(list())\n",
        "  i = 0\n",
        "  while True:\n",
        "    currents_skip[-1].append(currents[i])\n",
        "    i += skip\n",
        "    if i >= len(currents):\n",
        "      break"
      ],
      "execution_count": 14,
      "outputs": []
    },
    {
      "metadata": {
        "id": "b2pEzVQUESSD",
        "colab_type": "code",
        "colab": {
          "base_uri": "https://localhost:8080/",
          "height": 17
        },
        "outputId": "8b8ff834-c087-43d2-991a-09ab5706e3fc"
      },
      "cell_type": "code",
      "source": [
        "# Get training data into a numpy matrix\n",
        "full_x = np.stack(currents_skip, axis=0)\n",
        "# Get training labels\n",
        "full_y = np.array([currents[1] for currents in currents_long])\n",
        "full_y_labels = [from_one_hot(one_hot) for one_hot in full_y]"
      ],
      "execution_count": 15,
      "outputs": []
    },
    {
      "metadata": {
        "id": "tuQAXLkvB-Le",
        "colab_type": "code",
        "colab": {
          "base_uri": "https://localhost:8080/",
          "height": 54
        },
        "outputId": "f3a6378d-7be5-4eef-aa37-ed2890aeed60"
      },
      "cell_type": "code",
      "source": [
        "print(full_y_labels)\n",
        "k0 = full_y_labels.index(0)\n",
        "k1 = full_y_labels.index(1)\n",
        "k3 = full_y_labels.index(2)\n",
        "k4 = full_y_labels.index(5)"
      ],
      "execution_count": 17,
      "outputs": [
        {
          "output_type": "stream",
          "text": [
            "[1, 1, 1, 1, 1, 1, 1, 1, 1, 1, 1, 1, 1, 1, 1, 1, 1, 1, 1, 1, 1, 1, 1, 1, 1, 1, 1, 1, 1, 1, 1, 1, 1, 1, 1, 1, 1, 1, 1, 1, 1, 1, 1, 1, 1, 1, 1, 1, 1, 1, 1, 1, 1, 1, 1, 1, 1, 1, 1, 1, 1, 1, 1, 1, 1, 1, 1, 1, 1, 1, 1, 1, 1, 1, 1, 1, 1, 1, 1, 1, 1, 1, 1, 1, 1, 1, 1, 1, 1, 1, 1, 1, 1, 1, 1, 1, 1, 1, 1, 1, 1, 1, 1, 1, 1, 1, 1, 1, 1, 1, 2, 2, 2, 2, 2, 2, 2, 2, 2, 2, 2, 2, 2, 2, 2, 2, 2, 2, 2, 2, 2, 2, 2, 2, 2, 2, 2, 2, 2, 2, 2, 2, 2, 2, 2, 0, 0, 0, 0, 0, 0, 0, 0, 0, 0, 0, 0, 0, 0, 0, 0, 0, 0, 0, 0, 0, 0, 0, 0, 0, 0, 0, 0, 0, 0, 0, 0, 0, 0, 0, 0, 0, 0, 0, 0, 2, 2, 2, 2, 2, 2, 2, 2, 2, 2, 2, 2, 2, 2, 2, 2, 2, 2, 2, 2, 2, 2, 2, 2, 2, 2, 2, 2, 2, 2, 2, 2, 2, 2, 2, 0, 0, 0, 0, 0, 0, 0, 0, 0, 0, 0, 0, 0, 0, 0, 0, 0, 0, 0, 0, 0, 0, 0, 0, 0, 0, 0, 0, 0, 0, 0, 0, 0, 0, 0, 0, 0, 0, 0, 0, 0, 0, 0, 0, 0, 0, 0, 0, 0, 0, 0, 0, 0, 0, 0, 0, 0, 0, 0, 0, 0, 0, 0, 0, 0, 0, 0, 0, 0, 0, 0, 0, 0, 0, 0, 0, 0, 0, 0, 0, 0, 0, 0, 0, 0, 0, 0, 0, 0, 0, 0, 0, 0, 0, 0, 0, 0, 0, 0, 0, 0, 0, 0, 0, 0, 0, 0, 0, 0, 0, 0, 0, 0, 0, 0, 0, 0, 0, 0, 0, 0, 0, 0, 0, 0, 0, 0, 0, 0, 0, 0, 0, 0, 0, 0, 0, 0, 0, 0, 0, 0, 0, 0, 0, 0, 0, 0, 0, 0, 0, 0, 0, 0, 0, 0, 0, 0, 0, 0, 0, 0, 0, 0, 0, 0, 0, 0, 0, 0, 0, 0, 0, 2, 2, 2, 2, 2, 2, 2, 2, 2, 2, 2, 2, 2, 2, 2, 2, 2, 2, 2, 2, 2, 2, 2, 2, 2, 2, 2, 2, 2, 2, 2, 2, 2, 2, 2, 2, 2, 2, 2, 2, 2, 2, 2, 2, 2, 5, 5, 5, 5, 5, 5, 5, 5, 5, 5, 5, 5, 5, 5, 5, 5, 5, 5, 5, 5, 5, 5, 5, 5, 5, 5, 5, 5, 5, 5, 5, 5, 5, 5, 5, 5, 5, 5, 5, 5, 5, 5, 5, 5, 5, 5, 5, 5, 5, 5, 5, 5, 5, 5, 5, 5, 5, 5, 5, 5, 5, 5, 5, 5, 5, 5, 5, 5, 5, 5, 5, 5, 5, 5, 5, 5, 5, 5, 5, 5, 5, 5, 5, 5, 5, 5, 5, 5, 5, 5, 5, 5, 5, 5, 5, 5, 5, 5, 5, 5, 5, 5, 5, 5, 5, 5, 5, 5, 5, 5, 5, 5, 5, 5, 5, 5, 5, 5, 5, 5, 5, 5, 5, 5, 5, 5, 5, 5, 5, 5, 5, 5, 5, 5, 5, 5, 5, 5, 5, 5, 5, 5, 5, 5, 5, 5, 5, 5, 5, 5, 5, 5, 5, 5, 5, 5, 5, 5, 2, 2, 2, 2, 2, 2, 2, 2, 2, 2, 2, 2, 2, 2, 2, 2, 2, 2, 2, 2, 2, 2, 2, 2, 2, 2, 2, 2, 2, 2, 2, 2, 2, 2, 2, 2, 2, 2, 2, 2, 2, 2, 2, 2, 2, 2, 2, 2, 2, 2, 2, 2, 2, 2, 2, 2, 2, 2, 2, 2]\n"
          ],
          "name": "stdout"
        }
      ]
    },
    {
      "metadata": {
        "id": "LtScJnfC9ZSc",
        "colab_type": "code",
        "colab": {
          "base_uri": "https://localhost:8080/",
          "height": 17
        },
        "outputId": "c8b33860-dc57-4b22-ca79-c528453600a2"
      },
      "cell_type": "code",
      "source": [
        "full_y_binary = [0 if label==categories_dict['black_flat'] or label==categories_dict['black_rough'] else 1 for label in full_y_labels]\n",
        "full_x_norm = utils.normalize(full_x, axis=0, order=2)"
      ],
      "execution_count": 19,
      "outputs": []
    },
    {
      "metadata": {
        "id": "fin_NKQqvZNc",
        "colab_type": "code",
        "colab": {
          "base_uri": "https://localhost:8080/",
          "height": 367
        },
        "outputId": "8f0ce7a7-f90b-48ac-8772-642f01bb6b51"
      },
      "cell_type": "code",
      "source": [
        "# Training set\n",
        "#train_x = full_x_norm[10:89]\n",
        "#train_x = full_x[50:-50]\n",
        "train_x = np.concatenate((full_x[k0+30:k1], full_x[k1+30:k3], full_x[k3+30:k4], full_x[k4+30:]), axis=0)\n",
        "train_y = full_y_binary[k0+30:k1] + full_y_binary[k1+30:k3] + full_y_binary[k3+30:k4] + full_y_binary[k4+30:]\n",
        "# Test set\n",
        "#test_x = np.concatenate((full_x[:50], full_x[-50:]), axis=0)\n",
        "test_x = np.concatenate((full_x[k0:k0+30], full_x[k1:k1+30], full_x[k3:k3+30], full_x[k4:k4+30]), axis=0)\n",
        "#test_y = full_y_binary[:50] + full_y_binary[-50:]\n",
        "test_y = full_y_binary[k0:k0+30] + full_y_binary[k1:k1+30] + full_y_binary[k3:k3+30] + full_y_binary[k4:k4+30]\n",
        "\n",
        "plt.plot(full_x[1])\n",
        "print(full_y[1])"
      ],
      "execution_count": 21,
      "outputs": [
        {
          "output_type": "stream",
          "text": [
            "[0. 1. 0. 0. 0. 0.]\n"
          ],
          "name": "stdout"
        },
        {
          "output_type": "display_data",
          "data": {
            "image/png": "[encoded data removed]",
            "text/plain": [
              "<matplotlib.figure.Figure at 0x7f4f59ad0d30>"
            ]
          },
          "metadata": {
            "tags": []
          }
        }
      ]
    },
    {
      "metadata": {
        "id": "85G-gt5j2Qe1",
        "colab_type": "code",
        "colab": {
          "base_uri": "https://localhost:8080/",
          "height": 71
        },
        "outputId": "32ac2f0f-3097-4e59-942e-f5db25c484c2"
      },
      "cell_type": "code",
      "source": [
        "print(full_y_binary)\n",
        "print(test_y)"
      ],
      "execution_count": 22,
      "outputs": [
        {
          "output_type": "stream",
          "text": [
            "[0, 0, 0, 0, 0, 0, 0, 0, 0, 0, 0, 0, 0, 0, 0, 0, 0, 0, 0, 0, 0, 0, 0, 0, 0, 0, 0, 0, 0, 0, 0, 0, 0, 0, 0, 0, 0, 0, 0, 0, 0, 0, 0, 0, 0, 0, 0, 0, 0, 0, 0, 0, 0, 0, 0, 0, 0, 0, 0, 0, 0, 0, 0, 0, 0, 0, 0, 0, 0, 0, 0, 0, 0, 0, 0, 0, 0, 0, 0, 0, 0, 0, 0, 0, 0, 0, 0, 0, 0, 0, 0, 0, 0, 0, 0, 0, 0, 0, 0, 0, 0, 0, 0, 0, 0, 0, 0, 0, 0, 0, 1, 1, 1, 1, 1, 1, 1, 1, 1, 1, 1, 1, 1, 1, 1, 1, 1, 1, 1, 1, 1, 1, 1, 1, 1, 1, 1, 1, 1, 1, 1, 1, 1, 1, 1, 0, 0, 0, 0, 0, 0, 0, 0, 0, 0, 0, 0, 0, 0, 0, 0, 0, 0, 0, 0, 0, 0, 0, 0, 0, 0, 0, 0, 0, 0, 0, 0, 0, 0, 0, 0, 0, 0, 0, 0, 1, 1, 1, 1, 1, 1, 1, 1, 1, 1, 1, 1, 1, 1, 1, 1, 1, 1, 1, 1, 1, 1, 1, 1, 1, 1, 1, 1, 1, 1, 1, 1, 1, 1, 1, 0, 0, 0, 0, 0, 0, 0, 0, 0, 0, 0, 0, 0, 0, 0, 0, 0, 0, 0, 0, 0, 0, 0, 0, 0, 0, 0, 0, 0, 0, 0, 0, 0, 0, 0, 0, 0, 0, 0, 0, 0, 0, 0, 0, 0, 0, 0, 0, 0, 0, 0, 0, 0, 0, 0, 0, 0, 0, 0, 0, 0, 0, 0, 0, 0, 0, 0, 0, 0, 0, 0, 0, 0, 0, 0, 0, 0, 0, 0, 0, 0, 0, 0, 0, 0, 0, 0, 0, 0, 0, 0, 0, 0, 0, 0, 0, 0, 0, 0, 0, 0, 0, 0, 0, 0, 0, 0, 0, 0, 0, 0, 0, 0, 0, 0, 0, 0, 0, 0, 0, 0, 0, 0, 0, 0, 0, 0, 0, 0, 0, 0, 0, 0, 0, 0, 0, 0, 0, 0, 0, 0, 0, 0, 0, 0, 0, 0, 0, 0, 0, 0, 0, 0, 0, 0, 0, 0, 0, 0, 0, 0, 0, 0, 0, 0, 0, 0, 0, 0, 0, 0, 0, 1, 1, 1, 1, 1, 1, 1, 1, 1, 1, 1, 1, 1, 1, 1, 1, 1, 1, 1, 1, 1, 1, 1, 1, 1, 1, 1, 1, 1, 1, 1, 1, 1, 1, 1, 1, 1, 1, 1, 1, 1, 1, 1, 1, 1, 1, 1, 1, 1, 1, 1, 1, 1, 1, 1, 1, 1, 1, 1, 1, 1, 1, 1, 1, 1, 1, 1, 1, 1, 1, 1, 1, 1, 1, 1, 1, 1, 1, 1, 1, 1, 1, 1, 1, 1, 1, 1, 1, 1, 1, 1, 1, 1, 1, 1, 1, 1, 1, 1, 1, 1, 1, 1, 1, 1, 1, 1, 1, 1, 1, 1, 1, 1, 1, 1, 1, 1, 1, 1, 1, 1, 1, 1, 1, 1, 1, 1, 1, 1, 1, 1, 1, 1, 1, 1, 1, 1, 1, 1, 1, 1, 1, 1, 1, 1, 1, 1, 1, 1, 1, 1, 1, 1, 1, 1, 1, 1, 1, 1, 1, 1, 1, 1, 1, 1, 1, 1, 1, 1, 1, 1, 1, 1, 1, 1, 1, 1, 1, 1, 1, 1, 1, 1, 1, 1, 1, 1, 1, 1, 1, 1, 1, 1, 1, 1, 1, 1, 1, 1, 1, 1, 1, 1, 1, 1, 1, 1, 1, 1, 1, 1, 1, 1, 1, 1, 1, 1, 1, 1, 1, 1, 1, 1, 1, 1, 1, 1, 1, 1, 1, 1, 1, 1, 1, 1, 1, 1, 1, 1, 1, 1, 1, 1, 1, 1, 1, 1, 1, 1, 1, 1, 1, 1, 1, 1, 1, 1, 1, 1, 1, 1, 1, 1]\n",
            "[0, 0, 0, 0, 0, 0, 0, 0, 0, 0, 0, 0, 0, 0, 0, 0, 0, 0, 0, 0, 0, 0, 0, 0, 0, 0, 0, 0, 0, 0, 0, 0, 0, 0, 0, 0, 0, 0, 0, 0, 0, 0, 0, 0, 0, 0, 0, 0, 0, 0, 0, 0, 0, 0, 0, 0, 0, 0, 0, 0, 1, 1, 1, 1, 1, 1, 1, 1, 1, 1, 1, 1, 1, 1, 1, 1, 1, 1, 1, 1, 1, 1, 1, 1, 1, 1, 1, 1, 1, 1, 1, 1, 1, 1, 1, 1, 1, 1, 1, 1, 1, 1, 1, 1, 1, 1, 1, 1, 1, 1, 1, 1, 1, 1, 1, 1, 1, 1, 1, 1]\n"
          ],
          "name": "stdout"
        }
      ]
    },
    {
      "metadata": {
        "id": "K9kyzpWhMrSc",
        "colab_type": "text"
      },
      "cell_type": "markdown",
      "source": [
        "# Experiment"
      ]
    },
    {
      "metadata": {
        "id": "18uzH69xywMu",
        "colab_type": "code",
        "colab": {
          "base_uri": "https://localhost:8080/",
          "height": 238
        },
        "outputId": "9488e9d2-cecb-43b0-e8a6-a753b0cd233e"
      },
      "cell_type": "code",
      "source": [
        "model = get_model2()\n",
        "model.summary()"
      ],
      "execution_count": 62,
      "outputs": [
        {
          "output_type": "stream",
          "text": [
            "_________________________________________________________________\n",
            "Layer (type)                 Output Shape              Param #   \n",
            "=================================================================\n",
            "lstm_7 (LSTM)                (None, 64)                16896     \n",
            "_________________________________________________________________\n",
            "dense_7 (Dense)              (None, 1)                 65        \n",
            "_________________________________________________________________\n",
            "activation_7 (Activation)    (None, 1)                 0         \n",
            "=================================================================\n",
            "Total params: 16,961\n",
            "Trainable params: 16,961\n",
            "Non-trainable params: 0\n",
            "_________________________________________________________________\n"
          ],
          "name": "stdout"
        }
      ]
    },
    {
      "metadata": {
        "id": "TKD8VQKCGjZl",
        "colab_type": "code",
        "colab": {
          "base_uri": "https://localhost:8080/",
          "height": 17
        },
        "outputId": "53b694b7-7eb7-487b-9b5b-4d86e08b99f5"
      },
      "cell_type": "code",
      "source": [
        "adam = optimizers.Adam(lr=0.001, beta_1=0.9, beta_2=0.999, epsilon=None, decay=0.0, amsgrad=False)\n",
        "rmsprop = optimizers.RMSprop(lr=0.00001, rho=0.9, epsilon=None, decay=0.0)"
      ],
      "execution_count": 63,
      "outputs": []
    },
    {
      "metadata": {
        "id": "XqQqwuwKuDzs",
        "colab_type": "code",
        "colab": {
          "base_uri": "https://localhost:8080/",
          "height": 17
        },
        "outputId": "ff769963-77d4-48d4-d23e-54299491ec0b"
      },
      "cell_type": "code",
      "source": [
        "model.compile(loss='binary_crossentropy', optimizer=rmsprop, metrics=['accuracy'])"
      ],
      "execution_count": 64,
      "outputs": []
    },
    {
      "metadata": {
        "id": "cKnrvOYa8h8G",
        "colab_type": "code",
        "colab": {
          "base_uri": "https://localhost:8080/",
          "height": 22511
        },
        "outputId": "2affdd9e-33e6-4262-bf28-ebb43e4a6b9e"
      },
      "cell_type": "code",
      "source": [
        "history = model.fit(train_x, train_y, epochs=1500, batch_size=16, shuffle=True)"
      ],
      "execution_count": 0,
      "outputs": [
        {
          "output_type": "stream",
          "text": [
            "Epoch 1/1500\n",
            "565/565 [==============================] - 3s 6ms/step - loss: 0.6912 - acc: 0.5168\n",
            "Epoch 2/1500\n",
            "565/565 [==============================] - 2s 4ms/step - loss: 0.6911 - acc: 0.5168\n",
            "Epoch 3/1500\n",
            "565/565 [==============================] - 2s 4ms/step - loss: 0.6911 - acc: 0.5168\n",
            "Epoch 4/1500\n",
            "565/565 [==============================] - 2s 4ms/step - loss: 0.6910 - acc: 0.5168\n",
            "Epoch 5/1500\n",
            "565/565 [==============================] - 2s 4ms/step - loss: 0.6910 - acc: 0.5168\n",
            "Epoch 6/1500\n",
            "565/565 [==============================] - 2s 4ms/step - loss: 0.6910 - acc: 0.5168\n",
            "Epoch 7/1500\n",
            "565/565 [==============================] - 2s 4ms/step - loss: 0.6910 - acc: 0.5168\n",
            "Epoch 8/1500\n"
          ],
          "name": "stdout"
        },
        {
          "output_type": "stream",
          "text": [
            "565/565 [==============================] - 2s 4ms/step - loss: 0.6909 - acc: 0.5168\n",
            "Epoch 9/1500\n",
            "565/565 [==============================] - 2s 4ms/step - loss: 0.6909 - acc: 0.5168\n",
            "Epoch 10/1500\n",
            "565/565 [==============================] - 2s 4ms/step - loss: 0.6909 - acc: 0.5168\n",
            "Epoch 11/1500\n",
            "565/565 [==============================] - 2s 4ms/step - loss: 0.6908 - acc: 0.5168\n",
            "Epoch 12/1500\n",
            "565/565 [==============================] - 2s 4ms/step - loss: 0.6908 - acc: 0.5168\n",
            "Epoch 13/1500\n",
            "565/565 [==============================] - 2s 4ms/step - loss: 0.6907 - acc: 0.5168\n",
            "Epoch 14/1500\n",
            "565/565 [==============================] - 2s 4ms/step - loss: 0.6907 - acc: 0.5168\n",
            "Epoch 15/1500\n",
            " 64/565 [==>...........................] - ETA: 1s - loss: 0.6873 - acc: 0.5625"
          ],
          "name": "stdout"
        },
        {
          "output_type": "stream",
          "text": [
            "565/565 [==============================] - 2s 4ms/step - loss: 0.6907 - acc: 0.5168\n",
            "Epoch 16/1500\n",
            "565/565 [==============================] - 2s 4ms/step - loss: 0.6907 - acc: 0.5168\n",
            "Epoch 17/1500\n",
            "565/565 [==============================] - 2s 4ms/step - loss: 0.6906 - acc: 0.5168\n",
            "Epoch 18/1500\n",
            "565/565 [==============================] - 2s 4ms/step - loss: 0.6906 - acc: 0.5168\n",
            "Epoch 19/1500\n",
            "565/565 [==============================] - 2s 4ms/step - loss: 0.6906 - acc: 0.5168\n",
            "Epoch 20/1500\n",
            "565/565 [==============================] - 2s 4ms/step - loss: 0.6906 - acc: 0.5168\n",
            "Epoch 21/1500\n",
            "565/565 [==============================] - 2s 4ms/step - loss: 0.6906 - acc: 0.5168\n",
            "Epoch 22/1500\n",
            " 64/565 [==>...........................] - ETA: 1s - loss: 0.6934 - acc: 0.4844"
          ],
          "name": "stdout"
        },
        {
          "output_type": "stream",
          "text": [
            "565/565 [==============================] - 2s 4ms/step - loss: 0.6905 - acc: 0.5168\n",
            "Epoch 23/1500\n",
            "565/565 [==============================] - 2s 4ms/step - loss: 0.6905 - acc: 0.5168\n",
            "Epoch 24/1500\n",
            "565/565 [==============================] - 2s 4ms/step - loss: 0.6905 - acc: 0.5168\n",
            "Epoch 25/1500\n",
            "565/565 [==============================] - 2s 4ms/step - loss: 0.6905 - acc: 0.5168\n",
            "Epoch 26/1500\n",
            "565/565 [==============================] - 2s 4ms/step - loss: 0.6904 - acc: 0.5168\n",
            "Epoch 27/1500\n",
            "565/565 [==============================] - 2s 4ms/step - loss: 0.6904 - acc: 0.5168\n",
            "Epoch 28/1500\n",
            "565/565 [==============================] - 2s 4ms/step - loss: 0.6904 - acc: 0.5168\n",
            "Epoch 29/1500\n",
            " 64/565 [==>...........................] - ETA: 1s - loss: 0.7042 - acc: 0.3906"
          ],
          "name": "stdout"
        },
        {
          "output_type": "stream",
          "text": [
            "565/565 [==============================] - 2s 4ms/step - loss: 0.6904 - acc: 0.5168\n",
            "Epoch 30/1500\n",
            "565/565 [==============================] - 2s 4ms/step - loss: 0.6904 - acc: 0.5168\n",
            "Epoch 31/1500\n",
            "565/565 [==============================] - 2s 4ms/step - loss: 0.6904 - acc: 0.5168\n",
            "Epoch 32/1500\n",
            "565/565 [==============================] - 2s 4ms/step - loss: 0.6903 - acc: 0.5168\n",
            "Epoch 33/1500\n",
            "565/565 [==============================] - 2s 4ms/step - loss: 0.6903 - acc: 0.5168\n",
            "Epoch 34/1500\n",
            "565/565 [==============================] - 2s 4ms/step - loss: 0.6903 - acc: 0.5168\n",
            "Epoch 35/1500\n",
            "565/565 [==============================] - 2s 4ms/step - loss: 0.6903 - acc: 0.5168\n",
            "Epoch 36/1500\n",
            " 64/565 [==>...........................] - ETA: 1s - loss: 0.6950 - acc: 0.4688"
          ],
          "name": "stdout"
        },
        {
          "output_type": "stream",
          "text": [
            "565/565 [==============================] - 2s 4ms/step - loss: 0.6903 - acc: 0.5168\n",
            "Epoch 37/1500\n",
            "565/565 [==============================] - 2s 4ms/step - loss: 0.6903 - acc: 0.5168\n",
            "Epoch 38/1500\n",
            "565/565 [==============================] - 2s 4ms/step - loss: 0.6902 - acc: 0.5168\n",
            "Epoch 39/1500\n",
            "565/565 [==============================] - 2s 4ms/step - loss: 0.6902 - acc: 0.5168\n",
            "Epoch 40/1500\n",
            "565/565 [==============================] - 2s 4ms/step - loss: 0.6902 - acc: 0.5168\n",
            "Epoch 41/1500\n",
            "565/565 [==============================] - 2s 4ms/step - loss: 0.6902 - acc: 0.5168\n",
            "Epoch 42/1500\n",
            "565/565 [==============================] - 2s 4ms/step - loss: 0.6901 - acc: 0.5168\n",
            "Epoch 43/1500\n",
            " 64/565 [==>...........................] - ETA: 1s - loss: 0.6847 - acc: 0.5625"
          ],
          "name": "stdout"
        },
        {
          "output_type": "stream",
          "text": [
            "565/565 [==============================] - 2s 4ms/step - loss: 0.6901 - acc: 0.5168\n",
            "Epoch 44/1500\n",
            "565/565 [==============================] - 2s 4ms/step - loss: 0.6901 - acc: 0.5168\n",
            "Epoch 45/1500\n",
            "565/565 [==============================] - 2s 4ms/step - loss: 0.6901 - acc: 0.5168\n",
            "Epoch 46/1500\n",
            "565/565 [==============================] - 2s 4ms/step - loss: 0.6901 - acc: 0.5168\n",
            "Epoch 47/1500\n",
            "565/565 [==============================] - 2s 4ms/step - loss: 0.6901 - acc: 0.5168\n",
            "Epoch 48/1500\n",
            "565/565 [==============================] - 2s 4ms/step - loss: 0.6901 - acc: 0.5168\n",
            "Epoch 49/1500\n",
            "565/565 [==============================] - 2s 4ms/step - loss: 0.6900 - acc: 0.5168\n",
            "Epoch 50/1500\n",
            " 64/565 [==>...........................] - ETA: 1s - loss: 0.6891 - acc: 0.5156"
          ],
          "name": "stdout"
        },
        {
          "output_type": "stream",
          "text": [
            "565/565 [==============================] - 2s 4ms/step - loss: 0.6901 - acc: 0.5168\n",
            "Epoch 51/1500\n",
            "565/565 [==============================] - 2s 4ms/step - loss: 0.6900 - acc: 0.5168\n",
            "Epoch 52/1500\n",
            "565/565 [==============================] - 2s 4ms/step - loss: 0.6900 - acc: 0.5168\n",
            "Epoch 53/1500\n",
            "565/565 [==============================] - 2s 4ms/step - loss: 0.6900 - acc: 0.5168\n",
            "Epoch 54/1500\n",
            "565/565 [==============================] - 2s 4ms/step - loss: 0.6900 - acc: 0.5168\n",
            "Epoch 55/1500\n",
            "565/565 [==============================] - 2s 4ms/step - loss: 0.6900 - acc: 0.5168\n",
            "Epoch 56/1500\n",
            "565/565 [==============================] - 2s 4ms/step - loss: 0.6899 - acc: 0.5168\n",
            "Epoch 57/1500\n",
            " 64/565 [==>...........................] - ETA: 1s - loss: 0.6879 - acc: 0.5312"
          ],
          "name": "stdout"
        },
        {
          "output_type": "stream",
          "text": [
            "565/565 [==============================] - 2s 4ms/step - loss: 0.6899 - acc: 0.5168\n",
            "Epoch 58/1500\n",
            "565/565 [==============================] - 2s 4ms/step - loss: 0.6899 - acc: 0.5168\n",
            "Epoch 59/1500\n",
            "565/565 [==============================] - 2s 4ms/step - loss: 0.6899 - acc: 0.5168\n",
            "Epoch 60/1500\n",
            "565/565 [==============================] - 2s 4ms/step - loss: 0.6899 - acc: 0.5168\n",
            "Epoch 61/1500\n",
            "565/565 [==============================] - 2s 4ms/step - loss: 0.6899 - acc: 0.5168\n",
            "Epoch 62/1500\n",
            "565/565 [==============================] - 2s 4ms/step - loss: 0.6898 - acc: 0.5168\n",
            "Epoch 63/1500\n",
            "565/565 [==============================] - 2s 4ms/step - loss: 0.6898 - acc: 0.5168\n",
            "Epoch 64/1500\n",
            " 64/565 [==>...........................] - ETA: 1s - loss: 0.6795 - acc: 0.6094"
          ],
          "name": "stdout"
        },
        {
          "output_type": "stream",
          "text": [
            "565/565 [==============================] - 2s 4ms/step - loss: 0.6898 - acc: 0.5168\n",
            "Epoch 65/1500\n",
            "565/565 [==============================] - 2s 4ms/step - loss: 0.6898 - acc: 0.5168\n",
            "Epoch 66/1500\n",
            "565/565 [==============================] - 2s 4ms/step - loss: 0.6898 - acc: 0.5168\n",
            "Epoch 67/1500\n",
            "565/565 [==============================] - 2s 4ms/step - loss: 0.6898 - acc: 0.5168\n",
            "Epoch 68/1500\n",
            "565/565 [==============================] - 2s 4ms/step - loss: 0.6897 - acc: 0.5168\n",
            "Epoch 69/1500\n",
            "565/565 [==============================] - 2s 4ms/step - loss: 0.6897 - acc: 0.5168\n",
            "Epoch 70/1500\n",
            "565/565 [==============================] - 2s 4ms/step - loss: 0.6897 - acc: 0.5168\n",
            "Epoch 71/1500\n",
            " 64/565 [==>...........................] - ETA: 1s - loss: 0.6879 - acc: 0.5469"
          ],
          "name": "stdout"
        },
        {
          "output_type": "stream",
          "text": [
            "565/565 [==============================] - 2s 4ms/step - loss: 0.6897 - acc: 0.5168\n",
            "Epoch 72/1500\n",
            "565/565 [==============================] - 2s 4ms/step - loss: 0.6897 - acc: 0.5168\n",
            "Epoch 73/1500\n",
            "565/565 [==============================] - 2s 4ms/step - loss: 0.6896 - acc: 0.5168\n",
            "Epoch 74/1500\n",
            "565/565 [==============================] - 2s 4ms/step - loss: 0.6896 - acc: 0.5168\n",
            "Epoch 75/1500\n",
            "565/565 [==============================] - 2s 4ms/step - loss: 0.6896 - acc: 0.5168\n",
            "Epoch 76/1500\n",
            "565/565 [==============================] - 2s 4ms/step - loss: 0.6896 - acc: 0.5168\n",
            "Epoch 77/1500\n",
            "565/565 [==============================] - 2s 4ms/step - loss: 0.6896 - acc: 0.5168\n",
            "Epoch 78/1500\n",
            " 64/565 [==>...........................] - ETA: 1s - loss: 0.6788 - acc: 0.5938"
          ],
          "name": "stdout"
        },
        {
          "output_type": "stream",
          "text": [
            "565/565 [==============================] - 2s 4ms/step - loss: 0.6896 - acc: 0.5168\n",
            "Epoch 79/1500\n",
            "565/565 [==============================] - 2s 4ms/step - loss: 0.6895 - acc: 0.5168\n",
            "Epoch 80/1500\n",
            "565/565 [==============================] - 2s 4ms/step - loss: 0.6895 - acc: 0.5168\n",
            "Epoch 81/1500\n",
            "565/565 [==============================] - 2s 4ms/step - loss: 0.6895 - acc: 0.5168\n",
            "Epoch 82/1500\n",
            "565/565 [==============================] - 2s 4ms/step - loss: 0.6895 - acc: 0.5168\n",
            "Epoch 83/1500\n",
            "565/565 [==============================] - 2s 4ms/step - loss: 0.6895 - acc: 0.5168\n",
            "Epoch 84/1500\n",
            "565/565 [==============================] - 2s 4ms/step - loss: 0.6894 - acc: 0.5168\n",
            "Epoch 85/1500\n",
            " 64/565 [==>...........................] - ETA: 1s - loss: 0.7041 - acc: 0.4219"
          ],
          "name": "stdout"
        },
        {
          "output_type": "stream",
          "text": [
            "565/565 [==============================] - 2s 4ms/step - loss: 0.6894 - acc: 0.5168\n",
            "Epoch 86/1500\n",
            "565/565 [==============================] - 2s 4ms/step - loss: 0.6894 - acc: 0.5168\n",
            "Epoch 87/1500\n",
            "565/565 [==============================] - 2s 4ms/step - loss: 0.6894 - acc: 0.5168\n",
            "Epoch 88/1500\n",
            "565/565 [==============================] - 2s 4ms/step - loss: 0.6894 - acc: 0.5168\n",
            "Epoch 89/1500\n",
            "565/565 [==============================] - 2s 4ms/step - loss: 0.6894 - acc: 0.5168\n",
            "Epoch 90/1500\n",
            "565/565 [==============================] - 2s 4ms/step - loss: 0.6893 - acc: 0.5168\n",
            "Epoch 91/1500\n",
            "565/565 [==============================] - 2s 4ms/step - loss: 0.6893 - acc: 0.5168\n",
            "Epoch 92/1500\n",
            " 64/565 [==>...........................] - ETA: 1s - loss: 0.6769 - acc: 0.6094"
          ],
          "name": "stdout"
        },
        {
          "output_type": "stream",
          "text": [
            "565/565 [==============================] - 2s 4ms/step - loss: 0.6893 - acc: 0.5168\n",
            "Epoch 93/1500\n",
            "565/565 [==============================] - 2s 4ms/step - loss: 0.6893 - acc: 0.5168\n",
            "Epoch 94/1500\n",
            "565/565 [==============================] - 2s 4ms/step - loss: 0.6893 - acc: 0.5168\n",
            "Epoch 95/1500\n",
            "565/565 [==============================] - 2s 4ms/step - loss: 0.6892 - acc: 0.5168\n",
            "Epoch 96/1500\n",
            "565/565 [==============================] - 2s 4ms/step - loss: 0.6892 - acc: 0.5186\n",
            "Epoch 97/1500\n",
            "565/565 [==============================] - 2s 4ms/step - loss: 0.6892 - acc: 0.5186\n",
            "Epoch 98/1500\n",
            "565/565 [==============================] - 2s 4ms/step - loss: 0.6892 - acc: 0.5168\n",
            "Epoch 99/1500\n",
            " 64/565 [==>...........................] - ETA: 1s - loss: 0.7021 - acc: 0.4062"
          ],
          "name": "stdout"
        },
        {
          "output_type": "stream",
          "text": [
            "565/565 [==============================] - 2s 4ms/step - loss: 0.6892 - acc: 0.5186\n",
            "Epoch 100/1500\n",
            "565/565 [==============================] - 2s 4ms/step - loss: 0.6892 - acc: 0.5186\n",
            "Epoch 101/1500\n",
            "565/565 [==============================] - 2s 4ms/step - loss: 0.6891 - acc: 0.5186\n",
            "Epoch 102/1500\n",
            "565/565 [==============================] - 2s 4ms/step - loss: 0.6891 - acc: 0.5186\n",
            "Epoch 103/1500\n",
            "565/565 [==============================] - 2s 4ms/step - loss: 0.6891 - acc: 0.5186\n",
            "Epoch 104/1500\n",
            "565/565 [==============================] - 2s 4ms/step - loss: 0.6891 - acc: 0.5186\n",
            "Epoch 105/1500\n",
            "565/565 [==============================] - 2s 4ms/step - loss: 0.6890 - acc: 0.5186\n",
            "Epoch 106/1500\n",
            " 48/565 [=>............................] - ETA: 1s - loss: 0.6819 - acc: 0.6042"
          ],
          "name": "stdout"
        },
        {
          "output_type": "stream",
          "text": [
            "565/565 [==============================] - 2s 4ms/step - loss: 0.6890 - acc: 0.5186\n",
            "Epoch 107/1500\n",
            "565/565 [==============================] - 2s 4ms/step - loss: 0.6890 - acc: 0.5186\n",
            "Epoch 108/1500\n",
            "565/565 [==============================] - 2s 4ms/step - loss: 0.6890 - acc: 0.5186\n",
            "Epoch 109/1500\n",
            "565/565 [==============================] - 2s 4ms/step - loss: 0.6890 - acc: 0.5186\n",
            "Epoch 110/1500\n",
            "565/565 [==============================] - 2s 4ms/step - loss: 0.6890 - acc: 0.5186\n",
            "Epoch 111/1500\n",
            "565/565 [==============================] - 2s 4ms/step - loss: 0.6889 - acc: 0.5186\n",
            "Epoch 112/1500\n",
            "565/565 [==============================] - 2s 4ms/step - loss: 0.6889 - acc: 0.5186\n",
            "Epoch 113/1500\n",
            " 48/565 [=>............................] - ETA: 1s - loss: 0.6919 - acc: 0.4792"
          ],
          "name": "stdout"
        },
        {
          "output_type": "stream",
          "text": [
            "565/565 [==============================] - 2s 4ms/step - loss: 0.6889 - acc: 0.5186\n",
            "Epoch 114/1500\n",
            "565/565 [==============================] - 2s 4ms/step - loss: 0.6889 - acc: 0.5186\n",
            "Epoch 115/1500\n",
            "565/565 [==============================] - 2s 4ms/step - loss: 0.6889 - acc: 0.5186\n",
            "Epoch 116/1500\n",
            "565/565 [==============================] - 2s 4ms/step - loss: 0.6888 - acc: 0.5186\n",
            "Epoch 117/1500\n",
            "565/565 [==============================] - 2s 4ms/step - loss: 0.6888 - acc: 0.5186\n",
            "Epoch 118/1500\n",
            "565/565 [==============================] - 2s 4ms/step - loss: 0.6888 - acc: 0.5186\n",
            "Epoch 119/1500\n",
            "565/565 [==============================] - 2s 4ms/step - loss: 0.6888 - acc: 0.5186\n",
            "Epoch 120/1500\n",
            " 48/565 [=>............................] - ETA: 1s - loss: 0.6957 - acc: 0.4583"
          ],
          "name": "stdout"
        },
        {
          "output_type": "stream",
          "text": [
            "565/565 [==============================] - 2s 4ms/step - loss: 0.6887 - acc: 0.5186\n",
            "Epoch 121/1500\n",
            "565/565 [==============================] - 2s 4ms/step - loss: 0.6887 - acc: 0.5186\n",
            "Epoch 122/1500\n",
            "565/565 [==============================] - 2s 4ms/step - loss: 0.6887 - acc: 0.5186\n",
            "Epoch 123/1500\n",
            "565/565 [==============================] - 2s 4ms/step - loss: 0.6887 - acc: 0.5186\n",
            "Epoch 124/1500\n",
            "565/565 [==============================] - 2s 4ms/step - loss: 0.6886 - acc: 0.5186\n",
            "Epoch 125/1500\n",
            "565/565 [==============================] - 2s 4ms/step - loss: 0.6886 - acc: 0.5186\n",
            "Epoch 126/1500\n",
            "565/565 [==============================] - 2s 4ms/step - loss: 0.6886 - acc: 0.5186\n",
            "Epoch 127/1500\n",
            " 48/565 [=>............................] - ETA: 1s - loss: 0.6791 - acc: 0.6042"
          ],
          "name": "stdout"
        },
        {
          "output_type": "stream",
          "text": [
            "565/565 [==============================] - 2s 4ms/step - loss: 0.6886 - acc: 0.5186\n",
            "Epoch 128/1500\n",
            "565/565 [==============================] - 2s 4ms/step - loss: 0.6885 - acc: 0.5186\n",
            "Epoch 129/1500\n",
            "565/565 [==============================] - 2s 4ms/step - loss: 0.6885 - acc: 0.5186\n",
            "Epoch 130/1500\n",
            "565/565 [==============================] - 2s 4ms/step - loss: 0.6885 - acc: 0.5186\n",
            "Epoch 131/1500\n",
            "565/565 [==============================] - 2s 4ms/step - loss: 0.6885 - acc: 0.5186\n",
            "Epoch 132/1500\n",
            "565/565 [==============================] - 2s 4ms/step - loss: 0.6885 - acc: 0.5186\n",
            "Epoch 133/1500\n",
            "565/565 [==============================] - 2s 4ms/step - loss: 0.6884 - acc: 0.5186\n",
            "Epoch 134/1500\n",
            " 48/565 [=>............................] - ETA: 2s - loss: 0.6866 - acc: 0.5208"
          ],
          "name": "stdout"
        },
        {
          "output_type": "stream",
          "text": [
            "565/565 [==============================] - 2s 4ms/step - loss: 0.6884 - acc: 0.5186\n",
            "Epoch 135/1500\n",
            "565/565 [==============================] - 2s 4ms/step - loss: 0.6884 - acc: 0.5186\n",
            "Epoch 136/1500\n",
            "565/565 [==============================] - 2s 4ms/step - loss: 0.6884 - acc: 0.5186\n",
            "Epoch 137/1500\n",
            "565/565 [==============================] - 2s 4ms/step - loss: 0.6883 - acc: 0.5204\n",
            "Epoch 138/1500\n",
            "565/565 [==============================] - 2s 4ms/step - loss: 0.6883 - acc: 0.5186\n",
            "Epoch 139/1500\n",
            "565/565 [==============================] - 2s 4ms/step - loss: 0.6883 - acc: 0.5186\n",
            "Epoch 140/1500\n",
            "565/565 [==============================] - 2s 4ms/step - loss: 0.6883 - acc: 0.5221\n",
            "Epoch 141/1500\n",
            " 48/565 [=>............................] - ETA: 1s - loss: 0.6849 - acc: 0.5833"
          ],
          "name": "stdout"
        },
        {
          "output_type": "stream",
          "text": [
            "565/565 [==============================] - 2s 4ms/step - loss: 0.6882 - acc: 0.5239\n",
            "Epoch 142/1500\n",
            "565/565 [==============================] - 2s 4ms/step - loss: 0.6882 - acc: 0.5221\n",
            "Epoch 143/1500\n",
            "565/565 [==============================] - 2s 4ms/step - loss: 0.6882 - acc: 0.5221\n",
            "Epoch 144/1500\n",
            "565/565 [==============================] - 2s 4ms/step - loss: 0.6882 - acc: 0.5204\n",
            "Epoch 145/1500\n",
            "565/565 [==============================] - 2s 4ms/step - loss: 0.6881 - acc: 0.5239\n",
            "Epoch 146/1500\n",
            "565/565 [==============================] - 2s 4ms/step - loss: 0.6881 - acc: 0.5239\n",
            "Epoch 147/1500\n",
            "565/565 [==============================] - 2s 4ms/step - loss: 0.6881 - acc: 0.5239\n",
            "Epoch 148/1500\n",
            " 48/565 [=>............................] - ETA: 1s - loss: 0.6665 - acc: 0.6458"
          ],
          "name": "stdout"
        },
        {
          "output_type": "stream",
          "text": [
            "565/565 [==============================] - 2s 4ms/step - loss: 0.6880 - acc: 0.5239\n",
            "Epoch 149/1500\n",
            "565/565 [==============================] - 2s 4ms/step - loss: 0.6880 - acc: 0.5239\n",
            "Epoch 150/1500\n",
            "565/565 [==============================] - 2s 4ms/step - loss: 0.6880 - acc: 0.5239\n",
            "Epoch 151/1500\n",
            "565/565 [==============================] - 2s 4ms/step - loss: 0.6880 - acc: 0.5239\n",
            "Epoch 152/1500\n",
            "565/565 [==============================] - 2s 4ms/step - loss: 0.6879 - acc: 0.5239\n",
            "Epoch 153/1500\n",
            "565/565 [==============================] - 2s 4ms/step - loss: 0.6879 - acc: 0.5239\n",
            "Epoch 154/1500\n",
            "565/565 [==============================] - 2s 4ms/step - loss: 0.6879 - acc: 0.5239\n",
            "Epoch 155/1500\n",
            " 48/565 [=>............................] - ETA: 1s - loss: 0.6943 - acc: 0.5000"
          ],
          "name": "stdout"
        },
        {
          "output_type": "stream",
          "text": [
            "565/565 [==============================] - 2s 4ms/step - loss: 0.6879 - acc: 0.5221\n",
            "Epoch 156/1500\n",
            "565/565 [==============================] - 2s 4ms/step - loss: 0.6878 - acc: 0.5221\n",
            "Epoch 157/1500\n",
            "565/565 [==============================] - 2s 4ms/step - loss: 0.6878 - acc: 0.5204\n",
            "Epoch 158/1500\n",
            "565/565 [==============================] - 2s 4ms/step - loss: 0.6878 - acc: 0.5204\n",
            "Epoch 159/1500\n",
            "565/565 [==============================] - 2s 4ms/step - loss: 0.6877 - acc: 0.5204\n",
            "Epoch 160/1500\n",
            "565/565 [==============================] - 2s 4ms/step - loss: 0.6877 - acc: 0.5204\n",
            "Epoch 161/1500\n",
            "565/565 [==============================] - 2s 4ms/step - loss: 0.6877 - acc: 0.5204\n",
            "Epoch 162/1500\n",
            " 48/565 [=>............................] - ETA: 1s - loss: 0.7004 - acc: 0.4375"
          ],
          "name": "stdout"
        },
        {
          "output_type": "stream",
          "text": [
            "565/565 [==============================] - 2s 4ms/step - loss: 0.6877 - acc: 0.5204\n",
            "Epoch 163/1500\n",
            "565/565 [==============================] - 2s 4ms/step - loss: 0.6876 - acc: 0.5204\n",
            "Epoch 164/1500\n",
            "565/565 [==============================] - 2s 4ms/step - loss: 0.6876 - acc: 0.5204\n",
            "Epoch 165/1500\n",
            "565/565 [==============================] - 2s 4ms/step - loss: 0.6876 - acc: 0.5204\n",
            "Epoch 166/1500\n",
            "565/565 [==============================] - 2s 4ms/step - loss: 0.6875 - acc: 0.5204\n",
            "Epoch 167/1500\n",
            "565/565 [==============================] - 2s 4ms/step - loss: 0.6875 - acc: 0.5204\n",
            "Epoch 168/1500\n",
            "565/565 [==============================] - 2s 4ms/step - loss: 0.6875 - acc: 0.5204\n",
            "Epoch 169/1500\n",
            " 48/565 [=>............................] - ETA: 1s - loss: 0.6933 - acc: 0.4375"
          ],
          "name": "stdout"
        },
        {
          "output_type": "stream",
          "text": [
            "565/565 [==============================] - 2s 4ms/step - loss: 0.6874 - acc: 0.5204\n",
            "Epoch 170/1500\n",
            "565/565 [==============================] - 2s 4ms/step - loss: 0.6874 - acc: 0.5204\n",
            "Epoch 171/1500\n",
            "565/565 [==============================] - 2s 4ms/step - loss: 0.6874 - acc: 0.5204\n",
            "Epoch 172/1500\n",
            "565/565 [==============================] - 2s 4ms/step - loss: 0.6874 - acc: 0.5204\n",
            "Epoch 173/1500\n",
            "565/565 [==============================] - 2s 4ms/step - loss: 0.6873 - acc: 0.5204\n",
            "Epoch 174/1500\n",
            "565/565 [==============================] - 2s 4ms/step - loss: 0.6873 - acc: 0.5204\n",
            "Epoch 175/1500\n",
            "565/565 [==============================] - 2s 4ms/step - loss: 0.6872 - acc: 0.5204\n",
            "Epoch 176/1500\n",
            " 48/565 [=>............................] - ETA: 2s - loss: 0.7046 - acc: 0.4583"
          ],
          "name": "stdout"
        },
        {
          "output_type": "stream",
          "text": [
            "565/565 [==============================] - 2s 4ms/step - loss: 0.6872 - acc: 0.5204\n",
            "Epoch 177/1500\n",
            "565/565 [==============================] - 2s 4ms/step - loss: 0.6872 - acc: 0.5204\n",
            "Epoch 178/1500\n",
            "565/565 [==============================] - 2s 4ms/step - loss: 0.6871 - acc: 0.5204\n",
            "Epoch 179/1500\n",
            "565/565 [==============================] - 2s 4ms/step - loss: 0.6871 - acc: 0.5204\n",
            "Epoch 180/1500\n",
            "565/565 [==============================] - 2s 4ms/step - loss: 0.6870 - acc: 0.5204\n",
            "Epoch 181/1500\n",
            "565/565 [==============================] - 2s 4ms/step - loss: 0.6870 - acc: 0.5204\n",
            "Epoch 182/1500\n",
            "565/565 [==============================] - 2s 4ms/step - loss: 0.6870 - acc: 0.5204\n",
            "Epoch 183/1500\n",
            " 48/565 [=>............................] - ETA: 1s - loss: 0.7051 - acc: 0.4375"
          ],
          "name": "stdout"
        },
        {
          "output_type": "stream",
          "text": [
            "565/565 [==============================] - 2s 4ms/step - loss: 0.6869 - acc: 0.5204\n",
            "Epoch 184/1500\n",
            "565/565 [==============================] - 2s 4ms/step - loss: 0.6869 - acc: 0.5204\n",
            "Epoch 185/1500\n",
            "565/565 [==============================] - 2s 4ms/step - loss: 0.6869 - acc: 0.5204\n",
            "Epoch 186/1500\n",
            "565/565 [==============================] - 2s 4ms/step - loss: 0.6868 - acc: 0.5204\n",
            "Epoch 187/1500\n",
            "565/565 [==============================] - 2s 4ms/step - loss: 0.6868 - acc: 0.5204\n",
            "Epoch 188/1500\n",
            "565/565 [==============================] - 2s 4ms/step - loss: 0.6868 - acc: 0.5204\n",
            "Epoch 189/1500\n",
            "565/565 [==============================] - 2s 4ms/step - loss: 0.6867 - acc: 0.5204\n",
            "Epoch 190/1500\n",
            " 48/565 [=>............................] - ETA: 1s - loss: 0.6761 - acc: 0.6042"
          ],
          "name": "stdout"
        },
        {
          "output_type": "stream",
          "text": [
            "565/565 [==============================] - 2s 4ms/step - loss: 0.6867 - acc: 0.5204\n",
            "Epoch 191/1500\n",
            "565/565 [==============================] - 2s 4ms/step - loss: 0.6866 - acc: 0.5204\n",
            "Epoch 192/1500\n",
            "565/565 [==============================] - 2s 4ms/step - loss: 0.6866 - acc: 0.5204\n",
            "Epoch 193/1500\n",
            "565/565 [==============================] - 2s 4ms/step - loss: 0.6865 - acc: 0.5204\n",
            "Epoch 194/1500\n",
            "565/565 [==============================] - 2s 4ms/step - loss: 0.6865 - acc: 0.5204\n",
            "Epoch 195/1500\n",
            "565/565 [==============================] - 2s 4ms/step - loss: 0.6864 - acc: 0.5204\n",
            "Epoch 196/1500\n",
            "565/565 [==============================] - 2s 4ms/step - loss: 0.6864 - acc: 0.5204\n",
            "Epoch 197/1500\n",
            " 48/565 [=>............................] - ETA: 1s - loss: 0.6793 - acc: 0.5833"
          ],
          "name": "stdout"
        },
        {
          "output_type": "stream",
          "text": [
            "565/565 [==============================] - 2s 4ms/step - loss: 0.6864 - acc: 0.5204\n",
            "Epoch 198/1500\n",
            "565/565 [==============================] - 2s 4ms/step - loss: 0.6863 - acc: 0.5204\n",
            "Epoch 199/1500\n",
            "565/565 [==============================] - 2s 4ms/step - loss: 0.6863 - acc: 0.5204\n",
            "Epoch 200/1500\n",
            "565/565 [==============================] - 2s 4ms/step - loss: 0.6862 - acc: 0.5204\n",
            "Epoch 201/1500\n",
            "565/565 [==============================] - 2s 4ms/step - loss: 0.6862 - acc: 0.5204\n",
            "Epoch 202/1500\n",
            "565/565 [==============================] - 2s 4ms/step - loss: 0.6861 - acc: 0.5204\n",
            "Epoch 203/1500\n",
            "565/565 [==============================] - 2s 4ms/step - loss: 0.6861 - acc: 0.5204\n",
            "Epoch 204/1500\n",
            " 48/565 [=>............................] - ETA: 1s - loss: 0.6863 - acc: 0.5208"
          ],
          "name": "stdout"
        },
        {
          "output_type": "stream",
          "text": [
            "565/565 [==============================] - 2s 4ms/step - loss: 0.6860 - acc: 0.5204\n",
            "Epoch 205/1500\n",
            "565/565 [==============================] - 2s 4ms/step - loss: 0.6860 - acc: 0.5204\n",
            "Epoch 206/1500\n",
            "565/565 [==============================] - 2s 4ms/step - loss: 0.6859 - acc: 0.5204\n",
            "Epoch 207/1500\n",
            "565/565 [==============================] - 2s 4ms/step - loss: 0.6859 - acc: 0.5204\n",
            "Epoch 208/1500\n",
            "565/565 [==============================] - 2s 4ms/step - loss: 0.6859 - acc: 0.5204\n",
            "Epoch 209/1500\n",
            "565/565 [==============================] - 2s 4ms/step - loss: 0.6858 - acc: 0.5204\n",
            "Epoch 210/1500\n",
            "565/565 [==============================] - 2s 4ms/step - loss: 0.6858 - acc: 0.5204\n",
            "Epoch 211/1500\n",
            " 48/565 [=>............................] - ETA: 1s - loss: 0.6790 - acc: 0.5833"
          ],
          "name": "stdout"
        },
        {
          "output_type": "stream",
          "text": [
            "565/565 [==============================] - 2s 4ms/step - loss: 0.6857 - acc: 0.5204\n",
            "Epoch 212/1500\n",
            "565/565 [==============================] - 2s 4ms/step - loss: 0.6856 - acc: 0.5204\n",
            "Epoch 213/1500\n",
            "565/565 [==============================] - 2s 4ms/step - loss: 0.6856 - acc: 0.5204\n",
            "Epoch 214/1500\n",
            "565/565 [==============================] - 2s 4ms/step - loss: 0.6855 - acc: 0.5204\n",
            "Epoch 215/1500\n",
            "565/565 [==============================] - 2s 4ms/step - loss: 0.6855 - acc: 0.5204\n",
            "Epoch 216/1500\n",
            "565/565 [==============================] - 2s 4ms/step - loss: 0.6854 - acc: 0.5204\n",
            "Epoch 217/1500\n",
            "565/565 [==============================] - 2s 4ms/step - loss: 0.6853 - acc: 0.5204\n",
            "Epoch 218/1500\n",
            " 48/565 [=>............................] - ETA: 1s - loss: 0.6760 - acc: 0.6458"
          ],
          "name": "stdout"
        },
        {
          "output_type": "stream",
          "text": [
            "565/565 [==============================] - 2s 4ms/step - loss: 0.6853 - acc: 0.5204\n",
            "Epoch 219/1500\n",
            "565/565 [==============================] - 2s 4ms/step - loss: 0.6852 - acc: 0.5204\n",
            "Epoch 220/1500\n",
            "565/565 [==============================] - 2s 4ms/step - loss: 0.6852 - acc: 0.5221\n",
            "Epoch 221/1500\n",
            "565/565 [==============================] - 2s 4ms/step - loss: 0.6851 - acc: 0.5204\n",
            "Epoch 222/1500\n",
            "565/565 [==============================] - 2s 4ms/step - loss: 0.6851 - acc: 0.5204\n",
            "Epoch 223/1500\n",
            "565/565 [==============================] - 2s 4ms/step - loss: 0.6850 - acc: 0.5221\n",
            "Epoch 224/1500\n",
            "565/565 [==============================] - 2s 4ms/step - loss: 0.6849 - acc: 0.5221\n",
            "Epoch 225/1500\n",
            " 48/565 [=>............................] - ETA: 1s - loss: 0.6863 - acc: 0.5625"
          ],
          "name": "stdout"
        },
        {
          "output_type": "stream",
          "text": [
            "565/565 [==============================] - 2s 4ms/step - loss: 0.6848 - acc: 0.5221\n",
            "Epoch 226/1500\n",
            "565/565 [==============================] - 2s 4ms/step - loss: 0.6848 - acc: 0.5221\n",
            "Epoch 227/1500\n",
            "565/565 [==============================] - 2s 4ms/step - loss: 0.6847 - acc: 0.5221\n",
            "Epoch 228/1500\n",
            "565/565 [==============================] - 2s 4ms/step - loss: 0.6846 - acc: 0.5221\n",
            "Epoch 229/1500\n",
            "565/565 [==============================] - 2s 4ms/step - loss: 0.6845 - acc: 0.5221\n",
            "Epoch 230/1500\n",
            "565/565 [==============================] - 2s 4ms/step - loss: 0.6844 - acc: 0.5221\n",
            "Epoch 231/1500\n",
            "565/565 [==============================] - 2s 4ms/step - loss: 0.6844 - acc: 0.5221\n",
            "Epoch 232/1500\n",
            " 48/565 [=>............................] - ETA: 1s - loss: 0.6986 - acc: 0.4792"
          ],
          "name": "stdout"
        },
        {
          "output_type": "stream",
          "text": [
            "565/565 [==============================] - 2s 4ms/step - loss: 0.6843 - acc: 0.5221\n",
            "Epoch 233/1500\n",
            "565/565 [==============================] - 2s 4ms/step - loss: 0.6842 - acc: 0.5221\n",
            "Epoch 234/1500\n",
            "565/565 [==============================] - 2s 4ms/step - loss: 0.6842 - acc: 0.5221\n",
            "Epoch 235/1500\n",
            "565/565 [==============================] - 2s 4ms/step - loss: 0.6841 - acc: 0.5221\n",
            "Epoch 236/1500\n",
            "565/565 [==============================] - 2s 4ms/step - loss: 0.6840 - acc: 0.5239\n",
            "Epoch 237/1500\n",
            "565/565 [==============================] - 2s 4ms/step - loss: 0.6839 - acc: 0.5239\n",
            "Epoch 238/1500\n",
            "565/565 [==============================] - 2s 4ms/step - loss: 0.6838 - acc: 0.5239\n",
            "Epoch 239/1500\n",
            " 48/565 [=>............................] - ETA: 1s - loss: 0.6929 - acc: 0.4583"
          ],
          "name": "stdout"
        },
        {
          "output_type": "stream",
          "text": [
            "565/565 [==============================] - 2s 4ms/step - loss: 0.6837 - acc: 0.5239\n",
            "Epoch 240/1500\n",
            "565/565 [==============================] - 2s 4ms/step - loss: 0.6836 - acc: 0.5239\n",
            "Epoch 241/1500\n",
            "565/565 [==============================] - 2s 4ms/step - loss: 0.6835 - acc: 0.5239\n",
            "Epoch 242/1500\n",
            "565/565 [==============================] - 2s 4ms/step - loss: 0.6834 - acc: 0.5239\n",
            "Epoch 243/1500\n",
            "565/565 [==============================] - 2s 4ms/step - loss: 0.6833 - acc: 0.5257\n",
            "Epoch 244/1500\n",
            "565/565 [==============================] - 2s 4ms/step - loss: 0.6832 - acc: 0.5239\n",
            "Epoch 245/1500\n",
            "565/565 [==============================] - 2s 4ms/step - loss: 0.6831 - acc: 0.5274\n",
            "Epoch 246/1500\n",
            " 48/565 [=>............................] - ETA: 1s - loss: 0.6745 - acc: 0.6250"
          ],
          "name": "stdout"
        },
        {
          "output_type": "stream",
          "text": [
            "565/565 [==============================] - 2s 4ms/step - loss: 0.6830 - acc: 0.5257\n",
            "Epoch 247/1500\n",
            "565/565 [==============================] - 2s 4ms/step - loss: 0.6829 - acc: 0.5257\n",
            "Epoch 248/1500\n",
            "565/565 [==============================] - 2s 4ms/step - loss: 0.6827 - acc: 0.5274\n",
            "Epoch 249/1500\n",
            "565/565 [==============================] - 2s 4ms/step - loss: 0.6827 - acc: 0.5274\n",
            "Epoch 250/1500\n",
            "565/565 [==============================] - 2s 4ms/step - loss: 0.6825 - acc: 0.5292\n",
            "Epoch 251/1500\n",
            "565/565 [==============================] - 2s 4ms/step - loss: 0.6824 - acc: 0.5274\n",
            "Epoch 252/1500\n",
            "565/565 [==============================] - 2s 4ms/step - loss: 0.6823 - acc: 0.5274\n",
            "Epoch 253/1500\n",
            " 48/565 [=>............................] - ETA: 1s - loss: 0.6722 - acc: 0.5833"
          ],
          "name": "stdout"
        },
        {
          "output_type": "stream",
          "text": [
            "565/565 [==============================] - 2s 4ms/step - loss: 0.6822 - acc: 0.5292\n",
            "Epoch 254/1500\n",
            "565/565 [==============================] - 2s 4ms/step - loss: 0.6821 - acc: 0.5327\n",
            "Epoch 255/1500\n",
            "565/565 [==============================] - 2s 4ms/step - loss: 0.6819 - acc: 0.5327\n",
            "Epoch 256/1500\n",
            "565/565 [==============================] - 2s 4ms/step - loss: 0.6817 - acc: 0.5327\n",
            "Epoch 257/1500\n",
            "565/565 [==============================] - 2s 4ms/step - loss: 0.6816 - acc: 0.5327\n",
            "Epoch 258/1500\n",
            "565/565 [==============================] - 2s 4ms/step - loss: 0.6815 - acc: 0.5327\n",
            "Epoch 259/1500\n",
            "565/565 [==============================] - 2s 4ms/step - loss: 0.6814 - acc: 0.5327\n",
            "Epoch 260/1500\n",
            " 48/565 [=>............................] - ETA: 1s - loss: 0.6969 - acc: 0.4375"
          ],
          "name": "stdout"
        },
        {
          "output_type": "stream",
          "text": [
            "565/565 [==============================] - 2s 4ms/step - loss: 0.6812 - acc: 0.5327\n",
            "Epoch 261/1500\n",
            "565/565 [==============================] - 2s 4ms/step - loss: 0.6811 - acc: 0.5345\n",
            "Epoch 262/1500\n",
            "565/565 [==============================] - 2s 4ms/step - loss: 0.6810 - acc: 0.5345\n",
            "Epoch 263/1500\n",
            "565/565 [==============================] - 2s 4ms/step - loss: 0.6808 - acc: 0.5345\n",
            "Epoch 264/1500\n",
            "565/565 [==============================] - 2s 4ms/step - loss: 0.6807 - acc: 0.5327\n",
            "Epoch 265/1500\n",
            "565/565 [==============================] - 2s 4ms/step - loss: 0.6805 - acc: 0.5327\n",
            "Epoch 266/1500\n",
            "565/565 [==============================] - 2s 4ms/step - loss: 0.6804 - acc: 0.5327\n",
            "Epoch 267/1500\n",
            " 48/565 [=>............................] - ETA: 1s - loss: 0.6684 - acc: 0.6250"
          ],
          "name": "stdout"
        },
        {
          "output_type": "stream",
          "text": [
            "565/565 [==============================] - 2s 4ms/step - loss: 0.6802 - acc: 0.5327\n",
            "Epoch 268/1500\n",
            "565/565 [==============================] - 2s 4ms/step - loss: 0.6800 - acc: 0.5327\n",
            "Epoch 269/1500\n",
            "565/565 [==============================] - 2s 4ms/step - loss: 0.6798 - acc: 0.5327\n",
            "Epoch 270/1500\n",
            "565/565 [==============================] - 2s 4ms/step - loss: 0.6796 - acc: 0.5363\n",
            "Epoch 271/1500\n",
            "565/565 [==============================] - 2s 4ms/step - loss: 0.6795 - acc: 0.5381\n",
            "Epoch 272/1500\n",
            "565/565 [==============================] - 2s 4ms/step - loss: 0.6793 - acc: 0.5363\n",
            "Epoch 273/1500\n",
            "565/565 [==============================] - 2s 4ms/step - loss: 0.6791 - acc: 0.5363\n",
            "Epoch 274/1500\n",
            " 48/565 [=>............................] - ETA: 1s - loss: 0.6868 - acc: 0.5208"
          ],
          "name": "stdout"
        },
        {
          "output_type": "stream",
          "text": [
            "565/565 [==============================] - 2s 4ms/step - loss: 0.6789 - acc: 0.5345\n",
            "Epoch 275/1500\n",
            "565/565 [==============================] - 2s 4ms/step - loss: 0.6787 - acc: 0.5363\n",
            "Epoch 276/1500\n",
            "565/565 [==============================] - 2s 4ms/step - loss: 0.6785 - acc: 0.5345\n",
            "Epoch 277/1500\n",
            "565/565 [==============================] - 2s 4ms/step - loss: 0.6783 - acc: 0.5345\n",
            "Epoch 278/1500\n",
            "565/565 [==============================] - 2s 4ms/step - loss: 0.6781 - acc: 0.5345\n",
            "Epoch 279/1500\n",
            "565/565 [==============================] - 2s 4ms/step - loss: 0.6779 - acc: 0.5327\n",
            "Epoch 280/1500\n",
            "565/565 [==============================] - 2s 4ms/step - loss: 0.6776 - acc: 0.5292\n",
            "Epoch 281/1500\n",
            " 48/565 [=>............................] - ETA: 1s - loss: 0.6773 - acc: 0.4583"
          ],
          "name": "stdout"
        },
        {
          "output_type": "stream",
          "text": [
            "565/565 [==============================] - 2s 4ms/step - loss: 0.6774 - acc: 0.5363\n",
            "Epoch 282/1500\n",
            "565/565 [==============================] - 2s 4ms/step - loss: 0.6771 - acc: 0.5310\n",
            "Epoch 283/1500\n",
            "565/565 [==============================] - 2s 4ms/step - loss: 0.6769 - acc: 0.5292\n",
            "Epoch 284/1500\n",
            "565/565 [==============================] - 2s 4ms/step - loss: 0.6767 - acc: 0.5292\n",
            "Epoch 285/1500\n",
            "565/565 [==============================] - 2s 4ms/step - loss: 0.6764 - acc: 0.5292\n",
            "Epoch 286/1500\n",
            "565/565 [==============================] - 2s 4ms/step - loss: 0.6762 - acc: 0.5327\n",
            "Epoch 287/1500\n",
            "565/565 [==============================] - 2s 4ms/step - loss: 0.6759 - acc: 0.5310\n",
            "Epoch 288/1500\n",
            " 48/565 [=>............................] - ETA: 2s - loss: 0.6602 - acc: 0.5417"
          ],
          "name": "stdout"
        },
        {
          "output_type": "stream",
          "text": [
            "565/565 [==============================] - 2s 4ms/step - loss: 0.6756 - acc: 0.5274\n",
            "Epoch 289/1500\n",
            "565/565 [==============================] - 2s 4ms/step - loss: 0.6753 - acc: 0.5292\n",
            "Epoch 290/1500\n",
            "565/565 [==============================] - 2s 4ms/step - loss: 0.6750 - acc: 0.5239\n",
            "Epoch 291/1500\n",
            "565/565 [==============================] - 2s 4ms/step - loss: 0.6748 - acc: 0.5363\n",
            "Epoch 292/1500\n",
            "565/565 [==============================] - 2s 4ms/step - loss: 0.6744 - acc: 0.5274\n",
            "Epoch 293/1500\n",
            "565/565 [==============================] - 2s 4ms/step - loss: 0.6741 - acc: 0.5274\n",
            "Epoch 294/1500\n",
            "565/565 [==============================] - 2s 4ms/step - loss: 0.6738 - acc: 0.5327\n",
            "Epoch 295/1500\n",
            " 48/565 [=>............................] - ETA: 1s - loss: 0.6995 - acc: 0.5000"
          ],
          "name": "stdout"
        },
        {
          "output_type": "stream",
          "text": [
            "565/565 [==============================] - 2s 4ms/step - loss: 0.6735 - acc: 0.5381\n",
            "Epoch 296/1500\n",
            "565/565 [==============================] - 2s 4ms/step - loss: 0.6732 - acc: 0.5345\n",
            "Epoch 297/1500\n",
            "565/565 [==============================] - 2s 4ms/step - loss: 0.6729 - acc: 0.5434\n",
            "Epoch 298/1500\n",
            "565/565 [==============================] - 2s 4ms/step - loss: 0.6725 - acc: 0.5381\n",
            "Epoch 299/1500\n",
            "565/565 [==============================] - 2s 4ms/step - loss: 0.6722 - acc: 0.5381\n",
            "Epoch 300/1500\n",
            "565/565 [==============================] - 2s 4ms/step - loss: 0.6718 - acc: 0.5504\n",
            "Epoch 301/1500\n",
            "565/565 [==============================] - 2s 4ms/step - loss: 0.6716 - acc: 0.5504\n",
            "Epoch 302/1500\n",
            " 48/565 [=>............................] - ETA: 1s - loss: 0.6494 - acc: 0.6458"
          ],
          "name": "stdout"
        },
        {
          "output_type": "stream",
          "text": [
            "565/565 [==============================] - 2s 4ms/step - loss: 0.6712 - acc: 0.5611\n",
            "Epoch 303/1500\n",
            "565/565 [==============================] - 2s 4ms/step - loss: 0.6710 - acc: 0.5593\n",
            "Epoch 304/1500\n",
            "565/565 [==============================] - 2s 4ms/step - loss: 0.6706 - acc: 0.5522\n",
            "Epoch 305/1500\n",
            "565/565 [==============================] - 2s 4ms/step - loss: 0.6703 - acc: 0.5823\n",
            "Epoch 306/1500\n",
            "565/565 [==============================] - 2s 4ms/step - loss: 0.6701 - acc: 0.5805\n",
            "Epoch 307/1500\n",
            "565/565 [==============================] - 2s 4ms/step - loss: 0.6696 - acc: 0.5628\n",
            "Epoch 308/1500\n",
            "565/565 [==============================] - 2s 4ms/step - loss: 0.6691 - acc: 0.6053\n",
            "Epoch 309/1500\n",
            " 48/565 [=>............................] - ETA: 1s - loss: 0.6654 - acc: 0.5000"
          ],
          "name": "stdout"
        },
        {
          "output_type": "stream",
          "text": [
            "565/565 [==============================] - 2s 4ms/step - loss: 0.6690 - acc: 0.5735\n",
            "Epoch 310/1500\n",
            "565/565 [==============================] - 2s 4ms/step - loss: 0.6686 - acc: 0.5823\n",
            "Epoch 311/1500\n",
            "565/565 [==============================] - 2s 4ms/step - loss: 0.6683 - acc: 0.5593\n",
            "Epoch 312/1500\n",
            "565/565 [==============================] - 2s 4ms/step - loss: 0.6680 - acc: 0.5699\n",
            "Epoch 313/1500\n",
            "565/565 [==============================] - 2s 4ms/step - loss: 0.6676 - acc: 0.6106\n",
            "Epoch 314/1500\n",
            "565/565 [==============================] - 2s 4ms/step - loss: 0.6674 - acc: 0.5965\n",
            "Epoch 315/1500\n",
            "565/565 [==============================] - 2s 4ms/step - loss: 0.6668 - acc: 0.6212\n",
            "Epoch 316/1500\n",
            " 48/565 [=>............................] - ETA: 1s - loss: 0.6516 - acc: 0.6250"
          ],
          "name": "stdout"
        },
        {
          "output_type": "stream",
          "text": [
            "565/565 [==============================] - 2s 4ms/step - loss: 0.6666 - acc: 0.6088\n",
            "Epoch 317/1500\n",
            "565/565 [==============================] - 2s 4ms/step - loss: 0.6661 - acc: 0.6319\n",
            "Epoch 318/1500\n",
            "565/565 [==============================] - 2s 4ms/step - loss: 0.6660 - acc: 0.6159\n",
            "Epoch 319/1500\n",
            "565/565 [==============================] - 2s 4ms/step - loss: 0.6653 - acc: 0.6230\n",
            "Epoch 320/1500\n",
            "565/565 [==============================] - 2s 4ms/step - loss: 0.6650 - acc: 0.6354\n",
            "Epoch 321/1500\n",
            "565/565 [==============================] - 2s 4ms/step - loss: 0.6644 - acc: 0.6283\n",
            "Epoch 322/1500\n",
            "565/565 [==============================] - 2s 4ms/step - loss: 0.6642 - acc: 0.6478\n",
            "Epoch 323/1500\n",
            " 48/565 [=>............................] - ETA: 2s - loss: 0.6431 - acc: 0.6875"
          ],
          "name": "stdout"
        },
        {
          "output_type": "stream",
          "text": [
            "565/565 [==============================] - 2s 4ms/step - loss: 0.6639 - acc: 0.6301\n",
            "Epoch 324/1500\n",
            "565/565 [==============================] - 2s 4ms/step - loss: 0.6633 - acc: 0.6442\n",
            "Epoch 325/1500\n",
            "565/565 [==============================] - 2s 3ms/step - loss: 0.6629 - acc: 0.6336\n",
            "Epoch 326/1500\n",
            "565/565 [==============================] - 2s 3ms/step - loss: 0.6625 - acc: 0.6336\n",
            "Epoch 327/1500\n",
            "565/565 [==============================] - 2s 4ms/step - loss: 0.6620 - acc: 0.6496\n",
            "Epoch 328/1500\n",
            "565/565 [==============================] - 2s 4ms/step - loss: 0.6616 - acc: 0.6407\n",
            "Epoch 329/1500\n",
            "565/565 [==============================] - 2s 4ms/step - loss: 0.6610 - acc: 0.6354\n",
            "Epoch 330/1500\n",
            "112/565 [====>.........................] - ETA: 1s - loss: 0.6688 - acc: 0.6786"
          ],
          "name": "stdout"
        },
        {
          "output_type": "stream",
          "text": [
            "565/565 [==============================] - 2s 4ms/step - loss: 0.6606 - acc: 0.6619\n",
            "Epoch 331/1500\n",
            "565/565 [==============================] - 2s 4ms/step - loss: 0.6603 - acc: 0.6619\n",
            "Epoch 332/1500\n",
            "565/565 [==============================] - 2s 3ms/step - loss: 0.6600 - acc: 0.6372\n",
            "Epoch 333/1500\n",
            "565/565 [==============================] - 2s 3ms/step - loss: 0.6595 - acc: 0.6531\n",
            "Epoch 334/1500\n",
            "565/565 [==============================] - 2s 3ms/step - loss: 0.6590 - acc: 0.6460\n",
            "Epoch 335/1500\n",
            "565/565 [==============================] - 2s 3ms/step - loss: 0.6584 - acc: 0.6566\n",
            "Epoch 336/1500\n",
            "565/565 [==============================] - 2s 3ms/step - loss: 0.6577 - acc: 0.6584\n",
            "Epoch 337/1500\n",
            "256/565 [============>.................] - ETA: 1s - loss: 0.6603 - acc: 0.6484"
          ],
          "name": "stdout"
        },
        {
          "output_type": "stream",
          "text": [
            "565/565 [==============================] - 2s 3ms/step - loss: 0.6573 - acc: 0.6690\n",
            "Epoch 338/1500\n",
            "565/565 [==============================] - 2s 3ms/step - loss: 0.6570 - acc: 0.6496\n",
            "Epoch 339/1500\n",
            "565/565 [==============================] - 2s 3ms/step - loss: 0.6562 - acc: 0.6726\n",
            "Epoch 340/1500\n",
            "565/565 [==============================] - 2s 3ms/step - loss: 0.6558 - acc: 0.6496\n",
            "Epoch 341/1500\n",
            "565/565 [==============================] - 2s 3ms/step - loss: 0.6554 - acc: 0.6549\n",
            "Epoch 342/1500\n",
            "565/565 [==============================] - 2s 4ms/step - loss: 0.6543 - acc: 0.6496\n",
            "Epoch 343/1500\n",
            "565/565 [==============================] - 2s 4ms/step - loss: 0.6541 - acc: 0.6708\n",
            "Epoch 344/1500\n",
            "224/565 [==========>...................] - ETA: 1s - loss: 0.6545 - acc: 0.6562"
          ],
          "name": "stdout"
        },
        {
          "output_type": "stream",
          "text": [
            "565/565 [==============================] - 2s 4ms/step - loss: 0.6535 - acc: 0.6619\n",
            "Epoch 345/1500\n",
            "565/565 [==============================] - 2s 4ms/step - loss: 0.6530 - acc: 0.6584\n",
            "Epoch 346/1500\n",
            "565/565 [==============================] - 2s 4ms/step - loss: 0.6525 - acc: 0.6637\n",
            "Epoch 347/1500\n",
            "565/565 [==============================] - 2s 4ms/step - loss: 0.6522 - acc: 0.6566\n",
            "Epoch 348/1500\n",
            "565/565 [==============================] - 2s 4ms/step - loss: 0.6517 - acc: 0.6513\n",
            "Epoch 349/1500\n",
            "565/565 [==============================] - 2s 4ms/step - loss: 0.6510 - acc: 0.6637\n",
            "Epoch 350/1500\n",
            "565/565 [==============================] - 2s 4ms/step - loss: 0.6506 - acc: 0.6637\n",
            "Epoch 351/1500\n",
            " 48/565 [=>............................] - ETA: 2s - loss: 0.6141 - acc: 0.6875"
          ],
          "name": "stdout"
        },
        {
          "output_type": "stream",
          "text": [
            "565/565 [==============================] - 2s 4ms/step - loss: 0.6503 - acc: 0.6566\n",
            "Epoch 352/1500\n",
            "565/565 [==============================] - 2s 4ms/step - loss: 0.6494 - acc: 0.6673\n",
            "Epoch 353/1500\n",
            "565/565 [==============================] - 2s 4ms/step - loss: 0.6488 - acc: 0.6655\n",
            "Epoch 354/1500\n",
            "565/565 [==============================] - 2s 4ms/step - loss: 0.6483 - acc: 0.6637\n",
            "Epoch 355/1500\n",
            "565/565 [==============================] - 2s 4ms/step - loss: 0.6477 - acc: 0.6549\n",
            "Epoch 356/1500\n",
            "565/565 [==============================] - 2s 4ms/step - loss: 0.6473 - acc: 0.6673\n",
            "Epoch 357/1500\n",
            "565/565 [==============================] - 2s 4ms/step - loss: 0.6473 - acc: 0.6708\n",
            "Epoch 358/1500\n",
            " 48/565 [=>............................] - ETA: 1s - loss: 0.6574 - acc: 0.7500"
          ],
          "name": "stdout"
        },
        {
          "output_type": "stream",
          "text": [
            "565/565 [==============================] - 2s 4ms/step - loss: 0.6465 - acc: 0.6619\n",
            "Epoch 359/1500\n",
            "565/565 [==============================] - 2s 4ms/step - loss: 0.6462 - acc: 0.6726\n",
            "Epoch 360/1500\n",
            "565/565 [==============================] - 2s 4ms/step - loss: 0.6450 - acc: 0.6637\n",
            "Epoch 361/1500\n",
            "565/565 [==============================] - 2s 4ms/step - loss: 0.6455 - acc: 0.6690\n",
            "Epoch 362/1500\n",
            "565/565 [==============================] - 2s 4ms/step - loss: 0.6458 - acc: 0.6726\n",
            "Epoch 363/1500\n",
            "565/565 [==============================] - 2s 4ms/step - loss: 0.6447 - acc: 0.6513\n",
            "Epoch 364/1500\n",
            "565/565 [==============================] - 2s 4ms/step - loss: 0.6436 - acc: 0.6708\n",
            "Epoch 365/1500\n",
            " 48/565 [=>............................] - ETA: 2s - loss: 0.6037 - acc: 0.7500"
          ],
          "name": "stdout"
        },
        {
          "output_type": "stream",
          "text": [
            "565/565 [==============================] - 2s 4ms/step - loss: 0.6446 - acc: 0.6673\n",
            "Epoch 366/1500\n",
            "565/565 [==============================] - 2s 4ms/step - loss: 0.6436 - acc: 0.6743\n",
            "Epoch 367/1500\n",
            "565/565 [==============================] - 2s 4ms/step - loss: 0.6433 - acc: 0.6602\n",
            "Epoch 368/1500\n",
            "565/565 [==============================] - 2s 4ms/step - loss: 0.6431 - acc: 0.6549\n",
            "Epoch 369/1500\n",
            "565/565 [==============================] - 2s 4ms/step - loss: 0.6429 - acc: 0.6655\n",
            "Epoch 370/1500\n",
            "565/565 [==============================] - 2s 4ms/step - loss: 0.6427 - acc: 0.6673\n",
            "Epoch 371/1500\n",
            "565/565 [==============================] - 2s 4ms/step - loss: 0.6430 - acc: 0.6637\n",
            "Epoch 372/1500\n",
            " 48/565 [=>............................] - ETA: 2s - loss: 0.6414 - acc: 0.6458"
          ],
          "name": "stdout"
        },
        {
          "output_type": "stream",
          "text": [
            "565/565 [==============================] - 2s 4ms/step - loss: 0.6419 - acc: 0.6637\n",
            "Epoch 373/1500\n",
            "565/565 [==============================] - 2s 4ms/step - loss: 0.6408 - acc: 0.6602\n",
            "Epoch 374/1500\n",
            "565/565 [==============================] - 2s 4ms/step - loss: 0.6418 - acc: 0.6673\n",
            "Epoch 375/1500\n",
            "565/565 [==============================] - 2s 4ms/step - loss: 0.6412 - acc: 0.6531\n",
            "Epoch 376/1500\n",
            "565/565 [==============================] - 2s 4ms/step - loss: 0.6409 - acc: 0.6726\n",
            "Epoch 377/1500\n",
            "565/565 [==============================] - 2s 4ms/step - loss: 0.6415 - acc: 0.6549\n",
            "Epoch 378/1500\n",
            "565/565 [==============================] - 2s 4ms/step - loss: 0.6417 - acc: 0.6584\n",
            "Epoch 379/1500\n",
            " 48/565 [=>............................] - ETA: 2s - loss: 0.5991 - acc: 0.6875"
          ],
          "name": "stdout"
        },
        {
          "output_type": "stream",
          "text": [
            "565/565 [==============================] - 2s 4ms/step - loss: 0.6403 - acc: 0.6637\n",
            "Epoch 380/1500\n",
            "565/565 [==============================] - 2s 4ms/step - loss: 0.6388 - acc: 0.6602\n",
            "Epoch 381/1500\n",
            "565/565 [==============================] - 2s 4ms/step - loss: 0.6408 - acc: 0.6637\n",
            "Epoch 382/1500\n",
            "565/565 [==============================] - 2s 4ms/step - loss: 0.6405 - acc: 0.6619\n",
            "Epoch 383/1500\n",
            "565/565 [==============================] - 2s 4ms/step - loss: 0.6398 - acc: 0.6637\n",
            "Epoch 384/1500\n",
            "565/565 [==============================] - 2s 4ms/step - loss: 0.6406 - acc: 0.6531\n",
            "Epoch 385/1500\n",
            "565/565 [==============================] - 2s 4ms/step - loss: 0.6393 - acc: 0.6602\n",
            "Epoch 386/1500\n",
            " 48/565 [=>............................] - ETA: 1s - loss: 0.5960 - acc: 0.7292"
          ],
          "name": "stdout"
        },
        {
          "output_type": "stream",
          "text": [
            "565/565 [==============================] - 2s 4ms/step - loss: 0.6398 - acc: 0.6655\n",
            "Epoch 387/1500\n",
            "565/565 [==============================] - 2s 4ms/step - loss: 0.6393 - acc: 0.6637\n",
            "Epoch 388/1500\n",
            "565/565 [==============================] - 2s 4ms/step - loss: 0.6385 - acc: 0.6655\n",
            "Epoch 389/1500\n",
            "565/565 [==============================] - 2s 4ms/step - loss: 0.6398 - acc: 0.6566\n",
            "Epoch 390/1500\n",
            "565/565 [==============================] - 2s 4ms/step - loss: 0.6397 - acc: 0.6619\n",
            "Epoch 391/1500\n",
            "565/565 [==============================] - 2s 4ms/step - loss: 0.6383 - acc: 0.6673\n",
            "Epoch 392/1500\n",
            "565/565 [==============================] - 2s 4ms/step - loss: 0.6381 - acc: 0.6655\n",
            "Epoch 393/1500\n",
            " 48/565 [=>............................] - ETA: 1s - loss: 0.7241 - acc: 0.5833"
          ],
          "name": "stdout"
        },
        {
          "output_type": "stream",
          "text": [
            "565/565 [==============================] - 2s 4ms/step - loss: 0.6389 - acc: 0.6602\n",
            "Epoch 394/1500\n",
            "565/565 [==============================] - 2s 4ms/step - loss: 0.6392 - acc: 0.6584\n",
            "Epoch 395/1500\n",
            "565/565 [==============================] - 2s 4ms/step - loss: 0.6388 - acc: 0.6673\n",
            "Epoch 396/1500\n",
            "565/565 [==============================] - 2s 4ms/step - loss: 0.6387 - acc: 0.6726\n",
            "Epoch 397/1500\n",
            "565/565 [==============================] - 2s 4ms/step - loss: 0.6383 - acc: 0.6655\n",
            "Epoch 398/1500\n",
            "565/565 [==============================] - 2s 4ms/step - loss: 0.6386 - acc: 0.6637\n",
            "Epoch 399/1500\n",
            "565/565 [==============================] - 2s 4ms/step - loss: 0.6383 - acc: 0.6673\n",
            "Epoch 400/1500\n",
            " 48/565 [=>............................] - ETA: 1s - loss: 0.6560 - acc: 0.6667"
          ],
          "name": "stdout"
        },
        {
          "output_type": "stream",
          "text": [
            "565/565 [==============================] - 2s 4ms/step - loss: 0.6381 - acc: 0.6673\n",
            "Epoch 401/1500\n",
            "565/565 [==============================] - 2s 4ms/step - loss: 0.6393 - acc: 0.6566\n",
            "Epoch 402/1500\n",
            "565/565 [==============================] - 2s 4ms/step - loss: 0.6380 - acc: 0.6584\n",
            "Epoch 403/1500\n",
            "565/565 [==============================] - 2s 4ms/step - loss: 0.6379 - acc: 0.6673\n",
            "Epoch 404/1500\n",
            "565/565 [==============================] - 2s 4ms/step - loss: 0.6377 - acc: 0.6566\n",
            "Epoch 405/1500\n",
            "565/565 [==============================] - 2s 4ms/step - loss: 0.6376 - acc: 0.6584\n",
            "Epoch 406/1500\n",
            "565/565 [==============================] - 2s 4ms/step - loss: 0.6379 - acc: 0.6655\n",
            "Epoch 407/1500\n",
            " 48/565 [=>............................] - ETA: 1s - loss: 0.6173 - acc: 0.7083"
          ],
          "name": "stdout"
        },
        {
          "output_type": "stream",
          "text": [
            "565/565 [==============================] - 2s 4ms/step - loss: 0.6376 - acc: 0.6637\n",
            "Epoch 408/1500\n",
            "565/565 [==============================] - 2s 4ms/step - loss: 0.6380 - acc: 0.6531\n",
            "Epoch 409/1500\n",
            "565/565 [==============================] - 2s 4ms/step - loss: 0.6381 - acc: 0.6584\n",
            "Epoch 410/1500\n",
            "565/565 [==============================] - 2s 4ms/step - loss: 0.6380 - acc: 0.6496\n",
            "Epoch 411/1500\n",
            "565/565 [==============================] - 2s 4ms/step - loss: 0.6368 - acc: 0.6602\n",
            "Epoch 412/1500\n",
            "565/565 [==============================] - 2s 4ms/step - loss: 0.6376 - acc: 0.6531\n",
            "Epoch 413/1500\n",
            "565/565 [==============================] - 2s 4ms/step - loss: 0.6373 - acc: 0.6549\n",
            "Epoch 414/1500\n",
            " 48/565 [=>............................] - ETA: 2s - loss: 0.6890 - acc: 0.6667"
          ],
          "name": "stdout"
        },
        {
          "output_type": "stream",
          "text": [
            "565/565 [==============================] - 2s 4ms/step - loss: 0.6369 - acc: 0.6637\n",
            "Epoch 415/1500\n",
            "565/565 [==============================] - 2s 4ms/step - loss: 0.6373 - acc: 0.6637\n",
            "Epoch 416/1500\n",
            "565/565 [==============================] - 2s 4ms/step - loss: 0.6376 - acc: 0.6566\n",
            "Epoch 417/1500\n",
            "565/565 [==============================] - 2s 4ms/step - loss: 0.6368 - acc: 0.6602\n",
            "Epoch 418/1500\n",
            "565/565 [==============================] - 2s 4ms/step - loss: 0.6376 - acc: 0.6584\n",
            "Epoch 419/1500\n",
            "565/565 [==============================] - 2s 4ms/step - loss: 0.6365 - acc: 0.6637\n",
            "Epoch 420/1500\n",
            "565/565 [==============================] - 2s 4ms/step - loss: 0.6375 - acc: 0.6566\n",
            "Epoch 421/1500\n",
            " 48/565 [=>............................] - ETA: 1s - loss: 0.6796 - acc: 0.6042"
          ],
          "name": "stdout"
        },
        {
          "output_type": "stream",
          "text": [
            "565/565 [==============================] - 2s 4ms/step - loss: 0.6367 - acc: 0.6619\n",
            "Epoch 422/1500\n",
            "565/565 [==============================] - 2s 4ms/step - loss: 0.6373 - acc: 0.6637\n",
            "Epoch 423/1500\n",
            "565/565 [==============================] - 2s 4ms/step - loss: 0.6365 - acc: 0.6690\n",
            "Epoch 424/1500\n",
            "565/565 [==============================] - 2s 4ms/step - loss: 0.6375 - acc: 0.6690\n",
            "Epoch 425/1500\n",
            "565/565 [==============================] - 2s 4ms/step - loss: 0.6368 - acc: 0.6549\n",
            "Epoch 426/1500\n",
            "565/565 [==============================] - 2s 4ms/step - loss: 0.6367 - acc: 0.6690\n",
            "Epoch 427/1500\n",
            "565/565 [==============================] - 2s 4ms/step - loss: 0.6365 - acc: 0.6690\n",
            "Epoch 428/1500\n",
            " 48/565 [=>............................] - ETA: 2s - loss: 0.6283 - acc: 0.6875"
          ],
          "name": "stdout"
        },
        {
          "output_type": "stream",
          "text": [
            "565/565 [==============================] - 2s 4ms/step - loss: 0.6363 - acc: 0.6637\n",
            "Epoch 429/1500\n",
            "565/565 [==============================] - 2s 4ms/step - loss: 0.6364 - acc: 0.6619\n",
            "Epoch 430/1500\n",
            "565/565 [==============================] - 2s 4ms/step - loss: 0.6368 - acc: 0.6602\n",
            "Epoch 431/1500\n",
            "565/565 [==============================] - 2s 4ms/step - loss: 0.6366 - acc: 0.6637\n",
            "Epoch 432/1500\n",
            "565/565 [==============================] - 2s 4ms/step - loss: 0.6364 - acc: 0.6708\n",
            "Epoch 433/1500\n",
            "565/565 [==============================] - 2s 4ms/step - loss: 0.6371 - acc: 0.6602\n",
            "Epoch 434/1500\n",
            "565/565 [==============================] - 2s 4ms/step - loss: 0.6361 - acc: 0.6619\n",
            "Epoch 435/1500\n",
            " 48/565 [=>............................] - ETA: 2s - loss: 0.6006 - acc: 0.7083"
          ],
          "name": "stdout"
        },
        {
          "output_type": "stream",
          "text": [
            "565/565 [==============================] - 2s 4ms/step - loss: 0.6353 - acc: 0.6602\n",
            "Epoch 436/1500\n",
            "565/565 [==============================] - 2s 4ms/step - loss: 0.6362 - acc: 0.6549\n",
            "Epoch 437/1500\n",
            "565/565 [==============================] - 2s 4ms/step - loss: 0.6364 - acc: 0.6619\n",
            "Epoch 438/1500\n",
            "565/565 [==============================] - 2s 4ms/step - loss: 0.6365 - acc: 0.6619\n",
            "Epoch 439/1500\n",
            "565/565 [==============================] - 2s 4ms/step - loss: 0.6355 - acc: 0.6531\n",
            "Epoch 440/1500\n",
            "565/565 [==============================] - 2s 4ms/step - loss: 0.6364 - acc: 0.6584\n",
            "Epoch 441/1500\n",
            "565/565 [==============================] - 2s 4ms/step - loss: 0.6363 - acc: 0.6637\n",
            "Epoch 442/1500\n",
            " 48/565 [=>............................] - ETA: 2s - loss: 0.6163 - acc: 0.6875"
          ],
          "name": "stdout"
        },
        {
          "output_type": "stream",
          "text": [
            "565/565 [==============================] - 2s 4ms/step - loss: 0.6358 - acc: 0.6584\n",
            "Epoch 443/1500\n",
            "565/565 [==============================] - 2s 4ms/step - loss: 0.6370 - acc: 0.6602\n",
            "Epoch 444/1500\n",
            "565/565 [==============================] - 2s 4ms/step - loss: 0.6363 - acc: 0.6655\n",
            "Epoch 445/1500\n",
            "565/565 [==============================] - 2s 4ms/step - loss: 0.6357 - acc: 0.6655\n",
            "Epoch 446/1500\n",
            "565/565 [==============================] - 2s 4ms/step - loss: 0.6345 - acc: 0.6549\n",
            "Epoch 447/1500\n",
            "565/565 [==============================] - 2s 4ms/step - loss: 0.6361 - acc: 0.6602\n",
            "Epoch 448/1500\n",
            "565/565 [==============================] - 2s 4ms/step - loss: 0.6361 - acc: 0.6566\n",
            "Epoch 449/1500\n",
            " 48/565 [=>............................] - ETA: 1s - loss: 0.6033 - acc: 0.7083"
          ],
          "name": "stdout"
        },
        {
          "output_type": "stream",
          "text": [
            "565/565 [==============================] - 2s 4ms/step - loss: 0.6357 - acc: 0.6619\n",
            "Epoch 450/1500\n",
            "565/565 [==============================] - 2s 4ms/step - loss: 0.6348 - acc: 0.6619\n",
            "Epoch 451/1500\n",
            "565/565 [==============================] - 2s 4ms/step - loss: 0.6357 - acc: 0.6637\n",
            "Epoch 452/1500\n",
            "565/565 [==============================] - 2s 4ms/step - loss: 0.6358 - acc: 0.6619\n",
            "Epoch 453/1500\n",
            "565/565 [==============================] - 2s 4ms/step - loss: 0.6348 - acc: 0.6496\n",
            "Epoch 454/1500\n",
            "565/565 [==============================] - 2s 4ms/step - loss: 0.6353 - acc: 0.6673\n",
            "Epoch 455/1500\n",
            "565/565 [==============================] - 2s 4ms/step - loss: 0.6362 - acc: 0.6619\n",
            "Epoch 456/1500\n",
            " 48/565 [=>............................] - ETA: 2s - loss: 0.6965 - acc: 0.5625"
          ],
          "name": "stdout"
        },
        {
          "output_type": "stream",
          "text": [
            "565/565 [==============================] - 2s 4ms/step - loss: 0.6357 - acc: 0.6602\n",
            "Epoch 457/1500\n",
            "565/565 [==============================] - 2s 4ms/step - loss: 0.6353 - acc: 0.6673\n",
            "Epoch 458/1500\n",
            "565/565 [==============================] - 2s 4ms/step - loss: 0.6352 - acc: 0.6584\n",
            "Epoch 459/1500\n",
            "565/565 [==============================] - 2s 4ms/step - loss: 0.6360 - acc: 0.6619\n",
            "Epoch 460/1500\n",
            "565/565 [==============================] - 2s 4ms/step - loss: 0.6356 - acc: 0.6655\n",
            "Epoch 461/1500\n",
            "565/565 [==============================] - 2s 4ms/step - loss: 0.6351 - acc: 0.6673\n",
            "Epoch 462/1500\n",
            "565/565 [==============================] - 2s 4ms/step - loss: 0.6355 - acc: 0.6655\n",
            "Epoch 463/1500\n",
            " 48/565 [=>............................] - ETA: 1s - loss: 0.6703 - acc: 0.6250"
          ],
          "name": "stdout"
        },
        {
          "output_type": "stream",
          "text": [
            "565/565 [==============================] - 2s 4ms/step - loss: 0.6354 - acc: 0.6655\n",
            "Epoch 464/1500\n",
            "565/565 [==============================] - 2s 4ms/step - loss: 0.6356 - acc: 0.6726\n",
            "Epoch 465/1500\n",
            "565/565 [==============================] - 2s 4ms/step - loss: 0.6353 - acc: 0.6637\n",
            "Epoch 466/1500\n",
            "565/565 [==============================] - 2s 4ms/step - loss: 0.6341 - acc: 0.6619\n",
            "Epoch 467/1500\n",
            "565/565 [==============================] - 2s 4ms/step - loss: 0.6354 - acc: 0.6619\n",
            "Epoch 468/1500\n",
            "565/565 [==============================] - 2s 4ms/step - loss: 0.6360 - acc: 0.6655\n",
            "Epoch 469/1500\n",
            "565/565 [==============================] - 2s 4ms/step - loss: 0.6353 - acc: 0.6566\n",
            "Epoch 470/1500\n",
            " 48/565 [=>............................] - ETA: 1s - loss: 0.7260 - acc: 0.5417"
          ],
          "name": "stdout"
        },
        {
          "output_type": "stream",
          "text": [
            "565/565 [==============================] - 2s 4ms/step - loss: 0.6335 - acc: 0.6726\n",
            "Epoch 471/1500\n",
            "565/565 [==============================] - 2s 4ms/step - loss: 0.6335 - acc: 0.6584\n",
            "Epoch 472/1500\n",
            "565/565 [==============================] - 2s 4ms/step - loss: 0.6357 - acc: 0.6673\n",
            "Epoch 473/1500\n",
            "565/565 [==============================] - 2s 4ms/step - loss: 0.6351 - acc: 0.6619\n",
            "Epoch 474/1500\n",
            "565/565 [==============================] - 2s 4ms/step - loss: 0.6351 - acc: 0.6619\n",
            "Epoch 475/1500\n",
            "565/565 [==============================] - 2s 4ms/step - loss: 0.6350 - acc: 0.6602\n",
            "Epoch 476/1500\n",
            "565/565 [==============================] - 2s 4ms/step - loss: 0.6353 - acc: 0.6637\n",
            "Epoch 477/1500\n",
            " 48/565 [=>............................] - ETA: 2s - loss: 0.6500 - acc: 0.6667"
          ],
          "name": "stdout"
        },
        {
          "output_type": "stream",
          "text": [
            "565/565 [==============================] - 2s 4ms/step - loss: 0.6355 - acc: 0.6602\n",
            "Epoch 478/1500\n",
            "565/565 [==============================] - 2s 4ms/step - loss: 0.6351 - acc: 0.6619\n",
            "Epoch 479/1500\n",
            "565/565 [==============================] - 2s 4ms/step - loss: 0.6348 - acc: 0.6584\n",
            "Epoch 480/1500\n",
            "565/565 [==============================] - 2s 4ms/step - loss: 0.6351 - acc: 0.6619\n",
            "Epoch 481/1500\n",
            "565/565 [==============================] - 2s 4ms/step - loss: 0.6344 - acc: 0.6655\n",
            "Epoch 482/1500\n",
            "565/565 [==============================] - 2s 4ms/step - loss: 0.6343 - acc: 0.6655\n",
            "Epoch 483/1500\n",
            "565/565 [==============================] - 2s 4ms/step - loss: 0.6357 - acc: 0.6637\n",
            "Epoch 484/1500\n",
            " 32/565 [>.............................] - ETA: 2s - loss: 0.5880 - acc: 0.7812"
          ],
          "name": "stdout"
        },
        {
          "output_type": "stream",
          "text": [
            "565/565 [==============================] - 2s 4ms/step - loss: 0.6344 - acc: 0.6655\n",
            "Epoch 485/1500\n",
            "565/565 [==============================] - 2s 4ms/step - loss: 0.6347 - acc: 0.6584\n",
            "Epoch 486/1500\n",
            "565/565 [==============================] - 2s 4ms/step - loss: 0.6346 - acc: 0.6531\n",
            "Epoch 487/1500\n",
            "565/565 [==============================] - 2s 4ms/step - loss: 0.6340 - acc: 0.6655\n",
            "Epoch 488/1500\n",
            "565/565 [==============================] - 2s 4ms/step - loss: 0.6339 - acc: 0.6655\n",
            "Epoch 489/1500\n",
            "565/565 [==============================] - 2s 4ms/step - loss: 0.6344 - acc: 0.6619\n",
            "Epoch 490/1500\n",
            "565/565 [==============================] - 2s 4ms/step - loss: 0.6345 - acc: 0.6602\n",
            "Epoch 491/1500\n",
            " 48/565 [=>............................] - ETA: 2s - loss: 0.6018 - acc: 0.7083"
          ],
          "name": "stdout"
        },
        {
          "output_type": "stream",
          "text": [
            "565/565 [==============================] - 2s 4ms/step - loss: 0.6340 - acc: 0.6637\n",
            "Epoch 492/1500\n",
            "565/565 [==============================] - 2s 4ms/step - loss: 0.6339 - acc: 0.6655\n",
            "Epoch 493/1500\n",
            "565/565 [==============================] - 2s 4ms/step - loss: 0.6345 - acc: 0.6513\n",
            "Epoch 494/1500\n",
            "565/565 [==============================] - 2s 4ms/step - loss: 0.6348 - acc: 0.6619\n",
            "Epoch 495/1500\n",
            "565/565 [==============================] - 2s 4ms/step - loss: 0.6342 - acc: 0.6637\n",
            "Epoch 496/1500\n",
            "565/565 [==============================] - 2s 4ms/step - loss: 0.6332 - acc: 0.6655\n",
            "Epoch 497/1500\n",
            "565/565 [==============================] - 2s 4ms/step - loss: 0.6353 - acc: 0.6531\n",
            "Epoch 498/1500\n",
            " 48/565 [=>............................] - ETA: 2s - loss: 0.7185 - acc: 0.6042"
          ],
          "name": "stdout"
        },
        {
          "output_type": "stream",
          "text": [
            "565/565 [==============================] - 2s 4ms/step - loss: 0.6335 - acc: 0.6637\n",
            "Epoch 499/1500\n",
            "565/565 [==============================] - 2s 4ms/step - loss: 0.6351 - acc: 0.6619\n",
            "Epoch 500/1500\n",
            "565/565 [==============================] - 2s 4ms/step - loss: 0.6342 - acc: 0.6673\n",
            "Epoch 501/1500\n",
            "565/565 [==============================] - 2s 4ms/step - loss: 0.6334 - acc: 0.6673\n",
            "Epoch 502/1500\n",
            "565/565 [==============================] - 2s 4ms/step - loss: 0.6343 - acc: 0.6549\n",
            "Epoch 503/1500\n",
            "565/565 [==============================] - 2s 4ms/step - loss: 0.6346 - acc: 0.6655\n",
            "Epoch 504/1500\n",
            "565/565 [==============================] - 2s 4ms/step - loss: 0.6346 - acc: 0.6690\n",
            "Epoch 505/1500\n",
            " 32/565 [>.............................] - ETA: 2s - loss: 0.6612 - acc: 0.6875"
          ],
          "name": "stdout"
        },
        {
          "output_type": "stream",
          "text": [
            "565/565 [==============================] - 2s 4ms/step - loss: 0.6342 - acc: 0.6655\n",
            "Epoch 506/1500\n",
            "565/565 [==============================] - 2s 4ms/step - loss: 0.6340 - acc: 0.6655\n",
            "Epoch 507/1500\n",
            "565/565 [==============================] - 2s 4ms/step - loss: 0.6352 - acc: 0.6566\n",
            "Epoch 508/1500\n",
            "565/565 [==============================] - 2s 4ms/step - loss: 0.6346 - acc: 0.6566\n",
            "Epoch 509/1500\n",
            "565/565 [==============================] - 2s 4ms/step - loss: 0.6348 - acc: 0.6655\n",
            "Epoch 510/1500\n",
            "565/565 [==============================] - 2s 4ms/step - loss: 0.6343 - acc: 0.6602\n",
            "Epoch 511/1500\n",
            "565/565 [==============================] - 2s 4ms/step - loss: 0.6333 - acc: 0.6549\n",
            "Epoch 512/1500\n",
            " 64/565 [==>...........................] - ETA: 1s - loss: 0.6313 - acc: 0.6406"
          ],
          "name": "stdout"
        },
        {
          "output_type": "stream",
          "text": [
            "565/565 [==============================] - 2s 4ms/step - loss: 0.6337 - acc: 0.6637\n",
            "Epoch 513/1500\n",
            "565/565 [==============================] - 2s 4ms/step - loss: 0.6345 - acc: 0.6690\n",
            "Epoch 514/1500\n",
            "565/565 [==============================] - 2s 4ms/step - loss: 0.6337 - acc: 0.6619\n",
            "Epoch 515/1500\n",
            "565/565 [==============================] - 2s 4ms/step - loss: 0.6348 - acc: 0.6566\n",
            "Epoch 516/1500\n",
            "565/565 [==============================] - 2s 4ms/step - loss: 0.6341 - acc: 0.6655\n",
            "Epoch 517/1500\n",
            "565/565 [==============================] - 2s 4ms/step - loss: 0.6346 - acc: 0.6673\n",
            "Epoch 518/1500\n",
            "565/565 [==============================] - 2s 4ms/step - loss: 0.6344 - acc: 0.6602\n",
            "Epoch 519/1500\n",
            " 48/565 [=>............................] - ETA: 2s - loss: 0.6746 - acc: 0.5833"
          ],
          "name": "stdout"
        },
        {
          "output_type": "stream",
          "text": [
            "565/565 [==============================] - 2s 4ms/step - loss: 0.6337 - acc: 0.6637\n",
            "Epoch 520/1500\n",
            "565/565 [==============================] - 2s 4ms/step - loss: 0.6339 - acc: 0.6619\n",
            "Epoch 521/1500\n",
            "565/565 [==============================] - 2s 4ms/step - loss: 0.6343 - acc: 0.6655\n",
            "Epoch 522/1500\n",
            "565/565 [==============================] - 2s 4ms/step - loss: 0.6343 - acc: 0.6619\n",
            "Epoch 523/1500\n",
            "565/565 [==============================] - 2s 4ms/step - loss: 0.6339 - acc: 0.6673\n",
            "Epoch 524/1500\n",
            "565/565 [==============================] - 2s 4ms/step - loss: 0.6338 - acc: 0.6673\n",
            "Epoch 525/1500\n",
            "565/565 [==============================] - 2s 4ms/step - loss: 0.6342 - acc: 0.6549\n",
            "Epoch 526/1500\n",
            " 48/565 [=>............................] - ETA: 2s - loss: 0.5726 - acc: 0.6875"
          ],
          "name": "stdout"
        },
        {
          "output_type": "stream",
          "text": [
            "565/565 [==============================] - 2s 4ms/step - loss: 0.6334 - acc: 0.6602\n",
            "Epoch 527/1500\n",
            "565/565 [==============================] - 2s 4ms/step - loss: 0.6340 - acc: 0.6584\n",
            "Epoch 528/1500\n",
            "565/565 [==============================] - 2s 4ms/step - loss: 0.6336 - acc: 0.6602\n",
            "Epoch 529/1500\n",
            "565/565 [==============================] - 2s 4ms/step - loss: 0.6340 - acc: 0.6655\n",
            "Epoch 530/1500\n",
            "565/565 [==============================] - 2s 4ms/step - loss: 0.6339 - acc: 0.6726\n",
            "Epoch 531/1500\n",
            "565/565 [==============================] - 2s 4ms/step - loss: 0.6340 - acc: 0.6602\n",
            "Epoch 532/1500\n",
            "565/565 [==============================] - 2s 4ms/step - loss: 0.6342 - acc: 0.6690\n",
            "Epoch 533/1500\n",
            " 32/565 [>.............................] - ETA: 2s - loss: 0.6005 - acc: 0.6562"
          ],
          "name": "stdout"
        },
        {
          "output_type": "stream",
          "text": [
            "565/565 [==============================] - 2s 4ms/step - loss: 0.6328 - acc: 0.6619\n",
            "Epoch 534/1500\n",
            "565/565 [==============================] - 2s 4ms/step - loss: 0.6344 - acc: 0.6619\n",
            "Epoch 535/1500\n",
            "565/565 [==============================] - 2s 4ms/step - loss: 0.6329 - acc: 0.6619\n",
            "Epoch 536/1500\n",
            "565/565 [==============================] - 2s 4ms/step - loss: 0.6335 - acc: 0.6673\n",
            "Epoch 537/1500\n",
            "565/565 [==============================] - 2s 4ms/step - loss: 0.6339 - acc: 0.6708\n",
            "Epoch 538/1500\n",
            "565/565 [==============================] - 2s 4ms/step - loss: 0.6338 - acc: 0.6584\n",
            "Epoch 539/1500\n",
            "565/565 [==============================] - 2s 4ms/step - loss: 0.6334 - acc: 0.6619\n",
            "Epoch 540/1500\n",
            " 48/565 [=>............................] - ETA: 1s - loss: 0.6515 - acc: 0.6042"
          ],
          "name": "stdout"
        },
        {
          "output_type": "stream",
          "text": [
            "565/565 [==============================] - 2s 4ms/step - loss: 0.6339 - acc: 0.6584\n",
            "Epoch 541/1500\n",
            "565/565 [==============================] - 2s 4ms/step - loss: 0.6337 - acc: 0.6673\n",
            "Epoch 542/1500\n",
            "565/565 [==============================] - 2s 4ms/step - loss: 0.6334 - acc: 0.6619\n",
            "Epoch 543/1500\n",
            "565/565 [==============================] - 2s 4ms/step - loss: 0.6344 - acc: 0.6655\n",
            "Epoch 544/1500\n",
            "565/565 [==============================] - 2s 4ms/step - loss: 0.6341 - acc: 0.6637\n",
            "Epoch 545/1500\n",
            "565/565 [==============================] - 2s 4ms/step - loss: 0.6341 - acc: 0.6619\n",
            "Epoch 546/1500\n",
            "565/565 [==============================] - 2s 4ms/step - loss: 0.6336 - acc: 0.6619\n",
            "Epoch 547/1500\n",
            " 48/565 [=>............................] - ETA: 1s - loss: 0.5957 - acc: 0.7083"
          ],
          "name": "stdout"
        },
        {
          "output_type": "stream",
          "text": [
            "565/565 [==============================] - 2s 4ms/step - loss: 0.6330 - acc: 0.6637\n",
            "Epoch 548/1500\n",
            "565/565 [==============================] - 2s 4ms/step - loss: 0.6335 - acc: 0.6566\n",
            "Epoch 549/1500\n",
            "565/565 [==============================] - 2s 4ms/step - loss: 0.6338 - acc: 0.6496\n",
            "Epoch 550/1500\n",
            "565/565 [==============================] - 2s 4ms/step - loss: 0.6343 - acc: 0.6673\n",
            "Epoch 551/1500\n",
            "565/565 [==============================] - 2s 4ms/step - loss: 0.6336 - acc: 0.6655\n",
            "Epoch 552/1500\n",
            "565/565 [==============================] - 2s 4ms/step - loss: 0.6332 - acc: 0.6655\n",
            "Epoch 553/1500\n",
            "565/565 [==============================] - 2s 4ms/step - loss: 0.6327 - acc: 0.6655\n",
            "Epoch 554/1500\n",
            " 48/565 [=>............................] - ETA: 2s - loss: 0.6205 - acc: 0.5833"
          ],
          "name": "stdout"
        },
        {
          "output_type": "stream",
          "text": [
            "565/565 [==============================] - 2s 4ms/step - loss: 0.6337 - acc: 0.6566\n",
            "Epoch 555/1500\n",
            "565/565 [==============================] - 2s 4ms/step - loss: 0.6335 - acc: 0.6655\n",
            "Epoch 556/1500\n",
            "565/565 [==============================] - 2s 4ms/step - loss: 0.6331 - acc: 0.6619\n",
            "Epoch 557/1500\n",
            "565/565 [==============================] - 2s 4ms/step - loss: 0.6341 - acc: 0.6584\n",
            "Epoch 558/1500\n",
            "565/565 [==============================] - 2s 4ms/step - loss: 0.6339 - acc: 0.6566\n",
            "Epoch 559/1500\n",
            "565/565 [==============================] - 2s 4ms/step - loss: 0.6326 - acc: 0.6531\n",
            "Epoch 560/1500\n",
            "565/565 [==============================] - 2s 4ms/step - loss: 0.6334 - acc: 0.6673\n",
            "Epoch 561/1500\n",
            " 32/565 [>.............................] - ETA: 2s - loss: 0.6328 - acc: 0.6250"
          ],
          "name": "stdout"
        },
        {
          "output_type": "stream",
          "text": [
            "565/565 [==============================] - 2s 4ms/step - loss: 0.6330 - acc: 0.6673\n",
            "Epoch 562/1500\n",
            "565/565 [==============================] - 2s 4ms/step - loss: 0.6336 - acc: 0.6584\n",
            "Epoch 563/1500\n",
            "565/565 [==============================] - 2s 4ms/step - loss: 0.6341 - acc: 0.6708\n",
            "Epoch 564/1500\n",
            "565/565 [==============================] - 2s 4ms/step - loss: 0.6328 - acc: 0.6673\n",
            "Epoch 565/1500\n",
            "565/565 [==============================] - 2s 4ms/step - loss: 0.6326 - acc: 0.6690\n",
            "Epoch 566/1500\n",
            "565/565 [==============================] - 2s 4ms/step - loss: 0.6336 - acc: 0.6602\n",
            "Epoch 567/1500\n",
            "565/565 [==============================] - 2s 4ms/step - loss: 0.6336 - acc: 0.6655\n",
            "Epoch 568/1500\n",
            " 48/565 [=>............................] - ETA: 2s - loss: 0.6920 - acc: 0.6042"
          ],
          "name": "stdout"
        },
        {
          "output_type": "stream",
          "text": [
            "565/565 [==============================] - 2s 4ms/step - loss: 0.6335 - acc: 0.6637\n",
            "Epoch 569/1500\n",
            "565/565 [==============================] - 2s 4ms/step - loss: 0.6329 - acc: 0.6655\n",
            "Epoch 570/1500\n",
            "565/565 [==============================] - 2s 4ms/step - loss: 0.6335 - acc: 0.6673\n",
            "Epoch 571/1500\n",
            "565/565 [==============================] - 2s 4ms/step - loss: 0.6338 - acc: 0.6637\n",
            "Epoch 572/1500\n",
            "565/565 [==============================] - 2s 4ms/step - loss: 0.6339 - acc: 0.6602\n",
            "Epoch 573/1500\n",
            "565/565 [==============================] - 2s 4ms/step - loss: 0.6333 - acc: 0.6584\n",
            "Epoch 574/1500\n",
            "565/565 [==============================] - 2s 4ms/step - loss: 0.6325 - acc: 0.6513\n",
            "Epoch 575/1500\n",
            " 48/565 [=>............................] - ETA: 2s - loss: 0.5878 - acc: 0.7292"
          ],
          "name": "stdout"
        },
        {
          "output_type": "stream",
          "text": [
            "565/565 [==============================] - 2s 4ms/step - loss: 0.6339 - acc: 0.6637\n",
            "Epoch 576/1500\n",
            "565/565 [==============================] - 2s 4ms/step - loss: 0.6323 - acc: 0.6726\n",
            "Epoch 577/1500\n",
            "565/565 [==============================] - 2s 4ms/step - loss: 0.6328 - acc: 0.6690\n",
            "Epoch 578/1500\n",
            "565/565 [==============================] - 2s 4ms/step - loss: 0.6333 - acc: 0.6602\n",
            "Epoch 579/1500\n",
            "565/565 [==============================] - 2s 4ms/step - loss: 0.6334 - acc: 0.6690\n",
            "Epoch 580/1500\n",
            "565/565 [==============================] - 2s 4ms/step - loss: 0.6331 - acc: 0.6637\n",
            "Epoch 581/1500\n",
            "565/565 [==============================] - 2s 4ms/step - loss: 0.6324 - acc: 0.6584\n",
            "Epoch 582/1500\n",
            " 48/565 [=>............................] - ETA: 2s - loss: 0.5801 - acc: 0.7500"
          ],
          "name": "stdout"
        },
        {
          "output_type": "stream",
          "text": [
            "565/565 [==============================] - 2s 4ms/step - loss: 0.6336 - acc: 0.6673\n",
            "Epoch 583/1500\n",
            "565/565 [==============================] - 2s 4ms/step - loss: 0.6329 - acc: 0.6690\n",
            "Epoch 584/1500\n",
            "565/565 [==============================] - 2s 4ms/step - loss: 0.6344 - acc: 0.6655\n",
            "Epoch 585/1500\n",
            "565/565 [==============================] - 2s 4ms/step - loss: 0.6332 - acc: 0.6602\n",
            "Epoch 586/1500\n",
            "565/565 [==============================] - 2s 4ms/step - loss: 0.6335 - acc: 0.6690\n",
            "Epoch 587/1500\n",
            "565/565 [==============================] - 2s 4ms/step - loss: 0.6327 - acc: 0.6673\n",
            "Epoch 588/1500\n",
            "565/565 [==============================] - 2s 4ms/step - loss: 0.6329 - acc: 0.6655\n",
            "Epoch 589/1500\n",
            " 48/565 [=>............................] - ETA: 2s - loss: 0.6426 - acc: 0.6458"
          ],
          "name": "stdout"
        },
        {
          "output_type": "stream",
          "text": [
            "565/565 [==============================] - 2s 4ms/step - loss: 0.6330 - acc: 0.6673\n",
            "Epoch 590/1500\n",
            "565/565 [==============================] - 2s 4ms/step - loss: 0.6336 - acc: 0.6531\n",
            "Epoch 591/1500\n",
            "565/565 [==============================] - 2s 4ms/step - loss: 0.6324 - acc: 0.6673\n",
            "Epoch 592/1500\n",
            "565/565 [==============================] - 2s 4ms/step - loss: 0.6334 - acc: 0.6602\n",
            "Epoch 593/1500\n",
            "565/565 [==============================] - 2s 4ms/step - loss: 0.6327 - acc: 0.6619\n",
            "Epoch 594/1500\n",
            "565/565 [==============================] - 2s 4ms/step - loss: 0.6325 - acc: 0.6690\n",
            "Epoch 595/1500\n",
            "565/565 [==============================] - 2s 4ms/step - loss: 0.6333 - acc: 0.6655\n",
            "Epoch 596/1500\n",
            " 48/565 [=>............................] - ETA: 2s - loss: 0.5864 - acc: 0.7083"
          ],
          "name": "stdout"
        },
        {
          "output_type": "stream",
          "text": [
            "565/565 [==============================] - 2s 4ms/step - loss: 0.6324 - acc: 0.6673\n",
            "Epoch 597/1500\n",
            "565/565 [==============================] - 2s 4ms/step - loss: 0.6328 - acc: 0.6619\n",
            "Epoch 598/1500\n",
            "565/565 [==============================] - 2s 4ms/step - loss: 0.6336 - acc: 0.6619\n",
            "Epoch 599/1500\n",
            "565/565 [==============================] - 2s 4ms/step - loss: 0.6323 - acc: 0.6690\n",
            "Epoch 600/1500\n",
            "565/565 [==============================] - 2s 4ms/step - loss: 0.6326 - acc: 0.6637\n",
            "Epoch 601/1500\n",
            "565/565 [==============================] - 2s 4ms/step - loss: 0.6331 - acc: 0.6584\n",
            "Epoch 602/1500\n",
            "565/565 [==============================] - 2s 4ms/step - loss: 0.6326 - acc: 0.6655\n",
            "Epoch 603/1500\n",
            " 48/565 [=>............................] - ETA: 2s - loss: 0.6203 - acc: 0.6667"
          ],
          "name": "stdout"
        },
        {
          "output_type": "stream",
          "text": [
            "565/565 [==============================] - 2s 4ms/step - loss: 0.6326 - acc: 0.6619\n",
            "Epoch 604/1500\n",
            "565/565 [==============================] - 2s 4ms/step - loss: 0.6330 - acc: 0.6637\n",
            "Epoch 605/1500\n",
            "565/565 [==============================] - 2s 4ms/step - loss: 0.6322 - acc: 0.6602\n",
            "Epoch 606/1500\n",
            "565/565 [==============================] - 2s 4ms/step - loss: 0.6330 - acc: 0.6690\n",
            "Epoch 607/1500\n",
            "565/565 [==============================] - 2s 4ms/step - loss: 0.6323 - acc: 0.6566\n",
            "Epoch 608/1500\n",
            "565/565 [==============================] - 2s 4ms/step - loss: 0.6330 - acc: 0.6655\n",
            "Epoch 609/1500\n",
            "565/565 [==============================] - 2s 4ms/step - loss: 0.6330 - acc: 0.6637\n",
            "Epoch 610/1500\n",
            " 48/565 [=>............................] - ETA: 2s - loss: 0.5870 - acc: 0.7292"
          ],
          "name": "stdout"
        },
        {
          "output_type": "stream",
          "text": [
            "565/565 [==============================] - 2s 4ms/step - loss: 0.6331 - acc: 0.6496\n",
            "Epoch 611/1500\n",
            "565/565 [==============================] - 2s 4ms/step - loss: 0.6322 - acc: 0.6584\n",
            "Epoch 612/1500\n",
            "565/565 [==============================] - 2s 4ms/step - loss: 0.6319 - acc: 0.6673\n",
            "Epoch 613/1500\n",
            "565/565 [==============================] - 2s 4ms/step - loss: 0.6329 - acc: 0.6655\n",
            "Epoch 614/1500\n",
            "565/565 [==============================] - 2s 4ms/step - loss: 0.6324 - acc: 0.6655\n",
            "Epoch 615/1500\n",
            "565/565 [==============================] - 2s 4ms/step - loss: 0.6327 - acc: 0.6584\n",
            "Epoch 616/1500\n",
            "565/565 [==============================] - 2s 4ms/step - loss: 0.6322 - acc: 0.6637\n",
            "Epoch 617/1500\n",
            " 48/565 [=>............................] - ETA: 2s - loss: 0.7514 - acc: 0.5417"
          ],
          "name": "stdout"
        },
        {
          "output_type": "stream",
          "text": [
            "565/565 [==============================] - 2s 4ms/step - loss: 0.6327 - acc: 0.6655\n",
            "Epoch 618/1500\n",
            "565/565 [==============================] - 2s 4ms/step - loss: 0.6325 - acc: 0.6655\n",
            "Epoch 619/1500\n",
            "565/565 [==============================] - 2s 4ms/step - loss: 0.6327 - acc: 0.6602\n",
            "Epoch 620/1500\n",
            "565/565 [==============================] - 2s 4ms/step - loss: 0.6322 - acc: 0.6673\n",
            "Epoch 621/1500\n",
            "565/565 [==============================] - 2s 4ms/step - loss: 0.6324 - acc: 0.6655\n",
            "Epoch 622/1500\n",
            "565/565 [==============================] - 2s 4ms/step - loss: 0.6323 - acc: 0.6743\n",
            "Epoch 623/1500\n",
            "565/565 [==============================] - 2s 4ms/step - loss: 0.6328 - acc: 0.6566\n",
            "Epoch 624/1500\n",
            " 48/565 [=>............................] - ETA: 1s - loss: 0.6418 - acc: 0.6875"
          ],
          "name": "stdout"
        },
        {
          "output_type": "stream",
          "text": [
            "565/565 [==============================] - 2s 4ms/step - loss: 0.6326 - acc: 0.6566\n",
            "Epoch 625/1500\n",
            "565/565 [==============================] - 2s 4ms/step - loss: 0.6327 - acc: 0.6743\n",
            "Epoch 626/1500\n",
            "565/565 [==============================] - 2s 4ms/step - loss: 0.6329 - acc: 0.6690\n",
            "Epoch 627/1500\n",
            "565/565 [==============================] - 2s 4ms/step - loss: 0.6322 - acc: 0.6673\n",
            "Epoch 628/1500\n",
            "565/565 [==============================] - 2s 4ms/step - loss: 0.6327 - acc: 0.6602\n",
            "Epoch 629/1500\n",
            "565/565 [==============================] - 2s 4ms/step - loss: 0.6319 - acc: 0.6655\n",
            "Epoch 630/1500\n",
            "565/565 [==============================] - 2s 4ms/step - loss: 0.6331 - acc: 0.6655\n",
            "Epoch 631/1500\n",
            " 48/565 [=>............................] - ETA: 1s - loss: 0.5834 - acc: 0.7083"
          ],
          "name": "stdout"
        },
        {
          "output_type": "stream",
          "text": [
            "565/565 [==============================] - 2s 4ms/step - loss: 0.6316 - acc: 0.6708\n",
            "Epoch 632/1500\n",
            "565/565 [==============================] - 2s 4ms/step - loss: 0.6334 - acc: 0.6708\n",
            "Epoch 633/1500\n",
            "565/565 [==============================] - 2s 4ms/step - loss: 0.6322 - acc: 0.6673\n",
            "Epoch 634/1500\n",
            "565/565 [==============================] - 2s 4ms/step - loss: 0.6323 - acc: 0.6602\n",
            "Epoch 635/1500\n",
            "565/565 [==============================] - 2s 4ms/step - loss: 0.6324 - acc: 0.6690\n",
            "Epoch 636/1500\n",
            "565/565 [==============================] - 2s 4ms/step - loss: 0.6323 - acc: 0.6655\n",
            "Epoch 637/1500\n",
            "565/565 [==============================] - 2s 4ms/step - loss: 0.6328 - acc: 0.6673\n",
            "Epoch 638/1500\n",
            " 48/565 [=>............................] - ETA: 1s - loss: 0.6971 - acc: 0.5833"
          ],
          "name": "stdout"
        },
        {
          "output_type": "stream",
          "text": [
            "565/565 [==============================] - 2s 4ms/step - loss: 0.6323 - acc: 0.6619\n",
            "Epoch 639/1500\n",
            "565/565 [==============================] - 2s 4ms/step - loss: 0.6324 - acc: 0.6637\n",
            "Epoch 640/1500\n",
            "565/565 [==============================] - 2s 4ms/step - loss: 0.6326 - acc: 0.6637\n",
            "Epoch 641/1500\n",
            "565/565 [==============================] - 2s 4ms/step - loss: 0.6311 - acc: 0.6708\n",
            "Epoch 642/1500\n",
            "565/565 [==============================] - 2s 4ms/step - loss: 0.6332 - acc: 0.6584\n",
            "Epoch 643/1500\n",
            "565/565 [==============================] - 2s 4ms/step - loss: 0.6327 - acc: 0.6619\n",
            "Epoch 644/1500\n",
            "565/565 [==============================] - 2s 4ms/step - loss: 0.6323 - acc: 0.6690\n",
            "Epoch 645/1500\n",
            " 48/565 [=>............................] - ETA: 2s - loss: 0.6478 - acc: 0.6458"
          ],
          "name": "stdout"
        },
        {
          "output_type": "stream",
          "text": [
            "565/565 [==============================] - 2s 4ms/step - loss: 0.6315 - acc: 0.6690\n",
            "Epoch 646/1500\n",
            "565/565 [==============================] - 2s 4ms/step - loss: 0.6316 - acc: 0.6619\n",
            "Epoch 647/1500\n",
            "565/565 [==============================] - 2s 4ms/step - loss: 0.6325 - acc: 0.6655\n",
            "Epoch 648/1500\n",
            "565/565 [==============================] - 2s 4ms/step - loss: 0.6320 - acc: 0.6637\n",
            "Epoch 649/1500\n",
            "565/565 [==============================] - 2s 4ms/step - loss: 0.6317 - acc: 0.6655\n",
            "Epoch 650/1500\n",
            "565/565 [==============================] - 2s 4ms/step - loss: 0.6323 - acc: 0.6690\n",
            "Epoch 651/1500\n",
            "565/565 [==============================] - 2s 4ms/step - loss: 0.6318 - acc: 0.6637\n",
            "Epoch 652/1500\n",
            " 48/565 [=>............................] - ETA: 2s - loss: 0.6422 - acc: 0.6250"
          ],
          "name": "stdout"
        },
        {
          "output_type": "stream",
          "text": [
            "565/565 [==============================] - 2s 4ms/step - loss: 0.6324 - acc: 0.6708\n",
            "Epoch 653/1500\n",
            "565/565 [==============================] - 2s 4ms/step - loss: 0.6320 - acc: 0.6637\n",
            "Epoch 654/1500\n",
            "565/565 [==============================] - 2s 4ms/step - loss: 0.6329 - acc: 0.6637\n",
            "Epoch 655/1500\n",
            "565/565 [==============================] - 2s 4ms/step - loss: 0.6321 - acc: 0.6673\n",
            "Epoch 656/1500\n",
            "565/565 [==============================] - 2s 4ms/step - loss: 0.6318 - acc: 0.6708\n",
            "Epoch 657/1500\n",
            "565/565 [==============================] - 2s 4ms/step - loss: 0.6309 - acc: 0.6655\n",
            "Epoch 658/1500\n",
            "565/565 [==============================] - 2s 4ms/step - loss: 0.6317 - acc: 0.6602\n",
            "Epoch 659/1500\n",
            " 48/565 [=>............................] - ETA: 1s - loss: 0.6650 - acc: 0.6250"
          ],
          "name": "stdout"
        },
        {
          "output_type": "stream",
          "text": [
            "565/565 [==============================] - 2s 4ms/step - loss: 0.6316 - acc: 0.6602\n",
            "Epoch 660/1500\n",
            "565/565 [==============================] - 2s 4ms/step - loss: 0.6322 - acc: 0.6584\n",
            "Epoch 661/1500\n",
            "464/565 [=======================>......] - ETA: 0s - loss: 0.6295 - acc: 0.6616"
          ],
          "name": "stdout"
        }
      ]
    },
    {
      "metadata": {
        "id": "Lq241ZvXmBgs",
        "colab_type": "code",
        "colab": {
          "base_uri": "https://localhost:8080/",
          "height": 393
        },
        "outputId": "7b30345d-2bae-4559-f28d-3a1f1f810362"
      },
      "cell_type": "code",
      "source": [
        "# Plot the accuracy during training\n",
        "plt.plot(history.history['acc'])\n",
        "plt.title(\"Accuracy during training\")\n",
        "plt.ylabel(\"accuracy\")\n",
        "plt.xlabel(\"epoch\")"
      ],
      "execution_count": 59,
      "outputs": [
        {
          "output_type": "execute_result",
          "data": {
            "text/plain": [
              "Text(0.5,0,'epoch')"
            ]
          },
          "metadata": {
            "tags": []
          },
          "execution_count": 59
        },
        {
          "output_type": "display_data",
          "data": {
            "image/png": "[encoded data removed]",
            "text/plain": [
              "<matplotlib.figure.Figure at 0x7f4f51de4eb8>"
            ]
          },
          "metadata": {
            "tags": []
          }
        }
      ]
    },
    {
      "metadata": {
        "id": "XDhfH6d52GUw",
        "colab_type": "code",
        "colab": {
          "base_uri": "https://localhost:8080/",
          "height": 393
        },
        "outputId": "6c179a3e-68e5-4dce-e0b4-86f894453a45"
      },
      "cell_type": "code",
      "source": [
        "plt.plot(history.history['loss'])\n",
        "plt.title(\"Loss during training\")\n",
        "plt.ylabel(\"loss\")\n",
        "plt.xlabel(\"epoch\")"
      ],
      "execution_count": 60,
      "outputs": [
        {
          "output_type": "execute_result",
          "data": {
            "text/plain": [
              "Text(0.5,0,'epoch')"
            ]
          },
          "metadata": {
            "tags": []
          },
          "execution_count": 60
        },
        {
          "output_type": "display_data",
          "data": {
            "image/png": "[encoded data removed]",
            "text/plain": [
              "<matplotlib.figure.Figure at 0x7f4f51de4c50>"
            ]
          },
          "metadata": {
            "tags": []
          }
        }
      ]
    },
    {
      "metadata": {
        "id": "MMhv-sFQCz7h",
        "colab_type": "code",
        "colab": {
          "base_uri": "https://localhost:8080/",
          "height": 51
        },
        "outputId": "a303a02e-2bf8-4fd2-e982-80586b33bf16"
      },
      "cell_type": "code",
      "source": [
        "# Evalute the same model\n",
        "model.evaluate(x=test_x, y=test_y)\n"
      ],
      "execution_count": 61,
      "outputs": [
        {
          "output_type": "stream",
          "text": [
            "120/120 [==============================] - 0s 577us/step\n"
          ],
          "name": "stdout"
        },
        {
          "output_type": "execute_result",
          "data": {
            "text/plain": [
              "[0.6427121778329213, 0.6416666626930236]"
            ]
          },
          "metadata": {
            "tags": []
          },
          "execution_count": 61
        }
      ]
    },
    {
      "metadata": {
        "id": "PYF5kaNOMPj8",
        "colab_type": "code",
        "colab": {}
      },
      "cell_type": "code",
      "source": [
        ""
      ],
      "execution_count": 0,
      "outputs": []
    }
  ]
}