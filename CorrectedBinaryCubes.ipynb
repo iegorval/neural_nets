{
  "nbformat": 4,
  "nbformat_minor": 0,
  "metadata": {
    "colab": {
      "name": "Untitled0.ipynb",
      "version": "0.3.2",
      "provenance": [],
      "collapsed_sections": [],
      "toc_visible": true,
      "include_colab_link": true
    },
    "kernelspec": {
      "name": "python3",
      "display_name": "Python 3"
    }
  },
  "cells": [
    {
      "cell_type": "markdown",
      "metadata": {
        "id": "view-in-github",
        "colab_type": "text"
      },
      "source": [
        "[View in Colaboratory](https://colab.research.google.com/github/iegorval/neural_nets/blob/master/CorrectedBinaryCubes.ipynb)"
      ]
    },
    {
      "metadata": {
        "id": "oV2qqlq5QmNd",
        "colab_type": "text"
      },
      "cell_type": "markdown",
      "source": [
        "# Getting Ready\n",
        "Prepare the files and the libraries for the experiment."
      ]
    },
    {
      "metadata": {
        "id": "aWQrp_kPQop9",
        "colab_type": "code",
        "colab": {
          "base_uri": "https://localhost:8080/",
          "height": 17
        },
        "outputId": "415ef939-4fae-4922-8b6a-f2d6b6faeb5c"
      },
      "cell_type": "code",
      "source": [
        "# Installs\n",
        "!pip install -U -q PyDrive"
      ],
      "execution_count": 5,
      "outputs": []
    },
    {
      "metadata": {
        "id": "FAQQdDA9UBDj",
        "colab_type": "code",
        "colab": {
          "base_uri": "https://localhost:8080/",
          "height": 34
        },
        "outputId": "c49c6026-bc49-485a-d3fc-c443bee6969c"
      },
      "cell_type": "code",
      "source": [
        "# Imports\n",
        "from pydrive.auth import GoogleAuth\n",
        "from pydrive.drive import GoogleDrive\n",
        "from google.colab import auth\n",
        "from oauth2client.client import GoogleCredentials\n",
        "import numpy as np \n",
        "import pandas as pd\n",
        "import matplotlib.pyplot as plt\n",
        "from keras.layers import LSTM, Input, Activation, Dense, TimeDistributed, Dropout, BatchNormalization\n",
        "from keras.models import Sequential\n",
        "from keras import optimizers\n",
        "from keras.callbacks import Callback, LearningRateScheduler\n",
        "import keras.backend as K\n",
        "import keras.utils as utils\n",
        "from sklearn.metrics import confusion_matrix, f1_score, precision_score, recall_score\n",
        "import re\n",
        "from io import StringIO\n",
        "from math import exp"
      ],
      "execution_count": 6,
      "outputs": [
        {
          "output_type": "stream",
          "text": [
            "Using TensorFlow backend.\n"
          ],
          "name": "stderr"
        }
      ]
    },
    {
      "metadata": {
        "id": "3hcA5ujlQsX7",
        "colab_type": "code",
        "colab": {
          "base_uri": "https://localhost:8080/",
          "height": 17
        },
        "outputId": "0163da2d-0d6b-4de6-af1e-66f68c8e16fb"
      },
      "cell_type": "code",
      "source": [
        "# PyDrive client\n",
        "auth.authenticate_user()\n",
        "gauth = GoogleAuth()\n",
        "gauth.credentials = GoogleCredentials.get_application_default()\n",
        "drive = GoogleDrive(gauth)\n",
        "# Get all files from the root folder\n",
        "file_list = drive.ListFile({'q': \"'root' in parents and trashed=false\"}).GetList()"
      ],
      "execution_count": 7,
      "outputs": []
    },
    {
      "metadata": {
        "id": "g6sjBvHZcFKB",
        "colab_type": "code",
        "colab": {
          "base_uri": "https://localhost:8080/",
          "height": 17
        },
        "outputId": "25092514-8046-48b7-b389-b3f8595d73aa"
      },
      "cell_type": "code",
      "source": [
        "# Get the .pow files \n",
        "pow_files = [(file['title'], file['id'], re.sub(r'_[0-9]+|.pow', '', file['title'])) \n",
        "             for file in file_list if file['title'].find('.pow')>0]\n",
        "num_examples = len(pow_files)\n",
        "# Get the categories\n",
        "categories = list(set([file_info[2] for file_info in pow_files]))\n",
        "# Get the dictionary of the categories\n",
        "num_cat = len(categories)\n",
        "categories_dict = {categories[i] : i for i in range(num_cat)}"
      ],
      "execution_count": 8,
      "outputs": []
    },
    {
      "metadata": {
        "id": "_086i_ixmHis",
        "colab_type": "code",
        "colab": {
          "base_uri": "https://localhost:8080/",
          "height": 34
        },
        "outputId": "9fd2fb37-f75a-424b-a7c1-278c637dda20"
      },
      "cell_type": "code",
      "source": [
        "print(categories_dict)"
      ],
      "execution_count": 4,
      "outputs": [
        {
          "output_type": "stream",
          "text": [
            "{'grass_flat': 0, 'grass_rough': 1, 'cubes': 2, 'black_rough': 3, 'flat': 4, 'black_flat': 5}\n"
          ],
          "name": "stdout"
        }
      ]
    },
    {
      "metadata": {
        "id": "gAXuechYyXpq",
        "colab_type": "text"
      },
      "cell_type": "markdown",
      "source": [
        "# Utils\n",
        "Helper functions."
      ]
    },
    {
      "metadata": {
        "id": "wJwNdX5UyT1a",
        "colab_type": "code",
        "colab": {
          "base_uri": "https://localhost:8080/",
          "height": 17
        },
        "outputId": "555c075c-d359-4d01-95e4-c9b4ba744fcd"
      },
      "cell_type": "code",
      "source": [
        "def to_one_hot(category):\n",
        "  assert category < num_cat\n",
        "  one_hot = np.zeros((num_cat))\n",
        "  one_hot[category] = 1\n",
        "  return one_hot"
      ],
      "execution_count": 3,
      "outputs": []
    },
    {
      "metadata": {
        "id": "TVWW1kVnMNxP",
        "colab_type": "code",
        "colab": {
          "base_uri": "https://localhost:8080/",
          "height": 17
        },
        "outputId": "eae09634-fdb4-4b7d-f230-f696d46306f7"
      },
      "cell_type": "code",
      "source": [
        "def from_one_hot(one_hot):\n",
        "  for i in range(len(one_hot)):\n",
        "    if one_hot[i]==1:\n",
        "      return i"
      ],
      "execution_count": 4,
      "outputs": []
    },
    {
      "metadata": {
        "id": "0bfZo4MevEmv",
        "colab_type": "text"
      },
      "cell_type": "markdown",
      "source": [
        "# Model\n",
        "Recurrent Neural Network model in Keras."
      ]
    },
    {
      "metadata": {
        "id": "HAbg2Knco78O",
        "colab_type": "code",
        "colab": {
          "base_uri": "https://localhost:8080/",
          "height": 17
        },
        "outputId": "8c5b6ccc-660f-42d0-efb0-b43f44c66efa"
      },
      "cell_type": "code",
      "source": [
        "def get_model1():\n",
        "  model = Sequential()\n",
        "  model.add(LSTM(32, return_sequences=False, input_shape=(max_length//skip,1)))\n",
        "  model.add(Dense(1))\n",
        "  model.add(Activation(\"sigmoid\"))\n",
        "  return model"
      ],
      "execution_count": 9,
      "outputs": []
    },
    {
      "metadata": {
        "id": "ETEc6ZwlugeT",
        "colab_type": "code",
        "colab": {
          "base_uri": "https://localhost:8080/",
          "height": 17
        },
        "outputId": "445097bc-084f-496d-bbf3-f89b92649449"
      },
      "cell_type": "code",
      "source": [
        "def get_model2():\n",
        "  model = Sequential()\n",
        "  model.add(LSTM(64, return_sequences=False, input_shape=(max_length//skip,1)))\n",
        "  model.add(Dense(1))\n",
        "  model.add(Activation(\"sigmoid\"))\n",
        "  return model"
      ],
      "execution_count": 10,
      "outputs": []
    },
    {
      "metadata": {
        "id": "TX8OhAfWuglM",
        "colab_type": "code",
        "colab": {
          "base_uri": "https://localhost:8080/",
          "height": 17
        },
        "outputId": "88a32028-fe99-450e-dd8f-3b6a28a0d43c"
      },
      "cell_type": "code",
      "source": [
        "def get_model3():\n",
        "  model = Sequential()\n",
        "  model.add(LSTM(32, return_sequences=True, input_shape=(max_length//skip,1)))\n",
        "  model.add(LSTM(32))\n",
        "  model.add(Dense(1))\n",
        "  model.add(Activation(\"sigmoid\"))\n",
        "  return model"
      ],
      "execution_count": 11,
      "outputs": []
    },
    {
      "metadata": {
        "id": "ZO6Ro7NEugv2",
        "colab_type": "code",
        "colab": {
          "base_uri": "https://localhost:8080/",
          "height": 17
        },
        "outputId": "9cbfe73e-e0b3-44ce-bcae-99c5bddd00c2"
      },
      "cell_type": "code",
      "source": [
        "def get_model4():\n",
        "  model = Sequential()\n",
        "  model.add(LSTM(64, return_sequences=True, input_shape=(max_length//skip,1)))\n",
        "  model.add(LSTM(64))\n",
        "  model.add(Dense(1))\n",
        "  model.add(Activation(\"sigmoid\"))\n",
        "  return model"
      ],
      "execution_count": 12,
      "outputs": []
    },
    {
      "metadata": {
        "id": "JGeRV_NguhES",
        "colab_type": "code",
        "colab": {
          "base_uri": "https://localhost:8080/",
          "height": 17
        },
        "outputId": "59c4b3f9-ce35-4e12-b548-2caae5a07fca"
      },
      "cell_type": "code",
      "source": [
        "def get_model5():\n",
        "  model = Sequential()\n",
        "  model.add(LSTM(32, return_sequences=True, input_shape=(max_length//skip,1)))\n",
        "  model.add(Dropout(0.4))\n",
        "  model.add(LSTM(32))\n",
        "  model.add(Dropout(0.4))\n",
        "  model.add(Dense(1))\n",
        "  model.add(Activation(\"sigmoid\"))\n",
        "  return model"
      ],
      "execution_count": 13,
      "outputs": []
    },
    {
      "metadata": {
        "id": "w_uNZHWduhJL",
        "colab_type": "code",
        "colab": {
          "base_uri": "https://localhost:8080/",
          "height": 17
        },
        "outputId": "0c69d777-7165-4974-d747-4bcb4d97146e"
      },
      "cell_type": "code",
      "source": [
        "def get_model6():\n",
        "  model = Sequential()\n",
        "  model.add(LSTM(64, return_sequences=True, input_shape=(max_length//skip,1)))\n",
        "  model.add(Dropout(0.4))\n",
        "  model.add(LSTM(64))\n",
        "  model.add(Dropout(0.4))\n",
        "  model.add(Dense(1))\n",
        "  model.add(Activation(\"sigmoid\"))\n",
        "  return model"
      ],
      "execution_count": 14,
      "outputs": []
    },
    {
      "metadata": {
        "id": "xzVxrl55U4dR",
        "colab_type": "text"
      },
      "cell_type": "markdown",
      "source": [
        "# Data\n",
        "Preprocess the data: combine all the examples together and introduce padding where necessary. Split the longest time series in the several smaller ones."
      ]
    },
    {
      "metadata": {
        "id": "p9cw30IWh8yK",
        "colab_type": "code",
        "colab": {
          "base_uri": "https://localhost:8080/",
          "height": 17
        },
        "outputId": "3c938ac0-5f54-40d1-eeda-19335066c74e"
      },
      "cell_type": "code",
      "source": [
        "# Make a list of dataframes along with their corresponding classes\n",
        "list_df = list()\n",
        "for pow_file in pow_files:\n",
        "  if pow_file[0].find('cubes')==0 or pow_file[0].find('flat')==0:\n",
        "    f = drive.CreateFile({'id': pow_file[1]})\n",
        "    content = f.GetContentString()\n",
        "    dataIO = StringIO(content)\n",
        "    df = pd.read_csv(dataIO, header=None, sep=' ')\n",
        "    list_df.append((df, to_one_hot(categories_dict[pow_file[2]])))"
      ],
      "execution_count": 15,
      "outputs": []
    },
    {
      "metadata": {
        "id": "Zu3byejeB032",
        "colab_type": "code",
        "colab": {}
      },
      "cell_type": "code",
      "source": [
        "# Make a list of dataframes along with their corresponding classes\n",
        "list_df = list()\n",
        "for pow_file in pow_files:\n",
        "  if pow_file[0].find('black_rough')==0 or pow_file[0].find('grass_rough')==0 \\\n",
        "     or pow_file[0].find('black_flat')==0 or pow_file[0].find('grass_flat')==0:\n",
        "    f = drive.CreateFile({'id': pow_file[1]})\n",
        "    content = f.GetContentString()\n",
        "    dataIO = StringIO(content)\n",
        "    df = pd.read_csv(dataIO, header=None, sep=' ')\n",
        "    list_df.append((df, to_one_hot(categories_dict[pow_file[2]])))"
      ],
      "execution_count": 0,
      "outputs": []
    },
    {
      "metadata": {
        "id": "0JxLBoY_i4li",
        "colab_type": "code",
        "colab": {
          "base_uri": "https://localhost:8080/",
          "height": 17
        },
        "outputId": "3187f56f-f5ae-4e12-a70f-a8190e740306"
      },
      "cell_type": "code",
      "source": [
        "# Split the biggest examples into separate sequences\n",
        "max_length = 100\n",
        "long_dfs = [i for i in range(len(list_df)) if list_df[i][0].shape[0] > max_length]\n",
        "list_df_cut = list(list_df)\n",
        "max_examples = 150\n",
        "examples_categories = {0: 0, 1: 0, 2: 0, 3: 0, 4: 0, 5: 0}\n",
        "for i in reversed(long_dfs):\n",
        "  df = list_df_cut[i][0]\n",
        "  category = from_one_hot(list_df_cut[i][1])\n",
        "  for g, split_df in df.groupby(np.arange(len(df)) // max_length):\n",
        "    if examples_categories[category] < max_examples:\n",
        "      list_df_cut.append((split_df, list_df[i][1]))\n",
        "      examples_categories[category] += 1\n",
        "  del list_df_cut[i]"
      ],
      "execution_count": 16,
      "outputs": []
    },
    {
      "metadata": {
        "id": "bYxHpRWoJ7eU",
        "colab_type": "code",
        "colab": {
          "base_uri": "https://localhost:8080/",
          "height": 51
        },
        "outputId": "47db97e1-629f-497d-8eb9-e2eeb80ddb37"
      },
      "cell_type": "code",
      "source": [
        "print(examples_categories)\n",
        "print(categories_dict)"
      ],
      "execution_count": 17,
      "outputs": [
        {
          "output_type": "stream",
          "text": [
            "{0: 0, 1: 144, 2: 0, 3: 0, 4: 150, 5: 0}\n",
            "{'grass_flat': 0, 'flat': 1, 'black_flat': 2, 'black_rough': 3, 'cubes': 4, 'grass_rough': 5}\n"
          ],
          "name": "stdout"
        }
      ]
    },
    {
      "metadata": {
        "id": "y1T3HWkIm1lw",
        "colab_type": "code",
        "colab": {
          "base_uri": "https://localhost:8080/",
          "height": 17
        },
        "outputId": "35dcc918-5cbc-4c91-ae42-e222ca0f0571"
      },
      "cell_type": "code",
      "source": [
        "# Get only the measurements for current\n",
        "currents_list = [(np.transpose(np.array(df_cut[0][[2]])), df_cut[1]) for df_cut in list_df_cut]\n",
        "currents_long = [(np.transpose(currents[0]), currents[1]) for currents in currents_list if currents[0].shape[1]>=max_length]\n",
        "currents_no_labels = [currents[0] for currents in currents_long]"
      ],
      "execution_count": 18,
      "outputs": []
    },
    {
      "metadata": {
        "id": "l1tC1WDSjQw8",
        "colab_type": "code",
        "colab": {
          "base_uri": "https://localhost:8080/",
          "height": 364
        },
        "outputId": "81d9b23c-14d9-4d4d-e4ca-2800f2e9ae15"
      },
      "cell_type": "code",
      "source": [
        "plt.plot(currents_no_labels[0])"
      ],
      "execution_count": 19,
      "outputs": [
        {
          "output_type": "execute_result",
          "data": {
            "text/plain": [
              "[<matplotlib.lines.Line2D at 0x7fbe5676af28>]"
            ]
          },
          "metadata": {
            "tags": []
          },
          "execution_count": 19
        },
        {
          "output_type": "display_data",
          "data": {
            "image/png": "[encoded data removed]",
            "text/plain": [
              "<matplotlib.figure.Figure at 0x7fbe566fe8d0>"
            ]
          },
          "metadata": {
            "tags": []
          }
        }
      ]
    },
    {
      "metadata": {
        "id": "fDc3SUp6BPE8",
        "colab_type": "code",
        "colab": {
          "base_uri": "https://localhost:8080/",
          "height": 17
        },
        "outputId": "5382cc6b-606b-488c-db4b-a9742e232179"
      },
      "cell_type": "code",
      "source": [
        "# Skip some timesteps\n",
        "skip = 1\n",
        "currents_skip = list()\n",
        "for currents in currents_no_labels:\n",
        "  currents_skip.append(list())\n",
        "  i = 0\n",
        "  while True:\n",
        "    currents_skip[-1].append(currents[i])\n",
        "    i += skip\n",
        "    if i >= len(currents):\n",
        "      break"
      ],
      "execution_count": 20,
      "outputs": []
    },
    {
      "metadata": {
        "id": "b2pEzVQUESSD",
        "colab_type": "code",
        "colab": {
          "base_uri": "https://localhost:8080/",
          "height": 17
        },
        "outputId": "ae81193f-896b-4cec-b331-7d09a447a01f"
      },
      "cell_type": "code",
      "source": [
        "# Get training data into a numpy matrix\n",
        "full_x = np.stack(currents_skip, axis=0)\n",
        "# Get training labels\n",
        "full_y = np.array([currents[1] for currents in currents_long])"
      ],
      "execution_count": 21,
      "outputs": []
    },
    {
      "metadata": {
        "id": "z9wkogVMkNAC",
        "colab_type": "code",
        "colab": {
          "base_uri": "https://localhost:8080/",
          "height": 17
        },
        "outputId": "f14eeda9-371e-4371-a879-628b614bf372"
      },
      "cell_type": "code",
      "source": [
        "def unison_shuffled_copies(a, b):\n",
        "    assert len(a) == len(b)\n",
        "    p = np.random.permutation(len(a))\n",
        "    return a[p], b[p]"
      ],
      "execution_count": 22,
      "outputs": []
    },
    {
      "metadata": {
        "id": "LtScJnfC9ZSc",
        "colab_type": "code",
        "colab": {
          "base_uri": "https://localhost:8080/",
          "height": 17
        },
        "outputId": "9fe8e17c-e28a-485a-8180-c8f0f6521dff"
      },
      "cell_type": "code",
      "source": [
        "#full_x_norm = utils.normalize(full_x, axis=0, order=2)\n",
        "x_shuffled, y_shuffled = unison_shuffled_copies(full_x, full_y)"
      ],
      "execution_count": 23,
      "outputs": []
    },
    {
      "metadata": {
        "id": "RmBb4NRqkoXq",
        "colab_type": "code",
        "colab": {
          "base_uri": "https://localhost:8080/",
          "height": 17
        },
        "outputId": "4d24281d-3081-4aa8-bb84-cb62ca5735c2"
      },
      "cell_type": "code",
      "source": [
        "full_y_labels = [from_one_hot(one_hot) for one_hot in y_shuffled]\n",
        "full_y_binary = [0 if label==categories_dict['cubes'] else 1 for label in full_y_labels]\n",
        "\n",
        "#full_y_binary = [0 if label==categories_dict['black_flat'] or label==categories_dict['black_rough'] else 1 for label in full_y_labels]"
      ],
      "execution_count": 24,
      "outputs": []
    },
    {
      "metadata": {
        "id": "fMtv_wL5k7aw",
        "colab_type": "code",
        "colab": {
          "base_uri": "https://localhost:8080/",
          "height": 74
        },
        "outputId": "00ace8a2-7941-477b-efdb-1b7c31f160ce"
      },
      "cell_type": "code",
      "source": [
        "print(full_y_binary)"
      ],
      "execution_count": 25,
      "outputs": [
        {
          "output_type": "stream",
          "text": [
            "[0, 1, 1, 0, 1, 1, 0, 0, 0, 0, 0, 0, 0, 0, 0, 1, 0, 1, 0, 1, 1, 1, 0, 0, 1, 0, 0, 0, 0, 1, 0, 1, 1, 1, 0, 1, 0, 1, 1, 1, 0, 1, 0, 1, 0, 1, 0, 1, 0, 0, 1, 1, 1, 1, 1, 0, 0, 1, 1, 1, 0, 1, 0, 1, 1, 0, 1, 0, 0, 0, 0, 0, 1, 0, 1, 0, 1, 0, 1, 0, 1, 1, 0, 0, 1, 1, 0, 1, 0, 1, 0, 1, 0, 0, 1, 1, 0, 1, 0, 0, 1, 0, 0, 1, 0, 1, 0, 1, 1, 0, 0, 1, 1, 0, 1, 0, 1, 1, 0, 0, 1, 0, 0, 0, 0, 1, 1, 0, 1, 0, 0, 0, 0, 0, 1, 0, 1, 1, 0, 0, 1, 0, 1, 0, 0, 0, 1, 1, 1, 0, 1, 1, 0, 0, 0, 0, 0, 1, 0, 0, 0, 0, 0, 1, 0, 1, 1, 1, 1, 0, 0, 1, 1, 1, 0, 1, 0, 0, 1, 0, 0, 0, 1, 0, 1, 0, 0, 1, 0, 1, 1, 0, 1, 1, 0, 0, 1, 1, 0, 0, 0, 1, 1, 1, 0, 0, 0, 0, 0, 1, 0, 1, 1, 0, 0, 1, 1, 1, 1, 1, 1, 1, 0, 0, 1, 1, 0, 1, 0, 1, 1, 0, 1, 1, 1, 1, 0, 1, 1, 0, 0, 1, 1, 0, 0, 1, 0, 1, 1, 1, 0, 1, 0, 1, 0, 1, 1, 0, 1, 0, 0, 1, 1, 0, 0, 0, 0, 1, 1, 0, 0, 0, 1, 0, 0, 0, 1, 1, 0, 0, 0, 1, 1, 0, 1, 1, 1, 0, 1, 0, 1]\n"
          ],
          "name": "stdout"
        }
      ]
    },
    {
      "metadata": {
        "id": "fin_NKQqvZNc",
        "colab_type": "code",
        "colab": {
          "base_uri": "https://localhost:8080/",
          "height": 364
        },
        "outputId": "6bf1006f-81ac-4de0-ee2f-36674b997432"
      },
      "cell_type": "code",
      "source": [
        "# Training set\n",
        "train_x = x_shuffled[50:]\n",
        "train_y = full_y_binary[50:]\n",
        "# Test set\n",
        "test_x = x_shuffled[:50]\n",
        "test_y = full_y_binary[:50]\n",
        "\n",
        "plt.plot(x_shuffled[1])\n",
        "print(full_y[1])"
      ],
      "execution_count": 26,
      "outputs": [
        {
          "output_type": "stream",
          "text": [
            "[0. 1. 0. 0. 0. 0.]\n"
          ],
          "name": "stdout"
        },
        {
          "output_type": "display_data",
          "data": {
            "image/png": "[encoded data removed]",
            "text/plain": [
              "<matplotlib.figure.Figure at 0x7fbe565d63c8>"
            ]
          },
          "metadata": {
            "tags": []
          }
        }
      ]
    },
    {
      "metadata": {
        "id": "K9kyzpWhMrSc",
        "colab_type": "text"
      },
      "cell_type": "markdown",
      "source": [
        "# Experiment"
      ]
    },
    {
      "metadata": {
        "id": "18uzH69xywMu",
        "colab_type": "code",
        "colab": {
          "base_uri": "https://localhost:8080/",
          "height": 340
        },
        "outputId": "56d39ef5-8688-4a21-83eb-acce6e5b086f"
      },
      "cell_type": "code",
      "source": [
        "model = get_model6()\n",
        "model.summary()"
      ],
      "execution_count": 75,
      "outputs": [
        {
          "output_type": "stream",
          "text": [
            "_________________________________________________________________\n",
            "Layer (type)                 Output Shape              Param #   \n",
            "=================================================================\n",
            "lstm_10 (LSTM)               (None, 100, 64)           16896     \n",
            "_________________________________________________________________\n",
            "dropout_3 (Dropout)          (None, 100, 64)           0         \n",
            "_________________________________________________________________\n",
            "lstm_11 (LSTM)               (None, 64)                33024     \n",
            "_________________________________________________________________\n",
            "dropout_4 (Dropout)          (None, 64)                0         \n",
            "_________________________________________________________________\n",
            "dense_7 (Dense)              (None, 1)                 65        \n",
            "_________________________________________________________________\n",
            "activation_7 (Activation)    (None, 1)                 0         \n",
            "=================================================================\n",
            "Total params: 49,985\n",
            "Trainable params: 49,985\n",
            "Non-trainable params: 0\n",
            "_________________________________________________________________\n"
          ],
          "name": "stdout"
        }
      ]
    },
    {
      "metadata": {
        "id": "TKD8VQKCGjZl",
        "colab_type": "code",
        "colab": {
          "base_uri": "https://localhost:8080/",
          "height": 17
        },
        "outputId": "ef8201ec-fcf5-4a49-d08e-9eff5eea45a4"
      },
      "cell_type": "code",
      "source": [
        "adam = optimizers.Adam(lr=0.001, beta_1=0.9, beta_2=0.999, epsilon=None, decay=0.0, amsgrad=False)\n",
        "rmsprop = optimizers.RMSprop(lr=0.001, rho=0.9, epsilon=None, decay=0.0)"
      ],
      "execution_count": 76,
      "outputs": []
    },
    {
      "metadata": {
        "id": "15eOf5H9MH79",
        "colab_type": "code",
        "colab": {
          "base_uri": "https://localhost:8080/",
          "height": 17
        },
        "outputId": "9d376874-92d8-4afd-c643-5e915eaab8a4"
      },
      "cell_type": "code",
      "source": [
        "def exp_decay(epoch):\n",
        "    initial_lrate = 0.01\n",
        "    k = 0.1\n",
        "    lrate = initial_lrate * exp(-k*epoch)\n",
        "    return lrate\n",
        "lrate = LearningRateScheduler(exp_decay)\n",
        "callbacks_list = [lrate]"
      ],
      "execution_count": 77,
      "outputs": []
    },
    {
      "metadata": {
        "id": "XqQqwuwKuDzs",
        "colab_type": "code",
        "colab": {
          "base_uri": "https://localhost:8080/",
          "height": 17
        },
        "outputId": "884f4c90-f6ed-44a1-be0e-e93925512ef3"
      },
      "cell_type": "code",
      "source": [
        "model.compile(loss='binary_crossentropy', optimizer=rmsprop, metrics=['accuracy'])"
      ],
      "execution_count": 78,
      "outputs": []
    },
    {
      "metadata": {
        "id": "cKnrvOYa8h8G",
        "colab_type": "code",
        "colab": {
          "base_uri": "https://localhost:8080/",
          "height": 26400
        },
        "outputId": "103937a2-737c-4947-f201-28cc4638182e"
      },
      "cell_type": "code",
      "source": [
        "history = model.fit(train_x, train_y, epochs=500, batch_size=16, shuffle=True)"
      ],
      "execution_count": 0,
      "outputs": [
        {
          "output_type": "stream",
          "text": [
            "Epoch 1/500\n",
            "241/241 [==============================] - 5s 20ms/step - loss: 0.6942 - acc: 0.4979\n",
            "Epoch 2/500\n",
            "241/241 [==============================] - 3s 11ms/step - loss: 0.6924 - acc: 0.5270\n",
            "Epoch 3/500\n",
            "241/241 [==============================] - 3s 11ms/step - loss: 0.6891 - acc: 0.4689\n",
            "Epoch 4/500\n",
            "241/241 [==============================] - 3s 11ms/step - loss: 0.6804 - acc: 0.5270\n",
            "Epoch 5/500\n",
            "241/241 [==============================] - 3s 11ms/step - loss: 0.6821 - acc: 0.5726\n",
            "Epoch 6/500\n",
            "241/241 [==============================] - 3s 11ms/step - loss: 0.6738 - acc: 0.5643\n",
            "Epoch 7/500\n",
            "241/241 [==============================] - 3s 11ms/step - loss: 0.7209 - acc: 0.6100\n",
            "Epoch 8/500\n",
            "241/241 [==============================] - 3s 11ms/step - loss: 0.6319 - acc: 0.6307\n",
            "Epoch 9/500\n",
            "241/241 [==============================] - 3s 11ms/step - loss: 0.6176 - acc: 0.6100\n",
            "Epoch 10/500\n",
            "241/241 [==============================] - 3s 11ms/step - loss: 0.6245 - acc: 0.6432\n",
            "Epoch 11/500\n",
            "144/241 [================>.............] - ETA: 1s - loss: 0.6216 - acc: 0.6181"
          ],
          "name": "stdout"
        },
        {
          "output_type": "stream",
          "text": [
            "241/241 [==============================] - 3s 11ms/step - loss: 0.6181 - acc: 0.6141\n",
            "Epoch 12/500\n",
            "241/241 [==============================] - 3s 11ms/step - loss: 0.6087 - acc: 0.6473\n",
            "Epoch 13/500\n",
            "241/241 [==============================] - 3s 11ms/step - loss: 0.6149 - acc: 0.6349\n",
            "Epoch 14/500\n",
            "241/241 [==============================] - 3s 11ms/step - loss: 0.6092 - acc: 0.6805\n",
            "Epoch 15/500\n",
            "241/241 [==============================] - 3s 11ms/step - loss: 0.6430 - acc: 0.6556\n",
            "Epoch 16/500\n",
            "241/241 [==============================] - 3s 11ms/step - loss: 0.5971 - acc: 0.6432\n",
            "Epoch 17/500\n",
            "241/241 [==============================] - 3s 11ms/step - loss: 0.6199 - acc: 0.6805\n",
            "Epoch 18/500\n",
            "241/241 [==============================] - 3s 11ms/step - loss: 0.5997 - acc: 0.6639\n",
            "Epoch 19/500\n",
            "241/241 [==============================] - 3s 11ms/step - loss: 0.6035 - acc: 0.6515\n",
            "Epoch 20/500\n",
            "241/241 [==============================] - 3s 11ms/step - loss: 0.5595 - acc: 0.6680\n",
            "Epoch 21/500\n",
            "176/241 [====================>.........] - ETA: 0s - loss: 0.9089 - acc: 0.5852"
          ],
          "name": "stdout"
        },
        {
          "output_type": "stream",
          "text": [
            "241/241 [==============================] - 3s 11ms/step - loss: 0.8256 - acc: 0.5851\n",
            "Epoch 22/500\n",
            "241/241 [==============================] - 3s 11ms/step - loss: 0.6172 - acc: 0.5851\n",
            "Epoch 23/500\n",
            "241/241 [==============================] - 3s 11ms/step - loss: 0.6264 - acc: 0.5934\n",
            "Epoch 24/500\n",
            "241/241 [==============================] - 3s 11ms/step - loss: 0.6112 - acc: 0.6224\n",
            "Epoch 25/500\n",
            "241/241 [==============================] - 3s 11ms/step - loss: 0.6093 - acc: 0.6390\n",
            "Epoch 26/500\n",
            "241/241 [==============================] - 3s 11ms/step - loss: 0.5981 - acc: 0.6598\n",
            "Epoch 27/500\n",
            "241/241 [==============================] - 3s 11ms/step - loss: 0.5926 - acc: 0.6639\n",
            "Epoch 28/500\n",
            "241/241 [==============================] - 3s 11ms/step - loss: 0.5898 - acc: 0.7095\n",
            "Epoch 29/500\n",
            "241/241 [==============================] - 3s 11ms/step - loss: 0.5609 - acc: 0.7344\n",
            "Epoch 30/500\n",
            "241/241 [==============================] - 3s 11ms/step - loss: 0.5682 - acc: 0.7095\n",
            "Epoch 31/500\n",
            "176/241 [====================>.........] - ETA: 0s - loss: 0.5762 - acc: 0.6648"
          ],
          "name": "stdout"
        },
        {
          "output_type": "stream",
          "text": [
            "241/241 [==============================] - 3s 11ms/step - loss: 0.5940 - acc: 0.6515\n",
            "Epoch 32/500\n",
            "241/241 [==============================] - 3s 11ms/step - loss: 0.5933 - acc: 0.6680\n",
            "Epoch 33/500\n",
            "241/241 [==============================] - 3s 11ms/step - loss: 0.5833 - acc: 0.6598\n",
            "Epoch 34/500\n",
            "241/241 [==============================] - 3s 11ms/step - loss: 0.5744 - acc: 0.6929\n",
            "Epoch 35/500\n",
            "241/241 [==============================] - 3s 11ms/step - loss: 0.5468 - acc: 0.6805\n",
            "Epoch 36/500\n",
            "241/241 [==============================] - 3s 11ms/step - loss: 0.5485 - acc: 0.7137\n",
            "Epoch 37/500\n",
            "241/241 [==============================] - 3s 11ms/step - loss: 0.5371 - acc: 0.7427\n",
            "Epoch 38/500\n",
            "241/241 [==============================] - 3s 11ms/step - loss: 0.5533 - acc: 0.6846\n",
            "Epoch 39/500\n",
            "241/241 [==============================] - 3s 11ms/step - loss: 0.5472 - acc: 0.7137\n",
            "Epoch 40/500\n",
            "241/241 [==============================] - 3s 11ms/step - loss: 0.5194 - acc: 0.7386\n",
            "Epoch 41/500\n",
            "176/241 [====================>.........] - ETA: 0s - loss: 0.5037 - acc: 0.7557"
          ],
          "name": "stdout"
        },
        {
          "output_type": "stream",
          "text": [
            "241/241 [==============================] - 3s 11ms/step - loss: 0.5185 - acc: 0.7427\n",
            "Epoch 42/500\n",
            "241/241 [==============================] - 3s 11ms/step - loss: 0.5249 - acc: 0.7054\n",
            "Epoch 43/500\n",
            "241/241 [==============================] - 3s 11ms/step - loss: 0.5194 - acc: 0.6888\n",
            "Epoch 44/500\n",
            "241/241 [==============================] - 3s 11ms/step - loss: 0.5223 - acc: 0.7178\n",
            "Epoch 45/500\n",
            "241/241 [==============================] - 3s 11ms/step - loss: 0.5476 - acc: 0.6971\n",
            "Epoch 46/500\n",
            "241/241 [==============================] - 3s 11ms/step - loss: 0.4994 - acc: 0.7303\n",
            "Epoch 47/500\n",
            "241/241 [==============================] - 3s 11ms/step - loss: 0.5470 - acc: 0.6888\n",
            "Epoch 48/500\n",
            "241/241 [==============================] - 3s 11ms/step - loss: 0.5051 - acc: 0.7386\n",
            "Epoch 49/500\n",
            "241/241 [==============================] - 3s 11ms/step - loss: 0.5013 - acc: 0.7427\n",
            "Epoch 50/500\n",
            "241/241 [==============================] - 3s 11ms/step - loss: 0.5210 - acc: 0.7427\n",
            "Epoch 51/500\n",
            "176/241 [====================>.........] - ETA: 0s - loss: 0.5298 - acc: 0.7500"
          ],
          "name": "stdout"
        },
        {
          "output_type": "stream",
          "text": [
            "241/241 [==============================] - 3s 11ms/step - loss: 0.5386 - acc: 0.7344\n",
            "Epoch 52/500\n",
            "241/241 [==============================] - 3s 11ms/step - loss: 0.4953 - acc: 0.7718\n",
            "Epoch 53/500\n",
            "241/241 [==============================] - 3s 11ms/step - loss: 0.5169 - acc: 0.7095\n",
            "Epoch 54/500\n",
            "241/241 [==============================] - 3s 11ms/step - loss: 0.5497 - acc: 0.6846\n",
            "Epoch 55/500\n",
            "241/241 [==============================] - 3s 11ms/step - loss: 0.4953 - acc: 0.7635\n",
            "Epoch 56/500\n",
            "241/241 [==============================] - 3s 11ms/step - loss: 0.5327 - acc: 0.7552\n",
            "Epoch 57/500\n",
            "241/241 [==============================] - 3s 11ms/step - loss: 0.5105 - acc: 0.7344\n",
            "Epoch 58/500\n",
            "241/241 [==============================] - 3s 11ms/step - loss: 0.5085 - acc: 0.7178\n",
            "Epoch 59/500\n",
            "241/241 [==============================] - 3s 11ms/step - loss: 0.5147 - acc: 0.7510\n",
            "Epoch 60/500\n",
            "241/241 [==============================] - 3s 11ms/step - loss: 0.6822 - acc: 0.6971\n",
            "Epoch 61/500\n",
            "176/241 [====================>.........] - ETA: 0s - loss: 0.5407 - acc: 0.7045"
          ],
          "name": "stdout"
        },
        {
          "output_type": "stream",
          "text": [
            "241/241 [==============================] - 3s 11ms/step - loss: 0.5052 - acc: 0.7220\n",
            "Epoch 62/500\n",
            "241/241 [==============================] - 3s 11ms/step - loss: 0.5653 - acc: 0.7137\n",
            "Epoch 63/500\n",
            "241/241 [==============================] - 3s 11ms/step - loss: 0.5522 - acc: 0.7178\n",
            "Epoch 64/500\n",
            "241/241 [==============================] - 3s 11ms/step - loss: 0.5072 - acc: 0.7344\n",
            "Epoch 65/500\n",
            "241/241 [==============================] - 3s 11ms/step - loss: 0.4772 - acc: 0.7635\n",
            "Epoch 66/500\n",
            "241/241 [==============================] - 3s 11ms/step - loss: 0.5376 - acc: 0.7427\n",
            "Epoch 67/500\n",
            "241/241 [==============================] - 3s 11ms/step - loss: 0.4994 - acc: 0.7510\n",
            "Epoch 68/500\n",
            "241/241 [==============================] - 3s 11ms/step - loss: 0.5001 - acc: 0.7552\n",
            "Epoch 69/500\n",
            "241/241 [==============================] - 3s 11ms/step - loss: 0.4994 - acc: 0.7552\n",
            "Epoch 70/500\n",
            "241/241 [==============================] - 3s 11ms/step - loss: 0.5153 - acc: 0.7303\n",
            "Epoch 71/500\n",
            "176/241 [====================>.........] - ETA: 0s - loss: 0.4935 - acc: 0.7614"
          ],
          "name": "stdout"
        },
        {
          "output_type": "stream",
          "text": [
            "241/241 [==============================] - 3s 11ms/step - loss: 0.4831 - acc: 0.7718\n",
            "Epoch 72/500\n",
            "241/241 [==============================] - 3s 11ms/step - loss: 0.5242 - acc: 0.7261\n",
            "Epoch 73/500\n",
            "241/241 [==============================] - 3s 11ms/step - loss: 0.4878 - acc: 0.7303\n",
            "Epoch 74/500\n",
            "241/241 [==============================] - 3s 11ms/step - loss: 0.5094 - acc: 0.7303\n",
            "Epoch 75/500\n",
            "241/241 [==============================] - 3s 11ms/step - loss: 0.5079 - acc: 0.7427\n",
            "Epoch 76/500\n",
            "241/241 [==============================] - 3s 11ms/step - loss: 0.4787 - acc: 0.7593\n",
            "Epoch 77/500\n",
            "241/241 [==============================] - 3s 11ms/step - loss: 0.8720 - acc: 0.6805\n",
            "Epoch 78/500\n",
            "241/241 [==============================] - 3s 11ms/step - loss: 0.8253 - acc: 0.6515\n",
            "Epoch 79/500\n",
            "241/241 [==============================] - 3s 11ms/step - loss: 0.5707 - acc: 0.6846\n",
            "Epoch 80/500\n",
            "241/241 [==============================] - 3s 11ms/step - loss: 0.5333 - acc: 0.7469\n",
            "Epoch 81/500\n",
            "176/241 [====================>.........] - ETA: 0s - loss: 0.4924 - acc: 0.7386"
          ],
          "name": "stdout"
        },
        {
          "output_type": "stream",
          "text": [
            "241/241 [==============================] - 3s 11ms/step - loss: 0.5125 - acc: 0.7344\n",
            "Epoch 82/500\n",
            "241/241 [==============================] - 3s 11ms/step - loss: 0.4976 - acc: 0.7510\n",
            "Epoch 83/500\n",
            "241/241 [==============================] - 3s 11ms/step - loss: 0.5616 - acc: 0.6929\n",
            "Epoch 84/500\n",
            "241/241 [==============================] - 3s 11ms/step - loss: 0.5073 - acc: 0.7220\n",
            "Epoch 85/500\n",
            "241/241 [==============================] - 3s 11ms/step - loss: 0.4793 - acc: 0.7469\n",
            "Epoch 86/500\n",
            "241/241 [==============================] - 3s 11ms/step - loss: 0.4843 - acc: 0.7386\n",
            "Epoch 87/500\n",
            "241/241 [==============================] - 3s 11ms/step - loss: 0.4916 - acc: 0.7386\n",
            "Epoch 88/500\n",
            "241/241 [==============================] - 3s 11ms/step - loss: 0.5458 - acc: 0.7303\n",
            "Epoch 89/500\n",
            "241/241 [==============================] - 3s 11ms/step - loss: 0.4642 - acc: 0.7884\n",
            "Epoch 90/500\n",
            "241/241 [==============================] - 3s 11ms/step - loss: 0.5147 - acc: 0.7386\n",
            "Epoch 91/500\n",
            "176/241 [====================>.........] - ETA: 0s - loss: 0.5361 - acc: 0.7443"
          ],
          "name": "stdout"
        },
        {
          "output_type": "stream",
          "text": [
            "241/241 [==============================] - 3s 11ms/step - loss: 0.5335 - acc: 0.7510\n",
            "Epoch 92/500\n",
            "241/241 [==============================] - 3s 11ms/step - loss: 0.5121 - acc: 0.7386\n",
            "Epoch 93/500\n",
            "241/241 [==============================] - 3s 11ms/step - loss: 0.4764 - acc: 0.7635\n",
            "Epoch 94/500\n",
            "241/241 [==============================] - 3s 11ms/step - loss: 0.4763 - acc: 0.7718\n",
            "Epoch 95/500\n",
            "241/241 [==============================] - 3s 11ms/step - loss: 0.4915 - acc: 0.7593\n",
            "Epoch 96/500\n",
            "241/241 [==============================] - 3s 11ms/step - loss: 0.4693 - acc: 0.7842\n",
            "Epoch 97/500\n",
            "241/241 [==============================] - 3s 11ms/step - loss: 0.5652 - acc: 0.6888\n",
            "Epoch 98/500\n",
            "241/241 [==============================] - 3s 11ms/step - loss: 0.4800 - acc: 0.7510\n",
            "Epoch 99/500\n",
            "241/241 [==============================] - 3s 11ms/step - loss: 0.4990 - acc: 0.7469\n",
            "Epoch 100/500\n",
            "241/241 [==============================] - 3s 11ms/step - loss: 0.4763 - acc: 0.7635\n",
            "Epoch 101/500\n",
            "176/241 [====================>.........] - ETA: 0s - loss: 0.4724 - acc: 0.7727"
          ],
          "name": "stdout"
        },
        {
          "output_type": "stream",
          "text": [
            "241/241 [==============================] - 3s 11ms/step - loss: 0.4866 - acc: 0.7676\n",
            "Epoch 102/500\n",
            "241/241 [==============================] - 3s 11ms/step - loss: 0.4537 - acc: 0.7759\n",
            "Epoch 103/500\n",
            "241/241 [==============================] - 3s 11ms/step - loss: 0.4730 - acc: 0.7884\n",
            "Epoch 104/500\n",
            "241/241 [==============================] - 3s 11ms/step - loss: 0.5582 - acc: 0.7427\n",
            "Epoch 105/500\n",
            "241/241 [==============================] - 3s 11ms/step - loss: 0.4870 - acc: 0.7676\n",
            "Epoch 106/500\n",
            "241/241 [==============================] - 3s 11ms/step - loss: 0.5114 - acc: 0.7469\n",
            "Epoch 107/500\n",
            "241/241 [==============================] - 3s 11ms/step - loss: 0.4701 - acc: 0.7801\n",
            "Epoch 108/500\n",
            "241/241 [==============================] - 3s 11ms/step - loss: 0.5036 - acc: 0.7427\n",
            "Epoch 109/500\n",
            "241/241 [==============================] - 3s 11ms/step - loss: 0.4818 - acc: 0.7676\n",
            "Epoch 110/500\n",
            "241/241 [==============================] - 3s 11ms/step - loss: 0.4788 - acc: 0.7552\n",
            "Epoch 111/500\n",
            "160/241 [==================>...........] - ETA: 0s - loss: 0.5443 - acc: 0.7688"
          ],
          "name": "stdout"
        },
        {
          "output_type": "stream",
          "text": [
            "241/241 [==============================] - 3s 11ms/step - loss: 0.5205 - acc: 0.7718\n",
            "Epoch 112/500\n",
            "241/241 [==============================] - 3s 11ms/step - loss: 0.4715 - acc: 0.7552\n",
            "Epoch 113/500\n",
            "241/241 [==============================] - 3s 11ms/step - loss: 0.4783 - acc: 0.7593\n",
            "Epoch 114/500\n",
            "241/241 [==============================] - 3s 11ms/step - loss: 0.4859 - acc: 0.7552\n",
            "Epoch 115/500\n",
            "241/241 [==============================] - 3s 11ms/step - loss: 0.5111 - acc: 0.7593\n",
            "Epoch 116/500\n",
            "241/241 [==============================] - 3s 11ms/step - loss: 0.4748 - acc: 0.7552\n",
            "Epoch 117/500\n",
            "241/241 [==============================] - 3s 11ms/step - loss: 0.4434 - acc: 0.8008\n",
            "Epoch 118/500\n",
            "241/241 [==============================] - 3s 11ms/step - loss: 0.5212 - acc: 0.7635\n",
            "Epoch 119/500\n",
            "241/241 [==============================] - 3s 11ms/step - loss: 0.4892 - acc: 0.7427\n",
            "Epoch 120/500\n",
            "241/241 [==============================] - 3s 11ms/step - loss: 0.4845 - acc: 0.7676\n",
            "Epoch 121/500\n",
            "160/241 [==================>...........] - ETA: 0s - loss: 0.5208 - acc: 0.7250"
          ],
          "name": "stdout"
        },
        {
          "output_type": "stream",
          "text": [
            "241/241 [==============================] - 3s 11ms/step - loss: 0.5619 - acc: 0.6722\n",
            "Epoch 122/500\n",
            "241/241 [==============================] - 3s 11ms/step - loss: 0.5185 - acc: 0.7427\n",
            "Epoch 123/500\n",
            "241/241 [==============================] - 3s 11ms/step - loss: 0.4804 - acc: 0.7884\n",
            "Epoch 124/500\n",
            "241/241 [==============================] - 3s 11ms/step - loss: 0.5778 - acc: 0.7261\n",
            "Epoch 125/500\n",
            "241/241 [==============================] - 3s 11ms/step - loss: 0.4462 - acc: 0.7925\n",
            "Epoch 126/500\n",
            "241/241 [==============================] - 3s 11ms/step - loss: 0.5173 - acc: 0.7261\n",
            "Epoch 127/500\n",
            "241/241 [==============================] - 3s 11ms/step - loss: 0.4782 - acc: 0.7593\n",
            "Epoch 128/500\n",
            "241/241 [==============================] - 3s 11ms/step - loss: 0.4576 - acc: 0.7552\n",
            "Epoch 129/500\n",
            "241/241 [==============================] - 3s 11ms/step - loss: 0.5085 - acc: 0.7718\n",
            "Epoch 130/500\n",
            "241/241 [==============================] - 3s 11ms/step - loss: 0.4524 - acc: 0.7676\n",
            "Epoch 131/500\n",
            "160/241 [==================>...........] - ETA: 0s - loss: 0.4158 - acc: 0.8000"
          ],
          "name": "stdout"
        },
        {
          "output_type": "stream",
          "text": [
            "241/241 [==============================] - 3s 11ms/step - loss: 0.4566 - acc: 0.7967\n",
            "Epoch 132/500\n",
            "241/241 [==============================] - 3s 11ms/step - loss: 0.4285 - acc: 0.7759\n",
            "Epoch 133/500\n",
            "241/241 [==============================] - 3s 11ms/step - loss: 0.4853 - acc: 0.7759\n",
            "Epoch 134/500\n",
            "241/241 [==============================] - 3s 11ms/step - loss: 0.5307 - acc: 0.6971\n",
            "Epoch 135/500\n",
            "241/241 [==============================] - 3s 11ms/step - loss: 0.4142 - acc: 0.8050\n",
            "Epoch 136/500\n",
            "241/241 [==============================] - 3s 11ms/step - loss: 0.4515 - acc: 0.7967\n",
            "Epoch 137/500\n",
            "241/241 [==============================] - 3s 11ms/step - loss: 0.5079 - acc: 0.7303\n",
            "Epoch 138/500\n",
            "241/241 [==============================] - 3s 11ms/step - loss: 0.4781 - acc: 0.7718\n",
            "Epoch 139/500\n",
            "241/241 [==============================] - 3s 11ms/step - loss: 0.4821 - acc: 0.7801\n",
            "Epoch 140/500\n",
            "241/241 [==============================] - 3s 11ms/step - loss: 0.4001 - acc: 0.8257\n",
            "Epoch 141/500\n",
            "160/241 [==================>...........] - ETA: 0s - loss: 0.4374 - acc: 0.7812"
          ],
          "name": "stdout"
        },
        {
          "output_type": "stream",
          "text": [
            "241/241 [==============================] - 3s 11ms/step - loss: 0.4806 - acc: 0.7469\n",
            "Epoch 142/500\n",
            "241/241 [==============================] - 3s 11ms/step - loss: 0.4804 - acc: 0.7676\n",
            "Epoch 143/500\n",
            "241/241 [==============================] - 3s 11ms/step - loss: 0.4554 - acc: 0.7884\n",
            "Epoch 144/500\n",
            "241/241 [==============================] - 3s 11ms/step - loss: 0.4804 - acc: 0.7344\n",
            "Epoch 145/500\n",
            "241/241 [==============================] - 3s 11ms/step - loss: 0.4174 - acc: 0.7842\n",
            "Epoch 146/500\n",
            "241/241 [==============================] - 3s 11ms/step - loss: 0.4296 - acc: 0.8050\n",
            "Epoch 147/500\n",
            "241/241 [==============================] - 3s 11ms/step - loss: 0.4587 - acc: 0.7510\n",
            "Epoch 148/500\n",
            "241/241 [==============================] - 3s 11ms/step - loss: 0.5070 - acc: 0.7759\n",
            "Epoch 149/500\n",
            "241/241 [==============================] - 3s 11ms/step - loss: 0.4167 - acc: 0.7967\n",
            "Epoch 150/500\n",
            "241/241 [==============================] - 3s 11ms/step - loss: 0.4629 - acc: 0.7469\n",
            "Epoch 151/500\n",
            "160/241 [==================>...........] - ETA: 0s - loss: 0.4725 - acc: 0.7937"
          ],
          "name": "stdout"
        },
        {
          "output_type": "stream",
          "text": [
            "241/241 [==============================] - 3s 11ms/step - loss: 0.4645 - acc: 0.7801\n",
            "Epoch 152/500\n",
            "241/241 [==============================] - 3s 11ms/step - loss: 0.5656 - acc: 0.7635\n",
            "Epoch 153/500\n",
            "241/241 [==============================] - 3s 11ms/step - loss: 0.4179 - acc: 0.7967\n",
            "Epoch 154/500\n",
            "241/241 [==============================] - 3s 11ms/step - loss: 0.4295 - acc: 0.8008\n",
            "Epoch 155/500\n",
            "241/241 [==============================] - 3s 11ms/step - loss: 0.4638 - acc: 0.7635\n",
            "Epoch 156/500\n",
            "241/241 [==============================] - 3s 11ms/step - loss: 0.4199 - acc: 0.8008\n",
            "Epoch 157/500\n",
            "241/241 [==============================] - 3s 11ms/step - loss: 0.4162 - acc: 0.8216\n",
            "Epoch 158/500\n",
            "241/241 [==============================] - 3s 11ms/step - loss: 0.4461 - acc: 0.7676\n",
            "Epoch 159/500\n",
            "241/241 [==============================] - 3s 11ms/step - loss: 0.4501 - acc: 0.7801\n",
            "Epoch 160/500\n",
            "241/241 [==============================] - 3s 11ms/step - loss: 0.4359 - acc: 0.7884\n",
            "Epoch 161/500\n",
            "160/241 [==================>...........] - ETA: 0s - loss: 0.4743 - acc: 0.7812"
          ],
          "name": "stdout"
        },
        {
          "output_type": "stream",
          "text": [
            "241/241 [==============================] - 3s 11ms/step - loss: 0.4435 - acc: 0.8050\n",
            "Epoch 162/500\n",
            "241/241 [==============================] - 3s 11ms/step - loss: 0.4332 - acc: 0.7925\n",
            "Epoch 163/500\n",
            "241/241 [==============================] - 3s 11ms/step - loss: 0.4567 - acc: 0.7635\n",
            "Epoch 164/500\n",
            "241/241 [==============================] - 3s 11ms/step - loss: 0.4203 - acc: 0.7925\n",
            "Epoch 165/500\n",
            "241/241 [==============================] - 3s 11ms/step - loss: 0.4462 - acc: 0.7759\n",
            "Epoch 166/500\n",
            "241/241 [==============================] - 3s 11ms/step - loss: 0.4271 - acc: 0.7967\n",
            "Epoch 167/500\n",
            "241/241 [==============================] - 3s 11ms/step - loss: 0.5047 - acc: 0.7884\n",
            "Epoch 168/500\n",
            "241/241 [==============================] - 3s 11ms/step - loss: 0.7427 - acc: 0.6805\n",
            "Epoch 169/500\n",
            "241/241 [==============================] - 3s 11ms/step - loss: 0.4528 - acc: 0.7884\n",
            "Epoch 170/500\n",
            "241/241 [==============================] - 3s 11ms/step - loss: 0.4693 - acc: 0.7593\n",
            "Epoch 171/500\n",
            "160/241 [==================>...........] - ETA: 0s - loss: 0.5526 - acc: 0.6687"
          ],
          "name": "stdout"
        },
        {
          "output_type": "stream",
          "text": [
            "241/241 [==============================] - 3s 11ms/step - loss: 0.5004 - acc: 0.7220\n",
            "Epoch 172/500\n",
            "241/241 [==============================] - 3s 11ms/step - loss: 0.4359 - acc: 0.7635\n",
            "Epoch 173/500\n",
            "241/241 [==============================] - 3s 11ms/step - loss: 0.4133 - acc: 0.7925\n",
            "Epoch 174/500\n",
            "241/241 [==============================] - 3s 11ms/step - loss: 0.4145 - acc: 0.7884\n",
            "Epoch 175/500\n",
            "241/241 [==============================] - 3s 11ms/step - loss: 0.4359 - acc: 0.7759\n",
            "Epoch 176/500\n",
            "241/241 [==============================] - 3s 11ms/step - loss: 0.5477 - acc: 0.7137\n",
            "Epoch 177/500\n",
            "241/241 [==============================] - 3s 11ms/step - loss: 0.4712 - acc: 0.7593\n",
            "Epoch 178/500\n",
            "241/241 [==============================] - 3s 11ms/step - loss: 0.4049 - acc: 0.8216\n",
            "Epoch 179/500\n",
            "241/241 [==============================] - 3s 11ms/step - loss: 0.4178 - acc: 0.7967\n",
            "Epoch 180/500\n",
            "241/241 [==============================] - 3s 11ms/step - loss: 0.4257 - acc: 0.7759\n",
            "Epoch 181/500\n",
            "160/241 [==================>...........] - ETA: 0s - loss: 0.4615 - acc: 0.7500"
          ],
          "name": "stdout"
        },
        {
          "output_type": "stream",
          "text": [
            "241/241 [==============================] - 3s 11ms/step - loss: 0.4281 - acc: 0.7759\n",
            "Epoch 182/500\n",
            "241/241 [==============================] - 3s 11ms/step - loss: 0.4562 - acc: 0.7967\n",
            "Epoch 183/500\n",
            "241/241 [==============================] - 3s 11ms/step - loss: 0.4357 - acc: 0.7676\n",
            "Epoch 184/500\n",
            "241/241 [==============================] - 3s 11ms/step - loss: 0.4256 - acc: 0.8091\n",
            "Epoch 185/500\n",
            "241/241 [==============================] - 3s 11ms/step - loss: 0.3895 - acc: 0.8299\n",
            "Epoch 186/500\n",
            "241/241 [==============================] - 3s 11ms/step - loss: 0.4254 - acc: 0.8008\n",
            "Epoch 187/500\n",
            "241/241 [==============================] - 3s 11ms/step - loss: 0.4600 - acc: 0.7884\n",
            "Epoch 188/500\n",
            "241/241 [==============================] - 3s 11ms/step - loss: 0.4431 - acc: 0.7925\n",
            "Epoch 189/500\n",
            "241/241 [==============================] - 3s 11ms/step - loss: 0.4422 - acc: 0.7925\n",
            "Epoch 190/500\n",
            "241/241 [==============================] - 3s 11ms/step - loss: 0.4184 - acc: 0.8008\n",
            "Epoch 191/500\n",
            "160/241 [==================>...........] - ETA: 0s - loss: 0.4526 - acc: 0.7750"
          ],
          "name": "stdout"
        },
        {
          "output_type": "stream",
          "text": [
            "241/241 [==============================] - 3s 11ms/step - loss: 0.4374 - acc: 0.7967\n",
            "Epoch 192/500\n",
            "192/241 [======================>.......] - ETA: 0s - loss: 0.4478 - acc: 0.8021"
          ],
          "name": "stdout"
        }
      ]
    },
    {
      "metadata": {
        "id": "Lq241ZvXmBgs",
        "colab_type": "code",
        "colab": {
          "base_uri": "https://localhost:8080/",
          "height": 393
        },
        "outputId": "65b00e14-d8f8-4f26-813e-43c7b8faa6e9"
      },
      "cell_type": "code",
      "source": [
        "# Plot the accuracy during training\n",
        "plt.plot(history.history['acc'])\n",
        "plt.title(\"Accuracy during training\")\n",
        "plt.ylabel(\"accuracy\")\n",
        "plt.xlabel(\"epoch\")"
      ],
      "execution_count": 72,
      "outputs": [
        {
          "output_type": "execute_result",
          "data": {
            "text/plain": [
              "Text(0.5,0,'epoch')"
            ]
          },
          "metadata": {
            "tags": []
          },
          "execution_count": 72
        },
        {
          "output_type": "display_data",
          "data": {
            "image/png": "[encoded data removed]",
            "text/plain": [
              "<matplotlib.figure.Figure at 0x7fdc01695940>"
            ]
          },
          "metadata": {
            "tags": []
          }
        }
      ]
    },
    {
      "metadata": {
        "id": "XDhfH6d52GUw",
        "colab_type": "code",
        "colab": {
          "base_uri": "https://localhost:8080/",
          "height": 393
        },
        "outputId": "1eff0204-2b26-4f03-9659-2ef3584d0904"
      },
      "cell_type": "code",
      "source": [
        "plt.plot(history.history['loss'])\n",
        "plt.title(\"Loss during training\")\n",
        "plt.ylabel(\"loss\")\n",
        "plt.xlabel(\"epoch\")"
      ],
      "execution_count": 73,
      "outputs": [
        {
          "output_type": "execute_result",
          "data": {
            "text/plain": [
              "Text(0.5,0,'epoch')"
            ]
          },
          "metadata": {
            "tags": []
          },
          "execution_count": 73
        },
        {
          "output_type": "display_data",
          "data": {
            "image/png": "[encoded data removed]",
            "text/plain": [
              "<matplotlib.figure.Figure at 0x7fdc016952e8>"
            ]
          },
          "metadata": {
            "tags": []
          }
        }
      ]
    },
    {
      "metadata": {
        "id": "MMhv-sFQCz7h",
        "colab_type": "code",
        "colab": {
          "base_uri": "https://localhost:8080/",
          "height": 51
        },
        "outputId": "b659e60c-a3c2-495c-d659-baacbef27893"
      },
      "cell_type": "code",
      "source": [
        "# Evalute the same model\n",
        "model.evaluate(x=test_x, y=test_y)\n"
      ],
      "execution_count": 74,
      "outputs": [
        {
          "output_type": "stream",
          "text": [
            "50/50 [==============================] - 1s 11ms/step\n"
          ],
          "name": "stdout"
        },
        {
          "output_type": "execute_result",
          "data": {
            "text/plain": [
              "[0.4583666813373566, 0.7800000023841858]"
            ]
          },
          "metadata": {
            "tags": []
          },
          "execution_count": 74
        }
      ]
    },
    {
      "metadata": {
        "id": "PYF5kaNOMPj8",
        "colab_type": "code",
        "colab": {
          "base_uri": "https://localhost:8080/",
          "height": 17
        },
        "outputId": "49fa47a1-67b0-4be6-e19a-37c432c7e5f7"
      },
      "cell_type": "code",
      "source": [
        ""
      ],
      "execution_count": 74,
      "outputs": []
    }
  ]
}