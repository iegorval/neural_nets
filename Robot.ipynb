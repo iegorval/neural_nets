{
  "nbformat": 4,
  "nbformat_minor": 0,
  "metadata": {
    "colab": {
      "name": "Untitled0.ipynb",
      "version": "0.3.2",
      "provenance": [],
      "collapsed_sections": [],
      "toc_visible": true
    },
    "kernelspec": {
      "name": "python3",
      "display_name": "Python 3"
    }
  },
  "cells": [
    {
      "cell_type": "markdown",
      "metadata": {
        "id": "view-in-github",
        "colab_type": "text"
      },
      "source": [
        "[View in Colaboratory](https://colab.research.google.com/github/iegorval/neural_nets/blob/master/Robot.ipynb)"
      ]
    },
    {
      "metadata": {
        "id": "oV2qqlq5QmNd",
        "colab_type": "text"
      },
      "cell_type": "markdown",
      "source": [
        "# Getting Ready\n",
        "Prepare the files and the libraries for the experiment."
      ]
    },
    {
      "metadata": {
        "id": "aWQrp_kPQop9",
        "colab_type": "code",
        "colab": {}
      },
      "cell_type": "code",
      "source": [
        "# Installs\n",
        "!pip install -U -q PyDrive"
      ],
      "execution_count": 0,
      "outputs": []
    },
    {
      "metadata": {
        "id": "FAQQdDA9UBDj",
        "colab_type": "code",
        "colab": {
          "base_uri": "https://localhost:8080/",
          "height": 34
        },
        "outputId": "fa8f01b6-f907-4b9a-fb95-c06d0d85d1ce"
      },
      "cell_type": "code",
      "source": [
        "# Imports\n",
        "from pydrive.auth import GoogleAuth\n",
        "from pydrive.drive import GoogleDrive\n",
        "from google.colab import auth\n",
        "from oauth2client.client import GoogleCredentials\n",
        "import numpy as np \n",
        "import pandas as pd\n",
        "import matplotlib.pyplot as plt\n",
        "from keras.layers import LSTM, Input, Activation, Dense, TimeDistributed, Dropout\n",
        "from keras.models import Sequential\n",
        "from keras.preprocessing import sequence\n",
        "import re\n",
        "from io import StringIO"
      ],
      "execution_count": 3,
      "outputs": [
        {
          "output_type": "stream",
          "text": [
            "Using TensorFlow backend.\n"
          ],
          "name": "stderr"
        }
      ]
    },
    {
      "metadata": {
        "id": "3hcA5ujlQsX7",
        "colab_type": "code",
        "colab": {}
      },
      "cell_type": "code",
      "source": [
        "# PyDrive client\n",
        "auth.authenticate_user()\n",
        "gauth = GoogleAuth()\n",
        "gauth.credentials = GoogleCredentials.get_application_default()\n",
        "drive = GoogleDrive(gauth)\n",
        "# Get all files from the root folder\n",
        "file_list = drive.ListFile({'q': \"'root' in parents and trashed=false\"}).GetList()"
      ],
      "execution_count": 0,
      "outputs": []
    },
    {
      "metadata": {
        "id": "g6sjBvHZcFKB",
        "colab_type": "code",
        "colab": {}
      },
      "cell_type": "code",
      "source": [
        "# Get the .pow files \n",
        "pow_files = [(file['title'], file['id'], re.sub(r'_[0-9]+|.pow', '', file['title'])) \n",
        "             for file in file_list if file['title'].find('.pow')>0]\n",
        "num_examples = len(pow_files)\n",
        "# Get the categories\n",
        "categories = list(set([file_info[2] for file_info in pow_files]))\n",
        "# Get the dictionary of the categories\n",
        "num_cat = len(categories)\n",
        "categories_dict = {categories[i] : i for i in range(num_cat)}"
      ],
      "execution_count": 0,
      "outputs": []
    },
    {
      "metadata": {
        "id": "p9cw30IWh8yK",
        "colab_type": "code",
        "colab": {}
      },
      "cell_type": "code",
      "source": [
        "# Make a list of dataframes along with their corresponding classes\n",
        "list_df = list()\n",
        "for pow_file in pow_files:\n",
        "  f = drive.CreateFile({'id': pow_file[1]})\n",
        "  content = f.GetContentString()\n",
        "  dataIO = StringIO(content)\n",
        "  df = pd.read_csv(dataIO, header=None, sep=' ')\n",
        "  list_df.append((df, to_one_hot(categories_dict[pow_file[2]])))"
      ],
      "execution_count": 0,
      "outputs": []
    },
    {
      "metadata": {
        "id": "gAXuechYyXpq",
        "colab_type": "text"
      },
      "cell_type": "markdown",
      "source": [
        "# Utils\n",
        "Helper functions."
      ]
    },
    {
      "metadata": {
        "id": "wJwNdX5UyT1a",
        "colab_type": "code",
        "colab": {}
      },
      "cell_type": "code",
      "source": [
        "def to_one_hot(category):\n",
        "  assert category < num_cat\n",
        "  one_hot = np.zeros((num_cat))\n",
        "  one_hot[category] = 1\n",
        "  return one_hot"
      ],
      "execution_count": 0,
      "outputs": []
    },
    {
      "metadata": {
        "id": "TVWW1kVnMNxP",
        "colab_type": "code",
        "colab": {}
      },
      "cell_type": "code",
      "source": [
        "def from_one_hot(one_hot):\n",
        "  for i in range(len(one_hot)):\n",
        "    if one_hot[i]==1:\n",
        "      return i"
      ],
      "execution_count": 0,
      "outputs": []
    },
    {
      "metadata": {
        "id": "0bfZo4MevEmv",
        "colab_type": "text"
      },
      "cell_type": "markdown",
      "source": [
        "# Model\n",
        "Recurrent Neural Network model in Keras."
      ]
    },
    {
      "metadata": {
        "id": "HAbg2Knco78O",
        "colab_type": "code",
        "colab": {}
      },
      "cell_type": "code",
      "source": [
        "def get_model():\n",
        "  model = Sequential()\n",
        "  model.add(LSTM(128, return_sequences=True, input_shape=(max_length,1)))\n",
        "  model.add(Dropout(0.7))\n",
        "  model.add(LSTM(128))\n",
        "  model.add(Dropout(0.7))\n",
        "  model.add(Dense(num_cat))\n",
        "  model.add(Activation(\"softmax\"))\n",
        "  return model"
      ],
      "execution_count": 0,
      "outputs": []
    },
    {
      "metadata": {
        "id": "xzVxrl55U4dR",
        "colab_type": "text"
      },
      "cell_type": "markdown",
      "source": [
        "# Data\n",
        "Preprocess the data: combine all the examples together and introduce padding where necessary. Split the longest time series in the several smaller ones."
      ]
    },
    {
      "metadata": {
        "id": "spXRc7qB39rW",
        "colab_type": "code",
        "colab": {}
      },
      "cell_type": "code",
      "source": [
        "#data_train = np.zeros(num_examples, )\n",
        "max_length = 1000\n",
        "#biggest_df = max(list_df, key=lambda df_info: len(df_info[0]) if len(df_info[0]) < THRESHOLD else 0)\n",
        "#max_length = len(biggest_df[0])"
      ],
      "execution_count": 0,
      "outputs": []
    },
    {
      "metadata": {
        "id": "0JxLBoY_i4li",
        "colab_type": "code",
        "colab": {}
      },
      "cell_type": "code",
      "source": [
        "# Split the biggest examples into separate sequences\n",
        "long_dfs = [i for i in range(len(list_df)) if list_df[i][0].shape[0] > max_length]\n",
        "list_df_cut = list(list_df)\n",
        "max_examples = 25 #75\n",
        "examples_categories = {0: 0, 1: 0, 2: 0, 3: 0, 4: 0, 5: 0}\n",
        "for i in reversed(long_dfs):\n",
        "  df = list_df_cut[i][0]\n",
        "  category = from_one_hot(list_df_cut[i][1])\n",
        "  for g, split_df in df.groupby(np.arange(len(df)) // max_length):\n",
        "    if examples_categories[category] < max_examples:\n",
        "      list_df_cut.append((split_df, list_df[i][1]))\n",
        "      examples_categories[category] += 1\n",
        "  del list_df_cut[i]"
      ],
      "execution_count": 0,
      "outputs": []
    },
    {
      "metadata": {
        "id": "y1T3HWkIm1lw",
        "colab_type": "code",
        "colab": {}
      },
      "cell_type": "code",
      "source": [
        "# Get only the measurements for current\n",
        "currents_list = [(np.transpose(np.array(df_cut[0][[2]])), df_cut[1]) for df_cut in list_df_cut]\n",
        "currents_long = [(np.transpose(currents[0]), currents[1]) for currents in currents_list if currents[0].shape[1]>=max_length]\n",
        "currents_no_labels = [currents[0] for currents in currents_long]\n",
        "# Pad the measurements with 0s from the beginning\n",
        "#currents_pad = [np.transpose(sequence.pad_sequences(currents[0], maxlen=max_length, dtype='float64')) for currents in currents_list]\n",
        "# Get training data into a numpy matrix\n",
        "train_x = np.stack(currents_no_labels, axis=0)\n",
        "# Get training labels\n",
        "train_y = np.array([currents[1] for currents in currents_long])\n",
        "train_y_labels = [from_one_hot(one_hot) for one_hot in train_y]"
      ],
      "execution_count": 0,
      "outputs": []
    },
    {
      "metadata": {
        "id": "9tPus2hAnmev",
        "colab_type": "code",
        "colab": {
          "base_uri": "https://localhost:8080/",
          "height": 68
        },
        "outputId": "00f5fe9a-13a7-4626-b42f-8daba8d55d52"
      },
      "cell_type": "code",
      "source": [
        "k = 0\n",
        "for label in train_y_labels:\n",
        "  if label==5:\n",
        "    k+=1\n",
        "print(k)\n",
        "print(categories_dict)\n",
        "i = 3\n",
        "#plt.plot(currents_long[i])\n",
        "print(train_y[i])"
      ],
      "execution_count": 14,
      "outputs": [
        {
          "output_type": "stream",
          "text": [
            "10\n",
            "{'black_rough': 0, 'cubes': 1, 'grass_flat': 2, 'grass_rough': 3, 'flat': 4, 'black_flat': 5}\n",
            "[0. 0. 0. 0. 0. 1.]\n"
          ],
          "name": "stdout"
        }
      ]
    },
    {
      "metadata": {
        "id": "RWwIa0O_k0WX",
        "colab_type": "code",
        "colab": {
          "base_uri": "https://localhost:8080/",
          "height": 34
        },
        "outputId": "05d83a63-acda-4aab-efb5-187831d1638b"
      },
      "cell_type": "code",
      "source": [
        "print(train_x.shape, train_y.shape)"
      ],
      "execution_count": 15,
      "outputs": [
        {
          "output_type": "stream",
          "text": [
            "(98, 1000, 1) (98, 6)\n"
          ],
          "name": "stdout"
        }
      ]
    },
    {
      "metadata": {
        "id": "K9kyzpWhMrSc",
        "colab_type": "text"
      },
      "cell_type": "markdown",
      "source": [
        "# Experiment"
      ]
    },
    {
      "metadata": {
        "id": "18uzH69xywMu",
        "colab_type": "code",
        "colab": {
          "base_uri": "https://localhost:8080/",
          "height": 340
        },
        "outputId": "f684aa94-0fa5-4d07-f621-fa80fbaeaafb"
      },
      "cell_type": "code",
      "source": [
        "model = get_model()\n",
        "model.summary()"
      ],
      "execution_count": 16,
      "outputs": [
        {
          "output_type": "stream",
          "text": [
            "_________________________________________________________________\n",
            "Layer (type)                 Output Shape              Param #   \n",
            "=================================================================\n",
            "lstm_1 (LSTM)                (None, 1000, 128)         66560     \n",
            "_________________________________________________________________\n",
            "dropout_1 (Dropout)          (None, 1000, 128)         0         \n",
            "_________________________________________________________________\n",
            "lstm_2 (LSTM)                (None, 128)               131584    \n",
            "_________________________________________________________________\n",
            "dropout_2 (Dropout)          (None, 128)               0         \n",
            "_________________________________________________________________\n",
            "dense_1 (Dense)              (None, 6)                 774       \n",
            "_________________________________________________________________\n",
            "activation_1 (Activation)    (None, 6)                 0         \n",
            "=================================================================\n",
            "Total params: 198,918\n",
            "Trainable params: 198,918\n",
            "Non-trainable params: 0\n",
            "_________________________________________________________________\n"
          ],
          "name": "stdout"
        }
      ]
    },
    {
      "metadata": {
        "id": "KqW5KT0hR6Iz",
        "colab_type": "code",
        "colab": {}
      },
      "cell_type": "code",
      "source": [
        "model.compile(loss='categorical_crossentropy', optimizer='adam', metrics=['accuracy'])"
      ],
      "execution_count": 0,
      "outputs": []
    },
    {
      "metadata": {
        "id": "cKnrvOYa8h8G",
        "colab_type": "code",
        "colab": {}
      },
      "cell_type": "code",
      "source": [
        "model.fit(train_x, train_y, epochs = 100)"
      ],
      "execution_count": 0,
      "outputs": []
    },
    {
      "metadata": {
        "id": "MMhv-sFQCz7h",
        "colab_type": "code",
        "colab": {}
      },
      "cell_type": "code",
      "source": [
        "model.evaluate(x=train_x, y=train_y)"
      ],
      "execution_count": 0,
      "outputs": []
    },
    {
      "metadata": {
        "id": "Lq241ZvXmBgs",
        "colab_type": "code",
        "colab": {}
      },
      "cell_type": "code",
      "source": [
        ""
      ],
      "execution_count": 0,
      "outputs": []
    }
  ]
}