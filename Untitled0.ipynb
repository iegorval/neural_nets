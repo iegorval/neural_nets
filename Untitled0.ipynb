{
  "nbformat": 4,
  "nbformat_minor": 0,
  "metadata": {
    "colab": {
      "name": "Untitled0.ipynb",
      "version": "0.3.2",
      "provenance": [],
      "collapsed_sections": [],
      "toc_visible": true
    },
    "kernelspec": {
      "name": "python3",
      "display_name": "Python 3"
    }
  },
  "cells": [
    {
      "cell_type": "markdown",
      "metadata": {
        "id": "view-in-github",
        "colab_type": "text"
      },
      "source": [
        "[View in Colaboratory](https://colab.research.google.com/github/iegorval/neural_nets/blob/misc/Untitled0.ipynb)"
      ]
    },
    {
      "metadata": {
        "id": "oV2qqlq5QmNd",
        "colab_type": "text"
      },
      "cell_type": "markdown",
      "source": [
        "# Getting Ready\n",
        "Prepare the files and the libraries for the experiment."
      ]
    },
    {
      "metadata": {
        "id": "aWQrp_kPQop9",
        "colab_type": "code",
        "colab": {
          "base_uri": "https://localhost:8080/",
          "height": 17
        },
        "outputId": "3b3350e2-bc7f-4e32-c60c-de9ab8ba4dea"
      },
      "cell_type": "code",
      "source": [
        "# Installs\n",
        "!pip install -U -q PyDrive"
      ],
      "execution_count": 1,
      "outputs": []
    },
    {
      "metadata": {
        "id": "FAQQdDA9UBDj",
        "colab_type": "code",
        "colab": {
          "base_uri": "https://localhost:8080/",
          "height": 17
        },
        "outputId": "5aa92ae2-926c-49bb-81ef-2af89ffff707"
      },
      "cell_type": "code",
      "source": [
        "# Imports\n",
        "from pydrive.auth import GoogleAuth\n",
        "from pydrive.drive import GoogleDrive\n",
        "from google.colab import auth\n",
        "from oauth2client.client import GoogleCredentials\n",
        "import numpy as np \n",
        "import pandas as pd\n",
        "import matplotlib.pyplot as plt\n",
        "from keras.layers import LSTM, Input, Activation, Dense, TimeDistributed, Dropout, BatchNormalization\n",
        "from keras.models import Sequential\n",
        "from keras import optimizers\n",
        "from keras.callbacks import Callback, LearningRateScheduler\n",
        "import keras.backend as K\n",
        "import keras.utils as utils\n",
        "from sklearn.metrics import confusion_matrix, f1_score, precision_score, recall_score\n",
        "import re\n",
        "from io import StringIO\n",
        "from math import exp"
      ],
      "execution_count": 28,
      "outputs": []
    },
    {
      "metadata": {
        "id": "3hcA5ujlQsX7",
        "colab_type": "code",
        "colab": {
          "base_uri": "https://localhost:8080/",
          "height": 17
        },
        "outputId": "f53356da-9cd7-43d6-b953-d073b2007326"
      },
      "cell_type": "code",
      "source": [
        "# PyDrive client\n",
        "auth.authenticate_user()\n",
        "gauth = GoogleAuth()\n",
        "gauth.credentials = GoogleCredentials.get_application_default()\n",
        "drive = GoogleDrive(gauth)\n",
        "# Get all files from the root folder\n",
        "file_list = drive.ListFile({'q': \"'root' in parents and trashed=false\"}).GetList()"
      ],
      "execution_count": 3,
      "outputs": []
    },
    {
      "metadata": {
        "id": "g6sjBvHZcFKB",
        "colab_type": "code",
        "colab": {
          "base_uri": "https://localhost:8080/",
          "height": 17
        },
        "outputId": "f568c2a7-22c7-464c-d4cf-6a362a56f78a"
      },
      "cell_type": "code",
      "source": [
        "# Get the .pow files \n",
        "pow_files = [(file['title'], file['id'], re.sub(r'_[0-9]+|.pow', '', file['title'])) \n",
        "             for file in file_list if file['title'].find('.pow')>0]\n",
        "num_examples = len(pow_files)\n",
        "# Get the categories\n",
        "categories = list(set([file_info[2] for file_info in pow_files]))\n",
        "# Get the dictionary of the categories\n",
        "num_cat = len(categories)\n",
        "categories_dict = {categories[i] : i for i in range(num_cat)}"
      ],
      "execution_count": 4,
      "outputs": []
    },
    {
      "metadata": {
        "id": "_086i_ixmHis",
        "colab_type": "code",
        "colab": {
          "base_uri": "https://localhost:8080/",
          "height": 36
        },
        "outputId": "22daa9cc-bfef-43b6-f450-5c292875ebf6"
      },
      "cell_type": "code",
      "source": [
        "print(categories_dict)"
      ],
      "execution_count": 5,
      "outputs": [
        {
          "output_type": "stream",
          "text": [
            "{'cubes': 0, 'black_flat': 1, 'grass_rough': 2, 'grass_flat': 3, 'flat': 4, 'black_rough': 5}\n"
          ],
          "name": "stdout"
        }
      ]
    },
    {
      "metadata": {
        "id": "gAXuechYyXpq",
        "colab_type": "text"
      },
      "cell_type": "markdown",
      "source": [
        "# Utils\n",
        "Helper functions."
      ]
    },
    {
      "metadata": {
        "id": "wJwNdX5UyT1a",
        "colab_type": "code",
        "colab": {
          "base_uri": "https://localhost:8080/",
          "height": 17
        },
        "outputId": "f8c848ea-33ae-4d20-e91f-b97babbeab91"
      },
      "cell_type": "code",
      "source": [
        "def to_one_hot(category):\n",
        "  assert category < num_cat\n",
        "  one_hot = np.zeros((num_cat))\n",
        "  one_hot[category] = 1\n",
        "  return one_hot"
      ],
      "execution_count": 6,
      "outputs": []
    },
    {
      "metadata": {
        "id": "TVWW1kVnMNxP",
        "colab_type": "code",
        "colab": {
          "base_uri": "https://localhost:8080/",
          "height": 17
        },
        "outputId": "497de28a-167e-41b9-b8e5-a76c73c990a8"
      },
      "cell_type": "code",
      "source": [
        "def from_one_hot(one_hot):\n",
        "  for i in range(len(one_hot)):\n",
        "    if one_hot[i]==1:\n",
        "      return i"
      ],
      "execution_count": 7,
      "outputs": []
    },
    {
      "metadata": {
        "id": "0bfZo4MevEmv",
        "colab_type": "text"
      },
      "cell_type": "markdown",
      "source": [
        "# Model\n",
        "Recurrent Neural Network model in Keras."
      ]
    },
    {
      "metadata": {
        "id": "HAbg2Knco78O",
        "colab_type": "code",
        "colab": {
          "base_uri": "https://localhost:8080/",
          "height": 17
        },
        "outputId": "9c14ff7c-f7b7-476e-822e-6d08a63fdce1"
      },
      "cell_type": "code",
      "source": [
        "def get_model1():\n",
        "  model = Sequential()\n",
        "  model.add(LSTM(32, return_sequences=False, input_shape=(max_length//skip,1)))\n",
        "  model.add(Dense(1))\n",
        "  model.add(Activation(\"sigmoid\"))\n",
        "  return model"
      ],
      "execution_count": 8,
      "outputs": []
    },
    {
      "metadata": {
        "id": "ETEc6ZwlugeT",
        "colab_type": "code",
        "colab": {
          "base_uri": "https://localhost:8080/",
          "height": 17
        },
        "outputId": "3915b850-46f4-4c33-c17a-5592bc717ed8"
      },
      "cell_type": "code",
      "source": [
        "def get_model2():\n",
        "  model = Sequential()\n",
        "  model.add(LSTM(64, return_sequences=False, input_shape=(max_length//skip,1)))\n",
        "  model.add(Dense(1))\n",
        "  model.add(Activation(\"sigmoid\"))\n",
        "  return model"
      ],
      "execution_count": 9,
      "outputs": []
    },
    {
      "metadata": {
        "id": "TX8OhAfWuglM",
        "colab_type": "code",
        "colab": {
          "base_uri": "https://localhost:8080/",
          "height": 17
        },
        "outputId": "cb054292-a949-49e4-a20e-279f76b43e65"
      },
      "cell_type": "code",
      "source": [
        "def get_model3():\n",
        "  model = Sequential()\n",
        "  model.add(LSTM(32, return_sequences=True, input_shape=(max_length//skip,1)))\n",
        "  model.add(LSTM(32))\n",
        "  model.add(Dense(1))\n",
        "  model.add(Activation(\"sigmoid\"))\n",
        "  return model"
      ],
      "execution_count": 10,
      "outputs": []
    },
    {
      "metadata": {
        "id": "ZO6Ro7NEugv2",
        "colab_type": "code",
        "colab": {
          "base_uri": "https://localhost:8080/",
          "height": 17
        },
        "outputId": "c9b1fba8-14e8-4552-9ff5-c93522bcacb1"
      },
      "cell_type": "code",
      "source": [
        "def get_model4():\n",
        "  model = Sequential()\n",
        "  model.add(LSTM(64, return_sequences=True, input_shape=(max_length//skip,1)))\n",
        "  model.add(LSTM(64))\n",
        "  model.add(Dense(1))\n",
        "  model.add(Activation(\"sigmoid\"))\n",
        "  return model"
      ],
      "execution_count": 11,
      "outputs": []
    },
    {
      "metadata": {
        "id": "JGeRV_NguhES",
        "colab_type": "code",
        "colab": {
          "base_uri": "https://localhost:8080/",
          "height": 17
        },
        "outputId": "6951bb35-b3c3-484a-8d0f-3f57f1698c35"
      },
      "cell_type": "code",
      "source": [
        "def get_model5():\n",
        "  model = Sequential()\n",
        "  model.add(LSTM(32, return_sequences=True, input_shape=(max_length//skip,1)))\n",
        "  model.add(Dropout(0.4))\n",
        "  model.add(LSTM(32))\n",
        "  model.add(Dropout(0.4))\n",
        "  model.add(Dense(1))\n",
        "  model.add(Activation(\"sigmoid\"))\n",
        "  return model"
      ],
      "execution_count": 12,
      "outputs": []
    },
    {
      "metadata": {
        "id": "w_uNZHWduhJL",
        "colab_type": "code",
        "colab": {
          "base_uri": "https://localhost:8080/",
          "height": 17
        },
        "outputId": "41ffa857-2d8f-4e97-f7db-f5c34c6e7819"
      },
      "cell_type": "code",
      "source": [
        "def get_model6():\n",
        "  model = Sequential()\n",
        "  model.add(LSTM(64, return_sequences=True, input_shape=(max_length//skip,1)))\n",
        "  model.add(Dropout(0.4))\n",
        "  model.add(LSTM(64))\n",
        "  model.add(Dropout(0.4))\n",
        "  model.add(Dense(1))\n",
        "  model.add(Activation(\"sigmoid\"))\n",
        "  return model"
      ],
      "execution_count": 13,
      "outputs": []
    },
    {
      "metadata": {
        "id": "xzVxrl55U4dR",
        "colab_type": "text"
      },
      "cell_type": "markdown",
      "source": [
        "# Data\n",
        "Preprocess the data: combine all the examples together and introduce padding where necessary. Split the longest time series in the several smaller ones."
      ]
    },
    {
      "metadata": {
        "id": "p9cw30IWh8yK",
        "colab_type": "code",
        "colab": {
          "base_uri": "https://localhost:8080/",
          "height": 17
        },
        "outputId": "799379d7-3a63-4bba-b1f0-0592eccbdf86"
      },
      "cell_type": "code",
      "source": [
        "# Make a list of dataframes along with their corresponding classes\n",
        "list_df = list()\n",
        "for pow_file in pow_files:\n",
        "  if pow_file[0].find('cubes')==0 or pow_file[0].find('flat')==0:\n",
        "    f = drive.CreateFile({'id': pow_file[1]})\n",
        "    content = f.GetContentString()\n",
        "    dataIO = StringIO(content)\n",
        "    df = pd.read_csv(dataIO, header=None, sep=' ')\n",
        "    list_df.append((df, to_one_hot(categories_dict[pow_file[2]])))"
      ],
      "execution_count": 14,
      "outputs": []
    },
    {
      "metadata": {
        "id": "Zu3byejeB032",
        "colab_type": "code",
        "colab": {
          "base_uri": "https://localhost:8080/",
          "height": 17
        },
        "outputId": "06c38b01-1b9f-41b4-9950-255c54f093ec"
      },
      "cell_type": "code",
      "source": [
        "# Make a list of dataframes along with their corresponding classes\n",
        "list_df = list()\n",
        "for pow_file in pow_files:\n",
        "  if pow_file[0].find('black_rough')==0 or pow_file[0].find('grass_rough')==0 \\\n",
        "     or pow_file[0].find('black_flat')==0 or pow_file[0].find('grass_flat')==0:\n",
        "    f = drive.CreateFile({'id': pow_file[1]})\n",
        "    content = f.GetContentString()\n",
        "    dataIO = StringIO(content)\n",
        "    df = pd.read_csv(dataIO, header=None, sep=' ')\n",
        "    list_df.append((df, to_one_hot(categories_dict[pow_file[2]])))"
      ],
      "execution_count": 15,
      "outputs": []
    },
    {
      "metadata": {
        "id": "0JxLBoY_i4li",
        "colab_type": "code",
        "colab": {
          "base_uri": "https://localhost:8080/",
          "height": 17
        },
        "outputId": "b606d4de-d719-4652-bce6-3fb714a8fd85"
      },
      "cell_type": "code",
      "source": [
        "# Split the biggest examples into separate sequences\n",
        "max_length = 100\n",
        "long_dfs = [i for i in range(len(list_df)) if list_df[i][0].shape[0] > max_length]\n",
        "list_df_cut = list(list_df)\n",
        "max_examples = 3000\n",
        "examples_categories = {0: 0, 1: 0, 2: 0, 3: 0, 4: 0, 5: 0}\n",
        "for i in reversed(long_dfs):\n",
        "  df = list_df_cut[i][0]\n",
        "  category = from_one_hot(list_df_cut[i][1])\n",
        "  for g, split_df in df.groupby(np.arange(len(df)) // max_length):\n",
        "    if examples_categories[category] < max_examples:\n",
        "      list_df_cut.append((split_df, list_df[i][1]))\n",
        "      examples_categories[category] += 1\n",
        "  del list_df_cut[i]"
      ],
      "execution_count": 16,
      "outputs": []
    },
    {
      "metadata": {
        "id": "JdgG_hZZILVX",
        "colab_type": "code",
        "colab": {
          "base_uri": "https://localhost:8080/",
          "height": 55
        },
        "outputId": "866c145d-1ab3-4bee-c93e-87d970325a68"
      },
      "cell_type": "code",
      "source": [
        "print(examples_categories)\n",
        "print(categories_dict)"
      ],
      "execution_count": 17,
      "outputs": [
        {
          "output_type": "stream",
          "text": [
            "{0: 0, 1: 112, 2: 161, 3: 179, 4: 0, 5: 215}\n",
            "{'cubes': 0, 'black_flat': 1, 'grass_rough': 2, 'grass_flat': 3, 'flat': 4, 'black_rough': 5}\n"
          ],
          "name": "stdout"
        }
      ]
    },
    {
      "metadata": {
        "id": "y1T3HWkIm1lw",
        "colab_type": "code",
        "colab": {
          "base_uri": "https://localhost:8080/",
          "height": 17
        },
        "outputId": "2b2a96c5-f470-439a-adef-81d59726ee3a"
      },
      "cell_type": "code",
      "source": [
        "# Get only the measurements for current\n",
        "currents_list = [(np.transpose(np.array(df_cut[0][[2]])), df_cut[1]) for df_cut in list_df_cut]\n",
        "currents_long = [(np.transpose(currents[0]), currents[1]) for currents in currents_list if currents[0].shape[1]>=max_length]\n",
        "currents_no_labels = [currents[0] for currents in currents_long]"
      ],
      "execution_count": 18,
      "outputs": []
    },
    {
      "metadata": {
        "id": "l1tC1WDSjQw8",
        "colab_type": "code",
        "colab": {
          "base_uri": "https://localhost:8080/",
          "height": 369
        },
        "outputId": "a7ff6649-92b7-4a4d-85fd-0cbaa7493898"
      },
      "cell_type": "code",
      "source": [
        "plt.plot(currents_no_labels[0])"
      ],
      "execution_count": 19,
      "outputs": [
        {
          "output_type": "execute_result",
          "data": {
            "text/plain": [
              "[<matplotlib.lines.Line2D at 0x7f9f76ae2940>]"
            ]
          },
          "metadata": {
            "tags": []
          },
          "execution_count": 19
        },
        {
          "output_type": "display_data",
          "data": {
            "image/png": "[encoded data removed]",
            "text/plain": [
              "<matplotlib.figure.Figure at 0x7f9f76da20b8>"
            ]
          },
          "metadata": {
            "tags": []
          }
        }
      ]
    },
    {
      "metadata": {
        "id": "fDc3SUp6BPE8",
        "colab_type": "code",
        "colab": {
          "base_uri": "https://localhost:8080/",
          "height": 17
        },
        "outputId": "05cb5f71-ae50-4e51-eece-1878a802fb11"
      },
      "cell_type": "code",
      "source": [
        "# Skip some timesteps\n",
        "skip = 1\n",
        "currents_skip = list()\n",
        "for currents in currents_no_labels:\n",
        "  currents_skip.append(list())\n",
        "  i = 0\n",
        "  while True:\n",
        "    currents_skip[-1].append(currents[i])\n",
        "    i += skip\n",
        "    if i >= len(currents):\n",
        "      break"
      ],
      "execution_count": 43,
      "outputs": []
    },
    {
      "metadata": {
        "id": "b2pEzVQUESSD",
        "colab_type": "code",
        "colab": {
          "base_uri": "https://localhost:8080/",
          "height": 17
        },
        "outputId": "03c723d4-f198-46fb-a139-cbd35b327f0e"
      },
      "cell_type": "code",
      "source": [
        "# Get training data into a numpy matrix\n",
        "full_x = np.stack(currents_skip, axis=0)\n",
        "# Get training labels\n",
        "full_y = np.array([currents[1] for currents in currents_long])\n",
        "full_y_labels = [from_one_hot(one_hot) for one_hot in full_y]"
      ],
      "execution_count": 44,
      "outputs": []
    },
    {
      "metadata": {
        "id": "tuQAXLkvB-Le",
        "colab_type": "code",
        "colab": {
          "base_uri": "https://localhost:8080/",
          "height": 56
        },
        "outputId": "0a9ca319-5a18-440f-d8e8-0063d3ee5ba8"
      },
      "cell_type": "code",
      "source": [
        "print(full_y_labels)\n",
        "k0 = full_y_labels.index(1)\n",
        "k1 = full_y_labels.index(2)\n",
        "k3 = full_y_labels.index(3)\n",
        "k4 = full_y_labels.index(5)"
      ],
      "execution_count": 45,
      "outputs": [
        {
          "output_type": "stream",
          "text": [
            "[1, 1, 1, 1, 1, 1, 1, 1, 1, 1, 1, 1, 1, 1, 1, 1, 1, 1, 1, 1, 1, 1, 1, 1, 1, 1, 1, 1, 1, 1, 1, 1, 1, 1, 1, 1, 1, 1, 1, 1, 1, 1, 1, 1, 1, 1, 1, 1, 1, 1, 1, 1, 1, 1, 1, 1, 1, 1, 1, 1, 1, 1, 1, 1, 1, 1, 1, 1, 1, 1, 1, 1, 1, 1, 1, 1, 1, 1, 1, 1, 1, 1, 1, 1, 1, 1, 1, 1, 1, 1, 1, 1, 1, 1, 1, 1, 1, 1, 1, 1, 1, 1, 1, 1, 1, 1, 1, 1, 1, 1, 3, 3, 3, 3, 3, 3, 3, 3, 3, 3, 3, 3, 3, 3, 3, 3, 3, 3, 3, 3, 3, 3, 3, 3, 3, 3, 3, 3, 3, 3, 3, 3, 3, 3, 3, 5, 5, 5, 5, 5, 5, 5, 5, 5, 5, 5, 5, 5, 5, 5, 5, 5, 5, 5, 5, 5, 5, 5, 5, 5, 5, 5, 5, 5, 5, 5, 5, 5, 5, 5, 5, 5, 5, 5, 5, 3, 3, 3, 3, 3, 3, 3, 3, 3, 3, 3, 3, 3, 3, 3, 3, 3, 3, 3, 3, 3, 3, 3, 3, 3, 3, 3, 3, 3, 3, 3, 3, 3, 3, 3, 5, 5, 5, 5, 5, 5, 5, 5, 5, 5, 5, 5, 5, 5, 5, 5, 5, 5, 5, 5, 5, 5, 5, 5, 5, 5, 5, 5, 5, 5, 5, 5, 5, 5, 5, 5, 5, 5, 5, 5, 5, 5, 5, 5, 5, 5, 5, 5, 5, 5, 5, 5, 5, 5, 5, 5, 5, 5, 5, 5, 5, 5, 5, 5, 5, 5, 5, 5, 5, 5, 5, 5, 5, 5, 5, 5, 5, 5, 5, 5, 5, 5, 5, 5, 5, 5, 5, 5, 5, 5, 5, 5, 5, 5, 5, 5, 5, 5, 5, 5, 5, 5, 5, 5, 5, 5, 5, 5, 5, 5, 5, 5, 5, 5, 5, 5, 5, 5, 5, 5, 5, 5, 5, 5, 5, 5, 5, 5, 5, 5, 5, 5, 5, 5, 5, 5, 5, 5, 5, 5, 5, 5, 5, 5, 5, 5, 5, 5, 5, 5, 5, 5, 5, 5, 5, 5, 5, 5, 5, 5, 5, 5, 5, 5, 5, 5, 5, 5, 5, 5, 5, 5, 3, 3, 3, 3, 3, 3, 3, 3, 3, 3, 3, 3, 3, 3, 3, 3, 3, 3, 3, 3, 3, 3, 3, 3, 3, 3, 3, 3, 3, 3, 3, 3, 3, 3, 3, 3, 3, 3, 3, 3, 3, 3, 3, 3, 3, 2, 2, 2, 2, 2, 2, 2, 2, 2, 2, 2, 2, 2, 2, 2, 2, 2, 2, 2, 2, 2, 2, 2, 2, 2, 2, 2, 2, 2, 2, 2, 2, 2, 2, 2, 2, 2, 2, 2, 2, 2, 2, 2, 2, 2, 2, 2, 2, 2, 2, 2, 2, 2, 2, 2, 2, 2, 2, 2, 2, 2, 2, 2, 2, 2, 2, 2, 2, 2, 2, 2, 2, 2, 2, 2, 2, 2, 2, 2, 2, 2, 2, 2, 2, 2, 2, 2, 2, 2, 2, 2, 2, 2, 2, 2, 2, 2, 2, 2, 2, 2, 2, 2, 2, 2, 2, 2, 2, 2, 2, 2, 2, 2, 2, 2, 2, 2, 2, 2, 2, 2, 2, 2, 2, 2, 2, 2, 2, 2, 2, 2, 2, 2, 2, 2, 2, 2, 2, 2, 2, 2, 2, 2, 2, 2, 2, 2, 2, 2, 2, 2, 2, 2, 2, 2, 2, 2, 2, 3, 3, 3, 3, 3, 3, 3, 3, 3, 3, 3, 3, 3, 3, 3, 3, 3, 3, 3, 3, 3, 3, 3, 3, 3, 3, 3, 3, 3, 3, 3, 3, 3, 3, 3, 3, 3, 3, 3, 3, 3, 3, 3, 3, 3, 3, 3, 3, 3, 3, 3, 3, 3, 3, 3, 3, 3, 3, 3, 3]\n"
          ],
          "name": "stdout"
        }
      ]
    },
    {
      "metadata": {
        "id": "LtScJnfC9ZSc",
        "colab_type": "code",
        "colab": {
          "base_uri": "https://localhost:8080/",
          "height": 17
        },
        "outputId": "d22d9c9c-e47c-4523-f468-3e0153aad04e"
      },
      "cell_type": "code",
      "source": [
        "full_y_binary = [0 if label==categories_dict['black_flat'] or label==categories_dict['grass_flat'] else 1 for label in full_y_labels]\n",
        "full_x_norm = utils.normalize(full_x, axis=0, order=2)"
      ],
      "execution_count": 46,
      "outputs": []
    },
    {
      "metadata": {
        "id": "fin_NKQqvZNc",
        "colab_type": "code",
        "colab": {
          "base_uri": "https://localhost:8080/",
          "height": 369
        },
        "outputId": "28562a97-0141-4908-d9e0-fecc85f043f4"
      },
      "cell_type": "code",
      "source": [
        "# Training set\n",
        "#train_x = full_x_norm[10:89]\n",
        "#train_x = full_x[50:-50]\n",
        "train_x = np.concatenate((full_x[k0+30:k1], full_x[k1+30:k3], full_x[k3+30:k4], full_x[k4+30:]), axis=0)\n",
        "train_y = full_y_binary[k0+30:k1] + full_y_binary[k1+30:k3] + full_y_binary[k3+30:k4] + full_y_binary[k4+30:]\n",
        "# Test set\n",
        "#test_x = np.concatenate((full_x[:50], full_x[-50:]), axis=0)\n",
        "test_x = np.concatenate((full_x[k0:k0+30], full_x[k1:k1+30], full_x[k3:k3+30], full_x[k4:k4+30]), axis=0)\n",
        "#test_y = full_y_binary[:50] + full_y_binary[-50:]\n",
        "test_y = full_y_binary[k0:k0+30] + full_y_binary[k1:k1+30] + full_y_binary[k3:k3+30] + full_y_binary[k4:k4+30]\n",
        "\n",
        "plt.plot(full_x[1])\n",
        "print(full_y[1])"
      ],
      "execution_count": 47,
      "outputs": [
        {
          "output_type": "stream",
          "text": [
            "[0. 1. 0. 0. 0. 0.]\n"
          ],
          "name": "stdout"
        },
        {
          "output_type": "display_data",
          "data": {
            "image/png": "[encoded data removed]",
            "text/plain": [
              "<matplotlib.figure.Figure at 0x7f9f6f3abe48>"
            ]
          },
          "metadata": {
            "tags": []
          }
        }
      ]
    },
    {
      "metadata": {
        "id": "85G-gt5j2Qe1",
        "colab_type": "code",
        "colab": {
          "base_uri": "https://localhost:8080/",
          "height": 75
        },
        "outputId": "720efb0a-9118-464a-db69-2b18e37d3639"
      },
      "cell_type": "code",
      "source": [
        "print(full_y_binary)\n",
        "print(test_y)"
      ],
      "execution_count": 25,
      "outputs": [
        {
          "output_type": "stream",
          "text": [
            "[0, 0, 0, 0, 0, 0, 0, 0, 0, 0, 0, 0, 0, 0, 0, 0, 0, 0, 0, 0, 0, 0, 0, 0, 0, 0, 0, 0, 0, 0, 0, 0, 0, 0, 0, 0, 0, 0, 0, 0, 0, 0, 0, 0, 0, 0, 0, 0, 0, 0, 0, 0, 0, 0, 0, 0, 0, 0, 0, 0, 0, 0, 0, 0, 0, 0, 0, 0, 0, 0, 0, 0, 0, 0, 0, 0, 0, 0, 0, 0, 0, 0, 0, 0, 0, 0, 0, 0, 0, 0, 0, 0, 0, 0, 0, 0, 0, 0, 0, 0, 0, 0, 0, 0, 0, 0, 0, 0, 0, 0, 1, 1, 1, 1, 1, 1, 1, 1, 1, 1, 1, 1, 1, 1, 1, 1, 1, 1, 1, 1, 1, 1, 1, 1, 1, 1, 1, 1, 1, 1, 1, 1, 1, 1, 1, 0, 0, 0, 0, 0, 0, 0, 0, 0, 0, 0, 0, 0, 0, 0, 0, 0, 0, 0, 0, 0, 0, 0, 0, 0, 0, 0, 0, 0, 0, 0, 0, 0, 0, 0, 0, 0, 0, 0, 0, 1, 1, 1, 1, 1, 1, 1, 1, 1, 1, 1, 1, 1, 1, 1, 1, 1, 1, 1, 1, 1, 1, 1, 1, 1, 1, 1, 1, 1, 1, 1, 1, 1, 1, 1, 0, 0, 0, 0, 0, 0, 0, 0, 0, 0, 0, 0, 0, 0, 0, 0, 0, 0, 0, 0, 0, 0, 0, 0, 0, 0, 0, 0, 0, 0, 0, 0, 0, 0, 0, 0, 0, 0, 0, 0, 0, 0, 0, 0, 0, 0, 0, 0, 0, 0, 0, 0, 0, 0, 0, 0, 0, 0, 0, 0, 0, 0, 0, 0, 0, 0, 0, 0, 0, 0, 0, 0, 0, 0, 0, 0, 0, 0, 0, 0, 0, 0, 0, 0, 0, 0, 0, 0, 0, 0, 0, 0, 0, 0, 0, 0, 0, 0, 0, 0, 0, 0, 0, 0, 0, 0, 0, 0, 0, 0, 0, 0, 0, 0, 0, 0, 0, 0, 0, 0, 0, 0, 0, 0, 0, 0, 0, 0, 0, 0, 0, 0, 0, 0, 0, 0, 0, 0, 0, 0, 0, 0, 0, 0, 0, 0, 0, 0, 0, 0, 0, 0, 0, 0, 0, 0, 0, 0, 0, 0, 0, 0, 0, 0, 0, 0, 0, 0, 0, 0, 0, 0, 1, 1, 1, 1, 1, 1, 1, 1, 1, 1, 1, 1, 1, 1, 1, 1, 1, 1, 1, 1, 1, 1, 1, 1, 1, 1, 1, 1, 1, 1, 1, 1, 1, 1, 1, 1, 1, 1, 1, 1, 1, 1, 1, 1, 1, 1, 1, 1, 1, 1, 1, 1, 1, 1, 1, 1, 1, 1, 1, 1, 1, 1, 1, 1, 1, 1, 1, 1, 1, 1, 1, 1, 1, 1, 1, 1, 1, 1, 1, 1, 1, 1, 1, 1, 1, 1, 1, 1, 1, 1, 1, 1, 1, 1, 1, 1, 1, 1, 1, 1, 1, 1, 1, 1, 1, 1, 1, 1, 1, 1, 1, 1, 1, 1, 1, 1, 1, 1, 1, 1, 1, 1, 1, 1, 1, 1, 1, 1, 1, 1, 1, 1, 1, 1, 1, 1, 1, 1, 1, 1, 1, 1, 1, 1, 1, 1, 1, 1, 1, 1, 1, 1, 1, 1, 1, 1, 1, 1, 1, 1, 1, 1, 1, 1, 1, 1, 1, 1, 1, 1, 1, 1, 1, 1, 1, 1, 1, 1, 1, 1, 1, 1, 1, 1, 1, 1, 1, 1, 1, 1, 1, 1, 1, 1, 1, 1, 1, 1, 1, 1, 1, 1, 1, 1, 1, 1, 1, 1, 1, 1, 1, 1, 1, 1, 1, 1, 1, 1, 1, 1, 1, 1, 1, 1, 1, 1, 1, 1, 1, 1, 1, 1, 1, 1, 1, 1, 1, 1, 1, 1, 1, 1, 1, 1, 1, 1, 1, 1, 1, 1, 1, 1, 1, 1, 1, 1, 1, 1, 1, 1, 1, 1, 1]\n",
            "[0, 0, 0, 0, 0, 0, 0, 0, 0, 0, 0, 0, 0, 0, 0, 0, 0, 0, 0, 0, 0, 0, 0, 0, 0, 0, 0, 0, 0, 0, 1, 1, 1, 1, 1, 1, 1, 1, 1, 1, 1, 1, 1, 1, 1, 1, 1, 1, 1, 1, 1, 1, 1, 1, 1, 1, 1, 1, 1, 1, 1, 1, 1, 1, 1, 1, 1, 1, 1, 1, 1, 1, 1, 1, 1, 1, 1, 1, 1, 1, 1, 1, 1, 1, 1, 1, 1, 1, 1, 1, 0, 0, 0, 0, 0, 0, 0, 0, 0, 0, 0, 0, 0, 0, 0, 0, 0, 0, 0, 0, 0, 0, 0, 0, 0, 0, 0, 0, 0, 0]\n"
          ],
          "name": "stdout"
        }
      ]
    },
    {
      "metadata": {
        "id": "K9kyzpWhMrSc",
        "colab_type": "text"
      },
      "cell_type": "markdown",
      "source": [
        "# Experiment"
      ]
    },
    {
      "metadata": {
        "id": "18uzH69xywMu",
        "colab_type": "code",
        "colab": {
          "base_uri": "https://localhost:8080/",
          "height": 300
        },
        "outputId": "16bfd2c9-0099-4acd-d19f-e0e794133319"
      },
      "cell_type": "code",
      "source": [
        "model = get_model3()\n",
        "model.summary()"
      ],
      "execution_count": 31,
      "outputs": [
        {
          "output_type": "stream",
          "text": [
            "_________________________________________________________________\n",
            "Layer (type)                 Output Shape              Param #   \n",
            "=================================================================\n",
            "lstm_4 (LSTM)                (None, 100, 32)           4352      \n",
            "_________________________________________________________________\n",
            "lstm_5 (LSTM)                (None, 32)                8320      \n",
            "_________________________________________________________________\n",
            "dense_3 (Dense)              (None, 1)                 33        \n",
            "_________________________________________________________________\n",
            "activation_3 (Activation)    (None, 1)                 0         \n",
            "=================================================================\n",
            "Total params: 12,705\n",
            "Trainable params: 12,705\n",
            "Non-trainable params: 0\n",
            "_________________________________________________________________\n"
          ],
          "name": "stdout"
        }
      ]
    },
    {
      "metadata": {
        "id": "Z_4EO9UwI5_0",
        "colab_type": "code",
        "colab": {
          "base_uri": "https://localhost:8080/",
          "height": 17
        },
        "outputId": "bdf74edb-e331-465a-8ad2-8e1250d730a3"
      },
      "cell_type": "code",
      "source": [
        "def exp_decay(epoch):\n",
        "    initial_lrate = 0.01\n",
        "    k = 0.1\n",
        "    lrate = initial_lrate * exp(-k*epoch)\n",
        "    return lrate\n",
        "lrate = LearningRateScheduler(exp_decay)\n",
        "callbacks_list = [lrate]"
      ],
      "execution_count": 32,
      "outputs": []
    },
    {
      "metadata": {
        "id": "TKD8VQKCGjZl",
        "colab_type": "code",
        "colab": {
          "base_uri": "https://localhost:8080/",
          "height": 17
        },
        "outputId": "4cedbe34-0aa3-40e8-b75e-2a15030d3cff"
      },
      "cell_type": "code",
      "source": [
        "adam = optimizers.Adam(lr=0.001, beta_1=0.9, beta_2=0.999, epsilon=None, decay=0.0, amsgrad=False)\n",
        "rmsprop = optimizers.RMSprop(lr=0.00001, rho=0.9, epsilon=None, decay=0.0)"
      ],
      "execution_count": 33,
      "outputs": []
    },
    {
      "metadata": {
        "id": "XqQqwuwKuDzs",
        "colab_type": "code",
        "colab": {
          "base_uri": "https://localhost:8080/",
          "height": 17
        },
        "outputId": "2675d34c-50e3-4b3c-f748-d3848aff0cd1"
      },
      "cell_type": "code",
      "source": [
        "model.compile(loss='binary_crossentropy', optimizer=rmsprop, metrics=['accuracy'])"
      ],
      "execution_count": 34,
      "outputs": []
    },
    {
      "metadata": {
        "id": "cKnrvOYa8h8G",
        "colab_type": "code",
        "colab": {
          "base_uri": "https://localhost:8080/",
          "height": 7564
        },
        "outputId": "b7cd825f-2d76-4877-9c95-a998f3eee3a0"
      },
      "cell_type": "code",
      "source": [
        "history = model.fit(train_x, train_y, epochs=200, batch_size=16, shuffle=True, callbacks=callbacks_list, verbose=2)"
      ],
      "execution_count": 35,
      "outputs": [
        {
          "output_type": "stream",
          "text": [
            "Epoch 1/200\n",
            " - 84s - loss: 0.7034 - acc: 0.5202\n",
            "Epoch 2/200\n",
            " - 63s - loss: 0.6898 - acc: 0.5359\n",
            "Epoch 3/200\n",
            " - 70s - loss: 0.7050 - acc: 0.5280\n",
            "Epoch 4/200\n",
            " - 77s - loss: 0.7058 - acc: 0.5179\n",
            "Epoch 5/200\n",
            " - 81s - loss: 0.6909 - acc: 0.5202\n",
            "Epoch 6/200\n",
            " - 86s - loss: 0.6831 - acc: 0.5482\n",
            "Epoch 7/200\n",
            " - 89s - loss: 0.6758 - acc: 0.5762\n",
            "Epoch 8/200\n",
            " - 95s - loss: 0.6929 - acc: 0.5045\n",
            "Epoch 9/200\n",
            " - 96s - loss: 0.6839 - acc: 0.5774\n",
            "Epoch 10/200\n",
            " - 99s - loss: 0.6716 - acc: 0.5807\n",
            "Epoch 11/200\n",
            " - 101s - loss: 0.6647 - acc: 0.6155\n",
            "Epoch 12/200\n",
            " - 98s - loss: 0.6407 - acc: 0.6626\n",
            "Epoch 13/200\n",
            " - 96s - loss: 0.6506 - acc: 0.6413\n",
            "Epoch 14/200\n",
            " - 98s - loss: 0.6547 - acc: 0.6267\n",
            "Epoch 15/200\n",
            " - 99s - loss: 0.6445 - acc: 0.6446\n",
            "Epoch 16/200\n",
            " - 97s - loss: 0.6902 - acc: 0.5572\n",
            "Epoch 17/200\n",
            " - 100s - loss: 0.6832 - acc: 0.5785\n",
            "Epoch 18/200\n",
            " - 96s - loss: 0.6785 - acc: 0.5762\n",
            "Epoch 19/200\n",
            " - 94s - loss: 0.6634 - acc: 0.6211\n",
            "Epoch 20/200\n",
            " - 93s - loss: 0.6495 - acc: 0.6435\n",
            "Epoch 21/200\n",
            " - 94s - loss: 0.6293 - acc: 0.6715\n",
            "Epoch 22/200\n",
            " - 92s - loss: 0.6226 - acc: 0.6726\n",
            "Epoch 23/200\n",
            " - 96s - loss: 0.6207 - acc: 0.6715\n",
            "Epoch 24/200\n",
            " - 94s - loss: 0.6089 - acc: 0.6872\n",
            "Epoch 25/200\n",
            " - 91s - loss: 0.6047 - acc: 0.6816\n",
            "Epoch 26/200\n",
            " - 90s - loss: 0.5921 - acc: 0.7007\n",
            "Epoch 27/200\n",
            " - 94s - loss: 0.5979 - acc: 0.6962\n",
            "Epoch 28/200\n",
            " - 94s - loss: 0.5887 - acc: 0.6906\n",
            "Epoch 29/200\n",
            " - 93s - loss: 0.5931 - acc: 0.6951\n",
            "Epoch 30/200\n",
            " - 93s - loss: 0.5854 - acc: 0.6939\n",
            "Epoch 31/200\n",
            " - 93s - loss: 0.5762 - acc: 0.7085\n",
            "Epoch 32/200\n",
            " - 90s - loss: 0.5735 - acc: 0.7074\n",
            "Epoch 33/200\n",
            " - 93s - loss: 0.5741 - acc: 0.7040\n",
            "Epoch 34/200\n",
            " - 95s - loss: 0.5874 - acc: 0.6996\n",
            "Epoch 35/200\n",
            " - 93s - loss: 0.5842 - acc: 0.6861\n",
            "Epoch 36/200\n",
            " - 93s - loss: 0.5719 - acc: 0.7074\n",
            "Epoch 37/200\n",
            " - 92s - loss: 0.5672 - acc: 0.7096\n",
            "Epoch 38/200\n",
            " - 91s - loss: 0.5669 - acc: 0.7040\n",
            "Epoch 39/200\n",
            " - 94s - loss: 0.5711 - acc: 0.7096\n",
            "Epoch 40/200\n",
            " - 91s - loss: 0.5646 - acc: 0.7130\n",
            "Epoch 41/200\n",
            " - 90s - loss: 0.5654 - acc: 0.7119\n",
            "Epoch 42/200\n",
            " - 93s - loss: 0.5612 - acc: 0.7130\n",
            "Epoch 43/200\n",
            " - 93s - loss: 0.5620 - acc: 0.7096\n",
            "Epoch 44/200\n",
            " - 93s - loss: 0.5600 - acc: 0.7197\n",
            "Epoch 45/200\n",
            " - 94s - loss: 0.5599 - acc: 0.7164\n"
          ],
          "name": "stdout"
        },
        {
          "output_type": "stream",
          "text": [
            "Epoch 46/200\n",
            " - 92s - loss: 0.5575 - acc: 0.7209\n",
            "Epoch 47/200\n",
            " - 94s - loss: 0.5569 - acc: 0.7242\n",
            "Epoch 48/200\n",
            " - 90s - loss: 0.5555 - acc: 0.7152\n",
            "Epoch 49/200\n",
            " - 87s - loss: 0.5553 - acc: 0.7209\n",
            "Epoch 50/200\n",
            " - 89s - loss: 0.5543 - acc: 0.7152\n",
            "Epoch 51/200\n",
            " - 88s - loss: 0.5533 - acc: 0.7197\n",
            "Epoch 52/200\n",
            " - 89s - loss: 0.5531 - acc: 0.7186\n",
            "Epoch 53/200\n",
            " - 87s - loss: 0.5525 - acc: 0.7209\n",
            "Epoch 54/200\n",
            " - 87s - loss: 0.5513 - acc: 0.7197\n",
            "Epoch 55/200\n",
            " - 87s - loss: 0.5518 - acc: 0.7197\n",
            "Epoch 56/200\n",
            " - 86s - loss: 0.5509 - acc: 0.7220\n",
            "Epoch 57/200\n",
            " - 87s - loss: 0.5503 - acc: 0.7231\n",
            "Epoch 58/200\n",
            " - 86s - loss: 0.5501 - acc: 0.7220\n",
            "Epoch 59/200\n",
            " - 85s - loss: 0.5501 - acc: 0.7220\n",
            "Epoch 60/200\n",
            " - 83s - loss: 0.5496 - acc: 0.7209\n",
            "Epoch 61/200\n",
            " - 83s - loss: 0.5491 - acc: 0.7231\n",
            "Epoch 62/200\n",
            " - 80s - loss: 0.5487 - acc: 0.7253\n",
            "Epoch 63/200\n",
            " - 82s - loss: 0.5488 - acc: 0.7231\n",
            "Epoch 64/200\n",
            " - 81s - loss: 0.5484 - acc: 0.7231\n",
            "Epoch 65/200\n",
            " - 83s - loss: 0.5484 - acc: 0.7209\n",
            "Epoch 66/200\n",
            " - 80s - loss: 0.5482 - acc: 0.7231\n",
            "Epoch 67/200\n",
            " - 82s - loss: 0.5481 - acc: 0.7231\n",
            "Epoch 68/200\n",
            " - 83s - loss: 0.5479 - acc: 0.7231\n",
            "Epoch 69/200\n",
            " - 83s - loss: 0.5477 - acc: 0.7265\n",
            "Epoch 70/200\n",
            " - 83s - loss: 0.5478 - acc: 0.7231\n",
            "Epoch 71/200\n",
            " - 81s - loss: 0.5477 - acc: 0.7242\n",
            "Epoch 72/200\n",
            " - 84s - loss: 0.5477 - acc: 0.7231\n",
            "Epoch 73/200\n",
            " - 83s - loss: 0.5475 - acc: 0.7242\n",
            "Epoch 74/200\n",
            " - 83s - loss: 0.5474 - acc: 0.7253\n",
            "Epoch 75/200\n",
            " - 83s - loss: 0.5474 - acc: 0.7242\n",
            "Epoch 76/200\n",
            " - 83s - loss: 0.5474 - acc: 0.7253\n",
            "Epoch 77/200\n",
            " - 82s - loss: 0.5473 - acc: 0.7242\n",
            "Epoch 78/200\n",
            " - 81s - loss: 0.5473 - acc: 0.7242\n",
            "Epoch 79/200\n",
            " - 81s - loss: 0.5472 - acc: 0.7242\n",
            "Epoch 80/200\n",
            " - 81s - loss: 0.5472 - acc: 0.7231\n",
            "Epoch 81/200\n",
            " - 82s - loss: 0.5471 - acc: 0.7253\n",
            "Epoch 82/200\n",
            " - 82s - loss: 0.5471 - acc: 0.7242\n",
            "Epoch 83/200\n",
            " - 84s - loss: 0.5471 - acc: 0.7242\n",
            "Epoch 84/200\n",
            " - 82s - loss: 0.5471 - acc: 0.7231\n",
            "Epoch 85/200\n",
            " - 83s - loss: 0.5470 - acc: 0.7242\n",
            "Epoch 86/200\n",
            " - 82s - loss: 0.5470 - acc: 0.7253\n",
            "Epoch 87/200\n",
            " - 82s - loss: 0.5470 - acc: 0.7242\n",
            "Epoch 88/200\n",
            " - 85s - loss: 0.5470 - acc: 0.7242\n",
            "Epoch 89/200\n",
            " - 83s - loss: 0.5470 - acc: 0.7242\n",
            "Epoch 90/200\n",
            " - 81s - loss: 0.5470 - acc: 0.7242\n"
          ],
          "name": "stdout"
        },
        {
          "output_type": "stream",
          "text": [
            "Epoch 91/200\n",
            " - 79s - loss: 0.5469 - acc: 0.7242\n",
            "Epoch 92/200\n",
            " - 78s - loss: 0.5469 - acc: 0.7242\n",
            "Epoch 93/200\n",
            " - 77s - loss: 0.5469 - acc: 0.7242\n",
            "Epoch 94/200\n",
            " - 78s - loss: 0.5469 - acc: 0.7242\n",
            "Epoch 95/200\n",
            " - 79s - loss: 0.5469 - acc: 0.7242\n",
            "Epoch 96/200\n",
            " - 79s - loss: 0.5469 - acc: 0.7242\n",
            "Epoch 97/200\n",
            " - 73s - loss: 0.5469 - acc: 0.7242\n",
            "Epoch 98/200\n",
            " - 75s - loss: 0.5469 - acc: 0.7242\n",
            "Epoch 99/200\n",
            " - 74s - loss: 0.5469 - acc: 0.7242\n",
            "Epoch 100/200\n",
            " - 75s - loss: 0.5469 - acc: 0.7242\n",
            "Epoch 101/200\n",
            " - 70s - loss: 0.5469 - acc: 0.7242\n",
            "Epoch 102/200\n",
            " - 71s - loss: 0.5469 - acc: 0.7242\n",
            "Epoch 103/200\n",
            " - 71s - loss: 0.5469 - acc: 0.7242\n",
            "Epoch 104/200\n",
            " - 73s - loss: 0.5469 - acc: 0.7242\n",
            "Epoch 105/200\n",
            " - 72s - loss: 0.5469 - acc: 0.7242\n",
            "Epoch 106/200\n",
            " - 71s - loss: 0.5469 - acc: 0.7242\n",
            "Epoch 107/200\n",
            " - 70s - loss: 0.5468 - acc: 0.7242\n",
            "Epoch 108/200\n",
            " - 69s - loss: 0.5468 - acc: 0.7242\n",
            "Epoch 109/200\n",
            " - 72s - loss: 0.5468 - acc: 0.7242\n",
            "Epoch 110/200\n",
            " - 71s - loss: 0.5468 - acc: 0.7242\n",
            "Epoch 111/200\n",
            " - 69s - loss: 0.5468 - acc: 0.7242\n",
            "Epoch 112/200\n",
            " - 72s - loss: 0.5468 - acc: 0.7242\n",
            "Epoch 113/200\n",
            " - 73s - loss: 0.5468 - acc: 0.7242\n",
            "Epoch 114/200\n",
            " - 74s - loss: 0.5468 - acc: 0.7242\n",
            "Epoch 115/200\n",
            " - 72s - loss: 0.5468 - acc: 0.7242\n",
            "Epoch 116/200\n",
            " - 71s - loss: 0.5468 - acc: 0.7242\n",
            "Epoch 117/200\n",
            " - 69s - loss: 0.5468 - acc: 0.7242\n",
            "Epoch 118/200\n",
            " - 72s - loss: 0.5468 - acc: 0.7242\n",
            "Epoch 119/200\n",
            " - 67s - loss: 0.5468 - acc: 0.7242\n",
            "Epoch 120/200\n",
            " - 67s - loss: 0.5468 - acc: 0.7242\n",
            "Epoch 121/200\n",
            " - 71s - loss: 0.5468 - acc: 0.7242\n",
            "Epoch 122/200\n",
            " - 72s - loss: 0.5468 - acc: 0.7242\n",
            "Epoch 123/200\n",
            " - 71s - loss: 0.5468 - acc: 0.7242\n",
            "Epoch 124/200\n",
            " - 72s - loss: 0.5468 - acc: 0.7242\n",
            "Epoch 125/200\n",
            " - 73s - loss: 0.5468 - acc: 0.7242\n",
            "Epoch 126/200\n",
            " - 70s - loss: 0.5468 - acc: 0.7242\n",
            "Epoch 127/200\n",
            " - 71s - loss: 0.5468 - acc: 0.7242\n",
            "Epoch 128/200\n",
            " - 73s - loss: 0.5468 - acc: 0.7242\n",
            "Epoch 129/200\n",
            " - 72s - loss: 0.5468 - acc: 0.7242\n",
            "Epoch 130/200\n",
            " - 72s - loss: 0.5468 - acc: 0.7242\n",
            "Epoch 131/200\n",
            " - 71s - loss: 0.5468 - acc: 0.7242\n",
            "Epoch 132/200\n",
            " - 71s - loss: 0.5468 - acc: 0.7242\n",
            "Epoch 133/200\n",
            " - 72s - loss: 0.5468 - acc: 0.7242\n",
            "Epoch 134/200\n",
            " - 70s - loss: 0.5468 - acc: 0.7242\n",
            "Epoch 135/200\n"
          ],
          "name": "stdout"
        },
        {
          "output_type": "stream",
          "text": [
            " - 72s - loss: 0.5468 - acc: 0.7242\n",
            "Epoch 136/200\n",
            " - 72s - loss: 0.5468 - acc: 0.7242\n",
            "Epoch 137/200\n",
            " - 72s - loss: 0.5468 - acc: 0.7242\n",
            "Epoch 138/200\n",
            " - 72s - loss: 0.5468 - acc: 0.7242\n",
            "Epoch 139/200\n",
            " - 67s - loss: 0.5468 - acc: 0.7242\n",
            "Epoch 140/200\n",
            " - 67s - loss: 0.5468 - acc: 0.7242\n",
            "Epoch 141/200\n",
            " - 65s - loss: 0.5468 - acc: 0.7242\n",
            "Epoch 142/200\n",
            " - 66s - loss: 0.5468 - acc: 0.7242\n",
            "Epoch 143/200\n",
            " - 64s - loss: 0.5468 - acc: 0.7242\n",
            "Epoch 144/200\n",
            " - 63s - loss: 0.5468 - acc: 0.7242\n",
            "Epoch 145/200\n",
            " - 65s - loss: 0.5468 - acc: 0.7242\n",
            "Epoch 146/200\n",
            " - 64s - loss: 0.5468 - acc: 0.7242\n",
            "Epoch 147/200\n",
            " - 68s - loss: 0.5468 - acc: 0.7242\n",
            "Epoch 148/200\n",
            " - 69s - loss: 0.5468 - acc: 0.7242\n",
            "Epoch 149/200\n",
            " - 69s - loss: 0.5468 - acc: 0.7242\n",
            "Epoch 150/200\n",
            " - 69s - loss: 0.5468 - acc: 0.7242\n",
            "Epoch 151/200\n",
            " - 69s - loss: 0.5468 - acc: 0.7242\n",
            "Epoch 152/200\n",
            " - 69s - loss: 0.5468 - acc: 0.7242\n",
            "Epoch 153/200\n",
            " - 68s - loss: 0.5468 - acc: 0.7242\n",
            "Epoch 154/200\n",
            " - 69s - loss: 0.5468 - acc: 0.7242\n",
            "Epoch 155/200\n",
            " - 69s - loss: 0.5468 - acc: 0.7242\n",
            "Epoch 156/200\n",
            " - 67s - loss: 0.5468 - acc: 0.7242\n",
            "Epoch 157/200\n",
            " - 67s - loss: 0.5468 - acc: 0.7242\n",
            "Epoch 158/200\n",
            " - 69s - loss: 0.5468 - acc: 0.7242\n",
            "Epoch 159/200\n",
            " - 68s - loss: 0.5468 - acc: 0.7242\n",
            "Epoch 160/200\n",
            " - 69s - loss: 0.5468 - acc: 0.7242\n",
            "Epoch 161/200\n",
            " - 69s - loss: 0.5468 - acc: 0.7242\n",
            "Epoch 162/200\n",
            " - 67s - loss: 0.5468 - acc: 0.7242\n",
            "Epoch 163/200\n",
            " - 68s - loss: 0.5468 - acc: 0.7242\n",
            "Epoch 164/200\n",
            " - 67s - loss: 0.5468 - acc: 0.7242\n",
            "Epoch 165/200\n",
            " - 68s - loss: 0.5468 - acc: 0.7242\n",
            "Epoch 166/200\n",
            " - 68s - loss: 0.5468 - acc: 0.7242\n",
            "Epoch 167/200\n",
            " - 68s - loss: 0.5468 - acc: 0.7242\n",
            "Epoch 168/200\n",
            " - 68s - loss: 0.5468 - acc: 0.7242\n",
            "Epoch 169/200\n",
            " - 69s - loss: 0.5468 - acc: 0.7242\n",
            "Epoch 170/200\n",
            " - 69s - loss: 0.5468 - acc: 0.7242\n",
            "Epoch 171/200\n",
            " - 68s - loss: 0.5468 - acc: 0.7242\n",
            "Epoch 172/200\n",
            " - 68s - loss: 0.5468 - acc: 0.7242\n",
            "Epoch 173/200\n",
            " - 68s - loss: 0.5468 - acc: 0.7242\n",
            "Epoch 174/200\n",
            " - 68s - loss: 0.5468 - acc: 0.7242\n",
            "Epoch 175/200\n",
            " - 66s - loss: 0.5468 - acc: 0.7242\n",
            "Epoch 176/200\n",
            " - 68s - loss: 0.5468 - acc: 0.7242\n",
            "Epoch 177/200\n",
            " - 68s - loss: 0.5468 - acc: 0.7242\n",
            "Epoch 178/200\n",
            " - 67s - loss: 0.5468 - acc: 0.7242\n",
            "Epoch 179/200\n"
          ],
          "name": "stdout"
        },
        {
          "output_type": "stream",
          "text": [
            " - 67s - loss: 0.5468 - acc: 0.7242\n",
            "Epoch 180/200\n",
            " - 66s - loss: 0.5468 - acc: 0.7242\n",
            "Epoch 181/200\n",
            " - 66s - loss: 0.5468 - acc: 0.7242\n",
            "Epoch 182/200\n",
            " - 67s - loss: 0.5468 - acc: 0.7242\n",
            "Epoch 183/200\n",
            " - 64s - loss: 0.5468 - acc: 0.7242\n",
            "Epoch 184/200\n",
            " - 64s - loss: 0.5468 - acc: 0.7242\n",
            "Epoch 185/200\n",
            " - 65s - loss: 0.5468 - acc: 0.7242\n",
            "Epoch 186/200\n",
            " - 67s - loss: 0.5468 - acc: 0.7242\n",
            "Epoch 187/200\n",
            " - 65s - loss: 0.5468 - acc: 0.7242\n",
            "Epoch 188/200\n",
            " - 67s - loss: 0.5468 - acc: 0.7242\n",
            "Epoch 189/200\n",
            " - 67s - loss: 0.5468 - acc: 0.7242\n",
            "Epoch 190/200\n",
            " - 65s - loss: 0.5468 - acc: 0.7242\n",
            "Epoch 191/200\n",
            " - 65s - loss: 0.5468 - acc: 0.7242\n",
            "Epoch 192/200\n",
            " - 64s - loss: 0.5468 - acc: 0.7242\n",
            "Epoch 193/200\n",
            " - 61s - loss: 0.5468 - acc: 0.7242\n",
            "Epoch 194/200\n",
            " - 61s - loss: 0.5468 - acc: 0.7242\n",
            "Epoch 195/200\n",
            " - 61s - loss: 0.5468 - acc: 0.7242\n",
            "Epoch 196/200\n",
            " - 61s - loss: 0.5468 - acc: 0.7242\n",
            "Epoch 197/200\n",
            " - 59s - loss: 0.5468 - acc: 0.7242\n",
            "Epoch 198/200\n",
            " - 61s - loss: 0.5468 - acc: 0.7242\n",
            "Epoch 199/200\n",
            " - 60s - loss: 0.5468 - acc: 0.7242\n",
            "Epoch 200/200\n",
            " - 61s - loss: 0.5468 - acc: 0.7242\n"
          ],
          "name": "stdout"
        }
      ]
    },
    {
      "metadata": {
        "id": "Lq241ZvXmBgs",
        "colab_type": "code",
        "colab": {
          "base_uri": "https://localhost:8080/",
          "height": 395
        },
        "outputId": "1f1258db-9b14-4891-e7de-90e5999eaf44"
      },
      "cell_type": "code",
      "source": [
        "# Plot the accuracy during training\n",
        "plt.plot(history.history['acc'])\n",
        "plt.title(\"Accuracy during training\")\n",
        "plt.ylabel(\"accuracy\")\n",
        "plt.xlabel(\"epoch\")"
      ],
      "execution_count": 39,
      "outputs": [
        {
          "output_type": "execute_result",
          "data": {
            "text/plain": [
              "Text(0.5,0,'epoch')"
            ]
          },
          "metadata": {
            "tags": []
          },
          "execution_count": 39
        },
        {
          "output_type": "display_data",
          "data": {
            "image/png": "[encoded data removed]",
            "text/plain": [
              "<matplotlib.figure.Figure at 0x7f9f704d40b8>"
            ]
          },
          "metadata": {
            "tags": []
          }
        }
      ]
    },
    {
      "metadata": {
        "id": "XDhfH6d52GUw",
        "colab_type": "code",
        "colab": {
          "base_uri": "https://localhost:8080/",
          "height": 395
        },
        "outputId": "2b42da95-39b2-41e6-aed3-37425e885f98"
      },
      "cell_type": "code",
      "source": [
        "plt.plot(history.history['loss'])\n",
        "plt.title(\"Loss during training\")\n",
        "plt.ylabel(\"loss\")\n",
        "plt.xlabel(\"epoch\")"
      ],
      "execution_count": 40,
      "outputs": [
        {
          "output_type": "execute_result",
          "data": {
            "text/plain": [
              "Text(0.5,0,'epoch')"
            ]
          },
          "metadata": {
            "tags": []
          },
          "execution_count": 40
        },
        {
          "output_type": "display_data",
          "data": {
            "image/png": "[encoded data removed]",
            "text/plain": [
              "<matplotlib.figure.Figure at 0x7f9f704caac8>"
            ]
          },
          "metadata": {
            "tags": []
          }
        }
      ]
    },
    {
      "metadata": {
        "id": "MMhv-sFQCz7h",
        "colab_type": "code",
        "colab": {
          "base_uri": "https://localhost:8080/",
          "height": 55
        },
        "outputId": "27d48396-f0b8-4bab-e98c-d15a2eb9d220"
      },
      "cell_type": "code",
      "source": [
        "# Evalute the same model\n",
        "model.evaluate(x=test_x, y=test_y)\n"
      ],
      "execution_count": 41,
      "outputs": [
        {
          "output_type": "stream",
          "text": [
            "120/120 [==============================] - 1s 8ms/step\n"
          ],
          "name": "stdout"
        },
        {
          "output_type": "execute_result",
          "data": {
            "text/plain": [
              "[0.5427556872367859, 0.7416666626930237]"
            ]
          },
          "metadata": {
            "tags": []
          },
          "execution_count": 41
        }
      ]
    },
    {
      "metadata": {
        "id": "PYF5kaNOMPj8",
        "colab_type": "code",
        "colab": {}
      },
      "cell_type": "code",
      "source": [
        ""
      ],
      "execution_count": 0,
      "outputs": []
    }
  ]
}