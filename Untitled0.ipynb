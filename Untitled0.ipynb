{
  "nbformat": 4,
  "nbformat_minor": 0,
  "metadata": {
    "colab": {
      "name": "Untitled0.ipynb",
      "version": "0.3.2",
      "provenance": [],
      "collapsed_sections": [],
      "toc_visible": true
    },
    "kernelspec": {
      "name": "python3",
      "display_name": "Python 3"
    }
  },
  "cells": [
    {
      "cell_type": "markdown",
      "metadata": {
        "id": "view-in-github",
        "colab_type": "text"
      },
      "source": [
        "[View in Colaboratory](https://colab.research.google.com/github/iegorval/neural_nets/blob/master/Untitled0.ipynb)"
      ]
    },
    {
      "metadata": {
        "id": "oV2qqlq5QmNd",
        "colab_type": "text"
      },
      "cell_type": "markdown",
      "source": [
        "# Getting Ready\n",
        "Prepare the files and the libraries for the experiment."
      ]
    },
    {
      "metadata": {
        "id": "aWQrp_kPQop9",
        "colab_type": "code",
        "colab": {}
      },
      "cell_type": "code",
      "source": [
        "# Installs\n",
        "!pip install -U -q PyDrive"
      ],
      "execution_count": 0,
      "outputs": []
    },
    {
      "metadata": {
        "id": "FAQQdDA9UBDj",
        "colab_type": "code",
        "colab": {
          "base_uri": "https://localhost:8080/",
          "height": 34
        },
        "outputId": "c5bbf63e-a29f-4f9a-c1b6-d6ebbb4aef00"
      },
      "cell_type": "code",
      "source": [
        "# Imports\n",
        "from pydrive.auth import GoogleAuth\n",
        "from pydrive.drive import GoogleDrive\n",
        "from google.colab import auth\n",
        "from oauth2client.client import GoogleCredentials\n",
        "import numpy as np \n",
        "import pandas as pd\n",
        "import matplotlib.pyplot as plt\n",
        "from keras.layers import LSTM, Input, Activation, Dense, TimeDistributed, Dropout, BatchNormalization\n",
        "from keras.models import Sequential\n",
        "from keras import optimizers\n",
        "from keras.callbacks import Callback\n",
        "import keras.backend as K\n",
        "import re\n",
        "from io import StringIO"
      ],
      "execution_count": 3,
      "outputs": [
        {
          "output_type": "stream",
          "text": [
            "Using TensorFlow backend.\n"
          ],
          "name": "stderr"
        }
      ]
    },
    {
      "metadata": {
        "id": "3hcA5ujlQsX7",
        "colab_type": "code",
        "colab": {}
      },
      "cell_type": "code",
      "source": [
        "# PyDrive client\n",
        "auth.authenticate_user()\n",
        "gauth = GoogleAuth()\n",
        "gauth.credentials = GoogleCredentials.get_application_default()\n",
        "drive = GoogleDrive(gauth)\n",
        "# Get all files from the root folder\n",
        "file_list = drive.ListFile({'q': \"'root' in parents and trashed=false\"}).GetList()"
      ],
      "execution_count": 0,
      "outputs": []
    },
    {
      "metadata": {
        "id": "g6sjBvHZcFKB",
        "colab_type": "code",
        "colab": {}
      },
      "cell_type": "code",
      "source": [
        "# Get the .pow files \n",
        "pow_files = [(file['title'], file['id'], re.sub(r'_[0-9]+|.pow', '', file['title'])) \n",
        "             for file in file_list if file['title'].find('.pow')>0]\n",
        "num_examples = len(pow_files)\n",
        "# Get the categories\n",
        "categories = list(set([file_info[2] for file_info in pow_files]))\n",
        "# Get the dictionary of the categories\n",
        "num_cat = len(categories)\n",
        "categories_dict = {categories[i] : i for i in range(num_cat)}"
      ],
      "execution_count": 0,
      "outputs": []
    },
    {
      "metadata": {
        "id": "p9cw30IWh8yK",
        "colab_type": "code",
        "colab": {}
      },
      "cell_type": "code",
      "source": [
        "# Make a list of dataframes along with their corresponding classes\n",
        "list_df = list()\n",
        "for pow_file in pow_files:\n",
        "  f = drive.CreateFile({'id': pow_file[1]})\n",
        "  content = f.GetContentString()\n",
        "  dataIO = StringIO(content)\n",
        "  df = pd.read_csv(dataIO, header=None, sep=' ')\n",
        "  list_df.append((df, to_one_hot(categories_dict[pow_file[2]])))"
      ],
      "execution_count": 0,
      "outputs": []
    },
    {
      "metadata": {
        "id": "gAXuechYyXpq",
        "colab_type": "text"
      },
      "cell_type": "markdown",
      "source": [
        "# Utils\n",
        "Helper functions."
      ]
    },
    {
      "metadata": {
        "id": "wJwNdX5UyT1a",
        "colab_type": "code",
        "colab": {}
      },
      "cell_type": "code",
      "source": [
        "def to_one_hot(category):\n",
        "  assert category < num_cat\n",
        "  one_hot = np.zeros((num_cat))\n",
        "  one_hot[category] = 1\n",
        "  return one_hot"
      ],
      "execution_count": 0,
      "outputs": []
    },
    {
      "metadata": {
        "id": "TVWW1kVnMNxP",
        "colab_type": "code",
        "colab": {}
      },
      "cell_type": "code",
      "source": [
        "def from_one_hot(one_hot):\n",
        "  for i in range(len(one_hot)):\n",
        "    if one_hot[i]==1:\n",
        "      return i"
      ],
      "execution_count": 0,
      "outputs": []
    },
    {
      "metadata": {
        "id": "_OimloG8Qbh6",
        "colab_type": "code",
        "colab": {}
      },
      "cell_type": "code",
      "source": [
        "def get_toy_data():\n",
        "  # TOY DATA\n",
        "  times_list = [(np.transpose(np.array(df_cut[0][[0]])), df_cut[1]) for df_cut in list_df_cut]\n",
        "  times_long = [(np.transpose(times[0]), times[1]) for times in times_list if times[0].shape[1]>=max_length]\n",
        "  times_no_labels = [times[0] for times in times_long]\n",
        "  \n",
        "  num_cat = 2\n",
        "  # Generate first class of data\n",
        "  cos_data = [np.cos(times) for times in times_no_labels]\n",
        "  cos_y = [to_one_hot(0)] * len(cos_data)\n",
        "  # Generate second class of data\n",
        "  arccos_data = [np.arccos(np.cos(times)) for times in times_no_labels]\n",
        "  arccos_y = [to_one_hot(1)] * len(arccos_data) \n",
        "  # Combine together\n",
        "  toy_data = cos_data + arccos_data\n",
        "  # Skip some timesteps\n",
        "  skip = 10\n",
        "  toy_skip = list()\n",
        "  for toy_example in toy_data:\n",
        "    toy_skip.append(list())\n",
        "    i = 0\n",
        "    while True:\n",
        "      toy_skip[-1].append(toy_example[i])\n",
        "      i += skip\n",
        "      if i >= len(toy_example):\n",
        "        break\n",
        "  \n",
        "  toy_x = np.stack(toy_skip, axis=0)\n",
        "  toy_y = np.array(cos_y + arccos_y)\n",
        "  return toy_x, toy_y"
      ],
      "execution_count": 0,
      "outputs": []
    },
    {
      "metadata": {
        "id": "sMx7hyVBb1sQ",
        "colab_type": "code",
        "colab": {
          "base_uri": "https://localhost:8080/",
          "height": 364
        },
        "outputId": "7598ed7b-ec54-4d78-bf26-e548982d8fc7"
      },
      "cell_type": "code",
      "source": [
        "toy_x, toy_y = get_toy_data()\n",
        "plt.plot(toy_x[0])"
      ],
      "execution_count": 100,
      "outputs": [
        {
          "output_type": "execute_result",
          "data": {
            "text/plain": [
              "[<matplotlib.lines.Line2D at 0x7fcf69e234e0>]"
            ]
          },
          "metadata": {
            "tags": []
          },
          "execution_count": 100
        },
        {
          "output_type": "display_data",
          "data": {
            "image/png": "[encoded data removed]",
            "text/plain": [
              "<matplotlib.figure.Figure at 0x7fcf6a062438>"
            ]
          },
          "metadata": {
            "tags": []
          }
        }
      ]
    },
    {
      "metadata": {
        "id": "0bfZo4MevEmv",
        "colab_type": "text"
      },
      "cell_type": "markdown",
      "source": [
        "# Model\n",
        "Recurrent Neural Network model in Keras."
      ]
    },
    {
      "metadata": {
        "id": "HAbg2Knco78O",
        "colab_type": "code",
        "colab": {}
      },
      "cell_type": "code",
      "source": [
        "def get_model():\n",
        "  model = Sequential()\n",
        "  #model.add(BatchNormalization(input_shape=(max_length//skip,1)))\n",
        "  model.add(LSTM(64, return_sequences=True, input_shape=(max_length//skip,1)))\n",
        "  model.add(Dropout(0.4))\n",
        "  model.add(LSTM(64))\n",
        "  model.add(Dropout(0.4))\n",
        "  \n",
        "  #model.add(LSTM(128, return_sequences=False))\n",
        "  model.add(Dense(num_cat))\n",
        "  model.add(Activation(\"softmax\"))\n",
        "  return model"
      ],
      "execution_count": 0,
      "outputs": []
    },
    {
      "metadata": {
        "id": "xzVxrl55U4dR",
        "colab_type": "text"
      },
      "cell_type": "markdown",
      "source": [
        "# Data\n",
        "Preprocess the data: combine all the examples together and introduce padding where necessary. Split the longest time series in the several smaller ones."
      ]
    },
    {
      "metadata": {
        "id": "0JxLBoY_i4li",
        "colab_type": "code",
        "colab": {}
      },
      "cell_type": "code",
      "source": [
        "# Split the biggest examples into separate sequences\n",
        "max_length = 1000\n",
        "long_dfs = [i for i in range(len(list_df)) if list_df[i][0].shape[0] > max_length]\n",
        "list_df_cut = list(list_df)\n",
        "max_examples = 25 #75\n",
        "examples_categories = {0: 0, 1: 0, 2: 0, 3: 0, 4: 0, 5: 0}\n",
        "for i in reversed(long_dfs):\n",
        "  df = list_df_cut[i][0]\n",
        "  category = from_one_hot(list_df_cut[i][1])\n",
        "  for g, split_df in df.groupby(np.arange(len(df)) // max_length):\n",
        "    if examples_categories[category] < max_examples:\n",
        "      list_df_cut.append((split_df, list_df[i][1]))\n",
        "      examples_categories[category] += 1\n",
        "  del list_df_cut[i]"
      ],
      "execution_count": 0,
      "outputs": []
    },
    {
      "metadata": {
        "id": "y1T3HWkIm1lw",
        "colab_type": "code",
        "colab": {}
      },
      "cell_type": "code",
      "source": [
        "# Get only the measurements for current\n",
        "currents_list = [(np.transpose(np.array(df_cut[0][[2]])), df_cut[1]) for df_cut in list_df_cut]\n",
        "currents_long = [(np.transpose(currents[0]), currents[1]) for currents in currents_list if currents[0].shape[1]>=max_length]\n",
        "currents_no_labels = [currents[0] for currents in currents_long]\n",
        "# Pad the measurements with 0s from the beginning\n",
        "#currents_pad = [np.transpose(sequence.pad_sequences(currents[0], maxlen=max_length, dtype='float64')) for currents in currents_list]"
      ],
      "execution_count": 0,
      "outputs": []
    },
    {
      "metadata": {
        "id": "l1tC1WDSjQw8",
        "colab_type": "code",
        "colab": {
          "base_uri": "https://localhost:8080/",
          "height": 366
        },
        "outputId": "98ebcc7c-4f83-4122-b36c-5e44c91d9028"
      },
      "cell_type": "code",
      "source": [
        "plt.plot(currents_no_labels[0])"
      ],
      "execution_count": 15,
      "outputs": [
        {
          "output_type": "execute_result",
          "data": {
            "text/plain": [
              "[<matplotlib.lines.Line2D at 0x7f4bf413c5c0>]"
            ]
          },
          "metadata": {
            "tags": []
          },
          "execution_count": 15
        },
        {
          "output_type": "display_data",
          "data": {
            "image/png": "[encoded data removed]",
            "text/plain": [
              "<matplotlib.figure.Figure at 0x7f4bf40a4ac8>"
            ]
          },
          "metadata": {
            "tags": []
          }
        }
      ]
    },
    {
      "metadata": {
        "id": "fDc3SUp6BPE8",
        "colab_type": "code",
        "colab": {}
      },
      "cell_type": "code",
      "source": [
        "# Skip some timesteps\n",
        "skip = 10\n",
        "currents_skip = list()\n",
        "for currents in currents_no_labels:\n",
        "  currents_skip.append(list())\n",
        "  i = 0\n",
        "  while True:\n",
        "    currents_skip[-1].append(currents[i])\n",
        "    i += skip\n",
        "    if i >= len(currents):\n",
        "      break"
      ],
      "execution_count": 0,
      "outputs": []
    },
    {
      "metadata": {
        "id": "JPVtIqrJjaDz",
        "colab_type": "code",
        "colab": {
          "base_uri": "https://localhost:8080/",
          "height": 368
        },
        "outputId": "3d492d30-0c15-46df-e878-713edea6a619"
      },
      "cell_type": "code",
      "source": [
        "plt.plot(currents_skip[0])"
      ],
      "execution_count": 17,
      "outputs": [
        {
          "output_type": "execute_result",
          "data": {
            "text/plain": [
              "[<matplotlib.lines.Line2D at 0x7f4bf1f043c8>]"
            ]
          },
          "metadata": {
            "tags": []
          },
          "execution_count": 17
        },
        {
          "output_type": "display_data",
          "data": {
            "image/png": "[encoded data removed]",
            "text/plain": [
              "<matplotlib.figure.Figure at 0x7f4bf40b5940>"
            ]
          },
          "metadata": {
            "tags": []
          }
        }
      ]
    },
    {
      "metadata": {
        "id": "b2pEzVQUESSD",
        "colab_type": "code",
        "colab": {}
      },
      "cell_type": "code",
      "source": [
        "# Get training data into a numpy matrix\n",
        "train_x = np.stack(currents_skip, axis=0)\n",
        "# Get training labels\n",
        "train_y = np.array([currents[1] for currents in currents_long])\n",
        "train_y_labels = [from_one_hot(one_hot) for one_hot in train_y]"
      ],
      "execution_count": 0,
      "outputs": []
    },
    {
      "metadata": {
        "id": "RWwIa0O_k0WX",
        "colab_type": "code",
        "colab": {
          "base_uri": "https://localhost:8080/",
          "height": 34
        },
        "outputId": "e78bd8b2-0659-4776-be9d-5fdf384fa8a6"
      },
      "cell_type": "code",
      "source": [
        "print(train_x.shape, train_y.shape)"
      ],
      "execution_count": 19,
      "outputs": [
        {
          "output_type": "stream",
          "text": [
            "(98, 100, 1) (98, 6)\n"
          ],
          "name": "stdout"
        }
      ]
    },
    {
      "metadata": {
        "id": "K9kyzpWhMrSc",
        "colab_type": "text"
      },
      "cell_type": "markdown",
      "source": [
        "# Experiment"
      ]
    },
    {
      "metadata": {
        "id": "18uzH69xywMu",
        "colab_type": "code",
        "colab": {
          "base_uri": "https://localhost:8080/",
          "height": 340
        },
        "outputId": "c6ffe7cc-3ce8-45ed-aa9d-2e1131b06fba"
      },
      "cell_type": "code",
      "source": [
        "model = get_model()\n",
        "model.summary()"
      ],
      "execution_count": 23,
      "outputs": [
        {
          "output_type": "stream",
          "text": [
            "_________________________________________________________________\n",
            "Layer (type)                 Output Shape              Param #   \n",
            "=================================================================\n",
            "lstm_3 (LSTM)                (None, 100, 64)           16896     \n",
            "_________________________________________________________________\n",
            "dropout_3 (Dropout)          (None, 100, 64)           0         \n",
            "_________________________________________________________________\n",
            "lstm_4 (LSTM)                (None, 64)                33024     \n",
            "_________________________________________________________________\n",
            "dropout_4 (Dropout)          (None, 64)                0         \n",
            "_________________________________________________________________\n",
            "dense_2 (Dense)              (None, 6)                 390       \n",
            "_________________________________________________________________\n",
            "activation_2 (Activation)    (None, 6)                 0         \n",
            "=================================================================\n",
            "Total params: 50,310\n",
            "Trainable params: 50,310\n",
            "Non-trainable params: 0\n",
            "_________________________________________________________________\n"
          ],
          "name": "stdout"
        }
      ]
    },
    {
      "metadata": {
        "id": "KqW5KT0hR6Iz",
        "colab_type": "code",
        "colab": {}
      },
      "cell_type": "code",
      "source": [
        "#rms = optimizers.RMSprop(lr=1e-15)\n",
        "#sgd = optimizers.SGD(lr=0.0000000000000000000001, momentum=0.0, decay=0.0, nesterov=False)\n",
        "model.compile(loss='categorical_crossentropy', optimizer='rmsprop', metrics=['accuracy'])"
      ],
      "execution_count": 0,
      "outputs": []
    },
    {
      "metadata": {
        "id": "cKnrvOYa8h8G",
        "colab_type": "code",
        "colab": {
          "base_uri": "https://localhost:8080/",
          "height": 17017
        },
        "outputId": "7ac8ea9b-f7c3-4f80-9513-5c40d90209ac"
      },
      "cell_type": "code",
      "source": [
        "history = model.fit(train_x, train_y, epochs = 500, batch_size=4)\n",
        "#history = model.fit(toy_x, toy_y, epochs = 50, batch_size=4)"
      ],
      "execution_count": 25,
      "outputs": [
        {
          "output_type": "stream",
          "text": [
            "Epoch 1/500\n",
            "98/98 [==============================] - 4s 41ms/step - loss: 1.7966 - acc: 0.1429\n",
            "Epoch 2/500\n",
            "98/98 [==============================] - 3s 32ms/step - loss: 1.7702 - acc: 0.2449\n",
            "Epoch 3/500\n",
            "98/98 [==============================] - 3s 32ms/step - loss: 1.7703 - acc: 0.2551\n",
            "Epoch 4/500\n",
            "98/98 [==============================] - 3s 32ms/step - loss: 1.7672 - acc: 0.2551\n",
            "Epoch 5/500\n",
            "98/98 [==============================] - 3s 32ms/step - loss: 1.7518 - acc: 0.2347\n",
            "Epoch 6/500\n",
            "98/98 [==============================] - 3s 32ms/step - loss: 1.7728 - acc: 0.1939\n",
            "Epoch 7/500\n",
            "98/98 [==============================] - 3s 32ms/step - loss: 1.7568 - acc: 0.2449\n",
            "Epoch 8/500\n",
            "98/98 [==============================] - 3s 32ms/step - loss: 1.7488 - acc: 0.2755\n",
            "Epoch 9/500\n",
            "56/98 [================>.............] - ETA: 1s - loss: 1.7639 - acc: 0.2321"
          ],
          "name": "stdout"
        },
        {
          "output_type": "stream",
          "text": [
            "98/98 [==============================] - 3s 32ms/step - loss: 1.7592 - acc: 0.2755\n",
            "Epoch 10/500\n",
            "98/98 [==============================] - 3s 31ms/step - loss: 1.7559 - acc: 0.2755\n",
            "Epoch 11/500\n",
            "98/98 [==============================] - 3s 32ms/step - loss: 1.7707 - acc: 0.2449\n",
            "Epoch 12/500\n",
            "98/98 [==============================] - 3s 31ms/step - loss: 1.7560 - acc: 0.2449\n",
            "Epoch 13/500\n",
            "98/98 [==============================] - 3s 32ms/step - loss: 1.7458 - acc: 0.2857\n",
            "Epoch 14/500\n",
            "98/98 [==============================] - 3s 32ms/step - loss: 1.7449 - acc: 0.2653\n",
            "Epoch 15/500\n",
            "98/98 [==============================] - 3s 31ms/step - loss: 1.7486 - acc: 0.2551\n",
            "Epoch 16/500\n",
            "98/98 [==============================] - 3s 32ms/step - loss: 1.7447 - acc: 0.2551\n",
            "Epoch 17/500\n",
            "68/98 [===================>..........] - ETA: 0s - loss: 1.7259 - acc: 0.2794"
          ],
          "name": "stdout"
        },
        {
          "output_type": "stream",
          "text": [
            "98/98 [==============================] - 3s 32ms/step - loss: 1.7409 - acc: 0.2755\n",
            "Epoch 18/500\n",
            "98/98 [==============================] - 3s 32ms/step - loss: 1.7436 - acc: 0.2245\n",
            "Epoch 19/500\n",
            "98/98 [==============================] - 3s 33ms/step - loss: 1.7267 - acc: 0.2551\n",
            "Epoch 20/500\n",
            "98/98 [==============================] - 3s 32ms/step - loss: 1.8280 - acc: 0.2755\n",
            "Epoch 21/500\n",
            "98/98 [==============================] - 3s 32ms/step - loss: 1.7300 - acc: 0.3163\n",
            "Epoch 22/500\n",
            "98/98 [==============================] - 3s 32ms/step - loss: 1.7496 - acc: 0.3367\n",
            "Epoch 23/500\n",
            "98/98 [==============================] - 3s 32ms/step - loss: 1.6910 - acc: 0.2857\n",
            "Epoch 24/500\n",
            "98/98 [==============================] - 3s 32ms/step - loss: 1.7032 - acc: 0.3061\n",
            "Epoch 25/500\n",
            "68/98 [===================>..........] - ETA: 0s - loss: 1.6430 - acc: 0.3088"
          ],
          "name": "stdout"
        },
        {
          "output_type": "stream",
          "text": [
            "98/98 [==============================] - 3s 31ms/step - loss: 1.7249 - acc: 0.2653\n",
            "Epoch 26/500\n",
            "98/98 [==============================] - 3s 32ms/step - loss: 1.7112 - acc: 0.3061\n",
            "Epoch 27/500\n",
            "98/98 [==============================] - 3s 32ms/step - loss: 1.6750 - acc: 0.2245\n",
            "Epoch 28/500\n",
            "98/98 [==============================] - 3s 32ms/step - loss: 1.7004 - acc: 0.2551\n",
            "Epoch 29/500\n",
            "98/98 [==============================] - 3s 32ms/step - loss: 1.6686 - acc: 0.2755\n",
            "Epoch 30/500\n",
            "98/98 [==============================] - 3s 31ms/step - loss: 1.7122 - acc: 0.3776\n",
            "Epoch 31/500\n",
            "98/98 [==============================] - 3s 32ms/step - loss: 1.6540 - acc: 0.2347\n",
            "Epoch 32/500\n",
            "98/98 [==============================] - 3s 32ms/step - loss: 1.6279 - acc: 0.3367\n",
            "Epoch 33/500\n",
            "68/98 [===================>..........] - ETA: 0s - loss: 2.3122 - acc: 0.1618"
          ],
          "name": "stdout"
        },
        {
          "output_type": "stream",
          "text": [
            "98/98 [==============================] - 3s 31ms/step - loss: 2.2085 - acc: 0.1735\n",
            "Epoch 34/500\n",
            "98/98 [==============================] - 3s 31ms/step - loss: 1.9688 - acc: 0.2041\n",
            "Epoch 35/500\n",
            "98/98 [==============================] - 3s 33ms/step - loss: 1.8969 - acc: 0.1633\n",
            "Epoch 36/500\n",
            "98/98 [==============================] - 3s 33ms/step - loss: 1.8743 - acc: 0.1837\n",
            "Epoch 37/500\n",
            "98/98 [==============================] - 3s 32ms/step - loss: 1.8446 - acc: 0.1429\n",
            "Epoch 38/500\n",
            "98/98 [==============================] - 3s 32ms/step - loss: 1.8604 - acc: 0.2143\n",
            "Epoch 39/500\n",
            "98/98 [==============================] - 3s 32ms/step - loss: 1.8669 - acc: 0.1327\n",
            "Epoch 40/500\n",
            "98/98 [==============================] - 3s 32ms/step - loss: 1.7821 - acc: 0.2143\n",
            "Epoch 41/500\n",
            "68/98 [===================>..........] - ETA: 0s - loss: 1.8686 - acc: 0.1912"
          ],
          "name": "stdout"
        },
        {
          "output_type": "stream",
          "text": [
            "98/98 [==============================] - 3s 31ms/step - loss: 1.8599 - acc: 0.1837\n",
            "Epoch 42/500\n",
            "98/98 [==============================] - 3s 32ms/step - loss: 1.7643 - acc: 0.2755\n",
            "Epoch 43/500\n",
            "98/98 [==============================] - 3s 32ms/step - loss: 1.8230 - acc: 0.2449\n",
            "Epoch 44/500\n",
            "98/98 [==============================] - 3s 32ms/step - loss: 1.8208 - acc: 0.1633\n",
            "Epoch 45/500\n",
            "98/98 [==============================] - 3s 32ms/step - loss: 1.8157 - acc: 0.1633\n",
            "Epoch 46/500\n",
            "98/98 [==============================] - 3s 32ms/step - loss: 1.8036 - acc: 0.2347\n",
            "Epoch 47/500\n",
            "98/98 [==============================] - 3s 32ms/step - loss: 1.8168 - acc: 0.2245\n",
            "Epoch 48/500\n",
            "98/98 [==============================] - 3s 32ms/step - loss: 1.8123 - acc: 0.2347\n",
            "Epoch 49/500\n",
            "68/98 [===================>..........] - ETA: 0s - loss: 1.8102 - acc: 0.1765"
          ],
          "name": "stdout"
        },
        {
          "output_type": "stream",
          "text": [
            "98/98 [==============================] - 3s 31ms/step - loss: 1.8084 - acc: 0.1735\n",
            "Epoch 50/500\n",
            "98/98 [==============================] - 3s 32ms/step - loss: 1.7869 - acc: 0.1939\n",
            "Epoch 51/500\n",
            "98/98 [==============================] - 3s 32ms/step - loss: 1.7828 - acc: 0.2347\n",
            "Epoch 52/500\n",
            "98/98 [==============================] - 3s 32ms/step - loss: 1.7956 - acc: 0.2449\n",
            "Epoch 53/500\n",
            "98/98 [==============================] - 3s 31ms/step - loss: 1.7974 - acc: 0.2551\n",
            "Epoch 54/500\n",
            "98/98 [==============================] - 3s 32ms/step - loss: 1.7552 - acc: 0.2653\n",
            "Epoch 55/500\n",
            "98/98 [==============================] - 3s 32ms/step - loss: 1.7670 - acc: 0.2245\n",
            "Epoch 56/500\n",
            "98/98 [==============================] - 3s 32ms/step - loss: 1.7373 - acc: 0.2959\n",
            "Epoch 57/500\n",
            "68/98 [===================>..........] - ETA: 0s - loss: 1.7278 - acc: 0.3529"
          ],
          "name": "stdout"
        },
        {
          "output_type": "stream",
          "text": [
            "98/98 [==============================] - 3s 32ms/step - loss: 1.7654 - acc: 0.3163\n",
            "Epoch 58/500\n",
            "98/98 [==============================] - 3s 32ms/step - loss: 1.7447 - acc: 0.2551\n",
            "Epoch 59/500\n",
            "98/98 [==============================] - 3s 32ms/step - loss: 1.7875 - acc: 0.2653\n",
            "Epoch 60/500\n",
            "98/98 [==============================] - 3s 32ms/step - loss: 1.7925 - acc: 0.2143\n",
            "Epoch 61/500\n",
            "98/98 [==============================] - 3s 32ms/step - loss: 1.7618 - acc: 0.2041\n",
            "Epoch 62/500\n",
            "98/98 [==============================] - 3s 32ms/step - loss: 1.8215 - acc: 0.2347\n",
            "Epoch 63/500\n",
            "98/98 [==============================] - 3s 32ms/step - loss: 1.7649 - acc: 0.2449\n",
            "Epoch 64/500\n",
            "98/98 [==============================] - 3s 32ms/step - loss: 1.8100 - acc: 0.2041\n",
            "Epoch 65/500\n",
            "68/98 [===================>..........] - ETA: 0s - loss: 1.8579 - acc: 0.2353"
          ],
          "name": "stdout"
        },
        {
          "output_type": "stream",
          "text": [
            "98/98 [==============================] - 3s 32ms/step - loss: 1.8359 - acc: 0.2245\n",
            "Epoch 66/500\n",
            "98/98 [==============================] - 3s 32ms/step - loss: 1.7711 - acc: 0.2347\n",
            "Epoch 67/500\n",
            "98/98 [==============================] - 3s 32ms/step - loss: 1.7192 - acc: 0.2653\n",
            "Epoch 68/500\n",
            "98/98 [==============================] - 3s 31ms/step - loss: 1.7127 - acc: 0.3061\n",
            "Epoch 69/500\n",
            "98/98 [==============================] - 3s 32ms/step - loss: 1.6558 - acc: 0.3469\n",
            "Epoch 70/500\n",
            "98/98 [==============================] - 3s 32ms/step - loss: 1.6908 - acc: 0.3163\n",
            "Epoch 71/500\n",
            "98/98 [==============================] - 3s 32ms/step - loss: 1.7264 - acc: 0.2551\n",
            "Epoch 72/500\n",
            "98/98 [==============================] - 3s 32ms/step - loss: 1.6448 - acc: 0.3265\n",
            "Epoch 73/500\n",
            "68/98 [===================>..........] - ETA: 0s - loss: 1.7078 - acc: 0.2647"
          ],
          "name": "stdout"
        },
        {
          "output_type": "stream",
          "text": [
            "98/98 [==============================] - 3s 32ms/step - loss: 1.6686 - acc: 0.2653\n",
            "Epoch 74/500\n",
            "98/98 [==============================] - 3s 32ms/step - loss: 1.6532 - acc: 0.3265\n",
            "Epoch 75/500\n",
            "98/98 [==============================] - 3s 32ms/step - loss: 1.6173 - acc: 0.3163\n",
            "Epoch 76/500\n",
            "98/98 [==============================] - 3s 33ms/step - loss: 1.5920 - acc: 0.3367\n",
            "Epoch 77/500\n",
            "98/98 [==============================] - 3s 32ms/step - loss: 1.6335 - acc: 0.3265\n",
            "Epoch 78/500\n",
            "98/98 [==============================] - 3s 32ms/step - loss: 1.5913 - acc: 0.3571\n",
            "Epoch 79/500\n",
            "98/98 [==============================] - 3s 33ms/step - loss: 1.5754 - acc: 0.3878\n",
            "Epoch 80/500\n",
            "98/98 [==============================] - 3s 32ms/step - loss: 1.6100 - acc: 0.3469\n",
            "Epoch 81/500\n",
            "68/98 [===================>..........] - ETA: 0s - loss: 1.5348 - acc: 0.3824"
          ],
          "name": "stdout"
        },
        {
          "output_type": "stream",
          "text": [
            "98/98 [==============================] - 3s 32ms/step - loss: 1.5485 - acc: 0.3776\n",
            "Epoch 82/500\n",
            "98/98 [==============================] - 3s 32ms/step - loss: 1.6072 - acc: 0.3571\n",
            "Epoch 83/500\n",
            "98/98 [==============================] - 3s 32ms/step - loss: 1.5589 - acc: 0.3776\n",
            "Epoch 84/500\n",
            "98/98 [==============================] - 3s 31ms/step - loss: 1.5398 - acc: 0.4082\n",
            "Epoch 85/500\n",
            "98/98 [==============================] - 3s 31ms/step - loss: 1.5141 - acc: 0.4082\n",
            "Epoch 86/500\n",
            "98/98 [==============================] - 3s 32ms/step - loss: 1.5543 - acc: 0.3980\n",
            "Epoch 87/500\n",
            "98/98 [==============================] - 3s 32ms/step - loss: 1.5411 - acc: 0.3265\n",
            "Epoch 88/500\n",
            "98/98 [==============================] - 3s 32ms/step - loss: 1.5478 - acc: 0.3571\n",
            "Epoch 89/500\n",
            "68/98 [===================>..........] - ETA: 0s - loss: 1.4523 - acc: 0.4118"
          ],
          "name": "stdout"
        },
        {
          "output_type": "stream",
          "text": [
            "98/98 [==============================] - 3s 32ms/step - loss: 1.5073 - acc: 0.3571\n",
            "Epoch 90/500\n",
            "98/98 [==============================] - 3s 32ms/step - loss: 1.5228 - acc: 0.3469\n",
            "Epoch 91/500\n",
            "98/98 [==============================] - 3s 32ms/step - loss: 1.5027 - acc: 0.3571\n",
            "Epoch 92/500\n",
            "98/98 [==============================] - 3s 31ms/step - loss: 1.5156 - acc: 0.3980\n",
            "Epoch 93/500\n",
            "98/98 [==============================] - 3s 31ms/step - loss: 1.4522 - acc: 0.4388\n",
            "Epoch 94/500\n",
            "98/98 [==============================] - 3s 32ms/step - loss: 1.5201 - acc: 0.3571\n",
            "Epoch 95/500\n",
            "98/98 [==============================] - 3s 32ms/step - loss: 1.5091 - acc: 0.3367\n",
            "Epoch 96/500\n",
            "98/98 [==============================] - 3s 31ms/step - loss: 1.5627 - acc: 0.3571\n",
            "Epoch 97/500\n",
            "68/98 [===================>..........] - ETA: 0s - loss: 1.4756 - acc: 0.4118"
          ],
          "name": "stdout"
        },
        {
          "output_type": "stream",
          "text": [
            "98/98 [==============================] - 3s 32ms/step - loss: 1.4592 - acc: 0.4286\n",
            "Epoch 98/500\n",
            "98/98 [==============================] - 3s 31ms/step - loss: 1.4730 - acc: 0.4082\n",
            "Epoch 99/500\n",
            "98/98 [==============================] - 3s 31ms/step - loss: 1.5230 - acc: 0.3878\n",
            "Epoch 100/500\n",
            "98/98 [==============================] - 3s 30ms/step - loss: 1.4675 - acc: 0.4082\n",
            "Epoch 101/500\n",
            "98/98 [==============================] - 3s 31ms/step - loss: 1.4760 - acc: 0.3673\n",
            "Epoch 102/500\n",
            "98/98 [==============================] - 3s 31ms/step - loss: 1.4497 - acc: 0.3776\n",
            "Epoch 103/500\n",
            "98/98 [==============================] - 3s 31ms/step - loss: 1.5234 - acc: 0.3776\n",
            "Epoch 104/500\n",
            "98/98 [==============================] - 3s 31ms/step - loss: 1.4309 - acc: 0.4490\n",
            "Epoch 105/500\n",
            "68/98 [===================>..........] - ETA: 0s - loss: 1.3220 - acc: 0.4853"
          ],
          "name": "stdout"
        },
        {
          "output_type": "stream",
          "text": [
            "98/98 [==============================] - 3s 32ms/step - loss: 1.4101 - acc: 0.4184\n",
            "Epoch 106/500\n",
            "98/98 [==============================] - 3s 31ms/step - loss: 1.4222 - acc: 0.4184\n",
            "Epoch 107/500\n",
            "98/98 [==============================] - 3s 31ms/step - loss: 1.4297 - acc: 0.3878\n",
            "Epoch 108/500\n",
            "98/98 [==============================] - 3s 31ms/step - loss: 1.4626 - acc: 0.4286\n",
            "Epoch 109/500\n",
            "98/98 [==============================] - 3s 31ms/step - loss: 1.4366 - acc: 0.3980\n",
            "Epoch 110/500\n",
            "98/98 [==============================] - 3s 31ms/step - loss: 1.4998 - acc: 0.3980\n",
            "Epoch 111/500\n",
            "98/98 [==============================] - 3s 31ms/step - loss: 1.4086 - acc: 0.3980\n",
            "Epoch 112/500\n",
            "98/98 [==============================] - 3s 30ms/step - loss: 1.4390 - acc: 0.3673\n",
            "Epoch 113/500\n",
            "64/98 [==================>...........] - ETA: 1s - loss: 1.5022 - acc: 0.3906"
          ],
          "name": "stdout"
        },
        {
          "output_type": "stream",
          "text": [
            "98/98 [==============================] - 3s 30ms/step - loss: 1.4176 - acc: 0.4490\n",
            "Epoch 114/500\n",
            "98/98 [==============================] - 3s 30ms/step - loss: 1.4259 - acc: 0.3980\n",
            "Epoch 115/500\n",
            "98/98 [==============================] - 3s 30ms/step - loss: 1.4893 - acc: 0.4490\n",
            "Epoch 116/500\n",
            "98/98 [==============================] - 3s 30ms/step - loss: 1.4957 - acc: 0.4184\n",
            "Epoch 117/500\n",
            "98/98 [==============================] - 3s 31ms/step - loss: 1.3901 - acc: 0.4286\n",
            "Epoch 118/500\n",
            "98/98 [==============================] - 3s 31ms/step - loss: 1.4007 - acc: 0.4694\n",
            "Epoch 119/500\n",
            "98/98 [==============================] - 3s 30ms/step - loss: 1.3411 - acc: 0.4898\n",
            "Epoch 120/500\n",
            "98/98 [==============================] - 3s 31ms/step - loss: 1.3253 - acc: 0.4490\n",
            "Epoch 121/500\n",
            "64/98 [==================>...........] - ETA: 1s - loss: 1.5017 - acc: 0.4688"
          ],
          "name": "stdout"
        },
        {
          "output_type": "stream",
          "text": [
            "98/98 [==============================] - 3s 30ms/step - loss: 1.4304 - acc: 0.4796\n",
            "Epoch 122/500\n",
            "98/98 [==============================] - 3s 29ms/step - loss: 1.4225 - acc: 0.3367\n",
            "Epoch 123/500\n",
            "98/98 [==============================] - 3s 31ms/step - loss: 1.3406 - acc: 0.4490\n",
            "Epoch 124/500\n",
            "98/98 [==============================] - 3s 30ms/step - loss: 1.4367 - acc: 0.4490\n",
            "Epoch 125/500\n",
            "98/98 [==============================] - 3s 30ms/step - loss: 1.4147 - acc: 0.4184\n",
            "Epoch 126/500\n",
            "98/98 [==============================] - 3s 31ms/step - loss: 1.3152 - acc: 0.4286\n",
            "Epoch 127/500\n",
            "98/98 [==============================] - 3s 30ms/step - loss: 1.2925 - acc: 0.4592\n",
            "Epoch 128/500\n",
            "98/98 [==============================] - 3s 30ms/step - loss: 1.3073 - acc: 0.4796\n",
            "Epoch 129/500\n",
            "64/98 [==================>...........] - ETA: 0s - loss: 1.2507 - acc: 0.5469"
          ],
          "name": "stdout"
        },
        {
          "output_type": "stream",
          "text": [
            "98/98 [==============================] - 3s 30ms/step - loss: 1.2551 - acc: 0.5306\n",
            "Epoch 130/500\n",
            "98/98 [==============================] - 3s 31ms/step - loss: 1.3565 - acc: 0.4796\n",
            "Epoch 131/500\n",
            "98/98 [==============================] - 3s 31ms/step - loss: 1.2700 - acc: 0.4592\n",
            "Epoch 132/500\n",
            "98/98 [==============================] - 3s 30ms/step - loss: 1.3669 - acc: 0.4490\n",
            "Epoch 133/500\n",
            "98/98 [==============================] - 3s 31ms/step - loss: 1.3006 - acc: 0.4898\n",
            "Epoch 134/500\n",
            "98/98 [==============================] - 3s 30ms/step - loss: 1.2738 - acc: 0.4898\n",
            "Epoch 135/500\n",
            "98/98 [==============================] - 3s 30ms/step - loss: 1.2402 - acc: 0.4898\n",
            "Epoch 136/500\n",
            "98/98 [==============================] - 3s 30ms/step - loss: 1.3433 - acc: 0.4184\n",
            "Epoch 137/500\n",
            "64/98 [==================>...........] - ETA: 1s - loss: 1.1790 - acc: 0.5000"
          ],
          "name": "stdout"
        },
        {
          "output_type": "stream",
          "text": [
            "98/98 [==============================] - 3s 31ms/step - loss: 1.2345 - acc: 0.5000\n",
            "Epoch 138/500\n",
            "98/98 [==============================] - 3s 30ms/step - loss: 1.3832 - acc: 0.5102\n",
            "Epoch 139/500\n",
            "98/98 [==============================] - 3s 31ms/step - loss: 1.3070 - acc: 0.4388\n",
            "Epoch 140/500\n",
            "98/98 [==============================] - 3s 30ms/step - loss: 1.3277 - acc: 0.4796\n",
            "Epoch 141/500\n",
            "98/98 [==============================] - 3s 31ms/step - loss: 1.3556 - acc: 0.4490\n",
            "Epoch 142/500\n",
            "98/98 [==============================] - 3s 30ms/step - loss: 1.3366 - acc: 0.4286\n",
            "Epoch 143/500\n",
            "98/98 [==============================] - 3s 31ms/step - loss: 1.2856 - acc: 0.4592\n",
            "Epoch 144/500\n",
            "98/98 [==============================] - 3s 30ms/step - loss: 1.2356 - acc: 0.4592\n",
            "Epoch 145/500\n",
            "64/98 [==================>...........] - ETA: 1s - loss: 1.0989 - acc: 0.5938"
          ],
          "name": "stdout"
        },
        {
          "output_type": "stream",
          "text": [
            "98/98 [==============================] - 3s 30ms/step - loss: 1.1842 - acc: 0.5510\n",
            "Epoch 146/500\n",
            "98/98 [==============================] - 3s 31ms/step - loss: 1.2172 - acc: 0.5102\n",
            "Epoch 147/500\n",
            "98/98 [==============================] - 3s 31ms/step - loss: 1.3701 - acc: 0.5000\n",
            "Epoch 148/500\n",
            "98/98 [==============================] - 3s 31ms/step - loss: 1.1221 - acc: 0.5612\n",
            "Epoch 149/500\n",
            "98/98 [==============================] - 3s 31ms/step - loss: 1.1779 - acc: 0.4898\n",
            "Epoch 150/500\n",
            "98/98 [==============================] - 3s 31ms/step - loss: 1.3528 - acc: 0.4388\n",
            "Epoch 151/500\n",
            "98/98 [==============================] - 3s 30ms/step - loss: 1.2547 - acc: 0.4592\n",
            "Epoch 152/500\n",
            "98/98 [==============================] - 3s 31ms/step - loss: 1.1686 - acc: 0.5612\n",
            "Epoch 153/500\n",
            "64/98 [==================>...........] - ETA: 1s - loss: 1.2947 - acc: 0.5469"
          ],
          "name": "stdout"
        },
        {
          "output_type": "stream",
          "text": [
            "98/98 [==============================] - 3s 30ms/step - loss: 1.2435 - acc: 0.5306\n",
            "Epoch 154/500\n",
            "98/98 [==============================] - 3s 31ms/step - loss: 1.2473 - acc: 0.5000\n",
            "Epoch 155/500\n",
            "98/98 [==============================] - 3s 31ms/step - loss: 1.2414 - acc: 0.4694\n",
            "Epoch 156/500\n",
            "98/98 [==============================] - 3s 31ms/step - loss: 1.2164 - acc: 0.5408\n",
            "Epoch 157/500\n",
            "98/98 [==============================] - 3s 30ms/step - loss: 1.2256 - acc: 0.5204\n",
            "Epoch 158/500\n",
            "98/98 [==============================] - 3s 30ms/step - loss: 1.2554 - acc: 0.4796\n",
            "Epoch 159/500\n",
            "98/98 [==============================] - 3s 31ms/step - loss: 1.1263 - acc: 0.5306\n",
            "Epoch 160/500\n",
            "98/98 [==============================] - 3s 31ms/step - loss: 1.1492 - acc: 0.5612\n",
            "Epoch 161/500\n",
            "64/98 [==================>...........] - ETA: 0s - loss: 1.0896 - acc: 0.6250"
          ],
          "name": "stdout"
        },
        {
          "output_type": "stream",
          "text": [
            "98/98 [==============================] - 3s 30ms/step - loss: 1.1705 - acc: 0.5816\n",
            "Epoch 162/500\n",
            "98/98 [==============================] - 3s 31ms/step - loss: 1.0361 - acc: 0.5510\n",
            "Epoch 163/500\n",
            "98/98 [==============================] - 3s 31ms/step - loss: 1.1111 - acc: 0.5714\n",
            "Epoch 164/500\n",
            "98/98 [==============================] - 3s 31ms/step - loss: 1.2487 - acc: 0.5204\n",
            "Epoch 165/500\n",
            "98/98 [==============================] - 3s 31ms/step - loss: 1.1459 - acc: 0.5000\n",
            "Epoch 166/500\n",
            "98/98 [==============================] - 3s 31ms/step - loss: 1.2099 - acc: 0.5204\n",
            "Epoch 167/500\n",
            "98/98 [==============================] - 3s 31ms/step - loss: 1.1071 - acc: 0.5510\n",
            "Epoch 168/500\n",
            "98/98 [==============================] - 3s 30ms/step - loss: 1.0743 - acc: 0.5918\n",
            "Epoch 169/500\n",
            "64/98 [==================>...........] - ETA: 1s - loss: 1.3754 - acc: 0.5156"
          ],
          "name": "stdout"
        },
        {
          "output_type": "stream",
          "text": [
            "98/98 [==============================] - 3s 30ms/step - loss: 1.2849 - acc: 0.5102\n",
            "Epoch 170/500\n",
            "98/98 [==============================] - 3s 31ms/step - loss: 1.0845 - acc: 0.5714\n",
            "Epoch 171/500\n",
            "98/98 [==============================] - 3s 30ms/step - loss: 1.1188 - acc: 0.5408\n",
            "Epoch 172/500\n",
            "98/98 [==============================] - 3s 31ms/step - loss: 1.0934 - acc: 0.5816\n",
            "Epoch 173/500\n",
            "98/98 [==============================] - 3s 31ms/step - loss: 1.2002 - acc: 0.4898\n",
            "Epoch 174/500\n",
            "98/98 [==============================] - 3s 30ms/step - loss: 1.0412 - acc: 0.5306\n",
            "Epoch 175/500\n",
            "98/98 [==============================] - 3s 31ms/step - loss: 1.0022 - acc: 0.6020\n",
            "Epoch 176/500\n",
            "98/98 [==============================] - 3s 31ms/step - loss: 1.1118 - acc: 0.5408\n",
            "Epoch 177/500\n",
            "64/98 [==================>...........] - ETA: 1s - loss: 1.1309 - acc: 0.5156"
          ],
          "name": "stdout"
        },
        {
          "output_type": "stream",
          "text": [
            "98/98 [==============================] - 3s 30ms/step - loss: 1.0597 - acc: 0.5918\n",
            "Epoch 178/500\n",
            "98/98 [==============================] - 3s 31ms/step - loss: 1.0404 - acc: 0.5510\n",
            "Epoch 179/500\n",
            "98/98 [==============================] - 3s 31ms/step - loss: 0.9843 - acc: 0.5918\n",
            "Epoch 180/500\n",
            "98/98 [==============================] - 3s 30ms/step - loss: 1.0030 - acc: 0.6020\n",
            "Epoch 181/500\n",
            "98/98 [==============================] - 3s 30ms/step - loss: 1.0014 - acc: 0.5612\n",
            "Epoch 182/500\n",
            "98/98 [==============================] - 3s 31ms/step - loss: 0.9732 - acc: 0.6224\n",
            "Epoch 183/500\n",
            "98/98 [==============================] - 3s 31ms/step - loss: 1.1414 - acc: 0.4796\n",
            "Epoch 184/500\n",
            "98/98 [==============================] - 3s 31ms/step - loss: 0.9487 - acc: 0.5816\n",
            "Epoch 185/500\n",
            "64/98 [==================>...........] - ETA: 1s - loss: 1.0177 - acc: 0.5469"
          ],
          "name": "stdout"
        },
        {
          "output_type": "stream",
          "text": [
            "98/98 [==============================] - 3s 31ms/step - loss: 1.0601 - acc: 0.5408\n",
            "Epoch 186/500\n",
            "98/98 [==============================] - 3s 31ms/step - loss: 0.9769 - acc: 0.5816\n",
            "Epoch 187/500\n",
            "98/98 [==============================] - 3s 30ms/step - loss: 0.9439 - acc: 0.6735\n",
            "Epoch 188/500\n",
            "98/98 [==============================] - 3s 31ms/step - loss: 1.1981 - acc: 0.4898\n",
            "Epoch 189/500\n",
            "98/98 [==============================] - 3s 31ms/step - loss: 0.9356 - acc: 0.5918\n",
            "Epoch 190/500\n",
            "98/98 [==============================] - 3s 31ms/step - loss: 0.8161 - acc: 0.6837\n",
            "Epoch 191/500\n",
            "98/98 [==============================] - 3s 31ms/step - loss: 1.2600 - acc: 0.4898\n",
            "Epoch 192/500\n",
            "98/98 [==============================] - 3s 30ms/step - loss: 1.0011 - acc: 0.5816\n",
            "Epoch 193/500\n",
            "64/98 [==================>...........] - ETA: 1s - loss: 1.4627 - acc: 0.5000"
          ],
          "name": "stdout"
        },
        {
          "output_type": "stream",
          "text": [
            "98/98 [==============================] - 3s 30ms/step - loss: 1.2232 - acc: 0.5918\n",
            "Epoch 194/500\n",
            "98/98 [==============================] - 3s 31ms/step - loss: 0.8807 - acc: 0.6224\n",
            "Epoch 195/500\n",
            "98/98 [==============================] - 3s 31ms/step - loss: 0.9945 - acc: 0.6224\n",
            "Epoch 196/500\n",
            "98/98 [==============================] - 3s 30ms/step - loss: 1.0102 - acc: 0.6122\n",
            "Epoch 197/500\n",
            "98/98 [==============================] - 3s 31ms/step - loss: 0.9122 - acc: 0.6327\n",
            "Epoch 198/500\n",
            "98/98 [==============================] - 3s 31ms/step - loss: 0.8894 - acc: 0.6327\n",
            "Epoch 199/500\n",
            "98/98 [==============================] - 3s 31ms/step - loss: 1.3894 - acc: 0.4796\n",
            "Epoch 200/500\n",
            "98/98 [==============================] - 3s 31ms/step - loss: 1.0365 - acc: 0.6531\n",
            "Epoch 201/500\n",
            "64/98 [==================>...........] - ETA: 1s - loss: 1.2569 - acc: 0.6250"
          ],
          "name": "stdout"
        },
        {
          "output_type": "stream",
          "text": [
            "98/98 [==============================] - 3s 31ms/step - loss: 1.2417 - acc: 0.6122\n",
            "Epoch 202/500\n",
            "98/98 [==============================] - 3s 30ms/step - loss: 1.1511 - acc: 0.5408\n",
            "Epoch 203/500\n",
            "98/98 [==============================] - 3s 30ms/step - loss: 0.9887 - acc: 0.6122\n",
            "Epoch 204/500\n",
            "98/98 [==============================] - 3s 30ms/step - loss: 0.9037 - acc: 0.6020\n",
            "Epoch 205/500\n",
            "98/98 [==============================] - 3s 30ms/step - loss: 1.0389 - acc: 0.5510\n",
            "Epoch 206/500\n",
            "98/98 [==============================] - 3s 30ms/step - loss: 0.8573 - acc: 0.7245\n",
            "Epoch 207/500\n",
            "98/98 [==============================] - 3s 31ms/step - loss: 0.9879 - acc: 0.6327\n",
            "Epoch 208/500\n",
            "98/98 [==============================] - 3s 30ms/step - loss: 0.8641 - acc: 0.6429\n",
            "Epoch 209/500\n",
            "64/98 [==================>...........] - ETA: 0s - loss: 0.7865 - acc: 0.6562"
          ],
          "name": "stdout"
        },
        {
          "output_type": "stream",
          "text": [
            "98/98 [==============================] - 3s 29ms/step - loss: 0.8883 - acc: 0.6122\n",
            "Epoch 210/500\n",
            "98/98 [==============================] - 3s 30ms/step - loss: 0.7987 - acc: 0.6939\n",
            "Epoch 211/500\n",
            "98/98 [==============================] - 3s 30ms/step - loss: 0.9110 - acc: 0.6327\n",
            "Epoch 212/500\n",
            "98/98 [==============================] - 3s 30ms/step - loss: 0.8143 - acc: 0.7041\n",
            "Epoch 213/500\n",
            "98/98 [==============================] - 3s 30ms/step - loss: 1.1898 - acc: 0.5714\n",
            "Epoch 214/500\n",
            "98/98 [==============================] - 3s 31ms/step - loss: 0.8066 - acc: 0.6939\n",
            "Epoch 215/500\n",
            "98/98 [==============================] - 3s 30ms/step - loss: 0.8195 - acc: 0.7041\n",
            "Epoch 216/500\n",
            "98/98 [==============================] - 3s 30ms/step - loss: 0.8156 - acc: 0.6735\n",
            "Epoch 217/500\n",
            "64/98 [==================>...........] - ETA: 1s - loss: 0.9445 - acc: 0.6406"
          ],
          "name": "stdout"
        },
        {
          "output_type": "stream",
          "text": [
            "98/98 [==============================] - 3s 31ms/step - loss: 0.9490 - acc: 0.6633\n",
            "Epoch 218/500\n",
            "98/98 [==============================] - 3s 30ms/step - loss: 0.7270 - acc: 0.7347\n",
            "Epoch 219/500\n",
            "98/98 [==============================] - 3s 30ms/step - loss: 0.8319 - acc: 0.6531\n",
            "Epoch 220/500\n",
            "98/98 [==============================] - 3s 31ms/step - loss: 0.7863 - acc: 0.6939\n",
            "Epoch 221/500\n",
            "98/98 [==============================] - 3s 31ms/step - loss: 0.8664 - acc: 0.6735\n",
            "Epoch 222/500\n",
            "98/98 [==============================] - 3s 30ms/step - loss: 0.8499 - acc: 0.6735\n",
            "Epoch 223/500\n",
            "98/98 [==============================] - 3s 31ms/step - loss: 0.7036 - acc: 0.6837\n",
            "Epoch 224/500\n",
            "98/98 [==============================] - 3s 31ms/step - loss: 0.8816 - acc: 0.6429\n",
            "Epoch 225/500\n",
            "64/98 [==================>...........] - ETA: 0s - loss: 0.7502 - acc: 0.6719"
          ],
          "name": "stdout"
        },
        {
          "output_type": "stream",
          "text": [
            "98/98 [==============================] - 3s 30ms/step - loss: 0.7187 - acc: 0.7143\n",
            "Epoch 226/500\n",
            "98/98 [==============================] - 3s 30ms/step - loss: 0.7696 - acc: 0.7245\n",
            "Epoch 227/500\n",
            "98/98 [==============================] - 3s 30ms/step - loss: 0.6728 - acc: 0.6837\n",
            "Epoch 228/500\n",
            "98/98 [==============================] - 3s 30ms/step - loss: 0.8036 - acc: 0.6837\n",
            "Epoch 229/500\n",
            "98/98 [==============================] - 3s 29ms/step - loss: 0.6872 - acc: 0.7143\n",
            "Epoch 230/500\n",
            "98/98 [==============================] - 3s 31ms/step - loss: 1.0383 - acc: 0.6224\n",
            "Epoch 231/500\n",
            "98/98 [==============================] - 3s 31ms/step - loss: 0.7521 - acc: 0.7347\n",
            "Epoch 232/500\n",
            "98/98 [==============================] - 3s 30ms/step - loss: 0.6557 - acc: 0.7653\n",
            "Epoch 233/500\n",
            "64/98 [==================>...........] - ETA: 1s - loss: 0.5528 - acc: 0.8125"
          ],
          "name": "stdout"
        },
        {
          "output_type": "stream",
          "text": [
            "98/98 [==============================] - 3s 31ms/step - loss: 0.5923 - acc: 0.7857\n",
            "Epoch 234/500\n",
            "98/98 [==============================] - 3s 31ms/step - loss: 0.7625 - acc: 0.7449\n",
            "Epoch 235/500\n",
            "98/98 [==============================] - 3s 30ms/step - loss: 0.8997 - acc: 0.6531\n",
            "Epoch 236/500\n",
            "98/98 [==============================] - 3s 30ms/step - loss: 1.0284 - acc: 0.6429\n",
            "Epoch 237/500\n",
            "98/98 [==============================] - 3s 31ms/step - loss: 0.7192 - acc: 0.7143\n",
            "Epoch 238/500\n",
            "98/98 [==============================] - 3s 31ms/step - loss: 0.8142 - acc: 0.7551\n",
            "Epoch 239/500\n",
            "98/98 [==============================] - 3s 30ms/step - loss: 0.5590 - acc: 0.7959\n",
            "Epoch 240/500\n",
            "98/98 [==============================] - 3s 31ms/step - loss: 0.7219 - acc: 0.7449\n",
            "Epoch 241/500\n",
            "64/98 [==================>...........] - ETA: 1s - loss: 0.8609 - acc: 0.6719"
          ],
          "name": "stdout"
        },
        {
          "output_type": "stream",
          "text": [
            "98/98 [==============================] - 3s 31ms/step - loss: 0.7929 - acc: 0.6837\n",
            "Epoch 242/500\n",
            "98/98 [==============================] - 3s 31ms/step - loss: 0.6953 - acc: 0.7143\n",
            "Epoch 243/500\n",
            "98/98 [==============================] - 3s 31ms/step - loss: 0.6892 - acc: 0.7449\n",
            "Epoch 244/500\n",
            "98/98 [==============================] - 3s 30ms/step - loss: 0.5710 - acc: 0.7959\n",
            "Epoch 245/500\n",
            "98/98 [==============================] - 3s 29ms/step - loss: 0.6109 - acc: 0.7959\n",
            "Epoch 246/500\n",
            "98/98 [==============================] - 3s 30ms/step - loss: 0.7787 - acc: 0.7347\n",
            "Epoch 247/500\n",
            "98/98 [==============================] - 3s 30ms/step - loss: 0.6143 - acc: 0.7857\n",
            "Epoch 248/500\n",
            "98/98 [==============================] - 3s 31ms/step - loss: 0.5887 - acc: 0.8061\n",
            "Epoch 249/500\n",
            "64/98 [==================>...........] - ETA: 1s - loss: 0.8490 - acc: 0.6719"
          ],
          "name": "stdout"
        },
        {
          "output_type": "stream",
          "text": [
            "98/98 [==============================] - 3s 31ms/step - loss: 0.9006 - acc: 0.6633\n",
            "Epoch 250/500\n",
            "98/98 [==============================] - 3s 31ms/step - loss: 0.9775 - acc: 0.6429\n",
            "Epoch 251/500\n",
            "98/98 [==============================] - 3s 30ms/step - loss: 0.6938 - acc: 0.7857\n",
            "Epoch 252/500\n",
            "98/98 [==============================] - 3s 30ms/step - loss: 0.6498 - acc: 0.8061\n",
            "Epoch 253/500\n",
            "98/98 [==============================] - 3s 30ms/step - loss: 0.8231 - acc: 0.7245\n",
            "Epoch 254/500\n",
            "98/98 [==============================] - 3s 30ms/step - loss: 0.6546 - acc: 0.7449\n",
            "Epoch 255/500\n",
            "98/98 [==============================] - 3s 30ms/step - loss: 0.5710 - acc: 0.7959\n",
            "Epoch 256/500\n",
            "98/98 [==============================] - 3s 31ms/step - loss: 0.6003 - acc: 0.7653\n",
            "Epoch 257/500\n",
            "64/98 [==================>...........] - ETA: 1s - loss: 0.7569 - acc: 0.7656"
          ],
          "name": "stdout"
        },
        {
          "output_type": "stream",
          "text": [
            "98/98 [==============================] - 3s 32ms/step - loss: 0.7019 - acc: 0.7857\n",
            "Epoch 258/500\n",
            "98/98 [==============================] - 3s 31ms/step - loss: 0.5566 - acc: 0.8163\n",
            "Epoch 259/500\n",
            "98/98 [==============================] - 3s 32ms/step - loss: 0.9686 - acc: 0.6837\n",
            "Epoch 260/500\n",
            "98/98 [==============================] - 3s 33ms/step - loss: 0.6441 - acc: 0.8061\n",
            "Epoch 261/500\n",
            "98/98 [==============================] - 3s 32ms/step - loss: 0.7908 - acc: 0.6939\n",
            "Epoch 262/500\n",
            "98/98 [==============================] - 3s 32ms/step - loss: 0.8174 - acc: 0.7347\n",
            "Epoch 263/500\n",
            "98/98 [==============================] - 3s 32ms/step - loss: 0.5884 - acc: 0.7857\n",
            "Epoch 264/500\n",
            "98/98 [==============================] - 3s 31ms/step - loss: 0.6476 - acc: 0.7857\n",
            "Epoch 265/500\n",
            "64/98 [==================>...........] - ETA: 1s - loss: 0.5191 - acc: 0.7500"
          ],
          "name": "stdout"
        },
        {
          "output_type": "stream",
          "text": [
            "98/98 [==============================] - 3s 31ms/step - loss: 0.5443 - acc: 0.7347\n",
            "Epoch 266/500\n",
            "98/98 [==============================] - 3s 31ms/step - loss: 0.5737 - acc: 0.8061\n",
            "Epoch 267/500\n",
            "98/98 [==============================] - 3s 31ms/step - loss: 1.0492 - acc: 0.6837\n",
            "Epoch 268/500\n",
            "98/98 [==============================] - 3s 32ms/step - loss: 1.1215 - acc: 0.6020\n",
            "Epoch 269/500\n",
            "98/98 [==============================] - 3s 33ms/step - loss: 0.4717 - acc: 0.8469\n",
            "Epoch 270/500\n",
            "98/98 [==============================] - 3s 33ms/step - loss: 0.8270 - acc: 0.6939\n",
            "Epoch 271/500\n",
            "98/98 [==============================] - 3s 32ms/step - loss: 0.6690 - acc: 0.7143\n",
            "Epoch 272/500\n",
            "98/98 [==============================] - 3s 32ms/step - loss: 0.5172 - acc: 0.8469\n",
            "Epoch 273/500\n",
            "64/98 [==================>...........] - ETA: 1s - loss: 0.6330 - acc: 0.7500"
          ],
          "name": "stdout"
        },
        {
          "output_type": "stream",
          "text": [
            "98/98 [==============================] - 3s 31ms/step - loss: 0.6975 - acc: 0.7551\n",
            "Epoch 274/500\n",
            "98/98 [==============================] - 3s 31ms/step - loss: 0.5299 - acc: 0.8163\n",
            "Epoch 275/500\n",
            "98/98 [==============================] - 3s 31ms/step - loss: 0.5959 - acc: 0.7857\n",
            "Epoch 276/500\n",
            "98/98 [==============================] - 3s 31ms/step - loss: 0.5617 - acc: 0.7755\n",
            "Epoch 277/500\n",
            "98/98 [==============================] - 3s 31ms/step - loss: 0.3844 - acc: 0.8878\n",
            "Epoch 278/500\n",
            "98/98 [==============================] - 3s 31ms/step - loss: 0.4649 - acc: 0.8571\n",
            "Epoch 279/500\n",
            "98/98 [==============================] - 3s 31ms/step - loss: 0.4145 - acc: 0.8469\n",
            "Epoch 280/500\n",
            "98/98 [==============================] - 3s 31ms/step - loss: 0.6169 - acc: 0.7449\n",
            "Epoch 281/500\n",
            "64/98 [==================>...........] - ETA: 1s - loss: 0.5241 - acc: 0.7812"
          ],
          "name": "stdout"
        },
        {
          "output_type": "stream",
          "text": [
            "98/98 [==============================] - 3s 31ms/step - loss: 0.6205 - acc: 0.7551\n",
            "Epoch 282/500\n",
            "98/98 [==============================] - 3s 31ms/step - loss: 0.4772 - acc: 0.8163\n",
            "Epoch 283/500\n",
            "98/98 [==============================] - 3s 31ms/step - loss: 0.3393 - acc: 0.8980\n",
            "Epoch 284/500\n",
            "98/98 [==============================] - 3s 31ms/step - loss: 0.7544 - acc: 0.7245\n",
            "Epoch 285/500\n",
            "98/98 [==============================] - 3s 31ms/step - loss: 0.4300 - acc: 0.8469\n",
            "Epoch 286/500\n",
            "98/98 [==============================] - 3s 31ms/step - loss: 0.5675 - acc: 0.8163\n",
            "Epoch 287/500\n",
            "98/98 [==============================] - 3s 31ms/step - loss: 0.6205 - acc: 0.7653\n",
            "Epoch 288/500\n",
            "98/98 [==============================] - 3s 31ms/step - loss: 0.3965 - acc: 0.8469\n",
            "Epoch 289/500\n",
            "64/98 [==================>...........] - ETA: 1s - loss: 0.4199 - acc: 0.7812"
          ],
          "name": "stdout"
        },
        {
          "output_type": "stream",
          "text": [
            "98/98 [==============================] - 3s 31ms/step - loss: 0.5255 - acc: 0.7551\n",
            "Epoch 290/500\n",
            "98/98 [==============================] - 3s 31ms/step - loss: 0.6659 - acc: 0.7755\n",
            "Epoch 291/500\n",
            "98/98 [==============================] - 3s 32ms/step - loss: 0.5319 - acc: 0.7959\n",
            "Epoch 292/500\n",
            "98/98 [==============================] - 3s 31ms/step - loss: 0.4612 - acc: 0.8265\n",
            "Epoch 293/500\n",
            "98/98 [==============================] - 3s 31ms/step - loss: 0.3302 - acc: 0.9082\n",
            "Epoch 294/500\n",
            "98/98 [==============================] - 3s 31ms/step - loss: 0.6728 - acc: 0.7959\n",
            "Epoch 295/500\n",
            "98/98 [==============================] - 3s 32ms/step - loss: 0.9171 - acc: 0.7449\n",
            "Epoch 296/500\n",
            "98/98 [==============================] - 3s 31ms/step - loss: 0.5260 - acc: 0.7959\n",
            "Epoch 297/500\n",
            "64/98 [==================>...........] - ETA: 1s - loss: 0.3395 - acc: 0.8750"
          ],
          "name": "stdout"
        },
        {
          "output_type": "stream",
          "text": [
            "98/98 [==============================] - 3s 31ms/step - loss: 0.3457 - acc: 0.8673\n",
            "Epoch 298/500\n",
            "98/98 [==============================] - 3s 31ms/step - loss: 0.5096 - acc: 0.8571\n",
            "Epoch 299/500\n",
            "98/98 [==============================] - 3s 31ms/step - loss: 1.0389 - acc: 0.6735\n",
            "Epoch 300/500\n",
            "98/98 [==============================] - 3s 31ms/step - loss: 2.4219 - acc: 0.3571\n",
            "Epoch 301/500\n",
            "98/98 [==============================] - 3s 31ms/step - loss: 1.0403 - acc: 0.6429\n",
            "Epoch 302/500\n",
            "98/98 [==============================] - 3s 30ms/step - loss: 0.6534 - acc: 0.7449\n",
            "Epoch 303/500\n",
            "98/98 [==============================] - 3s 31ms/step - loss: 0.5197 - acc: 0.8367\n",
            "Epoch 304/500\n",
            "98/98 [==============================] - 3s 31ms/step - loss: 0.4991 - acc: 0.8469\n",
            "Epoch 305/500\n",
            "64/98 [==================>...........] - ETA: 1s - loss: 0.7553 - acc: 0.7656"
          ],
          "name": "stdout"
        },
        {
          "output_type": "stream",
          "text": [
            "98/98 [==============================] - 3s 30ms/step - loss: 0.8169 - acc: 0.7347\n",
            "Epoch 306/500\n",
            "98/98 [==============================] - 3s 30ms/step - loss: 0.4596 - acc: 0.8367\n",
            "Epoch 307/500\n",
            "98/98 [==============================] - 3s 30ms/step - loss: 0.4410 - acc: 0.8980\n",
            "Epoch 308/500\n",
            "98/98 [==============================] - 3s 29ms/step - loss: 0.5087 - acc: 0.8367\n",
            "Epoch 309/500\n",
            "98/98 [==============================] - 3s 29ms/step - loss: 0.4545 - acc: 0.8673\n",
            "Epoch 310/500\n",
            "98/98 [==============================] - 3s 30ms/step - loss: 0.8156 - acc: 0.7041\n",
            "Epoch 311/500\n",
            "98/98 [==============================] - 3s 30ms/step - loss: 0.3998 - acc: 0.8776\n",
            "Epoch 312/500\n",
            "98/98 [==============================] - 3s 30ms/step - loss: 0.3344 - acc: 0.8878\n",
            "Epoch 313/500\n",
            "64/98 [==================>...........] - ETA: 1s - loss: 0.6376 - acc: 0.7969"
          ],
          "name": "stdout"
        },
        {
          "output_type": "stream",
          "text": [
            "98/98 [==============================] - 3s 30ms/step - loss: 0.4819 - acc: 0.8469\n",
            "Epoch 314/500\n",
            "98/98 [==============================] - 3s 31ms/step - loss: 0.4034 - acc: 0.9082\n",
            "Epoch 315/500\n",
            "98/98 [==============================] - 3s 29ms/step - loss: 0.4017 - acc: 0.8367\n",
            "Epoch 316/500\n",
            "98/98 [==============================] - 3s 30ms/step - loss: 0.4497 - acc: 0.8469\n",
            "Epoch 317/500\n",
            "98/98 [==============================] - 3s 31ms/step - loss: 0.3895 - acc: 0.8673\n",
            "Epoch 318/500\n",
            "98/98 [==============================] - 3s 31ms/step - loss: 0.3712 - acc: 0.8571\n",
            "Epoch 319/500\n",
            "98/98 [==============================] - 3s 31ms/step - loss: 0.7696 - acc: 0.7959\n",
            "Epoch 320/500\n",
            "98/98 [==============================] - 3s 31ms/step - loss: 0.6068 - acc: 0.7857\n",
            "Epoch 321/500\n",
            "64/98 [==================>...........] - ETA: 1s - loss: 0.9613 - acc: 0.7188"
          ],
          "name": "stdout"
        },
        {
          "output_type": "stream",
          "text": [
            "98/98 [==============================] - 3s 31ms/step - loss: 0.8284 - acc: 0.7449\n",
            "Epoch 322/500\n",
            "98/98 [==============================] - 3s 30ms/step - loss: 0.4165 - acc: 0.8367\n",
            "Epoch 323/500\n",
            "98/98 [==============================] - 3s 31ms/step - loss: 0.2415 - acc: 0.9082\n",
            "Epoch 324/500\n",
            "98/98 [==============================] - 3s 31ms/step - loss: 0.5392 - acc: 0.8061\n",
            "Epoch 325/500\n",
            "98/98 [==============================] - 3s 30ms/step - loss: 0.4855 - acc: 0.8265\n",
            "Epoch 326/500\n",
            "98/98 [==============================] - 3s 31ms/step - loss: 0.4916 - acc: 0.8469\n",
            "Epoch 327/500\n",
            "98/98 [==============================] - 3s 31ms/step - loss: 0.4466 - acc: 0.8673\n",
            "Epoch 328/500\n",
            "98/98 [==============================] - 3s 31ms/step - loss: 0.8065 - acc: 0.7653\n",
            "Epoch 329/500\n",
            "64/98 [==================>...........] - ETA: 1s - loss: 0.5755 - acc: 0.7812"
          ],
          "name": "stdout"
        },
        {
          "output_type": "stream",
          "text": [
            "98/98 [==============================] - 3s 31ms/step - loss: 0.4590 - acc: 0.8163\n",
            "Epoch 330/500\n",
            "98/98 [==============================] - 3s 31ms/step - loss: 0.2398 - acc: 0.9490\n",
            "Epoch 331/500\n",
            "98/98 [==============================] - 3s 31ms/step - loss: 0.2310 - acc: 0.9388\n",
            "Epoch 332/500\n",
            "98/98 [==============================] - 3s 30ms/step - loss: 0.4471 - acc: 0.8571\n",
            "Epoch 333/500\n",
            "98/98 [==============================] - 3s 31ms/step - loss: 0.2967 - acc: 0.9082\n",
            "Epoch 334/500\n",
            "98/98 [==============================] - 3s 31ms/step - loss: 0.2754 - acc: 0.8980\n",
            "Epoch 335/500\n",
            "98/98 [==============================] - 3s 30ms/step - loss: 0.4265 - acc: 0.8776\n",
            "Epoch 336/500\n",
            "98/98 [==============================] - 3s 30ms/step - loss: 0.2410 - acc: 0.9388\n",
            "Epoch 337/500\n",
            "64/98 [==================>...........] - ETA: 1s - loss: 0.6238 - acc: 0.7969"
          ],
          "name": "stdout"
        },
        {
          "output_type": "stream",
          "text": [
            "98/98 [==============================] - 3s 31ms/step - loss: 0.4696 - acc: 0.8469\n",
            "Epoch 338/500\n",
            "98/98 [==============================] - 3s 30ms/step - loss: 0.3724 - acc: 0.8776\n",
            "Epoch 339/500\n",
            "98/98 [==============================] - 3s 31ms/step - loss: 0.4279 - acc: 0.8673\n",
            "Epoch 340/500\n",
            "98/98 [==============================] - 3s 30ms/step - loss: 0.3336 - acc: 0.8776\n",
            "Epoch 341/500\n",
            "98/98 [==============================] - 3s 30ms/step - loss: 0.2919 - acc: 0.8980\n",
            "Epoch 342/500\n",
            "98/98 [==============================] - 3s 31ms/step - loss: 0.2865 - acc: 0.9184\n",
            "Epoch 343/500\n",
            "98/98 [==============================] - 3s 31ms/step - loss: 0.3366 - acc: 0.8776\n",
            "Epoch 344/500\n",
            "98/98 [==============================] - 3s 31ms/step - loss: 0.3524 - acc: 0.8878\n",
            "Epoch 345/500\n",
            "64/98 [==================>...........] - ETA: 0s - loss: 0.6113 - acc: 0.8281"
          ],
          "name": "stdout"
        },
        {
          "output_type": "stream",
          "text": [
            "98/98 [==============================] - 3s 30ms/step - loss: 0.4583 - acc: 0.8571\n",
            "Epoch 346/500\n",
            "98/98 [==============================] - 3s 31ms/step - loss: 0.2688 - acc: 0.9184\n",
            "Epoch 347/500\n",
            "98/98 [==============================] - 3s 31ms/step - loss: 0.4475 - acc: 0.8163\n",
            "Epoch 348/500\n",
            "98/98 [==============================] - 3s 30ms/step - loss: 0.1344 - acc: 0.9796\n",
            "Epoch 349/500\n",
            "98/98 [==============================] - 3s 31ms/step - loss: 1.1588 - acc: 0.6735\n",
            "Epoch 350/500\n",
            "98/98 [==============================] - 3s 31ms/step - loss: 0.5089 - acc: 0.8469\n",
            "Epoch 351/500\n",
            "98/98 [==============================] - 3s 31ms/step - loss: 0.3758 - acc: 0.8673\n",
            "Epoch 352/500\n",
            "98/98 [==============================] - 3s 31ms/step - loss: 0.3535 - acc: 0.8878\n",
            "Epoch 353/500\n",
            "64/98 [==================>...........] - ETA: 1s - loss: 0.2368 - acc: 0.9219"
          ],
          "name": "stdout"
        },
        {
          "output_type": "stream",
          "text": [
            "98/98 [==============================] - 3s 31ms/step - loss: 0.2116 - acc: 0.9388\n",
            "Epoch 354/500\n",
            "98/98 [==============================] - 3s 30ms/step - loss: 0.2629 - acc: 0.9082\n",
            "Epoch 355/500\n",
            "98/98 [==============================] - 3s 30ms/step - loss: 0.2250 - acc: 0.9286\n",
            "Epoch 356/500\n",
            "98/98 [==============================] - 3s 31ms/step - loss: 0.7367 - acc: 0.7755\n",
            "Epoch 357/500\n",
            "98/98 [==============================] - 3s 31ms/step - loss: 0.1942 - acc: 0.9082\n",
            "Epoch 358/500\n",
            "98/98 [==============================] - 3s 30ms/step - loss: 0.4365 - acc: 0.8878\n",
            "Epoch 359/500\n",
            "98/98 [==============================] - 3s 30ms/step - loss: 0.4708 - acc: 0.8163\n",
            "Epoch 360/500\n",
            "98/98 [==============================] - 3s 30ms/step - loss: 0.6840 - acc: 0.8469\n",
            "Epoch 361/500\n",
            "64/98 [==================>...........] - ETA: 1s - loss: 0.4940 - acc: 0.8594"
          ],
          "name": "stdout"
        },
        {
          "output_type": "stream",
          "text": [
            "98/98 [==============================] - 3s 30ms/step - loss: 0.4678 - acc: 0.8776\n",
            "Epoch 362/500\n",
            "98/98 [==============================] - 3s 30ms/step - loss: 0.3593 - acc: 0.8673\n",
            "Epoch 363/500\n",
            "98/98 [==============================] - 3s 31ms/step - loss: 0.3222 - acc: 0.8980\n",
            "Epoch 364/500\n",
            "98/98 [==============================] - 3s 31ms/step - loss: 0.3484 - acc: 0.9184\n",
            "Epoch 365/500\n",
            "98/98 [==============================] - 3s 30ms/step - loss: 0.3130 - acc: 0.8878\n",
            "Epoch 366/500\n",
            "98/98 [==============================] - 3s 30ms/step - loss: 0.5788 - acc: 0.8061\n",
            "Epoch 367/500\n",
            "98/98 [==============================] - 3s 30ms/step - loss: 0.4397 - acc: 0.8673\n",
            "Epoch 368/500\n",
            "98/98 [==============================] - 3s 30ms/step - loss: 0.1448 - acc: 0.9694\n",
            "Epoch 369/500\n",
            "64/98 [==================>...........] - ETA: 1s - loss: 0.4405 - acc: 0.8906"
          ],
          "name": "stdout"
        },
        {
          "output_type": "stream",
          "text": [
            "98/98 [==============================] - 3s 30ms/step - loss: 0.3844 - acc: 0.8980\n",
            "Epoch 370/500\n",
            "98/98 [==============================] - 3s 30ms/step - loss: 0.2986 - acc: 0.8980\n",
            "Epoch 371/500\n",
            "98/98 [==============================] - 3s 30ms/step - loss: 0.6382 - acc: 0.7755\n",
            "Epoch 372/500\n",
            "98/98 [==============================] - 3s 30ms/step - loss: 0.4892 - acc: 0.8061\n",
            "Epoch 373/500\n",
            "98/98 [==============================] - 3s 30ms/step - loss: 0.4109 - acc: 0.8367\n",
            "Epoch 374/500\n",
            "98/98 [==============================] - 3s 30ms/step - loss: 0.3805 - acc: 0.8673\n",
            "Epoch 375/500\n",
            "98/98 [==============================] - 3s 30ms/step - loss: 0.1769 - acc: 0.9592\n",
            "Epoch 376/500\n",
            "98/98 [==============================] - 3s 31ms/step - loss: 0.3530 - acc: 0.9082\n",
            "Epoch 377/500\n",
            "64/98 [==================>...........] - ETA: 1s - loss: 0.1711 - acc: 0.9375"
          ],
          "name": "stdout"
        },
        {
          "output_type": "stream",
          "text": [
            "98/98 [==============================] - 3s 31ms/step - loss: 0.2435 - acc: 0.9286\n",
            "Epoch 378/500\n",
            "98/98 [==============================] - 3s 31ms/step - loss: 0.2704 - acc: 0.9184\n",
            "Epoch 379/500\n",
            "98/98 [==============================] - 3s 31ms/step - loss: 0.2386 - acc: 0.9184\n",
            "Epoch 380/500\n",
            "98/98 [==============================] - 3s 31ms/step - loss: 0.4903 - acc: 0.8469\n",
            "Epoch 381/500\n",
            "98/98 [==============================] - 3s 31ms/step - loss: 0.1368 - acc: 0.9592\n",
            "Epoch 382/500\n",
            "98/98 [==============================] - 3s 31ms/step - loss: 0.8713 - acc: 0.7347\n",
            "Epoch 383/500\n",
            "98/98 [==============================] - 3s 31ms/step - loss: 0.2352 - acc: 0.9388\n",
            "Epoch 384/500\n",
            "98/98 [==============================] - 3s 30ms/step - loss: 0.2754 - acc: 0.9082\n",
            "Epoch 385/500\n",
            "64/98 [==================>...........] - ETA: 1s - loss: 0.2632 - acc: 0.9219"
          ],
          "name": "stdout"
        },
        {
          "output_type": "stream",
          "text": [
            "98/98 [==============================] - 3s 31ms/step - loss: 0.3347 - acc: 0.9184\n",
            "Epoch 386/500\n",
            "98/98 [==============================] - 3s 31ms/step - loss: 0.1740 - acc: 0.9286\n",
            "Epoch 387/500\n",
            "98/98 [==============================] - 3s 31ms/step - loss: 0.1555 - acc: 0.9694\n",
            "Epoch 388/500\n",
            "98/98 [==============================] - 3s 30ms/step - loss: 0.2250 - acc: 0.9388\n",
            "Epoch 389/500\n",
            "98/98 [==============================] - 3s 30ms/step - loss: 0.6896 - acc: 0.7857\n",
            "Epoch 390/500\n",
            "98/98 [==============================] - 3s 30ms/step - loss: 0.1756 - acc: 0.9592\n",
            "Epoch 391/500\n",
            "98/98 [==============================] - 3s 31ms/step - loss: 0.4401 - acc: 0.8673\n",
            "Epoch 392/500\n",
            "98/98 [==============================] - 3s 31ms/step - loss: 0.2109 - acc: 0.9388\n",
            "Epoch 393/500\n",
            "64/98 [==================>...........] - ETA: 1s - loss: 0.2115 - acc: 0.9375"
          ],
          "name": "stdout"
        },
        {
          "output_type": "stream",
          "text": [
            "98/98 [==============================] - 3s 31ms/step - loss: 0.2298 - acc: 0.9388\n",
            "Epoch 394/500\n",
            "98/98 [==============================] - 3s 31ms/step - loss: 0.2864 - acc: 0.8878\n",
            "Epoch 395/500\n",
            "98/98 [==============================] - 3s 31ms/step - loss: 0.3862 - acc: 0.8776\n",
            "Epoch 396/500\n",
            "98/98 [==============================] - 3s 31ms/step - loss: 0.2390 - acc: 0.9184\n",
            "Epoch 397/500\n",
            "98/98 [==============================] - 3s 31ms/step - loss: 0.2968 - acc: 0.9082\n",
            "Epoch 398/500\n",
            "98/98 [==============================] - 3s 31ms/step - loss: 0.2906 - acc: 0.9184\n",
            "Epoch 399/500\n",
            "98/98 [==============================] - 3s 31ms/step - loss: 0.1522 - acc: 0.9592\n",
            "Epoch 400/500\n",
            "98/98 [==============================] - 3s 31ms/step - loss: 0.2832 - acc: 0.8878\n",
            "Epoch 401/500\n",
            "64/98 [==================>...........] - ETA: 1s - loss: 0.1233 - acc: 0.9531"
          ],
          "name": "stdout"
        },
        {
          "output_type": "stream",
          "text": [
            "98/98 [==============================] - 3s 31ms/step - loss: 0.1117 - acc: 0.9694\n",
            "Epoch 402/500\n",
            "98/98 [==============================] - 3s 31ms/step - loss: 0.4710 - acc: 0.8469\n",
            "Epoch 403/500\n",
            "98/98 [==============================] - 3s 30ms/step - loss: 0.1330 - acc: 0.9694\n",
            "Epoch 404/500\n",
            "98/98 [==============================] - 3s 30ms/step - loss: 0.2713 - acc: 0.9286\n",
            "Epoch 405/500\n",
            "98/98 [==============================] - 3s 31ms/step - loss: 0.2552 - acc: 0.9388\n",
            "Epoch 406/500\n",
            "98/98 [==============================] - 3s 31ms/step - loss: 0.3651 - acc: 0.8878\n",
            "Epoch 407/500\n",
            "98/98 [==============================] - 3s 31ms/step - loss: 0.2948 - acc: 0.9184\n",
            "Epoch 408/500\n",
            "98/98 [==============================] - 3s 31ms/step - loss: 0.1826 - acc: 0.9490\n",
            "Epoch 409/500\n",
            "64/98 [==================>...........] - ETA: 1s - loss: 0.1067 - acc: 0.9531"
          ],
          "name": "stdout"
        },
        {
          "output_type": "stream",
          "text": [
            "98/98 [==============================] - 3s 31ms/step - loss: 0.0878 - acc: 0.9694\n",
            "Epoch 410/500\n",
            "98/98 [==============================] - 3s 31ms/step - loss: 0.2172 - acc: 0.9286\n",
            "Epoch 411/500\n",
            "98/98 [==============================] - 3s 31ms/step - loss: 0.4487 - acc: 0.8673\n",
            "Epoch 412/500\n",
            "98/98 [==============================] - 3s 31ms/step - loss: 0.3743 - acc: 0.9082\n",
            "Epoch 413/500\n",
            "98/98 [==============================] - 3s 31ms/step - loss: 0.0774 - acc: 0.9694\n",
            "Epoch 414/500\n",
            "98/98 [==============================] - 3s 31ms/step - loss: 0.5189 - acc: 0.8265\n",
            "Epoch 415/500\n",
            "98/98 [==============================] - 3s 31ms/step - loss: 0.2525 - acc: 0.9184\n",
            "Epoch 416/500\n",
            "98/98 [==============================] - 3s 31ms/step - loss: 0.4469 - acc: 0.8980\n",
            "Epoch 417/500\n",
            "64/98 [==================>...........] - ETA: 1s - loss: 0.8527 - acc: 0.7500"
          ],
          "name": "stdout"
        },
        {
          "output_type": "stream",
          "text": [
            "98/98 [==============================] - 3s 31ms/step - loss: 1.2240 - acc: 0.7143\n",
            "Epoch 418/500\n",
            "98/98 [==============================] - 3s 31ms/step - loss: 0.4949 - acc: 0.8673\n",
            "Epoch 419/500\n",
            "98/98 [==============================] - 3s 30ms/step - loss: 0.4267 - acc: 0.8673\n",
            "Epoch 420/500\n",
            "98/98 [==============================] - 3s 30ms/step - loss: 0.3310 - acc: 0.9184\n",
            "Epoch 421/500\n",
            "98/98 [==============================] - 3s 31ms/step - loss: 0.6339 - acc: 0.8367\n",
            "Epoch 422/500\n",
            "98/98 [==============================] - 3s 31ms/step - loss: 0.2495 - acc: 0.9286\n",
            "Epoch 423/500\n",
            "98/98 [==============================] - 3s 31ms/step - loss: 0.2463 - acc: 0.9082\n",
            "Epoch 424/500\n",
            "98/98 [==============================] - 3s 31ms/step - loss: 0.1946 - acc: 0.9490\n",
            "Epoch 425/500\n",
            "64/98 [==================>...........] - ETA: 1s - loss: 0.3309 - acc: 0.9375"
          ],
          "name": "stdout"
        },
        {
          "output_type": "stream",
          "text": [
            "98/98 [==============================] - 3s 31ms/step - loss: 0.2341 - acc: 0.9592\n",
            "Epoch 426/500\n",
            "98/98 [==============================] - 3s 31ms/step - loss: 0.5103 - acc: 0.8776\n",
            "Epoch 427/500\n",
            "98/98 [==============================] - 3s 31ms/step - loss: 0.2009 - acc: 0.9184\n",
            "Epoch 428/500\n",
            "98/98 [==============================] - 3s 31ms/step - loss: 0.2344 - acc: 0.9286\n",
            "Epoch 429/500\n",
            "98/98 [==============================] - 3s 31ms/step - loss: 0.1641 - acc: 0.9592\n",
            "Epoch 430/500\n",
            "98/98 [==============================] - 3s 31ms/step - loss: 0.3689 - acc: 0.9286\n",
            "Epoch 431/500\n",
            "98/98 [==============================] - 3s 31ms/step - loss: 0.0718 - acc: 0.9898\n",
            "Epoch 432/500\n",
            "98/98 [==============================] - 3s 31ms/step - loss: 0.2759 - acc: 0.9082\n",
            "Epoch 433/500\n",
            "64/98 [==================>...........] - ETA: 1s - loss: 0.9624 - acc: 0.7031"
          ],
          "name": "stdout"
        },
        {
          "output_type": "stream",
          "text": [
            "98/98 [==============================] - 3s 31ms/step - loss: 0.7141 - acc: 0.7857\n",
            "Epoch 434/500\n",
            "98/98 [==============================] - 3s 31ms/step - loss: 0.1576 - acc: 0.9388\n",
            "Epoch 435/500\n",
            "98/98 [==============================] - 3s 31ms/step - loss: 0.3467 - acc: 0.8571\n",
            "Epoch 436/500\n",
            "98/98 [==============================] - 3s 31ms/step - loss: 0.0633 - acc: 0.9898\n",
            "Epoch 437/500\n",
            "98/98 [==============================] - 3s 31ms/step - loss: 0.1274 - acc: 0.9490\n",
            "Epoch 438/500\n",
            "98/98 [==============================] - 3s 31ms/step - loss: 0.2420 - acc: 0.9592\n",
            "Epoch 439/500\n",
            "98/98 [==============================] - 3s 31ms/step - loss: 0.1040 - acc: 0.9592\n",
            "Epoch 440/500\n",
            "98/98 [==============================] - 3s 31ms/step - loss: 0.3707 - acc: 0.8980\n",
            "Epoch 441/500\n",
            "64/98 [==================>...........] - ETA: 1s - loss: 0.3661 - acc: 0.9219"
          ],
          "name": "stdout"
        },
        {
          "output_type": "stream",
          "text": [
            "98/98 [==============================] - 3s 31ms/step - loss: 0.5007 - acc: 0.8673\n",
            "Epoch 442/500\n",
            "98/98 [==============================] - 3s 31ms/step - loss: 0.1697 - acc: 0.9388\n",
            "Epoch 443/500\n",
            "98/98 [==============================] - 3s 31ms/step - loss: 0.1307 - acc: 0.9490\n",
            "Epoch 444/500\n",
            "98/98 [==============================] - 3s 31ms/step - loss: 0.0771 - acc: 0.9898\n",
            "Epoch 445/500\n",
            "98/98 [==============================] - 3s 31ms/step - loss: 0.1160 - acc: 0.9694\n",
            "Epoch 446/500\n",
            "98/98 [==============================] - 3s 32ms/step - loss: 0.3386 - acc: 0.9184\n",
            "Epoch 447/500\n",
            "98/98 [==============================] - 3s 32ms/step - loss: 0.1839 - acc: 0.9592\n",
            "Epoch 448/500\n",
            "98/98 [==============================] - 3s 31ms/step - loss: 0.4611 - acc: 0.8571\n",
            "Epoch 449/500\n",
            "64/98 [==================>...........] - ETA: 1s - loss: 0.1726 - acc: 0.9375"
          ],
          "name": "stdout"
        },
        {
          "output_type": "stream",
          "text": [
            "98/98 [==============================] - 3s 32ms/step - loss: 0.1739 - acc: 0.9286\n",
            "Epoch 450/500\n",
            "98/98 [==============================] - 3s 31ms/step - loss: 0.2205 - acc: 0.9490\n",
            "Epoch 451/500\n",
            "98/98 [==============================] - 3s 31ms/step - loss: 0.2325 - acc: 0.9592\n",
            "Epoch 452/500\n",
            "98/98 [==============================] - 3s 32ms/step - loss: 0.0353 - acc: 1.0000\n",
            "Epoch 453/500\n",
            "98/98 [==============================] - 3s 32ms/step - loss: 0.1360 - acc: 0.9490\n",
            "Epoch 454/500\n",
            "98/98 [==============================] - 3s 32ms/step - loss: 0.3118 - acc: 0.9184\n",
            "Epoch 455/500\n",
            "98/98 [==============================] - 3s 30ms/step - loss: 0.0553 - acc: 0.9898\n",
            "Epoch 456/500\n",
            "98/98 [==============================] - 3s 31ms/step - loss: 0.3610 - acc: 0.9082\n",
            "Epoch 457/500\n",
            "64/98 [==================>...........] - ETA: 1s - loss: 0.8003 - acc: 0.7656"
          ],
          "name": "stdout"
        },
        {
          "output_type": "stream",
          "text": [
            "98/98 [==============================] - 3s 30ms/step - loss: 0.5626 - acc: 0.8367\n",
            "Epoch 458/500\n",
            "98/98 [==============================] - 3s 30ms/step - loss: 0.3611 - acc: 0.8980\n",
            "Epoch 459/500\n",
            "98/98 [==============================] - 3s 31ms/step - loss: 0.3173 - acc: 0.9286\n",
            "Epoch 460/500\n",
            "98/98 [==============================] - 3s 31ms/step - loss: 0.4344 - acc: 0.9082\n",
            "Epoch 461/500\n",
            "98/98 [==============================] - 3s 31ms/step - loss: 0.0801 - acc: 0.9694\n",
            "Epoch 462/500\n",
            "98/98 [==============================] - 3s 31ms/step - loss: 0.3683 - acc: 0.8571\n",
            "Epoch 463/500\n",
            "98/98 [==============================] - 3s 31ms/step - loss: 0.1220 - acc: 0.9796\n",
            "Epoch 464/500\n",
            "98/98 [==============================] - 3s 31ms/step - loss: 0.0310 - acc: 1.0000\n",
            "Epoch 465/500\n",
            "64/98 [==================>...........] - ETA: 1s - loss: 0.0180 - acc: 1.0000"
          ],
          "name": "stdout"
        },
        {
          "output_type": "stream",
          "text": [
            "98/98 [==============================] - 3s 31ms/step - loss: 0.0685 - acc: 0.9796\n",
            "Epoch 466/500\n",
            "98/98 [==============================] - 3s 31ms/step - loss: 0.3534 - acc: 0.8878\n",
            "Epoch 467/500\n",
            "98/98 [==============================] - 3s 30ms/step - loss: 0.4432 - acc: 0.8980\n",
            "Epoch 468/500\n",
            "98/98 [==============================] - 3s 31ms/step - loss: 0.1498 - acc: 0.9694\n",
            "Epoch 469/500\n",
            "98/98 [==============================] - 3s 31ms/step - loss: 0.6124 - acc: 0.8265\n",
            "Epoch 470/500\n",
            "98/98 [==============================] - 3s 31ms/step - loss: 1.6124 - acc: 0.6224\n",
            "Epoch 471/500\n",
            "98/98 [==============================] - 3s 31ms/step - loss: 0.3512 - acc: 0.8469\n",
            "Epoch 472/500\n",
            "98/98 [==============================] - 3s 31ms/step - loss: 0.5781 - acc: 0.8163\n",
            "Epoch 473/500\n",
            "64/98 [==================>...........] - ETA: 1s - loss: 1.0918 - acc: 0.7188"
          ],
          "name": "stdout"
        },
        {
          "output_type": "stream",
          "text": [
            "98/98 [==============================] - 3s 32ms/step - loss: 1.3248 - acc: 0.6531\n",
            "Epoch 474/500\n",
            "98/98 [==============================] - 3s 32ms/step - loss: 0.6155 - acc: 0.8163\n",
            "Epoch 475/500\n",
            "98/98 [==============================] - 3s 32ms/step - loss: 0.4291 - acc: 0.8469\n",
            "Epoch 476/500\n",
            "98/98 [==============================] - 3s 32ms/step - loss: 0.2541 - acc: 0.9082\n",
            "Epoch 477/500\n",
            "98/98 [==============================] - 3s 31ms/step - loss: 0.1502 - acc: 0.9388\n",
            "Epoch 478/500\n",
            "98/98 [==============================] - 3s 32ms/step - loss: 0.1271 - acc: 0.9796\n",
            "Epoch 479/500\n",
            "98/98 [==============================] - 3s 32ms/step - loss: 0.0949 - acc: 0.9694\n",
            "Epoch 480/500\n",
            "98/98 [==============================] - 3s 32ms/step - loss: 0.3423 - acc: 0.8980\n",
            "Epoch 481/500\n",
            "64/98 [==================>...........] - ETA: 1s - loss: 0.2218 - acc: 0.9375"
          ],
          "name": "stdout"
        },
        {
          "output_type": "stream",
          "text": [
            "98/98 [==============================] - 3s 31ms/step - loss: 0.1605 - acc: 0.9592\n",
            "Epoch 482/500\n",
            "98/98 [==============================] - 3s 31ms/step - loss: 0.0799 - acc: 0.9898\n",
            "Epoch 483/500\n",
            "98/98 [==============================] - 3s 31ms/step - loss: 0.2338 - acc: 0.8878\n",
            "Epoch 484/500\n",
            "98/98 [==============================] - 3s 31ms/step - loss: 0.0452 - acc: 1.0000\n",
            "Epoch 485/500\n",
            "98/98 [==============================] - 3s 31ms/step - loss: 0.0187 - acc: 1.0000\n",
            "Epoch 486/500\n",
            "98/98 [==============================] - 3s 31ms/step - loss: 0.4314 - acc: 0.9388\n",
            "Epoch 487/500\n",
            "98/98 [==============================] - 3s 30ms/step - loss: 0.1172 - acc: 0.9490\n",
            "Epoch 488/500\n",
            "98/98 [==============================] - 3s 31ms/step - loss: 0.0313 - acc: 1.0000\n",
            "Epoch 489/500\n",
            "64/98 [==================>...........] - ETA: 1s - loss: 0.1508 - acc: 0.9688"
          ],
          "name": "stdout"
        },
        {
          "output_type": "stream",
          "text": [
            "98/98 [==============================] - 3s 31ms/step - loss: 0.1129 - acc: 0.9796\n",
            "Epoch 490/500\n",
            "98/98 [==============================] - 3s 31ms/step - loss: 0.4733 - acc: 0.8980\n",
            "Epoch 491/500\n",
            "98/98 [==============================] - 3s 31ms/step - loss: 0.3815 - acc: 0.8878\n",
            "Epoch 492/500\n",
            "98/98 [==============================] - 3s 31ms/step - loss: 0.2953 - acc: 0.9286\n",
            "Epoch 493/500\n",
            "98/98 [==============================] - 3s 31ms/step - loss: 0.4898 - acc: 0.8980\n",
            "Epoch 494/500\n",
            "98/98 [==============================] - 3s 31ms/step - loss: 0.3364 - acc: 0.9082\n",
            "Epoch 495/500\n",
            "98/98 [==============================] - 3s 31ms/step - loss: 0.4354 - acc: 0.8980\n",
            "Epoch 496/500\n",
            "98/98 [==============================] - 3s 31ms/step - loss: 0.4172 - acc: 0.8469\n",
            "Epoch 497/500\n",
            "64/98 [==================>...........] - ETA: 1s - loss: 0.1939 - acc: 0.9375"
          ],
          "name": "stdout"
        },
        {
          "output_type": "stream",
          "text": [
            "98/98 [==============================] - 3s 30ms/step - loss: 0.2155 - acc: 0.9490\n",
            "Epoch 498/500\n",
            "98/98 [==============================] - 3s 31ms/step - loss: 0.0599 - acc: 0.9694\n",
            "Epoch 499/500\n",
            "98/98 [==============================] - 3s 31ms/step - loss: 0.0880 - acc: 0.9796\n",
            "Epoch 500/500\n",
            "98/98 [==============================] - 3s 31ms/step - loss: 0.1664 - acc: 0.9592\n"
          ],
          "name": "stdout"
        }
      ]
    },
    {
      "metadata": {
        "id": "Lq241ZvXmBgs",
        "colab_type": "code",
        "colab": {
          "base_uri": "https://localhost:8080/",
          "height": 364
        },
        "outputId": "4b84c4b5-9331-4a23-e9cb-1241972248e7"
      },
      "cell_type": "code",
      "source": [
        "# Plot the accuracy during training\n",
        "plt.plot(history.history['acc'])"
      ],
      "execution_count": 104,
      "outputs": [
        {
          "output_type": "execute_result",
          "data": {
            "text/plain": [
              "[<matplotlib.lines.Line2D at 0x7fcf6882e128>]"
            ]
          },
          "metadata": {
            "tags": []
          },
          "execution_count": 104
        },
        {
          "output_type": "display_data",
          "data": {
            "image/png": "[encoded data removed]",
            "text/plain": [
              "<matplotlib.figure.Figure at 0x7fcf687a22b0>"
            ]
          },
          "metadata": {
            "tags": []
          }
        }
      ]
    },
    {
      "metadata": {
        "id": "XDhfH6d52GUw",
        "colab_type": "code",
        "colab": {
          "base_uri": "https://localhost:8080/",
          "height": 364
        },
        "outputId": "87f19564-4f26-4b6f-a6b3-b583f799a0b6"
      },
      "cell_type": "code",
      "source": [
        "plt.plot(history.history['loss'])"
      ],
      "execution_count": 105,
      "outputs": [
        {
          "output_type": "execute_result",
          "data": {
            "text/plain": [
              "[<matplotlib.lines.Line2D at 0x7fcf6877b0b8>]"
            ]
          },
          "metadata": {
            "tags": []
          },
          "execution_count": 105
        },
        {
          "output_type": "display_data",
          "data": {
            "image/png": "[encoded data removed]",
            "text/plain": [
              "<matplotlib.figure.Figure at 0x7fcf687a2f98>"
            ]
          },
          "metadata": {
            "tags": []
          }
        }
      ]
    },
    {
      "metadata": {
        "id": "MMhv-sFQCz7h",
        "colab_type": "code",
        "colab": {
          "base_uri": "https://localhost:8080/",
          "height": 51
        },
        "outputId": "0688295d-2298-4ba1-c4d9-64f882d4ba45"
      },
      "cell_type": "code",
      "source": [
        "# Evalute the same model\n",
        "model.evaluate(x=train_x, y=train_y)"
      ],
      "execution_count": 69,
      "outputs": [
        {
          "output_type": "stream",
          "text": [
            "98/98 [==============================] - 1s 8ms/step\n"
          ],
          "name": "stdout"
        },
        {
          "output_type": "execute_result",
          "data": {
            "text/plain": [
              "[0.0036359830968538107, 1.0]"
            ]
          },
          "metadata": {
            "tags": []
          },
          "execution_count": 69
        }
      ]
    },
    {
      "metadata": {
        "id": "ckLOHc2UQ7A_",
        "colab_type": "code",
        "colab": {}
      },
      "cell_type": "code",
      "source": [
        ""
      ],
      "execution_count": 0,
      "outputs": []
    }
  ]
}