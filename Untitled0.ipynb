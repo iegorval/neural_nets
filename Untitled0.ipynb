{
  "nbformat": 4,
  "nbformat_minor": 0,
  "metadata": {
    "colab": {
      "name": "Untitled0.ipynb",
      "version": "0.3.2",
      "provenance": [],
      "collapsed_sections": [],
      "toc_visible": true
    },
    "kernelspec": {
      "name": "python3",
      "display_name": "Python 3"
    }
  },
  "cells": [
    {
      "cell_type": "markdown",
      "metadata": {
        "id": "view-in-github",
        "colab_type": "text"
      },
      "source": [
        "[View in Colaboratory](https://colab.research.google.com/github/iegorval/neural_nets/blob/master/Untitled0.ipynb)"
      ]
    },
    {
      "metadata": {
        "id": "oV2qqlq5QmNd",
        "colab_type": "text"
      },
      "cell_type": "markdown",
      "source": [
        "# Getting Ready\n",
        "Prepare the files and the libraries for the experiment."
      ]
    },
    {
      "metadata": {
        "id": "aWQrp_kPQop9",
        "colab_type": "code",
        "colab": {}
      },
      "cell_type": "code",
      "source": [
        "# Installs\n",
        "!pip install -U -q PyDrive"
      ],
      "execution_count": 0,
      "outputs": []
    },
    {
      "metadata": {
        "id": "FAQQdDA9UBDj",
        "colab_type": "code",
        "colab": {
          "base_uri": "https://localhost:8080/",
          "height": 34
        },
        "outputId": "091e3bce-7c73-4a8e-8c0f-b0e002b09347"
      },
      "cell_type": "code",
      "source": [
        "# Imports\n",
        "from pydrive.auth import GoogleAuth\n",
        "from pydrive.drive import GoogleDrive\n",
        "from google.colab import auth\n",
        "from oauth2client.client import GoogleCredentials\n",
        "import numpy as np \n",
        "import pandas as pd\n",
        "import matplotlib.pyplot as plt\n",
        "from keras.layers import LSTM, Input, Activation, Dense, TimeDistributed, Dropout, BatchNormalization\n",
        "from keras.models import Sequential\n",
        "from keras import optimizers\n",
        "from keras.callbacks import Callback\n",
        "import keras.backend as K\n",
        "import re\n",
        "from io import StringIO"
      ],
      "execution_count": 2,
      "outputs": [
        {
          "output_type": "stream",
          "text": [
            "Using TensorFlow backend.\n"
          ],
          "name": "stderr"
        }
      ]
    },
    {
      "metadata": {
        "id": "3hcA5ujlQsX7",
        "colab_type": "code",
        "colab": {}
      },
      "cell_type": "code",
      "source": [
        "# PyDrive client\n",
        "auth.authenticate_user()\n",
        "gauth = GoogleAuth()\n",
        "gauth.credentials = GoogleCredentials.get_application_default()\n",
        "drive = GoogleDrive(gauth)\n",
        "# Get all files from the root folder\n",
        "file_list = drive.ListFile({'q': \"'root' in parents and trashed=false\"}).GetList()"
      ],
      "execution_count": 0,
      "outputs": []
    },
    {
      "metadata": {
        "id": "g6sjBvHZcFKB",
        "colab_type": "code",
        "colab": {}
      },
      "cell_type": "code",
      "source": [
        "# Get the .pow files \n",
        "pow_files = [(file['title'], file['id'], re.sub(r'_[0-9]+|.pow', '', file['title'])) \n",
        "             for file in file_list if file['title'].find('.pow')>0]\n",
        "num_examples = len(pow_files)\n",
        "# Get the categories\n",
        "categories = list(set([file_info[2] for file_info in pow_files]))\n",
        "# Get the dictionary of the categories\n",
        "num_cat = len(categories)\n",
        "categories_dict = {categories[i] : i for i in range(num_cat)}"
      ],
      "execution_count": 0,
      "outputs": []
    },
    {
      "metadata": {
        "id": "gAXuechYyXpq",
        "colab_type": "text"
      },
      "cell_type": "markdown",
      "source": [
        "# Utils\n",
        "Helper functions."
      ]
    },
    {
      "metadata": {
        "id": "wJwNdX5UyT1a",
        "colab_type": "code",
        "colab": {}
      },
      "cell_type": "code",
      "source": [
        "def to_one_hot(category):\n",
        "  assert category < num_cat\n",
        "  one_hot = np.zeros((num_cat))\n",
        "  one_hot[category] = 1\n",
        "  return one_hot"
      ],
      "execution_count": 0,
      "outputs": []
    },
    {
      "metadata": {
        "id": "TVWW1kVnMNxP",
        "colab_type": "code",
        "colab": {}
      },
      "cell_type": "code",
      "source": [
        "def from_one_hot(one_hot):\n",
        "  for i in range(len(one_hot)):\n",
        "    if one_hot[i]==1:\n",
        "      return i"
      ],
      "execution_count": 0,
      "outputs": []
    },
    {
      "metadata": {
        "id": "_OimloG8Qbh6",
        "colab_type": "code",
        "colab": {}
      },
      "cell_type": "code",
      "source": [
        "def get_toy_data():\n",
        "  # TOY DATA\n",
        "  times_list = [(np.transpose(np.array(df_cut[0][[0]])), df_cut[1]) for df_cut in list_df_cut]\n",
        "  times_long = [(np.transpose(times[0]), times[1]) for times in times_list if times[0].shape[1]>=max_length]\n",
        "  times_no_labels = [times[0] for times in times_long]\n",
        "  \n",
        "  num_cat = 2\n",
        "  # Generate first class of data\n",
        "  cos_data = [np.cos(times) for times in times_no_labels]\n",
        "  cos_y = [to_one_hot(0)] * len(cos_data)\n",
        "  # Generate second class of data\n",
        "  arccos_data = [np.arccos(np.cos(times)) for times in times_no_labels]\n",
        "  arccos_y = [to_one_hot(1)] * len(arccos_data) \n",
        "  # Combine together\n",
        "  toy_data = cos_data + arccos_data\n",
        "  # Skip some timesteps\n",
        "  skip = 10\n",
        "  toy_skip = list()\n",
        "  for toy_example in toy_data:\n",
        "    toy_skip.append(list())\n",
        "    i = 0\n",
        "    while True:\n",
        "      toy_skip[-1].append(toy_example[i])\n",
        "      i += skip\n",
        "      if i >= len(toy_example):\n",
        "        break\n",
        "  \n",
        "  toy_x = np.stack(toy_skip, axis=0)\n",
        "  toy_y = np.array(cos_y + arccos_y)\n",
        "  return toy_x, toy_y"
      ],
      "execution_count": 0,
      "outputs": []
    },
    {
      "metadata": {
        "id": "sMx7hyVBb1sQ",
        "colab_type": "code",
        "colab": {
          "base_uri": "https://localhost:8080/",
          "height": 364
        },
        "outputId": "7598ed7b-ec54-4d78-bf26-e548982d8fc7"
      },
      "cell_type": "code",
      "source": [
        "toy_x, toy_y = get_toy_data()\n",
        "plt.plot(toy_x[0])"
      ],
      "execution_count": 100,
      "outputs": [
        {
          "output_type": "execute_result",
          "data": {
            "text/plain": [
              "[<matplotlib.lines.Line2D at 0x7fcf69e234e0>]"
            ]
          },
          "metadata": {
            "tags": []
          },
          "execution_count": 100
        },
        {
          "output_type": "display_data",
          "data": {
            "image/png": "[encoded data removed]",
            "text/plain": [
              "<matplotlib.figure.Figure at 0x7fcf6a062438>"
            ]
          },
          "metadata": {
            "tags": []
          }
        }
      ]
    },
    {
      "metadata": {
        "id": "0bfZo4MevEmv",
        "colab_type": "text"
      },
      "cell_type": "markdown",
      "source": [
        "# Model\n",
        "Recurrent Neural Network model in Keras."
      ]
    },
    {
      "metadata": {
        "id": "HAbg2Knco78O",
        "colab_type": "code",
        "colab": {}
      },
      "cell_type": "code",
      "source": [
        "def get_model():\n",
        "  model = Sequential()\n",
        "  #model.add(BatchNormalization(input_shape=(max_length//skip,1)))\n",
        "  model.add(LSTM(64, return_sequences=True, input_shape=(max_length//skip,1)))\n",
        "  model.add(Dropout(0.4))\n",
        "  model.add(LSTM(64))\n",
        "  model.add(Dropout(0.4))\n",
        "  \n",
        "  #model.add(LSTM(128, return_sequences=False))\n",
        "  model.add(Dense(num_cat))\n",
        "  model.add(Activation(\"softmax\"))\n",
        "  return model"
      ],
      "execution_count": 0,
      "outputs": []
    },
    {
      "metadata": {
        "id": "xzVxrl55U4dR",
        "colab_type": "text"
      },
      "cell_type": "markdown",
      "source": [
        "# Data\n",
        "Preprocess the data: combine all the examples together and introduce padding where necessary. Split the longest time series in the several smaller ones."
      ]
    },
    {
      "metadata": {
        "id": "p9cw30IWh8yK",
        "colab_type": "code",
        "colab": {}
      },
      "cell_type": "code",
      "source": [
        "# Make a list of dataframes along with their corresponding classes\n",
        "list_df = list()\n",
        "for pow_file in pow_files:\n",
        "  f = drive.CreateFile({'id': pow_file[1]})\n",
        "  content = f.GetContentString()\n",
        "  dataIO = StringIO(content)\n",
        "  df = pd.read_csv(dataIO, header=None, sep=' ')\n",
        "  list_df.append((df, to_one_hot(categories_dict[pow_file[2]])))"
      ],
      "execution_count": 0,
      "outputs": []
    },
    {
      "metadata": {
        "id": "0JxLBoY_i4li",
        "colab_type": "code",
        "colab": {}
      },
      "cell_type": "code",
      "source": [
        "# Split the biggest examples into separate sequences\n",
        "max_length = 1000\n",
        "long_dfs = [i for i in range(len(list_df)) if list_df[i][0].shape[0] > max_length]\n",
        "list_df_cut = list(list_df)\n",
        "max_examples = 25 #75\n",
        "examples_categories = {0: 0, 1: 0, 2: 0, 3: 0, 4: 0, 5: 0}\n",
        "for i in reversed(long_dfs):\n",
        "  df = list_df_cut[i][0]\n",
        "  category = from_one_hot(list_df_cut[i][1])\n",
        "  for g, split_df in df.groupby(np.arange(len(df)) // max_length):\n",
        "    if examples_categories[category] < max_examples:\n",
        "      list_df_cut.append((split_df, list_df[i][1]))\n",
        "      examples_categories[category] += 1\n",
        "  del list_df_cut[i]"
      ],
      "execution_count": 0,
      "outputs": []
    },
    {
      "metadata": {
        "id": "y1T3HWkIm1lw",
        "colab_type": "code",
        "colab": {}
      },
      "cell_type": "code",
      "source": [
        "# Get only the measurements for current\n",
        "currents_list = [(np.transpose(np.array(df_cut[0][[2]])), df_cut[1]) for df_cut in list_df_cut]\n",
        "currents_long = [(np.transpose(currents[0]), currents[1]) for currents in currents_list if currents[0].shape[1]>=max_length]\n",
        "currents_no_labels = [currents[0] for currents in currents_long]\n",
        "# Pad the measurements with 0s from the beginning\n",
        "#currents_pad = [np.transpose(sequence.pad_sequences(currents[0], maxlen=max_length, dtype='float64')) for currents in currents_list]"
      ],
      "execution_count": 0,
      "outputs": []
    },
    {
      "metadata": {
        "id": "l1tC1WDSjQw8",
        "colab_type": "code",
        "colab": {
          "base_uri": "https://localhost:8080/",
          "height": 366
        },
        "outputId": "b516e640-3109-4fde-ddb5-e3933f80155e"
      },
      "cell_type": "code",
      "source": [
        "plt.plot(currents_no_labels[0])"
      ],
      "execution_count": 12,
      "outputs": [
        {
          "output_type": "execute_result",
          "data": {
            "text/plain": [
              "[<matplotlib.lines.Line2D at 0x7fd8fc6c99e8>]"
            ]
          },
          "metadata": {
            "tags": []
          },
          "execution_count": 12
        },
        {
          "output_type": "display_data",
          "data": {
            "image/png": "[encoded data removed]",
            "text/plain": [
              "<matplotlib.figure.Figure at 0x7fd8fc65b6a0>"
            ]
          },
          "metadata": {
            "tags": []
          }
        }
      ]
    },
    {
      "metadata": {
        "id": "fDc3SUp6BPE8",
        "colab_type": "code",
        "colab": {}
      },
      "cell_type": "code",
      "source": [
        "# Skip some timesteps\n",
        "skip = 10\n",
        "currents_skip = list()\n",
        "for currents in currents_no_labels:\n",
        "  currents_skip.append(list())\n",
        "  i = 0\n",
        "  while True:\n",
        "    currents_skip[-1].append(currents[i])\n",
        "    i += skip\n",
        "    if i >= len(currents):\n",
        "      break"
      ],
      "execution_count": 0,
      "outputs": []
    },
    {
      "metadata": {
        "id": "JPVtIqrJjaDz",
        "colab_type": "code",
        "colab": {
          "base_uri": "https://localhost:8080/",
          "height": 368
        },
        "outputId": "99d17a05-ed27-4839-e66d-373f1d0a8848"
      },
      "cell_type": "code",
      "source": [
        "plt.plot(currents_skip[0])"
      ],
      "execution_count": 14,
      "outputs": [
        {
          "output_type": "execute_result",
          "data": {
            "text/plain": [
              "[<matplotlib.lines.Line2D at 0x7fd8fa431550>]"
            ]
          },
          "metadata": {
            "tags": []
          },
          "execution_count": 14
        },
        {
          "output_type": "display_data",
          "data": {
            "image/png": "[encoded data removed]",
            "text/plain": [
              "<matplotlib.figure.Figure at 0x7fd8fc6859e8>"
            ]
          },
          "metadata": {
            "tags": []
          }
        }
      ]
    },
    {
      "metadata": {
        "id": "b2pEzVQUESSD",
        "colab_type": "code",
        "colab": {}
      },
      "cell_type": "code",
      "source": [
        "# Get training data into a numpy matrix\n",
        "train_x = np.stack(currents_skip, axis=0)\n",
        "# Get training labels\n",
        "train_y = np.array([currents[1] for currents in currents_long])\n",
        "train_y_labels = [from_one_hot(one_hot) for one_hot in train_y]"
      ],
      "execution_count": 0,
      "outputs": []
    },
    {
      "metadata": {
        "id": "RWwIa0O_k0WX",
        "colab_type": "code",
        "colab": {
          "base_uri": "https://localhost:8080/",
          "height": 34
        },
        "outputId": "78131cc5-e49d-4552-b785-0772ab5928f4"
      },
      "cell_type": "code",
      "source": [
        "print(train_x.shape, train_y.shape)"
      ],
      "execution_count": 16,
      "outputs": [
        {
          "output_type": "stream",
          "text": [
            "(98, 100, 1) (98, 6)\n"
          ],
          "name": "stdout"
        }
      ]
    },
    {
      "metadata": {
        "id": "K9kyzpWhMrSc",
        "colab_type": "text"
      },
      "cell_type": "markdown",
      "source": [
        "# Experiment"
      ]
    },
    {
      "metadata": {
        "id": "18uzH69xywMu",
        "colab_type": "code",
        "colab": {
          "base_uri": "https://localhost:8080/",
          "height": 340
        },
        "outputId": "26c60a64-c4ed-4acb-86bc-86774fb073ff"
      },
      "cell_type": "code",
      "source": [
        "model = get_model()\n",
        "model.summary()"
      ],
      "execution_count": 12,
      "outputs": [
        {
          "output_type": "stream",
          "text": [
            "_________________________________________________________________\n",
            "Layer (type)                 Output Shape              Param #   \n",
            "=================================================================\n",
            "lstm_1 (LSTM)                (None, 100, 64)           16896     \n",
            "_________________________________________________________________\n",
            "dropout_1 (Dropout)          (None, 100, 64)           0         \n",
            "_________________________________________________________________\n",
            "lstm_2 (LSTM)                (None, 64)                33024     \n",
            "_________________________________________________________________\n",
            "dropout_2 (Dropout)          (None, 64)                0         \n",
            "_________________________________________________________________\n",
            "dense_1 (Dense)              (None, 6)                 390       \n",
            "_________________________________________________________________\n",
            "activation_1 (Activation)    (None, 6)                 0         \n",
            "=================================================================\n",
            "Total params: 50,310\n",
            "Trainable params: 50,310\n",
            "Non-trainable params: 0\n",
            "_________________________________________________________________\n"
          ],
          "name": "stdout"
        }
      ]
    },
    {
      "metadata": {
        "id": "KqW5KT0hR6Iz",
        "colab_type": "code",
        "colab": {}
      },
      "cell_type": "code",
      "source": [
        "#rms = optimizers.RMSprop(lr=1e-15)\n",
        "#sgd = optimizers.SGD(lr=0.0000000000000000000001, momentum=0.0, decay=0.0, nesterov=False)\n",
        "model.compile(loss='categorical_crossentropy', optimizer='rmsprop', metrics=['accuracy'])"
      ],
      "execution_count": 0,
      "outputs": []
    },
    {
      "metadata": {
        "id": "cKnrvOYa8h8G",
        "colab_type": "code",
        "colab": {
          "base_uri": "https://localhost:8080/",
          "height": 47617
        },
        "outputId": "4bd6e384-6c99-47de-e498-d22d670201a5"
      },
      "cell_type": "code",
      "source": [
        "history = model.fit(train_x, train_y, epochs = 1400, batch_size=4)\n",
        "#history = model.fit(toy_x, toy_y, epochs = 50, batch_size=4)"
      ],
      "execution_count": 15,
      "outputs": [
        {
          "output_type": "stream",
          "text": [
            "Epoch 1/1400\n",
            "98/98 [==============================] - 4s 42ms/step - loss: 1.7941 - acc: 0.1531\n",
            "Epoch 2/1400\n",
            "98/98 [==============================] - 3s 33ms/step - loss: 1.7586 - acc: 0.1837\n",
            "Epoch 3/1400\n",
            "98/98 [==============================] - 3s 33ms/step - loss: 1.7677 - acc: 0.2551\n",
            "Epoch 4/1400\n",
            "98/98 [==============================] - 3s 33ms/step - loss: 1.7715 - acc: 0.2653\n",
            "Epoch 5/1400\n",
            "98/98 [==============================] - 3s 33ms/step - loss: 1.7907 - acc: 0.1939\n",
            "Epoch 6/1400\n",
            "98/98 [==============================] - 3s 33ms/step - loss: 1.7585 - acc: 0.2551\n",
            "Epoch 7/1400\n",
            "98/98 [==============================] - 3s 33ms/step - loss: 1.7728 - acc: 0.2857\n",
            "Epoch 8/1400\n",
            "98/98 [==============================] - 3s 33ms/step - loss: 1.7612 - acc: 0.2551\n",
            "Epoch 9/1400\n",
            "48/98 [=============>................] - ETA: 1s - loss: 1.7308 - acc: 0.2917"
          ],
          "name": "stdout"
        },
        {
          "output_type": "stream",
          "text": [
            "98/98 [==============================] - 3s 33ms/step - loss: 1.7559 - acc: 0.2857\n",
            "Epoch 10/1400\n",
            "98/98 [==============================] - 3s 33ms/step - loss: 1.7754 - acc: 0.2755\n",
            "Epoch 11/1400\n",
            "98/98 [==============================] - 3s 32ms/step - loss: 1.7638 - acc: 0.2551\n",
            "Epoch 12/1400\n",
            "98/98 [==============================] - 3s 33ms/step - loss: 1.7689 - acc: 0.2449\n",
            "Epoch 13/1400\n",
            "98/98 [==============================] - 3s 33ms/step - loss: 1.7612 - acc: 0.2449\n",
            "Epoch 14/1400\n",
            "98/98 [==============================] - 3s 33ms/step - loss: 1.7521 - acc: 0.2245\n",
            "Epoch 15/1400\n",
            "98/98 [==============================] - 3s 34ms/step - loss: 1.7392 - acc: 0.2857\n",
            "Epoch 16/1400\n",
            "98/98 [==============================] - 3s 33ms/step - loss: 1.7369 - acc: 0.2449\n",
            "Epoch 17/1400\n",
            "64/98 [==================>...........] - ETA: 1s - loss: 1.7530 - acc: 0.2656"
          ],
          "name": "stdout"
        },
        {
          "output_type": "stream",
          "text": [
            "98/98 [==============================] - 3s 34ms/step - loss: 1.7526 - acc: 0.2653\n",
            "Epoch 18/1400\n",
            "98/98 [==============================] - 3s 34ms/step - loss: 1.7455 - acc: 0.2347\n",
            "Epoch 19/1400\n",
            "98/98 [==============================] - 3s 33ms/step - loss: 1.7517 - acc: 0.2551\n",
            "Epoch 20/1400\n",
            "98/98 [==============================] - 3s 33ms/step - loss: 1.7510 - acc: 0.2653\n",
            "Epoch 21/1400\n",
            "98/98 [==============================] - 3s 33ms/step - loss: 1.7289 - acc: 0.2653\n",
            "Epoch 22/1400\n",
            "98/98 [==============================] - 3s 33ms/step - loss: 1.7377 - acc: 0.2653\n",
            "Epoch 23/1400\n",
            "98/98 [==============================] - 3s 33ms/step - loss: 1.7350 - acc: 0.2551\n",
            "Epoch 24/1400\n",
            "98/98 [==============================] - 3s 33ms/step - loss: 1.7184 - acc: 0.2551\n",
            "Epoch 25/1400\n",
            "64/98 [==================>...........] - ETA: 1s - loss: 1.8109 - acc: 0.3281"
          ],
          "name": "stdout"
        },
        {
          "output_type": "stream",
          "text": [
            "98/98 [==============================] - 3s 33ms/step - loss: 1.8047 - acc: 0.2755\n",
            "Epoch 26/1400\n",
            "98/98 [==============================] - 3s 33ms/step - loss: 1.6981 - acc: 0.2857\n",
            "Epoch 27/1400\n",
            "98/98 [==============================] - 3s 33ms/step - loss: 1.7272 - acc: 0.2857\n",
            "Epoch 28/1400\n",
            "98/98 [==============================] - 3s 33ms/step - loss: 1.7151 - acc: 0.3163\n",
            "Epoch 29/1400\n",
            "98/98 [==============================] - 3s 33ms/step - loss: 1.7119 - acc: 0.2347\n",
            "Epoch 30/1400\n",
            "98/98 [==============================] - 3s 33ms/step - loss: 1.7096 - acc: 0.3571\n",
            "Epoch 31/1400\n",
            "98/98 [==============================] - 3s 33ms/step - loss: 1.6897 - acc: 0.3061\n",
            "Epoch 32/1400\n",
            "98/98 [==============================] - 3s 33ms/step - loss: 1.6955 - acc: 0.2653\n",
            "Epoch 33/1400\n",
            "64/98 [==================>...........] - ETA: 1s - loss: 1.6878 - acc: 0.3125"
          ],
          "name": "stdout"
        },
        {
          "output_type": "stream",
          "text": [
            "98/98 [==============================] - 3s 32ms/step - loss: 1.6759 - acc: 0.2959\n",
            "Epoch 34/1400\n",
            "98/98 [==============================] - 3s 33ms/step - loss: 1.6561 - acc: 0.2959\n",
            "Epoch 35/1400\n",
            "98/98 [==============================] - 3s 33ms/step - loss: 1.6232 - acc: 0.3571\n",
            "Epoch 36/1400\n",
            "98/98 [==============================] - 3s 33ms/step - loss: 1.6214 - acc: 0.3061\n",
            "Epoch 37/1400\n",
            "98/98 [==============================] - 3s 33ms/step - loss: 1.5966 - acc: 0.3571\n",
            "Epoch 38/1400\n",
            "98/98 [==============================] - 3s 32ms/step - loss: 1.6033 - acc: 0.3265\n",
            "Epoch 39/1400\n",
            "98/98 [==============================] - 3s 32ms/step - loss: 1.6408 - acc: 0.2551\n",
            "Epoch 40/1400\n",
            "98/98 [==============================] - 3s 33ms/step - loss: 1.6100 - acc: 0.3367\n",
            "Epoch 41/1400\n",
            "64/98 [==================>...........] - ETA: 1s - loss: 1.5982 - acc: 0.3438"
          ],
          "name": "stdout"
        },
        {
          "output_type": "stream",
          "text": [
            "98/98 [==============================] - 3s 33ms/step - loss: 1.6035 - acc: 0.3571\n",
            "Epoch 42/1400\n",
            "98/98 [==============================] - 3s 33ms/step - loss: 1.5728 - acc: 0.3469\n",
            "Epoch 43/1400\n",
            "98/98 [==============================] - 3s 33ms/step - loss: 1.5387 - acc: 0.3163\n",
            "Epoch 44/1400\n",
            "98/98 [==============================] - 3s 33ms/step - loss: 1.5738 - acc: 0.3163\n",
            "Epoch 45/1400\n",
            "98/98 [==============================] - 3s 33ms/step - loss: 1.5632 - acc: 0.3673\n",
            "Epoch 46/1400\n",
            "98/98 [==============================] - 3s 33ms/step - loss: 1.5665 - acc: 0.3367\n",
            "Epoch 47/1400\n",
            "98/98 [==============================] - 3s 33ms/step - loss: 1.4787 - acc: 0.4184\n",
            "Epoch 48/1400\n",
            "98/98 [==============================] - 3s 33ms/step - loss: 1.4768 - acc: 0.3776\n",
            "Epoch 49/1400\n",
            "64/98 [==================>...........] - ETA: 1s - loss: 1.5709 - acc: 0.3750"
          ],
          "name": "stdout"
        },
        {
          "output_type": "stream",
          "text": [
            "98/98 [==============================] - 3s 34ms/step - loss: 1.5162 - acc: 0.4082\n",
            "Epoch 50/1400\n",
            "98/98 [==============================] - 3s 33ms/step - loss: 1.5069 - acc: 0.3673\n",
            "Epoch 51/1400\n",
            "98/98 [==============================] - 3s 33ms/step - loss: 1.4709 - acc: 0.3878\n",
            "Epoch 52/1400\n",
            "98/98 [==============================] - 3s 33ms/step - loss: 1.4800 - acc: 0.4082\n",
            "Epoch 53/1400\n",
            "98/98 [==============================] - 3s 34ms/step - loss: 1.4525 - acc: 0.3673\n",
            "Epoch 54/1400\n",
            "98/98 [==============================] - 3s 34ms/step - loss: 1.5095 - acc: 0.3571\n",
            "Epoch 55/1400\n",
            "98/98 [==============================] - 3s 34ms/step - loss: 1.4564 - acc: 0.3980\n",
            "Epoch 56/1400\n",
            "98/98 [==============================] - 3s 33ms/step - loss: 1.5255 - acc: 0.3980\n",
            "Epoch 57/1400\n",
            "64/98 [==================>...........] - ETA: 1s - loss: 1.4644 - acc: 0.3438"
          ],
          "name": "stdout"
        },
        {
          "output_type": "stream",
          "text": [
            "98/98 [==============================] - 3s 34ms/step - loss: 1.3883 - acc: 0.3980\n",
            "Epoch 58/1400\n",
            "98/98 [==============================] - 3s 34ms/step - loss: 1.4857 - acc: 0.3878\n",
            "Epoch 59/1400\n",
            "98/98 [==============================] - 3s 33ms/step - loss: 1.4252 - acc: 0.4082\n",
            "Epoch 60/1400\n",
            "98/98 [==============================] - 3s 33ms/step - loss: 1.4732 - acc: 0.3469\n",
            "Epoch 61/1400\n",
            "98/98 [==============================] - 3s 33ms/step - loss: 1.4284 - acc: 0.4082\n",
            "Epoch 62/1400\n",
            "98/98 [==============================] - 3s 33ms/step - loss: 1.4427 - acc: 0.3673\n",
            "Epoch 63/1400\n",
            "98/98 [==============================] - 3s 33ms/step - loss: 1.4005 - acc: 0.4694\n",
            "Epoch 64/1400\n",
            "98/98 [==============================] - 3s 33ms/step - loss: 1.3882 - acc: 0.4286\n",
            "Epoch 65/1400\n",
            "64/98 [==================>...........] - ETA: 1s - loss: 1.3539 - acc: 0.4219"
          ],
          "name": "stdout"
        },
        {
          "output_type": "stream",
          "text": [
            "98/98 [==============================] - 3s 33ms/step - loss: 1.4077 - acc: 0.3980\n",
            "Epoch 66/1400\n",
            "98/98 [==============================] - 3s 33ms/step - loss: 1.3603 - acc: 0.3571\n",
            "Epoch 67/1400\n",
            "98/98 [==============================] - 3s 33ms/step - loss: 1.3460 - acc: 0.4082\n",
            "Epoch 68/1400\n",
            "98/98 [==============================] - 3s 33ms/step - loss: 1.3950 - acc: 0.4082\n",
            "Epoch 69/1400\n",
            "98/98 [==============================] - 3s 33ms/step - loss: 1.3890 - acc: 0.4592\n",
            "Epoch 70/1400\n",
            "98/98 [==============================] - 3s 33ms/step - loss: 1.3494 - acc: 0.4184\n",
            "Epoch 71/1400\n",
            "98/98 [==============================] - 3s 34ms/step - loss: 1.3924 - acc: 0.4184\n",
            "Epoch 72/1400\n",
            "98/98 [==============================] - 3s 34ms/step - loss: 1.3127 - acc: 0.4286\n",
            "Epoch 73/1400\n",
            "64/98 [==================>...........] - ETA: 1s - loss: 1.3727 - acc: 0.3750"
          ],
          "name": "stdout"
        },
        {
          "output_type": "stream",
          "text": [
            "98/98 [==============================] - 3s 34ms/step - loss: 1.3667 - acc: 0.4184\n",
            "Epoch 74/1400\n",
            "98/98 [==============================] - 3s 33ms/step - loss: 1.4507 - acc: 0.4286\n",
            "Epoch 75/1400\n",
            "98/98 [==============================] - 3s 33ms/step - loss: 1.3112 - acc: 0.4592\n",
            "Epoch 76/1400\n",
            "98/98 [==============================] - 3s 34ms/step - loss: 1.3321 - acc: 0.4898\n",
            "Epoch 77/1400\n",
            "98/98 [==============================] - 3s 34ms/step - loss: 1.3470 - acc: 0.4796\n",
            "Epoch 78/1400\n",
            "98/98 [==============================] - 3s 34ms/step - loss: 1.3980 - acc: 0.3673\n",
            "Epoch 79/1400\n",
            "98/98 [==============================] - 3s 34ms/step - loss: 1.3295 - acc: 0.4796\n",
            "Epoch 80/1400\n",
            "98/98 [==============================] - 3s 34ms/step - loss: 1.3365 - acc: 0.4184\n",
            "Epoch 81/1400\n",
            "64/98 [==================>...........] - ETA: 1s - loss: 1.2100 - acc: 0.5469"
          ],
          "name": "stdout"
        },
        {
          "output_type": "stream",
          "text": [
            "98/98 [==============================] - 3s 34ms/step - loss: 1.4502 - acc: 0.4388\n",
            "Epoch 82/1400\n",
            "98/98 [==============================] - 3s 34ms/step - loss: 1.2456 - acc: 0.4898\n",
            "Epoch 83/1400\n",
            "98/98 [==============================] - 3s 34ms/step - loss: 1.3903 - acc: 0.4388\n",
            "Epoch 84/1400\n",
            "98/98 [==============================] - 3s 33ms/step - loss: 1.2025 - acc: 0.5306\n",
            "Epoch 85/1400\n",
            "98/98 [==============================] - 3s 34ms/step - loss: 1.3513 - acc: 0.4796\n",
            "Epoch 86/1400\n",
            "98/98 [==============================] - 3s 34ms/step - loss: 1.3042 - acc: 0.4898\n",
            "Epoch 87/1400\n",
            "98/98 [==============================] - 3s 34ms/step - loss: 1.3211 - acc: 0.4490\n",
            "Epoch 88/1400\n",
            "98/98 [==============================] - 3s 33ms/step - loss: 1.2504 - acc: 0.4898\n",
            "Epoch 89/1400\n",
            "64/98 [==================>...........] - ETA: 1s - loss: 1.2426 - acc: 0.4375"
          ],
          "name": "stdout"
        },
        {
          "output_type": "stream",
          "text": [
            "98/98 [==============================] - 3s 33ms/step - loss: 1.2946 - acc: 0.4592\n",
            "Epoch 90/1400\n",
            "98/98 [==============================] - 3s 34ms/step - loss: 1.2157 - acc: 0.4592\n",
            "Epoch 91/1400\n",
            "98/98 [==============================] - 3s 33ms/step - loss: 1.2518 - acc: 0.5000\n",
            "Epoch 92/1400\n",
            "98/98 [==============================] - 3s 33ms/step - loss: 1.4065 - acc: 0.4286\n",
            "Epoch 93/1400\n",
            "98/98 [==============================] - 3s 34ms/step - loss: 1.2084 - acc: 0.4898\n",
            "Epoch 94/1400\n",
            "98/98 [==============================] - 3s 33ms/step - loss: 1.1956 - acc: 0.5000\n",
            "Epoch 95/1400\n",
            "98/98 [==============================] - 3s 34ms/step - loss: 1.2767 - acc: 0.4694\n",
            "Epoch 96/1400\n",
            "98/98 [==============================] - 3s 34ms/step - loss: 1.2868 - acc: 0.4490\n",
            "Epoch 97/1400\n",
            "64/98 [==================>...........] - ETA: 1s - loss: 1.2881 - acc: 0.4844"
          ],
          "name": "stdout"
        },
        {
          "output_type": "stream",
          "text": [
            "98/98 [==============================] - 3s 33ms/step - loss: 1.2565 - acc: 0.4694\n",
            "Epoch 98/1400\n",
            "98/98 [==============================] - 3s 34ms/step - loss: 1.1820 - acc: 0.5102\n",
            "Epoch 99/1400\n",
            "98/98 [==============================] - 3s 33ms/step - loss: 1.2427 - acc: 0.4388\n",
            "Epoch 100/1400\n",
            "98/98 [==============================] - 3s 33ms/step - loss: 1.1001 - acc: 0.5306\n",
            "Epoch 101/1400\n",
            "98/98 [==============================] - 3s 33ms/step - loss: 1.1669 - acc: 0.5204\n",
            "Epoch 102/1400\n",
            "98/98 [==============================] - 3s 33ms/step - loss: 1.1867 - acc: 0.4898\n",
            "Epoch 103/1400\n",
            "98/98 [==============================] - 3s 33ms/step - loss: 1.2754 - acc: 0.4694\n",
            "Epoch 104/1400\n",
            "98/98 [==============================] - 3s 34ms/step - loss: 1.1716 - acc: 0.5306\n",
            "Epoch 105/1400\n",
            "64/98 [==================>...........] - ETA: 1s - loss: 1.2745 - acc: 0.4375"
          ],
          "name": "stdout"
        },
        {
          "output_type": "stream",
          "text": [
            "98/98 [==============================] - 3s 34ms/step - loss: 1.3544 - acc: 0.4082\n",
            "Epoch 106/1400\n",
            "98/98 [==============================] - 3s 34ms/step - loss: 1.1142 - acc: 0.5714\n",
            "Epoch 107/1400\n",
            "98/98 [==============================] - 3s 34ms/step - loss: 1.1281 - acc: 0.5612\n",
            "Epoch 108/1400\n",
            "98/98 [==============================] - 3s 34ms/step - loss: 1.2644 - acc: 0.5306\n",
            "Epoch 109/1400\n",
            "98/98 [==============================] - 3s 33ms/step - loss: 1.3725 - acc: 0.4388\n",
            "Epoch 110/1400\n",
            "98/98 [==============================] - 3s 33ms/step - loss: 1.1749 - acc: 0.5102\n",
            "Epoch 111/1400\n",
            "98/98 [==============================] - 3s 32ms/step - loss: 1.2573 - acc: 0.4898\n",
            "Epoch 112/1400\n",
            "98/98 [==============================] - 3s 33ms/step - loss: 1.1675 - acc: 0.5714\n",
            "Epoch 113/1400\n",
            "60/98 [=================>............] - ETA: 1s - loss: 1.1826 - acc: 0.4500"
          ],
          "name": "stdout"
        },
        {
          "output_type": "stream",
          "text": [
            "98/98 [==============================] - 3s 34ms/step - loss: 1.1883 - acc: 0.4286\n",
            "Epoch 114/1400\n",
            "98/98 [==============================] - 3s 33ms/step - loss: 1.1962 - acc: 0.5918\n",
            "Epoch 115/1400\n",
            "98/98 [==============================] - 3s 33ms/step - loss: 1.1998 - acc: 0.5204\n",
            "Epoch 116/1400\n",
            "98/98 [==============================] - 3s 33ms/step - loss: 1.1752 - acc: 0.5408\n",
            "Epoch 117/1400\n",
            "98/98 [==============================] - 3s 33ms/step - loss: 1.0911 - acc: 0.6122\n",
            "Epoch 118/1400\n",
            "98/98 [==============================] - 3s 33ms/step - loss: 1.2156 - acc: 0.5306\n",
            "Epoch 119/1400\n",
            "98/98 [==============================] - 3s 33ms/step - loss: 1.0537 - acc: 0.6020\n",
            "Epoch 120/1400\n",
            "98/98 [==============================] - 3s 33ms/step - loss: 1.1624 - acc: 0.5204\n",
            "Epoch 121/1400\n",
            "60/98 [=================>............] - ETA: 1s - loss: 1.2210 - acc: 0.4167"
          ],
          "name": "stdout"
        },
        {
          "output_type": "stream",
          "text": [
            "98/98 [==============================] - 3s 33ms/step - loss: 1.0967 - acc: 0.5408\n",
            "Epoch 122/1400\n",
            "98/98 [==============================] - 3s 33ms/step - loss: 1.1122 - acc: 0.5612\n",
            "Epoch 123/1400\n",
            "98/98 [==============================] - 3s 34ms/step - loss: 1.0941 - acc: 0.5204\n",
            "Epoch 124/1400\n",
            "98/98 [==============================] - 3s 34ms/step - loss: 1.1265 - acc: 0.5714\n",
            "Epoch 125/1400\n",
            "98/98 [==============================] - 3s 34ms/step - loss: 1.0696 - acc: 0.5816\n",
            "Epoch 126/1400\n",
            "98/98 [==============================] - 3s 34ms/step - loss: 1.0027 - acc: 0.5816\n",
            "Epoch 127/1400\n",
            "98/98 [==============================] - 3s 34ms/step - loss: 1.0659 - acc: 0.6122\n",
            "Epoch 128/1400\n",
            "98/98 [==============================] - 3s 34ms/step - loss: 1.0093 - acc: 0.5714\n",
            "Epoch 129/1400\n",
            "60/98 [=================>............] - ETA: 1s - loss: 0.9816 - acc: 0.6667"
          ],
          "name": "stdout"
        },
        {
          "output_type": "stream",
          "text": [
            "98/98 [==============================] - 3s 33ms/step - loss: 1.1376 - acc: 0.5918\n",
            "Epoch 130/1400\n",
            "98/98 [==============================] - 3s 33ms/step - loss: 1.1518 - acc: 0.5408\n",
            "Epoch 131/1400\n",
            "98/98 [==============================] - 3s 33ms/step - loss: 1.0336 - acc: 0.6327\n",
            "Epoch 132/1400\n",
            "98/98 [==============================] - 3s 33ms/step - loss: 1.0954 - acc: 0.5918\n",
            "Epoch 133/1400\n",
            "98/98 [==============================] - 3s 33ms/step - loss: 1.1993 - acc: 0.4796\n",
            "Epoch 134/1400\n",
            "98/98 [==============================] - 3s 33ms/step - loss: 1.0919 - acc: 0.5408\n",
            "Epoch 135/1400\n",
            "98/98 [==============================] - 3s 33ms/step - loss: 1.1985 - acc: 0.5000\n",
            "Epoch 136/1400\n",
            "98/98 [==============================] - 3s 33ms/step - loss: 1.2115 - acc: 0.5918\n",
            "Epoch 137/1400\n",
            "60/98 [=================>............] - ETA: 1s - loss: 1.4930 - acc: 0.5000"
          ],
          "name": "stdout"
        },
        {
          "output_type": "stream",
          "text": [
            "98/98 [==============================] - 3s 33ms/step - loss: 1.3296 - acc: 0.5000\n",
            "Epoch 138/1400\n",
            "98/98 [==============================] - 3s 33ms/step - loss: 0.9546 - acc: 0.6327\n",
            "Epoch 139/1400\n",
            "98/98 [==============================] - 3s 33ms/step - loss: 1.0230 - acc: 0.5510\n",
            "Epoch 140/1400\n",
            "98/98 [==============================] - 3s 34ms/step - loss: 1.0241 - acc: 0.5102\n",
            "Epoch 141/1400\n",
            "98/98 [==============================] - 3s 33ms/step - loss: 1.0431 - acc: 0.5816\n",
            "Epoch 142/1400\n",
            "98/98 [==============================] - 3s 32ms/step - loss: 0.9079 - acc: 0.6122\n",
            "Epoch 143/1400\n",
            "98/98 [==============================] - 3s 32ms/step - loss: 1.0393 - acc: 0.5918\n",
            "Epoch 144/1400\n",
            "98/98 [==============================] - 3s 33ms/step - loss: 0.9704 - acc: 0.6531\n",
            "Epoch 145/1400\n",
            "60/98 [=================>............] - ETA: 1s - loss: 0.9584 - acc: 0.6333"
          ],
          "name": "stdout"
        },
        {
          "output_type": "stream",
          "text": [
            "98/98 [==============================] - 3s 34ms/step - loss: 0.9688 - acc: 0.6429\n",
            "Epoch 146/1400\n",
            "98/98 [==============================] - 3s 33ms/step - loss: 0.9779 - acc: 0.6327\n",
            "Epoch 147/1400\n",
            "98/98 [==============================] - 3s 34ms/step - loss: 1.1384 - acc: 0.5510\n",
            "Epoch 148/1400\n",
            "98/98 [==============================] - 3s 33ms/step - loss: 0.9757 - acc: 0.6327\n",
            "Epoch 149/1400\n",
            "98/98 [==============================] - 3s 33ms/step - loss: 0.9042 - acc: 0.6531\n",
            "Epoch 150/1400\n",
            "98/98 [==============================] - 3s 33ms/step - loss: 0.9277 - acc: 0.6122\n",
            "Epoch 151/1400\n",
            "98/98 [==============================] - 3s 33ms/step - loss: 1.0106 - acc: 0.5816\n",
            "Epoch 152/1400\n",
            "98/98 [==============================] - 3s 33ms/step - loss: 1.8257 - acc: 0.3878\n",
            "Epoch 153/1400\n",
            "60/98 [=================>............] - ETA: 1s - loss: 1.0734 - acc: 0.5167"
          ],
          "name": "stdout"
        },
        {
          "output_type": "stream",
          "text": [
            "98/98 [==============================] - 3s 32ms/step - loss: 0.9874 - acc: 0.5714\n",
            "Epoch 154/1400\n",
            "98/98 [==============================] - 3s 33ms/step - loss: 0.9463 - acc: 0.5816\n",
            "Epoch 155/1400\n",
            "98/98 [==============================] - 3s 33ms/step - loss: 0.9807 - acc: 0.6020\n",
            "Epoch 156/1400\n",
            "98/98 [==============================] - 3s 33ms/step - loss: 0.8847 - acc: 0.6633\n",
            "Epoch 157/1400\n",
            "98/98 [==============================] - 3s 33ms/step - loss: 0.9511 - acc: 0.6633\n",
            "Epoch 158/1400\n",
            "98/98 [==============================] - 3s 33ms/step - loss: 0.9824 - acc: 0.6122\n",
            "Epoch 159/1400\n",
            "98/98 [==============================] - 3s 33ms/step - loss: 0.9238 - acc: 0.6837\n",
            "Epoch 160/1400\n",
            "98/98 [==============================] - 3s 33ms/step - loss: 0.8979 - acc: 0.6633\n",
            "Epoch 161/1400\n",
            "60/98 [=================>............] - ETA: 1s - loss: 1.1120 - acc: 0.5667"
          ],
          "name": "stdout"
        },
        {
          "output_type": "stream",
          "text": [
            "98/98 [==============================] - 3s 33ms/step - loss: 1.1030 - acc: 0.5408\n",
            "Epoch 162/1400\n",
            "98/98 [==============================] - 3s 33ms/step - loss: 1.0064 - acc: 0.6939\n",
            "Epoch 163/1400\n",
            "98/98 [==============================] - 3s 33ms/step - loss: 0.9364 - acc: 0.6224\n",
            "Epoch 164/1400\n",
            "98/98 [==============================] - 3s 32ms/step - loss: 0.8820 - acc: 0.6122\n",
            "Epoch 165/1400\n",
            "98/98 [==============================] - 3s 33ms/step - loss: 1.4908 - acc: 0.4592\n",
            "Epoch 166/1400\n",
            "98/98 [==============================] - 3s 33ms/step - loss: 1.0058 - acc: 0.6020\n",
            "Epoch 167/1400\n",
            "98/98 [==============================] - 3s 33ms/step - loss: 0.8745 - acc: 0.7041\n",
            "Epoch 168/1400\n",
            "98/98 [==============================] - 3s 33ms/step - loss: 1.0314 - acc: 0.5510\n",
            "Epoch 169/1400\n",
            "60/98 [=================>............] - ETA: 1s - loss: 0.8665 - acc: 0.5833"
          ],
          "name": "stdout"
        },
        {
          "output_type": "stream",
          "text": [
            "98/98 [==============================] - 3s 33ms/step - loss: 0.8635 - acc: 0.6020\n",
            "Epoch 170/1400\n",
            "98/98 [==============================] - 3s 33ms/step - loss: 0.8129 - acc: 0.6939\n",
            "Epoch 171/1400\n",
            "98/98 [==============================] - 3s 33ms/step - loss: 0.8697 - acc: 0.6327\n",
            "Epoch 172/1400\n",
            "98/98 [==============================] - 3s 33ms/step - loss: 0.7801 - acc: 0.7041\n",
            "Epoch 173/1400\n",
            "98/98 [==============================] - 3s 33ms/step - loss: 0.7585 - acc: 0.7143\n",
            "Epoch 174/1400\n",
            "98/98 [==============================] - 3s 33ms/step - loss: 0.8143 - acc: 0.6939\n",
            "Epoch 175/1400\n",
            "98/98 [==============================] - 3s 33ms/step - loss: 0.9570 - acc: 0.6122\n",
            "Epoch 176/1400\n",
            "98/98 [==============================] - 3s 33ms/step - loss: 0.9559 - acc: 0.6531\n",
            "Epoch 177/1400\n",
            "60/98 [=================>............] - ETA: 1s - loss: 0.9968 - acc: 0.6667"
          ],
          "name": "stdout"
        },
        {
          "output_type": "stream",
          "text": [
            "98/98 [==============================] - 3s 32ms/step - loss: 0.9214 - acc: 0.6939\n",
            "Epoch 178/1400\n",
            "98/98 [==============================] - 3s 33ms/step - loss: 0.7974 - acc: 0.7143\n",
            "Epoch 179/1400\n",
            "98/98 [==============================] - 3s 33ms/step - loss: 0.7627 - acc: 0.6939\n",
            "Epoch 180/1400\n",
            "98/98 [==============================] - 3s 33ms/step - loss: 0.9568 - acc: 0.6429\n",
            "Epoch 181/1400\n",
            "98/98 [==============================] - 3s 32ms/step - loss: 0.8508 - acc: 0.7143\n",
            "Epoch 182/1400\n",
            "98/98 [==============================] - 3s 33ms/step - loss: 1.0320 - acc: 0.5816\n",
            "Epoch 183/1400\n",
            "98/98 [==============================] - 3s 33ms/step - loss: 0.7257 - acc: 0.7041\n",
            "Epoch 184/1400\n",
            "98/98 [==============================] - 3s 34ms/step - loss: 1.0105 - acc: 0.6327\n",
            "Epoch 185/1400\n",
            "60/98 [=================>............] - ETA: 1s - loss: 0.8052 - acc: 0.7833"
          ],
          "name": "stdout"
        },
        {
          "output_type": "stream",
          "text": [
            "98/98 [==============================] - 3s 33ms/step - loss: 0.7946 - acc: 0.7551\n",
            "Epoch 186/1400\n",
            "98/98 [==============================] - 3s 33ms/step - loss: 0.7627 - acc: 0.7245\n",
            "Epoch 187/1400\n",
            "98/98 [==============================] - 3s 33ms/step - loss: 0.6801 - acc: 0.7551\n",
            "Epoch 188/1400\n",
            "98/98 [==============================] - 3s 33ms/step - loss: 0.6216 - acc: 0.7755\n",
            "Epoch 189/1400\n",
            "98/98 [==============================] - 3s 33ms/step - loss: 0.7892 - acc: 0.6327\n",
            "Epoch 190/1400\n",
            "98/98 [==============================] - 3s 33ms/step - loss: 0.7193 - acc: 0.6939\n",
            "Epoch 191/1400\n",
            "98/98 [==============================] - 3s 33ms/step - loss: 0.7465 - acc: 0.6939\n",
            "Epoch 192/1400\n",
            "98/98 [==============================] - 3s 33ms/step - loss: 0.7395 - acc: 0.7449\n",
            "Epoch 193/1400\n",
            "60/98 [=================>............] - ETA: 1s - loss: 0.6476 - acc: 0.7333"
          ],
          "name": "stdout"
        },
        {
          "output_type": "stream",
          "text": [
            "98/98 [==============================] - 3s 33ms/step - loss: 0.6990 - acc: 0.7143\n",
            "Epoch 194/1400\n",
            "98/98 [==============================] - 3s 33ms/step - loss: 0.5945 - acc: 0.8061\n",
            "Epoch 195/1400\n",
            "98/98 [==============================] - 3s 32ms/step - loss: 0.8216 - acc: 0.6939\n",
            "Epoch 196/1400\n",
            "98/98 [==============================] - 3s 33ms/step - loss: 0.6342 - acc: 0.7551\n",
            "Epoch 197/1400\n",
            "98/98 [==============================] - 3s 33ms/step - loss: 0.7350 - acc: 0.7245\n",
            "Epoch 198/1400\n",
            "98/98 [==============================] - 3s 33ms/step - loss: 0.6351 - acc: 0.7551\n",
            "Epoch 199/1400\n",
            "98/98 [==============================] - 3s 33ms/step - loss: 0.7387 - acc: 0.7143\n",
            "Epoch 200/1400\n",
            "98/98 [==============================] - 3s 33ms/step - loss: 0.6808 - acc: 0.7653\n",
            "Epoch 201/1400\n",
            "60/98 [=================>............] - ETA: 1s - loss: 0.5043 - acc: 0.8000"
          ],
          "name": "stdout"
        },
        {
          "output_type": "stream",
          "text": [
            "98/98 [==============================] - 3s 33ms/step - loss: 0.5417 - acc: 0.7755\n",
            "Epoch 202/1400\n",
            "98/98 [==============================] - 3s 33ms/step - loss: 0.8017 - acc: 0.7245\n",
            "Epoch 203/1400\n",
            "98/98 [==============================] - 3s 33ms/step - loss: 0.6097 - acc: 0.7755\n",
            "Epoch 204/1400\n",
            "98/98 [==============================] - 3s 33ms/step - loss: 0.6522 - acc: 0.7653\n",
            "Epoch 205/1400\n",
            "98/98 [==============================] - 3s 33ms/step - loss: 0.5492 - acc: 0.7959\n",
            "Epoch 206/1400\n",
            "98/98 [==============================] - 3s 33ms/step - loss: 0.7828 - acc: 0.7245\n",
            "Epoch 207/1400\n",
            "98/98 [==============================] - 3s 33ms/step - loss: 0.7125 - acc: 0.7551\n",
            "Epoch 208/1400\n",
            "98/98 [==============================] - 3s 33ms/step - loss: 0.7185 - acc: 0.7857\n",
            "Epoch 209/1400\n",
            "60/98 [=================>............] - ETA: 1s - loss: 0.5178 - acc: 0.8000"
          ],
          "name": "stdout"
        },
        {
          "output_type": "stream",
          "text": [
            "98/98 [==============================] - 3s 33ms/step - loss: 0.5471 - acc: 0.7857\n",
            "Epoch 210/1400\n",
            "98/98 [==============================] - 3s 33ms/step - loss: 0.6321 - acc: 0.7653\n",
            "Epoch 211/1400\n",
            "98/98 [==============================] - 3s 33ms/step - loss: 0.5372 - acc: 0.8163\n",
            "Epoch 212/1400\n",
            "98/98 [==============================] - 3s 33ms/step - loss: 0.6646 - acc: 0.7653\n",
            "Epoch 213/1400\n",
            "98/98 [==============================] - 3s 33ms/step - loss: 0.8605 - acc: 0.7143\n",
            "Epoch 214/1400\n",
            "98/98 [==============================] - 3s 33ms/step - loss: 0.5762 - acc: 0.7959\n",
            "Epoch 215/1400\n",
            "98/98 [==============================] - 3s 34ms/step - loss: 0.5941 - acc: 0.7551\n",
            "Epoch 216/1400\n",
            "98/98 [==============================] - 3s 33ms/step - loss: 0.8325 - acc: 0.7755\n",
            "Epoch 217/1400\n",
            "60/98 [=================>............] - ETA: 1s - loss: 1.1706 - acc: 0.7000"
          ],
          "name": "stdout"
        },
        {
          "output_type": "stream",
          "text": [
            "98/98 [==============================] - 3s 33ms/step - loss: 1.1884 - acc: 0.6429\n",
            "Epoch 218/1400\n",
            "98/98 [==============================] - 3s 33ms/step - loss: 0.5200 - acc: 0.8265\n",
            "Epoch 219/1400\n",
            "98/98 [==============================] - 3s 34ms/step - loss: 0.7343 - acc: 0.7245\n",
            "Epoch 220/1400\n",
            "98/98 [==============================] - 3s 34ms/step - loss: 0.7189 - acc: 0.7347\n",
            "Epoch 221/1400\n",
            "98/98 [==============================] - 3s 34ms/step - loss: 0.5829 - acc: 0.8061\n",
            "Epoch 222/1400\n",
            "98/98 [==============================] - 3s 34ms/step - loss: 0.5350 - acc: 0.8469\n",
            "Epoch 223/1400\n",
            "98/98 [==============================] - 3s 33ms/step - loss: 0.7107 - acc: 0.7653\n",
            "Epoch 224/1400\n",
            "98/98 [==============================] - 3s 33ms/step - loss: 0.4637 - acc: 0.8367\n",
            "Epoch 225/1400\n",
            "60/98 [=================>............] - ETA: 1s - loss: 0.8445 - acc: 0.7333"
          ],
          "name": "stdout"
        },
        {
          "output_type": "stream",
          "text": [
            "98/98 [==============================] - 3s 33ms/step - loss: 0.7520 - acc: 0.7449\n",
            "Epoch 226/1400\n",
            "98/98 [==============================] - 3s 34ms/step - loss: 0.6230 - acc: 0.7653\n",
            "Epoch 227/1400\n",
            "98/98 [==============================] - 3s 33ms/step - loss: 0.6324 - acc: 0.7755\n",
            "Epoch 228/1400\n",
            "98/98 [==============================] - 3s 33ms/step - loss: 0.5247 - acc: 0.8469\n",
            "Epoch 229/1400\n",
            "98/98 [==============================] - 3s 33ms/step - loss: 0.5460 - acc: 0.8061\n",
            "Epoch 230/1400\n",
            "98/98 [==============================] - 3s 33ms/step - loss: 1.1316 - acc: 0.6735\n",
            "Epoch 231/1400\n",
            "98/98 [==============================] - 3s 34ms/step - loss: 0.6724 - acc: 0.7347\n",
            "Epoch 232/1400\n",
            "98/98 [==============================] - 3s 33ms/step - loss: 0.5834 - acc: 0.7959\n",
            "Epoch 233/1400\n",
            "60/98 [=================>............] - ETA: 1s - loss: 0.7905 - acc: 0.7667"
          ],
          "name": "stdout"
        },
        {
          "output_type": "stream",
          "text": [
            "98/98 [==============================] - 3s 33ms/step - loss: 0.7844 - acc: 0.7449\n",
            "Epoch 234/1400\n",
            "98/98 [==============================] - 3s 33ms/step - loss: 0.5767 - acc: 0.7959\n",
            "Epoch 235/1400\n",
            "98/98 [==============================] - 3s 33ms/step - loss: 0.6055 - acc: 0.8265\n",
            "Epoch 236/1400\n",
            "98/98 [==============================] - 3s 34ms/step - loss: 0.5728 - acc: 0.7959\n",
            "Epoch 237/1400\n",
            "98/98 [==============================] - 3s 33ms/step - loss: 0.6215 - acc: 0.7755\n",
            "Epoch 238/1400\n",
            "98/98 [==============================] - 3s 34ms/step - loss: 0.5561 - acc: 0.8163\n",
            "Epoch 239/1400\n",
            "98/98 [==============================] - 3s 33ms/step - loss: 0.5430 - acc: 0.8061\n",
            "Epoch 240/1400\n",
            "98/98 [==============================] - 3s 33ms/step - loss: 0.4905 - acc: 0.8367\n",
            "Epoch 241/1400\n",
            "60/98 [=================>............] - ETA: 1s - loss: 0.6317 - acc: 0.7833"
          ],
          "name": "stdout"
        },
        {
          "output_type": "stream",
          "text": [
            "98/98 [==============================] - 3s 34ms/step - loss: 0.7060 - acc: 0.7857\n",
            "Epoch 242/1400\n",
            "98/98 [==============================] - 3s 33ms/step - loss: 0.5735 - acc: 0.8061\n",
            "Epoch 243/1400\n",
            "98/98 [==============================] - 3s 33ms/step - loss: 0.4503 - acc: 0.8367\n",
            "Epoch 244/1400\n",
            "98/98 [==============================] - 3s 33ms/step - loss: 0.6177 - acc: 0.7959\n",
            "Epoch 245/1400\n",
            "98/98 [==============================] - 3s 33ms/step - loss: 0.3433 - acc: 0.9184\n",
            "Epoch 246/1400\n",
            "98/98 [==============================] - 3s 33ms/step - loss: 0.4885 - acc: 0.8061\n",
            "Epoch 247/1400\n",
            "98/98 [==============================] - 3s 34ms/step - loss: 0.3585 - acc: 0.8776\n",
            "Epoch 248/1400\n",
            "98/98 [==============================] - 3s 34ms/step - loss: 0.3669 - acc: 0.8673\n",
            "Epoch 249/1400\n",
            "60/98 [=================>............] - ETA: 1s - loss: 1.4373 - acc: 0.5500"
          ],
          "name": "stdout"
        },
        {
          "output_type": "stream",
          "text": [
            "98/98 [==============================] - 3s 33ms/step - loss: 1.2291 - acc: 0.6224\n",
            "Epoch 250/1400\n",
            "98/98 [==============================] - 3s 33ms/step - loss: 0.3645 - acc: 0.9082\n",
            "Epoch 251/1400\n",
            "98/98 [==============================] - 3s 34ms/step - loss: 0.4994 - acc: 0.8571\n",
            "Epoch 252/1400\n",
            "98/98 [==============================] - 3s 34ms/step - loss: 0.5308 - acc: 0.8265\n",
            "Epoch 253/1400\n",
            "98/98 [==============================] - 3s 34ms/step - loss: 0.3769 - acc: 0.8878\n",
            "Epoch 254/1400\n",
            "98/98 [==============================] - 3s 33ms/step - loss: 1.3156 - acc: 0.5918\n",
            "Epoch 255/1400\n",
            "98/98 [==============================] - 3s 33ms/step - loss: 0.9278 - acc: 0.7143\n",
            "Epoch 256/1400\n",
            "98/98 [==============================] - 3s 34ms/step - loss: 0.6181 - acc: 0.7857\n",
            "Epoch 257/1400\n",
            "60/98 [=================>............] - ETA: 1s - loss: 0.5827 - acc: 0.8500"
          ],
          "name": "stdout"
        },
        {
          "output_type": "stream",
          "text": [
            "98/98 [==============================] - 3s 33ms/step - loss: 0.5866 - acc: 0.8367\n",
            "Epoch 258/1400\n",
            "98/98 [==============================] - 3s 33ms/step - loss: 0.6829 - acc: 0.7551\n",
            "Epoch 259/1400\n",
            "98/98 [==============================] - 3s 33ms/step - loss: 0.3344 - acc: 0.8980\n",
            "Epoch 260/1400\n",
            "98/98 [==============================] - 3s 33ms/step - loss: 0.3955 - acc: 0.8776\n",
            "Epoch 261/1400\n",
            "98/98 [==============================] - 3s 32ms/step - loss: 0.7085 - acc: 0.7755\n",
            "Epoch 262/1400\n",
            "98/98 [==============================] - 3s 32ms/step - loss: 0.4215 - acc: 0.8265\n",
            "Epoch 263/1400\n",
            "98/98 [==============================] - 3s 33ms/step - loss: 0.5632 - acc: 0.8367\n",
            "Epoch 264/1400\n",
            "98/98 [==============================] - 3s 33ms/step - loss: 0.4210 - acc: 0.8571\n",
            "Epoch 265/1400\n",
            "60/98 [=================>............] - ETA: 1s - loss: 0.2798 - acc: 0.9000"
          ],
          "name": "stdout"
        },
        {
          "output_type": "stream",
          "text": [
            "98/98 [==============================] - 3s 33ms/step - loss: 0.6597 - acc: 0.7755\n",
            "Epoch 266/1400\n",
            "98/98 [==============================] - 3s 33ms/step - loss: 0.8210 - acc: 0.7143\n",
            "Epoch 267/1400\n",
            "98/98 [==============================] - 3s 33ms/step - loss: 0.4345 - acc: 0.8673\n",
            "Epoch 268/1400\n",
            "98/98 [==============================] - 3s 33ms/step - loss: 0.3808 - acc: 0.8878\n",
            "Epoch 269/1400\n",
            "98/98 [==============================] - 3s 32ms/step - loss: 0.4592 - acc: 0.8673\n",
            "Epoch 270/1400\n",
            "98/98 [==============================] - 3s 32ms/step - loss: 0.5005 - acc: 0.7857\n",
            "Epoch 271/1400\n",
            "98/98 [==============================] - 3s 33ms/step - loss: 0.5716 - acc: 0.8265\n",
            "Epoch 272/1400\n",
            "98/98 [==============================] - 3s 33ms/step - loss: 0.4438 - acc: 0.8265\n",
            "Epoch 273/1400\n",
            "60/98 [=================>............] - ETA: 1s - loss: 0.3612 - acc: 0.8667"
          ],
          "name": "stdout"
        },
        {
          "output_type": "stream",
          "text": [
            "98/98 [==============================] - 3s 33ms/step - loss: 0.5526 - acc: 0.8367\n",
            "Epoch 274/1400\n",
            "98/98 [==============================] - 3s 32ms/step - loss: 0.4241 - acc: 0.8673\n",
            "Epoch 275/1400\n",
            "98/98 [==============================] - 3s 33ms/step - loss: 0.4480 - acc: 0.8367\n",
            "Epoch 276/1400\n",
            "98/98 [==============================] - 3s 33ms/step - loss: 0.3481 - acc: 0.8776\n",
            "Epoch 277/1400\n",
            "98/98 [==============================] - 3s 33ms/step - loss: 0.3932 - acc: 0.8776\n",
            "Epoch 278/1400\n",
            "98/98 [==============================] - 3s 33ms/step - loss: 0.3220 - acc: 0.8776\n",
            "Epoch 279/1400\n",
            "98/98 [==============================] - 3s 32ms/step - loss: 0.4607 - acc: 0.8776\n",
            "Epoch 280/1400\n",
            "98/98 [==============================] - 3s 32ms/step - loss: 0.4592 - acc: 0.8367\n",
            "Epoch 281/1400\n",
            "60/98 [=================>............] - ETA: 1s - loss: 0.6758 - acc: 0.7833"
          ],
          "name": "stdout"
        },
        {
          "output_type": "stream",
          "text": [
            "98/98 [==============================] - 3s 33ms/step - loss: 0.6196 - acc: 0.8061\n",
            "Epoch 282/1400\n",
            "98/98 [==============================] - 3s 33ms/step - loss: 0.3302 - acc: 0.8878\n",
            "Epoch 283/1400\n",
            "98/98 [==============================] - 3s 33ms/step - loss: 0.8186 - acc: 0.7551\n",
            "Epoch 284/1400\n",
            "98/98 [==============================] - 3s 32ms/step - loss: 0.2636 - acc: 0.9286\n",
            "Epoch 285/1400\n",
            "98/98 [==============================] - 3s 33ms/step - loss: 0.4002 - acc: 0.8980\n",
            "Epoch 286/1400\n",
            "98/98 [==============================] - 3s 33ms/step - loss: 0.1660 - acc: 0.9490\n",
            "Epoch 287/1400\n",
            "98/98 [==============================] - 3s 33ms/step - loss: 0.5652 - acc: 0.8571\n",
            "Epoch 288/1400\n",
            "98/98 [==============================] - 3s 33ms/step - loss: 0.3973 - acc: 0.8776\n",
            "Epoch 289/1400\n",
            "60/98 [=================>............] - ETA: 1s - loss: 0.2121 - acc: 0.9333"
          ],
          "name": "stdout"
        },
        {
          "output_type": "stream",
          "text": [
            "98/98 [==============================] - 3s 33ms/step - loss: 0.2379 - acc: 0.9388\n",
            "Epoch 290/1400\n",
            "98/98 [==============================] - 3s 33ms/step - loss: 1.6512 - acc: 0.6122\n",
            "Epoch 291/1400\n",
            "98/98 [==============================] - 3s 33ms/step - loss: 0.6609 - acc: 0.8163\n",
            "Epoch 292/1400\n",
            "98/98 [==============================] - 3s 33ms/step - loss: 0.4171 - acc: 0.8571\n",
            "Epoch 293/1400\n",
            "98/98 [==============================] - 3s 34ms/step - loss: 0.2624 - acc: 0.9286\n",
            "Epoch 294/1400\n",
            "98/98 [==============================] - 3s 33ms/step - loss: 0.2635 - acc: 0.9082\n",
            "Epoch 295/1400\n",
            "98/98 [==============================] - 3s 33ms/step - loss: 0.5227 - acc: 0.8367\n",
            "Epoch 296/1400\n",
            "98/98 [==============================] - 3s 33ms/step - loss: 0.2748 - acc: 0.9286\n",
            "Epoch 297/1400\n",
            "60/98 [=================>............] - ETA: 1s - loss: 0.3775 - acc: 0.8500"
          ],
          "name": "stdout"
        },
        {
          "output_type": "stream",
          "text": [
            "98/98 [==============================] - 3s 33ms/step - loss: 0.4823 - acc: 0.8367\n",
            "Epoch 298/1400\n",
            "98/98 [==============================] - 3s 33ms/step - loss: 0.1310 - acc: 0.9898\n",
            "Epoch 299/1400\n",
            "98/98 [==============================] - 3s 33ms/step - loss: 0.3633 - acc: 0.8878\n",
            "Epoch 300/1400\n",
            "98/98 [==============================] - 3s 33ms/step - loss: 1.0604 - acc: 0.6327\n",
            "Epoch 301/1400\n",
            "98/98 [==============================] - 3s 33ms/step - loss: 0.4070 - acc: 0.8571\n",
            "Epoch 302/1400\n",
            "98/98 [==============================] - 3s 33ms/step - loss: 0.3327 - acc: 0.8980\n",
            "Epoch 303/1400\n",
            "98/98 [==============================] - 3s 33ms/step - loss: 0.4383 - acc: 0.8571\n",
            "Epoch 304/1400\n",
            "98/98 [==============================] - 3s 33ms/step - loss: 0.5107 - acc: 0.8571\n",
            "Epoch 305/1400\n",
            "60/98 [=================>............] - ETA: 1s - loss: 0.4416 - acc: 0.8667"
          ],
          "name": "stdout"
        },
        {
          "output_type": "stream",
          "text": [
            "98/98 [==============================] - 3s 33ms/step - loss: 0.4106 - acc: 0.8878\n",
            "Epoch 306/1400\n",
            "98/98 [==============================] - 3s 33ms/step - loss: 0.1891 - acc: 0.9694\n",
            "Epoch 307/1400\n",
            "98/98 [==============================] - 3s 33ms/step - loss: 0.5435 - acc: 0.8163\n",
            "Epoch 308/1400\n",
            "98/98 [==============================] - 3s 33ms/step - loss: 0.3645 - acc: 0.8776\n",
            "Epoch 309/1400\n",
            "98/98 [==============================] - 3s 33ms/step - loss: 0.3245 - acc: 0.8776\n",
            "Epoch 310/1400\n",
            "98/98 [==============================] - 3s 33ms/step - loss: 0.1244 - acc: 0.9796\n",
            "Epoch 311/1400\n",
            "98/98 [==============================] - 3s 33ms/step - loss: 0.4067 - acc: 0.8878\n",
            "Epoch 312/1400\n",
            "98/98 [==============================] - 3s 33ms/step - loss: 0.2682 - acc: 0.9286\n",
            "Epoch 313/1400\n",
            "60/98 [=================>............] - ETA: 1s - loss: 0.1119 - acc: 0.9833"
          ],
          "name": "stdout"
        },
        {
          "output_type": "stream",
          "text": [
            "98/98 [==============================] - 3s 33ms/step - loss: 0.3320 - acc: 0.9286\n",
            "Epoch 314/1400\n",
            "98/98 [==============================] - 3s 33ms/step - loss: 0.2780 - acc: 0.9184\n",
            "Epoch 315/1400\n",
            "98/98 [==============================] - 3s 33ms/step - loss: 1.2802 - acc: 0.6939\n",
            "Epoch 316/1400\n",
            "98/98 [==============================] - 3s 32ms/step - loss: 0.8705 - acc: 0.7143\n",
            "Epoch 317/1400\n",
            "98/98 [==============================] - 3s 33ms/step - loss: 0.3910 - acc: 0.8673\n",
            "Epoch 318/1400\n",
            "98/98 [==============================] - 3s 32ms/step - loss: 0.3749 - acc: 0.9082\n",
            "Epoch 319/1400\n",
            "98/98 [==============================] - 3s 33ms/step - loss: 0.1631 - acc: 0.9490\n",
            "Epoch 320/1400\n",
            "98/98 [==============================] - 3s 33ms/step - loss: 0.6277 - acc: 0.8469\n",
            "Epoch 321/1400\n",
            "60/98 [=================>............] - ETA: 1s - loss: 0.3545 - acc: 0.9000"
          ],
          "name": "stdout"
        },
        {
          "output_type": "stream",
          "text": [
            "98/98 [==============================] - 3s 32ms/step - loss: 0.3334 - acc: 0.8980\n",
            "Epoch 322/1400\n",
            "98/98 [==============================] - 3s 33ms/step - loss: 0.7920 - acc: 0.7755\n",
            "Epoch 323/1400\n",
            "98/98 [==============================] - 3s 33ms/step - loss: 0.2562 - acc: 0.9490\n",
            "Epoch 324/1400\n",
            "98/98 [==============================] - 3s 33ms/step - loss: 0.4030 - acc: 0.8878\n",
            "Epoch 325/1400\n",
            "98/98 [==============================] - 3s 33ms/step - loss: 1.1243 - acc: 0.7041\n",
            "Epoch 326/1400\n",
            "98/98 [==============================] - 3s 33ms/step - loss: 0.2960 - acc: 0.9286\n",
            "Epoch 327/1400\n",
            "98/98 [==============================] - 3s 32ms/step - loss: 0.2857 - acc: 0.9388\n",
            "Epoch 328/1400\n",
            "98/98 [==============================] - 3s 32ms/step - loss: 0.3828 - acc: 0.8980\n",
            "Epoch 329/1400\n",
            "60/98 [=================>............] - ETA: 1s - loss: 0.1053 - acc: 1.0000"
          ],
          "name": "stdout"
        },
        {
          "output_type": "stream",
          "text": [
            "98/98 [==============================] - 3s 32ms/step - loss: 0.0900 - acc: 1.0000\n",
            "Epoch 330/1400\n",
            "98/98 [==============================] - 3s 33ms/step - loss: 0.6716 - acc: 0.8265\n",
            "Epoch 331/1400\n",
            "98/98 [==============================] - 3s 33ms/step - loss: 0.4301 - acc: 0.8776\n",
            "Epoch 332/1400\n",
            "98/98 [==============================] - 3s 33ms/step - loss: 0.2292 - acc: 0.9490\n",
            "Epoch 333/1400\n",
            "98/98 [==============================] - 3s 32ms/step - loss: 0.2535 - acc: 0.9184\n",
            "Epoch 334/1400\n",
            "98/98 [==============================] - 3s 33ms/step - loss: 0.1416 - acc: 0.9592\n",
            "Epoch 335/1400\n",
            "98/98 [==============================] - 3s 34ms/step - loss: 0.2330 - acc: 0.9082\n",
            "Epoch 336/1400\n",
            "98/98 [==============================] - 3s 34ms/step - loss: 0.2781 - acc: 0.9286\n",
            "Epoch 337/1400\n",
            "60/98 [=================>............] - ETA: 1s - loss: 0.1738 - acc: 0.9667"
          ],
          "name": "stdout"
        },
        {
          "output_type": "stream",
          "text": [
            "98/98 [==============================] - 3s 33ms/step - loss: 0.1511 - acc: 0.9592\n",
            "Epoch 338/1400\n",
            "98/98 [==============================] - 3s 32ms/step - loss: 0.2591 - acc: 0.9184\n",
            "Epoch 339/1400\n",
            "98/98 [==============================] - 3s 33ms/step - loss: 0.0961 - acc: 0.9796\n",
            "Epoch 340/1400\n",
            "98/98 [==============================] - 3s 33ms/step - loss: 0.3490 - acc: 0.8980\n",
            "Epoch 341/1400\n",
            "98/98 [==============================] - 3s 33ms/step - loss: 0.1867 - acc: 0.9592\n",
            "Epoch 342/1400\n",
            "98/98 [==============================] - 3s 32ms/step - loss: 0.2570 - acc: 0.9082\n",
            "Epoch 343/1400\n",
            "98/98 [==============================] - 3s 32ms/step - loss: 0.1932 - acc: 0.9388\n",
            "Epoch 344/1400\n",
            "98/98 [==============================] - 3s 33ms/step - loss: 0.3739 - acc: 0.8776\n",
            "Epoch 345/1400\n",
            "60/98 [=================>............] - ETA: 1s - loss: 0.1713 - acc: 0.9667"
          ],
          "name": "stdout"
        },
        {
          "output_type": "stream",
          "text": [
            "98/98 [==============================] - 3s 33ms/step - loss: 0.2139 - acc: 0.9592\n",
            "Epoch 346/1400\n",
            "98/98 [==============================] - 3s 33ms/step - loss: 0.1927 - acc: 0.9184\n",
            "Epoch 347/1400\n",
            "98/98 [==============================] - 3s 33ms/step - loss: 0.2107 - acc: 0.9490\n",
            "Epoch 348/1400\n",
            "98/98 [==============================] - 3s 33ms/step - loss: 0.2438 - acc: 0.9388\n",
            "Epoch 349/1400\n",
            "98/98 [==============================] - 3s 33ms/step - loss: 0.2751 - acc: 0.9184\n",
            "Epoch 350/1400\n",
            "98/98 [==============================] - 3s 33ms/step - loss: 0.1603 - acc: 0.9388\n",
            "Epoch 351/1400\n",
            "98/98 [==============================] - 3s 33ms/step - loss: 0.2853 - acc: 0.9184\n",
            "Epoch 352/1400\n",
            "98/98 [==============================] - 3s 33ms/step - loss: 0.1083 - acc: 0.9796\n",
            "Epoch 353/1400\n",
            "60/98 [=================>............] - ETA: 1s - loss: 0.2114 - acc: 0.9333"
          ],
          "name": "stdout"
        },
        {
          "output_type": "stream",
          "text": [
            "98/98 [==============================] - 3s 33ms/step - loss: 0.1735 - acc: 0.9490\n",
            "Epoch 354/1400\n",
            "98/98 [==============================] - 3s 33ms/step - loss: 0.5003 - acc: 0.8673\n",
            "Epoch 355/1400\n",
            "98/98 [==============================] - 3s 33ms/step - loss: 0.2530 - acc: 0.9388\n",
            "Epoch 356/1400\n",
            "98/98 [==============================] - 3s 34ms/step - loss: 0.3336 - acc: 0.8878\n",
            "Epoch 357/1400\n",
            "98/98 [==============================] - 3s 33ms/step - loss: 0.2385 - acc: 0.9490\n",
            "Epoch 358/1400\n",
            "98/98 [==============================] - 3s 33ms/step - loss: 0.1562 - acc: 0.9592\n",
            "Epoch 359/1400\n",
            "98/98 [==============================] - 3s 33ms/step - loss: 0.3940 - acc: 0.8980\n",
            "Epoch 360/1400\n",
            "98/98 [==============================] - 3s 33ms/step - loss: 0.2356 - acc: 0.9184\n",
            "Epoch 361/1400\n",
            "60/98 [=================>............] - ETA: 1s - loss: 0.0599 - acc: 1.0000"
          ],
          "name": "stdout"
        },
        {
          "output_type": "stream",
          "text": [
            "98/98 [==============================] - 3s 33ms/step - loss: 0.0941 - acc: 0.9796\n",
            "Epoch 362/1400\n",
            "98/98 [==============================] - 3s 33ms/step - loss: 0.0766 - acc: 0.9796\n",
            "Epoch 363/1400\n",
            "98/98 [==============================] - 3s 33ms/step - loss: 0.1393 - acc: 0.9796\n",
            "Epoch 364/1400\n",
            "98/98 [==============================] - 3s 33ms/step - loss: 0.5198 - acc: 0.8673\n",
            "Epoch 365/1400\n",
            "98/98 [==============================] - 3s 33ms/step - loss: 0.1917 - acc: 0.9592\n",
            "Epoch 366/1400\n",
            "98/98 [==============================] - 3s 33ms/step - loss: 0.2623 - acc: 0.9082\n",
            "Epoch 367/1400\n",
            "98/98 [==============================] - 3s 33ms/step - loss: 0.3127 - acc: 0.8878\n",
            "Epoch 368/1400\n",
            "98/98 [==============================] - 3s 33ms/step - loss: 0.2488 - acc: 0.9388\n",
            "Epoch 369/1400\n",
            "60/98 [=================>............] - ETA: 1s - loss: 0.2104 - acc: 0.9667"
          ],
          "name": "stdout"
        },
        {
          "output_type": "stream",
          "text": [
            "98/98 [==============================] - 3s 33ms/step - loss: 0.3666 - acc: 0.9184\n",
            "Epoch 370/1400\n",
            "98/98 [==============================] - 3s 33ms/step - loss: 0.1606 - acc: 0.9694\n",
            "Epoch 371/1400\n",
            "98/98 [==============================] - 3s 33ms/step - loss: 0.3277 - acc: 0.8878\n",
            "Epoch 372/1400\n",
            "98/98 [==============================] - 3s 33ms/step - loss: 0.0953 - acc: 0.9592\n",
            "Epoch 373/1400\n",
            "98/98 [==============================] - 3s 33ms/step - loss: 0.8225 - acc: 0.7959\n",
            "Epoch 374/1400\n",
            "98/98 [==============================] - 3s 33ms/step - loss: 0.3401 - acc: 0.9082\n",
            "Epoch 375/1400\n",
            "98/98 [==============================] - 3s 33ms/step - loss: 0.0441 - acc: 1.0000\n",
            "Epoch 376/1400\n",
            "98/98 [==============================] - 3s 32ms/step - loss: 0.4467 - acc: 0.8571\n",
            "Epoch 377/1400\n",
            "60/98 [=================>............] - ETA: 1s - loss: 0.3365 - acc: 0.9167"
          ],
          "name": "stdout"
        },
        {
          "output_type": "stream",
          "text": [
            "98/98 [==============================] - 3s 33ms/step - loss: 0.3706 - acc: 0.8980\n",
            "Epoch 378/1400\n",
            "98/98 [==============================] - 3s 33ms/step - loss: 0.9001 - acc: 0.8163\n",
            "Epoch 379/1400\n",
            "98/98 [==============================] - 3s 33ms/step - loss: 1.0473 - acc: 0.7449\n",
            "Epoch 380/1400\n",
            "98/98 [==============================] - 3s 33ms/step - loss: 0.6542 - acc: 0.8061\n",
            "Epoch 381/1400\n",
            "98/98 [==============================] - 3s 33ms/step - loss: 0.5936 - acc: 0.8163\n",
            "Epoch 382/1400\n",
            "98/98 [==============================] - 3s 33ms/step - loss: 0.3906 - acc: 0.8776\n",
            "Epoch 383/1400\n",
            "98/98 [==============================] - 3s 32ms/step - loss: 0.2873 - acc: 0.9286\n",
            "Epoch 384/1400\n",
            "98/98 [==============================] - 3s 32ms/step - loss: 0.4119 - acc: 0.8776\n",
            "Epoch 385/1400\n",
            "60/98 [=================>............] - ETA: 1s - loss: 0.2221 - acc: 0.9167"
          ],
          "name": "stdout"
        },
        {
          "output_type": "stream",
          "text": [
            "98/98 [==============================] - 3s 33ms/step - loss: 0.1660 - acc: 0.9490\n",
            "Epoch 386/1400\n",
            "98/98 [==============================] - 3s 33ms/step - loss: 0.6544 - acc: 0.8367\n",
            "Epoch 387/1400\n",
            "98/98 [==============================] - 3s 33ms/step - loss: 0.1792 - acc: 0.9490\n",
            "Epoch 388/1400\n",
            "98/98 [==============================] - 3s 33ms/step - loss: 0.1111 - acc: 0.9592\n",
            "Epoch 389/1400\n",
            "98/98 [==============================] - 3s 32ms/step - loss: 0.5378 - acc: 0.8878\n",
            "Epoch 390/1400\n",
            "98/98 [==============================] - 3s 33ms/step - loss: 0.2280 - acc: 0.9184\n",
            "Epoch 391/1400\n",
            "98/98 [==============================] - 3s 33ms/step - loss: 0.0857 - acc: 0.9898\n",
            "Epoch 392/1400\n",
            "98/98 [==============================] - 3s 33ms/step - loss: 0.0603 - acc: 1.0000\n",
            "Epoch 393/1400\n",
            "60/98 [=================>............] - ETA: 1s - loss: 0.7465 - acc: 0.8333"
          ],
          "name": "stdout"
        },
        {
          "output_type": "stream",
          "text": [
            "98/98 [==============================] - 3s 33ms/step - loss: 0.8814 - acc: 0.8163\n",
            "Epoch 394/1400\n",
            "98/98 [==============================] - 3s 33ms/step - loss: 0.4611 - acc: 0.8878\n",
            "Epoch 395/1400\n",
            "98/98 [==============================] - 3s 33ms/step - loss: 0.3269 - acc: 0.8878\n",
            "Epoch 396/1400\n",
            "98/98 [==============================] - 3s 33ms/step - loss: 0.4272 - acc: 0.8878\n",
            "Epoch 397/1400\n",
            "98/98 [==============================] - 3s 33ms/step - loss: 0.1090 - acc: 0.9796\n",
            "Epoch 398/1400\n",
            "98/98 [==============================] - 3s 33ms/step - loss: 0.3468 - acc: 0.8980\n",
            "Epoch 399/1400\n",
            "98/98 [==============================] - 3s 32ms/step - loss: 1.2660 - acc: 0.6735\n",
            "Epoch 400/1400\n",
            "98/98 [==============================] - 3s 33ms/step - loss: 0.3025 - acc: 0.8878\n",
            "Epoch 401/1400\n",
            "60/98 [=================>............] - ETA: 1s - loss: 0.3114 - acc: 0.8667"
          ],
          "name": "stdout"
        },
        {
          "output_type": "stream",
          "text": [
            "98/98 [==============================] - 3s 33ms/step - loss: 0.3290 - acc: 0.8878\n",
            "Epoch 402/1400\n",
            "98/98 [==============================] - 3s 33ms/step - loss: 0.2250 - acc: 0.9286\n",
            "Epoch 403/1400\n",
            "98/98 [==============================] - 3s 33ms/step - loss: 0.2996 - acc: 0.9184\n",
            "Epoch 404/1400\n",
            "98/98 [==============================] - 3s 33ms/step - loss: 0.2004 - acc: 0.9286\n",
            "Epoch 405/1400\n",
            "98/98 [==============================] - 3s 33ms/step - loss: 0.3006 - acc: 0.9184\n",
            "Epoch 406/1400\n",
            "98/98 [==============================] - 3s 32ms/step - loss: 0.1392 - acc: 0.9592\n",
            "Epoch 407/1400\n",
            "98/98 [==============================] - 3s 33ms/step - loss: 0.3720 - acc: 0.8878\n",
            "Epoch 408/1400\n",
            "98/98 [==============================] - 3s 33ms/step - loss: 0.0518 - acc: 1.0000\n",
            "Epoch 409/1400\n",
            "60/98 [=================>............] - ETA: 1s - loss: 0.0958 - acc: 0.9667"
          ],
          "name": "stdout"
        },
        {
          "output_type": "stream",
          "text": [
            "98/98 [==============================] - 3s 32ms/step - loss: 0.3515 - acc: 0.9184\n",
            "Epoch 410/1400\n",
            "98/98 [==============================] - 3s 33ms/step - loss: 0.5065 - acc: 0.8878\n",
            "Epoch 411/1400\n",
            "98/98 [==============================] - 3s 33ms/step - loss: 0.3429 - acc: 0.9082\n",
            "Epoch 412/1400\n",
            "98/98 [==============================] - 3s 33ms/step - loss: 0.2726 - acc: 0.9490\n",
            "Epoch 413/1400\n",
            "98/98 [==============================] - 3s 33ms/step - loss: 0.1702 - acc: 0.9592\n",
            "Epoch 414/1400\n",
            "98/98 [==============================] - 3s 33ms/step - loss: 0.3245 - acc: 0.9082\n",
            "Epoch 415/1400\n",
            "98/98 [==============================] - 3s 32ms/step - loss: 0.3875 - acc: 0.9184\n",
            "Epoch 416/1400\n",
            "98/98 [==============================] - 3s 33ms/step - loss: 0.1439 - acc: 0.9592\n",
            "Epoch 417/1400\n",
            "60/98 [=================>............] - ETA: 1s - loss: 0.0578 - acc: 0.9833"
          ],
          "name": "stdout"
        },
        {
          "output_type": "stream",
          "text": [
            "98/98 [==============================] - 3s 33ms/step - loss: 0.0573 - acc: 0.9796\n",
            "Epoch 418/1400\n",
            "98/98 [==============================] - 3s 33ms/step - loss: 0.0379 - acc: 1.0000\n",
            "Epoch 419/1400\n",
            "98/98 [==============================] - 3s 33ms/step - loss: 0.0461 - acc: 0.9898\n",
            "Epoch 420/1400\n",
            "98/98 [==============================] - 3s 32ms/step - loss: 0.1573 - acc: 0.9592\n",
            "Epoch 421/1400\n",
            "98/98 [==============================] - 3s 33ms/step - loss: 1.4355 - acc: 0.6531\n",
            "Epoch 422/1400\n",
            "98/98 [==============================] - 3s 33ms/step - loss: 0.6940 - acc: 0.8061\n",
            "Epoch 423/1400\n",
            "98/98 [==============================] - 3s 33ms/step - loss: 0.1703 - acc: 0.9796\n",
            "Epoch 424/1400\n",
            "98/98 [==============================] - 3s 32ms/step - loss: 0.1706 - acc: 0.9592\n",
            "Epoch 425/1400\n",
            "60/98 [=================>............] - ETA: 1s - loss: 0.1447 - acc: 0.9333"
          ],
          "name": "stdout"
        },
        {
          "output_type": "stream",
          "text": [
            "98/98 [==============================] - 3s 33ms/step - loss: 0.2674 - acc: 0.8980\n",
            "Epoch 426/1400\n",
            "98/98 [==============================] - 3s 33ms/step - loss: 0.1338 - acc: 0.9592\n",
            "Epoch 427/1400\n",
            "98/98 [==============================] - 3s 33ms/step - loss: 0.9459 - acc: 0.7857\n",
            "Epoch 428/1400\n",
            "98/98 [==============================] - 3s 33ms/step - loss: 0.2026 - acc: 0.9286\n",
            "Epoch 429/1400\n",
            "98/98 [==============================] - 3s 33ms/step - loss: 0.1546 - acc: 0.9388\n",
            "Epoch 430/1400\n",
            "98/98 [==============================] - 3s 33ms/step - loss: 0.3311 - acc: 0.8980\n",
            "Epoch 431/1400\n",
            "98/98 [==============================] - 3s 33ms/step - loss: 0.5695 - acc: 0.8469\n",
            "Epoch 432/1400\n",
            "98/98 [==============================] - 3s 32ms/step - loss: 0.0596 - acc: 0.9898\n",
            "Epoch 433/1400\n",
            "60/98 [=================>............] - ETA: 1s - loss: 0.0615 - acc: 0.9833"
          ],
          "name": "stdout"
        },
        {
          "output_type": "stream",
          "text": [
            "98/98 [==============================] - 3s 32ms/step - loss: 0.1154 - acc: 0.9694\n",
            "Epoch 434/1400\n",
            "98/98 [==============================] - 3s 33ms/step - loss: 0.1823 - acc: 0.9592\n",
            "Epoch 435/1400\n",
            "98/98 [==============================] - 3s 33ms/step - loss: 0.2832 - acc: 0.9490\n",
            "Epoch 436/1400\n",
            "98/98 [==============================] - 3s 33ms/step - loss: 0.1070 - acc: 0.9694\n",
            "Epoch 437/1400\n",
            "98/98 [==============================] - 3s 33ms/step - loss: 0.0449 - acc: 0.9898\n",
            "Epoch 438/1400\n",
            "98/98 [==============================] - 3s 33ms/step - loss: 0.1347 - acc: 0.9592\n",
            "Epoch 439/1400\n",
            "98/98 [==============================] - 3s 33ms/step - loss: 0.0529 - acc: 0.9898\n",
            "Epoch 440/1400\n",
            "98/98 [==============================] - 3s 33ms/step - loss: 0.8115 - acc: 0.7755\n",
            "Epoch 441/1400\n",
            "60/98 [=================>............] - ETA: 1s - loss: 0.0849 - acc: 0.9667"
          ],
          "name": "stdout"
        },
        {
          "output_type": "stream",
          "text": [
            "98/98 [==============================] - 3s 33ms/step - loss: 0.3530 - acc: 0.9286\n",
            "Epoch 442/1400\n",
            "98/98 [==============================] - 3s 34ms/step - loss: 0.4501 - acc: 0.8673\n",
            "Epoch 443/1400\n",
            "98/98 [==============================] - 3s 33ms/step - loss: 0.0282 - acc: 1.0000\n",
            "Epoch 444/1400\n",
            "98/98 [==============================] - 3s 33ms/step - loss: 0.2533 - acc: 0.9388\n",
            "Epoch 445/1400\n",
            "98/98 [==============================] - 3s 33ms/step - loss: 0.6519 - acc: 0.8367\n",
            "Epoch 446/1400\n",
            "98/98 [==============================] - 3s 33ms/step - loss: 0.4654 - acc: 0.8673\n",
            "Epoch 447/1400\n",
            "98/98 [==============================] - 3s 33ms/step - loss: 0.2868 - acc: 0.9388\n",
            "Epoch 448/1400\n",
            "98/98 [==============================] - 3s 33ms/step - loss: 0.1943 - acc: 0.9490\n",
            "Epoch 449/1400\n",
            "60/98 [=================>............] - ETA: 1s - loss: 0.1893 - acc: 0.9667"
          ],
          "name": "stdout"
        },
        {
          "output_type": "stream",
          "text": [
            "98/98 [==============================] - 3s 33ms/step - loss: 0.1989 - acc: 0.9694\n",
            "Epoch 450/1400\n",
            "98/98 [==============================] - 3s 33ms/step - loss: 0.3802 - acc: 0.8878\n",
            "Epoch 451/1400\n",
            "98/98 [==============================] - 3s 33ms/step - loss: 0.1390 - acc: 0.9592\n",
            "Epoch 452/1400\n",
            "98/98 [==============================] - 3s 33ms/step - loss: 0.2602 - acc: 0.9082\n",
            "Epoch 453/1400\n",
            "98/98 [==============================] - 3s 33ms/step - loss: 0.1007 - acc: 0.9694\n",
            "Epoch 454/1400\n",
            "98/98 [==============================] - 3s 33ms/step - loss: 0.0508 - acc: 0.9898\n",
            "Epoch 455/1400\n",
            "98/98 [==============================] - 3s 33ms/step - loss: 0.5034 - acc: 0.8571\n",
            "Epoch 456/1400\n",
            "98/98 [==============================] - 3s 33ms/step - loss: 0.1611 - acc: 0.9388\n",
            "Epoch 457/1400\n",
            "60/98 [=================>............] - ETA: 1s - loss: 0.1205 - acc: 0.9833"
          ],
          "name": "stdout"
        },
        {
          "output_type": "stream",
          "text": [
            "98/98 [==============================] - 3s 33ms/step - loss: 0.1632 - acc: 0.9694\n",
            "Epoch 458/1400\n",
            "98/98 [==============================] - 3s 33ms/step - loss: 0.2300 - acc: 0.9592\n",
            "Epoch 459/1400\n",
            "98/98 [==============================] - 3s 33ms/step - loss: 0.2809 - acc: 0.9082\n",
            "Epoch 460/1400\n",
            "98/98 [==============================] - 3s 33ms/step - loss: 0.2163 - acc: 0.9286\n",
            "Epoch 461/1400\n",
            "98/98 [==============================] - 3s 33ms/step - loss: 0.4395 - acc: 0.9286\n",
            "Epoch 462/1400\n",
            "98/98 [==============================] - 3s 34ms/step - loss: 0.0763 - acc: 0.9898\n",
            "Epoch 463/1400\n",
            "98/98 [==============================] - 3s 33ms/step - loss: 0.1671 - acc: 0.9694\n",
            "Epoch 464/1400\n",
            "98/98 [==============================] - 3s 33ms/step - loss: 0.4177 - acc: 0.8878\n",
            "Epoch 465/1400\n",
            "60/98 [=================>............] - ETA: 1s - loss: 0.1578 - acc: 0.9833"
          ],
          "name": "stdout"
        },
        {
          "output_type": "stream",
          "text": [
            "98/98 [==============================] - 3s 33ms/step - loss: 0.2381 - acc: 0.9592\n",
            "Epoch 466/1400\n",
            "98/98 [==============================] - 3s 33ms/step - loss: 0.3867 - acc: 0.9082\n",
            "Epoch 467/1400\n",
            "98/98 [==============================] - 3s 33ms/step - loss: 0.2495 - acc: 0.9286\n",
            "Epoch 468/1400\n",
            "98/98 [==============================] - 3s 33ms/step - loss: 0.2258 - acc: 0.9286\n",
            "Epoch 469/1400\n",
            "98/98 [==============================] - 3s 33ms/step - loss: 0.3757 - acc: 0.9184\n",
            "Epoch 470/1400\n",
            "98/98 [==============================] - 3s 33ms/step - loss: 0.3197 - acc: 0.9286\n",
            "Epoch 471/1400\n",
            "98/98 [==============================] - 3s 33ms/step - loss: 0.1088 - acc: 0.9592\n",
            "Epoch 472/1400\n",
            "98/98 [==============================] - 3s 33ms/step - loss: 0.0292 - acc: 1.0000\n",
            "Epoch 473/1400\n",
            "60/98 [=================>............] - ETA: 1s - loss: 0.0277 - acc: 1.0000"
          ],
          "name": "stdout"
        },
        {
          "output_type": "stream",
          "text": [
            "98/98 [==============================] - 3s 32ms/step - loss: 0.0734 - acc: 0.9796\n",
            "Epoch 474/1400\n",
            "98/98 [==============================] - 3s 33ms/step - loss: 0.1402 - acc: 0.9490\n",
            "Epoch 475/1400\n",
            "98/98 [==============================] - 3s 33ms/step - loss: 0.0472 - acc: 0.9898\n",
            "Epoch 476/1400\n",
            "98/98 [==============================] - 3s 33ms/step - loss: 0.1538 - acc: 0.9490\n",
            "Epoch 477/1400\n",
            "98/98 [==============================] - 3s 33ms/step - loss: 0.3826 - acc: 0.8878\n",
            "Epoch 478/1400\n",
            "98/98 [==============================] - 3s 32ms/step - loss: 0.1502 - acc: 0.9490\n",
            "Epoch 479/1400\n",
            "98/98 [==============================] - 3s 32ms/step - loss: 0.0774 - acc: 0.9898\n",
            "Epoch 480/1400\n",
            "98/98 [==============================] - 3s 33ms/step - loss: 0.1415 - acc: 0.9490\n",
            "Epoch 481/1400\n",
            "60/98 [=================>............] - ETA: 1s - loss: 0.1525 - acc: 0.9833"
          ],
          "name": "stdout"
        },
        {
          "output_type": "stream",
          "text": [
            "98/98 [==============================] - 3s 33ms/step - loss: 0.0984 - acc: 0.9898\n",
            "Epoch 482/1400\n",
            "98/98 [==============================] - 3s 33ms/step - loss: 0.0201 - acc: 1.0000\n",
            "Epoch 483/1400\n",
            "98/98 [==============================] - 3s 33ms/step - loss: 0.0556 - acc: 0.9796\n",
            "Epoch 484/1400\n",
            "98/98 [==============================] - 3s 33ms/step - loss: 0.0458 - acc: 0.9898\n",
            "Epoch 485/1400\n",
            "98/98 [==============================] - 3s 33ms/step - loss: 0.3267 - acc: 0.9184\n",
            "Epoch 486/1400\n",
            "98/98 [==============================] - 3s 32ms/step - loss: 0.4032 - acc: 0.8980\n",
            "Epoch 487/1400\n",
            "98/98 [==============================] - 3s 32ms/step - loss: 0.1561 - acc: 0.9490\n",
            "Epoch 488/1400\n",
            "98/98 [==============================] - 3s 32ms/step - loss: 0.2264 - acc: 0.9388\n",
            "Epoch 489/1400\n",
            "60/98 [=================>............] - ETA: 1s - loss: 0.0223 - acc: 1.0000"
          ],
          "name": "stdout"
        },
        {
          "output_type": "stream",
          "text": [
            "98/98 [==============================] - 3s 33ms/step - loss: 0.0234 - acc: 1.0000\n",
            "Epoch 490/1400\n",
            "98/98 [==============================] - 3s 32ms/step - loss: 0.0086 - acc: 1.0000\n",
            "Epoch 491/1400\n",
            "98/98 [==============================] - 3s 32ms/step - loss: 0.0060 - acc: 1.0000\n",
            "Epoch 492/1400\n",
            "98/98 [==============================] - 3s 33ms/step - loss: 0.4129 - acc: 0.9082\n",
            "Epoch 493/1400\n",
            "98/98 [==============================] - 3s 33ms/step - loss: 0.0221 - acc: 1.0000\n",
            "Epoch 494/1400\n",
            "98/98 [==============================] - 3s 33ms/step - loss: 0.0066 - acc: 1.0000\n",
            "Epoch 495/1400\n",
            "98/98 [==============================] - 3s 33ms/step - loss: 0.2397 - acc: 0.9184\n",
            "Epoch 496/1400\n",
            "98/98 [==============================] - 3s 32ms/step - loss: 0.0440 - acc: 0.9796\n",
            "Epoch 497/1400\n",
            "60/98 [=================>............] - ETA: 1s - loss: 0.0083 - acc: 1.0000"
          ],
          "name": "stdout"
        },
        {
          "output_type": "stream",
          "text": [
            "98/98 [==============================] - 3s 32ms/step - loss: 0.0125 - acc: 1.0000\n",
            "Epoch 498/1400\n",
            "98/98 [==============================] - 3s 33ms/step - loss: 0.1342 - acc: 0.9592\n",
            "Epoch 499/1400\n",
            "98/98 [==============================] - 3s 33ms/step - loss: 0.0373 - acc: 0.9898\n",
            "Epoch 500/1400\n",
            "98/98 [==============================] - 3s 33ms/step - loss: 0.0106 - acc: 1.0000\n",
            "Epoch 501/1400\n",
            "98/98 [==============================] - 3s 33ms/step - loss: 0.4866 - acc: 0.8980\n",
            "Epoch 502/1400\n",
            "98/98 [==============================] - 3s 33ms/step - loss: 0.1475 - acc: 0.9694\n",
            "Epoch 503/1400\n",
            "98/98 [==============================] - 3s 33ms/step - loss: 0.1904 - acc: 0.9490\n",
            "Epoch 504/1400\n",
            "98/98 [==============================] - 3s 32ms/step - loss: 0.5684 - acc: 0.8980\n",
            "Epoch 505/1400\n",
            "60/98 [=================>............] - ETA: 1s - loss: 1.2580 - acc: 0.7667"
          ],
          "name": "stdout"
        },
        {
          "output_type": "stream",
          "text": [
            "98/98 [==============================] - 3s 32ms/step - loss: 0.9805 - acc: 0.8163\n",
            "Epoch 506/1400\n",
            "98/98 [==============================] - 3s 33ms/step - loss: 1.1496 - acc: 0.7245\n",
            "Epoch 507/1400\n",
            "98/98 [==============================] - 3s 33ms/step - loss: 0.4628 - acc: 0.8980\n",
            "Epoch 508/1400\n",
            "98/98 [==============================] - 3s 33ms/step - loss: 0.2023 - acc: 0.9490\n",
            "Epoch 509/1400\n",
            "98/98 [==============================] - 3s 32ms/step - loss: 0.6103 - acc: 0.8061\n",
            "Epoch 510/1400\n",
            "98/98 [==============================] - 3s 32ms/step - loss: 0.1351 - acc: 0.9490\n",
            "Epoch 511/1400\n",
            "98/98 [==============================] - 3s 32ms/step - loss: 0.1082 - acc: 0.9490\n",
            "Epoch 512/1400\n",
            "98/98 [==============================] - 3s 32ms/step - loss: 0.0930 - acc: 0.9796\n",
            "Epoch 513/1400\n",
            "60/98 [=================>............] - ETA: 1s - loss: 0.2666 - acc: 0.9500"
          ],
          "name": "stdout"
        },
        {
          "output_type": "stream",
          "text": [
            "98/98 [==============================] - 3s 33ms/step - loss: 0.2146 - acc: 0.9490\n",
            "Epoch 514/1400\n",
            "98/98 [==============================] - 3s 33ms/step - loss: 0.0661 - acc: 0.9898\n",
            "Epoch 515/1400\n",
            "98/98 [==============================] - 3s 33ms/step - loss: 0.3014 - acc: 0.9388\n",
            "Epoch 516/1400\n",
            "98/98 [==============================] - 3s 33ms/step - loss: 0.0675 - acc: 0.9694\n",
            "Epoch 517/1400\n",
            "98/98 [==============================] - 3s 33ms/step - loss: 0.2093 - acc: 0.9694\n",
            "Epoch 518/1400\n",
            "98/98 [==============================] - 3s 33ms/step - loss: 0.5048 - acc: 0.8673\n",
            "Epoch 519/1400\n",
            "98/98 [==============================] - 3s 33ms/step - loss: 0.2109 - acc: 0.9490\n",
            "Epoch 520/1400\n",
            "98/98 [==============================] - 3s 33ms/step - loss: 0.0405 - acc: 0.9898\n",
            "Epoch 521/1400\n",
            "60/98 [=================>............] - ETA: 1s - loss: 0.0110 - acc: 1.0000"
          ],
          "name": "stdout"
        },
        {
          "output_type": "stream",
          "text": [
            "98/98 [==============================] - 3s 34ms/step - loss: 0.0158 - acc: 1.0000\n",
            "Epoch 522/1400\n",
            "98/98 [==============================] - 3s 33ms/step - loss: 0.5031 - acc: 0.8878\n",
            "Epoch 523/1400\n",
            "98/98 [==============================] - 3s 33ms/step - loss: 0.4834 - acc: 0.8980\n",
            "Epoch 524/1400\n",
            "98/98 [==============================] - 3s 33ms/step - loss: 0.1632 - acc: 0.9592\n",
            "Epoch 525/1400\n",
            "98/98 [==============================] - 3s 32ms/step - loss: 0.0162 - acc: 1.0000\n",
            "Epoch 526/1400\n",
            "98/98 [==============================] - 3s 33ms/step - loss: 0.0799 - acc: 0.9796\n",
            "Epoch 527/1400\n",
            "98/98 [==============================] - 3s 33ms/step - loss: 0.0224 - acc: 1.0000\n",
            "Epoch 528/1400\n",
            "98/98 [==============================] - 3s 33ms/step - loss: 0.1136 - acc: 0.9796\n",
            "Epoch 529/1400\n",
            "60/98 [=================>............] - ETA: 1s - loss: 0.1403 - acc: 0.9833"
          ],
          "name": "stdout"
        },
        {
          "output_type": "stream",
          "text": [
            "98/98 [==============================] - 3s 33ms/step - loss: 0.3530 - acc: 0.9184\n",
            "Epoch 530/1400\n",
            "98/98 [==============================] - 3s 32ms/step - loss: 0.9070 - acc: 0.8469\n",
            "Epoch 531/1400\n",
            "98/98 [==============================] - 3s 32ms/step - loss: 0.0225 - acc: 1.0000\n",
            "Epoch 532/1400\n",
            "98/98 [==============================] - 3s 32ms/step - loss: 0.0239 - acc: 1.0000\n",
            "Epoch 533/1400\n",
            "98/98 [==============================] - 3s 32ms/step - loss: 0.0905 - acc: 0.9592\n",
            "Epoch 534/1400\n",
            "98/98 [==============================] - 3s 32ms/step - loss: 0.0539 - acc: 0.9898\n",
            "Epoch 535/1400\n",
            "98/98 [==============================] - 3s 33ms/step - loss: 0.0717 - acc: 0.9796\n",
            "Epoch 536/1400\n",
            "98/98 [==============================] - 3s 33ms/step - loss: 0.0201 - acc: 1.0000\n",
            "Epoch 537/1400\n",
            "60/98 [=================>............] - ETA: 1s - loss: 0.0095 - acc: 1.0000"
          ],
          "name": "stdout"
        },
        {
          "output_type": "stream",
          "text": [
            "98/98 [==============================] - 3s 32ms/step - loss: 0.0078 - acc: 1.0000\n",
            "Epoch 538/1400\n",
            "98/98 [==============================] - 3s 32ms/step - loss: 5.8085 - acc: 0.1939\n",
            "Epoch 539/1400\n",
            "98/98 [==============================] - 3s 32ms/step - loss: 5.3092 - acc: 0.2347\n",
            "Epoch 540/1400\n",
            "98/98 [==============================] - 3s 32ms/step - loss: 4.5522 - acc: 0.2245\n",
            "Epoch 541/1400\n",
            "98/98 [==============================] - 3s 33ms/step - loss: 4.1011 - acc: 0.2143\n",
            "Epoch 542/1400\n",
            "98/98 [==============================] - 3s 32ms/step - loss: 3.5725 - acc: 0.2143\n",
            "Epoch 543/1400\n",
            "98/98 [==============================] - 3s 32ms/step - loss: 2.8364 - acc: 0.2449\n",
            "Epoch 544/1400\n",
            "98/98 [==============================] - 3s 32ms/step - loss: 2.8775 - acc: 0.2245\n",
            "Epoch 545/1400\n",
            "60/98 [=================>............] - ETA: 1s - loss: 2.6897 - acc: 0.1833"
          ],
          "name": "stdout"
        },
        {
          "output_type": "stream",
          "text": [
            "98/98 [==============================] - 3s 32ms/step - loss: 2.6963 - acc: 0.1939\n",
            "Epoch 546/1400\n",
            "98/98 [==============================] - 3s 32ms/step - loss: 2.6110 - acc: 0.2143\n",
            "Epoch 547/1400\n",
            "98/98 [==============================] - 3s 32ms/step - loss: 2.6569 - acc: 0.2449\n",
            "Epoch 548/1400\n",
            "98/98 [==============================] - 3s 33ms/step - loss: 2.2476 - acc: 0.2449\n",
            "Epoch 549/1400\n",
            "98/98 [==============================] - 3s 33ms/step - loss: 2.5311 - acc: 0.1837\n",
            "Epoch 550/1400\n",
            "98/98 [==============================] - 3s 33ms/step - loss: 2.4325 - acc: 0.1735\n",
            "Epoch 551/1400\n",
            "98/98 [==============================] - 3s 33ms/step - loss: 2.3902 - acc: 0.1735\n",
            "Epoch 552/1400\n",
            "98/98 [==============================] - 3s 33ms/step - loss: 2.4734 - acc: 0.1633\n",
            "Epoch 553/1400\n",
            "60/98 [=================>............] - ETA: 1s - loss: 2.0730 - acc: 0.2500"
          ],
          "name": "stdout"
        },
        {
          "output_type": "stream",
          "text": [
            "98/98 [==============================] - 3s 33ms/step - loss: 2.0562 - acc: 0.2551\n",
            "Epoch 554/1400\n",
            "98/98 [==============================] - 3s 34ms/step - loss: 2.0385 - acc: 0.2755\n",
            "Epoch 555/1400\n",
            "98/98 [==============================] - 3s 33ms/step - loss: 2.2404 - acc: 0.1837\n",
            "Epoch 556/1400\n",
            "98/98 [==============================] - 3s 33ms/step - loss: 2.4401 - acc: 0.1531\n",
            "Epoch 557/1400\n",
            "98/98 [==============================] - 3s 33ms/step - loss: 2.4304 - acc: 0.2449\n",
            "Epoch 558/1400\n",
            "98/98 [==============================] - 3s 33ms/step - loss: 2.2383 - acc: 0.2143\n",
            "Epoch 559/1400\n",
            "98/98 [==============================] - 3s 33ms/step - loss: 2.3882 - acc: 0.1020\n",
            "Epoch 560/1400\n",
            "98/98 [==============================] - 3s 33ms/step - loss: 2.1381 - acc: 0.2347\n",
            "Epoch 561/1400\n",
            "60/98 [=================>............] - ETA: 1s - loss: 2.0210 - acc: 0.2167"
          ],
          "name": "stdout"
        },
        {
          "output_type": "stream",
          "text": [
            "98/98 [==============================] - 3s 33ms/step - loss: 2.2467 - acc: 0.1837\n",
            "Epoch 562/1400\n",
            "98/98 [==============================] - 3s 32ms/step - loss: 2.2762 - acc: 0.2449\n",
            "Epoch 563/1400\n",
            "98/98 [==============================] - 3s 32ms/step - loss: 2.5810 - acc: 0.1122\n",
            "Epoch 564/1400\n",
            "98/98 [==============================] - 3s 33ms/step - loss: 2.3123 - acc: 0.1837\n",
            "Epoch 565/1400\n",
            "98/98 [==============================] - 3s 32ms/step - loss: 2.0746 - acc: 0.2551\n",
            "Epoch 566/1400\n",
            "98/98 [==============================] - 3s 32ms/step - loss: 2.2828 - acc: 0.2449\n",
            "Epoch 567/1400\n",
            "98/98 [==============================] - 3s 32ms/step - loss: 2.6680 - acc: 0.1429\n",
            "Epoch 568/1400\n",
            "98/98 [==============================] - 3s 33ms/step - loss: 2.2338 - acc: 0.2041\n",
            "Epoch 569/1400\n",
            "60/98 [=================>............] - ETA: 1s - loss: 2.0336 - acc: 0.1667"
          ],
          "name": "stdout"
        },
        {
          "output_type": "stream",
          "text": [
            "98/98 [==============================] - 3s 32ms/step - loss: 2.0383 - acc: 0.1531\n",
            "Epoch 570/1400\n",
            "98/98 [==============================] - 3s 32ms/step - loss: 2.3094 - acc: 0.2041\n",
            "Epoch 571/1400\n",
            "98/98 [==============================] - 3s 34ms/step - loss: 2.2928 - acc: 0.2041\n",
            "Epoch 572/1400\n",
            "98/98 [==============================] - 3s 35ms/step - loss: 2.2772 - acc: 0.2143\n",
            "Epoch 573/1400\n",
            "98/98 [==============================] - 3s 34ms/step - loss: 2.2640 - acc: 0.1735\n",
            "Epoch 574/1400\n",
            "98/98 [==============================] - 3s 33ms/step - loss: 2.2554 - acc: 0.2041\n",
            "Epoch 575/1400\n",
            "98/98 [==============================] - 3s 33ms/step - loss: 2.2696 - acc: 0.1633\n",
            "Epoch 576/1400\n",
            "98/98 [==============================] - 3s 33ms/step - loss: 2.0727 - acc: 0.1939\n",
            "Epoch 577/1400\n",
            "60/98 [=================>............] - ETA: 1s - loss: 2.0701 - acc: 0.2500"
          ],
          "name": "stdout"
        },
        {
          "output_type": "stream",
          "text": [
            "98/98 [==============================] - 3s 32ms/step - loss: 2.1447 - acc: 0.2143\n",
            "Epoch 578/1400\n",
            "98/98 [==============================] - 3s 33ms/step - loss: 2.1825 - acc: 0.1939\n",
            "Epoch 579/1400\n",
            "98/98 [==============================] - 3s 33ms/step - loss: 1.9759 - acc: 0.2449\n",
            "Epoch 580/1400\n",
            "98/98 [==============================] - 3s 33ms/step - loss: 1.9411 - acc: 0.2041\n",
            "Epoch 581/1400\n",
            "98/98 [==============================] - 3s 34ms/step - loss: 2.0126 - acc: 0.2041\n",
            "Epoch 582/1400\n",
            "98/98 [==============================] - 3s 33ms/step - loss: 2.0226 - acc: 0.2143\n",
            "Epoch 583/1400\n",
            "98/98 [==============================] - 3s 33ms/step - loss: 1.9561 - acc: 0.1633\n",
            "Epoch 584/1400\n",
            "98/98 [==============================] - 3s 33ms/step - loss: 2.0395 - acc: 0.2449\n",
            "Epoch 585/1400\n",
            "60/98 [=================>............] - ETA: 1s - loss: 2.1013 - acc: 0.1667"
          ],
          "name": "stdout"
        },
        {
          "output_type": "stream",
          "text": [
            "98/98 [==============================] - 3s 33ms/step - loss: 1.9852 - acc: 0.2041\n",
            "Epoch 586/1400\n",
            "98/98 [==============================] - 3s 33ms/step - loss: 2.0632 - acc: 0.1735\n",
            "Epoch 587/1400\n",
            "98/98 [==============================] - 3s 33ms/step - loss: 1.8447 - acc: 0.2041\n",
            "Epoch 588/1400\n",
            "98/98 [==============================] - 3s 33ms/step - loss: 1.8927 - acc: 0.2347\n",
            "Epoch 589/1400\n",
            "98/98 [==============================] - 3s 33ms/step - loss: 1.8611 - acc: 0.2653\n",
            "Epoch 590/1400\n",
            "98/98 [==============================] - 3s 34ms/step - loss: 1.8714 - acc: 0.2347\n",
            "Epoch 591/1400\n",
            "98/98 [==============================] - 3s 34ms/step - loss: 1.9513 - acc: 0.2245\n",
            "Epoch 592/1400\n",
            "98/98 [==============================] - 3s 34ms/step - loss: 2.0535 - acc: 0.1735\n",
            "Epoch 593/1400\n",
            "60/98 [=================>............] - ETA: 1s - loss: 2.0037 - acc: 0.1833"
          ],
          "name": "stdout"
        },
        {
          "output_type": "stream",
          "text": [
            "98/98 [==============================] - 3s 34ms/step - loss: 1.9973 - acc: 0.2041\n",
            "Epoch 594/1400\n",
            "98/98 [==============================] - 3s 33ms/step - loss: 1.9965 - acc: 0.1531\n",
            "Epoch 595/1400\n",
            "98/98 [==============================] - 3s 33ms/step - loss: 1.9543 - acc: 0.1837\n",
            "Epoch 596/1400\n",
            "98/98 [==============================] - 3s 33ms/step - loss: 2.0121 - acc: 0.2551\n",
            "Epoch 597/1400\n",
            "98/98 [==============================] - 3s 34ms/step - loss: 2.0232 - acc: 0.1735\n",
            "Epoch 598/1400\n",
            "98/98 [==============================] - 3s 33ms/step - loss: 2.1561 - acc: 0.1327\n",
            "Epoch 599/1400\n",
            "98/98 [==============================] - 3s 33ms/step - loss: 2.0359 - acc: 0.2347\n",
            "Epoch 600/1400\n",
            "98/98 [==============================] - 3s 32ms/step - loss: 1.9709 - acc: 0.2041\n",
            "Epoch 601/1400\n",
            "60/98 [=================>............] - ETA: 1s - loss: 1.8433 - acc: 0.2667"
          ],
          "name": "stdout"
        },
        {
          "output_type": "stream",
          "text": [
            "98/98 [==============================] - 3s 33ms/step - loss: 1.9943 - acc: 0.2245\n",
            "Epoch 602/1400\n",
            "98/98 [==============================] - 3s 33ms/step - loss: 1.9644 - acc: 0.1939\n",
            "Epoch 603/1400\n",
            "98/98 [==============================] - 3s 33ms/step - loss: 2.0145 - acc: 0.1429\n",
            "Epoch 604/1400\n",
            "98/98 [==============================] - 3s 33ms/step - loss: 1.9813 - acc: 0.2143\n",
            "Epoch 605/1400\n",
            "98/98 [==============================] - 3s 32ms/step - loss: 1.9829 - acc: 0.1735\n",
            "Epoch 606/1400\n",
            "98/98 [==============================] - 3s 33ms/step - loss: 1.8719 - acc: 0.2551\n",
            "Epoch 607/1400\n",
            "98/98 [==============================] - 3s 33ms/step - loss: 1.9143 - acc: 0.1735\n",
            "Epoch 608/1400\n",
            "98/98 [==============================] - 3s 33ms/step - loss: 1.9253 - acc: 0.1939\n",
            "Epoch 609/1400\n",
            "60/98 [=================>............] - ETA: 1s - loss: 1.9388 - acc: 0.2333"
          ],
          "name": "stdout"
        },
        {
          "output_type": "stream",
          "text": [
            "98/98 [==============================] - 3s 33ms/step - loss: 1.8815 - acc: 0.2449\n",
            "Epoch 610/1400\n",
            "98/98 [==============================] - 3s 33ms/step - loss: 1.9592 - acc: 0.1531\n",
            "Epoch 611/1400\n",
            "98/98 [==============================] - 3s 34ms/step - loss: 1.8911 - acc: 0.1837\n",
            "Epoch 612/1400\n",
            "98/98 [==============================] - 3s 34ms/step - loss: 1.8711 - acc: 0.1837\n",
            "Epoch 613/1400\n",
            "98/98 [==============================] - 3s 33ms/step - loss: 1.8526 - acc: 0.2143\n",
            "Epoch 614/1400\n",
            "98/98 [==============================] - 3s 34ms/step - loss: 1.8845 - acc: 0.2041\n",
            "Epoch 615/1400\n",
            "98/98 [==============================] - 3s 34ms/step - loss: 1.8181 - acc: 0.2143\n",
            "Epoch 616/1400\n",
            "98/98 [==============================] - 3s 33ms/step - loss: 1.8437 - acc: 0.2041\n",
            "Epoch 617/1400\n",
            "60/98 [=================>............] - ETA: 1s - loss: 1.7903 - acc: 0.2500"
          ],
          "name": "stdout"
        },
        {
          "output_type": "stream",
          "text": [
            "98/98 [==============================] - 3s 34ms/step - loss: 1.8349 - acc: 0.2857\n",
            "Epoch 618/1400\n",
            "98/98 [==============================] - 3s 33ms/step - loss: 1.9117 - acc: 0.2347\n",
            "Epoch 619/1400\n",
            "98/98 [==============================] - 3s 33ms/step - loss: 1.9234 - acc: 0.2143\n",
            "Epoch 620/1400\n",
            "98/98 [==============================] - 3s 33ms/step - loss: 1.6811 - acc: 0.3367\n",
            "Epoch 621/1400\n",
            "98/98 [==============================] - 3s 33ms/step - loss: 1.6898 - acc: 0.3265\n",
            "Epoch 622/1400\n",
            "98/98 [==============================] - 3s 33ms/step - loss: 1.6195 - acc: 0.3878\n",
            "Epoch 623/1400\n",
            "98/98 [==============================] - 3s 33ms/step - loss: 1.5455 - acc: 0.3980\n",
            "Epoch 624/1400\n",
            "98/98 [==============================] - 3s 33ms/step - loss: 1.3384 - acc: 0.4796\n",
            "Epoch 625/1400\n",
            "60/98 [=================>............] - ETA: 1s - loss: 1.2825 - acc: 0.5333"
          ],
          "name": "stdout"
        },
        {
          "output_type": "stream",
          "text": [
            "98/98 [==============================] - 3s 32ms/step - loss: 1.5002 - acc: 0.4694\n",
            "Epoch 626/1400\n",
            "98/98 [==============================] - 3s 32ms/step - loss: 1.1728 - acc: 0.6327\n",
            "Epoch 627/1400\n",
            "98/98 [==============================] - 3s 32ms/step - loss: 1.4606 - acc: 0.4694\n",
            "Epoch 628/1400\n",
            "98/98 [==============================] - 3s 32ms/step - loss: 1.1583 - acc: 0.5510\n",
            "Epoch 629/1400\n",
            "98/98 [==============================] - 3s 32ms/step - loss: 1.0116 - acc: 0.6020\n",
            "Epoch 630/1400\n",
            "98/98 [==============================] - 3s 33ms/step - loss: 0.9217 - acc: 0.6939\n",
            "Epoch 631/1400\n",
            "98/98 [==============================] - 3s 33ms/step - loss: 1.0088 - acc: 0.6429\n",
            "Epoch 632/1400\n",
            "98/98 [==============================] - 3s 32ms/step - loss: 1.0033 - acc: 0.6939\n",
            "Epoch 633/1400\n",
            "60/98 [=================>............] - ETA: 1s - loss: 0.4759 - acc: 0.9000"
          ],
          "name": "stdout"
        },
        {
          "output_type": "stream",
          "text": [
            "98/98 [==============================] - 3s 33ms/step - loss: 0.5692 - acc: 0.8571\n",
            "Epoch 634/1400\n",
            "98/98 [==============================] - 3s 33ms/step - loss: 0.3161 - acc: 0.8980\n",
            "Epoch 635/1400\n",
            "98/98 [==============================] - 3s 33ms/step - loss: 0.4598 - acc: 0.8878\n",
            "Epoch 636/1400\n",
            "98/98 [==============================] - 3s 33ms/step - loss: 0.5962 - acc: 0.7857\n",
            "Epoch 637/1400\n",
            "98/98 [==============================] - 3s 33ms/step - loss: 0.2772 - acc: 0.9286\n",
            "Epoch 638/1400\n",
            "98/98 [==============================] - 3s 32ms/step - loss: 0.2197 - acc: 0.9490\n",
            "Epoch 639/1400\n",
            "98/98 [==============================] - 3s 32ms/step - loss: 0.5162 - acc: 0.8776\n",
            "Epoch 640/1400\n",
            "98/98 [==============================] - 3s 32ms/step - loss: 0.2530 - acc: 0.9286\n",
            "Epoch 641/1400\n",
            "60/98 [=================>............] - ETA: 1s - loss: 0.1263 - acc: 0.9667"
          ],
          "name": "stdout"
        },
        {
          "output_type": "stream",
          "text": [
            "98/98 [==============================] - 3s 32ms/step - loss: 0.1645 - acc: 0.9592\n",
            "Epoch 642/1400\n",
            "98/98 [==============================] - 3s 32ms/step - loss: 0.2456 - acc: 0.9286\n",
            "Epoch 643/1400\n",
            "98/98 [==============================] - 3s 32ms/step - loss: 0.1611 - acc: 0.9694\n",
            "Epoch 644/1400\n",
            "98/98 [==============================] - 3s 32ms/step - loss: 0.1551 - acc: 0.9694\n",
            "Epoch 645/1400\n",
            "98/98 [==============================] - 3s 32ms/step - loss: 0.2136 - acc: 0.9388\n",
            "Epoch 646/1400\n",
            "98/98 [==============================] - 3s 32ms/step - loss: 0.3111 - acc: 0.9286\n",
            "Epoch 647/1400\n",
            "98/98 [==============================] - 3s 33ms/step - loss: 0.2886 - acc: 0.9286\n",
            "Epoch 648/1400\n",
            "98/98 [==============================] - 3s 32ms/step - loss: 0.3856 - acc: 0.9286\n",
            "Epoch 649/1400\n",
            "60/98 [=================>............] - ETA: 1s - loss: 0.3468 - acc: 0.9167"
          ],
          "name": "stdout"
        },
        {
          "output_type": "stream",
          "text": [
            "98/98 [==============================] - 3s 33ms/step - loss: 0.2397 - acc: 0.9490\n",
            "Epoch 650/1400\n",
            "98/98 [==============================] - 3s 32ms/step - loss: 0.4526 - acc: 0.8571\n",
            "Epoch 651/1400\n",
            "98/98 [==============================] - 3s 33ms/step - loss: 0.1327 - acc: 0.9694\n",
            "Epoch 652/1400\n",
            "98/98 [==============================] - 3s 32ms/step - loss: 0.0419 - acc: 1.0000\n",
            "Epoch 653/1400\n",
            "98/98 [==============================] - 3s 32ms/step - loss: 0.0701 - acc: 1.0000\n",
            "Epoch 654/1400\n",
            "98/98 [==============================] - 3s 32ms/step - loss: 0.2802 - acc: 0.9082\n",
            "Epoch 655/1400\n",
            "98/98 [==============================] - 3s 32ms/step - loss: 0.4216 - acc: 0.8571\n",
            "Epoch 656/1400\n",
            "98/98 [==============================] - 3s 32ms/step - loss: 0.0654 - acc: 0.9898\n",
            "Epoch 657/1400\n",
            "60/98 [=================>............] - ETA: 1s - loss: 0.1036 - acc: 0.9667"
          ],
          "name": "stdout"
        },
        {
          "output_type": "stream",
          "text": [
            "98/98 [==============================] - 3s 32ms/step - loss: 0.1172 - acc: 0.9694\n",
            "Epoch 658/1400\n",
            "98/98 [==============================] - 3s 32ms/step - loss: 0.1109 - acc: 0.9694\n",
            "Epoch 659/1400\n",
            "98/98 [==============================] - 3s 32ms/step - loss: 0.0412 - acc: 1.0000\n",
            "Epoch 660/1400\n",
            "98/98 [==============================] - 3s 32ms/step - loss: 0.0217 - acc: 1.0000\n",
            "Epoch 661/1400\n",
            "98/98 [==============================] - 3s 32ms/step - loss: 0.2427 - acc: 0.9388\n",
            "Epoch 662/1400\n",
            "98/98 [==============================] - 3s 32ms/step - loss: 0.0294 - acc: 1.0000\n",
            "Epoch 663/1400\n",
            "98/98 [==============================] - 3s 32ms/step - loss: 0.1559 - acc: 0.9592\n",
            "Epoch 664/1400\n",
            "98/98 [==============================] - 3s 32ms/step - loss: 0.0668 - acc: 0.9796\n",
            "Epoch 665/1400\n",
            "60/98 [=================>............] - ETA: 1s - loss: 0.1615 - acc: 0.9667"
          ],
          "name": "stdout"
        },
        {
          "output_type": "stream",
          "text": [
            "98/98 [==============================] - 3s 32ms/step - loss: 0.1802 - acc: 0.9592\n",
            "Epoch 666/1400\n",
            "98/98 [==============================] - 3s 33ms/step - loss: 0.0306 - acc: 1.0000\n",
            "Epoch 667/1400\n",
            "98/98 [==============================] - 3s 33ms/step - loss: 0.5405 - acc: 0.8673\n",
            "Epoch 668/1400\n",
            "98/98 [==============================] - 3s 33ms/step - loss: 0.2201 - acc: 0.9286\n",
            "Epoch 669/1400\n",
            "98/98 [==============================] - 3s 33ms/step - loss: 0.2696 - acc: 0.9286\n",
            "Epoch 670/1400\n",
            "98/98 [==============================] - 3s 33ms/step - loss: 0.0546 - acc: 1.0000\n",
            "Epoch 671/1400\n",
            "98/98 [==============================] - 3s 33ms/step - loss: 0.1300 - acc: 0.9592\n",
            "Epoch 672/1400\n",
            "98/98 [==============================] - 3s 33ms/step - loss: 0.0865 - acc: 0.9796\n",
            "Epoch 673/1400\n",
            "60/98 [=================>............] - ETA: 1s - loss: 0.0201 - acc: 1.0000"
          ],
          "name": "stdout"
        },
        {
          "output_type": "stream",
          "text": [
            "98/98 [==============================] - 3s 33ms/step - loss: 0.0227 - acc: 1.0000\n",
            "Epoch 674/1400\n",
            "98/98 [==============================] - 3s 33ms/step - loss: 0.2504 - acc: 0.9388\n",
            "Epoch 675/1400\n",
            "98/98 [==============================] - 3s 33ms/step - loss: 0.0509 - acc: 0.9898\n",
            "Epoch 676/1400\n",
            "98/98 [==============================] - 3s 33ms/step - loss: 0.0214 - acc: 1.0000\n",
            "Epoch 677/1400\n",
            "98/98 [==============================] - 3s 32ms/step - loss: 1.0620 - acc: 0.7347\n",
            "Epoch 678/1400\n",
            "98/98 [==============================] - 3s 32ms/step - loss: 0.8641 - acc: 0.7449\n",
            "Epoch 679/1400\n",
            "98/98 [==============================] - 3s 32ms/step - loss: 0.1669 - acc: 0.9592\n",
            "Epoch 680/1400\n",
            "98/98 [==============================] - 3s 32ms/step - loss: 0.0753 - acc: 0.9796\n",
            "Epoch 681/1400\n",
            "60/98 [=================>............] - ETA: 1s - loss: 0.1532 - acc: 0.9833"
          ],
          "name": "stdout"
        },
        {
          "output_type": "stream",
          "text": [
            "98/98 [==============================] - 3s 33ms/step - loss: 0.1029 - acc: 0.9898\n",
            "Epoch 682/1400\n",
            "98/98 [==============================] - 3s 32ms/step - loss: 0.0328 - acc: 0.9898\n",
            "Epoch 683/1400\n",
            "98/98 [==============================] - 3s 32ms/step - loss: 0.0995 - acc: 0.9694\n",
            "Epoch 684/1400\n",
            "98/98 [==============================] - 3s 32ms/step - loss: 2.1906 - acc: 0.6020\n",
            "Epoch 685/1400\n",
            "98/98 [==============================] - 3s 32ms/step - loss: 0.5089 - acc: 0.8673\n",
            "Epoch 686/1400\n",
            "98/98 [==============================] - 3s 32ms/step - loss: 0.9894 - acc: 0.7551\n",
            "Epoch 687/1400\n",
            "98/98 [==============================] - 3s 32ms/step - loss: 0.1760 - acc: 0.9592\n",
            "Epoch 688/1400\n",
            "98/98 [==============================] - 3s 32ms/step - loss: 0.3139 - acc: 0.8980\n",
            "Epoch 689/1400\n",
            "60/98 [=================>............] - ETA: 1s - loss: 0.1278 - acc: 0.9667"
          ],
          "name": "stdout"
        },
        {
          "output_type": "stream",
          "text": [
            "98/98 [==============================] - 3s 32ms/step - loss: 0.1957 - acc: 0.9490\n",
            "Epoch 690/1400\n",
            "98/98 [==============================] - 3s 32ms/step - loss: 0.4232 - acc: 0.8776\n",
            "Epoch 691/1400\n",
            "98/98 [==============================] - 3s 32ms/step - loss: 0.1766 - acc: 0.9592\n",
            "Epoch 692/1400\n",
            "98/98 [==============================] - 3s 32ms/step - loss: 0.0944 - acc: 0.9796\n",
            "Epoch 693/1400\n",
            "98/98 [==============================] - 3s 32ms/step - loss: 0.0661 - acc: 0.9898\n",
            "Epoch 694/1400\n",
            "98/98 [==============================] - 3s 33ms/step - loss: 0.1988 - acc: 0.9388\n",
            "Epoch 695/1400\n",
            "98/98 [==============================] - 3s 33ms/step - loss: 0.2350 - acc: 0.9490\n",
            "Epoch 696/1400\n",
            "98/98 [==============================] - 3s 32ms/step - loss: 0.0885 - acc: 0.9796\n",
            "Epoch 697/1400\n",
            "60/98 [=================>............] - ETA: 1s - loss: 0.4523 - acc: 0.8667"
          ],
          "name": "stdout"
        },
        {
          "output_type": "stream",
          "text": [
            "98/98 [==============================] - 3s 33ms/step - loss: 0.2906 - acc: 0.9184\n",
            "Epoch 698/1400\n",
            "98/98 [==============================] - 3s 33ms/step - loss: 0.2894 - acc: 0.9286\n",
            "Epoch 699/1400\n",
            "98/98 [==============================] - 3s 33ms/step - loss: 0.0562 - acc: 1.0000\n",
            "Epoch 700/1400\n",
            "98/98 [==============================] - 3s 33ms/step - loss: 0.8430 - acc: 0.8061\n",
            "Epoch 701/1400\n",
            "98/98 [==============================] - 3s 32ms/step - loss: 0.0931 - acc: 0.9694\n",
            "Epoch 702/1400\n",
            "98/98 [==============================] - 3s 32ms/step - loss: 0.1107 - acc: 0.9592\n",
            "Epoch 703/1400\n",
            "98/98 [==============================] - 3s 32ms/step - loss: 0.1429 - acc: 0.9592\n",
            "Epoch 704/1400\n",
            "98/98 [==============================] - 3s 33ms/step - loss: 0.0444 - acc: 0.9898\n",
            "Epoch 705/1400\n",
            "60/98 [=================>............] - ETA: 1s - loss: 0.0323 - acc: 1.0000"
          ],
          "name": "stdout"
        },
        {
          "output_type": "stream",
          "text": [
            "98/98 [==============================] - 3s 32ms/step - loss: 0.0343 - acc: 1.0000\n",
            "Epoch 706/1400\n",
            "98/98 [==============================] - 3s 32ms/step - loss: 0.0451 - acc: 0.9898\n",
            "Epoch 707/1400\n",
            "98/98 [==============================] - 3s 32ms/step - loss: 0.4034 - acc: 0.9082\n",
            "Epoch 708/1400\n",
            "98/98 [==============================] - 3s 32ms/step - loss: 0.7045 - acc: 0.7959\n",
            "Epoch 709/1400\n",
            "98/98 [==============================] - 3s 33ms/step - loss: 0.3688 - acc: 0.8878\n",
            "Epoch 710/1400\n",
            "98/98 [==============================] - 3s 33ms/step - loss: 0.2684 - acc: 0.9286\n",
            "Epoch 711/1400\n",
            "98/98 [==============================] - 3s 33ms/step - loss: 0.1903 - acc: 0.9388\n",
            "Epoch 712/1400\n",
            "98/98 [==============================] - 3s 33ms/step - loss: 0.1772 - acc: 0.9592\n",
            "Epoch 713/1400\n",
            "60/98 [=================>............] - ETA: 1s - loss: 0.1719 - acc: 0.9500"
          ],
          "name": "stdout"
        },
        {
          "output_type": "stream",
          "text": [
            "98/98 [==============================] - 3s 33ms/step - loss: 0.1399 - acc: 0.9694\n",
            "Epoch 714/1400\n",
            "98/98 [==============================] - 3s 33ms/step - loss: 0.0587 - acc: 0.9796\n",
            "Epoch 715/1400\n",
            "98/98 [==============================] - 3s 33ms/step - loss: 0.1672 - acc: 0.9388\n",
            "Epoch 716/1400\n",
            "98/98 [==============================] - 3s 32ms/step - loss: 0.1177 - acc: 0.9592\n",
            "Epoch 717/1400\n",
            "98/98 [==============================] - 3s 32ms/step - loss: 0.1137 - acc: 0.9694\n",
            "Epoch 718/1400\n",
            "98/98 [==============================] - 3s 32ms/step - loss: 0.0168 - acc: 1.0000\n",
            "Epoch 719/1400\n",
            "98/98 [==============================] - 3s 32ms/step - loss: 0.0170 - acc: 1.0000\n",
            "Epoch 720/1400\n",
            "98/98 [==============================] - 3s 32ms/step - loss: 0.0837 - acc: 0.9796\n",
            "Epoch 721/1400\n",
            "60/98 [=================>............] - ETA: 1s - loss: 0.0356 - acc: 0.9833"
          ],
          "name": "stdout"
        },
        {
          "output_type": "stream",
          "text": [
            "98/98 [==============================] - 3s 32ms/step - loss: 0.0288 - acc: 0.9898\n",
            "Epoch 722/1400\n",
            "98/98 [==============================] - 3s 32ms/step - loss: 0.3055 - acc: 0.9388\n",
            "Epoch 723/1400\n",
            "98/98 [==============================] - 3s 32ms/step - loss: 0.6726 - acc: 0.8469\n",
            "Epoch 724/1400\n",
            "98/98 [==============================] - 3s 33ms/step - loss: 0.1676 - acc: 0.9592\n",
            "Epoch 725/1400\n",
            "98/98 [==============================] - 3s 32ms/step - loss: 0.0647 - acc: 0.9898\n",
            "Epoch 726/1400\n",
            "98/98 [==============================] - 3s 33ms/step - loss: 0.0137 - acc: 1.0000\n",
            "Epoch 727/1400\n",
            "98/98 [==============================] - 3s 33ms/step - loss: 0.0653 - acc: 0.9796\n",
            "Epoch 728/1400\n",
            "98/98 [==============================] - 3s 33ms/step - loss: 0.0120 - acc: 1.0000\n",
            "Epoch 729/1400\n",
            "60/98 [=================>............] - ETA: 1s - loss: 0.0934 - acc: 0.9833"
          ],
          "name": "stdout"
        },
        {
          "output_type": "stream",
          "text": [
            "98/98 [==============================] - 3s 33ms/step - loss: 0.0661 - acc: 0.9898\n",
            "Epoch 730/1400\n",
            "98/98 [==============================] - 3s 33ms/step - loss: 0.1244 - acc: 0.9592\n",
            "Epoch 731/1400\n",
            "98/98 [==============================] - 3s 33ms/step - loss: 0.1589 - acc: 0.9694\n",
            "Epoch 732/1400\n",
            "98/98 [==============================] - 3s 33ms/step - loss: 0.0181 - acc: 1.0000\n",
            "Epoch 733/1400\n",
            "98/98 [==============================] - 3s 32ms/step - loss: 0.0162 - acc: 1.0000\n",
            "Epoch 734/1400\n",
            "98/98 [==============================] - 3s 33ms/step - loss: 0.2126 - acc: 0.9490\n",
            "Epoch 735/1400\n",
            "98/98 [==============================] - 3s 33ms/step - loss: 0.0138 - acc: 1.0000\n",
            "Epoch 736/1400\n",
            "98/98 [==============================] - 3s 33ms/step - loss: 0.0094 - acc: 1.0000\n",
            "Epoch 737/1400\n",
            "60/98 [=================>............] - ETA: 1s - loss: 0.0118 - acc: 1.0000"
          ],
          "name": "stdout"
        },
        {
          "output_type": "stream",
          "text": [
            "98/98 [==============================] - 3s 33ms/step - loss: 0.2341 - acc: 0.9388\n",
            "Epoch 738/1400\n",
            "98/98 [==============================] - 3s 33ms/step - loss: 0.3108 - acc: 0.9388\n",
            "Epoch 739/1400\n",
            "98/98 [==============================] - 3s 33ms/step - loss: 0.1285 - acc: 0.9694\n",
            "Epoch 740/1400\n",
            "98/98 [==============================] - 3s 32ms/step - loss: 0.0153 - acc: 1.0000\n",
            "Epoch 741/1400\n",
            "98/98 [==============================] - 3s 32ms/step - loss: 0.0757 - acc: 0.9796\n",
            "Epoch 742/1400\n",
            "98/98 [==============================] - 3s 33ms/step - loss: 0.0155 - acc: 1.0000\n",
            "Epoch 743/1400\n",
            "98/98 [==============================] - 3s 33ms/step - loss: 0.4014 - acc: 0.8980\n",
            "Epoch 744/1400\n",
            "98/98 [==============================] - 3s 33ms/step - loss: 0.0615 - acc: 0.9694\n",
            "Epoch 745/1400\n",
            "60/98 [=================>............] - ETA: 1s - loss: 0.0347 - acc: 0.9833"
          ],
          "name": "stdout"
        },
        {
          "output_type": "stream",
          "text": [
            "98/98 [==============================] - 3s 33ms/step - loss: 0.1147 - acc: 0.9592\n",
            "Epoch 746/1400\n",
            "98/98 [==============================] - 3s 33ms/step - loss: 0.1349 - acc: 0.9286\n",
            "Epoch 747/1400\n",
            "98/98 [==============================] - 3s 33ms/step - loss: 0.1728 - acc: 0.9388\n",
            "Epoch 748/1400\n",
            "98/98 [==============================] - 3s 33ms/step - loss: 0.0252 - acc: 1.0000\n",
            "Epoch 749/1400\n",
            "98/98 [==============================] - 3s 33ms/step - loss: 0.1827 - acc: 0.9490\n",
            "Epoch 750/1400\n",
            "98/98 [==============================] - 3s 34ms/step - loss: 0.0198 - acc: 1.0000\n",
            "Epoch 751/1400\n",
            "98/98 [==============================] - 3s 33ms/step - loss: 0.4147 - acc: 0.9184\n",
            "Epoch 752/1400\n",
            "98/98 [==============================] - 3s 33ms/step - loss: 0.0804 - acc: 0.9796\n",
            "Epoch 753/1400\n",
            "60/98 [=================>............] - ETA: 1s - loss: 0.0085 - acc: 1.0000"
          ],
          "name": "stdout"
        },
        {
          "output_type": "stream",
          "text": [
            "98/98 [==============================] - 3s 33ms/step - loss: 0.0549 - acc: 0.9898\n",
            "Epoch 754/1400\n",
            "98/98 [==============================] - 3s 33ms/step - loss: 0.1144 - acc: 0.9796\n",
            "Epoch 755/1400\n",
            "98/98 [==============================] - 3s 33ms/step - loss: 0.1077 - acc: 0.9694\n",
            "Epoch 756/1400\n",
            "98/98 [==============================] - 3s 33ms/step - loss: 0.0146 - acc: 1.0000\n",
            "Epoch 757/1400\n",
            "98/98 [==============================] - 3s 33ms/step - loss: 0.1331 - acc: 0.9592\n",
            "Epoch 758/1400\n",
            "98/98 [==============================] - 3s 33ms/step - loss: 0.0423 - acc: 0.9898\n",
            "Epoch 759/1400\n",
            "98/98 [==============================] - 3s 33ms/step - loss: 0.0100 - acc: 1.0000\n",
            "Epoch 760/1400\n",
            "98/98 [==============================] - 3s 33ms/step - loss: 0.4630 - acc: 0.8878\n",
            "Epoch 761/1400\n",
            "60/98 [=================>............] - ETA: 1s - loss: 0.1176 - acc: 0.9833"
          ],
          "name": "stdout"
        },
        {
          "output_type": "stream",
          "text": [
            "98/98 [==============================] - 3s 33ms/step - loss: 0.1066 - acc: 0.9796\n",
            "Epoch 762/1400\n",
            "98/98 [==============================] - 3s 33ms/step - loss: 0.1201 - acc: 0.9694\n",
            "Epoch 763/1400\n",
            "98/98 [==============================] - 3s 33ms/step - loss: 0.1295 - acc: 0.9796\n",
            "Epoch 764/1400\n",
            "98/98 [==============================] - 3s 32ms/step - loss: 0.2945 - acc: 0.9592\n",
            "Epoch 765/1400\n",
            "98/98 [==============================] - 3s 33ms/step - loss: 0.0588 - acc: 0.9898\n",
            "Epoch 766/1400\n",
            "98/98 [==============================] - 3s 33ms/step - loss: 0.1084 - acc: 0.9694\n",
            "Epoch 767/1400\n",
            "98/98 [==============================] - 3s 32ms/step - loss: 0.0460 - acc: 0.9898\n",
            "Epoch 768/1400\n",
            "98/98 [==============================] - 3s 33ms/step - loss: 0.0125 - acc: 1.0000\n",
            "Epoch 769/1400\n",
            "60/98 [=================>............] - ETA: 1s - loss: 0.0090 - acc: 1.0000"
          ],
          "name": "stdout"
        },
        {
          "output_type": "stream",
          "text": [
            "98/98 [==============================] - 3s 32ms/step - loss: 0.0071 - acc: 1.0000\n",
            "Epoch 770/1400\n",
            "98/98 [==============================] - 3s 33ms/step - loss: 0.3858 - acc: 0.9286\n",
            "Epoch 771/1400\n",
            "98/98 [==============================] - 3s 32ms/step - loss: 0.1780 - acc: 0.9694\n",
            "Epoch 772/1400\n",
            "98/98 [==============================] - 3s 33ms/step - loss: 0.0371 - acc: 0.9898\n",
            "Epoch 773/1400\n",
            "98/98 [==============================] - 3s 33ms/step - loss: 0.1259 - acc: 0.9694\n",
            "Epoch 774/1400\n",
            "98/98 [==============================] - 3s 33ms/step - loss: 0.0151 - acc: 1.0000\n",
            "Epoch 775/1400\n",
            "98/98 [==============================] - 3s 33ms/step - loss: 0.0055 - acc: 1.0000\n",
            "Epoch 776/1400\n",
            "98/98 [==============================] - 3s 32ms/step - loss: 0.0981 - acc: 0.9694\n",
            "Epoch 777/1400\n",
            "60/98 [=================>............] - ETA: 1s - loss: 0.3675 - acc: 0.8833"
          ],
          "name": "stdout"
        },
        {
          "output_type": "stream",
          "text": [
            "98/98 [==============================] - 3s 32ms/step - loss: 0.3922 - acc: 0.8673\n",
            "Epoch 778/1400\n",
            "98/98 [==============================] - 3s 32ms/step - loss: 0.1809 - acc: 0.9694\n",
            "Epoch 779/1400\n",
            "98/98 [==============================] - 3s 33ms/step - loss: 0.0224 - acc: 1.0000\n",
            "Epoch 780/1400\n",
            "98/98 [==============================] - 3s 33ms/step - loss: 0.2453 - acc: 0.9490\n",
            "Epoch 781/1400\n",
            "98/98 [==============================] - 3s 33ms/step - loss: 0.2247 - acc: 0.9388\n",
            "Epoch 782/1400\n",
            "98/98 [==============================] - 3s 33ms/step - loss: 0.0798 - acc: 0.9898\n",
            "Epoch 783/1400\n",
            "98/98 [==============================] - 3s 32ms/step - loss: 0.0888 - acc: 0.9796\n",
            "Epoch 784/1400\n",
            "98/98 [==============================] - 3s 33ms/step - loss: 0.2749 - acc: 0.9286\n",
            "Epoch 785/1400\n",
            "60/98 [=================>............] - ETA: 1s - loss: 0.0069 - acc: 1.0000"
          ],
          "name": "stdout"
        },
        {
          "output_type": "stream",
          "text": [
            "98/98 [==============================] - 3s 33ms/step - loss: 0.0138 - acc: 1.0000\n",
            "Epoch 786/1400\n",
            "98/98 [==============================] - 3s 33ms/step - loss: 0.1325 - acc: 0.9694\n",
            "Epoch 787/1400\n",
            "98/98 [==============================] - 3s 32ms/step - loss: 0.6745 - acc: 0.8571\n",
            "Epoch 788/1400\n",
            "98/98 [==============================] - 3s 32ms/step - loss: 0.1527 - acc: 0.9694\n",
            "Epoch 789/1400\n",
            "98/98 [==============================] - 3s 32ms/step - loss: 0.0763 - acc: 0.9796\n",
            "Epoch 790/1400\n",
            "98/98 [==============================] - 3s 33ms/step - loss: 0.0552 - acc: 0.9796\n",
            "Epoch 791/1400\n",
            "98/98 [==============================] - 3s 33ms/step - loss: 0.1836 - acc: 0.9592\n",
            "Epoch 792/1400\n",
            "98/98 [==============================] - 3s 33ms/step - loss: 0.2842 - acc: 0.9388\n",
            "Epoch 793/1400\n",
            "60/98 [=================>............] - ETA: 1s - loss: 0.0301 - acc: 1.0000"
          ],
          "name": "stdout"
        },
        {
          "output_type": "stream",
          "text": [
            "98/98 [==============================] - 3s 33ms/step - loss: 0.0915 - acc: 0.9694\n",
            "Epoch 794/1400\n",
            "98/98 [==============================] - 3s 32ms/step - loss: 0.1188 - acc: 0.9694\n",
            "Epoch 795/1400\n",
            "98/98 [==============================] - 3s 33ms/step - loss: 0.2601 - acc: 0.9694\n",
            "Epoch 796/1400\n",
            "98/98 [==============================] - 3s 33ms/step - loss: 0.0606 - acc: 0.9796\n",
            "Epoch 797/1400\n",
            "98/98 [==============================] - 3s 33ms/step - loss: 0.2013 - acc: 0.9388\n",
            "Epoch 798/1400\n",
            "98/98 [==============================] - 3s 33ms/step - loss: 0.1430 - acc: 0.9796\n",
            "Epoch 799/1400\n",
            "98/98 [==============================] - 3s 33ms/step - loss: 0.4047 - acc: 0.9082\n",
            "Epoch 800/1400\n",
            "98/98 [==============================] - 3s 33ms/step - loss: 0.0594 - acc: 0.9898\n",
            "Epoch 801/1400\n",
            "60/98 [=================>............] - ETA: 1s - loss: 0.0591 - acc: 0.9667"
          ],
          "name": "stdout"
        },
        {
          "output_type": "stream",
          "text": [
            "98/98 [==============================] - 3s 33ms/step - loss: 0.0559 - acc: 0.9694\n",
            "Epoch 802/1400\n",
            "98/98 [==============================] - 3s 33ms/step - loss: 0.2901 - acc: 0.9286\n",
            "Epoch 803/1400\n",
            "98/98 [==============================] - 3s 33ms/step - loss: 0.0366 - acc: 0.9898\n",
            "Epoch 804/1400\n",
            "98/98 [==============================] - 3s 33ms/step - loss: 0.0800 - acc: 0.9796\n",
            "Epoch 805/1400\n",
            "98/98 [==============================] - 3s 33ms/step - loss: 0.3074 - acc: 0.9592\n",
            "Epoch 806/1400\n",
            "98/98 [==============================] - 3s 32ms/step - loss: 0.0569 - acc: 0.9694\n",
            "Epoch 807/1400\n",
            "98/98 [==============================] - 3s 33ms/step - loss: 0.0861 - acc: 0.9796\n",
            "Epoch 808/1400\n",
            "98/98 [==============================] - 3s 32ms/step - loss: 0.1468 - acc: 0.9490\n",
            "Epoch 809/1400\n",
            "60/98 [=================>............] - ETA: 1s - loss: 0.1859 - acc: 0.9500"
          ],
          "name": "stdout"
        },
        {
          "output_type": "stream",
          "text": [
            "98/98 [==============================] - 3s 32ms/step - loss: 0.1249 - acc: 0.9694\n",
            "Epoch 810/1400\n",
            "98/98 [==============================] - 3s 32ms/step - loss: 0.0127 - acc: 1.0000\n",
            "Epoch 811/1400\n",
            "98/98 [==============================] - 3s 32ms/step - loss: 0.0261 - acc: 1.0000\n",
            "Epoch 812/1400\n",
            "98/98 [==============================] - 3s 33ms/step - loss: 0.2578 - acc: 0.9490\n",
            "Epoch 813/1400\n",
            "98/98 [==============================] - 3s 32ms/step - loss: 0.1535 - acc: 0.9592\n",
            "Epoch 814/1400\n",
            "98/98 [==============================] - 3s 33ms/step - loss: 0.2819 - acc: 0.9184\n",
            "Epoch 815/1400\n",
            "98/98 [==============================] - 3s 33ms/step - loss: 0.0579 - acc: 0.9796\n",
            "Epoch 816/1400\n",
            "98/98 [==============================] - 3s 34ms/step - loss: 0.1881 - acc: 0.9184\n",
            "Epoch 817/1400\n",
            "60/98 [=================>............] - ETA: 1s - loss: 0.0864 - acc: 0.9667"
          ],
          "name": "stdout"
        },
        {
          "output_type": "stream",
          "text": [
            "98/98 [==============================] - 3s 34ms/step - loss: 0.0551 - acc: 0.9796\n",
            "Epoch 818/1400\n",
            "98/98 [==============================] - 3s 34ms/step - loss: 0.0095 - acc: 1.0000\n",
            "Epoch 819/1400\n",
            "98/98 [==============================] - 3s 34ms/step - loss: 0.0270 - acc: 0.9898\n",
            "Epoch 820/1400\n",
            "98/98 [==============================] - 3s 34ms/step - loss: 0.0881 - acc: 0.9694\n",
            "Epoch 821/1400\n",
            "98/98 [==============================] - 3s 33ms/step - loss: 0.0253 - acc: 1.0000\n",
            "Epoch 822/1400\n",
            "98/98 [==============================] - 3s 33ms/step - loss: 0.0311 - acc: 0.9898\n",
            "Epoch 823/1400\n",
            "98/98 [==============================] - 3s 33ms/step - loss: 0.2825 - acc: 0.9286\n",
            "Epoch 824/1400\n",
            "98/98 [==============================] - 3s 33ms/step - loss: 0.2693 - acc: 0.9184\n",
            "Epoch 825/1400\n",
            "60/98 [=================>............] - ETA: 1s - loss: 0.0101 - acc: 1.0000"
          ],
          "name": "stdout"
        },
        {
          "output_type": "stream",
          "text": [
            "98/98 [==============================] - 3s 33ms/step - loss: 0.0144 - acc: 1.0000\n",
            "Epoch 826/1400\n",
            "98/98 [==============================] - 3s 33ms/step - loss: 0.0356 - acc: 0.9898\n",
            "Epoch 827/1400\n",
            "98/98 [==============================] - 3s 32ms/step - loss: 0.1257 - acc: 0.9694\n",
            "Epoch 828/1400\n",
            "98/98 [==============================] - 3s 32ms/step - loss: 0.0412 - acc: 0.9796\n",
            "Epoch 829/1400\n",
            "98/98 [==============================] - 3s 32ms/step - loss: 0.0061 - acc: 1.0000\n",
            "Epoch 830/1400\n",
            "98/98 [==============================] - 3s 33ms/step - loss: 0.0050 - acc: 1.0000\n",
            "Epoch 831/1400\n",
            "98/98 [==============================] - 3s 33ms/step - loss: 0.1151 - acc: 0.9796\n",
            "Epoch 832/1400\n",
            "98/98 [==============================] - 3s 33ms/step - loss: 0.0152 - acc: 1.0000\n",
            "Epoch 833/1400\n",
            "60/98 [=================>............] - ETA: 1s - loss: 0.0046 - acc: 1.0000"
          ],
          "name": "stdout"
        },
        {
          "output_type": "stream",
          "text": [
            "98/98 [==============================] - 3s 33ms/step - loss: 0.0041 - acc: 1.0000\n",
            "Epoch 834/1400\n",
            "98/98 [==============================] - 3s 33ms/step - loss: 0.0444 - acc: 0.9796\n",
            "Epoch 835/1400\n",
            "98/98 [==============================] - 3s 33ms/step - loss: 0.1099 - acc: 0.9694\n",
            "Epoch 836/1400\n",
            "98/98 [==============================] - 3s 33ms/step - loss: 0.0403 - acc: 0.9796\n",
            "Epoch 837/1400\n",
            "98/98 [==============================] - 3s 33ms/step - loss: 0.0325 - acc: 0.9796\n",
            "Epoch 838/1400\n",
            "98/98 [==============================] - 3s 33ms/step - loss: 0.1127 - acc: 0.9592\n",
            "Epoch 839/1400\n",
            "98/98 [==============================] - 3s 33ms/step - loss: 0.0096 - acc: 1.0000\n",
            "Epoch 840/1400\n",
            "98/98 [==============================] - 3s 33ms/step - loss: 0.0836 - acc: 0.9796\n",
            "Epoch 841/1400\n",
            "60/98 [=================>............] - ETA: 1s - loss: 0.1702 - acc: 0.9333"
          ],
          "name": "stdout"
        },
        {
          "output_type": "stream",
          "text": [
            "98/98 [==============================] - 3s 33ms/step - loss: 0.4027 - acc: 0.9286\n",
            "Epoch 842/1400\n",
            "98/98 [==============================] - 3s 32ms/step - loss: 0.3295 - acc: 0.9184\n",
            "Epoch 843/1400\n",
            "98/98 [==============================] - 3s 33ms/step - loss: 0.0691 - acc: 0.9796\n",
            "Epoch 844/1400\n",
            "98/98 [==============================] - 3s 33ms/step - loss: 0.0124 - acc: 1.0000\n",
            "Epoch 845/1400\n",
            "98/98 [==============================] - 3s 33ms/step - loss: 0.0184 - acc: 0.9898\n",
            "Epoch 846/1400\n",
            "98/98 [==============================] - 3s 33ms/step - loss: 0.0052 - acc: 1.0000\n",
            "Epoch 847/1400\n",
            "98/98 [==============================] - 3s 33ms/step - loss: 0.0396 - acc: 0.9898\n",
            "Epoch 848/1400\n",
            "98/98 [==============================] - 3s 33ms/step - loss: 0.1014 - acc: 0.9796\n",
            "Epoch 849/1400\n",
            "60/98 [=================>............] - ETA: 1s - loss: 0.0820 - acc: 0.9833"
          ],
          "name": "stdout"
        },
        {
          "output_type": "stream",
          "text": [
            "98/98 [==============================] - 3s 32ms/step - loss: 0.2389 - acc: 0.9490\n",
            "Epoch 850/1400\n",
            "98/98 [==============================] - 3s 33ms/step - loss: 0.1074 - acc: 0.9898\n",
            "Epoch 851/1400\n",
            "98/98 [==============================] - 3s 33ms/step - loss: 0.6909 - acc: 0.8776\n",
            "Epoch 852/1400\n",
            "98/98 [==============================] - 3s 33ms/step - loss: 0.1048 - acc: 0.9796\n",
            "Epoch 853/1400\n",
            "98/98 [==============================] - 3s 32ms/step - loss: 0.0028 - acc: 1.0000\n",
            "Epoch 854/1400\n",
            "98/98 [==============================] - 3s 33ms/step - loss: 0.0039 - acc: 1.0000\n",
            "Epoch 855/1400\n",
            "98/98 [==============================] - 3s 32ms/step - loss: 0.1755 - acc: 0.9694\n",
            "Epoch 856/1400\n",
            "98/98 [==============================] - 3s 33ms/step - loss: 0.2449 - acc: 0.9592\n",
            "Epoch 857/1400\n",
            "60/98 [=================>............] - ETA: 1s - loss: 0.0050 - acc: 1.0000"
          ],
          "name": "stdout"
        },
        {
          "output_type": "stream",
          "text": [
            "98/98 [==============================] - 3s 33ms/step - loss: 0.0039 - acc: 1.0000\n",
            "Epoch 858/1400\n",
            "98/98 [==============================] - 3s 33ms/step - loss: 0.1284 - acc: 0.9592\n",
            "Epoch 859/1400\n",
            "98/98 [==============================] - 3s 33ms/step - loss: 0.0261 - acc: 0.9898\n",
            "Epoch 860/1400\n",
            "98/98 [==============================] - 3s 33ms/step - loss: 0.0104 - acc: 1.0000\n",
            "Epoch 861/1400\n",
            "98/98 [==============================] - 3s 32ms/step - loss: 0.0076 - acc: 1.0000\n",
            "Epoch 862/1400\n",
            "98/98 [==============================] - 3s 32ms/step - loss: 0.1269 - acc: 0.9592\n",
            "Epoch 863/1400\n",
            "98/98 [==============================] - 3s 33ms/step - loss: 0.2568 - acc: 0.9694\n",
            "Epoch 864/1400\n",
            "98/98 [==============================] - 3s 33ms/step - loss: 0.0167 - acc: 0.9898\n",
            "Epoch 865/1400\n",
            "60/98 [=================>............] - ETA: 1s - loss: 0.0062 - acc: 1.0000"
          ],
          "name": "stdout"
        },
        {
          "output_type": "stream",
          "text": [
            "98/98 [==============================] - 3s 32ms/step - loss: 0.0056 - acc: 1.0000\n",
            "Epoch 866/1400\n",
            "98/98 [==============================] - 3s 33ms/step - loss: 0.0051 - acc: 1.0000\n",
            "Epoch 867/1400\n",
            "98/98 [==============================] - 3s 33ms/step - loss: 0.1579 - acc: 0.9592\n",
            "Epoch 868/1400\n",
            "98/98 [==============================] - 3s 33ms/step - loss: 0.0071 - acc: 1.0000\n",
            "Epoch 869/1400\n",
            "98/98 [==============================] - 3s 33ms/step - loss: 0.0022 - acc: 1.0000\n",
            "Epoch 870/1400\n",
            "98/98 [==============================] - 3s 33ms/step - loss: 0.1107 - acc: 0.9796\n",
            "Epoch 871/1400\n",
            "98/98 [==============================] - 3s 33ms/step - loss: 0.0351 - acc: 0.9796\n",
            "Epoch 872/1400\n",
            "98/98 [==============================] - 3s 33ms/step - loss: 0.3594 - acc: 0.9490\n",
            "Epoch 873/1400\n",
            "60/98 [=================>............] - ETA: 1s - loss: 0.0986 - acc: 0.9833"
          ],
          "name": "stdout"
        },
        {
          "output_type": "stream",
          "text": [
            "98/98 [==============================] - 3s 33ms/step - loss: 0.0632 - acc: 0.9898\n",
            "Epoch 874/1400\n",
            "98/98 [==============================] - 3s 33ms/step - loss: 0.0275 - acc: 0.9898\n",
            "Epoch 875/1400\n",
            "98/98 [==============================] - 3s 33ms/step - loss: 0.1780 - acc: 0.9490\n",
            "Epoch 876/1400\n",
            "98/98 [==============================] - 3s 32ms/step - loss: 0.0668 - acc: 0.9796\n",
            "Epoch 877/1400\n",
            "98/98 [==============================] - 3s 32ms/step - loss: 0.0109 - acc: 1.0000\n",
            "Epoch 878/1400\n",
            "98/98 [==============================] - 3s 33ms/step - loss: 0.1617 - acc: 0.9490\n",
            "Epoch 879/1400\n",
            "98/98 [==============================] - 3s 33ms/step - loss: 0.2213 - acc: 0.9490\n",
            "Epoch 880/1400\n",
            "98/98 [==============================] - 3s 33ms/step - loss: 0.0258 - acc: 0.9898\n",
            "Epoch 881/1400\n",
            "60/98 [=================>............] - ETA: 1s - loss: 0.0055 - acc: 1.0000"
          ],
          "name": "stdout"
        },
        {
          "output_type": "stream",
          "text": [
            "98/98 [==============================] - 3s 32ms/step - loss: 0.0080 - acc: 1.0000\n",
            "Epoch 882/1400\n",
            "98/98 [==============================] - 3s 32ms/step - loss: 0.0037 - acc: 1.0000\n",
            "Epoch 883/1400\n",
            "98/98 [==============================] - 3s 32ms/step - loss: 0.2601 - acc: 0.9388\n",
            "Epoch 884/1400\n",
            "98/98 [==============================] - 3s 32ms/step - loss: 0.0041 - acc: 1.0000\n",
            "Epoch 885/1400\n",
            "98/98 [==============================] - 3s 32ms/step - loss: 0.1137 - acc: 0.9796\n",
            "Epoch 886/1400\n",
            "98/98 [==============================] - 3s 32ms/step - loss: 0.1718 - acc: 0.9592\n",
            "Epoch 887/1400\n",
            "98/98 [==============================] - 3s 32ms/step - loss: 0.1158 - acc: 0.9694\n",
            "Epoch 888/1400\n",
            "98/98 [==============================] - 3s 33ms/step - loss: 0.0921 - acc: 0.9490\n",
            "Epoch 889/1400\n",
            "60/98 [=================>............] - ETA: 1s - loss: 0.1717 - acc: 0.9500"
          ],
          "name": "stdout"
        },
        {
          "output_type": "stream",
          "text": [
            "98/98 [==============================] - 3s 33ms/step - loss: 0.1526 - acc: 0.9388\n",
            "Epoch 890/1400\n",
            "98/98 [==============================] - 3s 33ms/step - loss: 0.0647 - acc: 0.9694\n",
            "Epoch 891/1400\n",
            "98/98 [==============================] - 3s 34ms/step - loss: 0.1621 - acc: 0.9592\n",
            "Epoch 892/1400\n",
            "98/98 [==============================] - 3s 34ms/step - loss: 0.2737 - acc: 0.9490\n",
            "Epoch 893/1400\n",
            "98/98 [==============================] - 3s 33ms/step - loss: 0.2689 - acc: 0.9388\n",
            "Epoch 894/1400\n",
            "98/98 [==============================] - 3s 33ms/step - loss: 0.0116 - acc: 1.0000\n",
            "Epoch 895/1400\n",
            "98/98 [==============================] - 3s 34ms/step - loss: 0.0127 - acc: 1.0000\n",
            "Epoch 896/1400\n",
            "98/98 [==============================] - 3s 34ms/step - loss: 0.0026 - acc: 1.0000\n",
            "Epoch 897/1400\n",
            "60/98 [=================>............] - ETA: 1s - loss: 0.0011 - acc: 1.0000"
          ],
          "name": "stdout"
        },
        {
          "output_type": "stream",
          "text": [
            "98/98 [==============================] - 3s 33ms/step - loss: 0.0475 - acc: 0.9898\n",
            "Epoch 898/1400\n",
            "98/98 [==============================] - 3s 33ms/step - loss: 0.1531 - acc: 0.9592\n",
            "Epoch 899/1400\n",
            "98/98 [==============================] - 3s 32ms/step - loss: 0.0092 - acc: 1.0000\n",
            "Epoch 900/1400\n",
            "98/98 [==============================] - 3s 32ms/step - loss: 0.0317 - acc: 0.9796\n",
            "Epoch 901/1400\n",
            "98/98 [==============================] - 3s 32ms/step - loss: 0.2966 - acc: 0.9388\n",
            "Epoch 902/1400\n",
            "98/98 [==============================] - 3s 32ms/step - loss: 0.3052 - acc: 0.9286\n",
            "Epoch 903/1400\n",
            "98/98 [==============================] - 3s 32ms/step - loss: 0.0115 - acc: 1.0000\n",
            "Epoch 904/1400\n",
            "98/98 [==============================] - 3s 32ms/step - loss: 0.0020 - acc: 1.0000\n",
            "Epoch 905/1400\n",
            "60/98 [=================>............] - ETA: 1s - loss: 0.0021 - acc: 1.0000"
          ],
          "name": "stdout"
        },
        {
          "output_type": "stream",
          "text": [
            "98/98 [==============================] - 3s 32ms/step - loss: 0.0510 - acc: 0.9796\n",
            "Epoch 906/1400\n",
            "98/98 [==============================] - 3s 33ms/step - loss: 0.0891 - acc: 0.9490\n",
            "Epoch 907/1400\n",
            "98/98 [==============================] - 3s 32ms/step - loss: 0.2371 - acc: 0.9592\n",
            "Epoch 908/1400\n",
            "98/98 [==============================] - 3s 32ms/step - loss: 0.0802 - acc: 0.9898\n",
            "Epoch 909/1400\n",
            "98/98 [==============================] - 3s 33ms/step - loss: 0.0316 - acc: 0.9898\n",
            "Epoch 910/1400\n",
            "98/98 [==============================] - 3s 33ms/step - loss: 0.0025 - acc: 1.0000\n",
            "Epoch 911/1400\n",
            "98/98 [==============================] - 3s 33ms/step - loss: 0.0041 - acc: 1.0000\n",
            "Epoch 912/1400\n",
            "98/98 [==============================] - 3s 33ms/step - loss: 0.0230 - acc: 0.9898\n",
            "Epoch 913/1400\n",
            "60/98 [=================>............] - ETA: 1s - loss: 0.0051 - acc: 1.0000"
          ],
          "name": "stdout"
        },
        {
          "output_type": "stream",
          "text": [
            "98/98 [==============================] - 3s 33ms/step - loss: 0.0036 - acc: 1.0000\n",
            "Epoch 914/1400\n",
            "98/98 [==============================] - 3s 33ms/step - loss: 0.0019 - acc: 1.0000\n",
            "Epoch 915/1400\n",
            "98/98 [==============================] - 3s 32ms/step - loss: 0.2830 - acc: 0.9490\n",
            "Epoch 916/1400\n",
            "98/98 [==============================] - 3s 33ms/step - loss: 0.0131 - acc: 1.0000\n",
            "Epoch 917/1400\n",
            "98/98 [==============================] - 3s 33ms/step - loss: 0.0153 - acc: 1.0000\n",
            "Epoch 918/1400\n",
            "98/98 [==============================] - 3s 33ms/step - loss: 0.0039 - acc: 1.0000\n",
            "Epoch 919/1400\n",
            "98/98 [==============================] - 3s 33ms/step - loss: 0.0015 - acc: 1.0000\n",
            "Epoch 920/1400\n",
            "98/98 [==============================] - 3s 33ms/step - loss: 0.1607 - acc: 0.9592\n",
            "Epoch 921/1400\n",
            "60/98 [=================>............] - ETA: 1s - loss: 0.3342 - acc: 0.9167"
          ],
          "name": "stdout"
        },
        {
          "output_type": "stream",
          "text": [
            "98/98 [==============================] - 3s 33ms/step - loss: 0.2060 - acc: 0.9490\n",
            "Epoch 922/1400\n",
            "98/98 [==============================] - 3s 33ms/step - loss: 0.0059 - acc: 1.0000\n",
            "Epoch 923/1400\n",
            "98/98 [==============================] - 3s 33ms/step - loss: 0.0388 - acc: 0.9898\n",
            "Epoch 924/1400\n",
            "98/98 [==============================] - 3s 33ms/step - loss: 0.0460 - acc: 0.9796\n",
            "Epoch 925/1400\n",
            "98/98 [==============================] - 3s 33ms/step - loss: 0.1009 - acc: 0.9796\n",
            "Epoch 926/1400\n",
            "98/98 [==============================] - 3s 33ms/step - loss: 0.2748 - acc: 0.9388\n",
            "Epoch 927/1400\n",
            "98/98 [==============================] - 3s 33ms/step - loss: 0.0028 - acc: 1.0000\n",
            "Epoch 928/1400\n",
            "98/98 [==============================] - 3s 33ms/step - loss: 0.0033 - acc: 1.0000\n",
            "Epoch 929/1400\n",
            "60/98 [=================>............] - ETA: 1s - loss: 0.0021 - acc: 1.0000"
          ],
          "name": "stdout"
        },
        {
          "output_type": "stream",
          "text": [
            "98/98 [==============================] - 3s 33ms/step - loss: 0.2551 - acc: 0.9796\n",
            "Epoch 930/1400\n",
            "98/98 [==============================] - 3s 33ms/step - loss: 0.0216 - acc: 1.0000\n",
            "Epoch 931/1400\n",
            "98/98 [==============================] - 3s 33ms/step - loss: 0.0469 - acc: 0.9796\n",
            "Epoch 932/1400\n",
            "98/98 [==============================] - 3s 33ms/step - loss: 0.0960 - acc: 0.9796\n",
            "Epoch 933/1400\n",
            "98/98 [==============================] - 3s 32ms/step - loss: 0.0033 - acc: 1.0000\n",
            "Epoch 934/1400\n",
            "98/98 [==============================] - 3s 33ms/step - loss: 0.0084 - acc: 1.0000\n",
            "Epoch 935/1400\n",
            "98/98 [==============================] - 3s 33ms/step - loss: 0.0421 - acc: 0.9898\n",
            "Epoch 936/1400\n",
            "98/98 [==============================] - 3s 33ms/step - loss: 0.0763 - acc: 0.9796\n",
            "Epoch 937/1400\n",
            "60/98 [=================>............] - ETA: 1s - loss: 0.0815 - acc: 0.9667"
          ],
          "name": "stdout"
        },
        {
          "output_type": "stream",
          "text": [
            "98/98 [==============================] - 3s 33ms/step - loss: 0.3169 - acc: 0.9082\n",
            "Epoch 938/1400\n",
            "98/98 [==============================] - 3s 33ms/step - loss: 0.0393 - acc: 0.9898\n",
            "Epoch 939/1400\n",
            "98/98 [==============================] - 3s 33ms/step - loss: 0.0230 - acc: 0.9898\n",
            "Epoch 940/1400\n",
            "98/98 [==============================] - 3s 33ms/step - loss: 0.0219 - acc: 0.9898\n",
            "Epoch 941/1400\n",
            "98/98 [==============================] - 3s 33ms/step - loss: 0.0303 - acc: 0.9898\n",
            "Epoch 942/1400\n",
            "98/98 [==============================] - 3s 33ms/step - loss: 0.0035 - acc: 1.0000\n",
            "Epoch 943/1400\n",
            "98/98 [==============================] - 3s 33ms/step - loss: 5.3703e-04 - acc: 1.0000\n",
            "Epoch 944/1400\n",
            "98/98 [==============================] - 3s 33ms/step - loss: 0.1569 - acc: 0.9796\n",
            "Epoch 945/1400\n",
            "60/98 [=================>............] - ETA: 1s - loss: 0.0562 - acc: 0.9667"
          ],
          "name": "stdout"
        },
        {
          "output_type": "stream",
          "text": [
            "98/98 [==============================] - 3s 33ms/step - loss: 0.0356 - acc: 0.9796\n",
            "Epoch 946/1400\n",
            "98/98 [==============================] - 3s 33ms/step - loss: 0.0015 - acc: 1.0000\n",
            "Epoch 947/1400\n",
            "98/98 [==============================] - 3s 33ms/step - loss: 0.0917 - acc: 0.9796\n",
            "Epoch 948/1400\n",
            "98/98 [==============================] - 3s 33ms/step - loss: 0.1638 - acc: 0.9796\n",
            "Epoch 949/1400\n",
            "98/98 [==============================] - 3s 33ms/step - loss: 0.1656 - acc: 0.9796\n",
            "Epoch 950/1400\n",
            "98/98 [==============================] - 3s 33ms/step - loss: 0.3116 - acc: 0.9286\n",
            "Epoch 951/1400\n",
            "98/98 [==============================] - 3s 32ms/step - loss: 0.0362 - acc: 0.9898\n",
            "Epoch 952/1400\n",
            "98/98 [==============================] - 3s 33ms/step - loss: 0.0137 - acc: 0.9898\n",
            "Epoch 953/1400\n",
            "60/98 [=================>............] - ETA: 1s - loss: 0.0041 - acc: 1.0000"
          ],
          "name": "stdout"
        },
        {
          "output_type": "stream",
          "text": [
            "98/98 [==============================] - 3s 32ms/step - loss: 0.0044 - acc: 1.0000\n",
            "Epoch 954/1400\n",
            "98/98 [==============================] - 3s 33ms/step - loss: 6.3948e-04 - acc: 1.0000\n",
            "Epoch 955/1400\n",
            "98/98 [==============================] - 3s 33ms/step - loss: 0.0091 - acc: 1.0000\n",
            "Epoch 956/1400\n",
            "98/98 [==============================] - 3s 33ms/step - loss: 0.0773 - acc: 0.9796\n",
            "Epoch 957/1400\n",
            "98/98 [==============================] - 3s 33ms/step - loss: 0.0301 - acc: 0.9898\n",
            "Epoch 958/1400\n",
            "98/98 [==============================] - 3s 32ms/step - loss: 0.0512 - acc: 0.9796\n",
            "Epoch 959/1400\n",
            "98/98 [==============================] - 3s 33ms/step - loss: 0.0017 - acc: 1.0000\n",
            "Epoch 960/1400\n",
            "98/98 [==============================] - 3s 32ms/step - loss: 0.0408 - acc: 0.9796\n",
            "Epoch 961/1400\n",
            "56/98 [================>.............] - ETA: 1s - loss: 0.0104 - acc: 1.0000"
          ],
          "name": "stdout"
        },
        {
          "output_type": "stream",
          "text": [
            "98/98 [==============================] - 3s 32ms/step - loss: 0.0068 - acc: 1.0000\n",
            "Epoch 962/1400\n",
            "98/98 [==============================] - 3s 33ms/step - loss: 0.2151 - acc: 0.9490\n",
            "Epoch 963/1400\n",
            "98/98 [==============================] - 3s 32ms/step - loss: 0.0112 - acc: 1.0000\n",
            "Epoch 964/1400\n",
            "98/98 [==============================] - 3s 33ms/step - loss: 0.0027 - acc: 1.0000\n",
            "Epoch 965/1400\n",
            "98/98 [==============================] - 3s 33ms/step - loss: 0.0024 - acc: 1.0000\n",
            "Epoch 966/1400\n",
            "98/98 [==============================] - 3s 33ms/step - loss: 0.1313 - acc: 0.9694\n",
            "Epoch 967/1400\n",
            "98/98 [==============================] - 3s 33ms/step - loss: 0.0639 - acc: 0.9796\n",
            "Epoch 968/1400\n",
            "98/98 [==============================] - 3s 32ms/step - loss: 0.1806 - acc: 0.9592\n",
            "Epoch 969/1400\n",
            "60/98 [=================>............] - ETA: 1s - loss: 0.0096 - acc: 1.0000"
          ],
          "name": "stdout"
        },
        {
          "output_type": "stream",
          "text": [
            "98/98 [==============================] - 3s 33ms/step - loss: 0.1523 - acc: 0.9490\n",
            "Epoch 970/1400\n",
            "98/98 [==============================] - 3s 33ms/step - loss: 0.0871 - acc: 0.9796\n",
            "Epoch 971/1400\n",
            "98/98 [==============================] - 3s 33ms/step - loss: 0.0131 - acc: 0.9898\n",
            "Epoch 972/1400\n",
            "98/98 [==============================] - 3s 33ms/step - loss: 0.1783 - acc: 0.9490\n",
            "Epoch 973/1400\n",
            "98/98 [==============================] - 3s 33ms/step - loss: 0.0675 - acc: 0.9796\n",
            "Epoch 974/1400\n",
            "98/98 [==============================] - 3s 33ms/step - loss: 0.0019 - acc: 1.0000\n",
            "Epoch 975/1400\n",
            "98/98 [==============================] - 3s 33ms/step - loss: 0.0015 - acc: 1.0000\n",
            "Epoch 976/1400\n",
            "98/98 [==============================] - 3s 33ms/step - loss: 0.0020 - acc: 1.0000\n",
            "Epoch 977/1400\n",
            "60/98 [=================>............] - ETA: 1s - loss: 0.3437 - acc: 0.9333"
          ],
          "name": "stdout"
        },
        {
          "output_type": "stream",
          "text": [
            "98/98 [==============================] - 3s 33ms/step - loss: 0.2531 - acc: 0.9490\n",
            "Epoch 978/1400\n",
            "98/98 [==============================] - 3s 33ms/step - loss: 0.0027 - acc: 1.0000\n",
            "Epoch 979/1400\n",
            "98/98 [==============================] - 3s 34ms/step - loss: 9.8158e-04 - acc: 1.0000\n",
            "Epoch 980/1400\n",
            "98/98 [==============================] - 3s 33ms/step - loss: 4.7546e-04 - acc: 1.0000\n",
            "Epoch 981/1400\n",
            "98/98 [==============================] - 3s 33ms/step - loss: 0.1033 - acc: 0.9796\n",
            "Epoch 982/1400\n",
            "98/98 [==============================] - 3s 33ms/step - loss: 0.0909 - acc: 0.9592\n",
            "Epoch 983/1400\n",
            "98/98 [==============================] - 3s 33ms/step - loss: 0.2352 - acc: 0.9490\n",
            "Epoch 984/1400\n",
            "98/98 [==============================] - 3s 34ms/step - loss: 0.2375 - acc: 0.9592\n",
            "Epoch 985/1400\n",
            "56/98 [================>.............] - ETA: 1s - loss: 0.0075 - acc: 1.0000"
          ],
          "name": "stdout"
        },
        {
          "output_type": "stream",
          "text": [
            "98/98 [==============================] - 3s 34ms/step - loss: 0.0187 - acc: 0.9898\n",
            "Epoch 986/1400\n",
            "98/98 [==============================] - 3s 34ms/step - loss: 0.0587 - acc: 0.9796\n",
            "Epoch 987/1400\n",
            "98/98 [==============================] - 3s 33ms/step - loss: 0.0759 - acc: 0.9898\n",
            "Epoch 988/1400\n",
            "98/98 [==============================] - 3s 34ms/step - loss: 0.0022 - acc: 1.0000\n",
            "Epoch 989/1400\n",
            "98/98 [==============================] - 3s 33ms/step - loss: 0.0033 - acc: 1.0000\n",
            "Epoch 990/1400\n",
            "98/98 [==============================] - 3s 34ms/step - loss: 0.0202 - acc: 0.9898\n",
            "Epoch 991/1400\n",
            "98/98 [==============================] - 3s 34ms/step - loss: 0.0023 - acc: 1.0000\n",
            "Epoch 992/1400\n",
            "98/98 [==============================] - 3s 33ms/step - loss: 0.0061 - acc: 1.0000\n",
            "Epoch 993/1400\n",
            "60/98 [=================>............] - ETA: 1s - loss: 0.0012 - acc: 1.0000"
          ],
          "name": "stdout"
        },
        {
          "output_type": "stream",
          "text": [
            "98/98 [==============================] - 3s 33ms/step - loss: 0.0041 - acc: 1.0000\n",
            "Epoch 994/1400\n",
            "98/98 [==============================] - 3s 33ms/step - loss: 0.1187 - acc: 0.9694\n",
            "Epoch 995/1400\n",
            "98/98 [==============================] - 3s 33ms/step - loss: 0.0284 - acc: 0.9796\n",
            "Epoch 996/1400\n",
            "98/98 [==============================] - 3s 33ms/step - loss: 0.1641 - acc: 0.9490\n",
            "Epoch 997/1400\n",
            "98/98 [==============================] - 3s 33ms/step - loss: 0.0057 - acc: 1.0000\n",
            "Epoch 998/1400\n",
            "98/98 [==============================] - 3s 33ms/step - loss: 0.0573 - acc: 0.9796\n",
            "Epoch 999/1400\n",
            "98/98 [==============================] - 3s 33ms/step - loss: 0.0496 - acc: 0.9898\n",
            "Epoch 1000/1400\n",
            "98/98 [==============================] - 3s 33ms/step - loss: 0.2464 - acc: 0.9592\n",
            "Epoch 1001/1400\n",
            "60/98 [=================>............] - ETA: 1s - loss: 0.0070 - acc: 1.0000"
          ],
          "name": "stdout"
        },
        {
          "output_type": "stream",
          "text": [
            "98/98 [==============================] - 3s 33ms/step - loss: 0.0680 - acc: 0.9898\n",
            "Epoch 1002/1400\n",
            "98/98 [==============================] - 3s 33ms/step - loss: 0.0068 - acc: 1.0000\n",
            "Epoch 1003/1400\n",
            "98/98 [==============================] - 3s 34ms/step - loss: 0.0019 - acc: 1.0000\n",
            "Epoch 1004/1400\n",
            "98/98 [==============================] - 3s 33ms/step - loss: 0.0158 - acc: 0.9898\n",
            "Epoch 1005/1400\n",
            "98/98 [==============================] - 3s 34ms/step - loss: 0.0107 - acc: 1.0000\n",
            "Epoch 1006/1400\n",
            "98/98 [==============================] - 3s 34ms/step - loss: 7.2772e-04 - acc: 1.0000\n",
            "Epoch 1007/1400\n",
            "98/98 [==============================] - 3s 33ms/step - loss: 0.2966 - acc: 0.9694\n",
            "Epoch 1008/1400\n",
            "98/98 [==============================] - 3s 33ms/step - loss: 0.0123 - acc: 1.0000\n",
            "Epoch 1009/1400\n",
            "56/98 [================>.............] - ETA: 1s - loss: 0.0457 - acc: 0.9821"
          ],
          "name": "stdout"
        },
        {
          "output_type": "stream",
          "text": [
            "98/98 [==============================] - 3s 33ms/step - loss: 0.1377 - acc: 0.9796\n",
            "Epoch 1010/1400\n",
            "98/98 [==============================] - 3s 34ms/step - loss: 0.4962 - acc: 0.9286\n",
            "Epoch 1011/1400\n",
            "98/98 [==============================] - 3s 34ms/step - loss: 0.2399 - acc: 0.9184\n",
            "Epoch 1012/1400\n",
            "98/98 [==============================] - 3s 34ms/step - loss: 0.3214 - acc: 0.9592\n",
            "Epoch 1013/1400\n",
            "98/98 [==============================] - 3s 34ms/step - loss: 0.1222 - acc: 0.9694\n",
            "Epoch 1014/1400\n",
            "98/98 [==============================] - 3s 33ms/step - loss: 0.0353 - acc: 0.9796\n",
            "Epoch 1015/1400\n",
            "98/98 [==============================] - 3s 33ms/step - loss: 0.1411 - acc: 0.9796\n",
            "Epoch 1016/1400\n",
            "98/98 [==============================] - 3s 33ms/step - loss: 0.0020 - acc: 1.0000\n",
            "Epoch 1017/1400\n",
            "56/98 [================>.............] - ETA: 1s - loss: 9.7078e-04 - acc: 1.0000"
          ],
          "name": "stdout"
        },
        {
          "output_type": "stream",
          "text": [
            "98/98 [==============================] - 3s 33ms/step - loss: 9.8668e-04 - acc: 1.0000\n",
            "Epoch 1018/1400\n",
            "98/98 [==============================] - 3s 33ms/step - loss: 6.9062e-04 - acc: 1.0000\n",
            "Epoch 1019/1400\n",
            "98/98 [==============================] - 3s 33ms/step - loss: 0.0196 - acc: 1.0000\n",
            "Epoch 1020/1400\n",
            "98/98 [==============================] - 3s 33ms/step - loss: 0.2281 - acc: 0.9694\n",
            "Epoch 1021/1400\n",
            "98/98 [==============================] - 3s 33ms/step - loss: 0.0398 - acc: 0.9898\n",
            "Epoch 1022/1400\n",
            "98/98 [==============================] - 3s 33ms/step - loss: 9.4007e-04 - acc: 1.0000\n",
            "Epoch 1023/1400\n",
            "98/98 [==============================] - 3s 33ms/step - loss: 6.8216e-04 - acc: 1.0000\n",
            "Epoch 1024/1400\n",
            "98/98 [==============================] - 3s 33ms/step - loss: 0.0171 - acc: 0.9898\n",
            "Epoch 1025/1400\n",
            "48/98 [=============>................] - ETA: 1s - loss: 0.0374 - acc: 0.9792"
          ],
          "name": "stdout"
        },
        {
          "output_type": "stream",
          "text": [
            "98/98 [==============================] - 3s 33ms/step - loss: 0.1890 - acc: 0.9694\n",
            "Epoch 1026/1400\n",
            "98/98 [==============================] - 3s 33ms/step - loss: 0.1628 - acc: 0.9592\n",
            "Epoch 1027/1400\n",
            "98/98 [==============================] - 3s 33ms/step - loss: 0.0101 - acc: 1.0000\n",
            "Epoch 1028/1400\n",
            "98/98 [==============================] - 3s 33ms/step - loss: 0.0208 - acc: 1.0000\n",
            "Epoch 1029/1400\n",
            "98/98 [==============================] - 3s 33ms/step - loss: 0.0615 - acc: 0.9796\n",
            "Epoch 1030/1400\n",
            "98/98 [==============================] - 3s 33ms/step - loss: 0.1044 - acc: 0.9898\n",
            "Epoch 1031/1400\n",
            "98/98 [==============================] - 3s 33ms/step - loss: 0.0013 - acc: 1.0000\n",
            "Epoch 1032/1400\n",
            "98/98 [==============================] - 3s 33ms/step - loss: 7.2712e-04 - acc: 1.0000\n",
            "Epoch 1033/1400\n",
            "56/98 [================>.............] - ETA: 1s - loss: 0.0367 - acc: 0.9821"
          ],
          "name": "stdout"
        },
        {
          "output_type": "stream",
          "text": [
            "98/98 [==============================] - 3s 33ms/step - loss: 0.0220 - acc: 0.9898\n",
            "Epoch 1034/1400\n",
            "98/98 [==============================] - 3s 33ms/step - loss: 0.0012 - acc: 1.0000\n",
            "Epoch 1035/1400\n",
            "98/98 [==============================] - 3s 33ms/step - loss: 4.4592e-04 - acc: 1.0000\n",
            "Epoch 1036/1400\n",
            "98/98 [==============================] - 3s 33ms/step - loss: 0.0386 - acc: 0.9796\n",
            "Epoch 1037/1400\n",
            "98/98 [==============================] - 3s 34ms/step - loss: 0.0809 - acc: 0.9796\n",
            "Epoch 1038/1400\n",
            "98/98 [==============================] - 3s 34ms/step - loss: 0.0078 - acc: 1.0000\n",
            "Epoch 1039/1400\n",
            "98/98 [==============================] - 3s 33ms/step - loss: 0.0018 - acc: 1.0000\n",
            "Epoch 1040/1400\n",
            "98/98 [==============================] - 3s 34ms/step - loss: 0.2431 - acc: 0.9694\n",
            "Epoch 1041/1400\n",
            "52/98 [==============>...............] - ETA: 1s - loss: 0.1762 - acc: 0.9808"
          ],
          "name": "stdout"
        },
        {
          "output_type": "stream",
          "text": [
            "98/98 [==============================] - 3s 34ms/step - loss: 0.0996 - acc: 0.9898\n",
            "Epoch 1042/1400\n",
            "98/98 [==============================] - 3s 34ms/step - loss: 0.0244 - acc: 0.9898\n",
            "Epoch 1043/1400\n",
            "98/98 [==============================] - 3s 33ms/step - loss: 0.0022 - acc: 1.0000\n",
            "Epoch 1044/1400\n",
            "98/98 [==============================] - 3s 33ms/step - loss: 0.0020 - acc: 1.0000\n",
            "Epoch 1045/1400\n",
            "98/98 [==============================] - 3s 33ms/step - loss: 0.1309 - acc: 0.9592\n",
            "Epoch 1046/1400\n",
            "98/98 [==============================] - 3s 34ms/step - loss: 0.2772 - acc: 0.9388\n",
            "Epoch 1047/1400\n",
            "98/98 [==============================] - 3s 34ms/step - loss: 0.2778 - acc: 0.9694\n",
            "Epoch 1048/1400\n",
            "98/98 [==============================] - 3s 34ms/step - loss: 0.2904 - acc: 0.9184\n",
            "Epoch 1049/1400\n",
            "56/98 [================>.............] - ETA: 1s - loss: 0.2394 - acc: 0.9643"
          ],
          "name": "stdout"
        },
        {
          "output_type": "stream",
          "text": [
            "98/98 [==============================] - 3s 33ms/step - loss: 0.2912 - acc: 0.9490\n",
            "Epoch 1050/1400\n",
            "98/98 [==============================] - 3s 33ms/step - loss: 0.0877 - acc: 0.9796\n",
            "Epoch 1051/1400\n",
            "98/98 [==============================] - 3s 33ms/step - loss: 0.1529 - acc: 0.9796\n",
            "Epoch 1052/1400\n",
            "98/98 [==============================] - 3s 33ms/step - loss: 0.0048 - acc: 1.0000\n",
            "Epoch 1053/1400\n",
            "98/98 [==============================] - 3s 34ms/step - loss: 0.0337 - acc: 0.9796\n",
            "Epoch 1054/1400\n",
            "98/98 [==============================] - 3s 33ms/step - loss: 0.2191 - acc: 0.9592\n",
            "Epoch 1055/1400\n",
            "98/98 [==============================] - 3s 33ms/step - loss: 0.0174 - acc: 0.9898\n",
            "Epoch 1056/1400\n",
            "98/98 [==============================] - 3s 33ms/step - loss: 0.1977 - acc: 0.9592\n",
            "Epoch 1057/1400\n",
            "56/98 [================>.............] - ETA: 1s - loss: 0.0099 - acc: 1.0000"
          ],
          "name": "stdout"
        },
        {
          "output_type": "stream",
          "text": [
            "98/98 [==============================] - 3s 33ms/step - loss: 0.0099 - acc: 1.0000\n",
            "Epoch 1058/1400\n",
            "98/98 [==============================] - 3s 34ms/step - loss: 0.0912 - acc: 0.9796\n",
            "Epoch 1059/1400\n",
            "98/98 [==============================] - 3s 34ms/step - loss: 0.0118 - acc: 1.0000\n",
            "Epoch 1060/1400\n",
            "98/98 [==============================] - 3s 34ms/step - loss: 0.0905 - acc: 0.9796\n",
            "Epoch 1061/1400\n",
            "98/98 [==============================] - 3s 34ms/step - loss: 0.0844 - acc: 0.9898\n",
            "Epoch 1062/1400\n",
            "98/98 [==============================] - 3s 33ms/step - loss: 0.0467 - acc: 0.9898\n",
            "Epoch 1063/1400\n",
            "98/98 [==============================] - 3s 34ms/step - loss: 0.0113 - acc: 1.0000\n",
            "Epoch 1064/1400\n",
            "98/98 [==============================] - 3s 33ms/step - loss: 0.0094 - acc: 1.0000\n",
            "Epoch 1065/1400\n",
            "56/98 [================>.............] - ETA: 1s - loss: 0.0307 - acc: 0.9821"
          ],
          "name": "stdout"
        },
        {
          "output_type": "stream",
          "text": [
            "98/98 [==============================] - 3s 34ms/step - loss: 0.0242 - acc: 0.9898\n",
            "Epoch 1066/1400\n",
            "98/98 [==============================] - 3s 33ms/step - loss: 0.0284 - acc: 0.9898\n",
            "Epoch 1067/1400\n",
            "98/98 [==============================] - 3s 34ms/step - loss: 0.1575 - acc: 0.9490\n",
            "Epoch 1068/1400\n",
            "98/98 [==============================] - 3s 34ms/step - loss: 0.0016 - acc: 1.0000\n",
            "Epoch 1069/1400\n",
            "98/98 [==============================] - 3s 34ms/step - loss: 0.0409 - acc: 0.9796\n",
            "Epoch 1070/1400\n",
            "98/98 [==============================] - 3s 34ms/step - loss: 0.0906 - acc: 0.9694\n",
            "Epoch 1071/1400\n",
            "98/98 [==============================] - 3s 33ms/step - loss: 0.1650 - acc: 0.9592\n",
            "Epoch 1072/1400\n",
            "98/98 [==============================] - 3s 33ms/step - loss: 0.0432 - acc: 0.9796\n",
            "Epoch 1073/1400\n",
            "56/98 [================>.............] - ETA: 1s - loss: 0.0015 - acc: 1.0000"
          ],
          "name": "stdout"
        },
        {
          "output_type": "stream",
          "text": [
            "98/98 [==============================] - 3s 33ms/step - loss: 0.1602 - acc: 0.9796\n",
            "Epoch 1074/1400\n",
            "98/98 [==============================] - 3s 33ms/step - loss: 0.0044 - acc: 1.0000\n",
            "Epoch 1075/1400\n",
            "98/98 [==============================] - 3s 32ms/step - loss: 0.0063 - acc: 1.0000\n",
            "Epoch 1076/1400\n",
            "98/98 [==============================] - 3s 34ms/step - loss: 0.1417 - acc: 0.9796\n",
            "Epoch 1077/1400\n",
            "98/98 [==============================] - 3s 33ms/step - loss: 0.0765 - acc: 0.9796\n",
            "Epoch 1078/1400\n",
            "98/98 [==============================] - 3s 33ms/step - loss: 0.1536 - acc: 0.9694\n",
            "Epoch 1079/1400\n",
            "98/98 [==============================] - 3s 33ms/step - loss: 0.0121 - acc: 0.9898\n",
            "Epoch 1080/1400\n",
            "98/98 [==============================] - 3s 33ms/step - loss: 0.0353 - acc: 0.9898\n",
            "Epoch 1081/1400\n",
            "56/98 [================>.............] - ETA: 1s - loss: 0.0114 - acc: 1.0000"
          ],
          "name": "stdout"
        },
        {
          "output_type": "stream",
          "text": [
            "98/98 [==============================] - 3s 32ms/step - loss: 0.0107 - acc: 1.0000\n",
            "Epoch 1082/1400\n",
            "98/98 [==============================] - 3s 33ms/step - loss: 0.0014 - acc: 1.0000\n",
            "Epoch 1083/1400\n",
            "98/98 [==============================] - 3s 33ms/step - loss: 0.0016 - acc: 1.0000\n",
            "Epoch 1084/1400\n",
            "98/98 [==============================] - 3s 32ms/step - loss: 0.0804 - acc: 0.9898\n",
            "Epoch 1085/1400\n",
            "98/98 [==============================] - 3s 33ms/step - loss: 0.0016 - acc: 1.0000\n",
            "Epoch 1086/1400\n",
            "98/98 [==============================] - 3s 33ms/step - loss: 0.0045 - acc: 1.0000\n",
            "Epoch 1087/1400\n",
            "98/98 [==============================] - 3s 32ms/step - loss: 0.0012 - acc: 1.0000\n",
            "Epoch 1088/1400\n",
            "98/98 [==============================] - 3s 33ms/step - loss: 4.6755e-04 - acc: 1.0000\n",
            "Epoch 1089/1400\n",
            "56/98 [================>.............] - ETA: 1s - loss: 0.0033 - acc: 1.0000"
          ],
          "name": "stdout"
        },
        {
          "output_type": "stream",
          "text": [
            "98/98 [==============================] - 3s 32ms/step - loss: 0.4428 - acc: 0.9388\n",
            "Epoch 1090/1400\n",
            "98/98 [==============================] - 3s 33ms/step - loss: 0.0098 - acc: 1.0000\n",
            "Epoch 1091/1400\n",
            "98/98 [==============================] - 3s 32ms/step - loss: 0.6632 - acc: 0.8878\n",
            "Epoch 1092/1400\n",
            "98/98 [==============================] - 3s 32ms/step - loss: 0.1587 - acc: 0.9694\n",
            "Epoch 1093/1400\n",
            "98/98 [==============================] - 3s 33ms/step - loss: 0.2922 - acc: 0.9490\n",
            "Epoch 1094/1400\n",
            "98/98 [==============================] - 3s 32ms/step - loss: 0.1157 - acc: 0.9490\n",
            "Epoch 1095/1400\n",
            "98/98 [==============================] - 3s 33ms/step - loss: 0.0130 - acc: 1.0000\n",
            "Epoch 1096/1400\n",
            "98/98 [==============================] - 3s 33ms/step - loss: 0.0098 - acc: 1.0000\n",
            "Epoch 1097/1400\n",
            "56/98 [================>.............] - ETA: 1s - loss: 0.0119 - acc: 1.0000"
          ],
          "name": "stdout"
        },
        {
          "output_type": "stream",
          "text": [
            "98/98 [==============================] - 3s 33ms/step - loss: 0.1567 - acc: 0.9796\n",
            "Epoch 1098/1400\n",
            "98/98 [==============================] - 3s 33ms/step - loss: 0.0536 - acc: 0.9898\n",
            "Epoch 1099/1400\n",
            "98/98 [==============================] - 3s 33ms/step - loss: 0.0477 - acc: 0.9898\n",
            "Epoch 1100/1400\n",
            "98/98 [==============================] - 3s 32ms/step - loss: 0.0284 - acc: 0.9898\n",
            "Epoch 1101/1400\n",
            "98/98 [==============================] - 3s 33ms/step - loss: 0.2184 - acc: 0.9592\n",
            "Epoch 1102/1400\n",
            "98/98 [==============================] - 3s 33ms/step - loss: 0.0045 - acc: 1.0000\n",
            "Epoch 1103/1400\n",
            "98/98 [==============================] - 3s 33ms/step - loss: 0.0028 - acc: 1.0000\n",
            "Epoch 1104/1400\n",
            "98/98 [==============================] - 3s 33ms/step - loss: 7.4069e-04 - acc: 1.0000\n",
            "Epoch 1105/1400\n",
            "56/98 [================>.............] - ETA: 1s - loss: 3.0011e-04 - acc: 1.0000"
          ],
          "name": "stdout"
        },
        {
          "output_type": "stream",
          "text": [
            "98/98 [==============================] - 3s 33ms/step - loss: 0.0028 - acc: 1.0000\n",
            "Epoch 1106/1400\n",
            "98/98 [==============================] - 3s 32ms/step - loss: 0.0182 - acc: 0.9898\n",
            "Epoch 1107/1400\n",
            "98/98 [==============================] - 3s 32ms/step - loss: 0.0037 - acc: 1.0000\n",
            "Epoch 1108/1400\n",
            "98/98 [==============================] - 3s 32ms/step - loss: 0.0646 - acc: 0.9796\n",
            "Epoch 1109/1400\n",
            "98/98 [==============================] - 3s 32ms/step - loss: 0.0021 - acc: 1.0000\n",
            "Epoch 1110/1400\n",
            "98/98 [==============================] - 3s 32ms/step - loss: 0.0050 - acc: 1.0000\n",
            "Epoch 1111/1400\n",
            "98/98 [==============================] - 3s 33ms/step - loss: 0.0012 - acc: 1.0000\n",
            "Epoch 1112/1400\n",
            "98/98 [==============================] - 3s 32ms/step - loss: 0.0014 - acc: 1.0000\n",
            "Epoch 1113/1400\n",
            "56/98 [================>.............] - ETA: 1s - loss: 0.1614 - acc: 0.9643"
          ],
          "name": "stdout"
        },
        {
          "output_type": "stream",
          "text": [
            "98/98 [==============================] - 3s 32ms/step - loss: 0.0937 - acc: 0.9796\n",
            "Epoch 1114/1400\n",
            "98/98 [==============================] - 3s 33ms/step - loss: 0.1641 - acc: 0.9592\n",
            "Epoch 1115/1400\n",
            "98/98 [==============================] - 3s 33ms/step - loss: 0.0364 - acc: 0.9898\n",
            "Epoch 1116/1400\n",
            "98/98 [==============================] - 3s 33ms/step - loss: 0.0012 - acc: 1.0000\n",
            "Epoch 1117/1400\n",
            "98/98 [==============================] - 3s 33ms/step - loss: 0.1460 - acc: 0.9694\n",
            "Epoch 1118/1400\n",
            "98/98 [==============================] - 3s 33ms/step - loss: 0.1807 - acc: 0.9592\n",
            "Epoch 1119/1400\n",
            "98/98 [==============================] - 3s 33ms/step - loss: 0.0775 - acc: 0.9796\n",
            "Epoch 1120/1400\n",
            "98/98 [==============================] - 3s 33ms/step - loss: 0.0559 - acc: 0.9796\n",
            "Epoch 1121/1400\n",
            "56/98 [================>.............] - ETA: 1s - loss: 0.0016 - acc: 1.0000"
          ],
          "name": "stdout"
        },
        {
          "output_type": "stream",
          "text": [
            "98/98 [==============================] - 3s 33ms/step - loss: 0.0026 - acc: 1.0000\n",
            "Epoch 1122/1400\n",
            "98/98 [==============================] - 3s 33ms/step - loss: 0.0126 - acc: 1.0000\n",
            "Epoch 1123/1400\n",
            "98/98 [==============================] - 3s 33ms/step - loss: 0.1333 - acc: 0.9694\n",
            "Epoch 1124/1400\n",
            "98/98 [==============================] - 3s 33ms/step - loss: 0.0057 - acc: 1.0000\n",
            "Epoch 1125/1400\n",
            "98/98 [==============================] - 3s 33ms/step - loss: 0.0020 - acc: 1.0000\n",
            "Epoch 1126/1400\n",
            "98/98 [==============================] - 3s 33ms/step - loss: 0.0016 - acc: 1.0000\n",
            "Epoch 1127/1400\n",
            "98/98 [==============================] - 3s 33ms/step - loss: 0.1030 - acc: 0.9796\n",
            "Epoch 1128/1400\n",
            "98/98 [==============================] - 3s 34ms/step - loss: 0.0603 - acc: 0.9796\n",
            "Epoch 1129/1400\n",
            "56/98 [================>.............] - ETA: 1s - loss: 0.0179 - acc: 0.9821"
          ],
          "name": "stdout"
        },
        {
          "output_type": "stream",
          "text": [
            "98/98 [==============================] - 3s 33ms/step - loss: 0.0103 - acc: 0.9898\n",
            "Epoch 1130/1400\n",
            "98/98 [==============================] - 3s 33ms/step - loss: 7.7106e-04 - acc: 1.0000\n",
            "Epoch 1131/1400\n",
            "98/98 [==============================] - 3s 34ms/step - loss: 0.0017 - acc: 1.0000\n",
            "Epoch 1132/1400\n",
            "98/98 [==============================] - 3s 34ms/step - loss: 0.0946 - acc: 0.9796\n",
            "Epoch 1133/1400\n",
            "98/98 [==============================] - 3s 34ms/step - loss: 0.0104 - acc: 0.9898\n",
            "Epoch 1134/1400\n",
            "98/98 [==============================] - 3s 34ms/step - loss: 0.0078 - acc: 1.0000\n",
            "Epoch 1135/1400\n",
            "98/98 [==============================] - 3s 34ms/step - loss: 0.0061 - acc: 1.0000\n",
            "Epoch 1136/1400\n",
            "98/98 [==============================] - 3s 33ms/step - loss: 0.0011 - acc: 1.0000\n",
            "Epoch 1137/1400\n",
            "52/98 [==============>...............] - ETA: 1s - loss: 0.0021 - acc: 1.0000"
          ],
          "name": "stdout"
        },
        {
          "output_type": "stream",
          "text": [
            "98/98 [==============================] - 3s 34ms/step - loss: 0.0013 - acc: 1.0000\n",
            "Epoch 1138/1400\n",
            "98/98 [==============================] - 3s 33ms/step - loss: 0.0064 - acc: 1.0000\n",
            "Epoch 1139/1400\n",
            "98/98 [==============================] - 3s 34ms/step - loss: 0.1145 - acc: 0.9796\n",
            "Epoch 1140/1400\n",
            "98/98 [==============================] - 3s 33ms/step - loss: 8.4270e-04 - acc: 1.0000\n",
            "Epoch 1141/1400\n",
            "98/98 [==============================] - 3s 34ms/step - loss: 0.0171 - acc: 1.0000\n",
            "Epoch 1142/1400\n",
            "98/98 [==============================] - 3s 33ms/step - loss: 0.0030 - acc: 1.0000\n",
            "Epoch 1143/1400\n",
            "98/98 [==============================] - 3s 34ms/step - loss: 0.0011 - acc: 1.0000\n",
            "Epoch 1144/1400\n",
            "98/98 [==============================] - 3s 34ms/step - loss: 0.0267 - acc: 0.9898\n",
            "Epoch 1145/1400\n",
            "52/98 [==============>...............] - ETA: 1s - loss: 0.2127 - acc: 0.9423"
          ],
          "name": "stdout"
        },
        {
          "output_type": "stream",
          "text": [
            "98/98 [==============================] - 3s 34ms/step - loss: 0.3772 - acc: 0.9388\n",
            "Epoch 1146/1400\n",
            "98/98 [==============================] - 3s 34ms/step - loss: 0.1094 - acc: 0.9898\n",
            "Epoch 1147/1400\n",
            "98/98 [==============================] - 3s 34ms/step - loss: 0.0422 - acc: 0.9796\n",
            "Epoch 1148/1400\n",
            "98/98 [==============================] - 3s 34ms/step - loss: 0.1617 - acc: 0.9490\n",
            "Epoch 1149/1400\n",
            "98/98 [==============================] - 3s 33ms/step - loss: 0.4093 - acc: 0.9388\n",
            "Epoch 1150/1400\n",
            "98/98 [==============================] - 3s 34ms/step - loss: 0.0261 - acc: 0.9796\n",
            "Epoch 1151/1400\n",
            "98/98 [==============================] - 3s 34ms/step - loss: 0.0741 - acc: 0.9592\n",
            "Epoch 1152/1400\n",
            "98/98 [==============================] - 3s 34ms/step - loss: 0.3228 - acc: 0.9184\n",
            "Epoch 1153/1400\n",
            "56/98 [================>.............] - ETA: 1s - loss: 0.2659 - acc: 0.9643"
          ],
          "name": "stdout"
        },
        {
          "output_type": "stream",
          "text": [
            "98/98 [==============================] - 3s 33ms/step - loss: 0.2364 - acc: 0.9694\n",
            "Epoch 1154/1400\n",
            "98/98 [==============================] - 3s 33ms/step - loss: 0.2383 - acc: 0.9592\n",
            "Epoch 1155/1400\n",
            "98/98 [==============================] - 3s 33ms/step - loss: 0.1416 - acc: 0.9592\n",
            "Epoch 1156/1400\n",
            "98/98 [==============================] - 3s 34ms/step - loss: 0.0064 - acc: 1.0000\n",
            "Epoch 1157/1400\n",
            "98/98 [==============================] - 3s 34ms/step - loss: 0.0038 - acc: 1.0000\n",
            "Epoch 1158/1400\n",
            "98/98 [==============================] - 3s 33ms/step - loss: 0.2748 - acc: 0.9592\n",
            "Epoch 1159/1400\n",
            "98/98 [==============================] - 3s 33ms/step - loss: 0.2373 - acc: 0.9490\n",
            "Epoch 1160/1400\n",
            "98/98 [==============================] - 3s 34ms/step - loss: 0.0811 - acc: 0.9796\n",
            "Epoch 1161/1400\n",
            "56/98 [================>.............] - ETA: 1s - loss: 0.2361 - acc: 0.9464"
          ],
          "name": "stdout"
        },
        {
          "output_type": "stream",
          "text": [
            "98/98 [==============================] - 3s 33ms/step - loss: 0.1350 - acc: 0.9694\n",
            "Epoch 1162/1400\n",
            "98/98 [==============================] - 3s 33ms/step - loss: 0.0185 - acc: 0.9898\n",
            "Epoch 1163/1400\n",
            "98/98 [==============================] - 3s 33ms/step - loss: 0.0080 - acc: 1.0000\n",
            "Epoch 1164/1400\n",
            "98/98 [==============================] - 3s 33ms/step - loss: 0.2942 - acc: 0.9694\n",
            "Epoch 1165/1400\n",
            "98/98 [==============================] - 3s 34ms/step - loss: 0.1623 - acc: 0.9898\n",
            "Epoch 1166/1400\n",
            "98/98 [==============================] - 3s 34ms/step - loss: 0.1455 - acc: 0.9694\n",
            "Epoch 1167/1400\n",
            "98/98 [==============================] - 3s 34ms/step - loss: 0.0012 - acc: 1.0000\n",
            "Epoch 1168/1400\n",
            "98/98 [==============================] - 3s 34ms/step - loss: 0.1226 - acc: 0.9796\n",
            "Epoch 1169/1400\n",
            "56/98 [================>.............] - ETA: 1s - loss: 0.0138 - acc: 1.0000"
          ],
          "name": "stdout"
        },
        {
          "output_type": "stream",
          "text": [
            "98/98 [==============================] - 3s 33ms/step - loss: 0.0195 - acc: 0.9898\n",
            "Epoch 1170/1400\n",
            "98/98 [==============================] - 3s 34ms/step - loss: 0.1697 - acc: 0.9898\n",
            "Epoch 1171/1400\n",
            "98/98 [==============================] - 3s 33ms/step - loss: 0.0027 - acc: 1.0000\n",
            "Epoch 1172/1400\n",
            "98/98 [==============================] - 3s 33ms/step - loss: 4.1600e-04 - acc: 1.0000\n",
            "Epoch 1173/1400\n",
            "98/98 [==============================] - 3s 34ms/step - loss: 0.0028 - acc: 1.0000\n",
            "Epoch 1174/1400\n",
            "98/98 [==============================] - 3s 34ms/step - loss: 0.0029 - acc: 1.0000\n",
            "Epoch 1175/1400\n",
            "98/98 [==============================] - 3s 34ms/step - loss: 0.2121 - acc: 0.9592\n",
            "Epoch 1176/1400\n",
            "98/98 [==============================] - 3s 33ms/step - loss: 0.0411 - acc: 0.9796\n",
            "Epoch 1177/1400\n",
            "52/98 [==============>...............] - ETA: 1s - loss: 0.1742 - acc: 0.9808"
          ],
          "name": "stdout"
        },
        {
          "output_type": "stream",
          "text": [
            "98/98 [==============================] - 3s 33ms/step - loss: 0.0938 - acc: 0.9898\n",
            "Epoch 1178/1400\n",
            "98/98 [==============================] - 3s 33ms/step - loss: 0.0017 - acc: 1.0000\n",
            "Epoch 1179/1400\n",
            "98/98 [==============================] - 3s 32ms/step - loss: 0.0118 - acc: 1.0000\n",
            "Epoch 1180/1400\n",
            "98/98 [==============================] - 3s 33ms/step - loss: 9.4871e-04 - acc: 1.0000\n",
            "Epoch 1181/1400\n",
            "98/98 [==============================] - 3s 33ms/step - loss: 0.0487 - acc: 0.9796\n",
            "Epoch 1182/1400\n",
            "98/98 [==============================] - 3s 33ms/step - loss: 0.0998 - acc: 0.9898\n",
            "Epoch 1183/1400\n",
            "98/98 [==============================] - 3s 33ms/step - loss: 0.0996 - acc: 0.9694\n",
            "Epoch 1184/1400\n",
            "98/98 [==============================] - 3s 33ms/step - loss: 0.1164 - acc: 0.9694\n",
            "Epoch 1185/1400\n",
            "52/98 [==============>...............] - ETA: 1s - loss: 0.0449 - acc: 0.9808"
          ],
          "name": "stdout"
        },
        {
          "output_type": "stream",
          "text": [
            "98/98 [==============================] - 3s 33ms/step - loss: 0.0244 - acc: 0.9898\n",
            "Epoch 1186/1400\n",
            "98/98 [==============================] - 3s 33ms/step - loss: 0.0817 - acc: 0.9796\n",
            "Epoch 1187/1400\n",
            "98/98 [==============================] - 3s 33ms/step - loss: 0.1613 - acc: 0.9796\n",
            "Epoch 1188/1400\n",
            "98/98 [==============================] - 3s 34ms/step - loss: 0.0051 - acc: 1.0000\n",
            "Epoch 1189/1400\n",
            "98/98 [==============================] - 3s 33ms/step - loss: 0.0015 - acc: 1.0000\n",
            "Epoch 1190/1400\n",
            "98/98 [==============================] - 3s 33ms/step - loss: 0.0011 - acc: 1.0000\n",
            "Epoch 1191/1400\n",
            "98/98 [==============================] - 3s 33ms/step - loss: 0.0317 - acc: 0.9796\n",
            "Epoch 1192/1400\n",
            "98/98 [==============================] - 3s 33ms/step - loss: 0.0816 - acc: 0.9898\n",
            "Epoch 1193/1400\n",
            "56/98 [================>.............] - ETA: 1s - loss: 0.0015 - acc: 1.0000"
          ],
          "name": "stdout"
        },
        {
          "output_type": "stream",
          "text": [
            "98/98 [==============================] - 3s 34ms/step - loss: 0.0011 - acc: 1.0000\n",
            "Epoch 1194/1400\n",
            "98/98 [==============================] - 3s 34ms/step - loss: 0.4008 - acc: 0.9592\n",
            "Epoch 1195/1400\n",
            "98/98 [==============================] - 3s 33ms/step - loss: 0.3947 - acc: 0.9184\n",
            "Epoch 1196/1400\n",
            "98/98 [==============================] - 3s 33ms/step - loss: 0.0440 - acc: 0.9796\n",
            "Epoch 1197/1400\n",
            "98/98 [==============================] - 3s 33ms/step - loss: 0.6692 - acc: 0.9082\n",
            "Epoch 1198/1400\n",
            "98/98 [==============================] - 3s 33ms/step - loss: 0.0028 - acc: 1.0000\n",
            "Epoch 1199/1400\n",
            "98/98 [==============================] - 3s 33ms/step - loss: 0.0709 - acc: 0.9796\n",
            "Epoch 1200/1400\n",
            "98/98 [==============================] - 3s 33ms/step - loss: 0.0022 - acc: 1.0000\n",
            "Epoch 1201/1400\n",
            "56/98 [================>.............] - ETA: 1s - loss: 0.0037 - acc: 1.0000"
          ],
          "name": "stdout"
        },
        {
          "output_type": "stream",
          "text": [
            "98/98 [==============================] - 3s 33ms/step - loss: 0.0023 - acc: 1.0000\n",
            "Epoch 1202/1400\n",
            "98/98 [==============================] - 3s 33ms/step - loss: 3.2669e-04 - acc: 1.0000\n",
            "Epoch 1203/1400\n",
            "98/98 [==============================] - 3s 33ms/step - loss: 0.0029 - acc: 1.0000\n",
            "Epoch 1204/1400\n",
            "98/98 [==============================] - 3s 33ms/step - loss: 0.1076 - acc: 0.9898\n",
            "Epoch 1205/1400\n",
            "98/98 [==============================] - 3s 33ms/step - loss: 0.0215 - acc: 0.9898\n",
            "Epoch 1206/1400\n",
            "98/98 [==============================] - 3s 33ms/step - loss: 9.6813e-04 - acc: 1.0000\n",
            "Epoch 1207/1400\n",
            "98/98 [==============================] - 3s 33ms/step - loss: 0.0642 - acc: 0.9796\n",
            "Epoch 1208/1400\n",
            "98/98 [==============================] - 3s 33ms/step - loss: 0.3162 - acc: 0.9490\n",
            "Epoch 1209/1400\n",
            "52/98 [==============>...............] - ETA: 1s - loss: 3.0141e-04 - acc: 1.0000"
          ],
          "name": "stdout"
        },
        {
          "output_type": "stream",
          "text": [
            "98/98 [==============================] - 3s 32ms/step - loss: 0.0321 - acc: 0.9898\n",
            "Epoch 1210/1400\n",
            "98/98 [==============================] - 3s 32ms/step - loss: 0.0018 - acc: 1.0000\n",
            "Epoch 1211/1400\n",
            "98/98 [==============================] - 3s 33ms/step - loss: 0.0013 - acc: 1.0000\n",
            "Epoch 1212/1400\n",
            "98/98 [==============================] - 3s 34ms/step - loss: 0.0436 - acc: 0.9898\n",
            "Epoch 1213/1400\n",
            "98/98 [==============================] - 3s 33ms/step - loss: 0.0888 - acc: 0.9694\n",
            "Epoch 1214/1400\n",
            "98/98 [==============================] - 3s 33ms/step - loss: 0.0767 - acc: 0.9898\n",
            "Epoch 1215/1400\n",
            "98/98 [==============================] - 3s 33ms/step - loss: 0.0994 - acc: 0.9796\n",
            "Epoch 1216/1400\n",
            "98/98 [==============================] - 3s 32ms/step - loss: 0.0020 - acc: 1.0000\n",
            "Epoch 1217/1400\n",
            "56/98 [================>.............] - ETA: 1s - loss: 0.0069 - acc: 1.0000"
          ],
          "name": "stdout"
        },
        {
          "output_type": "stream",
          "text": [
            "98/98 [==============================] - 3s 32ms/step - loss: 0.0047 - acc: 1.0000\n",
            "Epoch 1218/1400\n",
            "98/98 [==============================] - 3s 32ms/step - loss: 4.9001e-04 - acc: 1.0000\n",
            "Epoch 1219/1400\n",
            "98/98 [==============================] - 3s 32ms/step - loss: 0.0387 - acc: 0.9898\n",
            "Epoch 1220/1400\n",
            "98/98 [==============================] - 3s 33ms/step - loss: 0.2394 - acc: 0.9592\n",
            "Epoch 1221/1400\n",
            "98/98 [==============================] - 3s 34ms/step - loss: 0.0312 - acc: 0.9898\n",
            "Epoch 1222/1400\n",
            "98/98 [==============================] - 3s 33ms/step - loss: 0.0062 - acc: 1.0000\n",
            "Epoch 1223/1400\n",
            "98/98 [==============================] - 3s 33ms/step - loss: 0.0011 - acc: 1.0000\n",
            "Epoch 1224/1400\n",
            "98/98 [==============================] - 3s 33ms/step - loss: 2.1954e-04 - acc: 1.0000\n",
            "Epoch 1225/1400\n",
            "52/98 [==============>...............] - ETA: 1s - loss: 3.9425e-04 - acc: 1.0000"
          ],
          "name": "stdout"
        },
        {
          "output_type": "stream",
          "text": [
            "98/98 [==============================] - 3s 33ms/step - loss: 3.8046e-04 - acc: 1.0000\n",
            "Epoch 1226/1400\n",
            "98/98 [==============================] - 3s 33ms/step - loss: 0.0336 - acc: 0.9796\n",
            "Epoch 1227/1400\n",
            "98/98 [==============================] - 3s 33ms/step - loss: 0.0029 - acc: 1.0000\n",
            "Epoch 1228/1400\n",
            "98/98 [==============================] - 3s 33ms/step - loss: 0.1401 - acc: 0.9796\n",
            "Epoch 1229/1400\n",
            "98/98 [==============================] - 3s 33ms/step - loss: 3.6150e-04 - acc: 1.0000\n",
            "Epoch 1230/1400\n",
            "98/98 [==============================] - 3s 33ms/step - loss: 2.6824e-04 - acc: 1.0000\n",
            "Epoch 1231/1400\n",
            "98/98 [==============================] - 3s 33ms/step - loss: 8.2668e-04 - acc: 1.0000\n",
            "Epoch 1232/1400\n",
            "98/98 [==============================] - 3s 33ms/step - loss: 0.0013 - acc: 1.0000\n",
            "Epoch 1233/1400\n",
            "48/98 [=============>................] - ETA: 1s - loss: 2.9821e-04 - acc: 1.0000"
          ],
          "name": "stdout"
        },
        {
          "output_type": "stream",
          "text": [
            "98/98 [==============================] - 3s 32ms/step - loss: 0.0813 - acc: 0.9796\n",
            "Epoch 1234/1400\n",
            "98/98 [==============================] - 3s 33ms/step - loss: 8.9209e-04 - acc: 1.0000\n",
            "Epoch 1235/1400\n",
            "98/98 [==============================] - 3s 32ms/step - loss: 0.0063 - acc: 1.0000\n",
            "Epoch 1236/1400\n",
            "98/98 [==============================] - 3s 33ms/step - loss: 4.6789e-04 - acc: 1.0000\n",
            "Epoch 1237/1400\n",
            "98/98 [==============================] - 3s 34ms/step - loss: 1.0996e-04 - acc: 1.0000\n",
            "Epoch 1238/1400\n",
            "98/98 [==============================] - 3s 33ms/step - loss: 5.5818e-04 - acc: 1.0000\n",
            "Epoch 1239/1400\n",
            "98/98 [==============================] - 3s 33ms/step - loss: 0.1069 - acc: 0.9898\n",
            "Epoch 1240/1400\n",
            "98/98 [==============================] - 3s 33ms/step - loss: 7.5542e-04 - acc: 1.0000\n",
            "Epoch 1241/1400\n",
            "44/98 [============>.................] - ETA: 1s - loss: 0.0018 - acc: 1.0000"
          ],
          "name": "stdout"
        },
        {
          "output_type": "stream",
          "text": [
            "98/98 [==============================] - 3s 32ms/step - loss: 0.0015 - acc: 1.0000\n",
            "Epoch 1242/1400\n",
            "98/98 [==============================] - 3s 33ms/step - loss: 6.3289e-04 - acc: 1.0000\n",
            "Epoch 1243/1400\n",
            "98/98 [==============================] - 3s 33ms/step - loss: 0.0242 - acc: 0.9898\n",
            "Epoch 1244/1400\n",
            "98/98 [==============================] - 3s 33ms/step - loss: 0.2787 - acc: 0.9592\n",
            "Epoch 1245/1400\n",
            "98/98 [==============================] - 3s 33ms/step - loss: 0.0852 - acc: 0.9796\n",
            "Epoch 1246/1400\n",
            "98/98 [==============================] - 3s 33ms/step - loss: 8.1904e-04 - acc: 1.0000\n",
            "Epoch 1247/1400\n",
            "98/98 [==============================] - 3s 33ms/step - loss: 0.0018 - acc: 1.0000\n",
            "Epoch 1248/1400\n",
            "98/98 [==============================] - 3s 33ms/step - loss: 0.0018 - acc: 1.0000\n",
            "Epoch 1249/1400\n",
            "48/98 [=============>................] - ETA: 1s - loss: 0.4011 - acc: 0.9583"
          ],
          "name": "stdout"
        },
        {
          "output_type": "stream",
          "text": [
            "98/98 [==============================] - 3s 33ms/step - loss: 0.2808 - acc: 0.9694\n",
            "Epoch 1250/1400\n",
            "98/98 [==============================] - 3s 33ms/step - loss: 0.0337 - acc: 0.9898\n",
            "Epoch 1251/1400\n",
            "98/98 [==============================] - 3s 33ms/step - loss: 0.0038 - acc: 1.0000\n",
            "Epoch 1252/1400\n",
            "98/98 [==============================] - 3s 33ms/step - loss: 0.0013 - acc: 1.0000\n",
            "Epoch 1253/1400\n",
            "98/98 [==============================] - 3s 33ms/step - loss: 1.5050e-04 - acc: 1.0000\n",
            "Epoch 1254/1400\n",
            "98/98 [==============================] - 3s 32ms/step - loss: 0.0027 - acc: 1.0000\n",
            "Epoch 1255/1400\n",
            "98/98 [==============================] - 3s 33ms/step - loss: 4.5595e-04 - acc: 1.0000\n",
            "Epoch 1256/1400\n",
            "98/98 [==============================] - 3s 33ms/step - loss: 0.0707 - acc: 0.9898\n",
            "Epoch 1257/1400\n",
            "52/98 [==============>...............] - ETA: 1s - loss: 0.2035 - acc: 0.9615"
          ],
          "name": "stdout"
        },
        {
          "output_type": "stream",
          "text": [
            "98/98 [==============================] - 3s 33ms/step - loss: 0.1868 - acc: 0.9694\n",
            "Epoch 1258/1400\n",
            "98/98 [==============================] - 3s 33ms/step - loss: 7.9137e-04 - acc: 1.0000\n",
            "Epoch 1259/1400\n",
            "98/98 [==============================] - 3s 32ms/step - loss: 0.0013 - acc: 1.0000\n",
            "Epoch 1260/1400\n",
            "98/98 [==============================] - 3s 32ms/step - loss: 0.0143 - acc: 0.9898\n",
            "Epoch 1261/1400\n",
            "98/98 [==============================] - 3s 33ms/step - loss: 0.0065 - acc: 1.0000\n",
            "Epoch 1262/1400\n",
            "98/98 [==============================] - 3s 33ms/step - loss: 5.7731e-04 - acc: 1.0000\n",
            "Epoch 1263/1400\n",
            "98/98 [==============================] - 3s 33ms/step - loss: 1.9598e-04 - acc: 1.0000\n",
            "Epoch 1264/1400\n",
            "98/98 [==============================] - 3s 32ms/step - loss: 0.0688 - acc: 0.9796\n",
            "Epoch 1265/1400\n",
            "48/98 [=============>................] - ETA: 1s - loss: 0.3514 - acc: 0.9583"
          ],
          "name": "stdout"
        },
        {
          "output_type": "stream",
          "text": [
            "98/98 [==============================] - 3s 32ms/step - loss: 0.1726 - acc: 0.9796\n",
            "Epoch 1266/1400\n",
            "98/98 [==============================] - 3s 31ms/step - loss: 5.7670e-04 - acc: 1.0000\n",
            "Epoch 1267/1400\n",
            "98/98 [==============================] - 3s 32ms/step - loss: 0.0023 - acc: 1.0000\n",
            "Epoch 1268/1400\n",
            "98/98 [==============================] - 3s 32ms/step - loss: 0.1844 - acc: 0.9388\n",
            "Epoch 1269/1400\n",
            "98/98 [==============================] - 3s 33ms/step - loss: 0.0972 - acc: 0.9694\n",
            "Epoch 1270/1400\n",
            "98/98 [==============================] - 3s 33ms/step - loss: 0.0188 - acc: 0.9796\n",
            "Epoch 1271/1400\n",
            "98/98 [==============================] - 3s 33ms/step - loss: 8.4411e-04 - acc: 1.0000\n",
            "Epoch 1272/1400\n",
            "98/98 [==============================] - 3s 33ms/step - loss: 0.0675 - acc: 0.9796\n",
            "Epoch 1273/1400\n",
            "52/98 [==============>...............] - ETA: 1s - loss: 7.5452e-04 - acc: 1.0000"
          ],
          "name": "stdout"
        },
        {
          "output_type": "stream",
          "text": [
            "98/98 [==============================] - 3s 33ms/step - loss: 0.0063 - acc: 1.0000\n",
            "Epoch 1274/1400\n",
            "98/98 [==============================] - 3s 32ms/step - loss: 1.8200e-04 - acc: 1.0000\n",
            "Epoch 1275/1400\n",
            "98/98 [==============================] - 3s 33ms/step - loss: 0.0043 - acc: 1.0000\n",
            "Epoch 1276/1400\n",
            "98/98 [==============================] - 3s 33ms/step - loss: 0.1372 - acc: 0.9694\n",
            "Epoch 1277/1400\n",
            "98/98 [==============================] - 3s 33ms/step - loss: 4.0745e-04 - acc: 1.0000\n",
            "Epoch 1278/1400\n",
            "98/98 [==============================] - 3s 32ms/step - loss: 2.3729e-04 - acc: 1.0000\n",
            "Epoch 1279/1400\n",
            "98/98 [==============================] - 3s 33ms/step - loss: 6.8807e-04 - acc: 1.0000\n",
            "Epoch 1280/1400\n",
            "98/98 [==============================] - 3s 33ms/step - loss: 6.7822e-04 - acc: 1.0000\n",
            "Epoch 1281/1400\n",
            "48/98 [=============>................] - ETA: 1s - loss: 8.8547e-04 - acc: 1.0000"
          ],
          "name": "stdout"
        },
        {
          "output_type": "stream",
          "text": [
            "98/98 [==============================] - 3s 33ms/step - loss: 0.0837 - acc: 0.9796\n",
            "Epoch 1282/1400\n",
            "98/98 [==============================] - 3s 33ms/step - loss: 0.0079 - acc: 1.0000\n",
            "Epoch 1283/1400\n",
            "98/98 [==============================] - 3s 33ms/step - loss: 0.0609 - acc: 0.9898\n",
            "Epoch 1284/1400\n",
            "98/98 [==============================] - 3s 33ms/step - loss: 1.8747e-04 - acc: 1.0000\n",
            "Epoch 1285/1400\n",
            "98/98 [==============================] - 3s 33ms/step - loss: 0.0016 - acc: 1.0000\n",
            "Epoch 1286/1400\n",
            "98/98 [==============================] - 3s 33ms/step - loss: 2.5084e-04 - acc: 1.0000\n",
            "Epoch 1287/1400\n",
            "98/98 [==============================] - 3s 33ms/step - loss: 3.4164e-04 - acc: 1.0000\n",
            "Epoch 1288/1400\n",
            "98/98 [==============================] - 3s 33ms/step - loss: 2.9501e-04 - acc: 1.0000\n",
            "Epoch 1289/1400\n",
            "48/98 [=============>................] - ETA: 1s - loss: 9.7683e-04 - acc: 1.0000"
          ],
          "name": "stdout"
        },
        {
          "output_type": "stream",
          "text": [
            "98/98 [==============================] - 3s 33ms/step - loss: 0.0515 - acc: 0.9898\n",
            "Epoch 1290/1400\n",
            "98/98 [==============================] - 3s 33ms/step - loss: 0.1656 - acc: 0.9694\n",
            "Epoch 1291/1400\n",
            "98/98 [==============================] - 3s 32ms/step - loss: 0.1064 - acc: 0.9898\n",
            "Epoch 1292/1400\n",
            "98/98 [==============================] - 3s 33ms/step - loss: 0.0191 - acc: 0.9898\n",
            "Epoch 1293/1400\n",
            "98/98 [==============================] - 3s 34ms/step - loss: 6.1619e-04 - acc: 1.0000\n",
            "Epoch 1294/1400\n",
            "98/98 [==============================] - 3s 33ms/step - loss: 7.5540e-04 - acc: 1.0000\n",
            "Epoch 1295/1400\n",
            "98/98 [==============================] - 3s 33ms/step - loss: 3.5386e-04 - acc: 1.0000\n",
            "Epoch 1296/1400\n",
            "98/98 [==============================] - 3s 33ms/step - loss: 9.4839e-05 - acc: 1.0000\n",
            "Epoch 1297/1400\n",
            "48/98 [=============>................] - ETA: 1s - loss: 0.2579 - acc: 0.9375"
          ],
          "name": "stdout"
        },
        {
          "output_type": "stream",
          "text": [
            "98/98 [==============================] - 3s 33ms/step - loss: 0.1370 - acc: 0.9592\n",
            "Epoch 1298/1400\n",
            "98/98 [==============================] - 3s 34ms/step - loss: 0.0539 - acc: 0.9796\n",
            "Epoch 1299/1400\n",
            "98/98 [==============================] - 3s 34ms/step - loss: 0.0322 - acc: 0.9796\n",
            "Epoch 1300/1400\n",
            "98/98 [==============================] - 3s 34ms/step - loss: 0.0410 - acc: 0.9796\n",
            "Epoch 1301/1400\n",
            "98/98 [==============================] - 3s 33ms/step - loss: 4.5467e-04 - acc: 1.0000\n",
            "Epoch 1302/1400\n",
            "98/98 [==============================] - 3s 33ms/step - loss: 8.8456e-04 - acc: 1.0000\n",
            "Epoch 1303/1400\n",
            "98/98 [==============================] - 3s 33ms/step - loss: 2.1435e-04 - acc: 1.0000\n",
            "Epoch 1304/1400\n",
            "98/98 [==============================] - 3s 33ms/step - loss: 0.0074 - acc: 1.0000\n",
            "Epoch 1305/1400\n",
            "52/98 [==============>...............] - ETA: 1s - loss: 0.0021 - acc: 1.0000"
          ],
          "name": "stdout"
        },
        {
          "output_type": "stream",
          "text": [
            "98/98 [==============================] - 3s 33ms/step - loss: 0.0012 - acc: 1.0000\n",
            "Epoch 1306/1400\n",
            "98/98 [==============================] - 3s 33ms/step - loss: 4.1742e-04 - acc: 1.0000\n",
            "Epoch 1307/1400\n",
            "98/98 [==============================] - 3s 33ms/step - loss: 0.0043 - acc: 1.0000\n",
            "Epoch 1308/1400\n",
            "98/98 [==============================] - 3s 33ms/step - loss: 5.7184e-04 - acc: 1.0000\n",
            "Epoch 1309/1400\n",
            "98/98 [==============================] - 3s 33ms/step - loss: 3.4755e-04 - acc: 1.0000\n",
            "Epoch 1310/1400\n",
            "98/98 [==============================] - 3s 33ms/step - loss: 6.1238e-04 - acc: 1.0000\n",
            "Epoch 1311/1400\n",
            "98/98 [==============================] - 3s 33ms/step - loss: 2.9025e-04 - acc: 1.0000\n",
            "Epoch 1312/1400\n",
            "98/98 [==============================] - 3s 33ms/step - loss: 0.1109 - acc: 0.9796\n",
            "Epoch 1313/1400\n",
            "44/98 [============>.................] - ETA: 1s - loss: 1.6457e-04 - acc: 1.0000"
          ],
          "name": "stdout"
        },
        {
          "output_type": "stream",
          "text": [
            "98/98 [==============================] - 3s 33ms/step - loss: 1.7601e-04 - acc: 1.0000\n",
            "Epoch 1314/1400\n",
            "98/98 [==============================] - 3s 33ms/step - loss: 6.0909e-04 - acc: 1.0000\n",
            "Epoch 1315/1400\n",
            "98/98 [==============================] - 3s 33ms/step - loss: 8.0394e-04 - acc: 1.0000\n",
            "Epoch 1316/1400\n",
            "98/98 [==============================] - 3s 33ms/step - loss: 1.8849e-04 - acc: 1.0000\n",
            "Epoch 1317/1400\n",
            "98/98 [==============================] - 3s 34ms/step - loss: 2.1280e-04 - acc: 1.0000\n",
            "Epoch 1318/1400\n",
            "98/98 [==============================] - 3s 33ms/step - loss: 0.1523 - acc: 0.9490\n",
            "Epoch 1319/1400\n",
            "98/98 [==============================] - 3s 33ms/step - loss: 0.0036 - acc: 1.0000\n",
            "Epoch 1320/1400\n",
            "98/98 [==============================] - 3s 33ms/step - loss: 0.1101 - acc: 0.9592\n",
            "Epoch 1321/1400\n",
            "40/98 [===========>..................] - ETA: 1s - loss: 0.6116 - acc: 0.8500"
          ],
          "name": "stdout"
        },
        {
          "output_type": "stream",
          "text": [
            "98/98 [==============================] - 3s 33ms/step - loss: 0.4617 - acc: 0.9082\n",
            "Epoch 1322/1400\n",
            "98/98 [==============================] - 3s 33ms/step - loss: 0.0035 - acc: 1.0000\n",
            "Epoch 1323/1400\n",
            "98/98 [==============================] - 3s 33ms/step - loss: 7.8437e-04 - acc: 1.0000\n",
            "Epoch 1324/1400\n",
            "98/98 [==============================] - 3s 33ms/step - loss: 0.0225 - acc: 0.9898\n",
            "Epoch 1325/1400\n",
            "98/98 [==============================] - 3s 32ms/step - loss: 0.0869 - acc: 0.9796\n",
            "Epoch 1326/1400\n",
            "98/98 [==============================] - 3s 34ms/step - loss: 5.0678e-04 - acc: 1.0000\n",
            "Epoch 1327/1400\n",
            "98/98 [==============================] - 3s 33ms/step - loss: 3.6214e-04 - acc: 1.0000\n",
            "Epoch 1328/1400\n",
            "98/98 [==============================] - 3s 33ms/step - loss: 7.1758e-04 - acc: 1.0000\n",
            "Epoch 1329/1400\n",
            "48/98 [=============>................] - ETA: 1s - loss: 2.4874e-04 - acc: 1.0000"
          ],
          "name": "stdout"
        },
        {
          "output_type": "stream",
          "text": [
            "98/98 [==============================] - 3s 33ms/step - loss: 2.9079e-04 - acc: 1.0000\n",
            "Epoch 1330/1400\n",
            "98/98 [==============================] - 3s 33ms/step - loss: 0.1468 - acc: 0.9796\n",
            "Epoch 1331/1400\n",
            "98/98 [==============================] - 3s 33ms/step - loss: 0.0167 - acc: 0.9898\n",
            "Epoch 1332/1400\n",
            "98/98 [==============================] - 3s 33ms/step - loss: 2.4263e-04 - acc: 1.0000\n",
            "Epoch 1333/1400\n",
            "98/98 [==============================] - 3s 33ms/step - loss: 0.2105 - acc: 0.9490\n",
            "Epoch 1334/1400\n",
            "98/98 [==============================] - 3s 33ms/step - loss: 0.2862 - acc: 0.9592\n",
            "Epoch 1335/1400\n",
            "98/98 [==============================] - 3s 33ms/step - loss: 0.2748 - acc: 0.9388\n",
            "Epoch 1336/1400\n",
            "98/98 [==============================] - 3s 33ms/step - loss: 0.4450 - acc: 0.9286\n",
            "Epoch 1337/1400\n",
            "48/98 [=============>................] - ETA: 1s - loss: 0.0902 - acc: 0.9792"
          ],
          "name": "stdout"
        },
        {
          "output_type": "stream",
          "text": [
            "98/98 [==============================] - 3s 33ms/step - loss: 0.0825 - acc: 0.9796\n",
            "Epoch 1338/1400\n",
            "98/98 [==============================] - 3s 33ms/step - loss: 0.1781 - acc: 0.9796\n",
            "Epoch 1339/1400\n",
            "98/98 [==============================] - 3s 33ms/step - loss: 0.0010 - acc: 1.0000\n",
            "Epoch 1340/1400\n",
            "98/98 [==============================] - 3s 33ms/step - loss: 0.0013 - acc: 1.0000\n",
            "Epoch 1341/1400\n",
            "98/98 [==============================] - 3s 33ms/step - loss: 0.0104 - acc: 0.9898\n",
            "Epoch 1342/1400\n",
            "98/98 [==============================] - 3s 33ms/step - loss: 0.0043 - acc: 1.0000\n",
            "Epoch 1343/1400\n",
            "98/98 [==============================] - 3s 33ms/step - loss: 0.0456 - acc: 0.9796\n",
            "Epoch 1344/1400\n",
            "98/98 [==============================] - 3s 33ms/step - loss: 0.2239 - acc: 0.9490\n",
            "Epoch 1345/1400\n",
            "56/98 [================>.............] - ETA: 1s - loss: 0.0021 - acc: 1.0000"
          ],
          "name": "stdout"
        },
        {
          "output_type": "stream",
          "text": [
            "98/98 [==============================] - 3s 33ms/step - loss: 0.0015 - acc: 1.0000\n",
            "Epoch 1346/1400\n",
            "98/98 [==============================] - 3s 33ms/step - loss: 0.0013 - acc: 1.0000\n",
            "Epoch 1347/1400\n",
            "98/98 [==============================] - 3s 33ms/step - loss: 0.0583 - acc: 0.9898\n",
            "Epoch 1348/1400\n",
            "98/98 [==============================] - 3s 33ms/step - loss: 5.2491e-04 - acc: 1.0000\n",
            "Epoch 1349/1400\n",
            "98/98 [==============================] - 3s 32ms/step - loss: 0.0845 - acc: 0.9796\n",
            "Epoch 1350/1400\n",
            "98/98 [==============================] - 3s 33ms/step - loss: 0.3727 - acc: 0.9388\n",
            "Epoch 1351/1400\n",
            "98/98 [==============================] - 3s 33ms/step - loss: 0.0226 - acc: 0.9796\n",
            "Epoch 1352/1400\n",
            "98/98 [==============================] - 3s 33ms/step - loss: 0.0969 - acc: 0.9796\n",
            "Epoch 1353/1400\n",
            "52/98 [==============>...............] - ETA: 1s - loss: 0.0311 - acc: 0.9808"
          ],
          "name": "stdout"
        },
        {
          "output_type": "stream",
          "text": [
            "98/98 [==============================] - 3s 33ms/step - loss: 0.0197 - acc: 0.9898\n",
            "Epoch 1354/1400\n",
            "98/98 [==============================] - 3s 33ms/step - loss: 7.7673e-04 - acc: 1.0000\n",
            "Epoch 1355/1400\n",
            "98/98 [==============================] - 3s 33ms/step - loss: 0.0053 - acc: 1.0000\n",
            "Epoch 1356/1400\n",
            "98/98 [==============================] - 3s 33ms/step - loss: 0.0042 - acc: 1.0000\n",
            "Epoch 1357/1400\n",
            "98/98 [==============================] - 3s 33ms/step - loss: 0.0020 - acc: 1.0000\n",
            "Epoch 1358/1400\n",
            "98/98 [==============================] - 3s 33ms/step - loss: 2.8563e-04 - acc: 1.0000\n",
            "Epoch 1359/1400\n",
            "98/98 [==============================] - 3s 33ms/step - loss: 4.0067e-04 - acc: 1.0000\n",
            "Epoch 1360/1400\n",
            "98/98 [==============================] - 3s 33ms/step - loss: 0.0067 - acc: 1.0000\n",
            "Epoch 1361/1400\n",
            "48/98 [=============>................] - ETA: 1s - loss: 8.5323e-04 - acc: 1.0000"
          ],
          "name": "stdout"
        },
        {
          "output_type": "stream",
          "text": [
            "98/98 [==============================] - 3s 33ms/step - loss: 0.0017 - acc: 1.0000\n",
            "Epoch 1362/1400\n",
            "98/98 [==============================] - 3s 33ms/step - loss: 3.4391e-04 - acc: 1.0000\n",
            "Epoch 1363/1400\n",
            "98/98 [==============================] - 3s 33ms/step - loss: 0.0012 - acc: 1.0000\n",
            "Epoch 1364/1400\n",
            "98/98 [==============================] - 3s 34ms/step - loss: 5.9718e-05 - acc: 1.0000\n",
            "Epoch 1365/1400\n",
            "98/98 [==============================] - 3s 33ms/step - loss: 1.1816e-04 - acc: 1.0000\n",
            "Epoch 1366/1400\n",
            "98/98 [==============================] - 3s 33ms/step - loss: 0.2582 - acc: 0.9694\n",
            "Epoch 1367/1400\n",
            "98/98 [==============================] - 3s 33ms/step - loss: 0.4241 - acc: 0.9490\n",
            "Epoch 1368/1400\n",
            "98/98 [==============================] - 3s 33ms/step - loss: 0.0325 - acc: 0.9898\n",
            "Epoch 1369/1400\n",
            "48/98 [=============>................] - ETA: 1s - loss: 4.4591e-04 - acc: 1.0000"
          ],
          "name": "stdout"
        },
        {
          "output_type": "stream",
          "text": [
            "98/98 [==============================] - 3s 33ms/step - loss: 5.8967e-04 - acc: 1.0000\n",
            "Epoch 1370/1400\n",
            "98/98 [==============================] - 3s 33ms/step - loss: 4.9787e-04 - acc: 1.0000\n",
            "Epoch 1371/1400\n",
            "98/98 [==============================] - 3s 34ms/step - loss: 0.5535 - acc: 0.9388\n",
            "Epoch 1372/1400\n",
            "98/98 [==============================] - 3s 34ms/step - loss: 0.1228 - acc: 0.9592\n",
            "Epoch 1373/1400\n",
            "98/98 [==============================] - 3s 34ms/step - loss: 0.3386 - acc: 0.9388\n",
            "Epoch 1374/1400\n",
            "98/98 [==============================] - 3s 34ms/step - loss: 0.1601 - acc: 0.9796\n",
            "Epoch 1375/1400\n",
            "98/98 [==============================] - 3s 34ms/step - loss: 8.6432e-04 - acc: 1.0000\n",
            "Epoch 1376/1400\n",
            "98/98 [==============================] - 3s 33ms/step - loss: 0.0029 - acc: 1.0000\n",
            "Epoch 1377/1400\n",
            "48/98 [=============>................] - ETA: 1s - loss: 1.8932e-04 - acc: 1.0000"
          ],
          "name": "stdout"
        },
        {
          "output_type": "stream",
          "text": [
            "98/98 [==============================] - 3s 33ms/step - loss: 1.6507e-04 - acc: 1.0000\n",
            "Epoch 1378/1400\n",
            "98/98 [==============================] - 3s 33ms/step - loss: 1.3650e-04 - acc: 1.0000\n",
            "Epoch 1379/1400\n",
            "98/98 [==============================] - 3s 34ms/step - loss: 0.0033 - acc: 1.0000\n",
            "Epoch 1380/1400\n",
            "98/98 [==============================] - 3s 34ms/step - loss: 0.0070 - acc: 1.0000\n",
            "Epoch 1381/1400\n",
            "98/98 [==============================] - 3s 34ms/step - loss: 0.0295 - acc: 0.9898\n",
            "Epoch 1382/1400\n",
            "98/98 [==============================] - 3s 33ms/step - loss: 2.0900e-04 - acc: 1.0000\n",
            "Epoch 1383/1400\n",
            "98/98 [==============================] - 3s 34ms/step - loss: 0.0150 - acc: 0.9898\n",
            "Epoch 1384/1400\n",
            "98/98 [==============================] - 3s 33ms/step - loss: 3.3781e-04 - acc: 1.0000\n",
            "Epoch 1385/1400\n",
            "44/98 [============>.................] - ETA: 1s - loss: 9.9508e-04 - acc: 1.0000"
          ],
          "name": "stdout"
        },
        {
          "output_type": "stream",
          "text": [
            "98/98 [==============================] - 3s 33ms/step - loss: 8.2500e-04 - acc: 1.0000\n",
            "Epoch 1386/1400\n",
            "98/98 [==============================] - 3s 33ms/step - loss: 0.0175 - acc: 0.9898\n",
            "Epoch 1387/1400\n",
            "98/98 [==============================] - 3s 33ms/step - loss: 6.5182e-04 - acc: 1.0000\n",
            "Epoch 1388/1400\n",
            "98/98 [==============================] - 3s 33ms/step - loss: 2.1888e-05 - acc: 1.0000\n",
            "Epoch 1389/1400\n",
            "98/98 [==============================] - 3s 33ms/step - loss: 4.7445e-04 - acc: 1.0000\n",
            "Epoch 1390/1400\n",
            "98/98 [==============================] - 3s 33ms/step - loss: 0.2787 - acc: 0.9592\n",
            "Epoch 1391/1400\n",
            "98/98 [==============================] - 3s 33ms/step - loss: 1.1187e-04 - acc: 1.0000\n",
            "Epoch 1392/1400\n",
            "98/98 [==============================] - 3s 33ms/step - loss: 0.1469 - acc: 0.9694\n",
            "Epoch 1393/1400\n",
            "40/98 [===========>..................] - ETA: 1s - loss: 9.0144e-05 - acc: 1.0000"
          ],
          "name": "stdout"
        },
        {
          "output_type": "stream",
          "text": [
            "98/98 [==============================] - 3s 33ms/step - loss: 0.1724 - acc: 0.9796\n",
            "Epoch 1394/1400\n",
            "98/98 [==============================] - 3s 33ms/step - loss: 0.1681 - acc: 0.9898\n",
            "Epoch 1395/1400\n",
            "98/98 [==============================] - 3s 33ms/step - loss: 0.1675 - acc: 0.9898\n",
            "Epoch 1396/1400\n",
            "98/98 [==============================] - 3s 33ms/step - loss: 0.2246 - acc: 0.9796\n",
            "Epoch 1397/1400\n",
            "98/98 [==============================] - 3s 33ms/step - loss: 0.2612 - acc: 0.9490\n",
            "Epoch 1398/1400\n",
            "98/98 [==============================] - 3s 33ms/step - loss: 0.0080 - acc: 1.0000\n",
            "Epoch 1399/1400\n",
            "98/98 [==============================] - 3s 33ms/step - loss: 8.6410e-04 - acc: 1.0000\n",
            "Epoch 1400/1400\n",
            "98/98 [==============================] - 3s 32ms/step - loss: 0.0107 - acc: 0.9898\n"
          ],
          "name": "stdout"
        }
      ]
    },
    {
      "metadata": {
        "id": "Lq241ZvXmBgs",
        "colab_type": "code",
        "colab": {
          "base_uri": "https://localhost:8080/",
          "height": 364
        },
        "outputId": "145ed466-6d75-4c90-ae31-a584037decfc"
      },
      "cell_type": "code",
      "source": [
        "# Plot the accuracy during training\n",
        "plt.plot(history.history['acc'])"
      ],
      "execution_count": 16,
      "outputs": [
        {
          "output_type": "execute_result",
          "data": {
            "text/plain": [
              "[<matplotlib.lines.Line2D at 0x7f67c06b0cc0>]"
            ]
          },
          "metadata": {
            "tags": []
          },
          "execution_count": 16
        },
        {
          "output_type": "display_data",
          "data": {
            "image/png": "[encoded data removed]",
            "text/plain": [
              "<matplotlib.figure.Figure at 0x7f67c06e3860>"
            ]
          },
          "metadata": {
            "tags": []
          }
        }
      ]
    },
    {
      "metadata": {
        "id": "XDhfH6d52GUw",
        "colab_type": "code",
        "colab": {
          "base_uri": "https://localhost:8080/",
          "height": 364
        },
        "outputId": "7d89f6f2-8f5c-4109-8d45-caee64e7e686"
      },
      "cell_type": "code",
      "source": [
        "plt.plot(history.history['loss'])"
      ],
      "execution_count": 17,
      "outputs": [
        {
          "output_type": "execute_result",
          "data": {
            "text/plain": [
              "[<matplotlib.lines.Line2D at 0x7f67c06473c8>]"
            ]
          },
          "metadata": {
            "tags": []
          },
          "execution_count": 17
        },
        {
          "output_type": "display_data",
          "data": {
            "image/png": "[encoded data removed]",
            "text/plain": [
              "<matplotlib.figure.Figure at 0x7f67c07032e8>"
            ]
          },
          "metadata": {
            "tags": []
          }
        }
      ]
    },
    {
      "metadata": {
        "id": "MMhv-sFQCz7h",
        "colab_type": "code",
        "colab": {
          "base_uri": "https://localhost:8080/",
          "height": 51
        },
        "outputId": "5a9192b1-320d-425c-9e8b-12534d5345bd"
      },
      "cell_type": "code",
      "source": [
        "# Evalute the same model\n",
        "model.evaluate(x=train_x, y=train_y)"
      ],
      "execution_count": 18,
      "outputs": [
        {
          "output_type": "stream",
          "text": [
            "98/98 [==============================] - 0s 3ms/step\n"
          ],
          "name": "stdout"
        },
        {
          "output_type": "execute_result",
          "data": {
            "text/plain": [
              "[0.00035697728459638256, 1.0]"
            ]
          },
          "metadata": {
            "tags": []
          },
          "execution_count": 18
        }
      ]
    },
    {
      "metadata": {
        "id": "ckLOHc2UQ7A_",
        "colab_type": "code",
        "colab": {}
      },
      "cell_type": "code",
      "source": [
        ""
      ],
      "execution_count": 0,
      "outputs": []
    }
  ]
}