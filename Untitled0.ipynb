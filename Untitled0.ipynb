{
  "nbformat": 4,
  "nbformat_minor": 0,
  "metadata": {
    "colab": {
      "name": "Untitled0.ipynb",
      "version": "0.3.2",
      "provenance": [],
      "collapsed_sections": [],
      "toc_visible": true
    },
    "kernelspec": {
      "name": "python3",
      "display_name": "Python 3"
    }
  },
  "cells": [
    {
      "cell_type": "markdown",
      "metadata": {
        "id": "view-in-github",
        "colab_type": "text"
      },
      "source": [
        "[View in Colaboratory](https://colab.research.google.com/github/iegorval/neural_nets/blob/master/Untitled0.ipynb)"
      ]
    },
    {
      "metadata": {
        "id": "oV2qqlq5QmNd",
        "colab_type": "text"
      },
      "cell_type": "markdown",
      "source": [
        "# Getting Ready\n",
        "Prepare the files and the libraries for the experiment."
      ]
    },
    {
      "metadata": {
        "id": "aWQrp_kPQop9",
        "colab_type": "code",
        "colab": {}
      },
      "cell_type": "code",
      "source": [
        "# Installs\n",
        "!pip install -U -q PyDrive"
      ],
      "execution_count": 0,
      "outputs": []
    },
    {
      "metadata": {
        "id": "FAQQdDA9UBDj",
        "colab_type": "code",
        "colab": {
          "base_uri": "https://localhost:8080/",
          "height": 34
        },
        "outputId": "b13e5b80-a390-448c-faa1-e765b6b6f74f"
      },
      "cell_type": "code",
      "source": [
        "# Imports\n",
        "from pydrive.auth import GoogleAuth\n",
        "from pydrive.drive import GoogleDrive\n",
        "from google.colab import auth\n",
        "from oauth2client.client import GoogleCredentials\n",
        "import numpy as np \n",
        "import pandas as pd\n",
        "import matplotlib.pyplot as plt\n",
        "from keras.layers import LSTM, Input, Activation, Dense, TimeDistributed, Dropout, BatchNormalization\n",
        "from keras.models import Sequential\n",
        "from keras import optimizers\n",
        "from keras.callbacks import Callback\n",
        "import keras.backend as K\n",
        "import re\n",
        "from io import StringIO"
      ],
      "execution_count": 3,
      "outputs": [
        {
          "output_type": "stream",
          "text": [
            "Using TensorFlow backend.\n"
          ],
          "name": "stderr"
        }
      ]
    },
    {
      "metadata": {
        "id": "3hcA5ujlQsX7",
        "colab_type": "code",
        "colab": {}
      },
      "cell_type": "code",
      "source": [
        "# PyDrive client\n",
        "auth.authenticate_user()\n",
        "gauth = GoogleAuth()\n",
        "gauth.credentials = GoogleCredentials.get_application_default()\n",
        "drive = GoogleDrive(gauth)\n",
        "# Get all files from the root folder\n",
        "file_list = drive.ListFile({'q': \"'root' in parents and trashed=false\"}).GetList()"
      ],
      "execution_count": 0,
      "outputs": []
    },
    {
      "metadata": {
        "id": "g6sjBvHZcFKB",
        "colab_type": "code",
        "colab": {}
      },
      "cell_type": "code",
      "source": [
        "# Get the .pow files \n",
        "pow_files = [(file['title'], file['id'], re.sub(r'_[0-9]+|.pow', '', file['title'])) \n",
        "             for file in file_list if file['title'].find('.pow')>0]\n",
        "num_examples = len(pow_files)\n",
        "# Get the categories\n",
        "categories = list(set([file_info[2] for file_info in pow_files]))\n",
        "# Get the dictionary of the categories\n",
        "num_cat = len(categories)\n",
        "categories_dict = {categories[i] : i for i in range(num_cat)}"
      ],
      "execution_count": 0,
      "outputs": []
    },
    {
      "metadata": {
        "id": "gAXuechYyXpq",
        "colab_type": "text"
      },
      "cell_type": "markdown",
      "source": [
        "# Utils\n",
        "Helper functions."
      ]
    },
    {
      "metadata": {
        "id": "wJwNdX5UyT1a",
        "colab_type": "code",
        "colab": {}
      },
      "cell_type": "code",
      "source": [
        "def to_one_hot(category):\n",
        "  assert category < num_cat\n",
        "  one_hot = np.zeros((num_cat))\n",
        "  one_hot[category] = 1\n",
        "  return one_hot"
      ],
      "execution_count": 0,
      "outputs": []
    },
    {
      "metadata": {
        "id": "TVWW1kVnMNxP",
        "colab_type": "code",
        "colab": {}
      },
      "cell_type": "code",
      "source": [
        "def from_one_hot(one_hot):\n",
        "  for i in range(len(one_hot)):\n",
        "    if one_hot[i]==1:\n",
        "      return i"
      ],
      "execution_count": 0,
      "outputs": []
    },
    {
      "metadata": {
        "id": "_OimloG8Qbh6",
        "colab_type": "code",
        "colab": {}
      },
      "cell_type": "code",
      "source": [
        "def get_toy_data():\n",
        "  # TOY DATA\n",
        "  times_list = [(np.transpose(np.array(df_cut[0][[0]])), df_cut[1]) for df_cut in list_df_cut]\n",
        "  times_long = [(np.transpose(times[0]), times[1]) for times in times_list if times[0].shape[1]>=max_length]\n",
        "  times_no_labels = [times[0] for times in times_long]\n",
        "  \n",
        "  num_cat = 2\n",
        "  # Generate first class of data\n",
        "  cos_data = [np.cos(times) for times in times_no_labels]\n",
        "  cos_y = [to_one_hot(0)] * len(cos_data)\n",
        "  # Generate second class of data\n",
        "  arccos_data = [np.arccos(np.cos(times)) for times in times_no_labels]\n",
        "  arccos_y = [to_one_hot(1)] * len(arccos_data) \n",
        "  # Combine together\n",
        "  toy_data = cos_data + arccos_data\n",
        "  # Skip some timesteps\n",
        "  skip = 10\n",
        "  toy_skip = list()\n",
        "  for toy_example in toy_data:\n",
        "    toy_skip.append(list())\n",
        "    i = 0\n",
        "    while True:\n",
        "      toy_skip[-1].append(toy_example[i])\n",
        "      i += skip\n",
        "      if i >= len(toy_example):\n",
        "        break\n",
        "  \n",
        "  toy_x = np.stack(toy_skip, axis=0)\n",
        "  toy_y = np.array(cos_y + arccos_y)\n",
        "  return toy_x, toy_y"
      ],
      "execution_count": 0,
      "outputs": []
    },
    {
      "metadata": {
        "id": "sMx7hyVBb1sQ",
        "colab_type": "code",
        "colab": {
          "base_uri": "https://localhost:8080/",
          "height": 364
        },
        "outputId": "7598ed7b-ec54-4d78-bf26-e548982d8fc7"
      },
      "cell_type": "code",
      "source": [
        "toy_x, toy_y = get_toy_data()\n",
        "plt.plot(toy_x[0])"
      ],
      "execution_count": 100,
      "outputs": [
        {
          "output_type": "execute_result",
          "data": {
            "text/plain": [
              "[<matplotlib.lines.Line2D at 0x7fcf69e234e0>]"
            ]
          },
          "metadata": {
            "tags": []
          },
          "execution_count": 100
        },
        {
          "output_type": "display_data",
          "data": {
            "image/png": "[encoded data removed]",
            "text/plain": [
              "<matplotlib.figure.Figure at 0x7fcf6a062438>"
            ]
          },
          "metadata": {
            "tags": []
          }
        }
      ]
    },
    {
      "metadata": {
        "id": "0bfZo4MevEmv",
        "colab_type": "text"
      },
      "cell_type": "markdown",
      "source": [
        "# Model\n",
        "Recurrent Neural Network model in Keras."
      ]
    },
    {
      "metadata": {
        "id": "HAbg2Knco78O",
        "colab_type": "code",
        "colab": {}
      },
      "cell_type": "code",
      "source": [
        "def get_model():\n",
        "  model = Sequential()\n",
        "  #model.add(BatchNormalization(input_shape=(max_length//skip,1)))\n",
        "  model.add(LSTM(64, return_sequences=True, input_shape=(max_length//skip,1)))\n",
        "  model.add(Dropout(0.4))\n",
        "  model.add(LSTM(64))\n",
        "  model.add(Dropout(0.4))\n",
        "  \n",
        "  #model.add(LSTM(128, return_sequences=False))\n",
        "  model.add(Dense(num_cat))\n",
        "  model.add(Activation(\"softmax\"))\n",
        "  return model"
      ],
      "execution_count": 0,
      "outputs": []
    },
    {
      "metadata": {
        "id": "xzVxrl55U4dR",
        "colab_type": "text"
      },
      "cell_type": "markdown",
      "source": [
        "# Data\n",
        "Preprocess the data: combine all the examples together and introduce padding where necessary. Split the longest time series in the several smaller ones."
      ]
    },
    {
      "metadata": {
        "id": "p9cw30IWh8yK",
        "colab_type": "code",
        "colab": {}
      },
      "cell_type": "code",
      "source": [
        "# Make a list of dataframes along with their corresponding classes\n",
        "list_df = list()\n",
        "for pow_file in pow_files:\n",
        "  f = drive.CreateFile({'id': pow_file[1]})\n",
        "  content = f.GetContentString()\n",
        "  dataIO = StringIO(content)\n",
        "  df = pd.read_csv(dataIO, header=None, sep=' ')\n",
        "  list_df.append((df, to_one_hot(categories_dict[pow_file[2]])))"
      ],
      "execution_count": 0,
      "outputs": []
    },
    {
      "metadata": {
        "id": "0JxLBoY_i4li",
        "colab_type": "code",
        "colab": {}
      },
      "cell_type": "code",
      "source": [
        "# Split the biggest examples into separate sequences\n",
        "max_length = 1000\n",
        "long_dfs = [i for i in range(len(list_df)) if list_df[i][0].shape[0] > max_length]\n",
        "list_df_cut = list(list_df)\n",
        "max_examples = 25 #75\n",
        "examples_categories = {0: 0, 1: 0, 2: 0, 3: 0, 4: 0, 5: 0}\n",
        "for i in reversed(long_dfs):\n",
        "  df = list_df_cut[i][0]\n",
        "  category = from_one_hot(list_df_cut[i][1])\n",
        "  for g, split_df in df.groupby(np.arange(len(df)) // max_length):\n",
        "    if examples_categories[category] < max_examples:\n",
        "      list_df_cut.append((split_df, list_df[i][1]))\n",
        "      examples_categories[category] += 1\n",
        "  del list_df_cut[i]"
      ],
      "execution_count": 0,
      "outputs": []
    },
    {
      "metadata": {
        "id": "y1T3HWkIm1lw",
        "colab_type": "code",
        "colab": {}
      },
      "cell_type": "code",
      "source": [
        "# Get only the measurements for current\n",
        "currents_list = [(np.transpose(np.array(df_cut[0][[2]])), df_cut[1]) for df_cut in list_df_cut]\n",
        "currents_long = [(np.transpose(currents[0]), currents[1]) for currents in currents_list if currents[0].shape[1]>=max_length]\n",
        "currents_no_labels = [currents[0] for currents in currents_long]\n",
        "# Pad the measurements with 0s from the beginning\n",
        "#currents_pad = [np.transpose(sequence.pad_sequences(currents[0], maxlen=max_length, dtype='float64')) for currents in currents_list]"
      ],
      "execution_count": 0,
      "outputs": []
    },
    {
      "metadata": {
        "id": "l1tC1WDSjQw8",
        "colab_type": "code",
        "colab": {
          "base_uri": "https://localhost:8080/",
          "height": 366
        },
        "outputId": "b516e640-3109-4fde-ddb5-e3933f80155e"
      },
      "cell_type": "code",
      "source": [
        "plt.plot(currents_no_labels[0])"
      ],
      "execution_count": 12,
      "outputs": [
        {
          "output_type": "execute_result",
          "data": {
            "text/plain": [
              "[<matplotlib.lines.Line2D at 0x7fd8fc6c99e8>]"
            ]
          },
          "metadata": {
            "tags": []
          },
          "execution_count": 12
        },
        {
          "output_type": "display_data",
          "data": {
            "image/png": "[encoded data removed]",
            "text/plain": [
              "<matplotlib.figure.Figure at 0x7fd8fc65b6a0>"
            ]
          },
          "metadata": {
            "tags": []
          }
        }
      ]
    },
    {
      "metadata": {
        "id": "fDc3SUp6BPE8",
        "colab_type": "code",
        "colab": {}
      },
      "cell_type": "code",
      "source": [
        "# Skip some timesteps\n",
        "skip = 10\n",
        "currents_skip = list()\n",
        "for currents in currents_no_labels:\n",
        "  currents_skip.append(list())\n",
        "  i = 0\n",
        "  while True:\n",
        "    currents_skip[-1].append(currents[i])\n",
        "    i += skip\n",
        "    if i >= len(currents):\n",
        "      break"
      ],
      "execution_count": 0,
      "outputs": []
    },
    {
      "metadata": {
        "id": "JPVtIqrJjaDz",
        "colab_type": "code",
        "colab": {
          "base_uri": "https://localhost:8080/",
          "height": 368
        },
        "outputId": "99d17a05-ed27-4839-e66d-373f1d0a8848"
      },
      "cell_type": "code",
      "source": [
        "plt.plot(currents_skip[0])"
      ],
      "execution_count": 14,
      "outputs": [
        {
          "output_type": "execute_result",
          "data": {
            "text/plain": [
              "[<matplotlib.lines.Line2D at 0x7fd8fa431550>]"
            ]
          },
          "metadata": {
            "tags": []
          },
          "execution_count": 14
        },
        {
          "output_type": "display_data",
          "data": {
            "image/png": "[encoded data removed]",
            "text/plain": [
              "<matplotlib.figure.Figure at 0x7fd8fc6859e8>"
            ]
          },
          "metadata": {
            "tags": []
          }
        }
      ]
    },
    {
      "metadata": {
        "id": "b2pEzVQUESSD",
        "colab_type": "code",
        "colab": {}
      },
      "cell_type": "code",
      "source": [
        "# Get training data into a numpy matrix\n",
        "train_x = np.stack(currents_skip, axis=0)\n",
        "# Get training labels\n",
        "train_y = np.array([currents[1] for currents in currents_long])\n",
        "train_y_labels = [from_one_hot(one_hot) for one_hot in train_y]"
      ],
      "execution_count": 0,
      "outputs": []
    },
    {
      "metadata": {
        "id": "RWwIa0O_k0WX",
        "colab_type": "code",
        "colab": {
          "base_uri": "https://localhost:8080/",
          "height": 34
        },
        "outputId": "78131cc5-e49d-4552-b785-0772ab5928f4"
      },
      "cell_type": "code",
      "source": [
        "print(train_x.shape, train_y.shape)"
      ],
      "execution_count": 16,
      "outputs": [
        {
          "output_type": "stream",
          "text": [
            "(98, 100, 1) (98, 6)\n"
          ],
          "name": "stdout"
        }
      ]
    },
    {
      "metadata": {
        "id": "K9kyzpWhMrSc",
        "colab_type": "text"
      },
      "cell_type": "markdown",
      "source": [
        "# Experiment"
      ]
    },
    {
      "metadata": {
        "id": "18uzH69xywMu",
        "colab_type": "code",
        "colab": {
          "base_uri": "https://localhost:8080/",
          "height": 340
        },
        "outputId": "034e249d-f67c-4e1d-ceba-9ebf98836098"
      },
      "cell_type": "code",
      "source": [
        "model = get_model()\n",
        "model.summary()"
      ],
      "execution_count": 17,
      "outputs": [
        {
          "output_type": "stream",
          "text": [
            "_________________________________________________________________\n",
            "Layer (type)                 Output Shape              Param #   \n",
            "=================================================================\n",
            "lstm_1 (LSTM)                (None, 100, 64)           16896     \n",
            "_________________________________________________________________\n",
            "dropout_1 (Dropout)          (None, 100, 64)           0         \n",
            "_________________________________________________________________\n",
            "lstm_2 (LSTM)                (None, 64)                33024     \n",
            "_________________________________________________________________\n",
            "dropout_2 (Dropout)          (None, 64)                0         \n",
            "_________________________________________________________________\n",
            "dense_1 (Dense)              (None, 6)                 390       \n",
            "_________________________________________________________________\n",
            "activation_1 (Activation)    (None, 6)                 0         \n",
            "=================================================================\n",
            "Total params: 50,310\n",
            "Trainable params: 50,310\n",
            "Non-trainable params: 0\n",
            "_________________________________________________________________\n"
          ],
          "name": "stdout"
        }
      ]
    },
    {
      "metadata": {
        "id": "KqW5KT0hR6Iz",
        "colab_type": "code",
        "colab": {}
      },
      "cell_type": "code",
      "source": [
        "#rms = optimizers.RMSprop(lr=1e-15)\n",
        "#sgd = optimizers.SGD(lr=0.0000000000000000000001, momentum=0.0, decay=0.0, nesterov=False)\n",
        "model.compile(loss='categorical_crossentropy', optimizer='rmsprop', metrics=['accuracy'])"
      ],
      "execution_count": 0,
      "outputs": []
    },
    {
      "metadata": {
        "id": "cKnrvOYa8h8G",
        "colab_type": "code",
        "colab": {
          "base_uri": "https://localhost:8080/",
          "height": 17017
        },
        "outputId": "436654ea-96a7-42c1-ca3d-a4a324c35423"
      },
      "cell_type": "code",
      "source": [
        "history = model.fit(train_x, train_y, epochs = 500, batch_size=4)\n",
        "#history = model.fit(toy_x, toy_y, epochs = 50, batch_size=4)"
      ],
      "execution_count": 19,
      "outputs": [
        {
          "output_type": "stream",
          "text": [
            "Epoch 1/500\n",
            "98/98 [==============================] - 5s 49ms/step - loss: 1.8028 - acc: 0.1531\n",
            "Epoch 2/500\n",
            "98/98 [==============================] - 3s 35ms/step - loss: 1.7755 - acc: 0.2245\n",
            "Epoch 3/500\n",
            "98/98 [==============================] - 3s 35ms/step - loss: 1.7548 - acc: 0.2755\n",
            "Epoch 4/500\n",
            "98/98 [==============================] - 3s 35ms/step - loss: 1.7703 - acc: 0.2449\n",
            "Epoch 5/500\n",
            "98/98 [==============================] - 3s 35ms/step - loss: 1.7708 - acc: 0.2449\n",
            "Epoch 6/500\n",
            "98/98 [==============================] - 3s 35ms/step - loss: 1.7606 - acc: 0.2347\n",
            "Epoch 7/500\n",
            "98/98 [==============================] - 3s 35ms/step - loss: 1.7501 - acc: 0.2755\n",
            "Epoch 8/500\n",
            "98/98 [==============================] - 3s 35ms/step - loss: 1.7739 - acc: 0.2143\n",
            "Epoch 9/500\n",
            "56/98 [================>.............] - ETA: 1s - loss: 1.7094 - acc: 0.2679"
          ],
          "name": "stdout"
        },
        {
          "output_type": "stream",
          "text": [
            "98/98 [==============================] - 3s 34ms/step - loss: 1.7551 - acc: 0.2347\n",
            "Epoch 10/500\n",
            "98/98 [==============================] - 3s 35ms/step - loss: 1.7581 - acc: 0.2653\n",
            "Epoch 11/500\n",
            "98/98 [==============================] - 3s 35ms/step - loss: 1.7613 - acc: 0.2653\n",
            "Epoch 12/500\n",
            "98/98 [==============================] - 3s 35ms/step - loss: 1.7625 - acc: 0.2653\n",
            "Epoch 13/500\n",
            "98/98 [==============================] - 3s 35ms/step - loss: 1.7526 - acc: 0.2653\n",
            "Epoch 14/500\n",
            "98/98 [==============================] - 3s 35ms/step - loss: 1.7668 - acc: 0.2449\n",
            "Epoch 15/500\n",
            "98/98 [==============================] - 3s 34ms/step - loss: 1.7560 - acc: 0.2347\n",
            "Epoch 16/500\n",
            "98/98 [==============================] - 3s 35ms/step - loss: 1.7523 - acc: 0.2449\n",
            "Epoch 17/500\n",
            "68/98 [===================>..........] - ETA: 1s - loss: 1.7138 - acc: 0.2941"
          ],
          "name": "stdout"
        },
        {
          "output_type": "stream",
          "text": [
            "98/98 [==============================] - 3s 35ms/step - loss: 1.7300 - acc: 0.2857\n",
            "Epoch 18/500\n",
            "98/98 [==============================] - 3s 35ms/step - loss: 1.7618 - acc: 0.2449\n",
            "Epoch 19/500\n",
            "98/98 [==============================] - 3s 35ms/step - loss: 1.7570 - acc: 0.2143\n",
            "Epoch 20/500\n",
            "98/98 [==============================] - 3s 35ms/step - loss: 1.7495 - acc: 0.2347\n",
            "Epoch 21/500\n",
            "98/98 [==============================] - 3s 35ms/step - loss: 1.7442 - acc: 0.2653\n",
            "Epoch 22/500\n",
            "98/98 [==============================] - 3s 35ms/step - loss: 1.7202 - acc: 0.2959\n",
            "Epoch 23/500\n",
            "98/98 [==============================] - 3s 35ms/step - loss: 1.7398 - acc: 0.2653\n",
            "Epoch 24/500\n",
            "98/98 [==============================] - 3s 35ms/step - loss: 1.7249 - acc: 0.2653\n",
            "Epoch 25/500\n",
            "68/98 [===================>..........] - ETA: 1s - loss: 1.7566 - acc: 0.2500"
          ],
          "name": "stdout"
        },
        {
          "output_type": "stream",
          "text": [
            "98/98 [==============================] - 3s 35ms/step - loss: 1.7499 - acc: 0.2755\n",
            "Epoch 26/500\n",
            "98/98 [==============================] - 3s 35ms/step - loss: 1.7169 - acc: 0.2755\n",
            "Epoch 27/500\n",
            "98/98 [==============================] - 3s 34ms/step - loss: 1.7281 - acc: 0.2653\n",
            "Epoch 28/500\n",
            "98/98 [==============================] - 3s 35ms/step - loss: 1.6931 - acc: 0.2551\n",
            "Epoch 29/500\n",
            "98/98 [==============================] - 3s 35ms/step - loss: 1.6950 - acc: 0.2449\n",
            "Epoch 30/500\n",
            "98/98 [==============================] - 3s 35ms/step - loss: 1.7138 - acc: 0.2857\n",
            "Epoch 31/500\n",
            "98/98 [==============================] - 3s 35ms/step - loss: 1.6627 - acc: 0.3163\n",
            "Epoch 32/500\n",
            "98/98 [==============================] - 3s 35ms/step - loss: 1.6516 - acc: 0.2857\n",
            "Epoch 33/500\n",
            "68/98 [===================>..........] - ETA: 1s - loss: 1.6180 - acc: 0.3971"
          ],
          "name": "stdout"
        },
        {
          "output_type": "stream",
          "text": [
            "98/98 [==============================] - 3s 35ms/step - loss: 1.6670 - acc: 0.3367\n",
            "Epoch 34/500\n",
            "98/98 [==============================] - 3s 35ms/step - loss: 1.6116 - acc: 0.3673\n",
            "Epoch 35/500\n",
            "98/98 [==============================] - 3s 35ms/step - loss: 1.6649 - acc: 0.2959\n",
            "Epoch 36/500\n",
            "98/98 [==============================] - 3s 34ms/step - loss: 1.6494 - acc: 0.3469\n",
            "Epoch 37/500\n",
            "98/98 [==============================] - 3s 35ms/step - loss: 1.6135 - acc: 0.3367\n",
            "Epoch 38/500\n",
            "98/98 [==============================] - 3s 35ms/step - loss: 1.5819 - acc: 0.3163\n",
            "Epoch 39/500\n",
            "98/98 [==============================] - 3s 35ms/step - loss: 1.5468 - acc: 0.3673\n",
            "Epoch 40/500\n",
            "98/98 [==============================] - 3s 35ms/step - loss: 1.5753 - acc: 0.3776\n",
            "Epoch 41/500\n",
            "68/98 [===================>..........] - ETA: 1s - loss: 1.5329 - acc: 0.3529"
          ],
          "name": "stdout"
        },
        {
          "output_type": "stream",
          "text": [
            "98/98 [==============================] - 3s 35ms/step - loss: 1.5506 - acc: 0.3265\n",
            "Epoch 42/500\n",
            "98/98 [==============================] - 3s 35ms/step - loss: 1.5041 - acc: 0.3571\n",
            "Epoch 43/500\n",
            "98/98 [==============================] - 3s 34ms/step - loss: 1.5664 - acc: 0.3776\n",
            "Epoch 44/500\n",
            "98/98 [==============================] - 3s 35ms/step - loss: 1.5630 - acc: 0.3469\n",
            "Epoch 45/500\n",
            "98/98 [==============================] - 3s 35ms/step - loss: 1.5193 - acc: 0.3673\n",
            "Epoch 46/500\n",
            "98/98 [==============================] - 3s 35ms/step - loss: 1.5199 - acc: 0.3878\n",
            "Epoch 47/500\n",
            "98/98 [==============================] - 3s 35ms/step - loss: 1.4735 - acc: 0.3469\n",
            "Epoch 48/500\n",
            "98/98 [==============================] - 3s 35ms/step - loss: 1.5098 - acc: 0.3878\n",
            "Epoch 49/500\n",
            "68/98 [===================>..........] - ETA: 1s - loss: 1.5263 - acc: 0.3088"
          ],
          "name": "stdout"
        },
        {
          "output_type": "stream",
          "text": [
            "98/98 [==============================] - 3s 35ms/step - loss: 1.5330 - acc: 0.3265\n",
            "Epoch 50/500\n",
            "98/98 [==============================] - 3s 34ms/step - loss: 1.4950 - acc: 0.3571\n",
            "Epoch 51/500\n",
            "98/98 [==============================] - 3s 34ms/step - loss: 1.5115 - acc: 0.3367\n",
            "Epoch 52/500\n",
            "98/98 [==============================] - 3s 35ms/step - loss: 1.4932 - acc: 0.3673\n",
            "Epoch 53/500\n",
            "98/98 [==============================] - 3s 35ms/step - loss: 1.4917 - acc: 0.3980\n",
            "Epoch 54/500\n",
            "98/98 [==============================] - 3s 35ms/step - loss: 1.4661 - acc: 0.4082\n",
            "Epoch 55/500\n",
            "98/98 [==============================] - 3s 35ms/step - loss: 1.4825 - acc: 0.3776\n",
            "Epoch 56/500\n",
            "98/98 [==============================] - 3s 35ms/step - loss: 1.4067 - acc: 0.4082\n",
            "Epoch 57/500\n",
            "68/98 [===================>..........] - ETA: 1s - loss: 1.5135 - acc: 0.3235"
          ],
          "name": "stdout"
        },
        {
          "output_type": "stream",
          "text": [
            "98/98 [==============================] - 3s 35ms/step - loss: 1.4743 - acc: 0.3571\n",
            "Epoch 58/500\n",
            "98/98 [==============================] - 3s 35ms/step - loss: 1.4467 - acc: 0.3878\n",
            "Epoch 59/500\n",
            "98/98 [==============================] - 3s 34ms/step - loss: 1.4156 - acc: 0.3571\n",
            "Epoch 60/500\n",
            "98/98 [==============================] - 3s 34ms/step - loss: 1.4391 - acc: 0.3673\n",
            "Epoch 61/500\n",
            "98/98 [==============================] - 3s 34ms/step - loss: 1.3709 - acc: 0.3367\n",
            "Epoch 62/500\n",
            "98/98 [==============================] - 3s 34ms/step - loss: 1.4319 - acc: 0.3776\n",
            "Epoch 63/500\n",
            "98/98 [==============================] - 3s 35ms/step - loss: 1.2672 - acc: 0.4490\n",
            "Epoch 64/500\n",
            "98/98 [==============================] - 3s 35ms/step - loss: 1.3769 - acc: 0.4184\n",
            "Epoch 65/500\n",
            "68/98 [===================>..........] - ETA: 1s - loss: 1.4201 - acc: 0.3676"
          ],
          "name": "stdout"
        },
        {
          "output_type": "stream",
          "text": [
            "98/98 [==============================] - 3s 35ms/step - loss: 1.3956 - acc: 0.3776\n",
            "Epoch 66/500\n",
            "98/98 [==============================] - 3s 35ms/step - loss: 1.4209 - acc: 0.3980\n",
            "Epoch 67/500\n",
            "98/98 [==============================] - 3s 35ms/step - loss: 1.3589 - acc: 0.4286\n",
            "Epoch 68/500\n",
            "98/98 [==============================] - 3s 34ms/step - loss: 1.4148 - acc: 0.3980\n",
            "Epoch 69/500\n",
            "98/98 [==============================] - 3s 35ms/step - loss: 1.3898 - acc: 0.3878\n",
            "Epoch 70/500\n",
            "98/98 [==============================] - 3s 34ms/step - loss: 1.2951 - acc: 0.4694\n",
            "Epoch 71/500\n",
            "98/98 [==============================] - 3s 34ms/step - loss: 1.3730 - acc: 0.4184\n",
            "Epoch 72/500\n",
            "98/98 [==============================] - 3s 34ms/step - loss: 1.3129 - acc: 0.4490\n",
            "Epoch 73/500\n",
            "68/98 [===================>..........] - ETA: 1s - loss: 1.5524 - acc: 0.4412"
          ],
          "name": "stdout"
        },
        {
          "output_type": "stream",
          "text": [
            "98/98 [==============================] - 3s 34ms/step - loss: 1.3989 - acc: 0.5000\n",
            "Epoch 74/500\n",
            "98/98 [==============================] - 3s 35ms/step - loss: 1.2799 - acc: 0.5000\n",
            "Epoch 75/500\n",
            "98/98 [==============================] - 3s 35ms/step - loss: 1.3620 - acc: 0.4184\n",
            "Epoch 76/500\n",
            "98/98 [==============================] - 3s 34ms/step - loss: 1.3226 - acc: 0.4184\n",
            "Epoch 77/500\n",
            "98/98 [==============================] - 3s 34ms/step - loss: 1.3649 - acc: 0.4286\n",
            "Epoch 78/500\n",
            "98/98 [==============================] - 3s 34ms/step - loss: 1.2617 - acc: 0.3878\n",
            "Epoch 79/500\n",
            "98/98 [==============================] - 3s 34ms/step - loss: 1.2856 - acc: 0.3980\n",
            "Epoch 80/500\n",
            "98/98 [==============================] - 3s 35ms/step - loss: 1.2510 - acc: 0.4592\n",
            "Epoch 81/500\n",
            "68/98 [===================>..........] - ETA: 1s - loss: 1.2444 - acc: 0.4853"
          ],
          "name": "stdout"
        },
        {
          "output_type": "stream",
          "text": [
            "98/98 [==============================] - 3s 34ms/step - loss: 1.2380 - acc: 0.4898\n",
            "Epoch 82/500\n",
            "98/98 [==============================] - 3s 35ms/step - loss: 1.2255 - acc: 0.4796\n",
            "Epoch 83/500\n",
            "98/98 [==============================] - 3s 34ms/step - loss: 1.1627 - acc: 0.5408\n",
            "Epoch 84/500\n",
            "98/98 [==============================] - 3s 35ms/step - loss: 1.1993 - acc: 0.5000\n",
            "Epoch 85/500\n",
            "98/98 [==============================] - 3s 35ms/step - loss: 1.2425 - acc: 0.4592\n",
            "Epoch 86/500\n",
            "98/98 [==============================] - 3s 35ms/step - loss: 1.1795 - acc: 0.5510\n",
            "Epoch 87/500\n",
            "98/98 [==============================] - 3s 35ms/step - loss: 1.3198 - acc: 0.4694\n",
            "Epoch 88/500\n",
            "98/98 [==============================] - 3s 35ms/step - loss: 1.3641 - acc: 0.4898\n",
            "Epoch 89/500\n",
            "68/98 [===================>..........] - ETA: 1s - loss: 1.2518 - acc: 0.5000"
          ],
          "name": "stdout"
        },
        {
          "output_type": "stream",
          "text": [
            "98/98 [==============================] - 3s 35ms/step - loss: 1.2317 - acc: 0.4796\n",
            "Epoch 90/500\n",
            "98/98 [==============================] - 3s 35ms/step - loss: 1.2043 - acc: 0.5102\n",
            "Epoch 91/500\n",
            "98/98 [==============================] - 3s 34ms/step - loss: 1.2934 - acc: 0.4898\n",
            "Epoch 92/500\n",
            "98/98 [==============================] - 3s 35ms/step - loss: 1.3787 - acc: 0.4796\n",
            "Epoch 93/500\n",
            "98/98 [==============================] - 3s 35ms/step - loss: 1.0593 - acc: 0.6122\n",
            "Epoch 94/500\n",
            "98/98 [==============================] - 3s 34ms/step - loss: 1.4887 - acc: 0.3980\n",
            "Epoch 95/500\n",
            "98/98 [==============================] - 3s 34ms/step - loss: 1.1719 - acc: 0.5102\n",
            "Epoch 96/500\n",
            "98/98 [==============================] - 3s 34ms/step - loss: 1.2928 - acc: 0.5510\n",
            "Epoch 97/500\n",
            "68/98 [===================>..........] - ETA: 1s - loss: 1.1146 - acc: 0.5588"
          ],
          "name": "stdout"
        },
        {
          "output_type": "stream",
          "text": [
            "98/98 [==============================] - 3s 35ms/step - loss: 1.1814 - acc: 0.5408\n",
            "Epoch 98/500\n",
            "98/98 [==============================] - 3s 35ms/step - loss: 1.0191 - acc: 0.6224\n",
            "Epoch 99/500\n",
            "98/98 [==============================] - 3s 35ms/step - loss: 1.3343 - acc: 0.4694\n",
            "Epoch 100/500\n",
            "98/98 [==============================] - 3s 35ms/step - loss: 1.1503 - acc: 0.5408\n",
            "Epoch 101/500\n",
            "98/98 [==============================] - 3s 35ms/step - loss: 1.0969 - acc: 0.5408\n",
            "Epoch 102/500\n",
            "98/98 [==============================] - 3s 35ms/step - loss: 1.2029 - acc: 0.5918\n",
            "Epoch 103/500\n",
            "98/98 [==============================] - 3s 35ms/step - loss: 1.2266 - acc: 0.5102\n",
            "Epoch 104/500\n",
            "98/98 [==============================] - 3s 34ms/step - loss: 1.1413 - acc: 0.5612\n",
            "Epoch 105/500\n",
            "68/98 [===================>..........] - ETA: 1s - loss: 1.2212 - acc: 0.5441"
          ],
          "name": "stdout"
        },
        {
          "output_type": "stream",
          "text": [
            "98/98 [==============================] - 3s 34ms/step - loss: 1.1650 - acc: 0.5612\n",
            "Epoch 106/500\n",
            "98/98 [==============================] - 3s 35ms/step - loss: 1.1540 - acc: 0.5612\n",
            "Epoch 107/500\n",
            "98/98 [==============================] - 3s 34ms/step - loss: 1.1913 - acc: 0.5102\n",
            "Epoch 108/500\n",
            "98/98 [==============================] - 3s 34ms/step - loss: 1.1252 - acc: 0.5102\n",
            "Epoch 109/500\n",
            "98/98 [==============================] - 3s 35ms/step - loss: 1.0973 - acc: 0.5612\n",
            "Epoch 110/500\n",
            "98/98 [==============================] - 3s 35ms/step - loss: 1.0145 - acc: 0.6020\n",
            "Epoch 111/500\n",
            "98/98 [==============================] - 3s 35ms/step - loss: 1.0346 - acc: 0.6122\n",
            "Epoch 112/500\n",
            "98/98 [==============================] - 3s 35ms/step - loss: 1.0945 - acc: 0.5612\n",
            "Epoch 113/500\n",
            "64/98 [==================>...........] - ETA: 1s - loss: 1.1282 - acc: 0.5781"
          ],
          "name": "stdout"
        },
        {
          "output_type": "stream",
          "text": [
            "98/98 [==============================] - 3s 35ms/step - loss: 1.1011 - acc: 0.5816\n",
            "Epoch 114/500\n",
            "98/98 [==============================] - 3s 35ms/step - loss: 1.0236 - acc: 0.6122\n",
            "Epoch 115/500\n",
            "98/98 [==============================] - 3s 35ms/step - loss: 1.0335 - acc: 0.5714\n",
            "Epoch 116/500\n",
            "98/98 [==============================] - 3s 35ms/step - loss: 1.0952 - acc: 0.5408\n",
            "Epoch 117/500\n",
            "98/98 [==============================] - 3s 35ms/step - loss: 1.0701 - acc: 0.5612\n",
            "Epoch 118/500\n",
            "98/98 [==============================] - 3s 35ms/step - loss: 1.0653 - acc: 0.5408\n",
            "Epoch 119/500\n",
            "98/98 [==============================] - 3s 35ms/step - loss: 1.2674 - acc: 0.5102\n",
            "Epoch 120/500\n",
            "98/98 [==============================] - 3s 35ms/step - loss: 0.9512 - acc: 0.6429\n",
            "Epoch 121/500\n",
            "64/98 [==================>...........] - ETA: 1s - loss: 0.9894 - acc: 0.6562"
          ],
          "name": "stdout"
        },
        {
          "output_type": "stream",
          "text": [
            "98/98 [==============================] - 3s 35ms/step - loss: 0.9808 - acc: 0.6327\n",
            "Epoch 122/500\n",
            "98/98 [==============================] - 3s 35ms/step - loss: 1.0098 - acc: 0.6224\n",
            "Epoch 123/500\n",
            "98/98 [==============================] - 3s 35ms/step - loss: 0.9393 - acc: 0.6531\n",
            "Epoch 124/500\n",
            "98/98 [==============================] - 3s 35ms/step - loss: 0.9640 - acc: 0.6224\n",
            "Epoch 125/500\n",
            "98/98 [==============================] - 3s 35ms/step - loss: 0.9570 - acc: 0.6429\n",
            "Epoch 126/500\n",
            "98/98 [==============================] - 3s 35ms/step - loss: 0.8311 - acc: 0.7041\n",
            "Epoch 127/500\n",
            "98/98 [==============================] - 3s 35ms/step - loss: 0.9459 - acc: 0.6531\n",
            "Epoch 128/500\n",
            "98/98 [==============================] - 3s 35ms/step - loss: 0.9314 - acc: 0.6224\n",
            "Epoch 129/500\n",
            "64/98 [==================>...........] - ETA: 1s - loss: 0.9611 - acc: 0.5938"
          ],
          "name": "stdout"
        },
        {
          "output_type": "stream",
          "text": [
            "98/98 [==============================] - 3s 35ms/step - loss: 0.9926 - acc: 0.6020\n",
            "Epoch 130/500\n",
            "98/98 [==============================] - 3s 35ms/step - loss: 0.7486 - acc: 0.7041\n",
            "Epoch 131/500\n",
            "98/98 [==============================] - 3s 35ms/step - loss: 0.8927 - acc: 0.6633\n",
            "Epoch 132/500\n",
            "98/98 [==============================] - 3s 35ms/step - loss: 0.8895 - acc: 0.6327\n",
            "Epoch 133/500\n",
            "98/98 [==============================] - 3s 35ms/step - loss: 0.7468 - acc: 0.7551\n",
            "Epoch 134/500\n",
            "98/98 [==============================] - 3s 35ms/step - loss: 0.8378 - acc: 0.6837\n",
            "Epoch 135/500\n",
            "98/98 [==============================] - 3s 35ms/step - loss: 0.7953 - acc: 0.7449\n",
            "Epoch 136/500\n",
            "98/98 [==============================] - 3s 35ms/step - loss: 0.8858 - acc: 0.6735\n",
            "Epoch 137/500\n",
            "64/98 [==================>...........] - ETA: 1s - loss: 0.7141 - acc: 0.7812"
          ],
          "name": "stdout"
        },
        {
          "output_type": "stream",
          "text": [
            "98/98 [==============================] - 3s 35ms/step - loss: 0.7845 - acc: 0.7245\n",
            "Epoch 138/500\n",
            "98/98 [==============================] - 3s 35ms/step - loss: 0.8479 - acc: 0.6531\n",
            "Epoch 139/500\n",
            "98/98 [==============================] - 3s 35ms/step - loss: 0.7124 - acc: 0.7449\n",
            "Epoch 140/500\n",
            "98/98 [==============================] - 3s 35ms/step - loss: 0.8759 - acc: 0.6224\n",
            "Epoch 141/500\n",
            "98/98 [==============================] - 3s 35ms/step - loss: 0.8721 - acc: 0.7041\n",
            "Epoch 142/500\n",
            "98/98 [==============================] - 3s 35ms/step - loss: 0.6493 - acc: 0.7449\n",
            "Epoch 143/500\n",
            "98/98 [==============================] - 3s 35ms/step - loss: 0.8444 - acc: 0.6531\n",
            "Epoch 144/500\n",
            "98/98 [==============================] - 3s 35ms/step - loss: 0.8726 - acc: 0.6735\n",
            "Epoch 145/500\n",
            "64/98 [==================>...........] - ETA: 1s - loss: 0.7770 - acc: 0.7500"
          ],
          "name": "stdout"
        },
        {
          "output_type": "stream",
          "text": [
            "98/98 [==============================] - 3s 35ms/step - loss: 0.8288 - acc: 0.7245\n",
            "Epoch 146/500\n",
            "98/98 [==============================] - 3s 35ms/step - loss: 0.8789 - acc: 0.6837\n",
            "Epoch 147/500\n",
            "98/98 [==============================] - 3s 35ms/step - loss: 0.6629 - acc: 0.7449\n",
            "Epoch 148/500\n",
            "98/98 [==============================] - 3s 35ms/step - loss: 0.8808 - acc: 0.6531\n",
            "Epoch 149/500\n",
            "98/98 [==============================] - 3s 35ms/step - loss: 0.6514 - acc: 0.7347\n",
            "Epoch 150/500\n",
            "98/98 [==============================] - 3s 35ms/step - loss: 0.7695 - acc: 0.6633\n",
            "Epoch 151/500\n",
            "98/98 [==============================] - 3s 35ms/step - loss: 0.8772 - acc: 0.6327\n",
            "Epoch 152/500\n",
            "98/98 [==============================] - 3s 35ms/step - loss: 0.7456 - acc: 0.7041\n",
            "Epoch 153/500\n",
            "64/98 [==================>...........] - ETA: 1s - loss: 0.7113 - acc: 0.7031"
          ],
          "name": "stdout"
        },
        {
          "output_type": "stream",
          "text": [
            "98/98 [==============================] - 3s 35ms/step - loss: 0.7341 - acc: 0.7041\n",
            "Epoch 154/500\n",
            "98/98 [==============================] - 3s 35ms/step - loss: 0.7360 - acc: 0.7245\n",
            "Epoch 155/500\n",
            "98/98 [==============================] - 3s 35ms/step - loss: 0.6871 - acc: 0.7041\n",
            "Epoch 156/500\n",
            "98/98 [==============================] - 3s 35ms/step - loss: 0.7677 - acc: 0.7449\n",
            "Epoch 157/500\n",
            "98/98 [==============================] - 3s 35ms/step - loss: 0.8024 - acc: 0.6531\n",
            "Epoch 158/500\n",
            "98/98 [==============================] - 3s 35ms/step - loss: 0.7065 - acc: 0.7041\n",
            "Epoch 159/500\n",
            "98/98 [==============================] - 3s 35ms/step - loss: 0.6808 - acc: 0.7347\n",
            "Epoch 160/500\n",
            "98/98 [==============================] - 3s 35ms/step - loss: 0.5447 - acc: 0.8265\n",
            "Epoch 161/500\n",
            "64/98 [==================>...........] - ETA: 1s - loss: 0.6191 - acc: 0.7812"
          ],
          "name": "stdout"
        },
        {
          "output_type": "stream",
          "text": [
            "98/98 [==============================] - 3s 35ms/step - loss: 0.6119 - acc: 0.7857\n",
            "Epoch 162/500\n",
            "98/98 [==============================] - 3s 35ms/step - loss: 0.6650 - acc: 0.7653\n",
            "Epoch 163/500\n",
            "98/98 [==============================] - 3s 35ms/step - loss: 0.8196 - acc: 0.7245\n",
            "Epoch 164/500\n",
            "98/98 [==============================] - 3s 35ms/step - loss: 0.8914 - acc: 0.7143\n",
            "Epoch 165/500\n",
            "98/98 [==============================] - 3s 35ms/step - loss: 0.5778 - acc: 0.8265\n",
            "Epoch 166/500\n",
            "98/98 [==============================] - 3s 35ms/step - loss: 0.4954 - acc: 0.8571\n",
            "Epoch 167/500\n",
            "98/98 [==============================] - 3s 35ms/step - loss: 0.6651 - acc: 0.7755\n",
            "Epoch 168/500\n",
            "98/98 [==============================] - 3s 35ms/step - loss: 0.8059 - acc: 0.7245\n",
            "Epoch 169/500\n",
            "64/98 [==================>...........] - ETA: 1s - loss: 0.6840 - acc: 0.7344"
          ],
          "name": "stdout"
        },
        {
          "output_type": "stream",
          "text": [
            "98/98 [==============================] - 3s 36ms/step - loss: 0.6666 - acc: 0.7551\n",
            "Epoch 170/500\n",
            "98/98 [==============================] - 4s 36ms/step - loss: 1.0525 - acc: 0.6633\n",
            "Epoch 171/500\n",
            "98/98 [==============================] - 3s 35ms/step - loss: 0.7004 - acc: 0.7347\n",
            "Epoch 172/500\n",
            "98/98 [==============================] - 3s 35ms/step - loss: 0.5765 - acc: 0.8163\n",
            "Epoch 173/500\n",
            "98/98 [==============================] - 3s 35ms/step - loss: 0.6837 - acc: 0.7449\n",
            "Epoch 174/500\n",
            "98/98 [==============================] - 3s 35ms/step - loss: 0.5931 - acc: 0.7755\n",
            "Epoch 175/500\n",
            "98/98 [==============================] - 3s 35ms/step - loss: 0.4997 - acc: 0.8571\n",
            "Epoch 176/500\n",
            "98/98 [==============================] - 3s 35ms/step - loss: 0.5969 - acc: 0.8469\n",
            "Epoch 177/500\n",
            "64/98 [==================>...........] - ETA: 1s - loss: 0.5289 - acc: 0.7500"
          ],
          "name": "stdout"
        },
        {
          "output_type": "stream",
          "text": [
            "98/98 [==============================] - 3s 35ms/step - loss: 0.5687 - acc: 0.7347\n",
            "Epoch 178/500\n",
            "98/98 [==============================] - 3s 35ms/step - loss: 0.4721 - acc: 0.8265\n",
            "Epoch 179/500\n",
            "98/98 [==============================] - 3s 35ms/step - loss: 0.6138 - acc: 0.7755\n",
            "Epoch 180/500\n",
            "98/98 [==============================] - 3s 35ms/step - loss: 0.5326 - acc: 0.8265\n",
            "Epoch 181/500\n",
            "98/98 [==============================] - 3s 35ms/step - loss: 0.9427 - acc: 0.6122\n",
            "Epoch 182/500\n",
            "98/98 [==============================] - 3s 35ms/step - loss: 0.4924 - acc: 0.8061\n",
            "Epoch 183/500\n",
            "98/98 [==============================] - 3s 35ms/step - loss: 0.4760 - acc: 0.8265\n",
            "Epoch 184/500\n",
            "98/98 [==============================] - 3s 35ms/step - loss: 0.8722 - acc: 0.7449\n",
            "Epoch 185/500\n",
            "64/98 [==================>...........] - ETA: 1s - loss: 0.6696 - acc: 0.8594"
          ],
          "name": "stdout"
        },
        {
          "output_type": "stream",
          "text": [
            "98/98 [==============================] - 3s 35ms/step - loss: 0.7252 - acc: 0.8163\n",
            "Epoch 186/500\n",
            "98/98 [==============================] - 3s 35ms/step - loss: 0.4119 - acc: 0.8980\n",
            "Epoch 187/500\n",
            "98/98 [==============================] - 3s 35ms/step - loss: 0.8594 - acc: 0.6735\n",
            "Epoch 188/500\n",
            "98/98 [==============================] - 3s 35ms/step - loss: 0.4505 - acc: 0.8469\n",
            "Epoch 189/500\n",
            "98/98 [==============================] - 3s 35ms/step - loss: 0.5033 - acc: 0.8163\n",
            "Epoch 190/500\n",
            "98/98 [==============================] - 3s 35ms/step - loss: 0.5342 - acc: 0.7755\n",
            "Epoch 191/500\n",
            "98/98 [==============================] - 3s 35ms/step - loss: 0.4819 - acc: 0.7959\n",
            "Epoch 192/500\n",
            "98/98 [==============================] - 3s 35ms/step - loss: 0.6238 - acc: 0.7959\n",
            "Epoch 193/500\n",
            "64/98 [==================>...........] - ETA: 1s - loss: 0.7360 - acc: 0.7188"
          ],
          "name": "stdout"
        },
        {
          "output_type": "stream",
          "text": [
            "98/98 [==============================] - 3s 35ms/step - loss: 0.6049 - acc: 0.7653\n",
            "Epoch 194/500\n",
            "98/98 [==============================] - 3s 35ms/step - loss: 0.4886 - acc: 0.8265\n",
            "Epoch 195/500\n",
            "98/98 [==============================] - 3s 35ms/step - loss: 0.6486 - acc: 0.7653\n",
            "Epoch 196/500\n",
            "98/98 [==============================] - 3s 35ms/step - loss: 0.4252 - acc: 0.8265\n",
            "Epoch 197/500\n",
            "98/98 [==============================] - 3s 35ms/step - loss: 0.4857 - acc: 0.8469\n",
            "Epoch 198/500\n",
            "98/98 [==============================] - 3s 35ms/step - loss: 0.4785 - acc: 0.8673\n",
            "Epoch 199/500\n",
            "98/98 [==============================] - 3s 35ms/step - loss: 0.5536 - acc: 0.8163\n",
            "Epoch 200/500\n",
            "98/98 [==============================] - 3s 35ms/step - loss: 0.5508 - acc: 0.7857\n",
            "Epoch 201/500\n",
            "64/98 [==================>...........] - ETA: 1s - loss: 0.4639 - acc: 0.8594"
          ],
          "name": "stdout"
        },
        {
          "output_type": "stream",
          "text": [
            "98/98 [==============================] - 3s 35ms/step - loss: 0.5024 - acc: 0.8163\n",
            "Epoch 202/500\n",
            "98/98 [==============================] - 3s 35ms/step - loss: 0.3734 - acc: 0.8980\n",
            "Epoch 203/500\n",
            "98/98 [==============================] - 3s 35ms/step - loss: 0.5057 - acc: 0.7959\n",
            "Epoch 204/500\n",
            "98/98 [==============================] - 3s 35ms/step - loss: 0.6076 - acc: 0.8061\n",
            "Epoch 205/500\n",
            "98/98 [==============================] - 3s 35ms/step - loss: 0.3435 - acc: 0.8571\n",
            "Epoch 206/500\n",
            "98/98 [==============================] - 3s 35ms/step - loss: 0.4507 - acc: 0.8367\n",
            "Epoch 207/500\n",
            "98/98 [==============================] - 3s 35ms/step - loss: 0.4896 - acc: 0.8163\n",
            "Epoch 208/500\n",
            "98/98 [==============================] - 3s 35ms/step - loss: 0.4639 - acc: 0.8265\n",
            "Epoch 209/500\n",
            "64/98 [==================>...........] - ETA: 1s - loss: 1.0538 - acc: 0.6406"
          ],
          "name": "stdout"
        },
        {
          "output_type": "stream",
          "text": [
            "98/98 [==============================] - 3s 35ms/step - loss: 0.9266 - acc: 0.6735\n",
            "Epoch 210/500\n",
            "98/98 [==============================] - 3s 35ms/step - loss: 0.6354 - acc: 0.7959\n",
            "Epoch 211/500\n",
            "98/98 [==============================] - 3s 35ms/step - loss: 0.4007 - acc: 0.8673\n",
            "Epoch 212/500\n",
            "98/98 [==============================] - 3s 35ms/step - loss: 0.4364 - acc: 0.8469\n",
            "Epoch 213/500\n",
            "98/98 [==============================] - 3s 35ms/step - loss: 0.6646 - acc: 0.7347\n",
            "Epoch 214/500\n",
            "98/98 [==============================] - 3s 35ms/step - loss: 0.8357 - acc: 0.7551\n",
            "Epoch 215/500\n",
            "98/98 [==============================] - 3s 35ms/step - loss: 0.4998 - acc: 0.8367\n",
            "Epoch 216/500\n",
            "98/98 [==============================] - 3s 35ms/step - loss: 0.5337 - acc: 0.8163\n",
            "Epoch 217/500\n",
            "64/98 [==================>...........] - ETA: 1s - loss: 0.4659 - acc: 0.8281"
          ],
          "name": "stdout"
        },
        {
          "output_type": "stream",
          "text": [
            "98/98 [==============================] - 3s 35ms/step - loss: 0.4820 - acc: 0.8265\n",
            "Epoch 218/500\n",
            "98/98 [==============================] - 3s 35ms/step - loss: 0.8191 - acc: 0.7143\n",
            "Epoch 219/500\n",
            "98/98 [==============================] - 3s 35ms/step - loss: 0.4046 - acc: 0.8469\n",
            "Epoch 220/500\n",
            "98/98 [==============================] - 3s 35ms/step - loss: 0.3986 - acc: 0.8673\n",
            "Epoch 221/500\n",
            "98/98 [==============================] - 3s 35ms/step - loss: 0.4688 - acc: 0.8163\n",
            "Epoch 222/500\n",
            "98/98 [==============================] - 3s 35ms/step - loss: 0.2637 - acc: 0.8980\n",
            "Epoch 223/500\n",
            "98/98 [==============================] - 3s 35ms/step - loss: 0.7506 - acc: 0.7449\n",
            "Epoch 224/500\n",
            "98/98 [==============================] - 3s 35ms/step - loss: 0.5504 - acc: 0.7857\n",
            "Epoch 225/500\n",
            "64/98 [==================>...........] - ETA: 1s - loss: 0.3228 - acc: 0.9062"
          ],
          "name": "stdout"
        },
        {
          "output_type": "stream",
          "text": [
            "98/98 [==============================] - 3s 35ms/step - loss: 0.3548 - acc: 0.8878\n",
            "Epoch 226/500\n",
            "98/98 [==============================] - 3s 35ms/step - loss: 0.2734 - acc: 0.9082\n",
            "Epoch 227/500\n",
            "98/98 [==============================] - 3s 35ms/step - loss: 0.3415 - acc: 0.8673\n",
            "Epoch 228/500\n",
            "98/98 [==============================] - 4s 36ms/step - loss: 0.5318 - acc: 0.8265\n",
            "Epoch 229/500\n",
            "98/98 [==============================] - 3s 35ms/step - loss: 0.3595 - acc: 0.8878\n",
            "Epoch 230/500\n",
            "98/98 [==============================] - 3s 35ms/step - loss: 0.4965 - acc: 0.8367\n",
            "Epoch 231/500\n",
            "98/98 [==============================] - 3s 35ms/step - loss: 0.2935 - acc: 0.8878\n",
            "Epoch 232/500\n",
            "98/98 [==============================] - 3s 35ms/step - loss: 0.3037 - acc: 0.9082\n",
            "Epoch 233/500\n",
            "64/98 [==================>...........] - ETA: 1s - loss: 0.2491 - acc: 0.9219"
          ],
          "name": "stdout"
        },
        {
          "output_type": "stream",
          "text": [
            "98/98 [==============================] - 3s 35ms/step - loss: 0.5461 - acc: 0.8163\n",
            "Epoch 234/500\n",
            "98/98 [==============================] - 3s 35ms/step - loss: 0.3387 - acc: 0.8980\n",
            "Epoch 235/500\n",
            "98/98 [==============================] - 3s 35ms/step - loss: 0.7734 - acc: 0.7143\n",
            "Epoch 236/500\n",
            "98/98 [==============================] - 3s 35ms/step - loss: 0.5794 - acc: 0.8265\n",
            "Epoch 237/500\n",
            "98/98 [==============================] - 3s 35ms/step - loss: 0.3834 - acc: 0.8673\n",
            "Epoch 238/500\n",
            "98/98 [==============================] - 3s 36ms/step - loss: 0.4181 - acc: 0.8061\n",
            "Epoch 239/500\n",
            "98/98 [==============================] - 3s 35ms/step - loss: 0.5228 - acc: 0.8367\n",
            "Epoch 240/500\n",
            "98/98 [==============================] - 3s 35ms/step - loss: 0.3934 - acc: 0.8878\n",
            "Epoch 241/500\n",
            "64/98 [==================>...........] - ETA: 1s - loss: 0.3330 - acc: 0.8750"
          ],
          "name": "stdout"
        },
        {
          "output_type": "stream",
          "text": [
            "98/98 [==============================] - 3s 35ms/step - loss: 0.4208 - acc: 0.8571\n",
            "Epoch 242/500\n",
            "98/98 [==============================] - 3s 35ms/step - loss: 0.3454 - acc: 0.9082\n",
            "Epoch 243/500\n",
            "98/98 [==============================] - 3s 35ms/step - loss: 0.4003 - acc: 0.8878\n",
            "Epoch 244/500\n",
            "98/98 [==============================] - 3s 35ms/step - loss: 0.1407 - acc: 0.9796\n",
            "Epoch 245/500\n",
            "98/98 [==============================] - 3s 35ms/step - loss: 0.2939 - acc: 0.9082\n",
            "Epoch 246/500\n",
            "98/98 [==============================] - 3s 35ms/step - loss: 0.3640 - acc: 0.8571\n",
            "Epoch 247/500\n",
            "98/98 [==============================] - 3s 35ms/step - loss: 0.2084 - acc: 0.9592\n",
            "Epoch 248/500\n",
            "98/98 [==============================] - 3s 35ms/step - loss: 0.1606 - acc: 0.9796\n",
            "Epoch 249/500\n",
            "64/98 [==================>...........] - ETA: 1s - loss: 0.3059 - acc: 0.8906"
          ],
          "name": "stdout"
        },
        {
          "output_type": "stream",
          "text": [
            "98/98 [==============================] - 3s 35ms/step - loss: 0.3545 - acc: 0.8367\n",
            "Epoch 250/500\n",
            "98/98 [==============================] - 3s 35ms/step - loss: 0.3178 - acc: 0.8776\n",
            "Epoch 251/500\n",
            "98/98 [==============================] - 3s 36ms/step - loss: 0.7330 - acc: 0.7959\n",
            "Epoch 252/500\n",
            "98/98 [==============================] - 3s 35ms/step - loss: 1.5297 - acc: 0.5918\n",
            "Epoch 253/500\n",
            "98/98 [==============================] - 3s 35ms/step - loss: 0.3159 - acc: 0.8673\n",
            "Epoch 254/500\n",
            "98/98 [==============================] - 3s 35ms/step - loss: 0.4198 - acc: 0.8571\n",
            "Epoch 255/500\n",
            "98/98 [==============================] - 3s 35ms/step - loss: 0.4078 - acc: 0.8571\n",
            "Epoch 256/500\n",
            "98/98 [==============================] - 3s 35ms/step - loss: 0.3672 - acc: 0.8878\n",
            "Epoch 257/500\n",
            "64/98 [==================>...........] - ETA: 1s - loss: 0.4095 - acc: 0.8438"
          ],
          "name": "stdout"
        },
        {
          "output_type": "stream",
          "text": [
            "98/98 [==============================] - 3s 35ms/step - loss: 0.3789 - acc: 0.8673\n",
            "Epoch 258/500\n",
            "98/98 [==============================] - 3s 35ms/step - loss: 0.5855 - acc: 0.8673\n",
            "Epoch 259/500\n",
            "98/98 [==============================] - 3s 35ms/step - loss: 0.5614 - acc: 0.7449\n",
            "Epoch 260/500\n",
            "98/98 [==============================] - 3s 35ms/step - loss: 0.4211 - acc: 0.8265\n",
            "Epoch 261/500\n",
            "98/98 [==============================] - 3s 35ms/step - loss: 0.3881 - acc: 0.8367\n",
            "Epoch 262/500\n",
            "98/98 [==============================] - 3s 35ms/step - loss: 0.4902 - acc: 0.8367\n",
            "Epoch 263/500\n",
            "98/98 [==============================] - 3s 35ms/step - loss: 0.3463 - acc: 0.8673\n",
            "Epoch 264/500\n",
            "98/98 [==============================] - 3s 35ms/step - loss: 0.2642 - acc: 0.8878\n",
            "Epoch 265/500\n",
            "64/98 [==================>...........] - ETA: 1s - loss: 0.4465 - acc: 0.8750"
          ],
          "name": "stdout"
        },
        {
          "output_type": "stream",
          "text": [
            "98/98 [==============================] - 3s 35ms/step - loss: 0.4060 - acc: 0.8776\n",
            "Epoch 266/500\n",
            "98/98 [==============================] - 3s 35ms/step - loss: 0.1813 - acc: 0.9490\n",
            "Epoch 267/500\n",
            "98/98 [==============================] - 3s 35ms/step - loss: 0.8614 - acc: 0.7551\n",
            "Epoch 268/500\n",
            "98/98 [==============================] - 3s 35ms/step - loss: 0.4972 - acc: 0.8367\n",
            "Epoch 269/500\n",
            "98/98 [==============================] - 3s 35ms/step - loss: 0.2384 - acc: 0.8980\n",
            "Epoch 270/500\n",
            "98/98 [==============================] - 3s 35ms/step - loss: 1.0203 - acc: 0.7245\n",
            "Epoch 271/500\n",
            "98/98 [==============================] - 3s 35ms/step - loss: 0.7059 - acc: 0.8163\n",
            "Epoch 272/500\n",
            "98/98 [==============================] - 3s 35ms/step - loss: 0.6291 - acc: 0.7755\n",
            "Epoch 273/500\n",
            "64/98 [==================>...........] - ETA: 1s - loss: 0.1700 - acc: 0.9531"
          ],
          "name": "stdout"
        },
        {
          "output_type": "stream",
          "text": [
            "98/98 [==============================] - 3s 35ms/step - loss: 0.1588 - acc: 0.9490\n",
            "Epoch 274/500\n",
            "98/98 [==============================] - 3s 35ms/step - loss: 0.2450 - acc: 0.9184\n",
            "Epoch 275/500\n",
            "98/98 [==============================] - 3s 35ms/step - loss: 0.3376 - acc: 0.8571\n",
            "Epoch 276/500\n",
            "98/98 [==============================] - 3s 35ms/step - loss: 0.1787 - acc: 0.9694\n",
            "Epoch 277/500\n",
            "98/98 [==============================] - 3s 35ms/step - loss: 0.2989 - acc: 0.9082\n",
            "Epoch 278/500\n",
            "98/98 [==============================] - 3s 35ms/step - loss: 0.3343 - acc: 0.9184\n",
            "Epoch 279/500\n",
            "98/98 [==============================] - 3s 35ms/step - loss: 0.3021 - acc: 0.8776\n",
            "Epoch 280/500\n",
            "98/98 [==============================] - 3s 35ms/step - loss: 0.3976 - acc: 0.8878\n",
            "Epoch 281/500\n",
            "64/98 [==================>...........] - ETA: 1s - loss: 0.0913 - acc: 1.0000"
          ],
          "name": "stdout"
        },
        {
          "output_type": "stream",
          "text": [
            "98/98 [==============================] - 3s 35ms/step - loss: 0.1580 - acc: 0.9694\n",
            "Epoch 282/500\n",
            "98/98 [==============================] - 3s 35ms/step - loss: 0.1985 - acc: 0.9388\n",
            "Epoch 283/500\n",
            "98/98 [==============================] - 3s 35ms/step - loss: 0.1419 - acc: 0.9490\n",
            "Epoch 284/500\n",
            "98/98 [==============================] - 3s 35ms/step - loss: 0.6143 - acc: 0.8061\n",
            "Epoch 285/500\n",
            "98/98 [==============================] - 3s 35ms/step - loss: 0.2395 - acc: 0.9082\n",
            "Epoch 286/500\n",
            "98/98 [==============================] - 3s 35ms/step - loss: 0.2104 - acc: 0.9286\n",
            "Epoch 287/500\n",
            "98/98 [==============================] - 3s 35ms/step - loss: 0.1842 - acc: 0.9592\n",
            "Epoch 288/500\n",
            "98/98 [==============================] - 3s 35ms/step - loss: 0.4624 - acc: 0.8469\n",
            "Epoch 289/500\n",
            "64/98 [==================>...........] - ETA: 1s - loss: 0.2268 - acc: 0.9531"
          ],
          "name": "stdout"
        },
        {
          "output_type": "stream",
          "text": [
            "98/98 [==============================] - 3s 35ms/step - loss: 0.2074 - acc: 0.9388\n",
            "Epoch 290/500\n",
            "98/98 [==============================] - 3s 35ms/step - loss: 0.1498 - acc: 0.9490\n",
            "Epoch 291/500\n",
            "98/98 [==============================] - 3s 36ms/step - loss: 0.5161 - acc: 0.8265\n",
            "Epoch 292/500\n",
            "98/98 [==============================] - 3s 35ms/step - loss: 0.5684 - acc: 0.8265\n",
            "Epoch 293/500\n",
            "98/98 [==============================] - 3s 35ms/step - loss: 0.4290 - acc: 0.8571\n",
            "Epoch 294/500\n",
            "98/98 [==============================] - 3s 35ms/step - loss: 0.4702 - acc: 0.8776\n",
            "Epoch 295/500\n",
            "98/98 [==============================] - 3s 35ms/step - loss: 0.3380 - acc: 0.8878\n",
            "Epoch 296/500\n",
            "98/98 [==============================] - 3s 35ms/step - loss: 0.3704 - acc: 0.8673\n",
            "Epoch 297/500\n",
            "64/98 [==================>...........] - ETA: 1s - loss: 0.4296 - acc: 0.8906"
          ],
          "name": "stdout"
        },
        {
          "output_type": "stream",
          "text": [
            "98/98 [==============================] - 3s 35ms/step - loss: 0.3720 - acc: 0.9082\n",
            "Epoch 298/500\n",
            "98/98 [==============================] - 3s 34ms/step - loss: 0.2940 - acc: 0.9388\n",
            "Epoch 299/500\n",
            "98/98 [==============================] - 3s 35ms/step - loss: 0.1530 - acc: 0.9592\n",
            "Epoch 300/500\n",
            "98/98 [==============================] - 3s 35ms/step - loss: 0.3722 - acc: 0.8776\n",
            "Epoch 301/500\n",
            "98/98 [==============================] - 3s 35ms/step - loss: 0.1605 - acc: 0.9592\n",
            "Epoch 302/500\n",
            "98/98 [==============================] - 3s 35ms/step - loss: 0.2469 - acc: 0.9286\n",
            "Epoch 303/500\n",
            "98/98 [==============================] - 3s 35ms/step - loss: 0.1816 - acc: 0.9490\n",
            "Epoch 304/500\n",
            "98/98 [==============================] - 3s 35ms/step - loss: 0.3309 - acc: 0.8673\n",
            "Epoch 305/500\n",
            "64/98 [==================>...........] - ETA: 1s - loss: 0.0488 - acc: 1.0000"
          ],
          "name": "stdout"
        },
        {
          "output_type": "stream",
          "text": [
            "98/98 [==============================] - 3s 35ms/step - loss: 0.0681 - acc: 0.9898\n",
            "Epoch 306/500\n",
            "98/98 [==============================] - 3s 35ms/step - loss: 0.2460 - acc: 0.9388\n",
            "Epoch 307/500\n",
            "98/98 [==============================] - 3s 34ms/step - loss: 0.9279 - acc: 0.6939\n",
            "Epoch 308/500\n",
            "98/98 [==============================] - 3s 35ms/step - loss: 0.1018 - acc: 0.9796\n",
            "Epoch 309/500\n",
            "98/98 [==============================] - 3s 35ms/step - loss: 0.2067 - acc: 0.9388\n",
            "Epoch 310/500\n",
            "98/98 [==============================] - 3s 35ms/step - loss: 0.3791 - acc: 0.8776\n",
            "Epoch 311/500\n",
            "98/98 [==============================] - 3s 35ms/step - loss: 0.2595 - acc: 0.9286\n",
            "Epoch 312/500\n",
            "98/98 [==============================] - 3s 35ms/step - loss: 0.4411 - acc: 0.8265\n",
            "Epoch 313/500\n",
            "64/98 [==================>...........] - ETA: 1s - loss: 0.2477 - acc: 0.9219"
          ],
          "name": "stdout"
        },
        {
          "output_type": "stream",
          "text": [
            "98/98 [==============================] - 3s 35ms/step - loss: 0.2950 - acc: 0.9184\n",
            "Epoch 314/500\n",
            "98/98 [==============================] - 3s 35ms/step - loss: 1.4093 - acc: 0.7143\n",
            "Epoch 315/500\n",
            "98/98 [==============================] - 3s 35ms/step - loss: 1.6738 - acc: 0.6122\n",
            "Epoch 316/500\n",
            "98/98 [==============================] - 3s 35ms/step - loss: 0.3248 - acc: 0.8776\n",
            "Epoch 317/500\n",
            "98/98 [==============================] - 3s 35ms/step - loss: 0.3306 - acc: 0.8980\n",
            "Epoch 318/500\n",
            "98/98 [==============================] - 3s 35ms/step - loss: 0.1792 - acc: 0.9592\n",
            "Epoch 319/500\n",
            "98/98 [==============================] - 3s 35ms/step - loss: 0.2024 - acc: 0.9388\n",
            "Epoch 320/500\n",
            "98/98 [==============================] - 3s 35ms/step - loss: 0.1000 - acc: 0.9796\n",
            "Epoch 321/500\n",
            "64/98 [==================>...........] - ETA: 1s - loss: 0.0912 - acc: 0.9688"
          ],
          "name": "stdout"
        },
        {
          "output_type": "stream",
          "text": [
            "98/98 [==============================] - 3s 35ms/step - loss: 0.0815 - acc: 0.9796\n",
            "Epoch 322/500\n",
            "98/98 [==============================] - 3s 35ms/step - loss: 0.1864 - acc: 0.9286\n",
            "Epoch 323/500\n",
            "98/98 [==============================] - 3s 35ms/step - loss: 0.2219 - acc: 0.9286\n",
            "Epoch 324/500\n",
            "98/98 [==============================] - 3s 35ms/step - loss: 0.6505 - acc: 0.8367\n",
            "Epoch 325/500\n",
            "98/98 [==============================] - 3s 35ms/step - loss: 0.2543 - acc: 0.8980\n",
            "Epoch 326/500\n",
            "98/98 [==============================] - 3s 35ms/step - loss: 0.1870 - acc: 0.9388\n",
            "Epoch 327/500\n",
            "98/98 [==============================] - 3s 35ms/step - loss: 0.1497 - acc: 0.9796\n",
            "Epoch 328/500\n",
            "98/98 [==============================] - 3s 35ms/step - loss: 0.3237 - acc: 0.8776\n",
            "Epoch 329/500\n",
            "64/98 [==================>...........] - ETA: 1s - loss: 0.1074 - acc: 0.9844"
          ],
          "name": "stdout"
        },
        {
          "output_type": "stream",
          "text": [
            "98/98 [==============================] - 3s 35ms/step - loss: 0.1177 - acc: 0.9796\n",
            "Epoch 330/500\n",
            "98/98 [==============================] - 3s 35ms/step - loss: 0.0843 - acc: 0.9694\n",
            "Epoch 331/500\n",
            "98/98 [==============================] - 3s 35ms/step - loss: 0.1591 - acc: 0.9592\n",
            "Epoch 332/500\n",
            "98/98 [==============================] - 3s 35ms/step - loss: 0.1286 - acc: 0.9592\n",
            "Epoch 333/500\n",
            "98/98 [==============================] - 3s 35ms/step - loss: 0.3968 - acc: 0.8980\n",
            "Epoch 334/500\n",
            "98/98 [==============================] - 3s 35ms/step - loss: 0.1889 - acc: 0.9082\n",
            "Epoch 335/500\n",
            "98/98 [==============================] - 3s 35ms/step - loss: 0.1514 - acc: 0.9694\n",
            "Epoch 336/500\n",
            "98/98 [==============================] - 3s 35ms/step - loss: 0.2045 - acc: 0.9592\n",
            "Epoch 337/500\n",
            "64/98 [==================>...........] - ETA: 1s - loss: 0.3405 - acc: 0.8906"
          ],
          "name": "stdout"
        },
        {
          "output_type": "stream",
          "text": [
            "98/98 [==============================] - 3s 35ms/step - loss: 0.2734 - acc: 0.9286\n",
            "Epoch 338/500\n",
            "98/98 [==============================] - 3s 35ms/step - loss: 0.3760 - acc: 0.9184\n",
            "Epoch 339/500\n",
            "98/98 [==============================] - 3s 35ms/step - loss: 0.5786 - acc: 0.8571\n",
            "Epoch 340/500\n",
            "98/98 [==============================] - 3s 35ms/step - loss: 0.3256 - acc: 0.9082\n",
            "Epoch 341/500\n",
            "98/98 [==============================] - 3s 35ms/step - loss: 0.2325 - acc: 0.9286\n",
            "Epoch 342/500\n",
            "98/98 [==============================] - 3s 35ms/step - loss: 0.1229 - acc: 0.9694\n",
            "Epoch 343/500\n",
            "98/98 [==============================] - 3s 35ms/step - loss: 0.1736 - acc: 0.9388\n",
            "Epoch 344/500\n",
            "98/98 [==============================] - 3s 35ms/step - loss: 0.2067 - acc: 0.9184\n",
            "Epoch 345/500\n",
            "64/98 [==================>...........] - ETA: 1s - loss: 0.2043 - acc: 0.9375"
          ],
          "name": "stdout"
        },
        {
          "output_type": "stream",
          "text": [
            "98/98 [==============================] - 3s 35ms/step - loss: 0.1483 - acc: 0.9592\n",
            "Epoch 346/500\n",
            "98/98 [==============================] - 3s 35ms/step - loss: 0.4699 - acc: 0.9082\n",
            "Epoch 347/500\n",
            "98/98 [==============================] - 3s 35ms/step - loss: 0.3363 - acc: 0.9184\n",
            "Epoch 348/500\n",
            "98/98 [==============================] - 3s 35ms/step - loss: 0.1779 - acc: 0.9490\n",
            "Epoch 349/500\n",
            "98/98 [==============================] - 3s 35ms/step - loss: 0.3996 - acc: 0.8878\n",
            "Epoch 350/500\n",
            "98/98 [==============================] - 3s 35ms/step - loss: 0.2166 - acc: 0.9388\n",
            "Epoch 351/500\n",
            "98/98 [==============================] - 3s 35ms/step - loss: 0.3364 - acc: 0.8980\n",
            "Epoch 352/500\n",
            "98/98 [==============================] - 3s 35ms/step - loss: 0.3310 - acc: 0.9286\n",
            "Epoch 353/500\n",
            "64/98 [==================>...........] - ETA: 1s - loss: 0.1584 - acc: 0.9844"
          ],
          "name": "stdout"
        },
        {
          "output_type": "stream",
          "text": [
            "98/98 [==============================] - 3s 35ms/step - loss: 0.1703 - acc: 0.9592\n",
            "Epoch 354/500\n",
            "98/98 [==============================] - 3s 35ms/step - loss: 3.2275 - acc: 0.3265\n",
            "Epoch 355/500\n",
            "98/98 [==============================] - 3s 35ms/step - loss: 1.5215 - acc: 0.5306\n",
            "Epoch 356/500\n",
            "98/98 [==============================] - 3s 35ms/step - loss: 0.9628 - acc: 0.7143\n",
            "Epoch 357/500\n",
            "98/98 [==============================] - 3s 35ms/step - loss: 0.8513 - acc: 0.8265\n",
            "Epoch 358/500\n",
            "98/98 [==============================] - 3s 34ms/step - loss: 0.6144 - acc: 0.7857\n",
            "Epoch 359/500\n",
            "98/98 [==============================] - 3s 35ms/step - loss: 0.4295 - acc: 0.8776\n",
            "Epoch 360/500\n",
            "98/98 [==============================] - 3s 35ms/step - loss: 0.3903 - acc: 0.8878\n",
            "Epoch 361/500\n",
            "64/98 [==================>...........] - ETA: 1s - loss: 0.1557 - acc: 0.9531"
          ],
          "name": "stdout"
        },
        {
          "output_type": "stream",
          "text": [
            "98/98 [==============================] - 3s 35ms/step - loss: 0.1237 - acc: 0.9592\n",
            "Epoch 362/500\n",
            "98/98 [==============================] - 3s 35ms/step - loss: 0.3880 - acc: 0.8878\n",
            "Epoch 363/500\n",
            "98/98 [==============================] - 3s 35ms/step - loss: 0.2562 - acc: 0.9286\n",
            "Epoch 364/500\n",
            "98/98 [==============================] - 3s 35ms/step - loss: 0.5813 - acc: 0.8367\n",
            "Epoch 365/500\n",
            "98/98 [==============================] - 3s 35ms/step - loss: 0.2006 - acc: 0.9388\n",
            "Epoch 366/500\n",
            "98/98 [==============================] - 3s 35ms/step - loss: 0.1364 - acc: 0.9694\n",
            "Epoch 367/500\n",
            "98/98 [==============================] - 3s 35ms/step - loss: 0.3346 - acc: 0.8980\n",
            "Epoch 368/500\n",
            "98/98 [==============================] - 3s 35ms/step - loss: 0.0676 - acc: 0.9796\n",
            "Epoch 369/500\n",
            "64/98 [==================>...........] - ETA: 1s - loss: 0.2525 - acc: 0.9062"
          ],
          "name": "stdout"
        },
        {
          "output_type": "stream",
          "text": [
            "98/98 [==============================] - 3s 35ms/step - loss: 0.1887 - acc: 0.9286\n",
            "Epoch 370/500\n",
            "98/98 [==============================] - 3s 35ms/step - loss: 0.2809 - acc: 0.8980\n",
            "Epoch 371/500\n",
            "98/98 [==============================] - 3s 35ms/step - loss: 0.2968 - acc: 0.9286\n",
            "Epoch 372/500\n",
            "98/98 [==============================] - 3s 35ms/step - loss: 0.4784 - acc: 0.8571\n",
            "Epoch 373/500\n",
            "98/98 [==============================] - 3s 35ms/step - loss: 0.2461 - acc: 0.9184\n",
            "Epoch 374/500\n",
            "98/98 [==============================] - 3s 35ms/step - loss: 0.1599 - acc: 0.9796\n",
            "Epoch 375/500\n",
            "98/98 [==============================] - 3s 35ms/step - loss: 0.3610 - acc: 0.9184\n",
            "Epoch 376/500\n",
            "98/98 [==============================] - 3s 35ms/step - loss: 0.0870 - acc: 0.9694\n",
            "Epoch 377/500\n",
            "64/98 [==================>...........] - ETA: 1s - loss: 0.2309 - acc: 0.9375"
          ],
          "name": "stdout"
        },
        {
          "output_type": "stream",
          "text": [
            "98/98 [==============================] - 3s 35ms/step - loss: 0.2014 - acc: 0.9490\n",
            "Epoch 378/500\n",
            "98/98 [==============================] - 3s 35ms/step - loss: 0.0662 - acc: 0.9796\n",
            "Epoch 379/500\n",
            "98/98 [==============================] - 3s 35ms/step - loss: 0.6093 - acc: 0.8776\n",
            "Epoch 380/500\n",
            "98/98 [==============================] - 3s 35ms/step - loss: 0.3987 - acc: 0.8980\n",
            "Epoch 381/500\n",
            "98/98 [==============================] - 3s 35ms/step - loss: 0.1650 - acc: 0.9490\n",
            "Epoch 382/500\n",
            "98/98 [==============================] - 3s 35ms/step - loss: 0.5338 - acc: 0.8673\n",
            "Epoch 383/500\n",
            "98/98 [==============================] - 3s 35ms/step - loss: 0.6093 - acc: 0.8571\n",
            "Epoch 384/500\n",
            "98/98 [==============================] - 3s 35ms/step - loss: 0.1819 - acc: 0.9490\n",
            "Epoch 385/500\n",
            "64/98 [==================>...........] - ETA: 1s - loss: 0.1749 - acc: 0.9375"
          ],
          "name": "stdout"
        },
        {
          "output_type": "stream",
          "text": [
            "98/98 [==============================] - 3s 35ms/step - loss: 0.2272 - acc: 0.9286\n",
            "Epoch 386/500\n",
            "98/98 [==============================] - 3s 35ms/step - loss: 0.5982 - acc: 0.8571\n",
            "Epoch 387/500\n",
            "98/98 [==============================] - 3s 35ms/step - loss: 0.2158 - acc: 0.9592\n",
            "Epoch 388/500\n",
            "98/98 [==============================] - 3s 35ms/step - loss: 0.1652 - acc: 0.9592\n",
            "Epoch 389/500\n",
            "98/98 [==============================] - 3s 35ms/step - loss: 0.1637 - acc: 0.9694\n",
            "Epoch 390/500\n",
            "98/98 [==============================] - 3s 35ms/step - loss: 0.0590 - acc: 1.0000\n",
            "Epoch 391/500\n",
            "98/98 [==============================] - 3s 35ms/step - loss: 0.1446 - acc: 0.9592\n",
            "Epoch 392/500\n",
            "98/98 [==============================] - 3s 35ms/step - loss: 0.2561 - acc: 0.9490\n",
            "Epoch 393/500\n",
            "64/98 [==================>...........] - ETA: 1s - loss: 0.0922 - acc: 0.9688"
          ],
          "name": "stdout"
        },
        {
          "output_type": "stream",
          "text": [
            "98/98 [==============================] - 3s 35ms/step - loss: 0.2332 - acc: 0.9388\n",
            "Epoch 394/500\n",
            "98/98 [==============================] - 3s 35ms/step - loss: 0.4288 - acc: 0.8878\n",
            "Epoch 395/500\n",
            "98/98 [==============================] - 3s 35ms/step - loss: 0.2640 - acc: 0.9388\n",
            "Epoch 396/500\n",
            "98/98 [==============================] - 3s 35ms/step - loss: 0.2816 - acc: 0.9388\n",
            "Epoch 397/500\n",
            "98/98 [==============================] - 3s 35ms/step - loss: 0.0371 - acc: 1.0000\n",
            "Epoch 398/500\n",
            "98/98 [==============================] - 3s 35ms/step - loss: 0.1327 - acc: 0.9694\n",
            "Epoch 399/500\n",
            "98/98 [==============================] - 3s 35ms/step - loss: 0.2568 - acc: 0.9490\n",
            "Epoch 400/500\n",
            "98/98 [==============================] - 3s 35ms/step - loss: 0.1737 - acc: 0.9490\n",
            "Epoch 401/500\n",
            "64/98 [==================>...........] - ETA: 1s - loss: 0.1521 - acc: 0.9531"
          ],
          "name": "stdout"
        },
        {
          "output_type": "stream",
          "text": [
            "98/98 [==============================] - 3s 35ms/step - loss: 0.1517 - acc: 0.9592\n",
            "Epoch 402/500\n",
            "98/98 [==============================] - 3s 35ms/step - loss: 0.1057 - acc: 0.9796\n",
            "Epoch 403/500\n",
            "98/98 [==============================] - 3s 35ms/step - loss: 0.0620 - acc: 0.9796\n",
            "Epoch 404/500\n",
            "98/98 [==============================] - 3s 35ms/step - loss: 0.1895 - acc: 0.9490\n",
            "Epoch 405/500\n",
            "98/98 [==============================] - 3s 35ms/step - loss: 0.1894 - acc: 0.9388\n",
            "Epoch 406/500\n",
            "98/98 [==============================] - 3s 35ms/step - loss: 0.2387 - acc: 0.9082\n",
            "Epoch 407/500\n",
            "98/98 [==============================] - 3s 35ms/step - loss: 0.1871 - acc: 0.9490\n",
            "Epoch 408/500\n",
            "98/98 [==============================] - 3s 35ms/step - loss: 0.0863 - acc: 0.9694\n",
            "Epoch 409/500\n",
            "64/98 [==================>...........] - ETA: 1s - loss: 0.0191 - acc: 1.0000"
          ],
          "name": "stdout"
        },
        {
          "output_type": "stream",
          "text": [
            "98/98 [==============================] - 3s 35ms/step - loss: 0.1347 - acc: 0.9592\n",
            "Epoch 410/500\n",
            "98/98 [==============================] - 3s 35ms/step - loss: 0.0982 - acc: 0.9694\n",
            "Epoch 411/500\n",
            "98/98 [==============================] - 3s 35ms/step - loss: 0.0602 - acc: 0.9898\n",
            "Epoch 412/500\n",
            "98/98 [==============================] - 3s 35ms/step - loss: 0.4930 - acc: 0.8776\n",
            "Epoch 413/500\n",
            "98/98 [==============================] - 3s 35ms/step - loss: 0.1711 - acc: 0.9592\n",
            "Epoch 414/500\n",
            "98/98 [==============================] - 3s 35ms/step - loss: 0.2278 - acc: 0.9388\n",
            "Epoch 415/500\n",
            "98/98 [==============================] - 3s 35ms/step - loss: 0.3902 - acc: 0.8878\n",
            "Epoch 416/500\n",
            "98/98 [==============================] - 3s 35ms/step - loss: 0.2176 - acc: 0.9388\n",
            "Epoch 417/500\n",
            "64/98 [==================>...........] - ETA: 1s - loss: 0.0852 - acc: 0.9844"
          ],
          "name": "stdout"
        },
        {
          "output_type": "stream",
          "text": [
            "98/98 [==============================] - 3s 34ms/step - loss: 0.0650 - acc: 0.9898\n",
            "Epoch 418/500\n",
            "98/98 [==============================] - 3s 35ms/step - loss: 0.0585 - acc: 0.9898\n",
            "Epoch 419/500\n",
            "98/98 [==============================] - 3s 35ms/step - loss: 0.1755 - acc: 0.9592\n",
            "Epoch 420/500\n",
            "98/98 [==============================] - 3s 35ms/step - loss: 0.2391 - acc: 0.9184\n",
            "Epoch 421/500\n",
            "98/98 [==============================] - 3s 35ms/step - loss: 0.0643 - acc: 0.9898\n",
            "Epoch 422/500\n",
            "98/98 [==============================] - 3s 34ms/step - loss: 0.1816 - acc: 0.9286\n",
            "Epoch 423/500\n",
            "98/98 [==============================] - 3s 34ms/step - loss: 0.0736 - acc: 0.9796\n",
            "Epoch 424/500\n",
            "98/98 [==============================] - 3s 34ms/step - loss: 0.3580 - acc: 0.8980\n",
            "Epoch 425/500\n",
            "64/98 [==================>...........] - ETA: 1s - loss: 0.0311 - acc: 1.0000"
          ],
          "name": "stdout"
        },
        {
          "output_type": "stream",
          "text": [
            "98/98 [==============================] - 3s 34ms/step - loss: 0.0337 - acc: 1.0000\n",
            "Epoch 426/500\n",
            "98/98 [==============================] - 3s 34ms/step - loss: 0.1985 - acc: 0.9184\n",
            "Epoch 427/500\n",
            "98/98 [==============================] - 3s 35ms/step - loss: 0.0268 - acc: 1.0000\n",
            "Epoch 428/500\n",
            "98/98 [==============================] - 3s 35ms/step - loss: 0.0175 - acc: 1.0000\n",
            "Epoch 429/500\n",
            "98/98 [==============================] - 3s 35ms/step - loss: 0.3826 - acc: 0.9388\n",
            "Epoch 430/500\n",
            "98/98 [==============================] - 3s 35ms/step - loss: 0.0764 - acc: 0.9796\n",
            "Epoch 431/500\n",
            "98/98 [==============================] - 3s 35ms/step - loss: 0.2204 - acc: 0.9286\n",
            "Epoch 432/500\n",
            "98/98 [==============================] - 3s 34ms/step - loss: 0.0617 - acc: 0.9796\n",
            "Epoch 433/500\n",
            "64/98 [==================>...........] - ETA: 1s - loss: 0.0256 - acc: 1.0000"
          ],
          "name": "stdout"
        },
        {
          "output_type": "stream",
          "text": [
            "98/98 [==============================] - 3s 35ms/step - loss: 0.0384 - acc: 0.9898\n",
            "Epoch 434/500\n",
            "98/98 [==============================] - 3s 34ms/step - loss: 0.1366 - acc: 0.9490\n",
            "Epoch 435/500\n",
            "98/98 [==============================] - 3s 35ms/step - loss: 0.1508 - acc: 0.9592\n",
            "Epoch 436/500\n",
            "98/98 [==============================] - 3s 35ms/step - loss: 0.1106 - acc: 0.9592\n",
            "Epoch 437/500\n",
            "98/98 [==============================] - 3s 35ms/step - loss: 0.1611 - acc: 0.9694\n",
            "Epoch 438/500\n",
            "98/98 [==============================] - 3s 34ms/step - loss: 0.1174 - acc: 0.9796\n",
            "Epoch 439/500\n",
            "98/98 [==============================] - 3s 35ms/step - loss: 0.0654 - acc: 0.9898\n",
            "Epoch 440/500\n",
            "98/98 [==============================] - 3s 34ms/step - loss: 0.0610 - acc: 0.9796\n",
            "Epoch 441/500\n",
            "64/98 [==================>...........] - ETA: 1s - loss: 0.0286 - acc: 1.0000"
          ],
          "name": "stdout"
        },
        {
          "output_type": "stream",
          "text": [
            "98/98 [==============================] - 3s 34ms/step - loss: 0.0410 - acc: 1.0000\n",
            "Epoch 442/500\n",
            "98/98 [==============================] - 3s 34ms/step - loss: 0.7658 - acc: 0.8061\n",
            "Epoch 443/500\n",
            "98/98 [==============================] - 3s 35ms/step - loss: 0.0435 - acc: 0.9898\n",
            "Epoch 444/500\n",
            "98/98 [==============================] - 3s 35ms/step - loss: 0.2348 - acc: 0.9592\n",
            "Epoch 445/500\n",
            "98/98 [==============================] - 3s 35ms/step - loss: 0.0813 - acc: 0.9796\n",
            "Epoch 446/500\n",
            "98/98 [==============================] - 3s 35ms/step - loss: 0.1794 - acc: 0.9592\n",
            "Epoch 447/500\n",
            "98/98 [==============================] - 3s 35ms/step - loss: 1.9960 - acc: 0.6224\n",
            "Epoch 448/500\n",
            "98/98 [==============================] - 3s 35ms/step - loss: 0.1696 - acc: 0.9286\n",
            "Epoch 449/500\n",
            "64/98 [==================>...........] - ETA: 1s - loss: 0.1538 - acc: 0.9688"
          ],
          "name": "stdout"
        },
        {
          "output_type": "stream",
          "text": [
            "98/98 [==============================] - 3s 35ms/step - loss: 0.1152 - acc: 0.9796\n",
            "Epoch 450/500\n",
            "98/98 [==============================] - 3s 34ms/step - loss: 0.3614 - acc: 0.9082\n",
            "Epoch 451/500\n",
            "98/98 [==============================] - 3s 35ms/step - loss: 0.3015 - acc: 0.9490\n",
            "Epoch 452/500\n",
            "98/98 [==============================] - 3s 35ms/step - loss: 0.0800 - acc: 0.9694\n",
            "Epoch 453/500\n",
            "98/98 [==============================] - 3s 35ms/step - loss: 0.1185 - acc: 0.9694\n",
            "Epoch 454/500\n",
            "98/98 [==============================] - 3s 35ms/step - loss: 0.0609 - acc: 0.9796\n",
            "Epoch 455/500\n",
            "98/98 [==============================] - 3s 35ms/step - loss: 0.0387 - acc: 1.0000\n",
            "Epoch 456/500\n",
            "98/98 [==============================] - 3s 35ms/step - loss: 0.2033 - acc: 0.9694\n",
            "Epoch 457/500\n",
            "64/98 [==================>...........] - ETA: 1s - loss: 0.2557 - acc: 0.9375"
          ],
          "name": "stdout"
        },
        {
          "output_type": "stream",
          "text": [
            "98/98 [==============================] - 3s 35ms/step - loss: 0.1844 - acc: 0.9592\n",
            "Epoch 458/500\n",
            "98/98 [==============================] - 3s 34ms/step - loss: 0.0506 - acc: 0.9796\n",
            "Epoch 459/500\n",
            "98/98 [==============================] - 3s 35ms/step - loss: 0.7890 - acc: 0.8163\n",
            "Epoch 460/500\n",
            "98/98 [==============================] - 3s 35ms/step - loss: 0.2750 - acc: 0.9184\n",
            "Epoch 461/500\n",
            "98/98 [==============================] - 3s 35ms/step - loss: 0.1626 - acc: 0.9592\n",
            "Epoch 462/500\n",
            "98/98 [==============================] - 3s 35ms/step - loss: 0.0207 - acc: 1.0000\n",
            "Epoch 463/500\n",
            "98/98 [==============================] - 3s 35ms/step - loss: 0.0627 - acc: 0.9796\n",
            "Epoch 464/500\n",
            "98/98 [==============================] - 3s 35ms/step - loss: 0.0154 - acc: 1.0000\n",
            "Epoch 465/500\n",
            "64/98 [==================>...........] - ETA: 1s - loss: 0.0055 - acc: 1.0000"
          ],
          "name": "stdout"
        },
        {
          "output_type": "stream",
          "text": [
            "98/98 [==============================] - 3s 34ms/step - loss: 0.0433 - acc: 0.9796\n",
            "Epoch 466/500\n",
            "98/98 [==============================] - 3s 35ms/step - loss: 0.0794 - acc: 0.9796\n",
            "Epoch 467/500\n",
            "98/98 [==============================] - 3s 34ms/step - loss: 0.1667 - acc: 0.9898\n",
            "Epoch 468/500\n",
            "98/98 [==============================] - 3s 35ms/step - loss: 0.0099 - acc: 1.0000\n",
            "Epoch 469/500\n",
            "98/98 [==============================] - 3s 35ms/step - loss: 0.0982 - acc: 0.9898\n",
            "Epoch 470/500\n",
            "98/98 [==============================] - 3s 35ms/step - loss: 0.0132 - acc: 1.0000\n",
            "Epoch 471/500\n",
            "98/98 [==============================] - 3s 35ms/step - loss: 0.0179 - acc: 1.0000\n",
            "Epoch 472/500\n",
            "98/98 [==============================] - 3s 35ms/step - loss: 0.1070 - acc: 0.9694\n",
            "Epoch 473/500\n",
            "64/98 [==================>...........] - ETA: 1s - loss: 0.0886 - acc: 0.9688"
          ],
          "name": "stdout"
        },
        {
          "output_type": "stream",
          "text": [
            "98/98 [==============================] - 3s 35ms/step - loss: 0.0738 - acc: 0.9796\n",
            "Epoch 474/500\n",
            "98/98 [==============================] - 3s 35ms/step - loss: 0.0198 - acc: 1.0000\n",
            "Epoch 475/500\n",
            "98/98 [==============================] - 3s 35ms/step - loss: 0.1812 - acc: 0.9592\n",
            "Epoch 476/500\n",
            "98/98 [==============================] - 3s 35ms/step - loss: 0.0460 - acc: 0.9796\n",
            "Epoch 477/500\n",
            "98/98 [==============================] - 3s 35ms/step - loss: 0.3495 - acc: 0.9286\n",
            "Epoch 478/500\n",
            "98/98 [==============================] - 3s 35ms/step - loss: 0.0221 - acc: 0.9898\n",
            "Epoch 479/500\n",
            "98/98 [==============================] - 3s 35ms/step - loss: 0.1191 - acc: 0.9898\n",
            "Epoch 480/500\n",
            "98/98 [==============================] - 3s 35ms/step - loss: 0.1125 - acc: 0.9694\n",
            "Epoch 481/500\n",
            "64/98 [==================>...........] - ETA: 1s - loss: 0.4564 - acc: 0.9219"
          ],
          "name": "stdout"
        },
        {
          "output_type": "stream",
          "text": [
            "98/98 [==============================] - 3s 34ms/step - loss: 0.3409 - acc: 0.9286\n",
            "Epoch 482/500\n",
            "98/98 [==============================] - 3s 35ms/step - loss: 0.2829 - acc: 0.9592\n",
            "Epoch 483/500\n",
            "98/98 [==============================] - 3s 35ms/step - loss: 0.2250 - acc: 0.9388\n",
            "Epoch 484/500\n",
            "98/98 [==============================] - 3s 35ms/step - loss: 0.0985 - acc: 0.9592\n",
            "Epoch 485/500\n",
            "98/98 [==============================] - 3s 35ms/step - loss: 0.2486 - acc: 0.9694\n",
            "Epoch 486/500\n",
            "98/98 [==============================] - 3s 34ms/step - loss: 0.1297 - acc: 0.9796\n",
            "Epoch 487/500\n",
            "98/98 [==============================] - 3s 34ms/step - loss: 0.1127 - acc: 0.9694\n",
            "Epoch 488/500\n",
            "98/98 [==============================] - 3s 34ms/step - loss: 0.5277 - acc: 0.8571\n",
            "Epoch 489/500\n",
            "64/98 [==================>...........] - ETA: 1s - loss: 0.0369 - acc: 1.0000"
          ],
          "name": "stdout"
        },
        {
          "output_type": "stream",
          "text": [
            "98/98 [==============================] - 3s 35ms/step - loss: 0.0373 - acc: 0.9898\n",
            "Epoch 490/500\n",
            "98/98 [==============================] - 3s 35ms/step - loss: 0.0777 - acc: 0.9694\n",
            "Epoch 491/500\n",
            "98/98 [==============================] - 3s 35ms/step - loss: 0.2871 - acc: 0.9184\n",
            "Epoch 492/500\n",
            "98/98 [==============================] - 3s 35ms/step - loss: 0.1560 - acc: 0.9388\n",
            "Epoch 493/500\n",
            "98/98 [==============================] - 3s 35ms/step - loss: 0.0592 - acc: 0.9796\n",
            "Epoch 494/500\n",
            "98/98 [==============================] - 3s 35ms/step - loss: 0.1049 - acc: 0.9592\n",
            "Epoch 495/500\n",
            "98/98 [==============================] - 3s 35ms/step - loss: 0.0377 - acc: 0.9898\n",
            "Epoch 496/500\n",
            "98/98 [==============================] - 3s 35ms/step - loss: 0.1371 - acc: 0.9898\n",
            "Epoch 497/500\n",
            "64/98 [==================>...........] - ETA: 1s - loss: 0.0226 - acc: 1.0000"
          ],
          "name": "stdout"
        },
        {
          "output_type": "stream",
          "text": [
            "98/98 [==============================] - 3s 35ms/step - loss: 0.0373 - acc: 0.9898\n",
            "Epoch 498/500\n",
            "98/98 [==============================] - 3s 35ms/step - loss: 0.4885 - acc: 0.8265\n",
            "Epoch 499/500\n",
            "98/98 [==============================] - 3s 35ms/step - loss: 0.1087 - acc: 0.9694\n",
            "Epoch 500/500\n",
            "98/98 [==============================] - 3s 35ms/step - loss: 0.0276 - acc: 1.0000\n"
          ],
          "name": "stdout"
        }
      ]
    },
    {
      "metadata": {
        "id": "Lq241ZvXmBgs",
        "colab_type": "code",
        "colab": {
          "base_uri": "https://localhost:8080/",
          "height": 364
        },
        "outputId": "23892898-9b9c-4654-b408-66754daa79c7"
      },
      "cell_type": "code",
      "source": [
        "# Plot the accuracy during training\n",
        "plt.plot(history.history['acc'])"
      ],
      "execution_count": 20,
      "outputs": [
        {
          "output_type": "execute_result",
          "data": {
            "text/plain": [
              "[<matplotlib.lines.Line2D at 0x7fd8f6be7da0>]"
            ]
          },
          "metadata": {
            "tags": []
          },
          "execution_count": 20
        },
        {
          "output_type": "display_data",
          "data": {
            "image/png": "[encoded data removed]",
            "text/plain": [
              "<matplotlib.figure.Figure at 0x7fd8f6c44ba8>"
            ]
          },
          "metadata": {
            "tags": []
          }
        }
      ]
    },
    {
      "metadata": {
        "id": "XDhfH6d52GUw",
        "colab_type": "code",
        "colab": {
          "base_uri": "https://localhost:8080/",
          "height": 364
        },
        "outputId": "9dcae5ba-8ba8-4195-df7c-e0e526b4baca"
      },
      "cell_type": "code",
      "source": [
        "plt.plot(history.history['loss'])"
      ],
      "execution_count": 21,
      "outputs": [
        {
          "output_type": "execute_result",
          "data": {
            "text/plain": [
              "[<matplotlib.lines.Line2D at 0x7fd8f6b95780>]"
            ]
          },
          "metadata": {
            "tags": []
          },
          "execution_count": 21
        },
        {
          "output_type": "display_data",
          "data": {
            "image/png": "[encoded data removed]",
            "text/plain": [
              "<matplotlib.figure.Figure at 0x7fd8f6c446a0>"
            ]
          },
          "metadata": {
            "tags": []
          }
        }
      ]
    },
    {
      "metadata": {
        "id": "MMhv-sFQCz7h",
        "colab_type": "code",
        "colab": {
          "base_uri": "https://localhost:8080/",
          "height": 51
        },
        "outputId": "7ed37eef-cb23-4613-ab25-f8563a8b7d68"
      },
      "cell_type": "code",
      "source": [
        "# Evalute the same model\n",
        "model.evaluate(x=train_x, y=train_y)"
      ],
      "execution_count": 22,
      "outputs": [
        {
          "output_type": "stream",
          "text": [
            "98/98 [==============================] - 0s 3ms/step\n"
          ],
          "name": "stdout"
        },
        {
          "output_type": "execute_result",
          "data": {
            "text/plain": [
              "[0.00344641594102188, 1.0]"
            ]
          },
          "metadata": {
            "tags": []
          },
          "execution_count": 22
        }
      ]
    },
    {
      "metadata": {
        "id": "ckLOHc2UQ7A_",
        "colab_type": "code",
        "colab": {}
      },
      "cell_type": "code",
      "source": [
        ""
      ],
      "execution_count": 0,
      "outputs": []
    }
  ]
}