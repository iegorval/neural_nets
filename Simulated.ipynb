{
  "nbformat": 4,
  "nbformat_minor": 0,
  "metadata": {
    "colab": {
      "name": "Untitled2.ipynb",
      "version": "0.3.2",
      "provenance": [],
      "toc_visible": true
    },
    "kernelspec": {
      "name": "python3",
      "display_name": "Python 3"
    }
  },
  "cells": [
    {
      "cell_type": "markdown",
      "metadata": {
        "id": "view-in-github",
        "colab_type": "text"
      },
      "source": [
        "[View in Colaboratory](https://colab.research.google.com/github/iegorval/neural_nets/blob/master/Simulated.ipynb)"
      ]
    },
    {
      "metadata": {
        "id": "xm0F21gKN19z",
        "colab_type": "text"
      },
      "cell_type": "markdown",
      "source": [
        "# Getting Ready\n",
        "Let's first import the required libraries."
      ]
    },
    {
      "metadata": {
        "id": "kUvu2qtmN7wN",
        "colab_type": "code",
        "colab": {}
      },
      "cell_type": "code",
      "source": [
        "import numpy as np \n",
        "import pandas as pd\n",
        "import matplotlib.pyplot as plt\n",
        "import os\n",
        "from keras.layers import LSTM, Input, Activation, Dense, TimeDistributed\n",
        "from keras.models import Sequential"
      ],
      "execution_count": 0,
      "outputs": []
    },
    {
      "metadata": {
        "id": "YOqi1Y4vN_NO",
        "colab_type": "text"
      },
      "cell_type": "markdown",
      "source": [
        "Now import the data and display the information about it."
      ]
    },
    {
      "metadata": {
        "id": "sHJuEdKXN9jn",
        "colab_type": "code",
        "colab": {}
      },
      "cell_type": "code",
      "source": [
        "data_henon = pd.read_csv(\"henon.csv\", header=None)\n",
        "data_lorenz = pd.read_csv(\"lorenz.csv\", header=None)\n",
        "data_rossler = pd.read_csv(\"rossler.csv\", header=None)\n",
        "data_henon.describe()"
      ],
      "execution_count": 0,
      "outputs": []
    },
    {
      "metadata": {
        "id": "NFWw7HLhN-0a",
        "colab_type": "code",
        "colab": {}
      },
      "cell_type": "code",
      "source": [
        "data_lorenz.describe()"
      ],
      "execution_count": 0,
      "outputs": []
    },
    {
      "metadata": {
        "id": "nmDu5tKfOEZL",
        "colab_type": "code",
        "colab": {}
      },
      "cell_type": "code",
      "source": [
        "data_rossler.describe()"
      ],
      "execution_count": 0,
      "outputs": []
    },
    {
      "metadata": {
        "id": "5a4xz9zROOin",
        "colab_type": "code",
        "colab": {}
      },
      "cell_type": "code",
      "source": [
        "data_lorenz_cut = pd.concat([pd.DataFrame([data_lorenz[0][i*10]], columns=['0']) for i in range(len(data_lorenz[0])//10)])"
      ],
      "execution_count": 0,
      "outputs": []
    },
    {
      "metadata": {
        "id": "qBmSYJ0UOL0u",
        "colab_type": "text"
      },
      "cell_type": "markdown",
      "source": [
        "**Choose the dataset used for the learning**"
      ]
    },
    {
      "metadata": {
        "id": "gnsDmjJYOMSd",
        "colab_type": "code",
        "colab": {}
      },
      "cell_type": "code",
      "source": [
        "train_data = data_lorenz\n",
        "plt.plot(range(200), train_data[:200])"
      ],
      "execution_count": 0,
      "outputs": []
    },
    {
      "metadata": {
        "id": "T403dpyNOeSt",
        "colab_type": "text"
      },
      "cell_type": "markdown",
      "source": [
        "We have to pre-process the input, so it is not a single number, but a sequence of the chosen length (context_length)."
      ]
    },
    {
      "metadata": {
        "id": "_WjrsB1-OfP0",
        "colab_type": "code",
        "colab": {}
      },
      "cell_type": "code",
      "source": [
        "data_np = np.array(train_data)\n",
        "Tx, n_values = data_np.shape\n",
        "train_np = train_data.values\n",
        "\n",
        "context_length = 50\n",
        "y_train = train_np[context_length:,:]\n",
        "train_np_expanded = np.repeat(train_np[:,np.newaxis], context_length, 1)\n",
        "for i in range(1,context_length):\n",
        "    train_np_expanded[:-i,i,:] = train_np_expanded[i:,i,:]\n",
        "x_train = train_np_expanded[:-context_length,:,:]\n",
        "\n",
        "print(x_train.shape)\n",
        "print(y_train.shape)"
      ],
      "execution_count": 0,
      "outputs": []
    },
    {
      "metadata": {
        "id": "9rZXuqjeOVMX",
        "colab_type": "text"
      },
      "cell_type": "markdown",
      "source": [
        "# Model\n",
        "Prepare the RNN model in Keras."
      ]
    },
    {
      "metadata": {
        "id": "uQb4CvNyOQ9Y",
        "colab_type": "code",
        "colab": {}
      },
      "cell_type": "code",
      "source": [
        "def get_model(c):\n",
        "    model = Sequential()\n",
        "    model.add(LSTM(64, input_shape=(c,1), return_sequences=False))\n",
        "    model.add(Dense(1))\n",
        "    model.add(Activation(\"linear\"))\n",
        "    return model"
      ],
      "execution_count": 0,
      "outputs": []
    },
    {
      "metadata": {
        "id": "Y_SZaR_sOZXA",
        "colab_type": "text"
      },
      "cell_type": "markdown",
      "source": [
        "# Experiment"
      ]
    },
    {
      "metadata": {
        "id": "wIY1i4UiOUWo",
        "colab_type": "code",
        "colab": {}
      },
      "cell_type": "code",
      "source": [
        "model = get_model(context_length)\n",
        "model.compile(loss='mean_squared_error', optimizer='rmsprop', metrics=['mse']) "
      ],
      "execution_count": 0,
      "outputs": []
    },
    {
      "metadata": {
        "id": "mo1DXYL5Oi1i",
        "colab_type": "code",
        "colab": {}
      },
      "cell_type": "code",
      "source": [
        "model.summary()"
      ],
      "execution_count": 0,
      "outputs": []
    },
    {
      "metadata": {
        "id": "t6W_Dzd6OjIo",
        "colab_type": "code",
        "colab": {}
      },
      "cell_type": "code",
      "source": [
        "history = model.fit(x_train, y_train, epochs=40)"
      ],
      "execution_count": 0,
      "outputs": []
    },
    {
      "metadata": {
        "id": "AKDrxbJ0OkSp",
        "colab_type": "code",
        "colab": {}
      },
      "cell_type": "code",
      "source": [
        "plt.plot(range(20), history.history['mean_squared_error'][:20], 'r')\n",
        "plt.ylabel(\"Mean Squared Error\")\n",
        "plt.xlabel(\"Epochs\")"
      ],
      "execution_count": 0,
      "outputs": []
    },
    {
      "metadata": {
        "id": "8BNgDEEsOmlb",
        "colab_type": "code",
        "colab": {}
      },
      "cell_type": "code",
      "source": [
        "model.evaluate(x=x_train, y=y_train)"
      ],
      "execution_count": 0,
      "outputs": []
    },
    {
      "metadata": {
        "id": "rbV1unibOqxA",
        "colab_type": "text"
      },
      "cell_type": "markdown",
      "source": [
        "# Results\n",
        "Get the signal by giving the real-data sequence and predicting the next value."
      ]
    },
    {
      "metadata": {
        "id": "qI5PUSJBOoF2",
        "colab_type": "code",
        "colab": {}
      },
      "cell_type": "code",
      "source": [
        "Ty = train_np.shape[0]\n",
        "y_pred = list()\n",
        "for y in range(Ty):\n",
        "    example = np.reshape(train_np_expanded[y,:,:], (1,context_length,1))\n",
        "    y_pred.append(model.predict(example).tolist()[0][0])"
      ],
      "execution_count": 0,
      "outputs": []
    },
    {
      "metadata": {
        "id": "WgO48uvBOvqA",
        "colab_type": "code",
        "colab": {}
      },
      "cell_type": "code",
      "source": [
        "plt.subplot(2,1,1)\n",
        "\n",
        "plt.plot(y_pred[:200],'r')\n",
        "plt.ylabel(\"predicted signal\")\n",
        "plt.subplot(2,1,2)\n",
        "plt.plot(train_np[context_length:200+context_length])\n",
        "plt.ylabel(\"henon time series\")"
      ],
      "execution_count": 0,
      "outputs": []
    },
    {
      "metadata": {
        "id": "UrbufqdLOxXc",
        "colab_type": "code",
        "colab": {}
      },
      "cell_type": "code",
      "source": [
        "plt.plot(range(200),train_np[context_length:200+context_length],'b',range(200),y_pred[:200],'r')\n",
        "plt.legend((\"ground truth\",\"predicted signal\"))"
      ],
      "execution_count": 0,
      "outputs": []
    },
    {
      "metadata": {
        "id": "eANTED3gO0QX",
        "colab_type": "text"
      },
      "cell_type": "markdown",
      "source": [
        "Free-run test of the model."
      ]
    },
    {
      "metadata": {
        "id": "H70ZKS0rOyg2",
        "colab_type": "code",
        "colab": {}
      },
      "cell_type": "code",
      "source": [
        "Ty = train_np.shape[0]\n",
        "y_gen = list()\n",
        "example = np.reshape(train_np[:context_length], (1,context_length,1))\n",
        "for y in range(Ty):\n",
        "    prediction = model.predict(example).tolist()[0][0]\n",
        "    for i in range(context_length-1):\n",
        "        example[0][i] = example[0][i+1]\n",
        "    example[0][context_length-1] = prediction\n",
        "    y_gen.append(prediction)"
      ],
      "execution_count": 0,
      "outputs": []
    },
    {
      "metadata": {
        "id": "Q_3q3qiYO3yY",
        "colab_type": "code",
        "colab": {}
      },
      "cell_type": "code",
      "source": [
        "plt.plot(y_gen[:200],'r')\n",
        "plt.ylabel(\"generated signal\")"
      ],
      "execution_count": 0,
      "outputs": []
    }
  ]
}