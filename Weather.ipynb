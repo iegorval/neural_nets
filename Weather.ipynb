{
  "nbformat": 4,
  "nbformat_minor": 0,
  "metadata": {
    "colab": {
      "name": "Untitled1.ipynb",
      "version": "0.3.2",
      "provenance": [],
      "toc_visible": true
    },
    "kernelspec": {
      "name": "python3",
      "display_name": "Python 3"
    }
  },
  "cells": [
    {
      "cell_type": "markdown",
      "metadata": {
        "id": "view-in-github",
        "colab_type": "text"
      },
      "source": [
        "[View in Colaboratory](https://colab.research.google.com/github/iegorval/neural_nets/blob/master/Weather.ipynb)"
      ]
    },
    {
      "metadata": {
        "id": "661-8UXkBmO_",
        "colab_type": "text"
      },
      "cell_type": "markdown",
      "source": [
        "#Getting Ready"
      ]
    },
    {
      "metadata": {
        "id": "FdQU2IFrBSq9",
        "colab_type": "code",
        "colab": {}
      },
      "cell_type": "code",
      "source": [
        "# Installs\n",
        "!pip install -U -q PyDrive"
      ],
      "execution_count": 0,
      "outputs": []
    },
    {
      "metadata": {
        "id": "iPvXcnHiBg7F",
        "colab_type": "code",
        "colab": {}
      },
      "cell_type": "code",
      "source": [
        "import numpy as np \n",
        "import pandas as pd\n",
        "import matplotlib.pyplot as plt\n",
        "import os\n",
        "from keras.layers import LSTM, Input, Activation, Dense, TimeDistributed\n",
        "from keras.models import Sequential\n",
        "from pydrive.auth import GoogleAuth\n",
        "from pydrive.drive import GoogleDrive\n",
        "from google.colab import auth\n",
        "from oauth2client.client import GoogleCredentials\n",
        "from io import StringIO\n",
        "import keras.utils as utils\n",
        "from keras import optimizers"
      ],
      "execution_count": 0,
      "outputs": []
    },
    {
      "metadata": {
        "id": "ulhLJjrJBjV8",
        "colab_type": "code",
        "colab": {}
      },
      "cell_type": "code",
      "source": [
        "# PyDrive client\n",
        "auth.authenticate_user()\n",
        "gauth = GoogleAuth()\n",
        "gauth.credentials = GoogleCredentials.get_application_default()\n",
        "drive = GoogleDrive(gauth)\n",
        "# Get all files from the root folder\n",
        "file_list = drive.ListFile({'q': \"'root' in parents and trashed=false\"}).GetList()"
      ],
      "execution_count": 0,
      "outputs": []
    },
    {
      "metadata": {
        "id": "iSocKjwlCDe3",
        "colab_type": "code",
        "colab": {}
      },
      "cell_type": "code",
      "source": [
        "temperature_file = [(file['title'], file['id']) for file in file_list if file['title'].find('daily-minimum-temperatures')>=0]"
      ],
      "execution_count": 0,
      "outputs": []
    },
    {
      "metadata": {
        "id": "GDSPTlRIDmtI",
        "colab_type": "text"
      },
      "cell_type": "markdown",
      "source": [
        ""
      ]
    },
    {
      "metadata": {
        "id": "kWErhBSlCSat",
        "colab_type": "code",
        "colab": {
          "base_uri": "https://localhost:8080/",
          "height": 34
        },
        "outputId": "7598e20a-de08-4674-f34c-b1d28392cef4"
      },
      "cell_type": "code",
      "source": [
        "f = drive.CreateFile({'id': temperature_file[0][1]})\n",
        "content = f.GetContentString()\n",
        "dataIO = StringIO(content)\n",
        "df = pd.read_csv(dataIO, error_bad_lines=False)"
      ],
      "execution_count": 67,
      "outputs": [
        {
          "output_type": "stream",
          "text": [
            "b'Skipping line 3653: expected 2 fields, saw 3\\n'\n"
          ],
          "name": "stderr"
        }
      ]
    },
    {
      "metadata": {
        "id": "zXJ-alPaC7ee",
        "colab_type": "code",
        "colab": {
          "base_uri": "https://localhost:8080/",
          "height": 173
        },
        "outputId": "640a251c-dd4f-4082-b261-dae424295c27"
      },
      "cell_type": "code",
      "source": [
        "df.describe()"
      ],
      "execution_count": 35,
      "outputs": [
        {
          "output_type": "execute_result",
          "data": {
            "text/html": [
              "<div>\n",
              "<style scoped>\n",
              "    .dataframe tbody tr th:only-of-type {\n",
              "        vertical-align: middle;\n",
              "    }\n",
              "\n",
              "    .dataframe tbody tr th {\n",
              "        vertical-align: top;\n",
              "    }\n",
              "\n",
              "    .dataframe thead th {\n",
              "        text-align: right;\n",
              "    }\n",
              "</style>\n",
              "<table border=\"1\" class=\"dataframe\">\n",
              "  <thead>\n",
              "    <tr style=\"text-align: right;\">\n",
              "      <th></th>\n",
              "      <th>Date</th>\n",
              "      <th>Daily minimum temperatures in Melbourne, Australia, 1981-1990</th>\n",
              "    </tr>\n",
              "  </thead>\n",
              "  <tbody>\n",
              "    <tr>\n",
              "      <th>count</th>\n",
              "      <td>3650</td>\n",
              "      <td>3650</td>\n",
              "    </tr>\n",
              "    <tr>\n",
              "      <th>unique</th>\n",
              "      <td>3650</td>\n",
              "      <td>230</td>\n",
              "    </tr>\n",
              "    <tr>\n",
              "      <th>top</th>\n",
              "      <td>1987-10-28</td>\n",
              "      <td>10.0</td>\n",
              "    </tr>\n",
              "    <tr>\n",
              "      <th>freq</th>\n",
              "      <td>1</td>\n",
              "      <td>51</td>\n",
              "    </tr>\n",
              "  </tbody>\n",
              "</table>\n",
              "</div>"
            ],
            "text/plain": [
              "              Date  \\\n",
              "count         3650   \n",
              "unique        3650   \n",
              "top     1987-10-28   \n",
              "freq             1   \n",
              "\n",
              "       Daily minimum temperatures in Melbourne, Australia, 1981-1990  \n",
              "count                                                3650             \n",
              "unique                                                230             \n",
              "top                                                  10.0             \n",
              "freq                                                   51             "
            ]
          },
          "metadata": {
            "tags": []
          },
          "execution_count": 35
        }
      ]
    },
    {
      "metadata": {
        "id": "aBRTRybxDi3q",
        "colab_type": "code",
        "colab": {}
      },
      "cell_type": "code",
      "source": [
        "x_no_qm = [value[1].replace('?','') for value in df.values]\n",
        "x_train_float = np.array([float(x) for x in x_no_qm])\n",
        "x_train_norm = utils.normalize(x_train_float, axis=0, order=2)\n",
        "x_train_reshaped = np.reshape(x_train_norm, (x_train_norm.shape[1],1))"
      ],
      "execution_count": 0,
      "outputs": []
    },
    {
      "metadata": {
        "id": "ny0MaKMmDrxg",
        "colab_type": "code",
        "colab": {}
      },
      "cell_type": "code",
      "source": [
        "context_length = 3\n",
        "y_train = x_train_reshaped[context_length:,:]\n",
        "train_np_expanded = np.repeat(x_train_reshaped[:,np.newaxis], context_length, 1)\n",
        "for i in range(1,context_length):\n",
        "    train_np_expanded[:-i,i,:] = train_np_expanded[i:,i,:]\n",
        "x_train = train_np_expanded[:-context_length,:,:]"
      ],
      "execution_count": 0,
      "outputs": []
    },
    {
      "metadata": {
        "id": "U6R38zGLE1ir",
        "colab_type": "text"
      },
      "cell_type": "markdown",
      "source": [
        "# Model"
      ]
    },
    {
      "metadata": {
        "id": "dYGzCyNUE21v",
        "colab_type": "code",
        "colab": {}
      },
      "cell_type": "code",
      "source": [
        "def get_model(c):\n",
        "    model = Sequential()\n",
        "    model.add(LSTM(64, input_shape=(c,1), return_sequences=False))\n",
        "    model.add(Dense(1))\n",
        "    model.add(Activation(\"linear\"))\n",
        "    return model"
      ],
      "execution_count": 0,
      "outputs": []
    },
    {
      "metadata": {
        "id": "D1NUlaenE43R",
        "colab_type": "text"
      },
      "cell_type": "markdown",
      "source": [
        "# Experiment"
      ]
    },
    {
      "metadata": {
        "id": "BfG1OjJb8TbY",
        "colab_type": "code",
        "colab": {
          "base_uri": "https://localhost:8080/",
          "height": 238
        },
        "outputId": "38784fe1-ad40-4d29-bf85-8e772906b048"
      },
      "cell_type": "code",
      "source": [
        "model.summary()"
      ],
      "execution_count": 88,
      "outputs": [
        {
          "output_type": "stream",
          "text": [
            "_________________________________________________________________\n",
            "Layer (type)                 Output Shape              Param #   \n",
            "=================================================================\n",
            "lstm_3 (LSTM)                (None, 64)                16896     \n",
            "_________________________________________________________________\n",
            "dense_3 (Dense)              (None, 1)                 65        \n",
            "_________________________________________________________________\n",
            "activation_3 (Activation)    (None, 1)                 0         \n",
            "=================================================================\n",
            "Total params: 16,961\n",
            "Trainable params: 16,961\n",
            "Non-trainable params: 0\n",
            "_________________________________________________________________\n"
          ],
          "name": "stdout"
        }
      ]
    },
    {
      "metadata": {
        "id": "X73pKVl18Q_h",
        "colab_type": "code",
        "colab": {}
      },
      "cell_type": "code",
      "source": [
        "sgd = optimizers.SGD(lr=0.001, decay=1e-6, momentum=0.9, nesterov=True)\n",
        "model = get_model(context_length)\n",
        "#model.compile(loss='mean_squared_error', optimizer='rmsprop', metrics=['mse'])\n",
        "model.compile(loss='mean_squared_error', optimizer=sgd)"
      ],
      "execution_count": 0,
      "outputs": []
    },
    {
      "metadata": {
        "id": "LWOYF7Fn8UsF",
        "colab_type": "code",
        "colab": {
          "base_uri": "https://localhost:8080/",
          "height": 867
        },
        "outputId": "11b3b14c-743d-476a-c96c-c2779740574f"
      },
      "cell_type": "code",
      "source": [
        "history = model.fit(x_train, y_train, epochs=50)"
      ],
      "execution_count": 0,
      "outputs": [
        {
          "output_type": "stream",
          "text": [
            "Epoch 1/50\n",
            "3647/3647 [==============================] - 1s 337us/step - loss: 4.7413e-05\n",
            "Epoch 2/50\n",
            "3647/3647 [==============================] - 1s 322us/step - loss: 2.4719e-05\n",
            "Epoch 3/50\n",
            "3647/3647 [==============================] - 1s 284us/step - loss: 2.4718e-05\n",
            "Epoch 4/50\n",
            "3647/3647 [==============================] - 1s 285us/step - loss: 2.4711e-05\n",
            "Epoch 5/50\n",
            "3647/3647 [==============================] - 1s 261us/step - loss: 2.4720e-05\n",
            "Epoch 6/50\n",
            "3647/3647 [==============================] - 1s 262us/step - loss: 2.4710e-05\n",
            "Epoch 7/50\n",
            "3647/3647 [==============================] - 1s 273us/step - loss: 2.4727e-05\n",
            "Epoch 8/50\n",
            "3647/3647 [==============================] - 1s 281us/step - loss: 2.4698e-05\n",
            "Epoch 9/50\n",
            "3647/3647 [==============================] - 1s 292us/step - loss: 2.4723e-05\n",
            "Epoch 10/50\n",
            "3647/3647 [==============================] - 1s 279us/step - loss: 2.4719e-05\n",
            "Epoch 11/50\n",
            "  32/3647 [..............................] - ETA: 2s - loss: 1.8246e-05"
          ],
          "name": "stdout"
        },
        {
          "output_type": "stream",
          "text": [
            "3647/3647 [==============================] - 1s 267us/step - loss: 2.4698e-05\n",
            "Epoch 12/50\n",
            "3647/3647 [==============================] - 1s 296us/step - loss: 2.4715e-05\n",
            "Epoch 13/50\n",
            "3647/3647 [==============================] - 1s 291us/step - loss: 2.4707e-05\n",
            "Epoch 14/50\n",
            "3647/3647 [==============================] - 1s 286us/step - loss: 2.4699e-05\n",
            "Epoch 15/50\n",
            "3647/3647 [==============================] - 1s 285us/step - loss: 2.4705e-05\n",
            "Epoch 16/50\n",
            "3647/3647 [==============================] - 1s 263us/step - loss: 2.4700e-05\n",
            "Epoch 17/50\n",
            "3647/3647 [==============================] - 1s 256us/step - loss: 2.4722e-05\n",
            "Epoch 18/50\n",
            "3647/3647 [==============================] - 1s 258us/step - loss: 2.4700e-05\n",
            "Epoch 19/50\n",
            "3647/3647 [==============================] - 1s 260us/step - loss: 2.4699e-05\n",
            "Epoch 20/50\n",
            "3647/3647 [==============================] - 1s 290us/step - loss: 2.4709e-05\n",
            "Epoch 21/50\n",
            " 832/3647 [=====>........................] - ETA: 0s - loss: 2.6166e-05"
          ],
          "name": "stdout"
        },
        {
          "output_type": "stream",
          "text": [
            "3647/3647 [==============================] - 1s 267us/step - loss: 2.4691e-05\n",
            "Epoch 22/50\n",
            "3647/3647 [==============================] - 1s 246us/step - loss: 2.4698e-05\n",
            "Epoch 23/50\n",
            "3647/3647 [==============================] - 1s 280us/step - loss: 2.4691e-05\n",
            "Epoch 24/50\n",
            "3647/3647 [==============================] - 1s 302us/step - loss: 2.4692e-05\n",
            "Epoch 25/50\n",
            "  32/3647 [..............................] - ETA: 0s - loss: 1.9815e-05"
          ],
          "name": "stdout"
        }
      ]
    },
    {
      "metadata": {
        "id": "h1FrLEW28YxJ",
        "colab_type": "code",
        "colab": {
          "base_uri": "https://localhost:8080/",
          "height": 364
        },
        "outputId": "732a4df7-5edd-40b3-c4d0-6f07ec0ad0f1"
      },
      "cell_type": "code",
      "source": [
        "plt.plot(history.history['loss'])"
      ],
      "execution_count": 90,
      "outputs": [
        {
          "output_type": "execute_result",
          "data": {
            "text/plain": [
              "[<matplotlib.lines.Line2D at 0x7f891c348588>]"
            ]
          },
          "metadata": {
            "tags": []
          },
          "execution_count": 90
        },
        {
          "output_type": "display_data",
          "data": {
            "image/png": "[encoded data removed]",
            "text/plain": [
              "<matplotlib.figure.Figure at 0x7f891ccd8da0>"
            ]
          },
          "metadata": {
            "tags": []
          }
        }
      ]
    },
    {
      "metadata": {
        "id": "eBTng-1b8qnV",
        "colab_type": "code",
        "colab": {}
      },
      "cell_type": "code",
      "source": [
        ""
      ],
      "execution_count": 0,
      "outputs": []
    }
  ]
}